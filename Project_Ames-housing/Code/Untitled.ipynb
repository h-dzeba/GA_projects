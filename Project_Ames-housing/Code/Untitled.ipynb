{
 "cells": [
  {
   "cell_type": "code",
   "execution_count": 12,
   "id": "caaab41c",
   "metadata": {
    "ExecuteTime": {
     "end_time": "2022-01-05T05:24:26.132801Z",
     "start_time": "2022-01-05T05:24:26.115142Z"
    }
   },
   "outputs": [],
   "source": [
    "import pandas as pd\n",
    "import numpy.random as nr\n",
    "from sklearn.preprocessing import StandardScaler\n",
    "from sklearn.linear_model import LinearRegression\n",
    "df=pd.DataFrame(np.random.randint(100,size=(10,8)),\n",
    "                columns=list('ABCDEFGH'),\n",
    "                index=(f'R{i}' for i in range(10)))"
   ]
  },
  {
   "cell_type": "code",
   "execution_count": 68,
   "id": "35b17cb1",
   "metadata": {
    "ExecuteTime": {
     "end_time": "2022-01-05T06:23:44.445482Z",
     "start_time": "2022-01-05T06:23:44.432155Z"
    },
    "scrolled": true
   },
   "outputs": [
    {
     "data": {
      "text/html": [
       "<div>\n",
       "<style scoped>\n",
       "    .dataframe tbody tr th:only-of-type {\n",
       "        vertical-align: middle;\n",
       "    }\n",
       "\n",
       "    .dataframe tbody tr th {\n",
       "        vertical-align: top;\n",
       "    }\n",
       "\n",
       "    .dataframe thead th {\n",
       "        text-align: right;\n",
       "    }\n",
       "</style>\n",
       "<table border=\"1\" class=\"dataframe\">\n",
       "  <thead>\n",
       "    <tr style=\"text-align: right;\">\n",
       "      <th></th>\n",
       "      <th>A</th>\n",
       "      <th>B</th>\n",
       "      <th>C</th>\n",
       "      <th>D</th>\n",
       "      <th>E</th>\n",
       "      <th>F</th>\n",
       "      <th>G</th>\n",
       "      <th>H</th>\n",
       "    </tr>\n",
       "  </thead>\n",
       "  <tbody>\n",
       "    <tr>\n",
       "      <th>R0</th>\n",
       "      <td>23</td>\n",
       "      <td>59</td>\n",
       "      <td>51</td>\n",
       "      <td>78</td>\n",
       "      <td>60</td>\n",
       "      <td>31</td>\n",
       "      <td>34</td>\n",
       "      <td>48</td>\n",
       "    </tr>\n",
       "    <tr>\n",
       "      <th>R1</th>\n",
       "      <td>61</td>\n",
       "      <td>72</td>\n",
       "      <td>79</td>\n",
       "      <td>45</td>\n",
       "      <td>70</td>\n",
       "      <td>41</td>\n",
       "      <td>27</td>\n",
       "      <td>71</td>\n",
       "    </tr>\n",
       "    <tr>\n",
       "      <th>R2</th>\n",
       "      <td>65</td>\n",
       "      <td>60</td>\n",
       "      <td>72</td>\n",
       "      <td>79</td>\n",
       "      <td>5</td>\n",
       "      <td>97</td>\n",
       "      <td>46</td>\n",
       "      <td>39</td>\n",
       "    </tr>\n",
       "    <tr>\n",
       "      <th>R3</th>\n",
       "      <td>26</td>\n",
       "      <td>28</td>\n",
       "      <td>84</td>\n",
       "      <td>40</td>\n",
       "      <td>80</td>\n",
       "      <td>82</td>\n",
       "      <td>65</td>\n",
       "      <td>25</td>\n",
       "    </tr>\n",
       "    <tr>\n",
       "      <th>R4</th>\n",
       "      <td>31</td>\n",
       "      <td>74</td>\n",
       "      <td>23</td>\n",
       "      <td>90</td>\n",
       "      <td>61</td>\n",
       "      <td>21</td>\n",
       "      <td>28</td>\n",
       "      <td>73</td>\n",
       "    </tr>\n",
       "    <tr>\n",
       "      <th>R5</th>\n",
       "      <td>16</td>\n",
       "      <td>54</td>\n",
       "      <td>78</td>\n",
       "      <td>1</td>\n",
       "      <td>11</td>\n",
       "      <td>34</td>\n",
       "      <td>71</td>\n",
       "      <td>89</td>\n",
       "    </tr>\n",
       "    <tr>\n",
       "      <th>R6</th>\n",
       "      <td>44</td>\n",
       "      <td>7</td>\n",
       "      <td>30</td>\n",
       "      <td>25</td>\n",
       "      <td>28</td>\n",
       "      <td>49</td>\n",
       "      <td>74</td>\n",
       "      <td>87</td>\n",
       "    </tr>\n",
       "    <tr>\n",
       "      <th>R7</th>\n",
       "      <td>67</td>\n",
       "      <td>80</td>\n",
       "      <td>3</td>\n",
       "      <td>41</td>\n",
       "      <td>54</td>\n",
       "      <td>52</td>\n",
       "      <td>32</td>\n",
       "      <td>9</td>\n",
       "    </tr>\n",
       "    <tr>\n",
       "      <th>R8</th>\n",
       "      <td>29</td>\n",
       "      <td>79</td>\n",
       "      <td>20</td>\n",
       "      <td>31</td>\n",
       "      <td>13</td>\n",
       "      <td>32</td>\n",
       "      <td>24</td>\n",
       "      <td>32</td>\n",
       "    </tr>\n",
       "    <tr>\n",
       "      <th>R9</th>\n",
       "      <td>57</td>\n",
       "      <td>0</td>\n",
       "      <td>8</td>\n",
       "      <td>8</td>\n",
       "      <td>47</td>\n",
       "      <td>4</td>\n",
       "      <td>91</td>\n",
       "      <td>29</td>\n",
       "    </tr>\n",
       "  </tbody>\n",
       "</table>\n",
       "</div>"
      ],
      "text/plain": [
       "     A   B   C   D   E   F   G   H\n",
       "R0  23  59  51  78  60  31  34  48\n",
       "R1  61  72  79  45  70  41  27  71\n",
       "R2  65  60  72  79   5  97  46  39\n",
       "R3  26  28  84  40  80  82  65  25\n",
       "R4  31  74  23  90  61  21  28  73\n",
       "R5  16  54  78   1  11  34  71  89\n",
       "R6  44   7  30  25  28  49  74  87\n",
       "R7  67  80   3  41  54  52  32   9\n",
       "R8  29  79  20  31  13  32  24  32\n",
       "R9  57   0   8   8  47   4  91  29"
      ]
     },
     "execution_count": 68,
     "metadata": {},
     "output_type": "execute_result"
    }
   ],
   "source": [
    "df"
   ]
  },
  {
   "cell_type": "code",
   "execution_count": 71,
   "id": "dd683e43",
   "metadata": {
    "ExecuteTime": {
     "end_time": "2022-01-05T06:24:14.475079Z",
     "start_time": "2022-01-05T06:24:14.457806Z"
    }
   },
   "outputs": [
    {
     "data": {
      "text/html": [
       "<div>\n",
       "<style scoped>\n",
       "    .dataframe tbody tr th:only-of-type {\n",
       "        vertical-align: middle;\n",
       "    }\n",
       "\n",
       "    .dataframe tbody tr th {\n",
       "        vertical-align: top;\n",
       "    }\n",
       "\n",
       "    .dataframe thead th {\n",
       "        text-align: right;\n",
       "    }\n",
       "</style>\n",
       "<table border=\"1\" class=\"dataframe\">\n",
       "  <thead>\n",
       "    <tr style=\"text-align: right;\">\n",
       "      <th></th>\n",
       "      <th>A</th>\n",
       "      <th>B</th>\n",
       "      <th>C</th>\n",
       "      <th>D</th>\n",
       "      <th>E</th>\n",
       "      <th>F</th>\n",
       "      <th>G</th>\n",
       "    </tr>\n",
       "  </thead>\n",
       "  <tbody>\n",
       "    <tr>\n",
       "      <th>R0</th>\n",
       "      <td>23</td>\n",
       "      <td>59</td>\n",
       "      <td>51</td>\n",
       "      <td>78</td>\n",
       "      <td>60</td>\n",
       "      <td>31</td>\n",
       "      <td>34</td>\n",
       "    </tr>\n",
       "    <tr>\n",
       "      <th>R1</th>\n",
       "      <td>61</td>\n",
       "      <td>72</td>\n",
       "      <td>79</td>\n",
       "      <td>45</td>\n",
       "      <td>70</td>\n",
       "      <td>41</td>\n",
       "      <td>27</td>\n",
       "    </tr>\n",
       "    <tr>\n",
       "      <th>R2</th>\n",
       "      <td>65</td>\n",
       "      <td>60</td>\n",
       "      <td>72</td>\n",
       "      <td>79</td>\n",
       "      <td>5</td>\n",
       "      <td>97</td>\n",
       "      <td>46</td>\n",
       "    </tr>\n",
       "    <tr>\n",
       "      <th>R3</th>\n",
       "      <td>26</td>\n",
       "      <td>28</td>\n",
       "      <td>84</td>\n",
       "      <td>40</td>\n",
       "      <td>80</td>\n",
       "      <td>82</td>\n",
       "      <td>65</td>\n",
       "    </tr>\n",
       "    <tr>\n",
       "      <th>R4</th>\n",
       "      <td>31</td>\n",
       "      <td>74</td>\n",
       "      <td>23</td>\n",
       "      <td>90</td>\n",
       "      <td>61</td>\n",
       "      <td>21</td>\n",
       "      <td>28</td>\n",
       "    </tr>\n",
       "    <tr>\n",
       "      <th>R5</th>\n",
       "      <td>16</td>\n",
       "      <td>54</td>\n",
       "      <td>78</td>\n",
       "      <td>1</td>\n",
       "      <td>11</td>\n",
       "      <td>34</td>\n",
       "      <td>71</td>\n",
       "    </tr>\n",
       "    <tr>\n",
       "      <th>R6</th>\n",
       "      <td>44</td>\n",
       "      <td>7</td>\n",
       "      <td>30</td>\n",
       "      <td>25</td>\n",
       "      <td>28</td>\n",
       "      <td>49</td>\n",
       "      <td>74</td>\n",
       "    </tr>\n",
       "    <tr>\n",
       "      <th>R7</th>\n",
       "      <td>67</td>\n",
       "      <td>80</td>\n",
       "      <td>3</td>\n",
       "      <td>41</td>\n",
       "      <td>54</td>\n",
       "      <td>52</td>\n",
       "      <td>32</td>\n",
       "    </tr>\n",
       "    <tr>\n",
       "      <th>R8</th>\n",
       "      <td>29</td>\n",
       "      <td>79</td>\n",
       "      <td>20</td>\n",
       "      <td>31</td>\n",
       "      <td>13</td>\n",
       "      <td>32</td>\n",
       "      <td>24</td>\n",
       "    </tr>\n",
       "    <tr>\n",
       "      <th>R9</th>\n",
       "      <td>57</td>\n",
       "      <td>0</td>\n",
       "      <td>8</td>\n",
       "      <td>8</td>\n",
       "      <td>47</td>\n",
       "      <td>4</td>\n",
       "      <td>91</td>\n",
       "    </tr>\n",
       "  </tbody>\n",
       "</table>\n",
       "</div>"
      ],
      "text/plain": [
       "     A   B   C   D   E   F   G\n",
       "R0  23  59  51  78  60  31  34\n",
       "R1  61  72  79  45  70  41  27\n",
       "R2  65  60  72  79   5  97  46\n",
       "R3  26  28  84  40  80  82  65\n",
       "R4  31  74  23  90  61  21  28\n",
       "R5  16  54  78   1  11  34  71\n",
       "R6  44   7  30  25  28  49  74\n",
       "R7  67  80   3  41  54  52  32\n",
       "R8  29  79  20  31  13  32  24\n",
       "R9  57   0   8   8  47   4  91"
      ]
     },
     "execution_count": 71,
     "metadata": {},
     "output_type": "execute_result"
    }
   ],
   "source": [
    "X"
   ]
  },
  {
   "cell_type": "code",
   "execution_count": 70,
   "id": "1195a205",
   "metadata": {
    "ExecuteTime": {
     "end_time": "2022-01-05T06:24:11.273974Z",
     "start_time": "2022-01-05T06:24:11.263917Z"
    }
   },
   "outputs": [],
   "source": [
    "X = df.drop('H', axis=1)\n",
    "y = df['H']"
   ]
  },
  {
   "cell_type": "code",
   "execution_count": 72,
   "id": "555c91d8",
   "metadata": {
    "ExecuteTime": {
     "end_time": "2022-01-05T06:24:28.013649Z",
     "start_time": "2022-01-05T06:24:27.995576Z"
    }
   },
   "outputs": [],
   "source": [
    "mod = LinearRegression().fit(X,y)"
   ]
  },
  {
   "cell_type": "code",
   "execution_count": 73,
   "id": "9711f7a7",
   "metadata": {
    "ExecuteTime": {
     "end_time": "2022-01-05T06:24:30.608986Z",
     "start_time": "2022-01-05T06:24:30.593978Z"
    }
   },
   "outputs": [
    {
     "data": {
      "text/plain": [
       "0.4957484349858907"
      ]
     },
     "execution_count": 73,
     "metadata": {},
     "output_type": "execute_result"
    }
   ],
   "source": [
    "mod.score(X,y)"
   ]
  },
  {
   "cell_type": "code",
   "execution_count": 74,
   "id": "877a7cbc",
   "metadata": {
    "ExecuteTime": {
     "end_time": "2022-01-05T06:24:36.368458Z",
     "start_time": "2022-01-05T06:24:36.360011Z"
    }
   },
   "outputs": [
    {
     "data": {
      "text/plain": [
       "[('A', -0.039210659545003086),\n",
       " ('B', -0.47614903579684187),\n",
       " ('C', 0.6661599338984796),\n",
       " ('D', 0.18227987820623168),\n",
       " ('E', -0.4613625500254947),\n",
       " ('F', -0.7291106010300609),\n",
       " ('G', -0.4146821790979719)]"
      ]
     },
     "execution_count": 74,
     "metadata": {},
     "output_type": "execute_result"
    }
   ],
   "source": [
    "list(zip(df.columns,mod.coef_))"
   ]
  },
  {
   "cell_type": "code",
   "execution_count": 75,
   "id": "21ec40ec",
   "metadata": {
    "ExecuteTime": {
     "end_time": "2022-01-05T06:24:53.338502Z",
     "start_time": "2022-01-05T06:24:53.329424Z"
    }
   },
   "outputs": [
    {
     "name": "stdout",
     "output_type": "stream",
     "text": [
      "41.9\n",
      "18.239791665476883\n"
     ]
    }
   ],
   "source": [
    "print(df['A'].mean())\n",
    "print(np.std(df['A']))"
   ]
  },
  {
   "cell_type": "code",
   "execution_count": 76,
   "id": "fc86c80f",
   "metadata": {
    "ExecuteTime": {
     "end_time": "2022-01-05T06:24:54.541262Z",
     "start_time": "2022-01-05T06:24:54.530234Z"
    }
   },
   "outputs": [
    {
     "name": "stdout",
     "output_type": "stream",
     "text": [
      "41.9\n",
      "18.239791665476883\n"
     ]
    }
   ],
   "source": [
    "print(X['A'].mean())\n",
    "print(np.std(df['A']))"
   ]
  },
  {
   "cell_type": "code",
   "execution_count": null,
   "id": "aab31404",
   "metadata": {},
   "outputs": [],
   "source": [
    "sc.inverse_transform()"
   ]
  },
  {
   "cell_type": "code",
   "execution_count": 77,
   "id": "51256bbe",
   "metadata": {
    "ExecuteTime": {
     "end_time": "2022-01-05T06:24:58.498758Z",
     "start_time": "2022-01-05T06:24:58.486782Z"
    }
   },
   "outputs": [
    {
     "data": {
      "text/plain": [
       "R0    23\n",
       "R1    61\n",
       "R2    65\n",
       "R3    26\n",
       "R4    31\n",
       "R5    16\n",
       "R6    44\n",
       "R7    67\n",
       "R8    29\n",
       "R9    57\n",
       "Name: A, dtype: int32"
      ]
     },
     "execution_count": 77,
     "metadata": {},
     "output_type": "execute_result"
    }
   ],
   "source": [
    "df['A']"
   ]
  },
  {
   "cell_type": "code",
   "execution_count": 78,
   "id": "56f3894f",
   "metadata": {
    "ExecuteTime": {
     "end_time": "2022-01-05T06:24:59.809969Z",
     "start_time": "2022-01-05T06:24:59.793641Z"
    },
    "scrolled": true
   },
   "outputs": [
    {
     "data": {
      "text/plain": [
       "R0    23\n",
       "R1    61\n",
       "R2    65\n",
       "R3    26\n",
       "R4    31\n",
       "R5    16\n",
       "R6    44\n",
       "R7    67\n",
       "R8    29\n",
       "R9    57\n",
       "Name: A, dtype: int32"
      ]
     },
     "execution_count": 78,
     "metadata": {},
     "output_type": "execute_result"
    }
   ],
   "source": [
    "X['A']"
   ]
  },
  {
   "cell_type": "code",
   "execution_count": 85,
   "id": "c5bff456",
   "metadata": {
    "ExecuteTime": {
     "end_time": "2022-01-05T06:26:23.198833Z",
     "start_time": "2022-01-05T06:26:23.190670Z"
    }
   },
   "outputs": [
    {
     "data": {
      "text/plain": [
       "[('A', -0.7151942611668466),\n",
       " ('B', -13.31013289157757),\n",
       " ('C', 19.98213319955245),\n",
       " ('D', 5.218937444549578),\n",
       " ('E', -11.708887062345129),\n",
       " ('F', -19.141201621021743),\n",
       " ('G', -9.457663286113315)]"
      ]
     },
     "execution_count": 85,
     "metadata": {},
     "output_type": "execute_result"
    }
   ],
   "source": [
    "list(zip(df.columns,mod_sc.coef_))"
   ]
  },
  {
   "cell_type": "code",
   "execution_count": 86,
   "id": "7f29da11",
   "metadata": {
    "ExecuteTime": {
     "end_time": "2022-01-05T06:27:14.005606Z",
     "start_time": "2022-01-05T06:27:14.001697Z"
    }
   },
   "outputs": [
    {
     "data": {
      "text/plain": [
       "18.2397916654781"
      ]
     },
     "execution_count": 86,
     "metadata": {},
     "output_type": "execute_result"
    }
   ],
   "source": [
    "-0.7151942611668466/-0.039210659545003086"
   ]
  },
  {
   "cell_type": "code",
   "execution_count": 79,
   "id": "f04a327f",
   "metadata": {
    "ExecuteTime": {
     "end_time": "2022-01-05T06:25:16.648898Z",
     "start_time": "2022-01-05T06:25:16.630759Z"
    }
   },
   "outputs": [
    {
     "data": {
      "text/plain": [
       "[('A', -0.039210659545003086),\n",
       " ('B', -0.47614903579684187),\n",
       " ('C', 0.6661599338984796),\n",
       " ('D', 0.18227987820623168),\n",
       " ('E', -0.4613625500254947),\n",
       " ('F', -0.7291106010300609),\n",
       " ('G', -0.4146821790979719)]"
      ]
     },
     "execution_count": 79,
     "metadata": {},
     "output_type": "execute_result"
    }
   ],
   "source": [
    "list(zip(df.columns,mod.coef_))"
   ]
  },
  {
   "cell_type": "code",
   "execution_count": 80,
   "id": "fa7c88a4",
   "metadata": {
    "ExecuteTime": {
     "end_time": "2022-01-05T06:25:46.743631Z",
     "start_time": "2022-01-05T06:25:46.728546Z"
    }
   },
   "outputs": [],
   "source": [
    "sc = StandardScaler()\n",
    "X_sc = sc.fit_transform(X)"
   ]
  },
  {
   "cell_type": "code",
   "execution_count": 81,
   "id": "dc101476",
   "metadata": {
    "ExecuteTime": {
     "end_time": "2022-01-05T06:25:51.356390Z",
     "start_time": "2022-01-05T06:25:51.342567Z"
    }
   },
   "outputs": [],
   "source": [
    "mod_sc = LinearRegression().fit(X_sc, y)"
   ]
  },
  {
   "cell_type": "code",
   "execution_count": 82,
   "id": "b5de4020",
   "metadata": {
    "ExecuteTime": {
     "end_time": "2022-01-05T06:25:52.621770Z",
     "start_time": "2022-01-05T06:25:52.612771Z"
    }
   },
   "outputs": [
    {
     "data": {
      "text/plain": [
       "0.4957484349858906"
      ]
     },
     "execution_count": 82,
     "metadata": {},
     "output_type": "execute_result"
    }
   ],
   "source": [
    "mod_sc.score(X_sc, y)"
   ]
  },
  {
   "cell_type": "code",
   "execution_count": 83,
   "id": "fee53d89",
   "metadata": {
    "ExecuteTime": {
     "end_time": "2022-01-05T06:25:57.777976Z",
     "start_time": "2022-01-05T06:25:57.767013Z"
    }
   },
   "outputs": [
    {
     "data": {
      "text/html": [
       "<div>\n",
       "<style scoped>\n",
       "    .dataframe tbody tr th:only-of-type {\n",
       "        vertical-align: middle;\n",
       "    }\n",
       "\n",
       "    .dataframe tbody tr th {\n",
       "        vertical-align: top;\n",
       "    }\n",
       "\n",
       "    .dataframe thead th {\n",
       "        text-align: right;\n",
       "    }\n",
       "</style>\n",
       "<table border=\"1\" class=\"dataframe\">\n",
       "  <thead>\n",
       "    <tr style=\"text-align: right;\">\n",
       "      <th></th>\n",
       "      <th>A</th>\n",
       "      <th>B</th>\n",
       "      <th>C</th>\n",
       "      <th>D</th>\n",
       "      <th>E</th>\n",
       "      <th>F</th>\n",
       "      <th>G</th>\n",
       "    </tr>\n",
       "  </thead>\n",
       "  <tbody>\n",
       "    <tr>\n",
       "      <th>R0</th>\n",
       "      <td>23</td>\n",
       "      <td>59</td>\n",
       "      <td>51</td>\n",
       "      <td>78</td>\n",
       "      <td>60</td>\n",
       "      <td>31</td>\n",
       "      <td>34</td>\n",
       "    </tr>\n",
       "    <tr>\n",
       "      <th>R1</th>\n",
       "      <td>61</td>\n",
       "      <td>72</td>\n",
       "      <td>79</td>\n",
       "      <td>45</td>\n",
       "      <td>70</td>\n",
       "      <td>41</td>\n",
       "      <td>27</td>\n",
       "    </tr>\n",
       "    <tr>\n",
       "      <th>R2</th>\n",
       "      <td>65</td>\n",
       "      <td>60</td>\n",
       "      <td>72</td>\n",
       "      <td>79</td>\n",
       "      <td>5</td>\n",
       "      <td>97</td>\n",
       "      <td>46</td>\n",
       "    </tr>\n",
       "    <tr>\n",
       "      <th>R3</th>\n",
       "      <td>26</td>\n",
       "      <td>28</td>\n",
       "      <td>84</td>\n",
       "      <td>40</td>\n",
       "      <td>80</td>\n",
       "      <td>82</td>\n",
       "      <td>65</td>\n",
       "    </tr>\n",
       "    <tr>\n",
       "      <th>R4</th>\n",
       "      <td>31</td>\n",
       "      <td>74</td>\n",
       "      <td>23</td>\n",
       "      <td>90</td>\n",
       "      <td>61</td>\n",
       "      <td>21</td>\n",
       "      <td>28</td>\n",
       "    </tr>\n",
       "    <tr>\n",
       "      <th>R5</th>\n",
       "      <td>16</td>\n",
       "      <td>54</td>\n",
       "      <td>78</td>\n",
       "      <td>1</td>\n",
       "      <td>11</td>\n",
       "      <td>34</td>\n",
       "      <td>71</td>\n",
       "    </tr>\n",
       "    <tr>\n",
       "      <th>R6</th>\n",
       "      <td>44</td>\n",
       "      <td>7</td>\n",
       "      <td>30</td>\n",
       "      <td>25</td>\n",
       "      <td>28</td>\n",
       "      <td>49</td>\n",
       "      <td>74</td>\n",
       "    </tr>\n",
       "    <tr>\n",
       "      <th>R7</th>\n",
       "      <td>67</td>\n",
       "      <td>80</td>\n",
       "      <td>3</td>\n",
       "      <td>41</td>\n",
       "      <td>54</td>\n",
       "      <td>52</td>\n",
       "      <td>32</td>\n",
       "    </tr>\n",
       "    <tr>\n",
       "      <th>R8</th>\n",
       "      <td>29</td>\n",
       "      <td>79</td>\n",
       "      <td>20</td>\n",
       "      <td>31</td>\n",
       "      <td>13</td>\n",
       "      <td>32</td>\n",
       "      <td>24</td>\n",
       "    </tr>\n",
       "    <tr>\n",
       "      <th>R9</th>\n",
       "      <td>57</td>\n",
       "      <td>0</td>\n",
       "      <td>8</td>\n",
       "      <td>8</td>\n",
       "      <td>47</td>\n",
       "      <td>4</td>\n",
       "      <td>91</td>\n",
       "    </tr>\n",
       "  </tbody>\n",
       "</table>\n",
       "</div>"
      ],
      "text/plain": [
       "     A   B   C   D   E   F   G\n",
       "R0  23  59  51  78  60  31  34\n",
       "R1  61  72  79  45  70  41  27\n",
       "R2  65  60  72  79   5  97  46\n",
       "R3  26  28  84  40  80  82  65\n",
       "R4  31  74  23  90  61  21  28\n",
       "R5  16  54  78   1  11  34  71\n",
       "R6  44   7  30  25  28  49  74\n",
       "R7  67  80   3  41  54  52  32\n",
       "R8  29  79  20  31  13  32  24\n",
       "R9  57   0   8   8  47   4  91"
      ]
     },
     "execution_count": 83,
     "metadata": {},
     "output_type": "execute_result"
    }
   ],
   "source": [
    "X"
   ]
  },
  {
   "cell_type": "code",
   "execution_count": 84,
   "id": "95de9c99",
   "metadata": {
    "ExecuteTime": {
     "end_time": "2022-01-05T06:26:03.289236Z",
     "start_time": "2022-01-05T06:26:03.264508Z"
    }
   },
   "outputs": [
    {
     "data": {
      "text/html": [
       "<div>\n",
       "<style scoped>\n",
       "    .dataframe tbody tr th:only-of-type {\n",
       "        vertical-align: middle;\n",
       "    }\n",
       "\n",
       "    .dataframe tbody tr th {\n",
       "        vertical-align: top;\n",
       "    }\n",
       "\n",
       "    .dataframe thead th {\n",
       "        text-align: right;\n",
       "    }\n",
       "</style>\n",
       "<table border=\"1\" class=\"dataframe\">\n",
       "  <thead>\n",
       "    <tr style=\"text-align: right;\">\n",
       "      <th></th>\n",
       "      <th>A</th>\n",
       "      <th>B</th>\n",
       "      <th>C</th>\n",
       "      <th>D</th>\n",
       "      <th>E</th>\n",
       "      <th>F</th>\n",
       "      <th>G</th>\n",
       "    </tr>\n",
       "  </thead>\n",
       "  <tbody>\n",
       "    <tr>\n",
       "      <th>0</th>\n",
       "      <td>-1.036196</td>\n",
       "      <td>0.275455</td>\n",
       "      <td>0.206694</td>\n",
       "      <td>1.194491</td>\n",
       "      <td>0.673787</td>\n",
       "      <td>-0.506612</td>\n",
       "      <td>-0.666462</td>\n",
       "    </tr>\n",
       "    <tr>\n",
       "      <th>1</th>\n",
       "      <td>1.047161</td>\n",
       "      <td>0.740510</td>\n",
       "      <td>1.140152</td>\n",
       "      <td>0.041912</td>\n",
       "      <td>1.067815</td>\n",
       "      <td>-0.125701</td>\n",
       "      <td>-0.973385</td>\n",
       "    </tr>\n",
       "    <tr>\n",
       "      <th>2</th>\n",
       "      <td>1.266462</td>\n",
       "      <td>0.311229</td>\n",
       "      <td>0.906788</td>\n",
       "      <td>1.229417</td>\n",
       "      <td>-1.493365</td>\n",
       "      <td>2.007404</td>\n",
       "      <td>-0.140308</td>\n",
       "    </tr>\n",
       "    <tr>\n",
       "      <th>3</th>\n",
       "      <td>-0.871720</td>\n",
       "      <td>-0.833521</td>\n",
       "      <td>1.306841</td>\n",
       "      <td>-0.132721</td>\n",
       "      <td>1.461843</td>\n",
       "      <td>1.436037</td>\n",
       "      <td>0.692769</td>\n",
       "    </tr>\n",
       "    <tr>\n",
       "      <th>4</th>\n",
       "      <td>-0.597595</td>\n",
       "      <td>0.812057</td>\n",
       "      <td>-0.726764</td>\n",
       "      <td>1.613610</td>\n",
       "      <td>0.713190</td>\n",
       "      <td>-0.887524</td>\n",
       "      <td>-0.929539</td>\n",
       "    </tr>\n",
       "    <tr>\n",
       "      <th>5</th>\n",
       "      <td>-1.419972</td>\n",
       "      <td>0.096588</td>\n",
       "      <td>1.106814</td>\n",
       "      <td>-1.494860</td>\n",
       "      <td>-1.256948</td>\n",
       "      <td>-0.392339</td>\n",
       "      <td>0.955846</td>\n",
       "    </tr>\n",
       "    <tr>\n",
       "      <th>6</th>\n",
       "      <td>0.115133</td>\n",
       "      <td>-1.584763</td>\n",
       "      <td>-0.493399</td>\n",
       "      <td>-0.656621</td>\n",
       "      <td>-0.587101</td>\n",
       "      <td>0.179028</td>\n",
       "      <td>1.087385</td>\n",
       "    </tr>\n",
       "    <tr>\n",
       "      <th>7</th>\n",
       "      <td>1.376112</td>\n",
       "      <td>1.026697</td>\n",
       "      <td>-1.393519</td>\n",
       "      <td>-0.097795</td>\n",
       "      <td>0.437371</td>\n",
       "      <td>0.293302</td>\n",
       "      <td>-0.754154</td>\n",
       "    </tr>\n",
       "    <tr>\n",
       "      <th>8</th>\n",
       "      <td>-0.707245</td>\n",
       "      <td>0.990924</td>\n",
       "      <td>-0.826777</td>\n",
       "      <td>-0.447061</td>\n",
       "      <td>-1.178143</td>\n",
       "      <td>-0.468521</td>\n",
       "      <td>-1.104923</td>\n",
       "    </tr>\n",
       "    <tr>\n",
       "      <th>9</th>\n",
       "      <td>0.827860</td>\n",
       "      <td>-1.835177</td>\n",
       "      <td>-1.226830</td>\n",
       "      <td>-1.250373</td>\n",
       "      <td>0.161551</td>\n",
       "      <td>-1.535074</td>\n",
       "      <td>1.832769</td>\n",
       "    </tr>\n",
       "  </tbody>\n",
       "</table>\n",
       "</div>"
      ],
      "text/plain": [
       "          A         B         C         D         E         F         G\n",
       "0 -1.036196  0.275455  0.206694  1.194491  0.673787 -0.506612 -0.666462\n",
       "1  1.047161  0.740510  1.140152  0.041912  1.067815 -0.125701 -0.973385\n",
       "2  1.266462  0.311229  0.906788  1.229417 -1.493365  2.007404 -0.140308\n",
       "3 -0.871720 -0.833521  1.306841 -0.132721  1.461843  1.436037  0.692769\n",
       "4 -0.597595  0.812057 -0.726764  1.613610  0.713190 -0.887524 -0.929539\n",
       "5 -1.419972  0.096588  1.106814 -1.494860 -1.256948 -0.392339  0.955846\n",
       "6  0.115133 -1.584763 -0.493399 -0.656621 -0.587101  0.179028  1.087385\n",
       "7  1.376112  1.026697 -1.393519 -0.097795  0.437371  0.293302 -0.754154\n",
       "8 -0.707245  0.990924 -0.826777 -0.447061 -1.178143 -0.468521 -1.104923\n",
       "9  0.827860 -1.835177 -1.226830 -1.250373  0.161551 -1.535074  1.832769"
      ]
     },
     "execution_count": 84,
     "metadata": {},
     "output_type": "execute_result"
    }
   ],
   "source": [
    "Xsc=pd.DataFrame(data=X_sc, columns=X.columns)\n",
    "Xsc"
   ]
  },
  {
   "cell_type": "code",
   "execution_count": 64,
   "id": "d65c90c0",
   "metadata": {
    "ExecuteTime": {
     "end_time": "2022-01-05T06:09:33.462884Z",
     "start_time": "2022-01-05T06:09:33.445030Z"
    }
   },
   "outputs": [
    {
     "data": {
      "text/plain": [
       "41.9"
      ]
     },
     "execution_count": 64,
     "metadata": {},
     "output_type": "execute_result"
    }
   ],
   "source": [
    "np.mean(X['A'])"
   ]
  },
  {
   "cell_type": "code",
   "execution_count": null,
   "id": "d625a3cb",
   "metadata": {},
   "outputs": [],
   "source": []
  }
 ],
 "metadata": {
  "kernelspec": {
   "display_name": "Python 3",
   "language": "python",
   "name": "python3"
  },
  "language_info": {
   "codemirror_mode": {
    "name": "ipython",
    "version": 3
   },
   "file_extension": ".py",
   "mimetype": "text/x-python",
   "name": "python",
   "nbconvert_exporter": "python",
   "pygments_lexer": "ipython3",
   "version": "3.8.8"
  },
  "varInspector": {
   "cols": {
    "lenName": 16,
    "lenType": 16,
    "lenVar": 40
   },
   "kernels_config": {
    "python": {
     "delete_cmd_postfix": "",
     "delete_cmd_prefix": "del ",
     "library": "var_list.py",
     "varRefreshCmd": "print(var_dic_list())"
    },
    "r": {
     "delete_cmd_postfix": ") ",
     "delete_cmd_prefix": "rm(",
     "library": "var_list.r",
     "varRefreshCmd": "cat(var_dic_list()) "
    }
   },
   "types_to_exclude": [
    "module",
    "function",
    "builtin_function_or_method",
    "instance",
    "_Feature"
   ],
   "window_display": false
  }
 },
 "nbformat": 4,
 "nbformat_minor": 5
}
