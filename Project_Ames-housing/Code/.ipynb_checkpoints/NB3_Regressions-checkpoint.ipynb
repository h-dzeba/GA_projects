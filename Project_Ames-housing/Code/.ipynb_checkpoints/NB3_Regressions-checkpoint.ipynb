{
 "cells": [
  {
   "cell_type": "markdown",
   "id": "8a8e2977",
   "metadata": {},
   "source": [
    "## **Problem statement**"
   ]
  },
  {
   "cell_type": "markdown",
   "id": "609494e8",
   "metadata": {},
   "source": [
    "*10 years after the biggest housing and financial crises of our generation, real-estate is again starting to produce noticable yearly price gains. Some Tier 1 cities such as New York and San Francisco have already seen their housing prices break new highs and become unaffordable for most locals. Even some Tier 2 cities have joined the party fueled by low interest rates and become overbought according to conventional real-estate metrics.   \n",
    "A real- estate investment fund, known for its sound investing philosophy based on market fundamentals, has therefore hired us to develop a model that can accurately price houses in Tier 3 cities with which they were up-to-now unfamiliar with. According the them, the Tier 3 cities such as Ames, IA still provide good rental yields and make sense as investments from fundamental investing point of view. If the pricing model for Ames proves accurate and usable, the plan is to roll it out for Tier 3 citis nationwide.\n",
    "Another key deliverable in addition to a simple, interpretable model that prices houses in Ames would be a set of quantifiable factors determining those prices. As the goal of the fund is to maximize profits, they would need to know, once they buy a house, which features to invest in or upgrade in order to maximize the houses value before it is sold.*"
   ]
  },
  {
   "cell_type": "markdown",
   "id": "9b8d7802",
   "metadata": {},
   "source": [
    "<a id = \"Content\"><a/>\n",
    "### Content\n",
    "- [1.0 Import, functions, data loading](#1.0)\n",
    "- [2.0 Linear regression](#2.0)\n",
    "    - [2.1 Lin reg - dummify neighborhoods](#2.1)\n",
    "    - [2.2 Lin reg - undo deck/bsmnt transformations](#2.2)\n",
    "- [3.0 K-folds cross-validation](#3.0)\n",
    "- [4.0 Ridge regression](#4.0)\n",
    "- [5.0 Lasso regression](#5.0)\n",
    "- [6.0 Wrapper method search](#6.0)\n",
    "    - [6.1 Drop 9 features](#6.1)\n",
    "    - [6.2 Ridge and Lasso without 9 features](#6.2)\n",
    "    - [6.3 Drop 2, 3 and 4 features](#6.3)\n",
    "    - [6.4 Add back the 'yr_sold' column](#6.4)\n",
    "    - [6.5 Models summary](#6.5)\n",
    "- [7.0 Kaggle submissions](#7.0)\n",
    "    - [7.1 Kaggle submission No 1](#7.1)\n",
    "    - [7.2 Kaggle submission No 2](#7.2)\n",
    "    - [7.3 Kaggle submission No 3](#7.3)\n",
    "- [8.0 Model for Presentation](#8.0)\n",
    "    - [8.1 Value-added per house feature](#8.1)\n",
    "- [9.0 Outcomes and conclusions](#9.0)"
   ]
  },
  {
   "cell_type": "markdown",
   "id": "91b27939",
   "metadata": {},
   "source": [
    "<a id = '1.0'><a/>\n",
    "### 1.0 Import, functions, data loading\n",
    "* [Back to top](#Content)"
   ]
  },
  {
   "cell_type": "code",
   "execution_count": 1,
   "id": "393e6f6f",
   "metadata": {
    "ExecuteTime": {
     "end_time": "2022-01-06T05:35:48.244795Z",
     "start_time": "2022-01-06T05:35:46.442776Z"
    }
   },
   "outputs": [],
   "source": [
    "# Import libraries.\n",
    "import pandas as pd\n",
    "import numpy as np\n",
    "import seaborn as sns\n",
    "import matplotlib.pyplot as plt\n",
    "from sklearn.linear_model import LinearRegression, Ridge, RidgeCV, Lasso, LassoCV\n",
    "from sklearn.model_selection import train_test_split, cross_val_score, cross_val_predict\n",
    "from sklearn import metrics\n",
    "from sklearn.metrics import mean_squared_error, r2_score\n",
    "from sklearn.preprocessing import StandardScaler\n",
    "import statsmodels.api as sm\n",
    "import itertools\n",
    "import random\n",
    "\n",
    "plt.style.use('fivethirtyeight')\n",
    "sns.set(style = 'white')"
   ]
  },
  {
   "cell_type": "code",
   "execution_count": 2,
   "id": "b4fa974e",
   "metadata": {
    "ExecuteTime": {
     "end_time": "2022-01-06T05:35:48.260467Z",
     "start_time": "2022-01-06T05:35:48.246169Z"
    }
   },
   "outputs": [],
   "source": [
    "def optimal_features(n):\n",
    "    \"\"\"finds all the possible combinations with of n number of features and return the list\n",
    "    of features that had the highest r2 in ames dataset\n",
    "    \"\"\"\n",
    "    # create all the possible n-feature combinations\n",
    "    features2 = list(itertools.combinations(X.columns, n))\n",
    "    # sometimes the number of combinations can be in 10s of millions. check no more than\n",
    "    # 50 thousand ( this will only affect the 20-feature search. when we drop 2, 3, 4 features,\n",
    "    # the number of combinations is below 50 thousand)\n",
    "    if len(features2) > 50000:\n",
    "        features2 = random.sample(features2, 50000)\n",
    "        \n",
    "    r2max = 0 # set max r2 to zero\n",
    "    for i in features2:\n",
    "        Xtrain2 = Xtrain[list(i)] # make new feature list for the train and test set\n",
    "        Xtest2 = Xtest[list(i)]\n",
    "        model = LinearRegression().fit(Xtrain2, ytrain) #run a model based on the latest featues\n",
    "        if float(model.score(Xtest2, ytest)) > r2max: # if the r2 is the highest so far...\n",
    "            r2max = model.score(Xtest2, ytest) # reset the highest r2\n",
    "            best_f = list(i) # and reset the best feature list\n",
    "    #         best = zip(i,model.coef_) # and reset the best coefficients\n",
    "    print('best r2 is: ', round(r2max, 4), '\\n')\n",
    "    print(f'best {n}-feature group is:  {best_f}')\n",
    "    display('discarded features are: ', set(X.columns)-set(best_f))\n",
    "    return best_f\n",
    "    # display('coef are: ', list(best))"
   ]
  },
  {
   "cell_type": "code",
   "execution_count": 3,
   "id": "957b8742",
   "metadata": {
    "ExecuteTime": {
     "end_time": "2022-01-06T05:35:48.276015Z",
     "start_time": "2022-01-06T05:35:48.261360Z"
    }
   },
   "outputs": [],
   "source": [
    "def display_all(df):\n",
    "    '''temporarily increase display max and transpose the dateframe view\n",
    "    for enhanced readability\n",
    "    '''\n",
    "    with pd.option_context(\"display.max_rows\", 100, \"display.max_columns\", 100): \n",
    "        display(df.head(40).transpose())"
   ]
  },
  {
   "cell_type": "code",
   "execution_count": 4,
   "id": "216cf5d5",
   "metadata": {
    "ExecuteTime": {
     "end_time": "2022-01-06T05:35:48.292029Z",
     "start_time": "2022-01-06T05:35:48.278009Z"
    }
   },
   "outputs": [],
   "source": [
    "def resid_hgram(y_test, y_score):\n",
    "    # calculate the residuals\n",
    "    resid = np.exp(y_test) - np.exp(y_score)\n",
    "    #plot histogram\n",
    "    sns.displot(resid)\n",
    "    plt.title('Residual Histogram',fontsize=14, color='darkgoldenrod')\n",
    "    plt.xlabel('Residual value',fontsize=12, color='darkgoldenrod')\n",
    "    plt.ylabel('Frequency', fontsize=12, color='darkgoldenrod')\n",
    "    \n"
   ]
  },
  {
   "cell_type": "code",
   "execution_count": 5,
   "id": "c3680321",
   "metadata": {
    "ExecuteTime": {
     "end_time": "2022-01-06T05:35:48.307237Z",
     "start_time": "2022-01-06T05:35:48.293027Z"
    }
   },
   "outputs": [],
   "source": [
    "#add values to the barchart\n",
    "def addlabels(x,y):\n",
    "    \"\"\" given x (feature names) and y (their values), addlabels \n",
    "    adds brightly-colored values to a horizontal bar chart\n",
    "    \"\"\"\n",
    "    for i in range(len(x)):\n",
    "        plt.text(y[i], i, round(y[i]), va = 'center',bbox = dict(facecolor = 'chartreuse',\n",
    "                                                                 alpha =.8))"
   ]
  },
  {
   "cell_type": "code",
   "execution_count": 125,
   "id": "e9d558a5",
   "metadata": {
    "ExecuteTime": {
     "end_time": "2022-01-06T05:46:54.202643Z",
     "start_time": "2022-01-06T05:46:54.193422Z"
    }
   },
   "outputs": [],
   "source": [
    "# create horizontal bar chart from a portion of rows\n",
    "def partial_hbar(lst, ylabel):\n",
    "    \"\"\" lst - is a portion of dataframe's (pm) rows from which horizontal barplot \n",
    "    is to be created\n",
    "        ylabel - ylabel for the hbar plot\n",
    "    \"\"\"\n",
    "    pm_temp = pm[[pm.iloc[i]['feature'] in lst for i in range(len(pm))]]\n",
    "    plt.figure(figsize = (8, 5))\n",
    "    sns.barplot(data = pm_temp, y='feature', x='value_added', orient = 'h')\n",
    "    addlabels(pm_temp['feature'].reset_index(drop=True), pm_temp['value_added'].\n",
    "              reset_index(drop=True))\n",
    "    plt.title(\"Value added per feature\", fontsize=14, color='darkgoldenrod')\n",
    "    plt.xlabel(\"Value added ($)\", fontsize=12, color='darkgoldenrod')\n",
    "    plt.ylabel(ylabel, fontsize=13, color='darkgoldenrod')\n",
    "    plt.show()"
   ]
  },
  {
   "cell_type": "code",
   "execution_count": 7,
   "id": "b3342e82",
   "metadata": {
    "ExecuteTime": {
     "end_time": "2022-01-06T05:35:48.354782Z",
     "start_time": "2022-01-06T05:35:48.324683Z"
    }
   },
   "outputs": [],
   "source": [
    "# read in the transformed datasets\n",
    "ames = pd.read_csv('../datasets/train_cat&num_clean.csv')\n",
    "ames2 = pd.read_csv('../datasets/test_cat&num_clean.csv')"
   ]
  },
  {
   "cell_type": "code",
   "execution_count": 8,
   "id": "da71414d",
   "metadata": {
    "ExecuteTime": {
     "end_time": "2022-01-06T05:35:48.386370Z",
     "start_time": "2022-01-06T05:35:48.355882Z"
    },
    "scrolled": true
   },
   "outputs": [
    {
     "data": {
      "text/html": [
       "<div>\n",
       "<style scoped>\n",
       "    .dataframe tbody tr th:only-of-type {\n",
       "        vertical-align: middle;\n",
       "    }\n",
       "\n",
       "    .dataframe tbody tr th {\n",
       "        vertical-align: top;\n",
       "    }\n",
       "\n",
       "    .dataframe thead th {\n",
       "        text-align: right;\n",
       "    }\n",
       "</style>\n",
       "<table border=\"1\" class=\"dataframe\">\n",
       "  <thead>\n",
       "    <tr style=\"text-align: right;\">\n",
       "      <th></th>\n",
       "      <th>lotarea</th>\n",
       "      <th>neighborhood</th>\n",
       "      <th>overallqual</th>\n",
       "      <th>overallcond</th>\n",
       "      <th>totalbsmtsf</th>\n",
       "      <th>grlivarea</th>\n",
       "      <th>kitchenqual</th>\n",
       "      <th>paveddrive</th>\n",
       "      <th>yrsold</th>\n",
       "      <th>saleprice</th>\n",
       "      <th>...</th>\n",
       "      <th>cncrt_found</th>\n",
       "      <th>bsmt_ord</th>\n",
       "      <th>heatingqc_dum</th>\n",
       "      <th>cent_air_dum</th>\n",
       "      <th>garage_ord</th>\n",
       "      <th>fireplace_ord</th>\n",
       "      <th>lotfrontage_imp</th>\n",
       "      <th>remodel_age</th>\n",
       "      <th>tot_bath</th>\n",
       "      <th>deckporcharea</th>\n",
       "    </tr>\n",
       "  </thead>\n",
       "  <tbody>\n",
       "    <tr>\n",
       "      <th>0</th>\n",
       "      <td>9.511703</td>\n",
       "      <td>1</td>\n",
       "      <td>6</td>\n",
       "      <td>8</td>\n",
       "      <td>6.587550</td>\n",
       "      <td>7.299121</td>\n",
       "      <td>2</td>\n",
       "      <td>1</td>\n",
       "      <td>2010</td>\n",
       "      <td>11.779129</td>\n",
       "      <td>...</td>\n",
       "      <td>0</td>\n",
       "      <td>2.75</td>\n",
       "      <td>1</td>\n",
       "      <td>1</td>\n",
       "      <td>1.67</td>\n",
       "      <td>0.0</td>\n",
       "      <td>81.889336</td>\n",
       "      <td>6</td>\n",
       "      <td>2.5</td>\n",
       "      <td>3.806662</td>\n",
       "    </tr>\n",
       "    <tr>\n",
       "      <th>1</th>\n",
       "      <td>9.349406</td>\n",
       "      <td>3</td>\n",
       "      <td>7</td>\n",
       "      <td>5</td>\n",
       "      <td>6.817831</td>\n",
       "      <td>7.660114</td>\n",
       "      <td>2</td>\n",
       "      <td>1</td>\n",
       "      <td>2009</td>\n",
       "      <td>12.301383</td>\n",
       "      <td>...</td>\n",
       "      <td>1</td>\n",
       "      <td>3.00</td>\n",
       "      <td>1</td>\n",
       "      <td>1</td>\n",
       "      <td>1.67</td>\n",
       "      <td>1.0</td>\n",
       "      <td>43.000000</td>\n",
       "      <td>14</td>\n",
       "      <td>3.5</td>\n",
       "      <td>4.317488</td>\n",
       "    </tr>\n",
       "    <tr>\n",
       "      <th>2</th>\n",
       "      <td>8.977399</td>\n",
       "      <td>1</td>\n",
       "      <td>5</td>\n",
       "      <td>7</td>\n",
       "      <td>6.964136</td>\n",
       "      <td>6.963190</td>\n",
       "      <td>2</td>\n",
       "      <td>1</td>\n",
       "      <td>2010</td>\n",
       "      <td>11.599103</td>\n",
       "      <td>...</td>\n",
       "      <td>0</td>\n",
       "      <td>2.75</td>\n",
       "      <td>0</td>\n",
       "      <td>1</td>\n",
       "      <td>0.67</td>\n",
       "      <td>0.0</td>\n",
       "      <td>68.000000</td>\n",
       "      <td>4</td>\n",
       "      <td>2.0</td>\n",
       "      <td>3.970292</td>\n",
       "    </tr>\n",
       "    <tr>\n",
       "      <th>3</th>\n",
       "      <td>9.190342</td>\n",
       "      <td>3</td>\n",
       "      <td>5</td>\n",
       "      <td>5</td>\n",
       "      <td>5.953243</td>\n",
       "      <td>7.275172</td>\n",
       "      <td>1</td>\n",
       "      <td>1</td>\n",
       "      <td>2010</td>\n",
       "      <td>12.066811</td>\n",
       "      <td>...</td>\n",
       "      <td>1</td>\n",
       "      <td>2.00</td>\n",
       "      <td>0</td>\n",
       "      <td>1</td>\n",
       "      <td>2.00</td>\n",
       "      <td>0.0</td>\n",
       "      <td>73.000000</td>\n",
       "      <td>4</td>\n",
       "      <td>2.5</td>\n",
       "      <td>4.615121</td>\n",
       "    </tr>\n",
       "    <tr>\n",
       "      <th>4</th>\n",
       "      <td>9.563459</td>\n",
       "      <td>3</td>\n",
       "      <td>6</td>\n",
       "      <td>8</td>\n",
       "      <td>6.517671</td>\n",
       "      <td>7.275865</td>\n",
       "      <td>1</td>\n",
       "      <td>0</td>\n",
       "      <td>2010</td>\n",
       "      <td>11.838626</td>\n",
       "      <td>...</td>\n",
       "      <td>1</td>\n",
       "      <td>1.75</td>\n",
       "      <td>0</td>\n",
       "      <td>1</td>\n",
       "      <td>1.00</td>\n",
       "      <td>0.0</td>\n",
       "      <td>82.000000</td>\n",
       "      <td>18</td>\n",
       "      <td>2.0</td>\n",
       "      <td>4.094345</td>\n",
       "    </tr>\n",
       "  </tbody>\n",
       "</table>\n",
       "<p>5 rows × 30 columns</p>\n",
       "</div>"
      ],
      "text/plain": [
       "    lotarea  neighborhood  overallqual  overallcond  totalbsmtsf  grlivarea  \\\n",
       "0  9.511703             1            6            8     6.587550   7.299121   \n",
       "1  9.349406             3            7            5     6.817831   7.660114   \n",
       "2  8.977399             1            5            7     6.964136   6.963190   \n",
       "3  9.190342             3            5            5     5.953243   7.275172   \n",
       "4  9.563459             3            6            8     6.517671   7.275865   \n",
       "\n",
       "   kitchenqual  paveddrive  yrsold  saleprice  ...  cncrt_found  bsmt_ord  \\\n",
       "0            2           1    2010  11.779129  ...            0      2.75   \n",
       "1            2           1    2009  12.301383  ...            1      3.00   \n",
       "2            2           1    2010  11.599103  ...            0      2.75   \n",
       "3            1           1    2010  12.066811  ...            1      2.00   \n",
       "4            1           0    2010  11.838626  ...            1      1.75   \n",
       "\n",
       "   heatingqc_dum  cent_air_dum  garage_ord  fireplace_ord  lotfrontage_imp  \\\n",
       "0              1             1        1.67            0.0        81.889336   \n",
       "1              1             1        1.67            1.0        43.000000   \n",
       "2              0             1        0.67            0.0        68.000000   \n",
       "3              0             1        2.00            0.0        73.000000   \n",
       "4              0             1        1.00            0.0        82.000000   \n",
       "\n",
       "   remodel_age  tot_bath  deckporcharea  \n",
       "0            6       2.5       3.806662  \n",
       "1           14       3.5       4.317488  \n",
       "2            4       2.0       3.970292  \n",
       "3            4       2.5       4.615121  \n",
       "4           18       2.0       4.094345  \n",
       "\n",
       "[5 rows x 30 columns]"
      ]
     },
     "execution_count": 8,
     "metadata": {},
     "output_type": "execute_result"
    }
   ],
   "source": [
    "ames.head()"
   ]
  },
  {
   "cell_type": "code",
   "execution_count": 9,
   "id": "ac1a1183",
   "metadata": {
    "ExecuteTime": {
     "end_time": "2022-01-06T05:35:48.401095Z",
     "start_time": "2022-01-06T05:35:48.387399Z"
    }
   },
   "outputs": [
    {
     "data": {
      "text/plain": [
       "(2043, 30)"
      ]
     },
     "execution_count": 9,
     "metadata": {},
     "output_type": "execute_result"
    }
   ],
   "source": [
    "ames.shape"
   ]
  },
  {
   "cell_type": "code",
   "execution_count": 10,
   "id": "971c4f84",
   "metadata": {
    "ExecuteTime": {
     "end_time": "2022-01-06T05:35:48.417057Z",
     "start_time": "2022-01-06T05:35:48.404030Z"
    }
   },
   "outputs": [],
   "source": [
    "# temporarily drop yrsold column by saving it to a variable yr and yr2\n",
    "yr = ames[['yrsold']]\n",
    "yr2 = ames2[['yrsold']]\n",
    "ames.drop('yrsold', axis=1, inplace=True)\n",
    "ames2.drop('yrsold', axis=1, inplace=True)"
   ]
  },
  {
   "cell_type": "code",
   "execution_count": 11,
   "id": "91b6d194",
   "metadata": {
    "ExecuteTime": {
     "end_time": "2022-01-06T05:35:48.433011Z",
     "start_time": "2022-01-06T05:35:48.417994Z"
    }
   },
   "outputs": [
    {
     "name": "stdout",
     "output_type": "stream",
     "text": [
      "0\n",
      "0\n"
     ]
    }
   ],
   "source": [
    "# make sure no null values before models are run\n",
    "print(ames.isnull().sum().sum())\n",
    "print(ames2.isnull().sum().sum())"
   ]
  },
  {
   "cell_type": "markdown",
   "id": "b4a75511",
   "metadata": {},
   "source": [
    "<a id = '2.0'><a/>\n",
    "### 2.0 Linear regression\n",
    "* [Back to top](#Content)"
   ]
  },
  {
   "cell_type": "code",
   "execution_count": 12,
   "id": "21fbffc2",
   "metadata": {
    "ExecuteTime": {
     "end_time": "2022-01-06T05:35:48.448283Z",
     "start_time": "2022-01-06T05:35:48.434683Z"
    }
   },
   "outputs": [],
   "source": [
    "#train, test, split\n",
    "X = ames.drop('saleprice', axis=1)\n",
    "y = ames['saleprice']\n",
    "Xtrain, Xtest, ytrain, ytest = train_test_split(X, y, random_state=42)\n",
    "\n"
   ]
  },
  {
   "cell_type": "code",
   "execution_count": 13,
   "id": "92b69170",
   "metadata": {
    "ExecuteTime": {
     "end_time": "2022-01-06T05:35:48.463478Z",
     "start_time": "2022-01-06T05:35:48.450113Z"
    }
   },
   "outputs": [
    {
     "data": {
      "text/plain": [
       "(2043, 28)"
      ]
     },
     "execution_count": 13,
     "metadata": {},
     "output_type": "execute_result"
    }
   ],
   "source": [
    "X.shape"
   ]
  },
  {
   "cell_type": "code",
   "execution_count": 14,
   "id": "c272f421",
   "metadata": {
    "ExecuteTime": {
     "end_time": "2022-01-06T05:35:48.478789Z",
     "start_time": "2022-01-06T05:35:48.464260Z"
    }
   },
   "outputs": [
    {
     "name": "stdout",
     "output_type": "stream",
     "text": [
      "Baseline model r2 (should be zero) -0.0241\n",
      "Baseline model rmse 81570\n"
     ]
    }
   ],
   "source": [
    "# first, run a baseline model, by inserting the mean house price for every prediction. rmse\n",
    "# will be the benchmark versus which we'll be able to tell if our models adds value (the lower\n",
    "# the better)\n",
    "ave = np.exp(ytrain.mean())\n",
    "yhat = [ave]*len(ytest)\n",
    "print('Baseline model r2 (should be zero)', round(r2_score(np.exp(ytest), yhat),4))\n",
    "print('Baseline model rmse', round(mean_squared_error(np.exp(ytest), yhat, squared=False)))"
   ]
  },
  {
   "cell_type": "code",
   "execution_count": 15,
   "id": "87a78d09",
   "metadata": {
    "ExecuteTime": {
     "end_time": "2022-01-06T05:35:48.525278Z",
     "start_time": "2022-01-06T05:35:48.479783Z"
    }
   },
   "outputs": [
    {
     "name": "stdout",
     "output_type": "stream",
     "text": [
      "r2 from train data 0.898\n",
      "r2 from test data 0.894\n",
      "rmse from test data 26173\n"
     ]
    }
   ],
   "source": [
    "# run Lin Reg\n",
    "lr_base = LinearRegression().fit(Xtrain, ytrain)\n",
    "#predict values\n",
    "yhat = lr_base.predict(Xtest)\n",
    "\n",
    "print('r2 from train data', round(lr_base.score(Xtrain, ytrain), 3))\n",
    "print('r2 from test data', round(lr_base.score(Xtest, ytest), 3))\n",
    "\n",
    "# next get rmse. to make it meaningful and interpretable, the dependent variable should \n",
    "# revert to its original form\n",
    "print('rmse from test data',round(mean_squared_error(np.exp(ytest), np.exp(yhat), squared=False)))"
   ]
  },
  {
   "cell_type": "code",
   "execution_count": 16,
   "id": "8c0b683d",
   "metadata": {
    "ExecuteTime": {
     "end_time": "2022-01-06T05:35:48.540866Z",
     "start_time": "2022-01-06T05:35:48.526428Z"
    },
    "scrolled": true
   },
   "outputs": [
    {
     "data": {
      "text/plain": [
       "0.895"
      ]
     },
     "execution_count": 16,
     "metadata": {},
     "output_type": "execute_result"
    }
   ],
   "source": [
    "round(r2_score(np.exp(ytest), np.exp(yhat)),3)"
   ]
  },
  {
   "cell_type": "code",
   "execution_count": 17,
   "id": "5a92b89b",
   "metadata": {
    "ExecuteTime": {
     "end_time": "2022-01-06T05:35:48.901010Z",
     "start_time": "2022-01-06T05:35:48.542045Z"
    }
   },
   "outputs": [
    {
     "data": {
      "image/png": "[encoded data removed]",
      "text/plain": [
       "<Figure size 360x360 with 1 Axes>"
      ]
     },
     "metadata": {},
     "output_type": "display_data"
    }
   ],
   "source": [
    "resid_hgram(ytest, yhat)"
   ]
  },
  {
   "cell_type": "code",
   "execution_count": 18,
   "id": "0412b2c7",
   "metadata": {
    "ExecuteTime": {
     "end_time": "2022-01-06T05:35:48.931318Z",
     "start_time": "2022-01-06T05:35:48.902014Z"
    }
   },
   "outputs": [],
   "source": [
    "# ran linear regression again on statsmodel for its summary statistics page\n",
    "X2 = sm.add_constant(X)\n",
    "lr_base_sm = sm.OLS(y, X2)\n",
    "res = lr_base_sm.fit()"
   ]
  },
  {
   "cell_type": "code",
   "execution_count": 19,
   "id": "05d8a5b0",
   "metadata": {
    "ExecuteTime": {
     "end_time": "2022-01-06T05:35:48.962383Z",
     "start_time": "2022-01-06T05:35:48.932315Z"
    }
   },
   "outputs": [
    {
     "data": {
      "text/html": [
       "<table class=\"simpletable\">\n",
       "<caption>OLS Regression Results</caption>\n",
       "<tr>\n",
       "  <th>Dep. Variable:</th>        <td>saleprice</td>    <th>  R-squared:         </th> <td>   0.898</td>\n",
       "</tr>\n",
       "<tr>\n",
       "  <th>Model:</th>                   <td>OLS</td>       <th>  Adj. R-squared:    </th> <td>   0.897</td>\n",
       "</tr>\n",
       "<tr>\n",
       "  <th>Method:</th>             <td>Least Squares</td>  <th>  F-statistic:       </th> <td>   634.7</td>\n",
       "</tr>\n",
       "<tr>\n",
       "  <th>Date:</th>             <td>Thu, 06 Jan 2022</td> <th>  Prob (F-statistic):</th>  <td>  0.00</td> \n",
       "</tr>\n",
       "<tr>\n",
       "  <th>Time:</th>                 <td>13:35:48</td>     <th>  Log-Likelihood:    </th> <td>  1251.7</td>\n",
       "</tr>\n",
       "<tr>\n",
       "  <th>No. Observations:</th>      <td>  2043</td>      <th>  AIC:               </th> <td>  -2445.</td>\n",
       "</tr>\n",
       "<tr>\n",
       "  <th>Df Residuals:</th>          <td>  2014</td>      <th>  BIC:               </th> <td>  -2282.</td>\n",
       "</tr>\n",
       "<tr>\n",
       "  <th>Df Model:</th>              <td>    28</td>      <th>                     </th>     <td> </td>   \n",
       "</tr>\n",
       "<tr>\n",
       "  <th>Covariance Type:</th>      <td>nonrobust</td>    <th>                     </th>     <td> </td>   \n",
       "</tr>\n",
       "</table>\n",
       "<table class=\"simpletable\">\n",
       "<tr>\n",
       "         <td></td>            <th>coef</th>     <th>std err</th>      <th>t</th>      <th>P>|t|</th>  <th>[0.025</th>    <th>0.975]</th>  \n",
       "</tr>\n",
       "<tr>\n",
       "  <th>const</th>           <td>    6.8198</td> <td>    0.121</td> <td>   56.277</td> <td> 0.000</td> <td>    6.582</td> <td>    7.057</td>\n",
       "</tr>\n",
       "<tr>\n",
       "  <th>lotarea</th>         <td>    0.0934</td> <td>    0.010</td> <td>    9.288</td> <td> 0.000</td> <td>    0.074</td> <td>    0.113</td>\n",
       "</tr>\n",
       "<tr>\n",
       "  <th>neighborhood</th>    <td>    0.0058</td> <td>    0.004</td> <td>    1.403</td> <td> 0.161</td> <td>   -0.002</td> <td>    0.014</td>\n",
       "</tr>\n",
       "<tr>\n",
       "  <th>overallqual</th>     <td>    0.0761</td> <td>    0.004</td> <td>   19.631</td> <td> 0.000</td> <td>    0.069</td> <td>    0.084</td>\n",
       "</tr>\n",
       "<tr>\n",
       "  <th>overallcond</th>     <td>    0.0370</td> <td>    0.003</td> <td>   11.832</td> <td> 0.000</td> <td>    0.031</td> <td>    0.043</td>\n",
       "</tr>\n",
       "<tr>\n",
       "  <th>totalbsmtsf</th>     <td>    0.0012</td> <td>    0.003</td> <td>    0.359</td> <td> 0.720</td> <td>   -0.005</td> <td>    0.008</td>\n",
       "</tr>\n",
       "<tr>\n",
       "  <th>grlivarea</th>       <td>    0.4082</td> <td>    0.017</td> <td>   24.442</td> <td> 0.000</td> <td>    0.375</td> <td>    0.441</td>\n",
       "</tr>\n",
       "<tr>\n",
       "  <th>kitchenqual</th>     <td>    0.0465</td> <td>    0.007</td> <td>    6.824</td> <td> 0.000</td> <td>    0.033</td> <td>    0.060</td>\n",
       "</tr>\n",
       "<tr>\n",
       "  <th>paveddrive</th>      <td>    0.0880</td> <td>    0.012</td> <td>    7.330</td> <td> 0.000</td> <td>    0.064</td> <td>    0.111</td>\n",
       "</tr>\n",
       "<tr>\n",
       "  <th>zone_FV</th>         <td>    0.1938</td> <td>    0.028</td> <td>    6.992</td> <td> 0.000</td> <td>    0.139</td> <td>    0.248</td>\n",
       "</tr>\n",
       "<tr>\n",
       "  <th>zone_RL</th>         <td>    0.1360</td> <td>    0.024</td> <td>    5.750</td> <td> 0.000</td> <td>    0.090</td> <td>    0.182</td>\n",
       "</tr>\n",
       "<tr>\n",
       "  <th>zone_RM</th>         <td>    0.0816</td> <td>    0.024</td> <td>    3.369</td> <td> 0.001</td> <td>    0.034</td> <td>    0.129</td>\n",
       "</tr>\n",
       "<tr>\n",
       "  <th>lotshape_irr</th>    <td>    0.0046</td> <td>    0.007</td> <td>    0.683</td> <td> 0.495</td> <td>   -0.009</td> <td>    0.018</td>\n",
       "</tr>\n",
       "<tr>\n",
       "  <th>near_busy_st</th>    <td>   -0.0393</td> <td>    0.011</td> <td>   -3.624</td> <td> 0.000</td> <td>   -0.060</td> <td>   -0.018</td>\n",
       "</tr>\n",
       "<tr>\n",
       "  <th>non_1fam</th>        <td>   -0.0071</td> <td>    0.012</td> <td>   -0.596</td> <td> 0.551</td> <td>   -0.031</td> <td>    0.016</td>\n",
       "</tr>\n",
       "<tr>\n",
       "  <th>2plus_fl</th>        <td>   -0.0640</td> <td>    0.008</td> <td>   -7.815</td> <td> 0.000</td> <td>   -0.080</td> <td>   -0.048</td>\n",
       "</tr>\n",
       "<tr>\n",
       "  <th>hip_roof</th>        <td>    0.0373</td> <td>    0.008</td> <td>    4.703</td> <td> 0.000</td> <td>    0.022</td> <td>    0.053</td>\n",
       "</tr>\n",
       "<tr>\n",
       "  <th>ext_ord</th>         <td>    0.0068</td> <td>    0.004</td> <td>    1.685</td> <td> 0.092</td> <td>   -0.001</td> <td>    0.015</td>\n",
       "</tr>\n",
       "<tr>\n",
       "  <th>has_veneer</th>      <td>    0.0132</td> <td>    0.007</td> <td>    1.870</td> <td> 0.062</td> <td>   -0.001</td> <td>    0.027</td>\n",
       "</tr>\n",
       "<tr>\n",
       "  <th>cncrt_found</th>     <td>    0.0521</td> <td>    0.009</td> <td>    5.509</td> <td> 0.000</td> <td>    0.034</td> <td>    0.071</td>\n",
       "</tr>\n",
       "<tr>\n",
       "  <th>bsmt_ord</th>        <td>    0.0639</td> <td>    0.005</td> <td>   12.360</td> <td> 0.000</td> <td>    0.054</td> <td>    0.074</td>\n",
       "</tr>\n",
       "<tr>\n",
       "  <th>heatingqc_dum</th>   <td>    0.0148</td> <td>    0.008</td> <td>    1.933</td> <td> 0.053</td> <td>   -0.000</td> <td>    0.030</td>\n",
       "</tr>\n",
       "<tr>\n",
       "  <th>cent_air_dum</th>    <td>    0.0708</td> <td>    0.014</td> <td>    5.178</td> <td> 0.000</td> <td>    0.044</td> <td>    0.098</td>\n",
       "</tr>\n",
       "<tr>\n",
       "  <th>garage_ord</th>      <td>    0.0540</td> <td>    0.009</td> <td>    5.973</td> <td> 0.000</td> <td>    0.036</td> <td>    0.072</td>\n",
       "</tr>\n",
       "<tr>\n",
       "  <th>fireplace_ord</th>   <td>    0.0351</td> <td>    0.006</td> <td>    5.701</td> <td> 0.000</td> <td>    0.023</td> <td>    0.047</td>\n",
       "</tr>\n",
       "<tr>\n",
       "  <th>lotfrontage_imp</th> <td>    0.0002</td> <td>    0.000</td> <td>    0.841</td> <td> 0.401</td> <td>   -0.000</td> <td>    0.001</td>\n",
       "</tr>\n",
       "<tr>\n",
       "  <th>remodel_age</th>     <td>   -0.0007</td> <td>    0.000</td> <td>   -2.952</td> <td> 0.003</td> <td>   -0.001</td> <td>   -0.000</td>\n",
       "</tr>\n",
       "<tr>\n",
       "  <th>tot_bath</th>        <td>    0.0355</td> <td>    0.006</td> <td>    5.879</td> <td> 0.000</td> <td>    0.024</td> <td>    0.047</td>\n",
       "</tr>\n",
       "<tr>\n",
       "  <th>deckporcharea</th>   <td>    0.0006</td> <td>    0.002</td> <td>    0.367</td> <td> 0.714</td> <td>   -0.002</td> <td>    0.004</td>\n",
       "</tr>\n",
       "</table>\n",
       "<table class=\"simpletable\">\n",
       "<tr>\n",
       "  <th>Omnibus:</th>       <td>965.463</td> <th>  Durbin-Watson:     </th> <td>   1.960</td> \n",
       "</tr>\n",
       "<tr>\n",
       "  <th>Prob(Omnibus):</th> <td> 0.000</td>  <th>  Jarque-Bera (JB):  </th> <td>21759.541</td>\n",
       "</tr>\n",
       "<tr>\n",
       "  <th>Skew:</th>          <td>-1.704</td>  <th>  Prob(JB):          </th> <td>    0.00</td> \n",
       "</tr>\n",
       "<tr>\n",
       "  <th>Kurtosis:</th>      <td>18.621</td>  <th>  Cond. No.          </th> <td>3.32e+03</td> \n",
       "</tr>\n",
       "</table><br/><br/>Notes:<br/>[1] Standard Errors assume that the covariance matrix of the errors is correctly specified.<br/>[2] The condition number is large, 3.32e+03. This might indicate that there are<br/>strong multicollinearity or other numerical problems."
      ],
      "text/plain": [
       "<class 'statsmodels.iolib.summary.Summary'>\n",
       "\"\"\"\n",
       "                            OLS Regression Results                            \n",
       "==============================================================================\n",
       "Dep. Variable:              saleprice   R-squared:                       0.898\n",
       "Model:                            OLS   Adj. R-squared:                  0.897\n",
       "Method:                 Least Squares   F-statistic:                     634.7\n",
       "Date:                Thu, 06 Jan 2022   Prob (F-statistic):               0.00\n",
       "Time:                        13:35:48   Log-Likelihood:                 1251.7\n",
       "No. Observations:                2043   AIC:                            -2445.\n",
       "Df Residuals:                    2014   BIC:                            -2282.\n",
       "Df Model:                          28                                         \n",
       "Covariance Type:            nonrobust                                         \n",
       "===================================================================================\n",
       "                      coef    std err          t      P>|t|      [0.025      0.975]\n",
       "-----------------------------------------------------------------------------------\n",
       "const               6.8198      0.121     56.277      0.000       6.582       7.057\n",
       "lotarea             0.0934      0.010      9.288      0.000       0.074       0.113\n",
       "neighborhood        0.0058      0.004      1.403      0.161      -0.002       0.014\n",
       "overallqual         0.0761      0.004     19.631      0.000       0.069       0.084\n",
       "overallcond         0.0370      0.003     11.832      0.000       0.031       0.043\n",
       "totalbsmtsf         0.0012      0.003      0.359      0.720      -0.005       0.008\n",
       "grlivarea           0.4082      0.017     24.442      0.000       0.375       0.441\n",
       "kitchenqual         0.0465      0.007      6.824      0.000       0.033       0.060\n",
       "paveddrive          0.0880      0.012      7.330      0.000       0.064       0.111\n",
       "zone_FV             0.1938      0.028      6.992      0.000       0.139       0.248\n",
       "zone_RL             0.1360      0.024      5.750      0.000       0.090       0.182\n",
       "zone_RM             0.0816      0.024      3.369      0.001       0.034       0.129\n",
       "lotshape_irr        0.0046      0.007      0.683      0.495      -0.009       0.018\n",
       "near_busy_st       -0.0393      0.011     -3.624      0.000      -0.060      -0.018\n",
       "non_1fam           -0.0071      0.012     -0.596      0.551      -0.031       0.016\n",
       "2plus_fl           -0.0640      0.008     -7.815      0.000      -0.080      -0.048\n",
       "hip_roof            0.0373      0.008      4.703      0.000       0.022       0.053\n",
       "ext_ord             0.0068      0.004      1.685      0.092      -0.001       0.015\n",
       "has_veneer          0.0132      0.007      1.870      0.062      -0.001       0.027\n",
       "cncrt_found         0.0521      0.009      5.509      0.000       0.034       0.071\n",
       "bsmt_ord            0.0639      0.005     12.360      0.000       0.054       0.074\n",
       "heatingqc_dum       0.0148      0.008      1.933      0.053      -0.000       0.030\n",
       "cent_air_dum        0.0708      0.014      5.178      0.000       0.044       0.098\n",
       "garage_ord          0.0540      0.009      5.973      0.000       0.036       0.072\n",
       "fireplace_ord       0.0351      0.006      5.701      0.000       0.023       0.047\n",
       "lotfrontage_imp     0.0002      0.000      0.841      0.401      -0.000       0.001\n",
       "remodel_age        -0.0007      0.000     -2.952      0.003      -0.001      -0.000\n",
       "tot_bath            0.0355      0.006      5.879      0.000       0.024       0.047\n",
       "deckporcharea       0.0006      0.002      0.367      0.714      -0.002       0.004\n",
       "==============================================================================\n",
       "Omnibus:                      965.463   Durbin-Watson:                   1.960\n",
       "Prob(Omnibus):                  0.000   Jarque-Bera (JB):            21759.541\n",
       "Skew:                          -1.704   Prob(JB):                         0.00\n",
       "Kurtosis:                      18.621   Cond. No.                     3.32e+03\n",
       "==============================================================================\n",
       "\n",
       "Notes:\n",
       "[1] Standard Errors assume that the covariance matrix of the errors is correctly specified.\n",
       "[2] The condition number is large, 3.32e+03. This might indicate that there are\n",
       "strong multicollinearity or other numerical problems.\n",
       "\"\"\""
      ]
     },
     "execution_count": 19,
     "metadata": {},
     "output_type": "execute_result"
    }
   ],
   "source": [
    "res.summary()"
   ]
  },
  {
   "cell_type": "markdown",
   "id": "2d95cf16",
   "metadata": {},
   "source": [
    "## Preliminary conclusion for the simple multiple linear regression model (no cross-validation, no regularization)\n",
    "####         Good news:\n",
    "- the model is highly accurate with r2 close to 0.9 and RMSE of only 8k away the top of the kaggle leaderboard (26k vs 18k for the winner, altough not tested on holdout data)\n",
    "- train and test r2 is very similar\n",
    "- vast majority of coefficients have low p-values, and are thus significant\n",
    "- the results are especially good considering this is the very first model that was run (aside from the baseline one). it suggest that data cleaning, transformation and column was done quite well.\n",
    "\n",
    "#### Bad news:\n",
    "- regularization (lasso and ridge) are unlikely to improve results as variance is not the problem for this model - train and test r2 are similar. \n",
    "- another reason why regularization likely won't prove to be useful is that we already cut down the number of columns severely before the regularization will be employed\n",
    "- neighborhood should be **the** most important variable when pricing real-estate, yet in this model it is statistically insignificant. try to transform it from ordinal into a dummy later. \n",
    "- while not as significant as neighborhood, deck/porch area and basement area should be significant. undo the log transformation to see if that improves significance\n",
    "- as Lasso, Ridge and kfolds cross-validation are unlikely to improve the model by much (if at all), cycle back to feature selection to try to improve the model\n"
   ]
  },
  {
   "cell_type": "markdown",
   "id": "53653ca7",
   "metadata": {},
   "source": [
    "<a id = '2.1'><a/>\n",
    "### 2.1 Lin reg - dummify neighborhoods\n",
    "* [Back to top](#Content)"
   ]
  },
  {
   "cell_type": "code",
   "execution_count": 20,
   "id": "86442b7b",
   "metadata": {
    "ExecuteTime": {
     "end_time": "2022-01-06T05:35:48.977525Z",
     "start_time": "2022-01-06T05:35:48.963872Z"
    }
   },
   "outputs": [
    {
     "data": {
      "text/plain": [
       "(2043, 29)"
      ]
     },
     "execution_count": 20,
     "metadata": {},
     "output_type": "execute_result"
    }
   ],
   "source": [
    "ames.shape"
   ]
  },
  {
   "cell_type": "code",
   "execution_count": 21,
   "id": "33fee838",
   "metadata": {
    "ExecuteTime": {
     "end_time": "2022-01-06T05:35:48.992838Z",
     "start_time": "2022-01-06T05:35:48.980095Z"
    },
    "scrolled": true
   },
   "outputs": [],
   "source": [
    "#get neighborhood dummies to try to improve the significance of what ought to be an important column\n",
    "ames=pd.get_dummies(ames, columns=['neighborhood'], prefix='nhood')\n",
    "ames2=pd.get_dummies(ames2, columns=['neighborhood'], prefix='nhood')"
   ]
  },
  {
   "cell_type": "code",
   "execution_count": 22,
   "id": "d6e0442c",
   "metadata": {
    "ExecuteTime": {
     "end_time": "2022-01-06T05:35:49.008821Z",
     "start_time": "2022-01-06T05:35:48.993789Z"
    }
   },
   "outputs": [],
   "source": [
    "# drop one dummy - the middle neighborhood with not much price effect\n",
    "ames.drop('nhood_2', axis=1, inplace=True)\n",
    "ames2.drop('nhood_2', axis=1, inplace=True)"
   ]
  },
  {
   "cell_type": "code",
   "execution_count": 23,
   "id": "a327487b",
   "metadata": {
    "ExecuteTime": {
     "end_time": "2022-01-06T05:35:49.039387Z",
     "start_time": "2022-01-06T05:35:49.009812Z"
    },
    "scrolled": true
   },
   "outputs": [
    {
     "name": "stdout",
     "output_type": "stream",
     "text": [
      "r2 from train data 0.898\n",
      "r2 from test data 0.895\n"
     ]
    }
   ],
   "source": [
    "#train, test, split\n",
    "X = ames.drop('saleprice', axis=1)\n",
    "y = ames['saleprice']\n",
    "Xtrain, Xtest, ytrain, ytest = train_test_split(X, y, random_state=42)\n",
    "\n",
    "lr_base = LinearRegression().fit(Xtrain, ytrain)\n",
    "yhat = lr_base.predict(Xtest)\n",
    "\n",
    "print('r2 from train data', round(lr_base.score(Xtrain, ytrain), 3))\n",
    "print('r2 from test data', round(lr_base.score(Xtest, ytest), 3))"
   ]
  },
  {
   "cell_type": "code",
   "execution_count": 24,
   "id": "11c53e85",
   "metadata": {
    "ExecuteTime": {
     "end_time": "2022-01-06T05:35:49.054878Z",
     "start_time": "2022-01-06T05:35:49.039884Z"
    }
   },
   "outputs": [
    {
     "data": {
      "text/plain": [
       "26061"
      ]
     },
     "execution_count": 24,
     "metadata": {},
     "output_type": "execute_result"
    }
   ],
   "source": [
    "# get rmse. to make it meaningful and interpretable, the dependent variable should revert to its original form\n",
    "round(mean_squared_error(np.exp(ytest), np.exp(yhat), squared=False))"
   ]
  },
  {
   "cell_type": "code",
   "execution_count": 25,
   "id": "9f2f7179",
   "metadata": {
    "ExecuteTime": {
     "end_time": "2022-01-06T05:35:49.101801Z",
     "start_time": "2022-01-06T05:35:49.056865Z"
    },
    "scrolled": false
   },
   "outputs": [
    {
     "data": {
      "text/html": [
       "<table class=\"simpletable\">\n",
       "<caption>OLS Regression Results</caption>\n",
       "<tr>\n",
       "  <th>Dep. Variable:</th>        <td>saleprice</td>    <th>  R-squared:         </th> <td>   0.898</td>\n",
       "</tr>\n",
       "<tr>\n",
       "  <th>Model:</th>                   <td>OLS</td>       <th>  Adj. R-squared:    </th> <td>   0.897</td>\n",
       "</tr>\n",
       "<tr>\n",
       "  <th>Method:</th>             <td>Least Squares</td>  <th>  F-statistic:       </th> <td>   614.3</td>\n",
       "</tr>\n",
       "<tr>\n",
       "  <th>Date:</th>             <td>Thu, 06 Jan 2022</td> <th>  Prob (F-statistic):</th>  <td>  0.00</td> \n",
       "</tr>\n",
       "<tr>\n",
       "  <th>Time:</th>                 <td>13:35:49</td>     <th>  Log-Likelihood:    </th> <td>  1254.4</td>\n",
       "</tr>\n",
       "<tr>\n",
       "  <th>No. Observations:</th>      <td>  2043</td>      <th>  AIC:               </th> <td>  -2449.</td>\n",
       "</tr>\n",
       "<tr>\n",
       "  <th>Df Residuals:</th>          <td>  2013</td>      <th>  BIC:               </th> <td>  -2280.</td>\n",
       "</tr>\n",
       "<tr>\n",
       "  <th>Df Model:</th>              <td>    29</td>      <th>                     </th>     <td> </td>   \n",
       "</tr>\n",
       "<tr>\n",
       "  <th>Covariance Type:</th>      <td>nonrobust</td>    <th>                     </th>     <td> </td>   \n",
       "</tr>\n",
       "</table>\n",
       "<table class=\"simpletable\">\n",
       "<tr>\n",
       "         <td></td>            <th>coef</th>     <th>std err</th>      <th>t</th>      <th>P>|t|</th>  <th>[0.025</th>    <th>0.975]</th>  \n",
       "</tr>\n",
       "<tr>\n",
       "  <th>const</th>           <td>    6.8457</td> <td>    0.121</td> <td>   56.396</td> <td> 0.000</td> <td>    6.608</td> <td>    7.084</td>\n",
       "</tr>\n",
       "<tr>\n",
       "  <th>lotarea</th>         <td>    0.0917</td> <td>    0.010</td> <td>    9.111</td> <td> 0.000</td> <td>    0.072</td> <td>    0.111</td>\n",
       "</tr>\n",
       "<tr>\n",
       "  <th>overallqual</th>     <td>    0.0759</td> <td>    0.004</td> <td>   19.583</td> <td> 0.000</td> <td>    0.068</td> <td>    0.083</td>\n",
       "</tr>\n",
       "<tr>\n",
       "  <th>overallcond</th>     <td>    0.0375</td> <td>    0.003</td> <td>   11.970</td> <td> 0.000</td> <td>    0.031</td> <td>    0.044</td>\n",
       "</tr>\n",
       "<tr>\n",
       "  <th>totalbsmtsf</th>     <td>    0.0018</td> <td>    0.003</td> <td>    0.538</td> <td> 0.591</td> <td>   -0.005</td> <td>    0.008</td>\n",
       "</tr>\n",
       "<tr>\n",
       "  <th>grlivarea</th>       <td>    0.4072</td> <td>    0.017</td> <td>   24.402</td> <td> 0.000</td> <td>    0.375</td> <td>    0.440</td>\n",
       "</tr>\n",
       "<tr>\n",
       "  <th>kitchenqual</th>     <td>    0.0447</td> <td>    0.007</td> <td>    6.532</td> <td> 0.000</td> <td>    0.031</td> <td>    0.058</td>\n",
       "</tr>\n",
       "<tr>\n",
       "  <th>paveddrive</th>      <td>    0.0867</td> <td>    0.012</td> <td>    7.229</td> <td> 0.000</td> <td>    0.063</td> <td>    0.110</td>\n",
       "</tr>\n",
       "<tr>\n",
       "  <th>zone_FV</th>         <td>    0.1794</td> <td>    0.028</td> <td>    6.320</td> <td> 0.000</td> <td>    0.124</td> <td>    0.235</td>\n",
       "</tr>\n",
       "<tr>\n",
       "  <th>zone_RL</th>         <td>    0.1265</td> <td>    0.024</td> <td>    5.276</td> <td> 0.000</td> <td>    0.079</td> <td>    0.174</td>\n",
       "</tr>\n",
       "<tr>\n",
       "  <th>zone_RM</th>         <td>    0.0728</td> <td>    0.024</td> <td>    2.974</td> <td> 0.003</td> <td>    0.025</td> <td>    0.121</td>\n",
       "</tr>\n",
       "<tr>\n",
       "  <th>lotshape_irr</th>    <td>    0.0060</td> <td>    0.007</td> <td>    0.882</td> <td> 0.378</td> <td>   -0.007</td> <td>    0.019</td>\n",
       "</tr>\n",
       "<tr>\n",
       "  <th>near_busy_st</th>    <td>   -0.0411</td> <td>    0.011</td> <td>   -3.785</td> <td> 0.000</td> <td>   -0.062</td> <td>   -0.020</td>\n",
       "</tr>\n",
       "<tr>\n",
       "  <th>non_1fam</th>        <td>   -0.0081</td> <td>    0.012</td> <td>   -0.679</td> <td> 0.497</td> <td>   -0.032</td> <td>    0.015</td>\n",
       "</tr>\n",
       "<tr>\n",
       "  <th>2plus_fl</th>        <td>   -0.0628</td> <td>    0.008</td> <td>   -7.654</td> <td> 0.000</td> <td>   -0.079</td> <td>   -0.047</td>\n",
       "</tr>\n",
       "<tr>\n",
       "  <th>hip_roof</th>        <td>    0.0367</td> <td>    0.008</td> <td>    4.625</td> <td> 0.000</td> <td>    0.021</td> <td>    0.052</td>\n",
       "</tr>\n",
       "<tr>\n",
       "  <th>ext_ord</th>         <td>    0.0067</td> <td>    0.004</td> <td>    1.678</td> <td> 0.094</td> <td>   -0.001</td> <td>    0.015</td>\n",
       "</tr>\n",
       "<tr>\n",
       "  <th>has_veneer</th>      <td>    0.0127</td> <td>    0.007</td> <td>    1.800</td> <td> 0.072</td> <td>   -0.001</td> <td>    0.026</td>\n",
       "</tr>\n",
       "<tr>\n",
       "  <th>cncrt_found</th>     <td>    0.0522</td> <td>    0.009</td> <td>    5.529</td> <td> 0.000</td> <td>    0.034</td> <td>    0.071</td>\n",
       "</tr>\n",
       "<tr>\n",
       "  <th>bsmt_ord</th>        <td>    0.0625</td> <td>    0.005</td> <td>   12.025</td> <td> 0.000</td> <td>    0.052</td> <td>    0.073</td>\n",
       "</tr>\n",
       "<tr>\n",
       "  <th>heatingqc_dum</th>   <td>    0.0136</td> <td>    0.008</td> <td>    1.770</td> <td> 0.077</td> <td>   -0.001</td> <td>    0.029</td>\n",
       "</tr>\n",
       "<tr>\n",
       "  <th>cent_air_dum</th>    <td>    0.0702</td> <td>    0.014</td> <td>    5.142</td> <td> 0.000</td> <td>    0.043</td> <td>    0.097</td>\n",
       "</tr>\n",
       "<tr>\n",
       "  <th>garage_ord</th>      <td>    0.0561</td> <td>    0.009</td> <td>    6.181</td> <td> 0.000</td> <td>    0.038</td> <td>    0.074</td>\n",
       "</tr>\n",
       "<tr>\n",
       "  <th>fireplace_ord</th>   <td>    0.0376</td> <td>    0.006</td> <td>    6.018</td> <td> 0.000</td> <td>    0.025</td> <td>    0.050</td>\n",
       "</tr>\n",
       "<tr>\n",
       "  <th>lotfrontage_imp</th> <td>    0.0002</td> <td>    0.000</td> <td>    0.817</td> <td> 0.414</td> <td>   -0.000</td> <td>    0.001</td>\n",
       "</tr>\n",
       "<tr>\n",
       "  <th>remodel_age</th>     <td>   -0.0007</td> <td>    0.000</td> <td>   -3.045</td> <td> 0.002</td> <td>   -0.001</td> <td>   -0.000</td>\n",
       "</tr>\n",
       "<tr>\n",
       "  <th>tot_bath</th>        <td>    0.0365</td> <td>    0.006</td> <td>    6.040</td> <td> 0.000</td> <td>    0.025</td> <td>    0.048</td>\n",
       "</tr>\n",
       "<tr>\n",
       "  <th>deckporcharea</th>   <td>    0.0004</td> <td>    0.002</td> <td>    0.276</td> <td> 0.783</td> <td>   -0.003</td> <td>    0.003</td>\n",
       "</tr>\n",
       "<tr>\n",
       "  <th>nhood_1</th>         <td>    0.0117</td> <td>    0.009</td> <td>    1.357</td> <td> 0.175</td> <td>   -0.005</td> <td>    0.029</td>\n",
       "</tr>\n",
       "<tr>\n",
       "  <th>nhood_3</th>         <td>    0.0257</td> <td>    0.010</td> <td>    2.682</td> <td> 0.007</td> <td>    0.007</td> <td>    0.045</td>\n",
       "</tr>\n",
       "</table>\n",
       "<table class=\"simpletable\">\n",
       "<tr>\n",
       "  <th>Omnibus:</th>       <td>974.677</td> <th>  Durbin-Watson:     </th> <td>   1.956</td> \n",
       "</tr>\n",
       "<tr>\n",
       "  <th>Prob(Omnibus):</th> <td> 0.000</td>  <th>  Jarque-Bera (JB):  </th> <td>22327.349</td>\n",
       "</tr>\n",
       "<tr>\n",
       "  <th>Skew:</th>          <td>-1.722</td>  <th>  Prob(JB):          </th> <td>    0.00</td> \n",
       "</tr>\n",
       "<tr>\n",
       "  <th>Kurtosis:</th>      <td>18.825</td>  <th>  Cond. No.          </th> <td>3.33e+03</td> \n",
       "</tr>\n",
       "</table><br/><br/>Notes:<br/>[1] Standard Errors assume that the covariance matrix of the errors is correctly specified.<br/>[2] The condition number is large, 3.33e+03. This might indicate that there are<br/>strong multicollinearity or other numerical problems."
      ],
      "text/plain": [
       "<class 'statsmodels.iolib.summary.Summary'>\n",
       "\"\"\"\n",
       "                            OLS Regression Results                            \n",
       "==============================================================================\n",
       "Dep. Variable:              saleprice   R-squared:                       0.898\n",
       "Model:                            OLS   Adj. R-squared:                  0.897\n",
       "Method:                 Least Squares   F-statistic:                     614.3\n",
       "Date:                Thu, 06 Jan 2022   Prob (F-statistic):               0.00\n",
       "Time:                        13:35:49   Log-Likelihood:                 1254.4\n",
       "No. Observations:                2043   AIC:                            -2449.\n",
       "Df Residuals:                    2013   BIC:                            -2280.\n",
       "Df Model:                          29                                         \n",
       "Covariance Type:            nonrobust                                         \n",
       "===================================================================================\n",
       "                      coef    std err          t      P>|t|      [0.025      0.975]\n",
       "-----------------------------------------------------------------------------------\n",
       "const               6.8457      0.121     56.396      0.000       6.608       7.084\n",
       "lotarea             0.0917      0.010      9.111      0.000       0.072       0.111\n",
       "overallqual         0.0759      0.004     19.583      0.000       0.068       0.083\n",
       "overallcond         0.0375      0.003     11.970      0.000       0.031       0.044\n",
       "totalbsmtsf         0.0018      0.003      0.538      0.591      -0.005       0.008\n",
       "grlivarea           0.4072      0.017     24.402      0.000       0.375       0.440\n",
       "kitchenqual         0.0447      0.007      6.532      0.000       0.031       0.058\n",
       "paveddrive          0.0867      0.012      7.229      0.000       0.063       0.110\n",
       "zone_FV             0.1794      0.028      6.320      0.000       0.124       0.235\n",
       "zone_RL             0.1265      0.024      5.276      0.000       0.079       0.174\n",
       "zone_RM             0.0728      0.024      2.974      0.003       0.025       0.121\n",
       "lotshape_irr        0.0060      0.007      0.882      0.378      -0.007       0.019\n",
       "near_busy_st       -0.0411      0.011     -3.785      0.000      -0.062      -0.020\n",
       "non_1fam           -0.0081      0.012     -0.679      0.497      -0.032       0.015\n",
       "2plus_fl           -0.0628      0.008     -7.654      0.000      -0.079      -0.047\n",
       "hip_roof            0.0367      0.008      4.625      0.000       0.021       0.052\n",
       "ext_ord             0.0067      0.004      1.678      0.094      -0.001       0.015\n",
       "has_veneer          0.0127      0.007      1.800      0.072      -0.001       0.026\n",
       "cncrt_found         0.0522      0.009      5.529      0.000       0.034       0.071\n",
       "bsmt_ord            0.0625      0.005     12.025      0.000       0.052       0.073\n",
       "heatingqc_dum       0.0136      0.008      1.770      0.077      -0.001       0.029\n",
       "cent_air_dum        0.0702      0.014      5.142      0.000       0.043       0.097\n",
       "garage_ord          0.0561      0.009      6.181      0.000       0.038       0.074\n",
       "fireplace_ord       0.0376      0.006      6.018      0.000       0.025       0.050\n",
       "lotfrontage_imp     0.0002      0.000      0.817      0.414      -0.000       0.001\n",
       "remodel_age        -0.0007      0.000     -3.045      0.002      -0.001      -0.000\n",
       "tot_bath            0.0365      0.006      6.040      0.000       0.025       0.048\n",
       "deckporcharea       0.0004      0.002      0.276      0.783      -0.003       0.003\n",
       "nhood_1             0.0117      0.009      1.357      0.175      -0.005       0.029\n",
       "nhood_3             0.0257      0.010      2.682      0.007       0.007       0.045\n",
       "==============================================================================\n",
       "Omnibus:                      974.677   Durbin-Watson:                   1.956\n",
       "Prob(Omnibus):                  0.000   Jarque-Bera (JB):            22327.349\n",
       "Skew:                          -1.722   Prob(JB):                         0.00\n",
       "Kurtosis:                      18.825   Cond. No.                     3.33e+03\n",
       "==============================================================================\n",
       "\n",
       "Notes:\n",
       "[1] Standard Errors assume that the covariance matrix of the errors is correctly specified.\n",
       "[2] The condition number is large, 3.33e+03. This might indicate that there are\n",
       "strong multicollinearity or other numerical problems.\n",
       "\"\"\""
      ]
     },
     "execution_count": 25,
     "metadata": {},
     "output_type": "execute_result"
    }
   ],
   "source": [
    "X2 = sm.add_constant(X)\n",
    "lr_base_sm = sm.OLS(y, X2)\n",
    "res = lr_base_sm.fit()\n",
    "res.summary()"
   ]
  },
  {
   "cell_type": "markdown",
   "id": "fc39b6ec",
   "metadata": {},
   "source": [
    "#### 1) After dummifying the neighborhood feature, r2 and rmse improved just a very bit, but p-values of neighboorhood dummies are 0.175 and 0.007, which, on average, is much better than former neighborhood p-value of 0.161. keep as dummies.\n",
    "\n",
    "#### 2) Next, try to make basement and deck/porch area features more significant by undoing their log transformation. This actually makes sense from the business perspective, as only major area columns like lotsize and livingarea ought to be transformed along with the saleprice to keep the common real-estate metric of \"price per square foot\" intact. Smaller area features such as basement and deck area are not part of that metric (ie real-estate is never priced in terms of 'price per square foot of the basement') so those shouldn't have been log transformed in the first place) "
   ]
  },
  {
   "cell_type": "code",
   "execution_count": 26,
   "id": "1f840c9e",
   "metadata": {
    "ExecuteTime": {
     "end_time": "2022-01-06T05:35:49.117789Z",
     "start_time": "2022-01-06T05:35:49.103255Z"
    }
   },
   "outputs": [
    {
     "data": {
      "text/plain": [
       "(2043, 30)"
      ]
     },
     "execution_count": 26,
     "metadata": {},
     "output_type": "execute_result"
    }
   ],
   "source": [
    "ames.shape"
   ]
  },
  {
   "cell_type": "markdown",
   "id": "e1699bc3",
   "metadata": {},
   "source": [
    "<a id = '2.2'><a/>\n",
    "### 2.2 Lin reg - undo deck/bsmt transformations\n",
    "* [Back to top](#Content)"
   ]
  },
  {
   "cell_type": "code",
   "execution_count": 27,
   "id": "1f7aa940",
   "metadata": {
    "ExecuteTime": {
     "end_time": "2022-01-06T05:35:49.133781Z",
     "start_time": "2022-01-06T05:35:49.118782Z"
    }
   },
   "outputs": [],
   "source": [
    "# undo log transformation of deckporch and basement area columns\n",
    "ames['deckporcharea'] = np.exp(ames['deckporcharea'])-1\n",
    "ames['totalbsmtsf'] = np.exp(ames['totalbsmtsf'])-1\n",
    "\n",
    "ames2['deckporcharea'] = np.exp(ames2['deckporcharea'])-1\n",
    "ames2['totalbsmtsf'] = np.exp(ames2['totalbsmtsf'])-1"
   ]
  },
  {
   "cell_type": "code",
   "execution_count": 28,
   "id": "23bc5806",
   "metadata": {
    "ExecuteTime": {
     "end_time": "2022-01-06T05:35:49.165084Z",
     "start_time": "2022-01-06T05:35:49.139116Z"
    },
    "scrolled": true
   },
   "outputs": [
    {
     "name": "stdout",
     "output_type": "stream",
     "text": [
      "r2 from train data 0.904\n",
      "r2 from test data 0.898\n"
     ]
    }
   ],
   "source": [
    "#train, test, split\n",
    "X = ames.drop('saleprice', axis=1)\n",
    "y = ames['saleprice']\n",
    "Xtrain, Xtest, ytrain, ytest = train_test_split(X, y, random_state=42)\n",
    "lr_base = LinearRegression().fit(Xtrain, ytrain)\n",
    "yhat = lr_base.predict(Xtest)\n",
    "\n",
    "print('r2 from train data', round(lr_base.score(Xtrain, ytrain), 3))\n",
    "print('r2 from test data', round(lr_base.score(Xtest, ytest), 3))"
   ]
  },
  {
   "cell_type": "code",
   "execution_count": 29,
   "id": "547cb0dd",
   "metadata": {
    "ExecuteTime": {
     "end_time": "2022-01-06T05:35:49.180979Z",
     "start_time": "2022-01-06T05:35:49.166138Z"
    }
   },
   "outputs": [
    {
     "data": {
      "text/plain": [
       "25154"
      ]
     },
     "execution_count": 29,
     "metadata": {},
     "output_type": "execute_result"
    }
   ],
   "source": [
    "# get rmse. to make it meaningful and interpretable, the dependent variable should revert\n",
    "# to its original form\n",
    "round(mean_squared_error(np.exp(ytest), np.exp(yhat), squared=False))"
   ]
  },
  {
   "cell_type": "code",
   "execution_count": 30,
   "id": "c3b05c16",
   "metadata": {
    "ExecuteTime": {
     "end_time": "2022-01-06T05:35:49.462800Z",
     "start_time": "2022-01-06T05:35:49.181975Z"
    },
    "scrolled": true
   },
   "outputs": [
    {
     "data": {
      "image/png": "[encoded data removed]",
      "text/plain": [
       "<Figure size 360x360 with 1 Axes>"
      ]
     },
     "metadata": {},
     "output_type": "display_data"
    }
   ],
   "source": [
    "resid_hgram(ytest, yhat)"
   ]
  },
  {
   "cell_type": "markdown",
   "id": "e7232fc8",
   "metadata": {},
   "source": [
    "- the residuals look much more normally distributed than before"
   ]
  },
  {
   "cell_type": "code",
   "execution_count": 31,
   "id": "2f4dfb9c",
   "metadata": {
    "ExecuteTime": {
     "end_time": "2022-01-06T05:35:49.509210Z",
     "start_time": "2022-01-06T05:35:49.464310Z"
    },
    "scrolled": false
   },
   "outputs": [
    {
     "data": {
      "text/html": [
       "<table class=\"simpletable\">\n",
       "<caption>OLS Regression Results</caption>\n",
       "<tr>\n",
       "  <th>Dep. Variable:</th>        <td>saleprice</td>    <th>  R-squared:         </th> <td>   0.903</td>\n",
       "</tr>\n",
       "<tr>\n",
       "  <th>Model:</th>                   <td>OLS</td>       <th>  Adj. R-squared:    </th> <td>   0.902</td>\n",
       "</tr>\n",
       "<tr>\n",
       "  <th>Method:</th>             <td>Least Squares</td>  <th>  F-statistic:       </th> <td>   648.5</td>\n",
       "</tr>\n",
       "<tr>\n",
       "  <th>Date:</th>             <td>Thu, 06 Jan 2022</td> <th>  Prob (F-statistic):</th>  <td>  0.00</td> \n",
       "</tr>\n",
       "<tr>\n",
       "  <th>Time:</th>                 <td>13:35:49</td>     <th>  Log-Likelihood:    </th> <td>  1304.3</td>\n",
       "</tr>\n",
       "<tr>\n",
       "  <th>No. Observations:</th>      <td>  2043</td>      <th>  AIC:               </th> <td>  -2549.</td>\n",
       "</tr>\n",
       "<tr>\n",
       "  <th>Df Residuals:</th>          <td>  2013</td>      <th>  BIC:               </th> <td>  -2380.</td>\n",
       "</tr>\n",
       "<tr>\n",
       "  <th>Df Model:</th>              <td>    29</td>      <th>                     </th>     <td> </td>   \n",
       "</tr>\n",
       "<tr>\n",
       "  <th>Covariance Type:</th>      <td>nonrobust</td>    <th>                     </th>     <td> </td>   \n",
       "</tr>\n",
       "</table>\n",
       "<table class=\"simpletable\">\n",
       "<tr>\n",
       "         <td></td>            <th>coef</th>     <th>std err</th>      <th>t</th>      <th>P>|t|</th>  <th>[0.025</th>    <th>0.975]</th>  \n",
       "</tr>\n",
       "<tr>\n",
       "  <th>const</th>           <td>    7.2907</td> <td>    0.127</td> <td>   57.574</td> <td> 0.000</td> <td>    7.042</td> <td>    7.539</td>\n",
       "</tr>\n",
       "<tr>\n",
       "  <th>lotarea</th>         <td>    0.0862</td> <td>    0.010</td> <td>    8.758</td> <td> 0.000</td> <td>    0.067</td> <td>    0.106</td>\n",
       "</tr>\n",
       "<tr>\n",
       "  <th>overallqual</th>     <td>    0.0689</td> <td>    0.004</td> <td>   18.002</td> <td> 0.000</td> <td>    0.061</td> <td>    0.076</td>\n",
       "</tr>\n",
       "<tr>\n",
       "  <th>overallcond</th>     <td>    0.0403</td> <td>    0.003</td> <td>   13.081</td> <td> 0.000</td> <td>    0.034</td> <td>    0.046</td>\n",
       "</tr>\n",
       "<tr>\n",
       "  <th>totalbsmtsf</th>     <td>    0.0001</td> <td> 1.11e-05</td> <td>    9.895</td> <td> 0.000</td> <td> 8.84e-05</td> <td>    0.000</td>\n",
       "</tr>\n",
       "<tr>\n",
       "  <th>grlivarea</th>       <td>    0.3468</td> <td>    0.017</td> <td>   20.187</td> <td> 0.000</td> <td>    0.313</td> <td>    0.381</td>\n",
       "</tr>\n",
       "<tr>\n",
       "  <th>kitchenqual</th>     <td>    0.0426</td> <td>    0.007</td> <td>    6.381</td> <td> 0.000</td> <td>    0.029</td> <td>    0.056</td>\n",
       "</tr>\n",
       "<tr>\n",
       "  <th>paveddrive</th>      <td>    0.0861</td> <td>    0.012</td> <td>    7.366</td> <td> 0.000</td> <td>    0.063</td> <td>    0.109</td>\n",
       "</tr>\n",
       "<tr>\n",
       "  <th>zone_FV</th>         <td>    0.1835</td> <td>    0.028</td> <td>    6.630</td> <td> 0.000</td> <td>    0.129</td> <td>    0.238</td>\n",
       "</tr>\n",
       "<tr>\n",
       "  <th>zone_RL</th>         <td>    0.1288</td> <td>    0.023</td> <td>    5.503</td> <td> 0.000</td> <td>    0.083</td> <td>    0.175</td>\n",
       "</tr>\n",
       "<tr>\n",
       "  <th>zone_RM</th>         <td>    0.0803</td> <td>    0.024</td> <td>    3.359</td> <td> 0.001</td> <td>    0.033</td> <td>    0.127</td>\n",
       "</tr>\n",
       "<tr>\n",
       "  <th>lotshape_irr</th>    <td>    0.0076</td> <td>    0.007</td> <td>    1.154</td> <td> 0.249</td> <td>   -0.005</td> <td>    0.021</td>\n",
       "</tr>\n",
       "<tr>\n",
       "  <th>near_busy_st</th>    <td>   -0.0396</td> <td>    0.011</td> <td>   -3.740</td> <td> 0.000</td> <td>   -0.060</td> <td>   -0.019</td>\n",
       "</tr>\n",
       "<tr>\n",
       "  <th>non_1fam</th>        <td>   -0.0099</td> <td>    0.011</td> <td>   -0.866</td> <td> 0.387</td> <td>   -0.032</td> <td>    0.013</td>\n",
       "</tr>\n",
       "<tr>\n",
       "  <th>2plus_fl</th>        <td>   -0.0168</td> <td>    0.009</td> <td>   -1.805</td> <td> 0.071</td> <td>   -0.035</td> <td>    0.001</td>\n",
       "</tr>\n",
       "<tr>\n",
       "  <th>hip_roof</th>        <td>    0.0251</td> <td>    0.008</td> <td>    3.213</td> <td> 0.001</td> <td>    0.010</td> <td>    0.040</td>\n",
       "</tr>\n",
       "<tr>\n",
       "  <th>ext_ord</th>         <td>    0.0059</td> <td>    0.004</td> <td>    1.501</td> <td> 0.133</td> <td>   -0.002</td> <td>    0.014</td>\n",
       "</tr>\n",
       "<tr>\n",
       "  <th>has_veneer</th>      <td>    0.0095</td> <td>    0.007</td> <td>    1.384</td> <td> 0.167</td> <td>   -0.004</td> <td>    0.023</td>\n",
       "</tr>\n",
       "<tr>\n",
       "  <th>cncrt_found</th>     <td>    0.0486</td> <td>    0.009</td> <td>    5.277</td> <td> 0.000</td> <td>    0.031</td> <td>    0.067</td>\n",
       "</tr>\n",
       "<tr>\n",
       "  <th>bsmt_ord</th>        <td>    0.0484</td> <td>    0.005</td> <td>   10.302</td> <td> 0.000</td> <td>    0.039</td> <td>    0.058</td>\n",
       "</tr>\n",
       "<tr>\n",
       "  <th>heatingqc_dum</th>   <td>    0.0142</td> <td>    0.007</td> <td>    1.891</td> <td> 0.059</td> <td>   -0.001</td> <td>    0.029</td>\n",
       "</tr>\n",
       "<tr>\n",
       "  <th>cent_air_dum</th>    <td>    0.0664</td> <td>    0.013</td> <td>    4.998</td> <td> 0.000</td> <td>    0.040</td> <td>    0.092</td>\n",
       "</tr>\n",
       "<tr>\n",
       "  <th>garage_ord</th>      <td>    0.0586</td> <td>    0.009</td> <td>    6.647</td> <td> 0.000</td> <td>    0.041</td> <td>    0.076</td>\n",
       "</tr>\n",
       "<tr>\n",
       "  <th>fireplace_ord</th>   <td>    0.0373</td> <td>    0.006</td> <td>    6.110</td> <td> 0.000</td> <td>    0.025</td> <td>    0.049</td>\n",
       "</tr>\n",
       "<tr>\n",
       "  <th>lotfrontage_imp</th> <td>    0.0001</td> <td>    0.000</td> <td>    0.598</td> <td> 0.550</td> <td>   -0.000</td> <td>    0.000</td>\n",
       "</tr>\n",
       "<tr>\n",
       "  <th>remodel_age</th>     <td>   -0.0007</td> <td>    0.000</td> <td>   -3.086</td> <td> 0.002</td> <td>   -0.001</td> <td>   -0.000</td>\n",
       "</tr>\n",
       "<tr>\n",
       "  <th>tot_bath</th>        <td>    0.0355</td> <td>    0.006</td> <td>    6.035</td> <td> 0.000</td> <td>    0.024</td> <td>    0.047</td>\n",
       "</tr>\n",
       "<tr>\n",
       "  <th>deckporcharea</th>   <td> 3.507e-05</td> <td> 2.25e-05</td> <td>    1.561</td> <td> 0.119</td> <td>-8.98e-06</td> <td> 7.91e-05</td>\n",
       "</tr>\n",
       "<tr>\n",
       "  <th>nhood_1</th>         <td>    0.0057</td> <td>    0.008</td> <td>    0.674</td> <td> 0.500</td> <td>   -0.011</td> <td>    0.022</td>\n",
       "</tr>\n",
       "<tr>\n",
       "  <th>nhood_3</th>         <td>    0.0233</td> <td>    0.009</td> <td>    2.503</td> <td> 0.012</td> <td>    0.005</td> <td>    0.042</td>\n",
       "</tr>\n",
       "</table>\n",
       "<table class=\"simpletable\">\n",
       "<tr>\n",
       "  <th>Omnibus:</th>       <td>1045.475</td> <th>  Durbin-Watson:     </th> <td>   1.972</td> \n",
       "</tr>\n",
       "<tr>\n",
       "  <th>Prob(Omnibus):</th>  <td> 0.000</td>  <th>  Jarque-Bera (JB):  </th> <td>29478.143</td>\n",
       "</tr>\n",
       "<tr>\n",
       "  <th>Skew:</th>           <td>-1.835</td>  <th>  Prob(JB):          </th> <td>    0.00</td> \n",
       "</tr>\n",
       "<tr>\n",
       "  <th>Kurtosis:</th>       <td>21.243</td>  <th>  Cond. No.          </th> <td>5.15e+04</td> \n",
       "</tr>\n",
       "</table><br/><br/>Notes:<br/>[1] Standard Errors assume that the covariance matrix of the errors is correctly specified.<br/>[2] The condition number is large, 5.15e+04. This might indicate that there are<br/>strong multicollinearity or other numerical problems."
      ],
      "text/plain": [
       "<class 'statsmodels.iolib.summary.Summary'>\n",
       "\"\"\"\n",
       "                            OLS Regression Results                            \n",
       "==============================================================================\n",
       "Dep. Variable:              saleprice   R-squared:                       0.903\n",
       "Model:                            OLS   Adj. R-squared:                  0.902\n",
       "Method:                 Least Squares   F-statistic:                     648.5\n",
       "Date:                Thu, 06 Jan 2022   Prob (F-statistic):               0.00\n",
       "Time:                        13:35:49   Log-Likelihood:                 1304.3\n",
       "No. Observations:                2043   AIC:                            -2549.\n",
       "Df Residuals:                    2013   BIC:                            -2380.\n",
       "Df Model:                          29                                         \n",
       "Covariance Type:            nonrobust                                         \n",
       "===================================================================================\n",
       "                      coef    std err          t      P>|t|      [0.025      0.975]\n",
       "-----------------------------------------------------------------------------------\n",
       "const               7.2907      0.127     57.574      0.000       7.042       7.539\n",
       "lotarea             0.0862      0.010      8.758      0.000       0.067       0.106\n",
       "overallqual         0.0689      0.004     18.002      0.000       0.061       0.076\n",
       "overallcond         0.0403      0.003     13.081      0.000       0.034       0.046\n",
       "totalbsmtsf         0.0001   1.11e-05      9.895      0.000    8.84e-05       0.000\n",
       "grlivarea           0.3468      0.017     20.187      0.000       0.313       0.381\n",
       "kitchenqual         0.0426      0.007      6.381      0.000       0.029       0.056\n",
       "paveddrive          0.0861      0.012      7.366      0.000       0.063       0.109\n",
       "zone_FV             0.1835      0.028      6.630      0.000       0.129       0.238\n",
       "zone_RL             0.1288      0.023      5.503      0.000       0.083       0.175\n",
       "zone_RM             0.0803      0.024      3.359      0.001       0.033       0.127\n",
       "lotshape_irr        0.0076      0.007      1.154      0.249      -0.005       0.021\n",
       "near_busy_st       -0.0396      0.011     -3.740      0.000      -0.060      -0.019\n",
       "non_1fam           -0.0099      0.011     -0.866      0.387      -0.032       0.013\n",
       "2plus_fl           -0.0168      0.009     -1.805      0.071      -0.035       0.001\n",
       "hip_roof            0.0251      0.008      3.213      0.001       0.010       0.040\n",
       "ext_ord             0.0059      0.004      1.501      0.133      -0.002       0.014\n",
       "has_veneer          0.0095      0.007      1.384      0.167      -0.004       0.023\n",
       "cncrt_found         0.0486      0.009      5.277      0.000       0.031       0.067\n",
       "bsmt_ord            0.0484      0.005     10.302      0.000       0.039       0.058\n",
       "heatingqc_dum       0.0142      0.007      1.891      0.059      -0.001       0.029\n",
       "cent_air_dum        0.0664      0.013      4.998      0.000       0.040       0.092\n",
       "garage_ord          0.0586      0.009      6.647      0.000       0.041       0.076\n",
       "fireplace_ord       0.0373      0.006      6.110      0.000       0.025       0.049\n",
       "lotfrontage_imp     0.0001      0.000      0.598      0.550      -0.000       0.000\n",
       "remodel_age        -0.0007      0.000     -3.086      0.002      -0.001      -0.000\n",
       "tot_bath            0.0355      0.006      6.035      0.000       0.024       0.047\n",
       "deckporcharea    3.507e-05   2.25e-05      1.561      0.119   -8.98e-06    7.91e-05\n",
       "nhood_1             0.0057      0.008      0.674      0.500      -0.011       0.022\n",
       "nhood_3             0.0233      0.009      2.503      0.012       0.005       0.042\n",
       "==============================================================================\n",
       "Omnibus:                     1045.475   Durbin-Watson:                   1.972\n",
       "Prob(Omnibus):                  0.000   Jarque-Bera (JB):            29478.143\n",
       "Skew:                          -1.835   Prob(JB):                         0.00\n",
       "Kurtosis:                      21.243   Cond. No.                     5.15e+04\n",
       "==============================================================================\n",
       "\n",
       "Notes:\n",
       "[1] Standard Errors assume that the covariance matrix of the errors is correctly specified.\n",
       "[2] The condition number is large, 5.15e+04. This might indicate that there are\n",
       "strong multicollinearity or other numerical problems.\n",
       "\"\"\""
      ]
     },
     "execution_count": 31,
     "metadata": {},
     "output_type": "execute_result"
    }
   ],
   "source": [
    "X2 = sm.add_constant(X)\n",
    "lr_base_sm = sm.OLS(y, X2)\n",
    "res = lr_base_sm.fit()\n",
    "res.summary()"
   ]
  },
  {
   "cell_type": "markdown",
   "id": "884ea375",
   "metadata": {},
   "source": [
    "#### A huge improvement! p-values went down from 0.59 and 0.78 to 0.00 and 0.12! RMSE and R2 also improved. The results speak for themselves - keep the changes."
   ]
  },
  {
   "cell_type": "markdown",
   "id": "37635e7c",
   "metadata": {},
   "source": [
    "<a id = '3.0'><a/>\n",
    "### 3.0 K-folds cross-validation\n",
    "* [Back to top](#Content)"
   ]
  },
  {
   "cell_type": "code",
   "execution_count": 32,
   "id": "50261c18",
   "metadata": {
    "ExecuteTime": {
     "end_time": "2022-01-06T05:35:49.802664Z",
     "start_time": "2022-01-06T05:35:49.510804Z"
    }
   },
   "outputs": [
    {
     "name": "stdout",
     "output_type": "stream",
     "text": [
      "------------------------------------\n",
      "\n",
      "K: 4\n",
      "Cross-validated scores: [0.8779, 0.9094, 0.9121, 0.8921]\n",
      "Mean CV R2: 0.8979\n",
      "Std CV R2: 0.0139\n",
      "Cross-predicted R2: 0.8976\n",
      "Cross-predicted RMSE: 23451\n",
      "------------------------------------\n",
      "\n",
      "K: 5\n",
      "Cross-validated scores: [0.8801, 0.9008, 0.9113, 0.8832, 0.9155]\n",
      "Mean CV R2: 0.8982\n",
      "Std CV R2: 0.0143\n",
      "Cross-predicted R2: 0.8975\n",
      "Cross-predicted RMSE: 23384\n",
      "------------------------------------\n",
      "\n",
      "K: 6\n",
      "Cross-validated scores: [0.8876, 0.8887, 0.9053, 0.9156, 0.8832, 0.9123]\n",
      "Mean CV R2: 0.8988\n",
      "Std CV R2: 0.0128\n",
      "Cross-predicted R2: 0.8981\n",
      "Cross-predicted RMSE: 23404\n",
      "------------------------------------\n",
      "\n",
      "K: 7\n",
      "Cross-validated scores: [0.8786, 0.8843, 0.913, 0.9162, 0.915, 0.8755, 0.9095]\n",
      "Mean CV R2: 0.8989\n",
      "Std CV R2: 0.0171\n",
      "Cross-predicted R2: 0.8982\n",
      "Cross-predicted RMSE: 23395\n",
      "------------------------------------\n",
      "\n",
      "K: 8\n",
      "Cross-validated scores: [0.8712, 0.8832, 0.9172, 0.9098, 0.9175, 0.9074, 0.8754, 0.9133]\n",
      "Mean CV R2: 0.8994\n",
      "Std CV R2: 0.0182\n",
      "Cross-predicted R2: 0.8987\n",
      "Cross-predicted RMSE: 23357\n"
     ]
    }
   ],
   "source": [
    "# run cross-validation with different number of folds - from 4 to 8\n",
    "for folds in range(4,9):\n",
    "    print ('------------------------------------\\n')\n",
    "    print ('K:', folds)\n",
    "    model = LinearRegression()\n",
    "    \n",
    "    # Perform cross-validation\n",
    "    scores = cross_val_score(model, X, y, cv=folds)\n",
    "    rounded_scores = [round(i, 4) for i in scores]\n",
    "    print (\"Cross-validated scores:\", rounded_scores)\n",
    "    print (\"Mean CV R2:\", round(np.mean(scores), 4))\n",
    "    print ('Std CV R2:', round(np.std(scores), 4))\n",
    "    \n",
    "    # Make cross-validated predictions\n",
    "    predictions = cross_val_predict(model, X, y, cv=folds)\n",
    "    \n",
    "    r2 = r2_score(y, predictions)\n",
    "    rmse = mean_squared_error(np.exp(y), np.exp(predictions), squared=False)\n",
    "    print(\"Cross-predicted R2:\", round(r2, 4))\n",
    "    print(\"Cross-predicted RMSE:\", round(rmse))"
   ]
  },
  {
   "cell_type": "markdown",
   "id": "27c1fab9",
   "metadata": {},
   "source": [
    "#### The results are quite consisent - mean cross-validation r2 range from 0.897 to 0.899 and therefore the model is reliable. Cross-predicted rmse is not reliable since cross_value_predict is a result of multiple different models, so the fact that is much lower than previous rmse's does not hold weight."
   ]
  },
  {
   "cell_type": "markdown",
   "id": "ecdf219a",
   "metadata": {},
   "source": [
    "<a id = '4.0'><a/>\n",
    "### 4.0 Ridge regression\n",
    "* [Back to top](#Content)"
   ]
  },
  {
   "cell_type": "code",
   "execution_count": 33,
   "id": "09750af7",
   "metadata": {
    "ExecuteTime": {
     "end_time": "2022-01-06T05:35:49.817851Z",
     "start_time": "2022-01-06T05:35:49.803849Z"
    }
   },
   "outputs": [],
   "source": [
    "# standardize before regularizing not to penalize large coefficients. \n",
    "# fit on X train only, so that transformation is uniform\n",
    "sc = StandardScaler()\n",
    "Xtrain_sc = sc.fit_transform(Xtrain)\n",
    "Xtest_sc = sc.transform(Xtest)"
   ]
  },
  {
   "cell_type": "code",
   "execution_count": 34,
   "id": "2c172d4a",
   "metadata": {
    "ExecuteTime": {
     "end_time": "2022-01-06T05:35:56.602956Z",
     "start_time": "2022-01-06T05:35:49.819419Z"
    }
   },
   "outputs": [
    {
     "name": "stdout",
     "output_type": "stream",
     "text": [
      "ideal alpha is  51.1\n"
     ]
    }
   ],
   "source": [
    "# create a list of alphas on different scales, using np.log\n",
    "rd_alpha = np.logspace(-5, 5, 800)\n",
    "\n",
    "#find the best alpha for the model\n",
    "rd_cv = RidgeCV(rd_alpha, cv = 5, scoring = 'r2')\n",
    "\n",
    "# Fit model using best ridge alpha!\n",
    "rd_cv.fit(Xtrain_sc, ytrain)\n",
    "best_alpha = rd_cv.alpha_\n",
    "print('ideal alpha is ', round(best_alpha, 2))"
   ]
  },
  {
   "cell_type": "code",
   "execution_count": 35,
   "id": "f800f50c",
   "metadata": {
    "ExecuteTime": {
     "end_time": "2022-01-06T05:35:56.618231Z",
     "start_time": "2022-01-06T05:35:56.604285Z"
    }
   },
   "outputs": [],
   "source": [
    "ridge_m = Ridge(alpha=best_alpha).fit(Xtrain_sc, ytrain)"
   ]
  },
  {
   "cell_type": "code",
   "execution_count": 36,
   "id": "62ffbd39",
   "metadata": {
    "ExecuteTime": {
     "end_time": "2022-01-06T05:35:56.634267Z",
     "start_time": "2022-01-06T05:35:56.619408Z"
    },
    "scrolled": true
   },
   "outputs": [
    {
     "name": "stdout",
     "output_type": "stream",
     "text": [
      "Train Score:  0.9031 \n",
      "Test Score:  0.8997 \n",
      "\n",
      "Train Score:  0.9031\n",
      "Test Score:  0.8997\n"
     ]
    }
   ],
   "source": [
    "# making sure the two sets of of two scores are identical, in which case all was done correctly\n",
    "print(f'Train Score:  {ridge_m.score(Xtrain_sc, ytrain):.4f} ')\n",
    "print(f'Test Score:  {ridge_m.score(Xtest_sc, ytest):.4f} \\n')\n",
    "\n",
    "print(f'Train Score:  {rd_cv.score(Xtrain_sc, ytrain):.4f}')\n",
    "print(f'Test Score:  {rd_cv.score(Xtest_sc, ytest):.4f}')"
   ]
  },
  {
   "cell_type": "code",
   "execution_count": 37,
   "id": "ff7ff1f0",
   "metadata": {
    "ExecuteTime": {
     "end_time": "2022-01-06T05:35:56.649930Z",
     "start_time": "2022-01-06T05:35:56.635820Z"
    }
   },
   "outputs": [
    {
     "name": "stdout",
     "output_type": "stream",
     "text": [
      "ridge r2 is  0.8997\n",
      "ridge r2 after reversing the log transformation is  0.9029\n",
      "ridge rmse is  25119\n"
     ]
    }
   ],
   "source": [
    "print('ridge r2 is ', round(rd_cv.score(Xtest_sc, ytest),4))\n",
    "\n",
    "#get prediction for ridge\n",
    "yhat = rd_cv.predict(Xtest_sc)\n",
    "\n",
    "print('ridge r2 after reversing the log transformation is ', round(r2_score(np.exp(ytest),\n",
    "                                                                            np.exp(yhat)),4))\n",
    "print('ridge rmse is ', round(mean_squared_error(np.exp(ytest), np.exp(yhat), squared=False)))"
   ]
  },
  {
   "cell_type": "code",
   "execution_count": 38,
   "id": "b9c31ace",
   "metadata": {
    "ExecuteTime": {
     "end_time": "2022-01-06T05:35:57.023070Z",
     "start_time": "2022-01-06T05:35:56.651432Z"
    }
   },
   "outputs": [
    {
     "data": {
      "image/png": "[encoded data removed]",
      "text/plain": [
       "<Figure size 360x360 with 1 Axes>"
      ]
     },
     "metadata": {},
     "output_type": "display_data"
    }
   ],
   "source": [
    "resid_hgram(ytest, yhat)"
   ]
  },
  {
   "cell_type": "code",
   "execution_count": 39,
   "id": "98757d6f",
   "metadata": {
    "ExecuteTime": {
     "end_time": "2022-01-06T05:35:57.038204Z",
     "start_time": "2022-01-06T05:35:57.025071Z"
    }
   },
   "outputs": [],
   "source": [
    "Coef_r = zip(X.columns, rd_cv.coef_)"
   ]
  },
  {
   "cell_type": "code",
   "execution_count": 40,
   "id": "aeb9f26a",
   "metadata": {
    "ExecuteTime": {
     "end_time": "2022-01-06T05:35:57.054121Z",
     "start_time": "2022-01-06T05:35:57.039299Z"
    }
   },
   "outputs": [
    {
     "data": {
      "text/plain": [
       "[('lotarea', 0.036958535328132466),\n",
       " ('overallqual', 0.09487471685669363),\n",
       " ('overallcond', 0.043479756312415255),\n",
       " ('totalbsmtsf', 0.052258389434899466),\n",
       " ('grlivarea', 0.10987164595601627),\n",
       " ('kitchenqual', 0.03046318815275271),\n",
       " ('paveddrive', 0.02963742015019551),\n",
       " ('zone_FV', 0.027806170521414233),\n",
       " ('zone_RL', 0.03111019361043922),\n",
       " ('zone_RM', 0.010827595411515135),\n",
       " ('lotshape_irr', 0.005026264515399005),\n",
       " ('near_busy_st', -0.006195315286669879),\n",
       " ('non_1fam', -0.0020917972766281204),\n",
       " ('2plus_fl', -0.0028397217318632973),\n",
       " ('hip_roof', 0.013434492173308577),\n",
       " ('ext_ord', 0.00414249099019145),\n",
       " ('has_veneer', 0.0029229478566153416),\n",
       " ('cncrt_found', 0.024248235102362774),\n",
       " ('bsmt_ord', 0.042257681676302006),\n",
       " ('heatingqc_dum', 0.008895262225639647),\n",
       " ('cent_air_dum', 0.017077425473838576),\n",
       " ('garage_ord', 0.023825596911319906),\n",
       " ('fireplace_ord', 0.02146398654018064),\n",
       " ('lotfrontage_imp', 0.005674435247172222),\n",
       " ('remodel_age', -0.01725907713722907),\n",
       " ('tot_bath', 0.025881819852390714),\n",
       " ('deckporcharea', 0.009224670083184571),\n",
       " ('nhood_1', 0.0022470903945700843),\n",
       " ('nhood_3', 0.009572252799968796)]"
      ]
     },
     "execution_count": 40,
     "metadata": {},
     "output_type": "execute_result"
    }
   ],
   "source": [
    "list(Coef_r)"
   ]
  },
  {
   "cell_type": "markdown",
   "id": "c2f6e888",
   "metadata": {},
   "source": [
    "<a id = '5.0'><a/>\n",
    "### 5.0 Lasso regression\n",
    "* [Back to top](#Content)"
   ]
  },
  {
   "cell_type": "code",
   "execution_count": 41,
   "id": "12d75482",
   "metadata": {
    "ExecuteTime": {
     "end_time": "2022-01-06T05:35:57.442370Z",
     "start_time": "2022-01-06T05:35:57.055267Z"
    }
   },
   "outputs": [
    {
     "name": "stdout",
     "output_type": "stream",
     "text": [
      "ideal alpha is  0.0021\n"
     ]
    }
   ],
   "source": [
    "# use n_asphas for LassoCV to create alphas rather than logspace\n",
    "\n",
    "lasso_cv = LassoCV(n_alphas = 800, cv=5)\n",
    "\n",
    "lasso_cv.fit(Xtrain_sc, ytrain)\n",
    "\n",
    "best_alpha2 = lasso_cv.alpha_\n",
    "print ('ideal alpha is ', round(lasso_cv.alpha_,4))"
   ]
  },
  {
   "cell_type": "code",
   "execution_count": 42,
   "id": "0f67d65e",
   "metadata": {
    "ExecuteTime": {
     "end_time": "2022-01-06T05:35:57.458135Z",
     "start_time": "2022-01-06T05:35:57.444306Z"
    }
   },
   "outputs": [
    {
     "name": "stdout",
     "output_type": "stream",
     "text": [
      "lasso r2 is  0.8972\n",
      "lasso r2 after reversing the log transformation is  0.9017\n",
      "lasso rmse is  25266\n"
     ]
    }
   ],
   "source": [
    "print('lasso r2 is ', round(lasso_cv.score(Xtest_sc, ytest),4))\n",
    "\n",
    "#get prediction for lasso\n",
    "yhat = lasso_cv.predict(Xtest_sc)\n",
    "\n",
    "print('lasso r2 after reversing the log transformation is ', round(r2_score(np.exp(ytest),\n",
    "                                                                            np.exp(yhat)),4))\n",
    "print('lasso rmse is ', round(mean_squared_error(np.exp(ytest), np.exp(yhat), squared=False)))"
   ]
  },
  {
   "cell_type": "code",
   "execution_count": 43,
   "id": "22dc6c4c",
   "metadata": {
    "ExecuteTime": {
     "end_time": "2022-01-06T05:35:57.474185Z",
     "start_time": "2022-01-06T05:35:57.459128Z"
    }
   },
   "outputs": [],
   "source": [
    "Coef_l = zip(X.columns, lasso_cv.coef_)"
   ]
  },
  {
   "cell_type": "code",
   "execution_count": 44,
   "id": "e43f32df",
   "metadata": {
    "ExecuteTime": {
     "end_time": "2022-01-06T05:35:57.489263Z",
     "start_time": "2022-01-06T05:35:57.475608Z"
    }
   },
   "outputs": [
    {
     "data": {
      "text/plain": [
       "[('lotarea', 0.03891318671150378),\n",
       " ('overallqual', 0.1021408167730694),\n",
       " ('overallcond', 0.04139568180770648),\n",
       " ('totalbsmtsf', 0.05288435859645084),\n",
       " ('grlivarea', 0.11334506309405776),\n",
       " ('kitchenqual', 0.029931776998465442),\n",
       " ('paveddrive', 0.02979962645943907),\n",
       " ('zone_FV', 0.020184300617497583),\n",
       " ('zone_RL', 0.01960972947673235),\n",
       " ('zone_RM', -0.0),\n",
       " ('lotshape_irr', 0.0028603881920846288),\n",
       " ('near_busy_st', -0.004668714093466732),\n",
       " ('non_1fam', -0.000637795574173119),\n",
       " ('2plus_fl', -0.0009720675168370709),\n",
       " ('hip_roof', 0.011693418361423619),\n",
       " ('ext_ord', 0.0015937952906055605),\n",
       " ('has_veneer', 0.0005621981929374241),\n",
       " ('cncrt_found', 0.022894369462109706),\n",
       " ('bsmt_ord', 0.04472960220955982),\n",
       " ('heatingqc_dum', 0.008464674116877263),\n",
       " ('cent_air_dum', 0.016954038392364035),\n",
       " ('garage_ord', 0.02340608222386276),\n",
       " ('fireplace_ord', 0.018618898309149593),\n",
       " ('lotfrontage_imp', 0.0026920063205681313),\n",
       " ('remodel_age', -0.01703857275426596),\n",
       " ('tot_bath', 0.022251286592566828),\n",
       " ('deckporcharea', 0.007431360533489044),\n",
       " ('nhood_1', 0.0),\n",
       " ('nhood_3', 0.006156086214358853)]"
      ]
     },
     "execution_count": 44,
     "metadata": {},
     "output_type": "execute_result"
    }
   ],
   "source": [
    "list(Coef_l)"
   ]
  },
  {
   "cell_type": "code",
   "execution_count": 45,
   "id": "c4ddb380",
   "metadata": {
    "ExecuteTime": {
     "end_time": "2022-01-06T05:35:57.505211Z",
     "start_time": "2022-01-06T05:35:57.490233Z"
    },
    "scrolled": false
   },
   "outputs": [
    {
     "name": "stdout",
     "output_type": "stream",
     "text": [
      "====== OLS =======\n",
      "0.9036392752570962\n",
      "0.8984750357094147 \n",
      "\n",
      "===== Ridge ======\n",
      "0.9031219245536836\n",
      "0.899740183065329 \n",
      "\n",
      "===== Lasso ======\n",
      "0.9027014892947234\n",
      "0.8971771460902449\n"
     ]
    }
   ],
   "source": [
    "print(\" OLS \".center(18, \"=\"))\n",
    "print(lr_base.score(Xtrain, ytrain))\n",
    "print(lr_base.score(Xtest, ytest), '\\n')\n",
    "print(\" Ridge \".center(18, \"=\"))\n",
    "print(rd_cv.score(Xtrain_sc, ytrain))\n",
    "print(rd_cv.score(Xtest_sc, ytest), '\\n')\n",
    "print(\" Lasso \".center(18, \"=\"))\n",
    "print(lasso_cv.score(Xtrain_sc, ytrain))\n",
    "print(lasso_cv.score(Xtest_sc, ytest))"
   ]
  },
  {
   "cell_type": "markdown",
   "id": "345f7a0f",
   "metadata": {},
   "source": [
    "- as we predicted, Ridge and Lasso didn't improve the score by much, if it all. The OLS model had a high r2 score on both train and test data, so there was not much that Ridge and Lasso could do. The number of columns was already reduced before the regularization kicked in. Had we not reduced the number of columns severely during EDA, regularization benefits would've been much more keenly felt\n",
    "- next: try to improve results through feature selection"
   ]
  },
  {
   "cell_type": "markdown",
   "id": "f65c8c98",
   "metadata": {},
   "source": [
    "<a id = '6.0'><a/>\n",
    "### 6.0 Wrapper method search\n",
    "* [Back to top](#Content)"
   ]
  },
  {
   "cell_type": "markdown",
   "id": "0ceff830",
   "metadata": {},
   "source": [
    "- in a nutshell, our LinReg already has good predictive power. Due to that, not much improvement was noticed after regularization (as we expected). \n",
    "- the biggest reason for that was that we cut down the number of columns to only the essential ones (from 80 to 28), in addition to transforming them to give as much predictive power as possible. In such a system, there is not much need for regularization, which is more useful when it's needed to that job of reducing the number of columns\n",
    "- therefore the only thing that remains to be done is adjusting features to arrive at the winning combo."
   ]
  },
  {
   "cell_type": "markdown",
   "id": "465ca064",
   "metadata": {},
   "source": [
    "<a id = '6.1'><a/>\n",
    "### 6.1 Drop 9 features\n",
    "* [Back to top](#Content)"
   ]
  },
  {
   "cell_type": "markdown",
   "id": "f4b31a69",
   "metadata": {},
   "source": [
    "- first try a bit of brute force in order to stumble upon 20-feature list that produces similar r2 and rmse but with (9) fewer features (20 vs 29). call the function optimal_features created above. that function is especially customised for 20-features list: since there are over 10 million combinations, only 50 thousand will be tested due to computing capacity and speed"
   ]
  },
  {
   "cell_type": "code",
   "execution_count": 46,
   "id": "6d1af996",
   "metadata": {
    "ExecuteTime": {
     "end_time": "2022-01-06T05:36:00.014625Z",
     "start_time": "2022-01-06T05:35:57.507557Z"
    }
   },
   "outputs": [
    {
     "data": {
      "text/plain": [
       "10015005"
      ]
     },
     "execution_count": 46,
     "metadata": {},
     "output_type": "execute_result"
    }
   ],
   "source": [
    "len(list(itertools.combinations(X.columns, 20)))"
   ]
  },
  {
   "cell_type": "code",
   "execution_count": 47,
   "id": "4a40338d",
   "metadata": {
    "ExecuteTime": {
     "end_time": "2022-01-06T05:40:01.283529Z",
     "start_time": "2022-01-06T05:36:00.016496Z"
    }
   },
   "outputs": [
    {
     "name": "stdout",
     "output_type": "stream",
     "text": [
      "best r2 is:  0.9002 \n",
      "\n",
      "best 20-feature group is:  ['lotarea', 'overallqual', 'overallcond', 'totalbsmtsf', 'grlivarea', 'kitchenqual', 'zone_FV', 'zone_RL', 'near_busy_st', '2plus_fl', 'cncrt_found', 'bsmt_ord', 'cent_air_dum', 'garage_ord', 'fireplace_ord', 'lotfrontage_imp', 'remodel_age', 'tot_bath', 'nhood_1', 'nhood_3']\n"
     ]
    },
    {
     "data": {
      "text/plain": [
       "'discarded features are: '"
      ]
     },
     "metadata": {},
     "output_type": "display_data"
    },
    {
     "data": {
      "text/plain": [
       "{'deckporcharea',\n",
       " 'ext_ord',\n",
       " 'has_veneer',\n",
       " 'heatingqc_dum',\n",
       " 'hip_roof',\n",
       " 'lotshape_irr',\n",
       " 'non_1fam',\n",
       " 'paveddrive',\n",
       " 'zone_RM'}"
      ]
     },
     "metadata": {},
     "output_type": "display_data"
    }
   ],
   "source": [
    "# run the function to select 20 out of 29 features that give best r2 \n",
    "# as there are more than 10m combination, the function will select a random sample of 50000\n",
    "# to keep the running time of the cell under 10 minutes\n",
    "top20 = optimal_features(20)"
   ]
  },
  {
   "cell_type": "markdown",
   "id": "65f59aa1",
   "metadata": {},
   "source": [
    "- the cell above took a long time to run. the kernel got reset after that, but the 'winning' list of features is printed, copied and pasted below\n",
    "- the proof that the function optimal_features indeed works is below when we use it to drop only 2-4 features, which doesn't take nearly as long and does not require random sampling"
   ]
  },
  {
   "cell_type": "code",
   "execution_count": 48,
   "id": "eec373e5",
   "metadata": {
    "ExecuteTime": {
     "end_time": "2022-01-06T05:40:01.298763Z",
     "start_time": "2022-01-06T05:40:01.284735Z"
    },
    "scrolled": true
   },
   "outputs": [
    {
     "data": {
      "text/plain": [
       "['lotarea',\n",
       " 'overallqual',\n",
       " 'overallcond',\n",
       " 'totalbsmtsf',\n",
       " 'grlivarea',\n",
       " 'kitchenqual',\n",
       " 'zone_FV',\n",
       " 'zone_RL',\n",
       " 'near_busy_st',\n",
       " '2plus_fl',\n",
       " 'cncrt_found',\n",
       " 'bsmt_ord',\n",
       " 'cent_air_dum',\n",
       " 'garage_ord',\n",
       " 'fireplace_ord',\n",
       " 'lotfrontage_imp',\n",
       " 'remodel_age',\n",
       " 'tot_bath',\n",
       " 'nhood_1',\n",
       " 'nhood_3']"
      ]
     },
     "execution_count": 48,
     "metadata": {},
     "output_type": "execute_result"
    }
   ],
   "source": [
    "top20"
   ]
  },
  {
   "cell_type": "code",
   "execution_count": 49,
   "id": "691cb4db",
   "metadata": {
    "ExecuteTime": {
     "end_time": "2022-01-06T05:40:01.314134Z",
     "start_time": "2022-01-06T05:40:01.300726Z"
    }
   },
   "outputs": [],
   "source": [
    "# copy and paste to hardcode the winning list of features with only\n",
    "top20_hc = ['lotarea', 'overallqual','overallcond','totalbsmtsf','grlivarea','kitchenqual',\n",
    " 'zone_FV','zone_RL','near_busy_st','non_1fam','2plus_fl','ext_ord','bsmt_ord','cent_air_dum',\n",
    " 'garage_ord','fireplace_ord','lotfrontage_imp','remodel_age','tot_bath','nhood_3']"
   ]
  },
  {
   "cell_type": "code",
   "execution_count": 50,
   "id": "d1d45a44",
   "metadata": {
    "ExecuteTime": {
     "end_time": "2022-01-06T05:40:01.329558Z",
     "start_time": "2022-01-06T05:40:01.315321Z"
    }
   },
   "outputs": [
    {
     "data": {
      "text/plain": [
       "{'cncrt_found',\n",
       " 'deckporcharea',\n",
       " 'has_veneer',\n",
       " 'heatingqc_dum',\n",
       " 'hip_roof',\n",
       " 'lotshape_irr',\n",
       " 'nhood_1',\n",
       " 'paveddrive',\n",
       " 'zone_RM'}"
      ]
     },
     "execution_count": 50,
     "metadata": {},
     "output_type": "execute_result"
    }
   ],
   "source": [
    "# list of 9 columns that were discarded\n",
    "set(X.columns) - set(top20_hc)\n",
    "# discarded: {'cncrt_found','deckporcharea','has_veneer','heatingqc_dum','hip_roof','lotshape_irr','nhood_1',\n",
    "#  'paveddrive','zone_RM'}"
   ]
  },
  {
   "cell_type": "markdown",
   "id": "ed8051e7",
   "metadata": {},
   "source": [
    "#### now we don't have to run the function to find the top20 columns  for 10 minutes everytime we restart - the result is hardcoded into top20_hc"
   ]
  },
  {
   "cell_type": "markdown",
   "id": "15f6c0ed",
   "metadata": {},
   "source": [
    "<a id = '6.2'><a/>\n",
    "### 6.2 Ridge and Lasso without 9 features\n",
    "* [Back to top](#Content)"
   ]
  },
  {
   "cell_type": "code",
   "execution_count": 51,
   "id": "d029323d",
   "metadata": {
    "ExecuteTime": {
     "end_time": "2022-01-06T05:40:01.361025Z",
     "start_time": "2022-01-06T05:40:01.331421Z"
    }
   },
   "outputs": [],
   "source": [
    "# standardize before regularizing not to penalize large coefficients. \n",
    "# fit on Xtrain only, so that transformation is uniform\n",
    "sc = StandardScaler()\n",
    "Xtrain_sc = sc.fit_transform(Xtrain[top20_hc])\n",
    "Xtest_sc = sc.transform(Xtest[top20_hc])"
   ]
  },
  {
   "cell_type": "code",
   "execution_count": 52,
   "id": "56a5192c",
   "metadata": {
    "ExecuteTime": {
     "end_time": "2022-01-06T05:40:09.201359Z",
     "start_time": "2022-01-06T05:40:01.362531Z"
    }
   },
   "outputs": [
    {
     "name": "stdout",
     "output_type": "stream",
     "text": [
      "ideal alpha is  32.22\n"
     ]
    }
   ],
   "source": [
    "# Ridge regression with 20 features\n",
    "# create a list of alphas on different scales, using np.log\n",
    "rd_alpha = np.logspace(-5, 5, 800)\n",
    "\n",
    "#find the best alpha for the model\n",
    "rd_cv = RidgeCV(rd_alpha, cv = 5, scoring = 'r2')\n",
    "\n",
    "# Fit model using best ridge alpha!\n",
    "rd_cv.fit(Xtrain_sc, ytrain)\n",
    "best_alpha = rd_cv.alpha_\n",
    "print('ideal alpha is ', round(best_alpha, 2))"
   ]
  },
  {
   "cell_type": "code",
   "execution_count": 53,
   "id": "f5b57de4",
   "metadata": {
    "ExecuteTime": {
     "end_time": "2022-01-06T05:40:09.216627Z",
     "start_time": "2022-01-06T05:40:09.203439Z"
    }
   },
   "outputs": [
    {
     "name": "stdout",
     "output_type": "stream",
     "text": [
      "ridge r2 is  0.9008\n",
      "ridge r2 after reversing the log transformation is  0.9044\n",
      "ridge rmse is  24926\n"
     ]
    }
   ],
   "source": [
    "print('ridge r2 is ', round(rd_cv.score(Xtest_sc, ytest),4))\n",
    "\n",
    "#get prediction for ridge\n",
    "yhat = rd_cv.predict(Xtest_sc)\n",
    "\n",
    "print('ridge r2 after reversing the log transformation is ', round(r2_score(np.exp(ytest),\n",
    "                                                                            np.exp(yhat)),4))\n",
    "print('ridge rmse is ', round(mean_squared_error(np.exp(ytest), np.exp(yhat), squared=False)))"
   ]
  },
  {
   "cell_type": "code",
   "execution_count": 54,
   "id": "48000b3c",
   "metadata": {
    "ExecuteTime": {
     "end_time": "2022-01-06T05:40:09.591408Z",
     "start_time": "2022-01-06T05:40:09.218417Z"
    }
   },
   "outputs": [
    {
     "data": {
      "image/png": "[encoded data removed]",
      "text/plain": [
       "<Figure size 360x360 with 1 Axes>"
      ]
     },
     "metadata": {},
     "output_type": "display_data"
    }
   ],
   "source": [
    "#check the residual histogram\n",
    "resid_hgram(ytest, yhat)"
   ]
  },
  {
   "cell_type": "markdown",
   "id": "568c08bb",
   "metadata": {},
   "source": [
    "#### this is an improvement over the prior Ridge regression: the stats in the cell above (0.9008, 0.9044, 24926) are better than the numbers from the prior Ridge regression with a full set of 29 features (0.8997, 0.9029, 25119). The improvement in stats is miniscule, but the real improvement is getting it while reducing the number of features by 1/3."
   ]
  },
  {
   "cell_type": "code",
   "execution_count": 55,
   "id": "5675ac44",
   "metadata": {
    "ExecuteTime": {
     "end_time": "2022-01-06T05:40:10.119932Z",
     "start_time": "2022-01-06T05:40:09.592471Z"
    }
   },
   "outputs": [
    {
     "name": "stdout",
     "output_type": "stream",
     "text": [
      "ideal alpha is  0.0003\n"
     ]
    }
   ],
   "source": [
    "# Lasso regression with 20 features\n",
    "# use n_asphas for LassoCV to create alphas rather than logspace\n",
    "\n",
    "lasso_cv = LassoCV(n_alphas = 800, cv=5)\n",
    "\n",
    "lasso_cv.fit(Xtrain_sc, ytrain)\n",
    "\n",
    "best_alpha2 = lasso_cv.alpha_\n",
    "print ('ideal alpha is ', round(lasso_cv.alpha_,4))"
   ]
  },
  {
   "cell_type": "code",
   "execution_count": 56,
   "id": "804ad6b8",
   "metadata": {
    "ExecuteTime": {
     "end_time": "2022-01-06T05:40:10.135915Z",
     "start_time": "2022-01-06T05:40:10.121929Z"
    },
    "scrolled": true
   },
   "outputs": [
    {
     "name": "stdout",
     "output_type": "stream",
     "text": [
      "lasso r2 is  0.9\n",
      "lasso r2 after reversing the log transformation is  0.9043\n",
      "lasso rmse is  24931\n"
     ]
    }
   ],
   "source": [
    "print('lasso r2 is ', round(lasso_cv.score(Xtest_sc, ytest),4))\n",
    "\n",
    "#get prediction for lasso\n",
    "yhat = lasso_cv.predict(Xtest_sc)\n",
    "\n",
    "print('lasso r2 after reversing the log transformation is ', round(r2_score(np.exp(ytest),\n",
    "                                                                            np.exp(yhat)),4))\n",
    "print('lasso rmse is ', round(mean_squared_error(np.exp(ytest), np.exp(yhat), squared=False)))"
   ]
  },
  {
   "cell_type": "markdown",
   "id": "891c2725",
   "metadata": {},
   "source": [
    "#### this is an improvement over the prior Lasso regression: the stats in the cell above (0.9000, 0.9043, 24931) are better than the numbers from the prior Ridge regression which had a full set of 29 features (0.8972, 0.9017, 25266). The improvement in stats is miniscule, but the real improvement is getting it while reducing the number of features by 1/3.\n",
    "\n",
    "#### next up: instead of dropping 9 features, lets just drop 2, 3 and 4. this is much faster as the number of combinations is hundreds of times smaller."
   ]
  },
  {
   "cell_type": "markdown",
   "id": "e3a3b869",
   "metadata": {},
   "source": [
    "<a id = '6.3'><a/>\n",
    "### 6.3 Drop 2, 3 and 4 features\n",
    "* [Back to top](#Content)"
   ]
  },
  {
   "cell_type": "markdown",
   "id": "188dbf2b",
   "metadata": {},
   "source": [
    "#### unlike droping 9 columns, dropping 2, 3 or 4 doesn't take much processing time"
   ]
  },
  {
   "cell_type": "code",
   "execution_count": 57,
   "id": "41ad1ef2",
   "metadata": {
    "ExecuteTime": {
     "end_time": "2022-01-06T05:40:13.110726Z",
     "start_time": "2022-01-06T05:40:10.136908Z"
    }
   },
   "outputs": [
    {
     "name": "stdout",
     "output_type": "stream",
     "text": [
      "best r2 is:  0.9008 \n",
      "\n",
      "best 27-feature group is:  ['lotarea', 'overallqual', 'overallcond', 'totalbsmtsf', 'grlivarea', 'kitchenqual', 'zone_FV', 'zone_RL', 'zone_RM', 'lotshape_irr', 'near_busy_st', 'non_1fam', '2plus_fl', 'ext_ord', 'has_veneer', 'cncrt_found', 'bsmt_ord', 'heatingqc_dum', 'cent_air_dum', 'garage_ord', 'fireplace_ord', 'lotfrontage_imp', 'remodel_age', 'tot_bath', 'deckporcharea', 'nhood_1', 'nhood_3']\n"
     ]
    },
    {
     "data": {
      "text/plain": [
       "'discarded features are: '"
      ]
     },
     "metadata": {},
     "output_type": "display_data"
    },
    {
     "data": {
      "text/plain": [
       "{'hip_roof', 'paveddrive'}"
      ]
     },
     "metadata": {},
     "output_type": "display_data"
    }
   ],
   "source": [
    "top27 = optimal_features(27)"
   ]
  },
  {
   "cell_type": "code",
   "execution_count": 58,
   "id": "86bbea5f",
   "metadata": {
    "ExecuteTime": {
     "end_time": "2022-01-06T05:40:34.247063Z",
     "start_time": "2022-01-06T05:40:13.112212Z"
    }
   },
   "outputs": [
    {
     "name": "stdout",
     "output_type": "stream",
     "text": [
      "best r2 is:  0.9013 \n",
      "\n",
      "best 26-feature group is:  ['lotarea', 'overallqual', 'overallcond', 'totalbsmtsf', 'grlivarea', 'kitchenqual', 'zone_FV', 'zone_RL', 'zone_RM', 'lotshape_irr', 'near_busy_st', 'non_1fam', '2plus_fl', 'ext_ord', 'has_veneer', 'cncrt_found', 'bsmt_ord', 'heatingqc_dum', 'cent_air_dum', 'garage_ord', 'fireplace_ord', 'lotfrontage_imp', 'remodel_age', 'tot_bath', 'nhood_1', 'nhood_3']\n"
     ]
    },
    {
     "data": {
      "text/plain": [
       "'discarded features are: '"
      ]
     },
     "metadata": {},
     "output_type": "display_data"
    },
    {
     "data": {
      "text/plain": [
       "{'deckporcharea', 'hip_roof', 'paveddrive'}"
      ]
     },
     "metadata": {},
     "output_type": "display_data"
    },
    {
     "data": {
      "text/plain": [
       "['lotarea',\n",
       " 'overallqual',\n",
       " 'overallcond',\n",
       " 'totalbsmtsf',\n",
       " 'grlivarea',\n",
       " 'kitchenqual',\n",
       " 'zone_FV',\n",
       " 'zone_RL',\n",
       " 'zone_RM',\n",
       " 'lotshape_irr',\n",
       " 'near_busy_st',\n",
       " 'non_1fam',\n",
       " '2plus_fl',\n",
       " 'ext_ord',\n",
       " 'has_veneer',\n",
       " 'cncrt_found',\n",
       " 'bsmt_ord',\n",
       " 'heatingqc_dum',\n",
       " 'cent_air_dum',\n",
       " 'garage_ord',\n",
       " 'fireplace_ord',\n",
       " 'lotfrontage_imp',\n",
       " 'remodel_age',\n",
       " 'tot_bath',\n",
       " 'nhood_1',\n",
       " 'nhood_3']"
      ]
     },
     "execution_count": 58,
     "metadata": {},
     "output_type": "execute_result"
    }
   ],
   "source": [
    "#the above cell shows that the best combo with 27 features is with {'hip_roof', 'paveddrive'}\n",
    "# discarded\n",
    "optimal_features(26)"
   ]
  },
  {
   "cell_type": "code",
   "execution_count": 59,
   "id": "c643cb9e",
   "metadata": {
    "ExecuteTime": {
     "end_time": "2022-01-06T05:43:01.893123Z",
     "start_time": "2022-01-06T05:40:34.249144Z"
    },
    "scrolled": false
   },
   "outputs": [
    {
     "name": "stdout",
     "output_type": "stream",
     "text": [
      "best r2 is:  0.9015 \n",
      "\n",
      "best 25-feature group is:  ['lotarea', 'overallqual', 'overallcond', 'totalbsmtsf', 'grlivarea', 'kitchenqual', 'zone_FV', 'zone_RL', 'zone_RM', 'lotshape_irr', 'near_busy_st', 'non_1fam', '2plus_fl', 'ext_ord', 'has_veneer', 'cncrt_found', 'bsmt_ord', 'cent_air_dum', 'garage_ord', 'fireplace_ord', 'lotfrontage_imp', 'remodel_age', 'tot_bath', 'nhood_1', 'nhood_3']\n"
     ]
    },
    {
     "data": {
      "text/plain": [
       "'discarded features are: '"
      ]
     },
     "metadata": {},
     "output_type": "display_data"
    },
    {
     "data": {
      "text/plain": [
       "{'deckporcharea', 'heatingqc_dum', 'hip_roof', 'paveddrive'}"
      ]
     },
     "metadata": {},
     "output_type": "display_data"
    },
    {
     "data": {
      "text/plain": [
       "['lotarea',\n",
       " 'overallqual',\n",
       " 'overallcond',\n",
       " 'totalbsmtsf',\n",
       " 'grlivarea',\n",
       " 'kitchenqual',\n",
       " 'zone_FV',\n",
       " 'zone_RL',\n",
       " 'zone_RM',\n",
       " 'lotshape_irr',\n",
       " 'near_busy_st',\n",
       " 'non_1fam',\n",
       " '2plus_fl',\n",
       " 'ext_ord',\n",
       " 'has_veneer',\n",
       " 'cncrt_found',\n",
       " 'bsmt_ord',\n",
       " 'cent_air_dum',\n",
       " 'garage_ord',\n",
       " 'fireplace_ord',\n",
       " 'lotfrontage_imp',\n",
       " 'remodel_age',\n",
       " 'tot_bath',\n",
       " 'nhood_1',\n",
       " 'nhood_3']"
      ]
     },
     "execution_count": 59,
     "metadata": {},
     "output_type": "execute_result"
    }
   ],
   "source": [
    "#the above cell shows that the best combo with 26 features is with {'hip_roof', 'paveddrive',\n",
    "# and deckporcharea} discarded\n",
    "optimal_features(25)"
   ]
  },
  {
   "cell_type": "markdown",
   "id": "e5e5731b",
   "metadata": {},
   "source": [
    "- finally, with 4 columns to discard, the 4 that give the highest r2 are {'deckporcharea', 'heatingqc_dum', 'hip_roof', 'paveddrive'}\n",
    "- the same colums appear as candidates for the discard, whether we are discarding 2,3,4 or 9 columns\n",
    "- later when we add 3 new 'year sold' dummies, we will discard the top names on discard lists, which are {'deckporcharea', 'hip_roof' and 'paveddrive'} as our goal is never to go beyond 30 features"
   ]
  },
  {
   "cell_type": "code",
   "execution_count": 60,
   "id": "4e70429d",
   "metadata": {
    "ExecuteTime": {
     "end_time": "2022-01-06T05:43:01.925029Z",
     "start_time": "2022-01-06T05:43:01.894953Z"
    },
    "scrolled": true
   },
   "outputs": [
    {
     "name": "stdout",
     "output_type": "stream",
     "text": [
      "r2 is 0.9015\n",
      "rmse is 24959\n",
      "r2 after reversing the log transformation is 0.9041\n"
     ]
    }
   ],
   "source": [
    "# run LinReg on the 25 features set, as it produced the highest r2. \n",
    "# after we run we should get the same r2 of 0.9015, and we'll also get to see the rmse.\n",
    "Xtrain3 = Xtrain.drop(columns=['deckporcharea', 'heatingqc_dum', 'hip_roof', 'paveddrive'])\n",
    "Xtest3 = Xtest.drop(columns=['deckporcharea', 'heatingqc_dum', 'hip_roof', 'paveddrive'])\n",
    "\n",
    "lr2 = LinearRegression().fit(Xtrain3, ytrain)\n",
    "print('r2 is', round(lr2.score(Xtest3, ytest), 4))\n",
    "yhat = lr2.predict(Xtest3)\n",
    "print('rmse is', round(mean_squared_error(np.exp(ytest), np.exp(yhat), squared=False)))\n",
    "print('r2 after reversing the log transformation is', round(r2_score(np.exp(ytest), np.exp(yhat)), 4))"
   ]
  },
  {
   "cell_type": "code",
   "execution_count": 61,
   "id": "b27e4f6d",
   "metadata": {
    "ExecuteTime": {
     "end_time": "2022-01-06T05:43:02.003315Z",
     "start_time": "2022-01-06T05:43:01.927406Z"
    }
   },
   "outputs": [
    {
     "data": {
      "text/plain": [
       "0.8924583816211435"
      ]
     },
     "execution_count": 61,
     "metadata": {},
     "output_type": "execute_result"
    }
   ],
   "source": [
    "cross_val_score(lr2, Xtrain3, ytrain, cv=8).mean()"
   ]
  },
  {
   "cell_type": "code",
   "execution_count": 62,
   "id": "47cb6ff1",
   "metadata": {
    "ExecuteTime": {
     "end_time": "2022-01-06T05:43:02.408943Z",
     "start_time": "2022-01-06T05:43:02.005528Z"
    }
   },
   "outputs": [
    {
     "data": {
      "image/png": "[encoded data removed]",
      "text/plain": [
       "<Figure size 360x360 with 1 Axes>"
      ]
     },
     "metadata": {},
     "output_type": "display_data"
    }
   ],
   "source": [
    "# check the residual histogram\n",
    "resid_hgram(ytest, yhat)"
   ]
  },
  {
   "cell_type": "markdown",
   "id": "980dedbd",
   "metadata": {},
   "source": [
    "#### this 'brute force' project was somewhat successful. it took a lot of time and computational resources, but we managed to improve the r2 and rmse somewhat. we also got rid of a few columns, which we can now replace with 'yr sold' and still be under our goal of 30."
   ]
  },
  {
   "cell_type": "markdown",
   "id": "86191483",
   "metadata": {},
   "source": [
    "<a id = '6.4'><a/>\n",
    "### 6.4 Add back the 'year sold' column\n",
    "* [Back to top](#Content)"
   ]
  },
  {
   "cell_type": "code",
   "execution_count": 63,
   "id": "eff7f1db",
   "metadata": {
    "ExecuteTime": {
     "end_time": "2022-01-06T05:43:02.454054Z",
     "start_time": "2022-01-06T05:43:02.411019Z"
    },
    "scrolled": false
   },
   "outputs": [
    {
     "data": {
      "text/html": [
       "<div>\n",
       "<style scoped>\n",
       "    .dataframe tbody tr th:only-of-type {\n",
       "        vertical-align: middle;\n",
       "    }\n",
       "\n",
       "    .dataframe tbody tr th {\n",
       "        vertical-align: top;\n",
       "    }\n",
       "\n",
       "    .dataframe thead th {\n",
       "        text-align: right;\n",
       "    }\n",
       "</style>\n",
       "<table border=\"1\" class=\"dataframe\">\n",
       "  <thead>\n",
       "    <tr style=\"text-align: right;\">\n",
       "      <th></th>\n",
       "      <th>lotarea</th>\n",
       "      <th>overallqual</th>\n",
       "      <th>overallcond</th>\n",
       "      <th>totalbsmtsf</th>\n",
       "      <th>grlivarea</th>\n",
       "      <th>kitchenqual</th>\n",
       "      <th>paveddrive</th>\n",
       "      <th>zone_FV</th>\n",
       "      <th>zone_RL</th>\n",
       "      <th>zone_RM</th>\n",
       "      <th>...</th>\n",
       "      <th>heatingqc_dum</th>\n",
       "      <th>cent_air_dum</th>\n",
       "      <th>garage_ord</th>\n",
       "      <th>fireplace_ord</th>\n",
       "      <th>lotfrontage_imp</th>\n",
       "      <th>remodel_age</th>\n",
       "      <th>tot_bath</th>\n",
       "      <th>deckporcharea</th>\n",
       "      <th>nhood_1</th>\n",
       "      <th>nhood_3</th>\n",
       "    </tr>\n",
       "  </thead>\n",
       "  <tbody>\n",
       "    <tr>\n",
       "      <th>1854</th>\n",
       "      <td>8.909776</td>\n",
       "      <td>4</td>\n",
       "      <td>6</td>\n",
       "      <td>861.0</td>\n",
       "      <td>6.758095</td>\n",
       "      <td>1</td>\n",
       "      <td>0</td>\n",
       "      <td>0</td>\n",
       "      <td>0</td>\n",
       "      <td>1</td>\n",
       "      <td>...</td>\n",
       "      <td>0</td>\n",
       "      <td>1</td>\n",
       "      <td>1.00</td>\n",
       "      <td>0.00</td>\n",
       "      <td>62.000000</td>\n",
       "      <td>61</td>\n",
       "      <td>1.0</td>\n",
       "      <td>0.0</td>\n",
       "      <td>1</td>\n",
       "      <td>0</td>\n",
       "    </tr>\n",
       "    <tr>\n",
       "      <th>250</th>\n",
       "      <td>9.386728</td>\n",
       "      <td>8</td>\n",
       "      <td>7</td>\n",
       "      <td>1242.0</td>\n",
       "      <td>7.824446</td>\n",
       "      <td>2</td>\n",
       "      <td>1</td>\n",
       "      <td>0</td>\n",
       "      <td>1</td>\n",
       "      <td>0</td>\n",
       "      <td>...</td>\n",
       "      <td>1</td>\n",
       "      <td>1</td>\n",
       "      <td>2.00</td>\n",
       "      <td>1.00</td>\n",
       "      <td>76.978789</td>\n",
       "      <td>16</td>\n",
       "      <td>2.5</td>\n",
       "      <td>279.0</td>\n",
       "      <td>0</td>\n",
       "      <td>1</td>\n",
       "    </tr>\n",
       "    <tr>\n",
       "      <th>413</th>\n",
       "      <td>9.200290</td>\n",
       "      <td>6</td>\n",
       "      <td>7</td>\n",
       "      <td>778.0</td>\n",
       "      <td>7.305860</td>\n",
       "      <td>1</td>\n",
       "      <td>1</td>\n",
       "      <td>0</td>\n",
       "      <td>1</td>\n",
       "      <td>0</td>\n",
       "      <td>...</td>\n",
       "      <td>0</td>\n",
       "      <td>1</td>\n",
       "      <td>0.67</td>\n",
       "      <td>1.25</td>\n",
       "      <td>60.000000</td>\n",
       "      <td>61</td>\n",
       "      <td>2.0</td>\n",
       "      <td>335.0</td>\n",
       "      <td>1</td>\n",
       "      <td>0</td>\n",
       "    </tr>\n",
       "    <tr>\n",
       "      <th>1333</th>\n",
       "      <td>9.069353</td>\n",
       "      <td>7</td>\n",
       "      <td>5</td>\n",
       "      <td>1425.0</td>\n",
       "      <td>7.261927</td>\n",
       "      <td>1</td>\n",
       "      <td>1</td>\n",
       "      <td>0</td>\n",
       "      <td>1</td>\n",
       "      <td>0</td>\n",
       "      <td>...</td>\n",
       "      <td>1</td>\n",
       "      <td>1</td>\n",
       "      <td>1.67</td>\n",
       "      <td>0.00</td>\n",
       "      <td>65.804133</td>\n",
       "      <td>13</td>\n",
       "      <td>3.0</td>\n",
       "      <td>130.0</td>\n",
       "      <td>1</td>\n",
       "      <td>0</td>\n",
       "    </tr>\n",
       "    <tr>\n",
       "      <th>310</th>\n",
       "      <td>9.606428</td>\n",
       "      <td>8</td>\n",
       "      <td>5</td>\n",
       "      <td>1778.0</td>\n",
       "      <td>7.487734</td>\n",
       "      <td>2</td>\n",
       "      <td>1</td>\n",
       "      <td>0</td>\n",
       "      <td>1</td>\n",
       "      <td>0</td>\n",
       "      <td>...</td>\n",
       "      <td>1</td>\n",
       "      <td>1</td>\n",
       "      <td>2.00</td>\n",
       "      <td>1.25</td>\n",
       "      <td>85.821139</td>\n",
       "      <td>8</td>\n",
       "      <td>3.0</td>\n",
       "      <td>217.0</td>\n",
       "      <td>1</td>\n",
       "      <td>0</td>\n",
       "    </tr>\n",
       "  </tbody>\n",
       "</table>\n",
       "<p>5 rows × 29 columns</p>\n",
       "</div>"
      ],
      "text/plain": [
       "       lotarea  overallqual  overallcond  totalbsmtsf  grlivarea  kitchenqual  \\\n",
       "1854  8.909776            4            6        861.0   6.758095            1   \n",
       "250   9.386728            8            7       1242.0   7.824446            2   \n",
       "413   9.200290            6            7        778.0   7.305860            1   \n",
       "1333  9.069353            7            5       1425.0   7.261927            1   \n",
       "310   9.606428            8            5       1778.0   7.487734            2   \n",
       "\n",
       "      paveddrive  zone_FV  zone_RL  zone_RM  ...  heatingqc_dum  cent_air_dum  \\\n",
       "1854           0        0        0        1  ...              0             1   \n",
       "250            1        0        1        0  ...              1             1   \n",
       "413            1        0        1        0  ...              0             1   \n",
       "1333           1        0        1        0  ...              1             1   \n",
       "310            1        0        1        0  ...              1             1   \n",
       "\n",
       "      garage_ord  fireplace_ord  lotfrontage_imp  remodel_age  tot_bath  \\\n",
       "1854        1.00           0.00        62.000000           61       1.0   \n",
       "250         2.00           1.00        76.978789           16       2.5   \n",
       "413         0.67           1.25        60.000000           61       2.0   \n",
       "1333        1.67           0.00        65.804133           13       3.0   \n",
       "310         2.00           1.25        85.821139            8       3.0   \n",
       "\n",
       "      deckporcharea  nhood_1  nhood_3  \n",
       "1854            0.0        1        0  \n",
       "250           279.0        0        1  \n",
       "413           335.0        1        0  \n",
       "1333          130.0        1        0  \n",
       "310           217.0        1        0  \n",
       "\n",
       "[5 rows x 29 columns]"
      ]
     },
     "execution_count": 63,
     "metadata": {},
     "output_type": "execute_result"
    }
   ],
   "source": [
    "Xtrain.head()"
   ]
  },
  {
   "cell_type": "code",
   "execution_count": 64,
   "id": "2586ea6d",
   "metadata": {
    "ExecuteTime": {
     "end_time": "2022-01-06T05:43:02.485847Z",
     "start_time": "2022-01-06T05:43:02.455092Z"
    },
    "scrolled": true
   },
   "outputs": [
    {
     "data": {
      "text/html": [
       "<div>\n",
       "<style scoped>\n",
       "    .dataframe tbody tr th:only-of-type {\n",
       "        vertical-align: middle;\n",
       "    }\n",
       "\n",
       "    .dataframe tbody tr th {\n",
       "        vertical-align: top;\n",
       "    }\n",
       "\n",
       "    .dataframe thead th {\n",
       "        text-align: right;\n",
       "    }\n",
       "</style>\n",
       "<table border=\"1\" class=\"dataframe\">\n",
       "  <thead>\n",
       "    <tr style=\"text-align: right;\">\n",
       "      <th></th>\n",
       "      <th>lotarea</th>\n",
       "      <th>overallqual</th>\n",
       "      <th>overallcond</th>\n",
       "      <th>totalbsmtsf</th>\n",
       "      <th>grlivarea</th>\n",
       "      <th>kitchenqual</th>\n",
       "      <th>paveddrive</th>\n",
       "      <th>zone_FV</th>\n",
       "      <th>zone_RL</th>\n",
       "      <th>zone_RM</th>\n",
       "      <th>...</th>\n",
       "      <th>heatingqc_dum</th>\n",
       "      <th>cent_air_dum</th>\n",
       "      <th>garage_ord</th>\n",
       "      <th>fireplace_ord</th>\n",
       "      <th>lotfrontage_imp</th>\n",
       "      <th>remodel_age</th>\n",
       "      <th>tot_bath</th>\n",
       "      <th>deckporcharea</th>\n",
       "      <th>nhood_1</th>\n",
       "      <th>nhood_3</th>\n",
       "    </tr>\n",
       "  </thead>\n",
       "  <tbody>\n",
       "    <tr>\n",
       "      <th>1316</th>\n",
       "      <td>9.168268</td>\n",
       "      <td>8</td>\n",
       "      <td>5</td>\n",
       "      <td>1482.0</td>\n",
       "      <td>7.853216</td>\n",
       "      <td>3</td>\n",
       "      <td>1</td>\n",
       "      <td>0</td>\n",
       "      <td>1</td>\n",
       "      <td>0</td>\n",
       "      <td>...</td>\n",
       "      <td>1</td>\n",
       "      <td>1</td>\n",
       "      <td>2.33</td>\n",
       "      <td>1.25</td>\n",
       "      <td>69.000000</td>\n",
       "      <td>4</td>\n",
       "      <td>2.5</td>\n",
       "      <td>148.0</td>\n",
       "      <td>1</td>\n",
       "      <td>0</td>\n",
       "    </tr>\n",
       "    <tr>\n",
       "      <th>1000</th>\n",
       "      <td>9.166597</td>\n",
       "      <td>8</td>\n",
       "      <td>5</td>\n",
       "      <td>1453.0</td>\n",
       "      <td>7.940940</td>\n",
       "      <td>2</td>\n",
       "      <td>1</td>\n",
       "      <td>0</td>\n",
       "      <td>1</td>\n",
       "      <td>0</td>\n",
       "      <td>...</td>\n",
       "      <td>1</td>\n",
       "      <td>1</td>\n",
       "      <td>1.67</td>\n",
       "      <td>1.75</td>\n",
       "      <td>69.041669</td>\n",
       "      <td>21</td>\n",
       "      <td>2.5</td>\n",
       "      <td>500.0</td>\n",
       "      <td>0</td>\n",
       "      <td>1</td>\n",
       "    </tr>\n",
       "    <tr>\n",
       "      <th>1068</th>\n",
       "      <td>8.384576</td>\n",
       "      <td>8</td>\n",
       "      <td>5</td>\n",
       "      <td>1378.0</td>\n",
       "      <td>7.228388</td>\n",
       "      <td>2</td>\n",
       "      <td>1</td>\n",
       "      <td>1</td>\n",
       "      <td>0</td>\n",
       "      <td>0</td>\n",
       "      <td>...</td>\n",
       "      <td>1</td>\n",
       "      <td>1</td>\n",
       "      <td>1.67</td>\n",
       "      <td>1.25</td>\n",
       "      <td>45.000000</td>\n",
       "      <td>7</td>\n",
       "      <td>3.0</td>\n",
       "      <td>216.0</td>\n",
       "      <td>0</td>\n",
       "      <td>1</td>\n",
       "    </tr>\n",
       "    <tr>\n",
       "      <th>1970</th>\n",
       "      <td>9.342596</td>\n",
       "      <td>7</td>\n",
       "      <td>8</td>\n",
       "      <td>728.0</td>\n",
       "      <td>7.610358</td>\n",
       "      <td>2</td>\n",
       "      <td>1</td>\n",
       "      <td>0</td>\n",
       "      <td>1</td>\n",
       "      <td>0</td>\n",
       "      <td>...</td>\n",
       "      <td>0</td>\n",
       "      <td>0</td>\n",
       "      <td>1.00</td>\n",
       "      <td>0.00</td>\n",
       "      <td>60.000000</td>\n",
       "      <td>18</td>\n",
       "      <td>1.0</td>\n",
       "      <td>644.0</td>\n",
       "      <td>1</td>\n",
       "      <td>0</td>\n",
       "    </tr>\n",
       "    <tr>\n",
       "      <th>529</th>\n",
       "      <td>9.298901</td>\n",
       "      <td>5</td>\n",
       "      <td>5</td>\n",
       "      <td>1678.0</td>\n",
       "      <td>7.425358</td>\n",
       "      <td>1</td>\n",
       "      <td>1</td>\n",
       "      <td>0</td>\n",
       "      <td>1</td>\n",
       "      <td>0</td>\n",
       "      <td>...</td>\n",
       "      <td>0</td>\n",
       "      <td>1</td>\n",
       "      <td>0.00</td>\n",
       "      <td>0.00</td>\n",
       "      <td>65.000000</td>\n",
       "      <td>52</td>\n",
       "      <td>2.0</td>\n",
       "      <td>0.0</td>\n",
       "      <td>0</td>\n",
       "      <td>1</td>\n",
       "    </tr>\n",
       "  </tbody>\n",
       "</table>\n",
       "<p>5 rows × 29 columns</p>\n",
       "</div>"
      ],
      "text/plain": [
       "       lotarea  overallqual  overallcond  totalbsmtsf  grlivarea  kitchenqual  \\\n",
       "1316  9.168268            8            5       1482.0   7.853216            3   \n",
       "1000  9.166597            8            5       1453.0   7.940940            2   \n",
       "1068  8.384576            8            5       1378.0   7.228388            2   \n",
       "1970  9.342596            7            8        728.0   7.610358            2   \n",
       "529   9.298901            5            5       1678.0   7.425358            1   \n",
       "\n",
       "      paveddrive  zone_FV  zone_RL  zone_RM  ...  heatingqc_dum  cent_air_dum  \\\n",
       "1316           1        0        1        0  ...              1             1   \n",
       "1000           1        0        1        0  ...              1             1   \n",
       "1068           1        1        0        0  ...              1             1   \n",
       "1970           1        0        1        0  ...              0             0   \n",
       "529            1        0        1        0  ...              0             1   \n",
       "\n",
       "      garage_ord  fireplace_ord  lotfrontage_imp  remodel_age  tot_bath  \\\n",
       "1316        2.33           1.25        69.000000            4       2.5   \n",
       "1000        1.67           1.75        69.041669           21       2.5   \n",
       "1068        1.67           1.25        45.000000            7       3.0   \n",
       "1970        1.00           0.00        60.000000           18       1.0   \n",
       "529         0.00           0.00        65.000000           52       2.0   \n",
       "\n",
       "      deckporcharea  nhood_1  nhood_3  \n",
       "1316          148.0        1        0  \n",
       "1000          500.0        0        1  \n",
       "1068          216.0        0        1  \n",
       "1970          644.0        1        0  \n",
       "529             0.0        0        1  \n",
       "\n",
       "[5 rows x 29 columns]"
      ]
     },
     "execution_count": 64,
     "metadata": {},
     "output_type": "execute_result"
    }
   ],
   "source": [
    "Xtest.head()"
   ]
  },
  {
   "cell_type": "markdown",
   "id": "936feb35",
   "metadata": {},
   "source": [
    "#### merge the 'year sold' column into test and train set"
   ]
  },
  {
   "cell_type": "code",
   "execution_count": 65,
   "id": "9e1ea315",
   "metadata": {
    "ExecuteTime": {
     "end_time": "2022-01-06T05:43:02.502099Z",
     "start_time": "2022-01-06T05:43:02.486891Z"
    }
   },
   "outputs": [],
   "source": [
    "#add it to both train and test dataframe, use left join on index\n",
    "Xtrain = pd.merge(Xtrain, yr, how='left', right_index=True, left_index=True)\n",
    "Xtest = pd.merge(Xtest, yr, how='left', right_index=True, left_index=True)"
   ]
  },
  {
   "cell_type": "code",
   "execution_count": 66,
   "id": "34bf4c39",
   "metadata": {
    "ExecuteTime": {
     "end_time": "2022-01-06T05:43:02.518201Z",
     "start_time": "2022-01-06T05:43:02.503137Z"
    }
   },
   "outputs": [
    {
     "data": {
      "text/plain": [
       "0"
      ]
     },
     "execution_count": 66,
     "metadata": {},
     "output_type": "execute_result"
    }
   ],
   "source": [
    "# if some index numbers didn't line up, there'd be null values\n",
    "Xtrain.isnull().sum().sum()"
   ]
  },
  {
   "cell_type": "code",
   "execution_count": 67,
   "id": "85bbc3f5",
   "metadata": {
    "ExecuteTime": {
     "end_time": "2022-01-06T05:43:02.533327Z",
     "start_time": "2022-01-06T05:43:02.519082Z"
    }
   },
   "outputs": [
    {
     "name": "stdout",
     "output_type": "stream",
     "text": [
      "(1532, 30) (511, 30)\n"
     ]
    }
   ],
   "source": [
    "print(Xtrain.shape, Xtest.shape)"
   ]
  },
  {
   "cell_type": "code",
   "execution_count": 68,
   "id": "ad7b3b8c",
   "metadata": {
    "ExecuteTime": {
     "end_time": "2022-01-06T05:43:02.564788Z",
     "start_time": "2022-01-06T05:43:02.534411Z"
    }
   },
   "outputs": [],
   "source": [
    "# it looks ok, but still check 2 rows from both test and train to make sure the merge was ok\n",
    "df_check = pd.read_csv('../datasets/train_cat&num_clean.csv')"
   ]
  },
  {
   "cell_type": "code",
   "execution_count": 69,
   "id": "ecd12513",
   "metadata": {
    "ExecuteTime": {
     "end_time": "2022-01-06T05:43:02.611600Z",
     "start_time": "2022-01-06T05:43:02.567328Z"
    }
   },
   "outputs": [
    {
     "data": {
      "text/html": [
       "<div>\n",
       "<style scoped>\n",
       "    .dataframe tbody tr th:only-of-type {\n",
       "        vertical-align: middle;\n",
       "    }\n",
       "\n",
       "    .dataframe tbody tr th {\n",
       "        vertical-align: top;\n",
       "    }\n",
       "\n",
       "    .dataframe thead th {\n",
       "        text-align: right;\n",
       "    }\n",
       "</style>\n",
       "<table border=\"1\" class=\"dataframe\">\n",
       "  <thead>\n",
       "    <tr style=\"text-align: right;\">\n",
       "      <th></th>\n",
       "      <th>lotarea</th>\n",
       "      <th>neighborhood</th>\n",
       "      <th>overallqual</th>\n",
       "      <th>overallcond</th>\n",
       "      <th>totalbsmtsf</th>\n",
       "      <th>grlivarea</th>\n",
       "      <th>kitchenqual</th>\n",
       "      <th>paveddrive</th>\n",
       "      <th>yrsold</th>\n",
       "      <th>saleprice</th>\n",
       "      <th>...</th>\n",
       "      <th>cncrt_found</th>\n",
       "      <th>bsmt_ord</th>\n",
       "      <th>heatingqc_dum</th>\n",
       "      <th>cent_air_dum</th>\n",
       "      <th>garage_ord</th>\n",
       "      <th>fireplace_ord</th>\n",
       "      <th>lotfrontage_imp</th>\n",
       "      <th>remodel_age</th>\n",
       "      <th>tot_bath</th>\n",
       "      <th>deckporcharea</th>\n",
       "    </tr>\n",
       "  </thead>\n",
       "  <tbody>\n",
       "    <tr>\n",
       "      <th>1970</th>\n",
       "      <td>9.342596</td>\n",
       "      <td>1</td>\n",
       "      <td>7</td>\n",
       "      <td>8</td>\n",
       "      <td>6.591674</td>\n",
       "      <td>7.610358</td>\n",
       "      <td>2</td>\n",
       "      <td>1</td>\n",
       "      <td>2009</td>\n",
       "      <td>12.028739</td>\n",
       "      <td>...</td>\n",
       "      <td>0</td>\n",
       "      <td>2.00</td>\n",
       "      <td>0</td>\n",
       "      <td>0</td>\n",
       "      <td>1.0</td>\n",
       "      <td>0.0</td>\n",
       "      <td>60.0</td>\n",
       "      <td>18</td>\n",
       "      <td>1.0</td>\n",
       "      <td>6.46925</td>\n",
       "    </tr>\n",
       "    <tr>\n",
       "      <th>529</th>\n",
       "      <td>9.298901</td>\n",
       "      <td>3</td>\n",
       "      <td>5</td>\n",
       "      <td>5</td>\n",
       "      <td>7.425954</td>\n",
       "      <td>7.425358</td>\n",
       "      <td>1</td>\n",
       "      <td>1</td>\n",
       "      <td>2009</td>\n",
       "      <td>11.694413</td>\n",
       "      <td>...</td>\n",
       "      <td>0</td>\n",
       "      <td>1.75</td>\n",
       "      <td>0</td>\n",
       "      <td>1</td>\n",
       "      <td>0.0</td>\n",
       "      <td>0.0</td>\n",
       "      <td>65.0</td>\n",
       "      <td>52</td>\n",
       "      <td>2.0</td>\n",
       "      <td>0.00000</td>\n",
       "    </tr>\n",
       "  </tbody>\n",
       "</table>\n",
       "<p>2 rows × 30 columns</p>\n",
       "</div>"
      ],
      "text/plain": [
       "       lotarea  neighborhood  overallqual  overallcond  totalbsmtsf  \\\n",
       "1970  9.342596             1            7            8     6.591674   \n",
       "529   9.298901             3            5            5     7.425954   \n",
       "\n",
       "      grlivarea  kitchenqual  paveddrive  yrsold  saleprice  ...  cncrt_found  \\\n",
       "1970   7.610358            2           1    2009  12.028739  ...            0   \n",
       "529    7.425358            1           1    2009  11.694413  ...            0   \n",
       "\n",
       "      bsmt_ord  heatingqc_dum  cent_air_dum  garage_ord  fireplace_ord  \\\n",
       "1970      2.00              0             0         1.0            0.0   \n",
       "529       1.75              0             1         0.0            0.0   \n",
       "\n",
       "      lotfrontage_imp  remodel_age  tot_bath  deckporcharea  \n",
       "1970             60.0           18       1.0        6.46925  \n",
       "529              65.0           52       2.0        0.00000  \n",
       "\n",
       "[2 rows x 30 columns]"
      ]
     },
     "execution_count": 69,
     "metadata": {},
     "output_type": "execute_result"
    }
   ],
   "source": [
    "df_check.loc[[1970,529]]"
   ]
  },
  {
   "cell_type": "code",
   "execution_count": 70,
   "id": "bee0e614",
   "metadata": {
    "ExecuteTime": {
     "end_time": "2022-01-06T05:43:02.642988Z",
     "start_time": "2022-01-06T05:43:02.612984Z"
    }
   },
   "outputs": [
    {
     "data": {
      "text/html": [
       "<div>\n",
       "<style scoped>\n",
       "    .dataframe tbody tr th:only-of-type {\n",
       "        vertical-align: middle;\n",
       "    }\n",
       "\n",
       "    .dataframe tbody tr th {\n",
       "        vertical-align: top;\n",
       "    }\n",
       "\n",
       "    .dataframe thead th {\n",
       "        text-align: right;\n",
       "    }\n",
       "</style>\n",
       "<table border=\"1\" class=\"dataframe\">\n",
       "  <thead>\n",
       "    <tr style=\"text-align: right;\">\n",
       "      <th></th>\n",
       "      <th>lotarea</th>\n",
       "      <th>overallqual</th>\n",
       "      <th>overallcond</th>\n",
       "      <th>totalbsmtsf</th>\n",
       "      <th>grlivarea</th>\n",
       "      <th>kitchenqual</th>\n",
       "      <th>paveddrive</th>\n",
       "      <th>zone_FV</th>\n",
       "      <th>zone_RL</th>\n",
       "      <th>zone_RM</th>\n",
       "      <th>...</th>\n",
       "      <th>cent_air_dum</th>\n",
       "      <th>garage_ord</th>\n",
       "      <th>fireplace_ord</th>\n",
       "      <th>lotfrontage_imp</th>\n",
       "      <th>remodel_age</th>\n",
       "      <th>tot_bath</th>\n",
       "      <th>deckporcharea</th>\n",
       "      <th>nhood_1</th>\n",
       "      <th>nhood_3</th>\n",
       "      <th>yrsold</th>\n",
       "    </tr>\n",
       "  </thead>\n",
       "  <tbody>\n",
       "    <tr>\n",
       "      <th>1970</th>\n",
       "      <td>9.342596</td>\n",
       "      <td>7</td>\n",
       "      <td>8</td>\n",
       "      <td>728.0</td>\n",
       "      <td>7.610358</td>\n",
       "      <td>2</td>\n",
       "      <td>1</td>\n",
       "      <td>0</td>\n",
       "      <td>1</td>\n",
       "      <td>0</td>\n",
       "      <td>...</td>\n",
       "      <td>0</td>\n",
       "      <td>1.0</td>\n",
       "      <td>0.0</td>\n",
       "      <td>60.0</td>\n",
       "      <td>18</td>\n",
       "      <td>1.0</td>\n",
       "      <td>644.0</td>\n",
       "      <td>1</td>\n",
       "      <td>0</td>\n",
       "      <td>2009</td>\n",
       "    </tr>\n",
       "    <tr>\n",
       "      <th>529</th>\n",
       "      <td>9.298901</td>\n",
       "      <td>5</td>\n",
       "      <td>5</td>\n",
       "      <td>1678.0</td>\n",
       "      <td>7.425358</td>\n",
       "      <td>1</td>\n",
       "      <td>1</td>\n",
       "      <td>0</td>\n",
       "      <td>1</td>\n",
       "      <td>0</td>\n",
       "      <td>...</td>\n",
       "      <td>1</td>\n",
       "      <td>0.0</td>\n",
       "      <td>0.0</td>\n",
       "      <td>65.0</td>\n",
       "      <td>52</td>\n",
       "      <td>2.0</td>\n",
       "      <td>0.0</td>\n",
       "      <td>0</td>\n",
       "      <td>1</td>\n",
       "      <td>2009</td>\n",
       "    </tr>\n",
       "  </tbody>\n",
       "</table>\n",
       "<p>2 rows × 30 columns</p>\n",
       "</div>"
      ],
      "text/plain": [
       "       lotarea  overallqual  overallcond  totalbsmtsf  grlivarea  kitchenqual  \\\n",
       "1970  9.342596            7            8        728.0   7.610358            2   \n",
       "529   9.298901            5            5       1678.0   7.425358            1   \n",
       "\n",
       "      paveddrive  zone_FV  zone_RL  zone_RM  ...  cent_air_dum  garage_ord  \\\n",
       "1970           1        0        1        0  ...             0         1.0   \n",
       "529            1        0        1        0  ...             1         0.0   \n",
       "\n",
       "      fireplace_ord  lotfrontage_imp  remodel_age  tot_bath  deckporcharea  \\\n",
       "1970            0.0             60.0           18       1.0          644.0   \n",
       "529             0.0             65.0           52       2.0            0.0   \n",
       "\n",
       "      nhood_1  nhood_3  yrsold  \n",
       "1970        1        0    2009  \n",
       "529         0        1    2009  \n",
       "\n",
       "[2 rows x 30 columns]"
      ]
     },
     "execution_count": 70,
     "metadata": {},
     "output_type": "execute_result"
    }
   ],
   "source": [
    "Xtest.loc[[1970,529]]"
   ]
  },
  {
   "cell_type": "code",
   "execution_count": 71,
   "id": "c9e3aa02",
   "metadata": {
    "ExecuteTime": {
     "end_time": "2022-01-06T05:43:02.674638Z",
     "start_time": "2022-01-06T05:43:02.644912Z"
    }
   },
   "outputs": [
    {
     "data": {
      "text/html": [
       "<div>\n",
       "<style scoped>\n",
       "    .dataframe tbody tr th:only-of-type {\n",
       "        vertical-align: middle;\n",
       "    }\n",
       "\n",
       "    .dataframe tbody tr th {\n",
       "        vertical-align: top;\n",
       "    }\n",
       "\n",
       "    .dataframe thead th {\n",
       "        text-align: right;\n",
       "    }\n",
       "</style>\n",
       "<table border=\"1\" class=\"dataframe\">\n",
       "  <thead>\n",
       "    <tr style=\"text-align: right;\">\n",
       "      <th></th>\n",
       "      <th>lotarea</th>\n",
       "      <th>overallqual</th>\n",
       "      <th>overallcond</th>\n",
       "      <th>totalbsmtsf</th>\n",
       "      <th>grlivarea</th>\n",
       "      <th>kitchenqual</th>\n",
       "      <th>paveddrive</th>\n",
       "      <th>zone_FV</th>\n",
       "      <th>zone_RL</th>\n",
       "      <th>zone_RM</th>\n",
       "      <th>...</th>\n",
       "      <th>cent_air_dum</th>\n",
       "      <th>garage_ord</th>\n",
       "      <th>fireplace_ord</th>\n",
       "      <th>lotfrontage_imp</th>\n",
       "      <th>remodel_age</th>\n",
       "      <th>tot_bath</th>\n",
       "      <th>deckporcharea</th>\n",
       "      <th>nhood_1</th>\n",
       "      <th>nhood_3</th>\n",
       "      <th>yrsold</th>\n",
       "    </tr>\n",
       "  </thead>\n",
       "  <tbody>\n",
       "    <tr>\n",
       "      <th>1854</th>\n",
       "      <td>8.909776</td>\n",
       "      <td>4</td>\n",
       "      <td>6</td>\n",
       "      <td>861.0</td>\n",
       "      <td>6.758095</td>\n",
       "      <td>1</td>\n",
       "      <td>0</td>\n",
       "      <td>0</td>\n",
       "      <td>0</td>\n",
       "      <td>1</td>\n",
       "      <td>...</td>\n",
       "      <td>1</td>\n",
       "      <td>1.0</td>\n",
       "      <td>0.0</td>\n",
       "      <td>62.000000</td>\n",
       "      <td>61</td>\n",
       "      <td>1.0</td>\n",
       "      <td>0.0</td>\n",
       "      <td>1</td>\n",
       "      <td>0</td>\n",
       "      <td>2009</td>\n",
       "    </tr>\n",
       "    <tr>\n",
       "      <th>250</th>\n",
       "      <td>9.386728</td>\n",
       "      <td>8</td>\n",
       "      <td>7</td>\n",
       "      <td>1242.0</td>\n",
       "      <td>7.824446</td>\n",
       "      <td>2</td>\n",
       "      <td>1</td>\n",
       "      <td>0</td>\n",
       "      <td>1</td>\n",
       "      <td>0</td>\n",
       "      <td>...</td>\n",
       "      <td>1</td>\n",
       "      <td>2.0</td>\n",
       "      <td>1.0</td>\n",
       "      <td>76.978789</td>\n",
       "      <td>16</td>\n",
       "      <td>2.5</td>\n",
       "      <td>279.0</td>\n",
       "      <td>0</td>\n",
       "      <td>1</td>\n",
       "      <td>2008</td>\n",
       "    </tr>\n",
       "  </tbody>\n",
       "</table>\n",
       "<p>2 rows × 30 columns</p>\n",
       "</div>"
      ],
      "text/plain": [
       "       lotarea  overallqual  overallcond  totalbsmtsf  grlivarea  kitchenqual  \\\n",
       "1854  8.909776            4            6        861.0   6.758095            1   \n",
       "250   9.386728            8            7       1242.0   7.824446            2   \n",
       "\n",
       "      paveddrive  zone_FV  zone_RL  zone_RM  ...  cent_air_dum  garage_ord  \\\n",
       "1854           0        0        0        1  ...             1         1.0   \n",
       "250            1        0        1        0  ...             1         2.0   \n",
       "\n",
       "      fireplace_ord  lotfrontage_imp  remodel_age  tot_bath  deckporcharea  \\\n",
       "1854            0.0        62.000000           61       1.0            0.0   \n",
       "250             1.0        76.978789           16       2.5          279.0   \n",
       "\n",
       "      nhood_1  nhood_3  yrsold  \n",
       "1854        1        0    2009  \n",
       "250         0        1    2008  \n",
       "\n",
       "[2 rows x 30 columns]"
      ]
     },
     "execution_count": 71,
     "metadata": {},
     "output_type": "execute_result"
    }
   ],
   "source": [
    "Xtrain.loc[[1854,250]]"
   ]
  },
  {
   "cell_type": "code",
   "execution_count": 72,
   "id": "7d7a25da",
   "metadata": {
    "ExecuteTime": {
     "end_time": "2022-01-06T05:43:02.705973Z",
     "start_time": "2022-01-06T05:43:02.676832Z"
    },
    "scrolled": true
   },
   "outputs": [
    {
     "data": {
      "text/html": [
       "<div>\n",
       "<style scoped>\n",
       "    .dataframe tbody tr th:only-of-type {\n",
       "        vertical-align: middle;\n",
       "    }\n",
       "\n",
       "    .dataframe tbody tr th {\n",
       "        vertical-align: top;\n",
       "    }\n",
       "\n",
       "    .dataframe thead th {\n",
       "        text-align: right;\n",
       "    }\n",
       "</style>\n",
       "<table border=\"1\" class=\"dataframe\">\n",
       "  <thead>\n",
       "    <tr style=\"text-align: right;\">\n",
       "      <th></th>\n",
       "      <th>lotarea</th>\n",
       "      <th>neighborhood</th>\n",
       "      <th>overallqual</th>\n",
       "      <th>overallcond</th>\n",
       "      <th>totalbsmtsf</th>\n",
       "      <th>grlivarea</th>\n",
       "      <th>kitchenqual</th>\n",
       "      <th>paveddrive</th>\n",
       "      <th>yrsold</th>\n",
       "      <th>saleprice</th>\n",
       "      <th>...</th>\n",
       "      <th>cncrt_found</th>\n",
       "      <th>bsmt_ord</th>\n",
       "      <th>heatingqc_dum</th>\n",
       "      <th>cent_air_dum</th>\n",
       "      <th>garage_ord</th>\n",
       "      <th>fireplace_ord</th>\n",
       "      <th>lotfrontage_imp</th>\n",
       "      <th>remodel_age</th>\n",
       "      <th>tot_bath</th>\n",
       "      <th>deckporcharea</th>\n",
       "    </tr>\n",
       "  </thead>\n",
       "  <tbody>\n",
       "    <tr>\n",
       "      <th>1854</th>\n",
       "      <td>8.909776</td>\n",
       "      <td>1</td>\n",
       "      <td>4</td>\n",
       "      <td>6</td>\n",
       "      <td>6.759255</td>\n",
       "      <td>6.758095</td>\n",
       "      <td>1</td>\n",
       "      <td>0</td>\n",
       "      <td>2009</td>\n",
       "      <td>11.289782</td>\n",
       "      <td>...</td>\n",
       "      <td>0</td>\n",
       "      <td>1.50</td>\n",
       "      <td>0</td>\n",
       "      <td>1</td>\n",
       "      <td>1.0</td>\n",
       "      <td>0.0</td>\n",
       "      <td>62.000000</td>\n",
       "      <td>61</td>\n",
       "      <td>1.0</td>\n",
       "      <td>0.00000</td>\n",
       "    </tr>\n",
       "    <tr>\n",
       "      <th>250</th>\n",
       "      <td>9.386728</td>\n",
       "      <td>3</td>\n",
       "      <td>8</td>\n",
       "      <td>7</td>\n",
       "      <td>7.125283</td>\n",
       "      <td>7.824446</td>\n",
       "      <td>2</td>\n",
       "      <td>1</td>\n",
       "      <td>2008</td>\n",
       "      <td>12.577636</td>\n",
       "      <td>...</td>\n",
       "      <td>1</td>\n",
       "      <td>2.75</td>\n",
       "      <td>1</td>\n",
       "      <td>1</td>\n",
       "      <td>2.0</td>\n",
       "      <td>1.0</td>\n",
       "      <td>76.978789</td>\n",
       "      <td>16</td>\n",
       "      <td>2.5</td>\n",
       "      <td>5.63479</td>\n",
       "    </tr>\n",
       "  </tbody>\n",
       "</table>\n",
       "<p>2 rows × 30 columns</p>\n",
       "</div>"
      ],
      "text/plain": [
       "       lotarea  neighborhood  overallqual  overallcond  totalbsmtsf  \\\n",
       "1854  8.909776             1            4            6     6.759255   \n",
       "250   9.386728             3            8            7     7.125283   \n",
       "\n",
       "      grlivarea  kitchenqual  paveddrive  yrsold  saleprice  ...  cncrt_found  \\\n",
       "1854   6.758095            1           0    2009  11.289782  ...            0   \n",
       "250    7.824446            2           1    2008  12.577636  ...            1   \n",
       "\n",
       "      bsmt_ord  heatingqc_dum  cent_air_dum  garage_ord  fireplace_ord  \\\n",
       "1854      1.50              0             1         1.0            0.0   \n",
       "250       2.75              1             1         2.0            1.0   \n",
       "\n",
       "      lotfrontage_imp  remodel_age  tot_bath  deckporcharea  \n",
       "1854        62.000000           61       1.0        0.00000  \n",
       "250         76.978789           16       2.5        5.63479  \n",
       "\n",
       "[2 rows x 30 columns]"
      ]
     },
     "execution_count": 72,
     "metadata": {},
     "output_type": "execute_result"
    }
   ],
   "source": [
    "df_check.iloc[[1854,250]]"
   ]
  },
  {
   "cell_type": "code",
   "execution_count": 73,
   "id": "206525d5",
   "metadata": {
    "ExecuteTime": {
     "end_time": "2022-01-06T05:43:02.722099Z",
     "start_time": "2022-01-06T05:43:02.707462Z"
    }
   },
   "outputs": [],
   "source": [
    "del df_check"
   ]
  },
  {
   "cell_type": "markdown",
   "id": "01af02ec",
   "metadata": {},
   "source": [
    "- 'yrsold' lines up, so the merge went well\n",
    "- now dummify the year column\n"
   ]
  },
  {
   "cell_type": "code",
   "execution_count": 74,
   "id": "9269bcab",
   "metadata": {
    "ExecuteTime": {
     "end_time": "2022-01-06T05:43:02.753619Z",
     "start_time": "2022-01-06T05:43:02.723557Z"
    }
   },
   "outputs": [],
   "source": [
    "Xtrain2 = pd.get_dummies(Xtrain, columns=['yrsold'], drop_first=True, prefix='yr')\n",
    "Xtest2 = pd.get_dummies(Xtest, columns=['yrsold'], drop_first=True, prefix='yr')"
   ]
  },
  {
   "cell_type": "code",
   "execution_count": 75,
   "id": "ba35a82b",
   "metadata": {
    "ExecuteTime": {
     "end_time": "2022-01-06T05:43:02.769326Z",
     "start_time": "2022-01-06T05:43:02.755338Z"
    }
   },
   "outputs": [],
   "source": [
    "Xtrain2.drop(columns=['deckporcharea', 'hip_roof', 'paveddrive'], inplace=True)\n",
    "Xtest2.drop(columns=['deckporcharea', 'hip_roof', 'paveddrive'], inplace=True)"
   ]
  },
  {
   "cell_type": "code",
   "execution_count": 76,
   "id": "4e0c0a42",
   "metadata": {
    "ExecuteTime": {
     "end_time": "2022-01-06T05:43:02.784703Z",
     "start_time": "2022-01-06T05:43:02.770422Z"
    }
   },
   "outputs": [
    {
     "name": "stdout",
     "output_type": "stream",
     "text": [
      "(1532, 30) (511, 30)\n"
     ]
    }
   ],
   "source": [
    "print(Xtrain2.shape, Xtest2.shape)"
   ]
  },
  {
   "cell_type": "code",
   "execution_count": 77,
   "id": "05b6e95b",
   "metadata": {
    "ExecuteTime": {
     "end_time": "2022-01-06T05:43:02.815367Z",
     "start_time": "2022-01-06T05:43:02.785895Z"
    },
    "scrolled": true
   },
   "outputs": [
    {
     "name": "stdout",
     "output_type": "stream",
     "text": [
      "r2 from train data 0.899\n",
      "r2 from test data 0.902\n",
      "rmse from test data 25220\n"
     ]
    }
   ],
   "source": [
    "lr1 = LinearRegression().fit(Xtrain2, ytrain)\n",
    "yhat = lr1.predict(Xtest2)\n",
    "\n",
    "print('r2 from train data', round(lr1.score(Xtrain2, ytrain), 3))\n",
    "print('r2 from test data', round(lr1.score(Xtest2, ytest), 3))\n",
    "print('rmse from test data', round(mean_squared_error(np.exp(ytest), np.exp(yhat),\n",
    "                                                      squared=False)))"
   ]
  },
  {
   "cell_type": "markdown",
   "id": "49b59f85",
   "metadata": {},
   "source": [
    "#### adding 'year sold' dummies has not proven fruitful. try running Ridge regression with the dummies to see if that helps."
   ]
  },
  {
   "cell_type": "code",
   "execution_count": 78,
   "id": "f6e9ea91",
   "metadata": {
    "ExecuteTime": {
     "end_time": "2022-01-06T05:43:02.830908Z",
     "start_time": "2022-01-06T05:43:02.816373Z"
    }
   },
   "outputs": [],
   "source": [
    "# standardize before regularizing not to penalize large coefficients. \n",
    "# fit on Xtrain only, so that transformation is uniform\n",
    "sc = StandardScaler()\n",
    "Xtrain_sc2 = sc.fit_transform(Xtrain2)\n",
    "Xtest_sc2 = sc.transform(Xtest2)"
   ]
  },
  {
   "cell_type": "code",
   "execution_count": 79,
   "id": "57bfa6e5",
   "metadata": {
    "ExecuteTime": {
     "end_time": "2022-01-06T05:43:11.061299Z",
     "start_time": "2022-01-06T05:43:02.831901Z"
    }
   },
   "outputs": [
    {
     "name": "stdout",
     "output_type": "stream",
     "text": [
      "ideal alpha is  46.86\n"
     ]
    }
   ],
   "source": [
    "rd_cv1 = RidgeCV(rd_alpha, cv = 5, scoring = 'r2')\n",
    "\n",
    "# Fit model using best ridge alpha\n",
    "rd_cv1.fit(Xtrain_sc2, ytrain)\n",
    "\n",
    "best_alpha = rd_cv1.alpha_\n",
    "print('ideal alpha is ', round(best_alpha, 2))"
   ]
  },
  {
   "cell_type": "code",
   "execution_count": 80,
   "id": "66faec39",
   "metadata": {
    "ExecuteTime": {
     "end_time": "2022-01-06T05:43:11.077091Z",
     "start_time": "2022-01-06T05:43:11.063783Z"
    }
   },
   "outputs": [
    {
     "data": {
      "text/plain": [
       "0.9022875707010274"
      ]
     },
     "execution_count": 80,
     "metadata": {},
     "output_type": "execute_result"
    }
   ],
   "source": [
    "rd_cv1.score(Xtest_sc2, ytest)"
   ]
  },
  {
   "cell_type": "code",
   "execution_count": 81,
   "id": "4f1fbfc0",
   "metadata": {
    "ExecuteTime": {
     "end_time": "2022-01-06T05:43:11.092647Z",
     "start_time": "2022-01-06T05:43:11.079085Z"
    },
    "scrolled": true
   },
   "outputs": [
    {
     "name": "stdout",
     "output_type": "stream",
     "text": [
      "ridge r2 is  0.9023\n",
      "ridge r2 after reversing the log transformation is  0.9023\n",
      "ridge rmse is  25195\n"
     ]
    }
   ],
   "source": [
    "print('ridge r2 is ', round(rd_cv1.score(Xtest_sc2, ytest),4))\n",
    "\n",
    "#get prediction for ridge\n",
    "yhat = rd_cv1.predict(Xtest_sc2)\n",
    "\n",
    "print('ridge r2 after reversing the log transformation is ', round(r2_score(np.exp(ytest),\n",
    "                                                                            np.exp(yhat)),4))\n",
    "print('ridge rmse is ', round(mean_squared_error(np.exp(ytest), np.exp(yhat), squared=False)))"
   ]
  },
  {
   "cell_type": "code",
   "execution_count": 82,
   "id": "54aac9a5",
   "metadata": {
    "ExecuteTime": {
     "end_time": "2022-01-06T05:43:11.123856Z",
     "start_time": "2022-01-06T05:43:11.106122Z"
    }
   },
   "outputs": [],
   "source": [
    "# the year dummy columns don't add value. take them out\n",
    "Xtrain.drop('yrsold', axis=1, inplace=True)\n",
    "Xtest.drop('yrsold', axis=1, inplace=True)"
   ]
  },
  {
   "cell_type": "markdown",
   "id": "46caad85",
   "metadata": {},
   "source": [
    "<a id = '6.5'><a/>\n",
    "## 6.5 Models summary\n",
    "* [Back to top](#Content)"
   ]
  },
  {
   "cell_type": "markdown",
   "id": "4aa248f7",
   "metadata": {},
   "source": [
    "| No |                                MODEL                               | FTRS | TEST R2 | TEST RMSE |                                                                                                                                                COMMENTS                                                                                                                                               |\n",
    "|----|:------------------------------------------------------------------:|-----:|--------:|----------:|:-----------------------------------------------------------------------------------------------------------------------------------------------------------------------------------------------------------------------------------------------------------------------------------------------------:|\n",
    "| 1  |                               LinReg                               |   28 |   0.894 |     26173 |                                                                                                                         nghbhood, deck and bsmt insignificant.<br>shouldn't be                                                                                                                        |\n",
    "| 2  |                     Same as 1 +<br>dummy nghood                    |   29 |   0.895 |     26601 |                                                                                                                                   nhood dummies are significant now                                                                                                                                   |\n",
    "| 3  |           Same as 2 +<br>undo deck/bsmt<br>transformation          |   29 |   0.898 |     25154 |                                                                                                                     big improvement in rmse. both bsmt<br>and deck now significant                                                                                                                    |\n",
    "| 4  |                    Same as 3 +<br>cross-val k=8                    |   29 |   0.899 |    23357* |                                                                         - rmse improvement not to be trusted<br>as cross_val_predict employs multiple<br>models at the same time<br> -cross_val does prove the model is solid                                                                         |\n",
    "| 5  |                          Same as 3 + Ridge                         |   29 |   0.900 |     25119 |                                                                                                                        - alpha=51, not very high<br>- Ridge reg. didn't do much                                                                                                                       |\n",
    "| 6  |                          Same as 3 + Lasso                         |   29 |   0.897 |     25266 |                                                                                                                   - alpha=0.021, insignificant<br>-Lasso reg. didn't do much either                                                                                                                   |\n",
    "| 7  | LinReg with optimal<br>feature selector to <br>cut down 9 features |   20 |   0.900 |           |                                                                                  - not strictly 'optimal' since not all<br>among 10m combinations were tested<br>- amazing result considering 9 features<br>were cut                                                                                  |\n",
    "| 8  |                          Same as 7 + Ridge                         |   20 |   0.901 |     24926 |                                                                                                                            - alpha=32. great result for so few<br>features                                                                                                                            |\n",
    "| 9  |                          Same as 7 + Lasso                         |   20 |   0.900 |     24931 |                                                                                                                                - alpha=0. no extra benefits from Lasso                                                                                                                                |\n",
    "| 10 | LinReg with optimal <br>feature selector to<br>cut down 2 features |   27 |   0.901 |           |                                                     - no special improvement with 27<br>features optimized for highest r2<br>- unlike cutting 9 features - two,<br>three or four features can be cut with <br>all the possible combinations tested                                                    |\n",
    "| 11 |  LinReg with optimal<br>feature selector to<br>cut down 3 features |   26 |   0.901 |           |                                                                                                                                     - again no special improvement                                                                                                                                    |\n",
    "| 12 | LinReg with optimal <br>feature selector to<br>cut down 4 features |   25 |   0.902 |     24959 |                                                                                                       - the highest r2<br>- a lot of processing power required<br>to try every 20-feature combo                                                                                                       |\n",
    "| 13 |               Same as 12 + cross<br>validation (k=8)               |   25 |   0.892 |           |                                                                                                                                        - no special improvement                                                                                                                                       |\n",
    "| 14 |                Same as 11 + 4 <br>dummies for years                |   30 |   0.902 |     25220 |                                                                                                                        - year dummies add 4 columns but don't<br>improve scores                                                                                                                       |\n",
    "| 15 |                         Same as 14 + Ridge                         |   30 |   0.902 |     25195 |                                                                                                                  - Ridge regularization doesn't make<br>year dummies more predictive                                                                                                                  |\n",
    "| 16 |   LogReg with only <br>the dependent variable<br>log transformed   |   28 |   0.903 |     24408 | - the model chosen for the project<br>- test scores better, kaggle worse <br>than our top few model<br>-reason for that is unknown, need more<br>data. cross-val r2 is 0.892 - in line<br>with other cross-val scores<br>- overall scores about in line with <br>other models, yet more interpretable |"
   ]
  },
  {
   "cell_type": "markdown",
   "id": "fee462aa",
   "metadata": {},
   "source": [
    "<a id = '7.0'><a/>\n",
    "## 7.0 Kaggle submissions\n",
    "* [Back to top](#Content)"
   ]
  },
  {
   "cell_type": "markdown",
   "id": "6fefc105",
   "metadata": {},
   "source": [
    "- out of more than a dozen models, we will choose 3-4 for Kaggle submissions. \n",
    "- choose differnet type of regressin models with differnts sets of features to see how they perform"
   ]
  },
  {
   "cell_type": "markdown",
   "id": "11627bba",
   "metadata": {},
   "source": [
    "<a id = '7.1'><a/>\n",
    "### 7.1 Kaggle submission No 1\n",
    "* [Back to top](#Content)"
   ]
  },
  {
   "cell_type": "markdown",
   "id": "fdcb3b3c",
   "metadata": {},
   "source": [
    "#### submit LinReg with 25 features that got the highest r2 score and one of the lowest rmse's\n",
    " - re-train it on the entire set first"
   ]
  },
  {
   "cell_type": "code",
   "execution_count": 83,
   "id": "fe419cad",
   "metadata": {
    "ExecuteTime": {
     "end_time": "2022-01-06T05:43:11.139063Z",
     "start_time": "2022-01-06T05:43:11.125952Z"
    }
   },
   "outputs": [],
   "source": [
    "# concatinate test and train to fit the model on maximum data before predicting and submitting\n",
    "X3 = pd.concat([Xtrain3, Xtest3])\n",
    "y3 = pd.concat([ytrain, ytest])"
   ]
  },
  {
   "cell_type": "code",
   "execution_count": 84,
   "id": "69e81581",
   "metadata": {
    "ExecuteTime": {
     "end_time": "2022-01-06T05:43:11.154272Z",
     "start_time": "2022-01-06T05:43:11.140060Z"
    }
   },
   "outputs": [
    {
     "name": "stdout",
     "output_type": "stream",
     "text": [
      "Int64Index([1854,  250,  413, 1333,  310, 1833,  579,  425, 1916, 1625,\n",
      "            ...\n",
      "            1132, 1128,  526,  944,  610,  704,  415,  273,  755, 1517],\n",
      "           dtype='int64', length=2043) Int64Index([1854,  250,  413, 1333,  310, 1833,  579,  425, 1916, 1625,\n",
      "            ...\n",
      "            1132, 1128,  526,  944,  610,  704,  415,  273,  755, 1517],\n",
      "           dtype='int64', length=2043)\n"
     ]
    }
   ],
   "source": [
    "print(X3.index, y3.index)"
   ]
  },
  {
   "cell_type": "code",
   "execution_count": 85,
   "id": "dc52474e",
   "metadata": {
    "ExecuteTime": {
     "end_time": "2022-01-06T05:43:11.169799Z",
     "start_time": "2022-01-06T05:43:11.155775Z"
    }
   },
   "outputs": [
    {
     "name": "stdout",
     "output_type": "stream",
     "text": [
      "(2043, 25) 2043 (2043, 1) 2043\n"
     ]
    }
   ],
   "source": [
    "print(X3.shape, X3.index.nunique(), yr.shape, yr.index.nunique())"
   ]
  },
  {
   "cell_type": "code",
   "execution_count": 86,
   "id": "72734d84",
   "metadata": {
    "ExecuteTime": {
     "end_time": "2022-01-06T05:43:11.185608Z",
     "start_time": "2022-01-06T05:43:11.171306Z"
    }
   },
   "outputs": [],
   "source": [
    "# everything is in order after concat, indices are perfectly lined-up\n",
    "# next get the real test set for Kaggle, ames2, ready to be predicted upon\n",
    "id_column = ames2[['id']]\n",
    "ames_kgl1 = ames2.drop(columns=['id', 'deckporcharea', 'heatingqc_dum', 'hip_roof', 'paveddrive'])"
   ]
  },
  {
   "cell_type": "code",
   "execution_count": 87,
   "id": "97bf35c6",
   "metadata": {
    "ExecuteTime": {
     "end_time": "2022-01-06T05:43:11.201884Z",
     "start_time": "2022-01-06T05:43:11.186600Z"
    }
   },
   "outputs": [
    {
     "data": {
      "text/plain": [
       "(878, 25)"
      ]
     },
     "execution_count": 87,
     "metadata": {},
     "output_type": "execute_result"
    }
   ],
   "source": [
    "ames_kgl1.shape"
   ]
  },
  {
   "cell_type": "code",
   "execution_count": 88,
   "id": "52006c79",
   "metadata": {
    "ExecuteTime": {
     "end_time": "2022-01-06T05:43:11.217331Z",
     "start_time": "2022-01-06T05:43:11.203926Z"
    }
   },
   "outputs": [],
   "source": [
    "# run LinReg on the 25 features set, fit on the entire training set\n",
    "lr_kgl1 = LinearRegression().fit(X3, y3)\n",
    "# get kaggle predictions. undo log-transformation of prices to get usable values\n",
    "yhat_kgl1 = np.exp(lr_kgl1.predict(ames_kgl1))\n"
   ]
  },
  {
   "cell_type": "code",
   "execution_count": 89,
   "id": "3ed8e70b",
   "metadata": {
    "ExecuteTime": {
     "end_time": "2022-01-06T05:43:11.233470Z",
     "start_time": "2022-01-06T05:43:11.218362Z"
    }
   },
   "outputs": [
    {
     "data": {
      "text/html": [
       "<div>\n",
       "<style scoped>\n",
       "    .dataframe tbody tr th:only-of-type {\n",
       "        vertical-align: middle;\n",
       "    }\n",
       "\n",
       "    .dataframe tbody tr th {\n",
       "        vertical-align: top;\n",
       "    }\n",
       "\n",
       "    .dataframe thead th {\n",
       "        text-align: right;\n",
       "    }\n",
       "</style>\n",
       "<table border=\"1\" class=\"dataframe\">\n",
       "  <thead>\n",
       "    <tr style=\"text-align: right;\">\n",
       "      <th></th>\n",
       "      <th>SalePrice</th>\n",
       "    </tr>\n",
       "  </thead>\n",
       "  <tbody>\n",
       "    <tr>\n",
       "      <th>0</th>\n",
       "      <td>136041.725232</td>\n",
       "    </tr>\n",
       "    <tr>\n",
       "      <th>1</th>\n",
       "      <td>168291.210027</td>\n",
       "    </tr>\n",
       "    <tr>\n",
       "      <th>2</th>\n",
       "      <td>223865.859056</td>\n",
       "    </tr>\n",
       "    <tr>\n",
       "      <th>3</th>\n",
       "      <td>109613.573857</td>\n",
       "    </tr>\n",
       "    <tr>\n",
       "      <th>4</th>\n",
       "      <td>174958.571775</td>\n",
       "    </tr>\n",
       "  </tbody>\n",
       "</table>\n",
       "</div>"
      ],
      "text/plain": [
       "       SalePrice\n",
       "0  136041.725232\n",
       "1  168291.210027\n",
       "2  223865.859056\n",
       "3  109613.573857\n",
       "4  174958.571775"
      ]
     },
     "execution_count": 89,
     "metadata": {},
     "output_type": "execute_result"
    }
   ],
   "source": [
    "# turn yhat into dataframe so it can be merged with the id columns which is necessary for submissions\n",
    "yhat_kgl1 = pd.DataFrame(yhat_kgl1, columns=['SalePrice'])\n",
    "yhat_kgl1.head()"
   ]
  },
  {
   "cell_type": "code",
   "execution_count": 90,
   "id": "0654b3f1",
   "metadata": {
    "ExecuteTime": {
     "end_time": "2022-01-06T05:43:11.248287Z",
     "start_time": "2022-01-06T05:43:11.234972Z"
    }
   },
   "outputs": [
    {
     "data": {
      "text/html": [
       "<div>\n",
       "<style scoped>\n",
       "    .dataframe tbody tr th:only-of-type {\n",
       "        vertical-align: middle;\n",
       "    }\n",
       "\n",
       "    .dataframe tbody tr th {\n",
       "        vertical-align: top;\n",
       "    }\n",
       "\n",
       "    .dataframe thead th {\n",
       "        text-align: right;\n",
       "    }\n",
       "</style>\n",
       "<table border=\"1\" class=\"dataframe\">\n",
       "  <thead>\n",
       "    <tr style=\"text-align: right;\">\n",
       "      <th></th>\n",
       "      <th>SalePrice</th>\n",
       "    </tr>\n",
       "    <tr>\n",
       "      <th>id</th>\n",
       "      <th></th>\n",
       "    </tr>\n",
       "  </thead>\n",
       "  <tbody>\n",
       "    <tr>\n",
       "      <th>2</th>\n",
       "      <td>94705.913723</td>\n",
       "    </tr>\n",
       "    <tr>\n",
       "      <th>4</th>\n",
       "      <td>265411.974967</td>\n",
       "    </tr>\n",
       "    <tr>\n",
       "      <th>6</th>\n",
       "      <td>200966.928562</td>\n",
       "    </tr>\n",
       "    <tr>\n",
       "      <th>7</th>\n",
       "      <td>210602.381576</td>\n",
       "    </tr>\n",
       "    <tr>\n",
       "      <th>17</th>\n",
       "      <td>213341.069233</td>\n",
       "    </tr>\n",
       "  </tbody>\n",
       "</table>\n",
       "</div>"
      ],
      "text/plain": [
       "        SalePrice\n",
       "id               \n",
       "2    94705.913723\n",
       "4   265411.974967\n",
       "6   200966.928562\n",
       "7   210602.381576\n",
       "17  213341.069233"
      ]
     },
     "execution_count": 90,
     "metadata": {},
     "output_type": "execute_result"
    }
   ],
   "source": [
    "# concatinate predictions with the id column and re-order to the format required\n",
    "submit1 = pd.concat([id_column, yhat_kgl1], axis=1)\n",
    "submit1.set_index('id', drop=True, inplace=True)\n",
    "submit1.sort_values(by='id', inplace=True)\n",
    "submit1.head()"
   ]
  },
  {
   "cell_type": "code",
   "execution_count": 91,
   "id": "8b12f961",
   "metadata": {
    "ExecuteTime": {
     "end_time": "2022-01-06T05:43:11.263921Z",
     "start_time": "2022-01-06T05:43:11.250388Z"
    }
   },
   "outputs": [],
   "source": [
    "#save to a file to be submitted to the kaggle competition\n",
    "submit1.to_csv('../datasets/kaggle1.csv')"
   ]
  },
  {
   "cell_type": "markdown",
   "id": "7dca3e02",
   "metadata": {},
   "source": [
    "<a id = '7.2'><a/>\n",
    "### 7.2 Kaggle submission No 2\n",
    "* [Back to top](#Content)"
   ]
  },
  {
   "cell_type": "markdown",
   "id": "119238de",
   "metadata": {},
   "source": [
    "- try submitting the Ridge model which used the fewest number of columns yet managed to get the r2 and rmse on par with other models"
   ]
  },
  {
   "cell_type": "code",
   "execution_count": 92,
   "id": "89384afe",
   "metadata": {
    "ExecuteTime": {
     "end_time": "2022-01-06T05:43:11.294868Z",
     "start_time": "2022-01-06T05:43:11.265944Z"
    }
   },
   "outputs": [],
   "source": [
    "# Ridge must be scaled.\n",
    "sc = StandardScaler()\n",
    "# fit_transform the training set, transform only the testing\n",
    "X_sc1 = sc.fit_transform(X[top20_hc])\n",
    "ames_kgl2_sc = sc.transform(ames2[top20_hc])"
   ]
  },
  {
   "cell_type": "code",
   "execution_count": 93,
   "id": "59e5d9e2",
   "metadata": {
    "ExecuteTime": {
     "end_time": "2022-01-06T05:43:11.310404Z",
     "start_time": "2022-01-06T05:43:11.296505Z"
    }
   },
   "outputs": [],
   "source": [
    "# Ridge regression with 20 features\n",
    "# create a list of alphas on different scales, using np.log\n",
    "rd_alpha = np.logspace(-5, 5, 800)\n",
    "\n",
    "#find the best alpha for the model.\n",
    "rd_kgl2 = RidgeCV(rd_alpha, cv = 5, scoring = 'neg_mean_squared_error')\n"
   ]
  },
  {
   "cell_type": "code",
   "execution_count": 94,
   "id": "6b126f17",
   "metadata": {
    "ExecuteTime": {
     "end_time": "2022-01-06T05:43:19.420402Z",
     "start_time": "2022-01-06T05:43:11.312340Z"
    },
    "scrolled": true
   },
   "outputs": [],
   "source": [
    "# Fit model using best ridge alpha!\n",
    "rd_kgl2.fit(X_sc1, y)\n",
    "#predict on standardized kaggle test set with appropriate columns. undo log-transformation of prices to get usable values\n",
    "yhat_kgl2 = np.exp(rd_kgl2.predict(ames_kgl2_sc))\n"
   ]
  },
  {
   "cell_type": "code",
   "execution_count": 95,
   "id": "4076f39e",
   "metadata": {
    "ExecuteTime": {
     "end_time": "2022-01-06T05:43:19.435179Z",
     "start_time": "2022-01-06T05:43:19.421320Z"
    }
   },
   "outputs": [
    {
     "data": {
      "text/plain": [
       "23.46729749104902"
      ]
     },
     "execution_count": 95,
     "metadata": {},
     "output_type": "execute_result"
    }
   ],
   "source": [
    "rd_kgl2.alpha_"
   ]
  },
  {
   "cell_type": "code",
   "execution_count": 96,
   "id": "3589b83a",
   "metadata": {
    "ExecuteTime": {
     "end_time": "2022-01-06T05:43:19.450553Z",
     "start_time": "2022-01-06T05:43:19.436546Z"
    },
    "scrolled": true
   },
   "outputs": [
    {
     "data": {
      "text/html": [
       "<div>\n",
       "<style scoped>\n",
       "    .dataframe tbody tr th:only-of-type {\n",
       "        vertical-align: middle;\n",
       "    }\n",
       "\n",
       "    .dataframe tbody tr th {\n",
       "        vertical-align: top;\n",
       "    }\n",
       "\n",
       "    .dataframe thead th {\n",
       "        text-align: right;\n",
       "    }\n",
       "</style>\n",
       "<table border=\"1\" class=\"dataframe\">\n",
       "  <thead>\n",
       "    <tr style=\"text-align: right;\">\n",
       "      <th></th>\n",
       "      <th>SalePrice</th>\n",
       "    </tr>\n",
       "  </thead>\n",
       "  <tbody>\n",
       "    <tr>\n",
       "      <th>0</th>\n",
       "      <td>132388.162976</td>\n",
       "    </tr>\n",
       "    <tr>\n",
       "      <th>1</th>\n",
       "      <td>169702.062041</td>\n",
       "    </tr>\n",
       "    <tr>\n",
       "      <th>2</th>\n",
       "      <td>225763.638337</td>\n",
       "    </tr>\n",
       "    <tr>\n",
       "      <th>3</th>\n",
       "      <td>110571.166688</td>\n",
       "    </tr>\n",
       "    <tr>\n",
       "      <th>4</th>\n",
       "      <td>173921.626677</td>\n",
       "    </tr>\n",
       "  </tbody>\n",
       "</table>\n",
       "</div>"
      ],
      "text/plain": [
       "       SalePrice\n",
       "0  132388.162976\n",
       "1  169702.062041\n",
       "2  225763.638337\n",
       "3  110571.166688\n",
       "4  173921.626677"
      ]
     },
     "execution_count": 96,
     "metadata": {},
     "output_type": "execute_result"
    }
   ],
   "source": [
    "# convert to dataframe for ease of merging\n",
    "yhat_kgl2 = pd.DataFrame(yhat_kgl2, columns=['SalePrice'])\n",
    "yhat_kgl2.head()"
   ]
  },
  {
   "cell_type": "code",
   "execution_count": 97,
   "id": "abc39d46",
   "metadata": {
    "ExecuteTime": {
     "end_time": "2022-01-06T05:43:19.466697Z",
     "start_time": "2022-01-06T05:43:19.451475Z"
    }
   },
   "outputs": [
    {
     "data": {
      "text/html": [
       "<div>\n",
       "<style scoped>\n",
       "    .dataframe tbody tr th:only-of-type {\n",
       "        vertical-align: middle;\n",
       "    }\n",
       "\n",
       "    .dataframe tbody tr th {\n",
       "        vertical-align: top;\n",
       "    }\n",
       "\n",
       "    .dataframe thead th {\n",
       "        text-align: right;\n",
       "    }\n",
       "</style>\n",
       "<table border=\"1\" class=\"dataframe\">\n",
       "  <thead>\n",
       "    <tr style=\"text-align: right;\">\n",
       "      <th></th>\n",
       "      <th>SalePrice</th>\n",
       "    </tr>\n",
       "    <tr>\n",
       "      <th>id</th>\n",
       "      <th></th>\n",
       "    </tr>\n",
       "  </thead>\n",
       "  <tbody>\n",
       "    <tr>\n",
       "      <th>2</th>\n",
       "      <td>103562.865978</td>\n",
       "    </tr>\n",
       "    <tr>\n",
       "      <th>4</th>\n",
       "      <td>275038.697242</td>\n",
       "    </tr>\n",
       "    <tr>\n",
       "      <th>6</th>\n",
       "      <td>197812.078479</td>\n",
       "    </tr>\n",
       "    <tr>\n",
       "      <th>7</th>\n",
       "      <td>213965.535364</td>\n",
       "    </tr>\n",
       "    <tr>\n",
       "      <th>17</th>\n",
       "      <td>218351.084623</td>\n",
       "    </tr>\n",
       "  </tbody>\n",
       "</table>\n",
       "</div>"
      ],
      "text/plain": [
       "        SalePrice\n",
       "id               \n",
       "2   103562.865978\n",
       "4   275038.697242\n",
       "6   197812.078479\n",
       "7   213965.535364\n",
       "17  218351.084623"
      ]
     },
     "execution_count": 97,
     "metadata": {},
     "output_type": "execute_result"
    }
   ],
   "source": [
    "# format the submission properly\n",
    "submit2 = pd.concat([id_column, yhat_kgl2], axis=1)\n",
    "submit2.set_index('id', drop=True, inplace=True)\n",
    "submit2.sort_values(by='id', inplace=True)\n",
    "submit2.head()"
   ]
  },
  {
   "cell_type": "code",
   "execution_count": 98,
   "id": "d43ff7e8",
   "metadata": {
    "ExecuteTime": {
     "end_time": "2022-01-06T05:43:19.481927Z",
     "start_time": "2022-01-06T05:43:19.468186Z"
    }
   },
   "outputs": [],
   "source": [
    "# the second submission ready\n",
    "submit2.to_csv('../datasets/kaggle4_ridge.csv')"
   ]
  },
  {
   "cell_type": "markdown",
   "id": "1ac603d2",
   "metadata": {},
   "source": [
    "<a id = '7.3'><a/>\n",
    "### 7.3 Kaggle submission No 3\n",
    "* [Back to top](#Content)"
   ]
  },
  {
   "cell_type": "markdown",
   "id": "991a2b73",
   "metadata": {},
   "source": [
    "- now let's try one with the full suite of columns, all 29 of them. Ridge again performed a bit better than Lasso, so it shall be submitted"
   ]
  },
  {
   "cell_type": "code",
   "execution_count": 99,
   "id": "e544308b",
   "metadata": {
    "ExecuteTime": {
     "end_time": "2022-01-06T05:43:19.497259Z",
     "start_time": "2022-01-06T05:43:19.483416Z"
    }
   },
   "outputs": [],
   "source": [
    "# scale the entire training set. fit and transform the X, transform the y\n",
    "sc = StandardScaler()\n",
    "X_sc2 = sc.fit_transform(X)\n",
    "ames_kgl_sc2 = sc.transform(ames2.drop('id', axis=1))"
   ]
  },
  {
   "cell_type": "code",
   "execution_count": 100,
   "id": "09524527",
   "metadata": {
    "ExecuteTime": {
     "end_time": "2022-01-06T05:43:19.513285Z",
     "start_time": "2022-01-06T05:43:19.498951Z"
    }
   },
   "outputs": [
    {
     "data": {
      "text/plain": [
       "(878, 29)"
      ]
     },
     "execution_count": 100,
     "metadata": {},
     "output_type": "execute_result"
    }
   ],
   "source": [
    "ames_kgl_sc2.shape"
   ]
  },
  {
   "cell_type": "code",
   "execution_count": 101,
   "id": "dab6c17c",
   "metadata": {
    "ExecuteTime": {
     "end_time": "2022-01-06T05:43:19.606071Z",
     "start_time": "2022-01-06T05:43:19.515203Z"
    }
   },
   "outputs": [
    {
     "data": {
      "text/html": [
       "<div>\n",
       "<style scoped>\n",
       "    .dataframe tbody tr th:only-of-type {\n",
       "        vertical-align: middle;\n",
       "    }\n",
       "\n",
       "    .dataframe tbody tr th {\n",
       "        vertical-align: top;\n",
       "    }\n",
       "\n",
       "    .dataframe thead th {\n",
       "        text-align: right;\n",
       "    }\n",
       "</style>\n",
       "<table border=\"1\" class=\"dataframe\">\n",
       "  <thead>\n",
       "    <tr style=\"text-align: right;\">\n",
       "      <th></th>\n",
       "      <th>count</th>\n",
       "      <th>mean</th>\n",
       "      <th>std</th>\n",
       "      <th>min</th>\n",
       "      <th>25%</th>\n",
       "      <th>50%</th>\n",
       "      <th>75%</th>\n",
       "      <th>max</th>\n",
       "    </tr>\n",
       "  </thead>\n",
       "  <tbody>\n",
       "    <tr>\n",
       "      <th>lotarea</th>\n",
       "      <td>2043.0</td>\n",
       "      <td>9.086685</td>\n",
       "      <td>0.488133</td>\n",
       "      <td>7.170120</td>\n",
       "      <td>8.922658</td>\n",
       "      <td>9.148465</td>\n",
       "      <td>9.349754</td>\n",
       "      <td>10.954309</td>\n",
       "    </tr>\n",
       "    <tr>\n",
       "      <th>overallqual</th>\n",
       "      <td>2043.0</td>\n",
       "      <td>6.109643</td>\n",
       "      <td>1.422404</td>\n",
       "      <td>1.000000</td>\n",
       "      <td>5.000000</td>\n",
       "      <td>6.000000</td>\n",
       "      <td>7.000000</td>\n",
       "      <td>10.000000</td>\n",
       "    </tr>\n",
       "    <tr>\n",
       "      <th>overallcond</th>\n",
       "      <td>2043.0</td>\n",
       "      <td>5.560940</td>\n",
       "      <td>1.104962</td>\n",
       "      <td>1.000000</td>\n",
       "      <td>5.000000</td>\n",
       "      <td>5.000000</td>\n",
       "      <td>6.000000</td>\n",
       "      <td>9.000000</td>\n",
       "    </tr>\n",
       "    <tr>\n",
       "      <th>totalbsmtsf</th>\n",
       "      <td>2043.0</td>\n",
       "      <td>1053.446402</td>\n",
       "      <td>425.726460</td>\n",
       "      <td>0.000000</td>\n",
       "      <td>793.000000</td>\n",
       "      <td>994.000000</td>\n",
       "      <td>1315.000000</td>\n",
       "      <td>3206.000000</td>\n",
       "    </tr>\n",
       "    <tr>\n",
       "      <th>grlivarea</th>\n",
       "      <td>2043.0</td>\n",
       "      <td>7.258849</td>\n",
       "      <td>0.318583</td>\n",
       "      <td>5.811141</td>\n",
       "      <td>7.028201</td>\n",
       "      <td>7.273786</td>\n",
       "      <td>7.454720</td>\n",
       "      <td>8.208492</td>\n",
       "    </tr>\n",
       "    <tr>\n",
       "      <th>kitchenqual</th>\n",
       "      <td>2043.0</td>\n",
       "      <td>1.514440</td>\n",
       "      <td>0.664005</td>\n",
       "      <td>0.000000</td>\n",
       "      <td>1.000000</td>\n",
       "      <td>1.000000</td>\n",
       "      <td>2.000000</td>\n",
       "      <td>3.000000</td>\n",
       "    </tr>\n",
       "    <tr>\n",
       "      <th>paveddrive</th>\n",
       "      <td>2043.0</td>\n",
       "      <td>0.907000</td>\n",
       "      <td>0.290504</td>\n",
       "      <td>0.000000</td>\n",
       "      <td>1.000000</td>\n",
       "      <td>1.000000</td>\n",
       "      <td>1.000000</td>\n",
       "      <td>1.000000</td>\n",
       "    </tr>\n",
       "    <tr>\n",
       "      <th>saleprice</th>\n",
       "      <td>2043.0</td>\n",
       "      <td>12.023730</td>\n",
       "      <td>0.411083</td>\n",
       "      <td>9.456341</td>\n",
       "      <td>11.772593</td>\n",
       "      <td>11.998433</td>\n",
       "      <td>12.273731</td>\n",
       "      <td>13.323927</td>\n",
       "    </tr>\n",
       "    <tr>\n",
       "      <th>zone_FV</th>\n",
       "      <td>2043.0</td>\n",
       "      <td>0.049437</td>\n",
       "      <td>0.216832</td>\n",
       "      <td>0.000000</td>\n",
       "      <td>0.000000</td>\n",
       "      <td>0.000000</td>\n",
       "      <td>0.000000</td>\n",
       "      <td>1.000000</td>\n",
       "    </tr>\n",
       "    <tr>\n",
       "      <th>zone_RL</th>\n",
       "      <td>2043.0</td>\n",
       "      <td>0.779246</td>\n",
       "      <td>0.414856</td>\n",
       "      <td>0.000000</td>\n",
       "      <td>1.000000</td>\n",
       "      <td>1.000000</td>\n",
       "      <td>1.000000</td>\n",
       "      <td>1.000000</td>\n",
       "    </tr>\n",
       "    <tr>\n",
       "      <th>zone_RM</th>\n",
       "      <td>2043.0</td>\n",
       "      <td>0.153696</td>\n",
       "      <td>0.360745</td>\n",
       "      <td>0.000000</td>\n",
       "      <td>0.000000</td>\n",
       "      <td>0.000000</td>\n",
       "      <td>0.000000</td>\n",
       "      <td>1.000000</td>\n",
       "    </tr>\n",
       "    <tr>\n",
       "      <th>lotshape_irr</th>\n",
       "      <td>2043.0</td>\n",
       "      <td>0.366618</td>\n",
       "      <td>0.481999</td>\n",
       "      <td>0.000000</td>\n",
       "      <td>0.000000</td>\n",
       "      <td>0.000000</td>\n",
       "      <td>1.000000</td>\n",
       "      <td>1.000000</td>\n",
       "    </tr>\n",
       "    <tr>\n",
       "      <th>near_busy_st</th>\n",
       "      <td>2043.0</td>\n",
       "      <td>0.086637</td>\n",
       "      <td>0.281372</td>\n",
       "      <td>0.000000</td>\n",
       "      <td>0.000000</td>\n",
       "      <td>0.000000</td>\n",
       "      <td>0.000000</td>\n",
       "      <td>1.000000</td>\n",
       "    </tr>\n",
       "    <tr>\n",
       "      <th>non_1fam</th>\n",
       "      <td>2043.0</td>\n",
       "      <td>0.093000</td>\n",
       "      <td>0.290504</td>\n",
       "      <td>0.000000</td>\n",
       "      <td>0.000000</td>\n",
       "      <td>0.000000</td>\n",
       "      <td>0.000000</td>\n",
       "      <td>1.000000</td>\n",
       "    </tr>\n",
       "    <tr>\n",
       "      <th>2plus_fl</th>\n",
       "      <td>2043.0</td>\n",
       "      <td>0.301517</td>\n",
       "      <td>0.459029</td>\n",
       "      <td>0.000000</td>\n",
       "      <td>0.000000</td>\n",
       "      <td>0.000000</td>\n",
       "      <td>1.000000</td>\n",
       "      <td>1.000000</td>\n",
       "    </tr>\n",
       "    <tr>\n",
       "      <th>hip_roof</th>\n",
       "      <td>2043.0</td>\n",
       "      <td>0.193343</td>\n",
       "      <td>0.395016</td>\n",
       "      <td>0.000000</td>\n",
       "      <td>0.000000</td>\n",
       "      <td>0.000000</td>\n",
       "      <td>0.000000</td>\n",
       "      <td>1.000000</td>\n",
       "    </tr>\n",
       "    <tr>\n",
       "      <th>ext_ord</th>\n",
       "      <td>2043.0</td>\n",
       "      <td>0.882526</td>\n",
       "      <td>0.948685</td>\n",
       "      <td>0.000000</td>\n",
       "      <td>0.000000</td>\n",
       "      <td>0.000000</td>\n",
       "      <td>2.000000</td>\n",
       "      <td>2.000000</td>\n",
       "    </tr>\n",
       "    <tr>\n",
       "      <th>has_veneer</th>\n",
       "      <td>2043.0</td>\n",
       "      <td>0.395007</td>\n",
       "      <td>0.488972</td>\n",
       "      <td>0.000000</td>\n",
       "      <td>0.000000</td>\n",
       "      <td>0.000000</td>\n",
       "      <td>1.000000</td>\n",
       "      <td>1.000000</td>\n",
       "    </tr>\n",
       "    <tr>\n",
       "      <th>cncrt_found</th>\n",
       "      <td>2043.0</td>\n",
       "      <td>0.451787</td>\n",
       "      <td>0.497792</td>\n",
       "      <td>0.000000</td>\n",
       "      <td>0.000000</td>\n",
       "      <td>0.000000</td>\n",
       "      <td>1.000000</td>\n",
       "      <td>1.000000</td>\n",
       "    </tr>\n",
       "    <tr>\n",
       "      <th>bsmt_ord</th>\n",
       "      <td>2043.0</td>\n",
       "      <td>2.573666</td>\n",
       "      <td>0.895539</td>\n",
       "      <td>0.000000</td>\n",
       "      <td>2.000000</td>\n",
       "      <td>2.500000</td>\n",
       "      <td>3.000000</td>\n",
       "      <td>4.750000</td>\n",
       "    </tr>\n",
       "    <tr>\n",
       "      <th>heatingqc_dum</th>\n",
       "      <td>2043.0</td>\n",
       "      <td>0.519824</td>\n",
       "      <td>0.499729</td>\n",
       "      <td>0.000000</td>\n",
       "      <td>0.000000</td>\n",
       "      <td>1.000000</td>\n",
       "      <td>1.000000</td>\n",
       "      <td>1.000000</td>\n",
       "    </tr>\n",
       "    <tr>\n",
       "      <th>cent_air_dum</th>\n",
       "      <td>2043.0</td>\n",
       "      <td>0.930984</td>\n",
       "      <td>0.253544</td>\n",
       "      <td>0.000000</td>\n",
       "      <td>1.000000</td>\n",
       "      <td>1.000000</td>\n",
       "      <td>1.000000</td>\n",
       "      <td>1.000000</td>\n",
       "    </tr>\n",
       "    <tr>\n",
       "      <th>garage_ord</th>\n",
       "      <td>2043.0</td>\n",
       "      <td>1.322237</td>\n",
       "      <td>0.539253</td>\n",
       "      <td>0.000000</td>\n",
       "      <td>1.000000</td>\n",
       "      <td>1.330000</td>\n",
       "      <td>1.670000</td>\n",
       "      <td>2.330000</td>\n",
       "    </tr>\n",
       "    <tr>\n",
       "      <th>fireplace_ord</th>\n",
       "      <td>2043.0</td>\n",
       "      <td>0.589697</td>\n",
       "      <td>0.599237</td>\n",
       "      <td>0.000000</td>\n",
       "      <td>0.000000</td>\n",
       "      <td>0.500000</td>\n",
       "      <td>1.250000</td>\n",
       "      <td>2.000000</td>\n",
       "    </tr>\n",
       "    <tr>\n",
       "      <th>lotfrontage_imp</th>\n",
       "      <td>2043.0</td>\n",
       "      <td>69.695598</td>\n",
       "      <td>21.968863</td>\n",
       "      <td>21.000000</td>\n",
       "      <td>60.000000</td>\n",
       "      <td>69.273247</td>\n",
       "      <td>80.000000</td>\n",
       "      <td>313.000000</td>\n",
       "    </tr>\n",
       "    <tr>\n",
       "      <th>remodel_age</th>\n",
       "      <td>2043.0</td>\n",
       "      <td>26.844836</td>\n",
       "      <td>21.035670</td>\n",
       "      <td>1.000000</td>\n",
       "      <td>7.000000</td>\n",
       "      <td>18.000000</td>\n",
       "      <td>47.000000</td>\n",
       "      <td>61.000000</td>\n",
       "    </tr>\n",
       "    <tr>\n",
       "      <th>tot_bath</th>\n",
       "      <td>2043.0</td>\n",
       "      <td>2.210964</td>\n",
       "      <td>0.778184</td>\n",
       "      <td>1.000000</td>\n",
       "      <td>2.000000</td>\n",
       "      <td>2.000000</td>\n",
       "      <td>2.750000</td>\n",
       "      <td>4.000000</td>\n",
       "    </tr>\n",
       "    <tr>\n",
       "      <th>deckporcharea</th>\n",
       "      <td>2043.0</td>\n",
       "      <td>140.543319</td>\n",
       "      <td>146.104994</td>\n",
       "      <td>0.000000</td>\n",
       "      <td>0.000000</td>\n",
       "      <td>114.000000</td>\n",
       "      <td>225.000000</td>\n",
       "      <td>1424.000000</td>\n",
       "    </tr>\n",
       "    <tr>\n",
       "      <th>nhood_1</th>\n",
       "      <td>2043.0</td>\n",
       "      <td>0.487518</td>\n",
       "      <td>0.499967</td>\n",
       "      <td>0.000000</td>\n",
       "      <td>0.000000</td>\n",
       "      <td>0.000000</td>\n",
       "      <td>1.000000</td>\n",
       "      <td>1.000000</td>\n",
       "    </tr>\n",
       "    <tr>\n",
       "      <th>nhood_3</th>\n",
       "      <td>2043.0</td>\n",
       "      <td>0.322565</td>\n",
       "      <td>0.467572</td>\n",
       "      <td>0.000000</td>\n",
       "      <td>0.000000</td>\n",
       "      <td>0.000000</td>\n",
       "      <td>1.000000</td>\n",
       "      <td>1.000000</td>\n",
       "    </tr>\n",
       "  </tbody>\n",
       "</table>\n",
       "</div>"
      ],
      "text/plain": [
       "                  count         mean         std        min         25%  \\\n",
       "lotarea          2043.0     9.086685    0.488133   7.170120    8.922658   \n",
       "overallqual      2043.0     6.109643    1.422404   1.000000    5.000000   \n",
       "overallcond      2043.0     5.560940    1.104962   1.000000    5.000000   \n",
       "totalbsmtsf      2043.0  1053.446402  425.726460   0.000000  793.000000   \n",
       "grlivarea        2043.0     7.258849    0.318583   5.811141    7.028201   \n",
       "kitchenqual      2043.0     1.514440    0.664005   0.000000    1.000000   \n",
       "paveddrive       2043.0     0.907000    0.290504   0.000000    1.000000   \n",
       "saleprice        2043.0    12.023730    0.411083   9.456341   11.772593   \n",
       "zone_FV          2043.0     0.049437    0.216832   0.000000    0.000000   \n",
       "zone_RL          2043.0     0.779246    0.414856   0.000000    1.000000   \n",
       "zone_RM          2043.0     0.153696    0.360745   0.000000    0.000000   \n",
       "lotshape_irr     2043.0     0.366618    0.481999   0.000000    0.000000   \n",
       "near_busy_st     2043.0     0.086637    0.281372   0.000000    0.000000   \n",
       "non_1fam         2043.0     0.093000    0.290504   0.000000    0.000000   \n",
       "2plus_fl         2043.0     0.301517    0.459029   0.000000    0.000000   \n",
       "hip_roof         2043.0     0.193343    0.395016   0.000000    0.000000   \n",
       "ext_ord          2043.0     0.882526    0.948685   0.000000    0.000000   \n",
       "has_veneer       2043.0     0.395007    0.488972   0.000000    0.000000   \n",
       "cncrt_found      2043.0     0.451787    0.497792   0.000000    0.000000   \n",
       "bsmt_ord         2043.0     2.573666    0.895539   0.000000    2.000000   \n",
       "heatingqc_dum    2043.0     0.519824    0.499729   0.000000    0.000000   \n",
       "cent_air_dum     2043.0     0.930984    0.253544   0.000000    1.000000   \n",
       "garage_ord       2043.0     1.322237    0.539253   0.000000    1.000000   \n",
       "fireplace_ord    2043.0     0.589697    0.599237   0.000000    0.000000   \n",
       "lotfrontage_imp  2043.0    69.695598   21.968863  21.000000   60.000000   \n",
       "remodel_age      2043.0    26.844836   21.035670   1.000000    7.000000   \n",
       "tot_bath         2043.0     2.210964    0.778184   1.000000    2.000000   \n",
       "deckporcharea    2043.0   140.543319  146.104994   0.000000    0.000000   \n",
       "nhood_1          2043.0     0.487518    0.499967   0.000000    0.000000   \n",
       "nhood_3          2043.0     0.322565    0.467572   0.000000    0.000000   \n",
       "\n",
       "                        50%          75%          max  \n",
       "lotarea            9.148465     9.349754    10.954309  \n",
       "overallqual        6.000000     7.000000    10.000000  \n",
       "overallcond        5.000000     6.000000     9.000000  \n",
       "totalbsmtsf      994.000000  1315.000000  3206.000000  \n",
       "grlivarea          7.273786     7.454720     8.208492  \n",
       "kitchenqual        1.000000     2.000000     3.000000  \n",
       "paveddrive         1.000000     1.000000     1.000000  \n",
       "saleprice         11.998433    12.273731    13.323927  \n",
       "zone_FV            0.000000     0.000000     1.000000  \n",
       "zone_RL            1.000000     1.000000     1.000000  \n",
       "zone_RM            0.000000     0.000000     1.000000  \n",
       "lotshape_irr       0.000000     1.000000     1.000000  \n",
       "near_busy_st       0.000000     0.000000     1.000000  \n",
       "non_1fam           0.000000     0.000000     1.000000  \n",
       "2plus_fl           0.000000     1.000000     1.000000  \n",
       "hip_roof           0.000000     0.000000     1.000000  \n",
       "ext_ord            0.000000     2.000000     2.000000  \n",
       "has_veneer         0.000000     1.000000     1.000000  \n",
       "cncrt_found        0.000000     1.000000     1.000000  \n",
       "bsmt_ord           2.500000     3.000000     4.750000  \n",
       "heatingqc_dum      1.000000     1.000000     1.000000  \n",
       "cent_air_dum       1.000000     1.000000     1.000000  \n",
       "garage_ord         1.330000     1.670000     2.330000  \n",
       "fireplace_ord      0.500000     1.250000     2.000000  \n",
       "lotfrontage_imp   69.273247    80.000000   313.000000  \n",
       "remodel_age       18.000000    47.000000    61.000000  \n",
       "tot_bath           2.000000     2.750000     4.000000  \n",
       "deckporcharea    114.000000   225.000000  1424.000000  \n",
       "nhood_1            0.000000     1.000000     1.000000  \n",
       "nhood_3            0.000000     1.000000     1.000000  "
      ]
     },
     "execution_count": 101,
     "metadata": {},
     "output_type": "execute_result"
    }
   ],
   "source": [
    "ames.describe().T"
   ]
  },
  {
   "cell_type": "code",
   "execution_count": 102,
   "id": "b1943ab1",
   "metadata": {
    "ExecuteTime": {
     "end_time": "2022-01-06T05:43:27.984688Z",
     "start_time": "2022-01-06T05:43:19.608707Z"
    }
   },
   "outputs": [
    {
     "data": {
      "text/plain": [
       "39.4225471120679"
      ]
     },
     "execution_count": 102,
     "metadata": {},
     "output_type": "execute_result"
    }
   ],
   "source": [
    "# even though we are minimizing rmse, with folds it's appears that using r2 is recommended\n",
    "rd_kgl3 = RidgeCV(rd_alpha, cv=5, scoring='r2')\n",
    "\n",
    "#fit the entirety of the training set\n",
    "rd_kgl3.fit(X_sc2, y)\n",
    "# predict based on the testing set. undo log-transformation of prices to get usable values\n",
    "yhat_kgl3 = np.exp(rd_kgl3.predict(ames_kgl_sc2))\n",
    "rd_kgl3.alpha_"
   ]
  },
  {
   "cell_type": "code",
   "execution_count": 103,
   "id": "5503eda9",
   "metadata": {
    "ExecuteTime": {
     "end_time": "2022-01-06T05:43:28.000036Z",
     "start_time": "2022-01-06T05:43:27.986337Z"
    }
   },
   "outputs": [
    {
     "data": {
      "text/html": [
       "<div>\n",
       "<style scoped>\n",
       "    .dataframe tbody tr th:only-of-type {\n",
       "        vertical-align: middle;\n",
       "    }\n",
       "\n",
       "    .dataframe tbody tr th {\n",
       "        vertical-align: top;\n",
       "    }\n",
       "\n",
       "    .dataframe thead th {\n",
       "        text-align: right;\n",
       "    }\n",
       "</style>\n",
       "<table border=\"1\" class=\"dataframe\">\n",
       "  <thead>\n",
       "    <tr style=\"text-align: right;\">\n",
       "      <th></th>\n",
       "      <th>SalePrice</th>\n",
       "    </tr>\n",
       "  </thead>\n",
       "  <tbody>\n",
       "    <tr>\n",
       "      <th>0</th>\n",
       "      <td>138801.234831</td>\n",
       "    </tr>\n",
       "    <tr>\n",
       "      <th>1</th>\n",
       "      <td>165573.059342</td>\n",
       "    </tr>\n",
       "    <tr>\n",
       "      <th>2</th>\n",
       "      <td>225023.856621</td>\n",
       "    </tr>\n",
       "    <tr>\n",
       "      <th>3</th>\n",
       "      <td>101421.652379</td>\n",
       "    </tr>\n",
       "    <tr>\n",
       "      <th>4</th>\n",
       "      <td>171392.037196</td>\n",
       "    </tr>\n",
       "  </tbody>\n",
       "</table>\n",
       "</div>"
      ],
      "text/plain": [
       "       SalePrice\n",
       "0  138801.234831\n",
       "1  165573.059342\n",
       "2  225023.856621\n",
       "3  101421.652379\n",
       "4  171392.037196"
      ]
     },
     "execution_count": 103,
     "metadata": {},
     "output_type": "execute_result"
    }
   ],
   "source": [
    "# convert to a dataframe again\n",
    "yhat_kgl3=pd.DataFrame(yhat_kgl3, columns=['SalePrice'])\n",
    "yhat_kgl3.head()"
   ]
  },
  {
   "cell_type": "code",
   "execution_count": 104,
   "id": "5e65e159",
   "metadata": {
    "ExecuteTime": {
     "end_time": "2022-01-06T05:43:28.015594Z",
     "start_time": "2022-01-06T05:43:28.002664Z"
    }
   },
   "outputs": [
    {
     "data": {
      "text/html": [
       "<div>\n",
       "<style scoped>\n",
       "    .dataframe tbody tr th:only-of-type {\n",
       "        vertical-align: middle;\n",
       "    }\n",
       "\n",
       "    .dataframe tbody tr th {\n",
       "        vertical-align: top;\n",
       "    }\n",
       "\n",
       "    .dataframe thead th {\n",
       "        text-align: right;\n",
       "    }\n",
       "</style>\n",
       "<table border=\"1\" class=\"dataframe\">\n",
       "  <thead>\n",
       "    <tr style=\"text-align: right;\">\n",
       "      <th></th>\n",
       "      <th>SalePrice</th>\n",
       "    </tr>\n",
       "    <tr>\n",
       "      <th>id</th>\n",
       "      <th></th>\n",
       "    </tr>\n",
       "  </thead>\n",
       "  <tbody>\n",
       "    <tr>\n",
       "      <th>2</th>\n",
       "      <td>100717.027007</td>\n",
       "    </tr>\n",
       "    <tr>\n",
       "      <th>4</th>\n",
       "      <td>267859.444940</td>\n",
       "    </tr>\n",
       "    <tr>\n",
       "      <th>6</th>\n",
       "      <td>204628.266488</td>\n",
       "    </tr>\n",
       "    <tr>\n",
       "      <th>7</th>\n",
       "      <td>207314.487080</td>\n",
       "    </tr>\n",
       "    <tr>\n",
       "      <th>17</th>\n",
       "      <td>212027.606416</td>\n",
       "    </tr>\n",
       "  </tbody>\n",
       "</table>\n",
       "</div>"
      ],
      "text/plain": [
       "        SalePrice\n",
       "id               \n",
       "2   100717.027007\n",
       "4   267859.444940\n",
       "6   204628.266488\n",
       "7   207314.487080\n",
       "17  212027.606416"
      ]
     },
     "execution_count": 104,
     "metadata": {},
     "output_type": "execute_result"
    }
   ],
   "source": [
    "# format the submission file\n",
    "submit3 = pd.concat([id_column, yhat_kgl3], axis=1)\n",
    "submit3.set_index('id', drop=True, inplace=True)\n",
    "submit3.sort_values(by='id', inplace=True)\n",
    "submit3.head()"
   ]
  },
  {
   "cell_type": "code",
   "execution_count": 105,
   "id": "dea84778",
   "metadata": {
    "ExecuteTime": {
     "end_time": "2022-01-06T05:43:28.030647Z",
     "start_time": "2022-01-06T05:43:28.016100Z"
    }
   },
   "outputs": [],
   "source": [
    "# good luck!\n",
    "submit3.to_csv('../datasets/kaggle3_ridge.csv')"
   ]
  },
  {
   "cell_type": "markdown",
   "id": "9738623e",
   "metadata": {},
   "source": [
    "<img src=\"../images/kagle_submit.PNG\">"
   ]
  },
  {
   "cell_type": "markdown",
   "id": "be4eee2c",
   "metadata": {},
   "source": [
    "#### Kaggle submission:\n",
    " ####               Good news:\n",
    "- public score of 25000 is satisfactory, albeit expected since our r2 and rmse were pretty good during testing on the train-test set\n",
    "- private score of 20000 is remarkable - achieved with only 20 columns, it would've been top 15 on the leadboard had it been submitted on time (the private score is the one that counts for the competition\n",
    "- in general business sense, being able to estimate a house price in Ames, Iowa to within $20k is a useful achievement, and the model can proudly be put to work in day to day operations of a real-estate brokerage\n",
    "#### Somewhat disappointing news:\n",
    "- all the models performed similarly, within rmse of a couple of hundered dollars.\n",
    "- that implies that most of the useful work was done during EDA and transformation, while modelling itself did not pay huge dividends\n"
   ]
  },
  {
   "cell_type": "markdown",
   "id": "4d9b00e0",
   "metadata": {},
   "source": [
    "<a id = '8.0'><a/>\n",
    "### 8.0 Model for Presentation\n",
    "* [Back to top](#Content)"
   ]
  },
  {
   "cell_type": "markdown",
   "id": "f5e983e2",
   "metadata": {},
   "source": [
    "#### use a model without any logarithmic transformation among predictors. the only transformation will be the log transform of the dependent variable - the price. this will make the model simple to interpret for business users. ( and if not easy, then at least easier than the previous models with various combinations of logarithmiclly transformed variables)."
   ]
  },
  {
   "cell_type": "code",
   "execution_count": 106,
   "id": "1bbfe559",
   "metadata": {
    "ExecuteTime": {
     "end_time": "2022-01-06T05:43:28.046580Z",
     "start_time": "2022-01-06T05:43:28.031910Z"
    }
   },
   "outputs": [],
   "source": [
    "# undo log transform of independent variables\n",
    "X['lotarea_sf'] = np.exp(X['lotarea'])\n",
    "X['grlivarea_sf'] = np.exp(X['grlivarea'])\n",
    "y_sf = y.copy()\n",
    "X_sf = X.copy()\n",
    "# in addition to dropping old versions of the transformed columns, also nhood_1 should \n",
    "# certainly be dropped. p-value is high at over 0.5 (in all models), so the coefficient\n",
    "# is completely unreliable, and more importantly, it's positive while it ought to be negative\n",
    "X_sf.drop(['lotarea', 'grlivarea', 'nhood_1'], axis=1, inplace=True)\n",
    "X.drop(['lotarea_sf', 'grlivarea_sf'], axis=1, inplace=True)"
   ]
  },
  {
   "cell_type": "code",
   "execution_count": 107,
   "id": "c180b98b",
   "metadata": {
    "ExecuteTime": {
     "end_time": "2022-01-06T05:43:28.171571Z",
     "start_time": "2022-01-06T05:43:28.047704Z"
    },
    "scrolled": true
   },
   "outputs": [
    {
     "data": {
      "text/html": [
       "<div>\n",
       "<style scoped>\n",
       "    .dataframe tbody tr th:only-of-type {\n",
       "        vertical-align: middle;\n",
       "    }\n",
       "\n",
       "    .dataframe tbody tr th {\n",
       "        vertical-align: top;\n",
       "    }\n",
       "\n",
       "    .dataframe thead th {\n",
       "        text-align: right;\n",
       "    }\n",
       "</style>\n",
       "<table border=\"1\" class=\"dataframe\">\n",
       "  <thead>\n",
       "    <tr style=\"text-align: right;\">\n",
       "      <th></th>\n",
       "      <th>0</th>\n",
       "      <th>1</th>\n",
       "      <th>2</th>\n",
       "      <th>3</th>\n",
       "      <th>4</th>\n",
       "      <th>5</th>\n",
       "      <th>6</th>\n",
       "      <th>7</th>\n",
       "      <th>8</th>\n",
       "      <th>9</th>\n",
       "      <th>10</th>\n",
       "      <th>11</th>\n",
       "      <th>12</th>\n",
       "      <th>13</th>\n",
       "      <th>14</th>\n",
       "      <th>15</th>\n",
       "      <th>16</th>\n",
       "      <th>17</th>\n",
       "      <th>18</th>\n",
       "      <th>19</th>\n",
       "      <th>20</th>\n",
       "      <th>21</th>\n",
       "      <th>22</th>\n",
       "      <th>23</th>\n",
       "      <th>24</th>\n",
       "      <th>25</th>\n",
       "      <th>26</th>\n",
       "      <th>27</th>\n",
       "      <th>28</th>\n",
       "      <th>29</th>\n",
       "      <th>30</th>\n",
       "      <th>31</th>\n",
       "      <th>32</th>\n",
       "      <th>33</th>\n",
       "      <th>34</th>\n",
       "      <th>35</th>\n",
       "      <th>36</th>\n",
       "      <th>37</th>\n",
       "      <th>38</th>\n",
       "      <th>39</th>\n",
       "    </tr>\n",
       "  </thead>\n",
       "  <tbody>\n",
       "    <tr>\n",
       "      <th>overallqual</th>\n",
       "      <td>6.000000</td>\n",
       "      <td>7.00</td>\n",
       "      <td>5.00</td>\n",
       "      <td>5.0</td>\n",
       "      <td>6.00</td>\n",
       "      <td>6.00</td>\n",
       "      <td>6.00</td>\n",
       "      <td>5.000000</td>\n",
       "      <td>5.000000</td>\n",
       "      <td>5.00</td>\n",
       "      <td>6.00</td>\n",
       "      <td>7.00</td>\n",
       "      <td>5.00</td>\n",
       "      <td>8.0</td>\n",
       "      <td>7.00</td>\n",
       "      <td>5.00</td>\n",
       "      <td>5.00</td>\n",
       "      <td>5.0</td>\n",
       "      <td>6.00</td>\n",
       "      <td>7.00</td>\n",
       "      <td>5.00</td>\n",
       "      <td>8.00</td>\n",
       "      <td>8.00</td>\n",
       "      <td>6.00000</td>\n",
       "      <td>5.00</td>\n",
       "      <td>6.00</td>\n",
       "      <td>5.00</td>\n",
       "      <td>5.000000</td>\n",
       "      <td>5.00</td>\n",
       "      <td>5.0</td>\n",
       "      <td>8.00</td>\n",
       "      <td>8.000000</td>\n",
       "      <td>8.00</td>\n",
       "      <td>6.0</td>\n",
       "      <td>8.00</td>\n",
       "      <td>6.00</td>\n",
       "      <td>5.00</td>\n",
       "      <td>6.00</td>\n",
       "      <td>7.00</td>\n",
       "      <td>5.00</td>\n",
       "    </tr>\n",
       "    <tr>\n",
       "      <th>overallcond</th>\n",
       "      <td>8.000000</td>\n",
       "      <td>5.00</td>\n",
       "      <td>7.00</td>\n",
       "      <td>5.0</td>\n",
       "      <td>8.00</td>\n",
       "      <td>6.00</td>\n",
       "      <td>5.00</td>\n",
       "      <td>5.000000</td>\n",
       "      <td>5.000000</td>\n",
       "      <td>5.00</td>\n",
       "      <td>5.00</td>\n",
       "      <td>5.00</td>\n",
       "      <td>7.00</td>\n",
       "      <td>5.0</td>\n",
       "      <td>5.00</td>\n",
       "      <td>5.00</td>\n",
       "      <td>5.00</td>\n",
       "      <td>6.0</td>\n",
       "      <td>5.00</td>\n",
       "      <td>5.00</td>\n",
       "      <td>5.00</td>\n",
       "      <td>5.00</td>\n",
       "      <td>5.00</td>\n",
       "      <td>7.00000</td>\n",
       "      <td>5.00</td>\n",
       "      <td>6.00</td>\n",
       "      <td>8.00</td>\n",
       "      <td>6.000000</td>\n",
       "      <td>6.00</td>\n",
       "      <td>7.0</td>\n",
       "      <td>5.00</td>\n",
       "      <td>7.000000</td>\n",
       "      <td>5.00</td>\n",
       "      <td>6.0</td>\n",
       "      <td>5.00</td>\n",
       "      <td>6.00</td>\n",
       "      <td>6.00</td>\n",
       "      <td>6.00</td>\n",
       "      <td>6.00</td>\n",
       "      <td>7.00</td>\n",
       "    </tr>\n",
       "    <tr>\n",
       "      <th>totalbsmtsf</th>\n",
       "      <td>725.000000</td>\n",
       "      <td>913.00</td>\n",
       "      <td>1057.00</td>\n",
       "      <td>384.0</td>\n",
       "      <td>676.00</td>\n",
       "      <td>1517.00</td>\n",
       "      <td>547.00</td>\n",
       "      <td>1188.000000</td>\n",
       "      <td>924.000000</td>\n",
       "      <td>1040.00</td>\n",
       "      <td>483.00</td>\n",
       "      <td>1208.00</td>\n",
       "      <td>0.00</td>\n",
       "      <td>960.0</td>\n",
       "      <td>1351.00</td>\n",
       "      <td>1430.00</td>\n",
       "      <td>624.00</td>\n",
       "      <td>1121.0</td>\n",
       "      <td>660.00</td>\n",
       "      <td>756.00</td>\n",
       "      <td>894.00</td>\n",
       "      <td>1501.00</td>\n",
       "      <td>1209.00</td>\n",
       "      <td>1168.00000</td>\n",
       "      <td>1056.00</td>\n",
       "      <td>1453.00</td>\n",
       "      <td>894.00</td>\n",
       "      <td>942.000000</td>\n",
       "      <td>957.00</td>\n",
       "      <td>672.0</td>\n",
       "      <td>2524.00</td>\n",
       "      <td>792.000000</td>\n",
       "      <td>1494.00</td>\n",
       "      <td>948.0</td>\n",
       "      <td>1705.00</td>\n",
       "      <td>160.00</td>\n",
       "      <td>757.00</td>\n",
       "      <td>1844.00</td>\n",
       "      <td>1242.00</td>\n",
       "      <td>990.00</td>\n",
       "    </tr>\n",
       "    <tr>\n",
       "      <th>kitchenqual</th>\n",
       "      <td>2.000000</td>\n",
       "      <td>2.00</td>\n",
       "      <td>2.00</td>\n",
       "      <td>1.0</td>\n",
       "      <td>1.00</td>\n",
       "      <td>2.00</td>\n",
       "      <td>1.00</td>\n",
       "      <td>1.000000</td>\n",
       "      <td>1.000000</td>\n",
       "      <td>0.00</td>\n",
       "      <td>1.00</td>\n",
       "      <td>2.00</td>\n",
       "      <td>1.00</td>\n",
       "      <td>2.0</td>\n",
       "      <td>2.00</td>\n",
       "      <td>2.00</td>\n",
       "      <td>1.00</td>\n",
       "      <td>1.0</td>\n",
       "      <td>1.00</td>\n",
       "      <td>2.00</td>\n",
       "      <td>1.00</td>\n",
       "      <td>3.00</td>\n",
       "      <td>3.00</td>\n",
       "      <td>1.00000</td>\n",
       "      <td>1.00</td>\n",
       "      <td>1.00</td>\n",
       "      <td>1.00</td>\n",
       "      <td>2.000000</td>\n",
       "      <td>1.00</td>\n",
       "      <td>1.0</td>\n",
       "      <td>2.00</td>\n",
       "      <td>2.000000</td>\n",
       "      <td>3.00</td>\n",
       "      <td>1.0</td>\n",
       "      <td>2.00</td>\n",
       "      <td>1.00</td>\n",
       "      <td>1.00</td>\n",
       "      <td>1.00</td>\n",
       "      <td>1.00</td>\n",
       "      <td>1.00</td>\n",
       "    </tr>\n",
       "    <tr>\n",
       "      <th>paveddrive</th>\n",
       "      <td>1.000000</td>\n",
       "      <td>1.00</td>\n",
       "      <td>1.00</td>\n",
       "      <td>1.0</td>\n",
       "      <td>0.00</td>\n",
       "      <td>1.00</td>\n",
       "      <td>1.00</td>\n",
       "      <td>1.000000</td>\n",
       "      <td>1.000000</td>\n",
       "      <td>1.00</td>\n",
       "      <td>1.00</td>\n",
       "      <td>1.00</td>\n",
       "      <td>0.00</td>\n",
       "      <td>1.0</td>\n",
       "      <td>1.00</td>\n",
       "      <td>1.00</td>\n",
       "      <td>1.00</td>\n",
       "      <td>1.0</td>\n",
       "      <td>1.00</td>\n",
       "      <td>1.00</td>\n",
       "      <td>1.00</td>\n",
       "      <td>1.00</td>\n",
       "      <td>1.00</td>\n",
       "      <td>1.00000</td>\n",
       "      <td>1.00</td>\n",
       "      <td>1.00</td>\n",
       "      <td>1.00</td>\n",
       "      <td>1.000000</td>\n",
       "      <td>0.00</td>\n",
       "      <td>1.0</td>\n",
       "      <td>1.00</td>\n",
       "      <td>1.000000</td>\n",
       "      <td>1.00</td>\n",
       "      <td>0.0</td>\n",
       "      <td>1.00</td>\n",
       "      <td>1.00</td>\n",
       "      <td>1.00</td>\n",
       "      <td>1.00</td>\n",
       "      <td>1.00</td>\n",
       "      <td>1.00</td>\n",
       "    </tr>\n",
       "    <tr>\n",
       "      <th>zone_FV</th>\n",
       "      <td>0.000000</td>\n",
       "      <td>0.00</td>\n",
       "      <td>0.00</td>\n",
       "      <td>0.0</td>\n",
       "      <td>0.00</td>\n",
       "      <td>0.00</td>\n",
       "      <td>0.00</td>\n",
       "      <td>0.000000</td>\n",
       "      <td>0.000000</td>\n",
       "      <td>0.00</td>\n",
       "      <td>0.00</td>\n",
       "      <td>0.00</td>\n",
       "      <td>0.00</td>\n",
       "      <td>1.0</td>\n",
       "      <td>0.00</td>\n",
       "      <td>0.00</td>\n",
       "      <td>0.00</td>\n",
       "      <td>0.0</td>\n",
       "      <td>0.00</td>\n",
       "      <td>1.00</td>\n",
       "      <td>0.00</td>\n",
       "      <td>0.00</td>\n",
       "      <td>0.00</td>\n",
       "      <td>0.00000</td>\n",
       "      <td>0.00</td>\n",
       "      <td>0.00</td>\n",
       "      <td>0.00</td>\n",
       "      <td>0.000000</td>\n",
       "      <td>0.00</td>\n",
       "      <td>0.0</td>\n",
       "      <td>0.00</td>\n",
       "      <td>0.000000</td>\n",
       "      <td>0.00</td>\n",
       "      <td>0.0</td>\n",
       "      <td>0.00</td>\n",
       "      <td>0.00</td>\n",
       "      <td>0.00</td>\n",
       "      <td>0.00</td>\n",
       "      <td>0.00</td>\n",
       "      <td>0.00</td>\n",
       "    </tr>\n",
       "    <tr>\n",
       "      <th>zone_RL</th>\n",
       "      <td>1.000000</td>\n",
       "      <td>1.00</td>\n",
       "      <td>1.00</td>\n",
       "      <td>1.0</td>\n",
       "      <td>1.00</td>\n",
       "      <td>1.00</td>\n",
       "      <td>0.00</td>\n",
       "      <td>1.000000</td>\n",
       "      <td>1.000000</td>\n",
       "      <td>1.00</td>\n",
       "      <td>0.00</td>\n",
       "      <td>1.00</td>\n",
       "      <td>1.00</td>\n",
       "      <td>0.0</td>\n",
       "      <td>1.00</td>\n",
       "      <td>1.00</td>\n",
       "      <td>0.00</td>\n",
       "      <td>1.0</td>\n",
       "      <td>1.00</td>\n",
       "      <td>0.00</td>\n",
       "      <td>1.00</td>\n",
       "      <td>1.00</td>\n",
       "      <td>1.00</td>\n",
       "      <td>1.00000</td>\n",
       "      <td>1.00</td>\n",
       "      <td>1.00</td>\n",
       "      <td>1.00</td>\n",
       "      <td>1.000000</td>\n",
       "      <td>0.00</td>\n",
       "      <td>1.0</td>\n",
       "      <td>1.00</td>\n",
       "      <td>1.000000</td>\n",
       "      <td>1.00</td>\n",
       "      <td>1.0</td>\n",
       "      <td>1.00</td>\n",
       "      <td>1.00</td>\n",
       "      <td>0.00</td>\n",
       "      <td>1.00</td>\n",
       "      <td>1.00</td>\n",
       "      <td>1.00</td>\n",
       "    </tr>\n",
       "    <tr>\n",
       "      <th>zone_RM</th>\n",
       "      <td>0.000000</td>\n",
       "      <td>0.00</td>\n",
       "      <td>0.00</td>\n",
       "      <td>0.0</td>\n",
       "      <td>0.00</td>\n",
       "      <td>0.00</td>\n",
       "      <td>1.00</td>\n",
       "      <td>0.000000</td>\n",
       "      <td>0.000000</td>\n",
       "      <td>0.00</td>\n",
       "      <td>1.00</td>\n",
       "      <td>0.00</td>\n",
       "      <td>0.00</td>\n",
       "      <td>0.0</td>\n",
       "      <td>0.00</td>\n",
       "      <td>0.00</td>\n",
       "      <td>1.00</td>\n",
       "      <td>0.0</td>\n",
       "      <td>0.00</td>\n",
       "      <td>0.00</td>\n",
       "      <td>0.00</td>\n",
       "      <td>0.00</td>\n",
       "      <td>0.00</td>\n",
       "      <td>0.00000</td>\n",
       "      <td>0.00</td>\n",
       "      <td>0.00</td>\n",
       "      <td>0.00</td>\n",
       "      <td>0.000000</td>\n",
       "      <td>0.00</td>\n",
       "      <td>0.0</td>\n",
       "      <td>0.00</td>\n",
       "      <td>0.000000</td>\n",
       "      <td>0.00</td>\n",
       "      <td>0.0</td>\n",
       "      <td>0.00</td>\n",
       "      <td>0.00</td>\n",
       "      <td>1.00</td>\n",
       "      <td>0.00</td>\n",
       "      <td>0.00</td>\n",
       "      <td>0.00</td>\n",
       "    </tr>\n",
       "    <tr>\n",
       "      <th>lotshape_irr</th>\n",
       "      <td>1.000000</td>\n",
       "      <td>1.00</td>\n",
       "      <td>0.00</td>\n",
       "      <td>0.0</td>\n",
       "      <td>1.00</td>\n",
       "      <td>1.00</td>\n",
       "      <td>0.00</td>\n",
       "      <td>1.000000</td>\n",
       "      <td>0.000000</td>\n",
       "      <td>1.00</td>\n",
       "      <td>0.00</td>\n",
       "      <td>1.00</td>\n",
       "      <td>0.00</td>\n",
       "      <td>0.0</td>\n",
       "      <td>0.00</td>\n",
       "      <td>0.00</td>\n",
       "      <td>0.00</td>\n",
       "      <td>0.0</td>\n",
       "      <td>0.00</td>\n",
       "      <td>0.00</td>\n",
       "      <td>0.00</td>\n",
       "      <td>1.00</td>\n",
       "      <td>1.00</td>\n",
       "      <td>1.00000</td>\n",
       "      <td>0.00</td>\n",
       "      <td>1.00</td>\n",
       "      <td>0.00</td>\n",
       "      <td>1.000000</td>\n",
       "      <td>0.00</td>\n",
       "      <td>0.0</td>\n",
       "      <td>0.00</td>\n",
       "      <td>1.000000</td>\n",
       "      <td>1.00</td>\n",
       "      <td>0.0</td>\n",
       "      <td>0.00</td>\n",
       "      <td>1.00</td>\n",
       "      <td>0.00</td>\n",
       "      <td>1.00</td>\n",
       "      <td>0.00</td>\n",
       "      <td>1.00</td>\n",
       "    </tr>\n",
       "    <tr>\n",
       "      <th>near_busy_st</th>\n",
       "      <td>0.000000</td>\n",
       "      <td>0.00</td>\n",
       "      <td>0.00</td>\n",
       "      <td>0.0</td>\n",
       "      <td>0.00</td>\n",
       "      <td>0.00</td>\n",
       "      <td>0.00</td>\n",
       "      <td>0.000000</td>\n",
       "      <td>1.000000</td>\n",
       "      <td>0.00</td>\n",
       "      <td>0.00</td>\n",
       "      <td>0.00</td>\n",
       "      <td>1.00</td>\n",
       "      <td>0.0</td>\n",
       "      <td>0.00</td>\n",
       "      <td>0.00</td>\n",
       "      <td>0.00</td>\n",
       "      <td>1.0</td>\n",
       "      <td>0.00</td>\n",
       "      <td>0.00</td>\n",
       "      <td>0.00</td>\n",
       "      <td>0.00</td>\n",
       "      <td>0.00</td>\n",
       "      <td>0.00000</td>\n",
       "      <td>0.00</td>\n",
       "      <td>0.00</td>\n",
       "      <td>0.00</td>\n",
       "      <td>0.000000</td>\n",
       "      <td>1.00</td>\n",
       "      <td>1.0</td>\n",
       "      <td>0.00</td>\n",
       "      <td>0.000000</td>\n",
       "      <td>0.00</td>\n",
       "      <td>0.0</td>\n",
       "      <td>0.00</td>\n",
       "      <td>0.00</td>\n",
       "      <td>0.00</td>\n",
       "      <td>0.00</td>\n",
       "      <td>0.00</td>\n",
       "      <td>0.00</td>\n",
       "    </tr>\n",
       "    <tr>\n",
       "      <th>non_1fam</th>\n",
       "      <td>0.000000</td>\n",
       "      <td>0.00</td>\n",
       "      <td>0.00</td>\n",
       "      <td>0.0</td>\n",
       "      <td>0.00</td>\n",
       "      <td>0.00</td>\n",
       "      <td>0.00</td>\n",
       "      <td>0.000000</td>\n",
       "      <td>0.000000</td>\n",
       "      <td>0.00</td>\n",
       "      <td>1.00</td>\n",
       "      <td>0.00</td>\n",
       "      <td>0.00</td>\n",
       "      <td>1.0</td>\n",
       "      <td>0.00</td>\n",
       "      <td>0.00</td>\n",
       "      <td>0.00</td>\n",
       "      <td>0.0</td>\n",
       "      <td>0.00</td>\n",
       "      <td>0.00</td>\n",
       "      <td>0.00</td>\n",
       "      <td>0.00</td>\n",
       "      <td>0.00</td>\n",
       "      <td>0.00000</td>\n",
       "      <td>1.00</td>\n",
       "      <td>0.00</td>\n",
       "      <td>0.00</td>\n",
       "      <td>0.000000</td>\n",
       "      <td>1.00</td>\n",
       "      <td>0.0</td>\n",
       "      <td>0.00</td>\n",
       "      <td>0.000000</td>\n",
       "      <td>0.00</td>\n",
       "      <td>0.0</td>\n",
       "      <td>0.00</td>\n",
       "      <td>0.00</td>\n",
       "      <td>0.00</td>\n",
       "      <td>0.00</td>\n",
       "      <td>0.00</td>\n",
       "      <td>0.00</td>\n",
       "    </tr>\n",
       "    <tr>\n",
       "      <th>2plus_fl</th>\n",
       "      <td>1.000000</td>\n",
       "      <td>1.00</td>\n",
       "      <td>0.00</td>\n",
       "      <td>1.0</td>\n",
       "      <td>0.00</td>\n",
       "      <td>0.00</td>\n",
       "      <td>0.00</td>\n",
       "      <td>0.000000</td>\n",
       "      <td>0.000000</td>\n",
       "      <td>1.00</td>\n",
       "      <td>1.00</td>\n",
       "      <td>0.00</td>\n",
       "      <td>1.00</td>\n",
       "      <td>1.0</td>\n",
       "      <td>0.00</td>\n",
       "      <td>0.00</td>\n",
       "      <td>1.00</td>\n",
       "      <td>0.0</td>\n",
       "      <td>0.00</td>\n",
       "      <td>1.00</td>\n",
       "      <td>0.00</td>\n",
       "      <td>0.00</td>\n",
       "      <td>1.00</td>\n",
       "      <td>0.00000</td>\n",
       "      <td>0.00</td>\n",
       "      <td>0.00</td>\n",
       "      <td>0.00</td>\n",
       "      <td>0.000000</td>\n",
       "      <td>1.00</td>\n",
       "      <td>0.0</td>\n",
       "      <td>0.00</td>\n",
       "      <td>1.000000</td>\n",
       "      <td>0.00</td>\n",
       "      <td>0.0</td>\n",
       "      <td>0.00</td>\n",
       "      <td>0.00</td>\n",
       "      <td>1.00</td>\n",
       "      <td>0.00</td>\n",
       "      <td>0.00</td>\n",
       "      <td>0.00</td>\n",
       "    </tr>\n",
       "    <tr>\n",
       "      <th>hip_roof</th>\n",
       "      <td>0.000000</td>\n",
       "      <td>0.00</td>\n",
       "      <td>0.00</td>\n",
       "      <td>0.0</td>\n",
       "      <td>0.00</td>\n",
       "      <td>0.00</td>\n",
       "      <td>0.00</td>\n",
       "      <td>1.000000</td>\n",
       "      <td>0.000000</td>\n",
       "      <td>0.00</td>\n",
       "      <td>0.00</td>\n",
       "      <td>0.00</td>\n",
       "      <td>0.00</td>\n",
       "      <td>0.0</td>\n",
       "      <td>0.00</td>\n",
       "      <td>0.00</td>\n",
       "      <td>0.00</td>\n",
       "      <td>0.0</td>\n",
       "      <td>0.00</td>\n",
       "      <td>0.00</td>\n",
       "      <td>0.00</td>\n",
       "      <td>0.00</td>\n",
       "      <td>0.00</td>\n",
       "      <td>0.00000</td>\n",
       "      <td>1.00</td>\n",
       "      <td>1.00</td>\n",
       "      <td>0.00</td>\n",
       "      <td>0.000000</td>\n",
       "      <td>0.00</td>\n",
       "      <td>0.0</td>\n",
       "      <td>1.00</td>\n",
       "      <td>0.000000</td>\n",
       "      <td>1.00</td>\n",
       "      <td>1.0</td>\n",
       "      <td>1.00</td>\n",
       "      <td>0.00</td>\n",
       "      <td>0.00</td>\n",
       "      <td>1.00</td>\n",
       "      <td>1.00</td>\n",
       "      <td>0.00</td>\n",
       "    </tr>\n",
       "    <tr>\n",
       "      <th>ext_ord</th>\n",
       "      <td>0.000000</td>\n",
       "      <td>2.00</td>\n",
       "      <td>2.00</td>\n",
       "      <td>2.0</td>\n",
       "      <td>0.00</td>\n",
       "      <td>1.00</td>\n",
       "      <td>2.00</td>\n",
       "      <td>0.000000</td>\n",
       "      <td>0.000000</td>\n",
       "      <td>0.00</td>\n",
       "      <td>0.00</td>\n",
       "      <td>2.00</td>\n",
       "      <td>0.00</td>\n",
       "      <td>0.0</td>\n",
       "      <td>2.00</td>\n",
       "      <td>2.00</td>\n",
       "      <td>1.00</td>\n",
       "      <td>2.0</td>\n",
       "      <td>0.00</td>\n",
       "      <td>2.00</td>\n",
       "      <td>2.00</td>\n",
       "      <td>2.00</td>\n",
       "      <td>2.00</td>\n",
       "      <td>0.00000</td>\n",
       "      <td>0.00</td>\n",
       "      <td>0.00</td>\n",
       "      <td>0.00</td>\n",
       "      <td>1.000000</td>\n",
       "      <td>2.00</td>\n",
       "      <td>0.0</td>\n",
       "      <td>1.00</td>\n",
       "      <td>1.000000</td>\n",
       "      <td>1.00</td>\n",
       "      <td>0.0</td>\n",
       "      <td>2.00</td>\n",
       "      <td>0.00</td>\n",
       "      <td>2.00</td>\n",
       "      <td>0.00</td>\n",
       "      <td>0.00</td>\n",
       "      <td>2.00</td>\n",
       "    </tr>\n",
       "    <tr>\n",
       "      <th>has_veneer</th>\n",
       "      <td>1.000000</td>\n",
       "      <td>1.00</td>\n",
       "      <td>0.00</td>\n",
       "      <td>0.0</td>\n",
       "      <td>0.00</td>\n",
       "      <td>0.00</td>\n",
       "      <td>1.00</td>\n",
       "      <td>1.000000</td>\n",
       "      <td>0.000000</td>\n",
       "      <td>1.00</td>\n",
       "      <td>1.00</td>\n",
       "      <td>0.00</td>\n",
       "      <td>0.00</td>\n",
       "      <td>1.0</td>\n",
       "      <td>0.00</td>\n",
       "      <td>0.00</td>\n",
       "      <td>0.00</td>\n",
       "      <td>0.0</td>\n",
       "      <td>1.00</td>\n",
       "      <td>0.00</td>\n",
       "      <td>0.00</td>\n",
       "      <td>0.00</td>\n",
       "      <td>0.00</td>\n",
       "      <td>0.00000</td>\n",
       "      <td>0.00</td>\n",
       "      <td>1.00</td>\n",
       "      <td>0.00</td>\n",
       "      <td>0.000000</td>\n",
       "      <td>0.00</td>\n",
       "      <td>0.0</td>\n",
       "      <td>0.00</td>\n",
       "      <td>0.000000</td>\n",
       "      <td>0.00</td>\n",
       "      <td>0.0</td>\n",
       "      <td>1.00</td>\n",
       "      <td>1.00</td>\n",
       "      <td>0.00</td>\n",
       "      <td>1.00</td>\n",
       "      <td>1.00</td>\n",
       "      <td>0.00</td>\n",
       "    </tr>\n",
       "    <tr>\n",
       "      <th>cncrt_found</th>\n",
       "      <td>0.000000</td>\n",
       "      <td>1.00</td>\n",
       "      <td>0.00</td>\n",
       "      <td>1.0</td>\n",
       "      <td>1.00</td>\n",
       "      <td>0.00</td>\n",
       "      <td>1.00</td>\n",
       "      <td>0.000000</td>\n",
       "      <td>0.000000</td>\n",
       "      <td>1.00</td>\n",
       "      <td>0.00</td>\n",
       "      <td>1.00</td>\n",
       "      <td>1.00</td>\n",
       "      <td>1.0</td>\n",
       "      <td>1.00</td>\n",
       "      <td>1.00</td>\n",
       "      <td>0.00</td>\n",
       "      <td>1.0</td>\n",
       "      <td>0.00</td>\n",
       "      <td>1.00</td>\n",
       "      <td>0.00</td>\n",
       "      <td>1.00</td>\n",
       "      <td>1.00</td>\n",
       "      <td>1.00000</td>\n",
       "      <td>0.00</td>\n",
       "      <td>0.00</td>\n",
       "      <td>0.00</td>\n",
       "      <td>0.000000</td>\n",
       "      <td>0.00</td>\n",
       "      <td>0.0</td>\n",
       "      <td>1.00</td>\n",
       "      <td>1.000000</td>\n",
       "      <td>1.00</td>\n",
       "      <td>0.0</td>\n",
       "      <td>1.00</td>\n",
       "      <td>0.00</td>\n",
       "      <td>1.00</td>\n",
       "      <td>0.00</td>\n",
       "      <td>0.00</td>\n",
       "      <td>1.00</td>\n",
       "    </tr>\n",
       "    <tr>\n",
       "      <th>bsmt_ord</th>\n",
       "      <td>2.750000</td>\n",
       "      <td>3.00</td>\n",
       "      <td>2.75</td>\n",
       "      <td>2.0</td>\n",
       "      <td>1.75</td>\n",
       "      <td>2.50</td>\n",
       "      <td>4.25</td>\n",
       "      <td>2.000000</td>\n",
       "      <td>2.000000</td>\n",
       "      <td>3.00</td>\n",
       "      <td>2.50</td>\n",
       "      <td>3.75</td>\n",
       "      <td>0.00</td>\n",
       "      <td>3.0</td>\n",
       "      <td>3.75</td>\n",
       "      <td>3.00</td>\n",
       "      <td>1.75</td>\n",
       "      <td>2.0</td>\n",
       "      <td>1.75</td>\n",
       "      <td>3.25</td>\n",
       "      <td>2.50</td>\n",
       "      <td>3.00</td>\n",
       "      <td>3.00</td>\n",
       "      <td>2.75000</td>\n",
       "      <td>2.25</td>\n",
       "      <td>2.00</td>\n",
       "      <td>2.75</td>\n",
       "      <td>2.250000</td>\n",
       "      <td>1.75</td>\n",
       "      <td>2.0</td>\n",
       "      <td>2.75</td>\n",
       "      <td>2.000000</td>\n",
       "      <td>3.00</td>\n",
       "      <td>2.5</td>\n",
       "      <td>4.50</td>\n",
       "      <td>3.25</td>\n",
       "      <td>2.50</td>\n",
       "      <td>2.50</td>\n",
       "      <td>2.50</td>\n",
       "      <td>3.25</td>\n",
       "    </tr>\n",
       "    <tr>\n",
       "      <th>heatingqc_dum</th>\n",
       "      <td>1.000000</td>\n",
       "      <td>1.00</td>\n",
       "      <td>0.00</td>\n",
       "      <td>0.0</td>\n",
       "      <td>0.00</td>\n",
       "      <td>1.00</td>\n",
       "      <td>0.00</td>\n",
       "      <td>0.000000</td>\n",
       "      <td>0.000000</td>\n",
       "      <td>0.00</td>\n",
       "      <td>0.00</td>\n",
       "      <td>1.00</td>\n",
       "      <td>1.00</td>\n",
       "      <td>1.0</td>\n",
       "      <td>1.00</td>\n",
       "      <td>1.00</td>\n",
       "      <td>0.00</td>\n",
       "      <td>0.0</td>\n",
       "      <td>1.00</td>\n",
       "      <td>1.00</td>\n",
       "      <td>0.00</td>\n",
       "      <td>1.00</td>\n",
       "      <td>1.00</td>\n",
       "      <td>1.00000</td>\n",
       "      <td>0.00</td>\n",
       "      <td>1.00</td>\n",
       "      <td>1.00</td>\n",
       "      <td>1.000000</td>\n",
       "      <td>0.00</td>\n",
       "      <td>1.0</td>\n",
       "      <td>0.00</td>\n",
       "      <td>0.000000</td>\n",
       "      <td>1.00</td>\n",
       "      <td>0.0</td>\n",
       "      <td>1.00</td>\n",
       "      <td>0.00</td>\n",
       "      <td>1.00</td>\n",
       "      <td>1.00</td>\n",
       "      <td>0.00</td>\n",
       "      <td>1.00</td>\n",
       "    </tr>\n",
       "    <tr>\n",
       "      <th>cent_air_dum</th>\n",
       "      <td>1.000000</td>\n",
       "      <td>1.00</td>\n",
       "      <td>1.00</td>\n",
       "      <td>1.0</td>\n",
       "      <td>1.00</td>\n",
       "      <td>1.00</td>\n",
       "      <td>1.00</td>\n",
       "      <td>1.000000</td>\n",
       "      <td>1.000000</td>\n",
       "      <td>1.00</td>\n",
       "      <td>1.00</td>\n",
       "      <td>1.00</td>\n",
       "      <td>1.00</td>\n",
       "      <td>1.0</td>\n",
       "      <td>1.00</td>\n",
       "      <td>1.00</td>\n",
       "      <td>0.00</td>\n",
       "      <td>1.0</td>\n",
       "      <td>1.00</td>\n",
       "      <td>1.00</td>\n",
       "      <td>1.00</td>\n",
       "      <td>1.00</td>\n",
       "      <td>1.00</td>\n",
       "      <td>1.00000</td>\n",
       "      <td>0.00</td>\n",
       "      <td>1.00</td>\n",
       "      <td>1.00</td>\n",
       "      <td>1.000000</td>\n",
       "      <td>0.00</td>\n",
       "      <td>1.0</td>\n",
       "      <td>1.00</td>\n",
       "      <td>1.000000</td>\n",
       "      <td>1.00</td>\n",
       "      <td>1.0</td>\n",
       "      <td>1.00</td>\n",
       "      <td>1.00</td>\n",
       "      <td>1.00</td>\n",
       "      <td>1.00</td>\n",
       "      <td>1.00</td>\n",
       "      <td>1.00</td>\n",
       "    </tr>\n",
       "    <tr>\n",
       "      <th>garage_ord</th>\n",
       "      <td>1.670000</td>\n",
       "      <td>1.67</td>\n",
       "      <td>0.67</td>\n",
       "      <td>2.0</td>\n",
       "      <td>1.00</td>\n",
       "      <td>1.67</td>\n",
       "      <td>1.33</td>\n",
       "      <td>1.670000</td>\n",
       "      <td>0.670000</td>\n",
       "      <td>1.33</td>\n",
       "      <td>0.67</td>\n",
       "      <td>1.67</td>\n",
       "      <td>1.33</td>\n",
       "      <td>1.0</td>\n",
       "      <td>1.67</td>\n",
       "      <td>1.67</td>\n",
       "      <td>1.33</td>\n",
       "      <td>1.0</td>\n",
       "      <td>1.67</td>\n",
       "      <td>1.33</td>\n",
       "      <td>1.67</td>\n",
       "      <td>1.67</td>\n",
       "      <td>1.67</td>\n",
       "      <td>1.67000</td>\n",
       "      <td>1.67</td>\n",
       "      <td>1.67</td>\n",
       "      <td>0.67</td>\n",
       "      <td>0.670000</td>\n",
       "      <td>0.00</td>\n",
       "      <td>1.0</td>\n",
       "      <td>1.67</td>\n",
       "      <td>1.000000</td>\n",
       "      <td>1.67</td>\n",
       "      <td>1.0</td>\n",
       "      <td>2.00</td>\n",
       "      <td>1.00</td>\n",
       "      <td>1.33</td>\n",
       "      <td>1.67</td>\n",
       "      <td>1.33</td>\n",
       "      <td>0.67</td>\n",
       "    </tr>\n",
       "    <tr>\n",
       "      <th>fireplace_ord</th>\n",
       "      <td>0.000000</td>\n",
       "      <td>1.00</td>\n",
       "      <td>0.00</td>\n",
       "      <td>0.0</td>\n",
       "      <td>0.00</td>\n",
       "      <td>1.25</td>\n",
       "      <td>0.00</td>\n",
       "      <td>0.000000</td>\n",
       "      <td>0.000000</td>\n",
       "      <td>1.25</td>\n",
       "      <td>0.00</td>\n",
       "      <td>0.00</td>\n",
       "      <td>1.00</td>\n",
       "      <td>0.0</td>\n",
       "      <td>0.00</td>\n",
       "      <td>0.00</td>\n",
       "      <td>0.00</td>\n",
       "      <td>0.0</td>\n",
       "      <td>1.00</td>\n",
       "      <td>0.00</td>\n",
       "      <td>0.50</td>\n",
       "      <td>1.75</td>\n",
       "      <td>1.25</td>\n",
       "      <td>0.00000</td>\n",
       "      <td>0.00</td>\n",
       "      <td>1.00</td>\n",
       "      <td>1.25</td>\n",
       "      <td>1.250000</td>\n",
       "      <td>0.00</td>\n",
       "      <td>0.5</td>\n",
       "      <td>1.25</td>\n",
       "      <td>1.500000</td>\n",
       "      <td>1.25</td>\n",
       "      <td>0.0</td>\n",
       "      <td>1.25</td>\n",
       "      <td>1.25</td>\n",
       "      <td>1.00</td>\n",
       "      <td>1.00</td>\n",
       "      <td>1.00</td>\n",
       "      <td>0.00</td>\n",
       "    </tr>\n",
       "    <tr>\n",
       "      <th>lotfrontage_imp</th>\n",
       "      <td>81.889336</td>\n",
       "      <td>43.00</td>\n",
       "      <td>68.00</td>\n",
       "      <td>73.0</td>\n",
       "      <td>82.00</td>\n",
       "      <td>137.00</td>\n",
       "      <td>35.00</td>\n",
       "      <td>77.712601</td>\n",
       "      <td>90.722298</td>\n",
       "      <td>70.00</td>\n",
       "      <td>21.00</td>\n",
       "      <td>64.00</td>\n",
       "      <td>120.00</td>\n",
       "      <td>24.0</td>\n",
       "      <td>74.00</td>\n",
       "      <td>93.00</td>\n",
       "      <td>34.00</td>\n",
       "      <td>80.0</td>\n",
       "      <td>71.00</td>\n",
       "      <td>72.00</td>\n",
       "      <td>109.00</td>\n",
       "      <td>40.00</td>\n",
       "      <td>103.00</td>\n",
       "      <td>63.11098</td>\n",
       "      <td>100.00</td>\n",
       "      <td>92.00</td>\n",
       "      <td>65.00</td>\n",
       "      <td>76.244283</td>\n",
       "      <td>75.00</td>\n",
       "      <td>60.0</td>\n",
       "      <td>80.00</td>\n",
       "      <td>75.385278</td>\n",
       "      <td>30.00</td>\n",
       "      <td>60.0</td>\n",
       "      <td>79.00</td>\n",
       "      <td>80.00</td>\n",
       "      <td>41.00</td>\n",
       "      <td>105.00</td>\n",
       "      <td>80.00</td>\n",
       "      <td>60.00</td>\n",
       "    </tr>\n",
       "    <tr>\n",
       "      <th>remodel_age</th>\n",
       "      <td>6.000000</td>\n",
       "      <td>14.00</td>\n",
       "      <td>4.00</td>\n",
       "      <td>4.0</td>\n",
       "      <td>18.00</td>\n",
       "      <td>9.00</td>\n",
       "      <td>5.00</td>\n",
       "      <td>52.000000</td>\n",
       "      <td>59.000000</td>\n",
       "      <td>42.00</td>\n",
       "      <td>40.00</td>\n",
       "      <td>6.00</td>\n",
       "      <td>4.00</td>\n",
       "      <td>11.0</td>\n",
       "      <td>4.00</td>\n",
       "      <td>6.00</td>\n",
       "      <td>61.00</td>\n",
       "      <td>48.0</td>\n",
       "      <td>34.00</td>\n",
       "      <td>2.00</td>\n",
       "      <td>43.00</td>\n",
       "      <td>11.00</td>\n",
       "      <td>5.00</td>\n",
       "      <td>4.00000</td>\n",
       "      <td>56.00</td>\n",
       "      <td>50.00</td>\n",
       "      <td>2.00</td>\n",
       "      <td>16.000000</td>\n",
       "      <td>5.00</td>\n",
       "      <td>5.0</td>\n",
       "      <td>30.00</td>\n",
       "      <td>61.000000</td>\n",
       "      <td>15.00</td>\n",
       "      <td>59.0</td>\n",
       "      <td>3.00</td>\n",
       "      <td>53.00</td>\n",
       "      <td>34.00</td>\n",
       "      <td>34.00</td>\n",
       "      <td>38.00</td>\n",
       "      <td>17.00</td>\n",
       "    </tr>\n",
       "    <tr>\n",
       "      <th>tot_bath</th>\n",
       "      <td>2.500000</td>\n",
       "      <td>3.50</td>\n",
       "      <td>2.00</td>\n",
       "      <td>2.5</td>\n",
       "      <td>2.00</td>\n",
       "      <td>2.50</td>\n",
       "      <td>3.00</td>\n",
       "      <td>2.000000</td>\n",
       "      <td>1.000000</td>\n",
       "      <td>2.50</td>\n",
       "      <td>1.50</td>\n",
       "      <td>2.00</td>\n",
       "      <td>1.00</td>\n",
       "      <td>3.5</td>\n",
       "      <td>2.00</td>\n",
       "      <td>2.00</td>\n",
       "      <td>1.00</td>\n",
       "      <td>2.0</td>\n",
       "      <td>1.50</td>\n",
       "      <td>2.50</td>\n",
       "      <td>1.00</td>\n",
       "      <td>3.00</td>\n",
       "      <td>2.50</td>\n",
       "      <td>3.00000</td>\n",
       "      <td>2.00</td>\n",
       "      <td>3.00</td>\n",
       "      <td>2.00</td>\n",
       "      <td>2.000000</td>\n",
       "      <td>2.00</td>\n",
       "      <td>1.0</td>\n",
       "      <td>3.50</td>\n",
       "      <td>1.000000</td>\n",
       "      <td>2.50</td>\n",
       "      <td>1.0</td>\n",
       "      <td>3.00</td>\n",
       "      <td>1.00</td>\n",
       "      <td>2.00</td>\n",
       "      <td>2.00</td>\n",
       "      <td>1.50</td>\n",
       "      <td>2.00</td>\n",
       "    </tr>\n",
       "    <tr>\n",
       "      <th>deckporcharea</th>\n",
       "      <td>44.000000</td>\n",
       "      <td>74.00</td>\n",
       "      <td>52.00</td>\n",
       "      <td>100.0</td>\n",
       "      <td>59.00</td>\n",
       "      <td>0.00</td>\n",
       "      <td>44.00</td>\n",
       "      <td>0.000000</td>\n",
       "      <td>324.000000</td>\n",
       "      <td>335.00</td>\n",
       "      <td>0.00</td>\n",
       "      <td>163.00</td>\n",
       "      <td>0.00</td>\n",
       "      <td>169.0</td>\n",
       "      <td>50.00</td>\n",
       "      <td>0.00</td>\n",
       "      <td>0.00</td>\n",
       "      <td>80.0</td>\n",
       "      <td>138.00</td>\n",
       "      <td>214.00</td>\n",
       "      <td>0.00</td>\n",
       "      <td>271.00</td>\n",
       "      <td>385.00</td>\n",
       "      <td>504.00000</td>\n",
       "      <td>264.00</td>\n",
       "      <td>49.00</td>\n",
       "      <td>560.00</td>\n",
       "      <td>40.000000</td>\n",
       "      <td>0.00</td>\n",
       "      <td>0.0</td>\n",
       "      <td>594.00</td>\n",
       "      <td>0.000000</td>\n",
       "      <td>30.00</td>\n",
       "      <td>48.0</td>\n",
       "      <td>252.00</td>\n",
       "      <td>28.00</td>\n",
       "      <td>130.00</td>\n",
       "      <td>122.00</td>\n",
       "      <td>0.00</td>\n",
       "      <td>256.00</td>\n",
       "    </tr>\n",
       "    <tr>\n",
       "      <th>nhood_3</th>\n",
       "      <td>0.000000</td>\n",
       "      <td>1.00</td>\n",
       "      <td>0.00</td>\n",
       "      <td>1.0</td>\n",
       "      <td>1.00</td>\n",
       "      <td>0.00</td>\n",
       "      <td>1.00</td>\n",
       "      <td>0.000000</td>\n",
       "      <td>0.000000</td>\n",
       "      <td>0.00</td>\n",
       "      <td>0.00</td>\n",
       "      <td>0.00</td>\n",
       "      <td>1.00</td>\n",
       "      <td>1.0</td>\n",
       "      <td>0.00</td>\n",
       "      <td>0.00</td>\n",
       "      <td>0.00</td>\n",
       "      <td>0.0</td>\n",
       "      <td>0.00</td>\n",
       "      <td>1.00</td>\n",
       "      <td>0.00</td>\n",
       "      <td>1.00</td>\n",
       "      <td>1.00</td>\n",
       "      <td>0.00000</td>\n",
       "      <td>0.00</td>\n",
       "      <td>0.00</td>\n",
       "      <td>0.00</td>\n",
       "      <td>0.000000</td>\n",
       "      <td>0.00</td>\n",
       "      <td>0.0</td>\n",
       "      <td>0.00</td>\n",
       "      <td>0.000000</td>\n",
       "      <td>1.00</td>\n",
       "      <td>0.0</td>\n",
       "      <td>0.00</td>\n",
       "      <td>0.00</td>\n",
       "      <td>0.00</td>\n",
       "      <td>0.00</td>\n",
       "      <td>0.00</td>\n",
       "      <td>0.00</td>\n",
       "    </tr>\n",
       "    <tr>\n",
       "      <th>lotarea_sf</th>\n",
       "      <td>13517.000000</td>\n",
       "      <td>11492.00</td>\n",
       "      <td>7922.00</td>\n",
       "      <td>9802.0</td>\n",
       "      <td>14235.00</td>\n",
       "      <td>16492.00</td>\n",
       "      <td>3675.00</td>\n",
       "      <td>12160.000000</td>\n",
       "      <td>15783.000000</td>\n",
       "      <td>11606.00</td>\n",
       "      <td>1680.00</td>\n",
       "      <td>7488.00</td>\n",
       "      <td>26400.00</td>\n",
       "      <td>2645.0</td>\n",
       "      <td>9627.00</td>\n",
       "      <td>10114.00</td>\n",
       "      <td>4571.00</td>\n",
       "      <td>8816.0</td>\n",
       "      <td>8197.00</td>\n",
       "      <td>8640.00</td>\n",
       "      <td>8724.00</td>\n",
       "      <td>5664.00</td>\n",
       "      <td>12867.00</td>\n",
       "      <td>7980.00000</td>\n",
       "      <td>34650.00</td>\n",
       "      <td>10573.00</td>\n",
       "      <td>8450.00</td>\n",
       "      <td>11700.000000</td>\n",
       "      <td>8250.00</td>\n",
       "      <td>8064.0</td>\n",
       "      <td>9600.00</td>\n",
       "      <td>11435.000000</td>\n",
       "      <td>9549.00</td>\n",
       "      <td>10950.0</td>\n",
       "      <td>10637.00</td>\n",
       "      <td>9000.00</td>\n",
       "      <td>2665.00</td>\n",
       "      <td>11751.00</td>\n",
       "      <td>9600.00</td>\n",
       "      <td>8428.00</td>\n",
       "    </tr>\n",
       "    <tr>\n",
       "      <th>grlivarea_sf</th>\n",
       "      <td>1479.000000</td>\n",
       "      <td>2122.00</td>\n",
       "      <td>1057.00</td>\n",
       "      <td>1444.0</td>\n",
       "      <td>1445.00</td>\n",
       "      <td>1888.00</td>\n",
       "      <td>1072.00</td>\n",
       "      <td>1188.000000</td>\n",
       "      <td>924.000000</td>\n",
       "      <td>2080.00</td>\n",
       "      <td>987.00</td>\n",
       "      <td>1208.00</td>\n",
       "      <td>2016.00</td>\n",
       "      <td>1607.0</td>\n",
       "      <td>1361.00</td>\n",
       "      <td>1430.00</td>\n",
       "      <td>1344.00</td>\n",
       "      <td>1121.0</td>\n",
       "      <td>1285.00</td>\n",
       "      <td>1547.00</td>\n",
       "      <td>894.00</td>\n",
       "      <td>1659.00</td>\n",
       "      <td>2253.00</td>\n",
       "      <td>1187.00000</td>\n",
       "      <td>1056.00</td>\n",
       "      <td>1453.00</td>\n",
       "      <td>894.00</td>\n",
       "      <td>1938.000000</td>\n",
       "      <td>1991.00</td>\n",
       "      <td>924.0</td>\n",
       "      <td>2524.00</td>\n",
       "      <td>1517.000000</td>\n",
       "      <td>1494.00</td>\n",
       "      <td>948.0</td>\n",
       "      <td>1718.00</td>\n",
       "      <td>1142.00</td>\n",
       "      <td>1475.00</td>\n",
       "      <td>1844.00</td>\n",
       "      <td>1242.00</td>\n",
       "      <td>990.00</td>\n",
       "    </tr>\n",
       "  </tbody>\n",
       "</table>\n",
       "</div>"
      ],
      "text/plain": [
       "                           0         1        2       3         4         5   \\\n",
       "overallqual          6.000000      7.00     5.00     5.0      6.00      6.00   \n",
       "overallcond          8.000000      5.00     7.00     5.0      8.00      6.00   \n",
       "totalbsmtsf        725.000000    913.00  1057.00   384.0    676.00   1517.00   \n",
       "kitchenqual          2.000000      2.00     2.00     1.0      1.00      2.00   \n",
       "paveddrive           1.000000      1.00     1.00     1.0      0.00      1.00   \n",
       "zone_FV              0.000000      0.00     0.00     0.0      0.00      0.00   \n",
       "zone_RL              1.000000      1.00     1.00     1.0      1.00      1.00   \n",
       "zone_RM              0.000000      0.00     0.00     0.0      0.00      0.00   \n",
       "lotshape_irr         1.000000      1.00     0.00     0.0      1.00      1.00   \n",
       "near_busy_st         0.000000      0.00     0.00     0.0      0.00      0.00   \n",
       "non_1fam             0.000000      0.00     0.00     0.0      0.00      0.00   \n",
       "2plus_fl             1.000000      1.00     0.00     1.0      0.00      0.00   \n",
       "hip_roof             0.000000      0.00     0.00     0.0      0.00      0.00   \n",
       "ext_ord              0.000000      2.00     2.00     2.0      0.00      1.00   \n",
       "has_veneer           1.000000      1.00     0.00     0.0      0.00      0.00   \n",
       "cncrt_found          0.000000      1.00     0.00     1.0      1.00      0.00   \n",
       "bsmt_ord             2.750000      3.00     2.75     2.0      1.75      2.50   \n",
       "heatingqc_dum        1.000000      1.00     0.00     0.0      0.00      1.00   \n",
       "cent_air_dum         1.000000      1.00     1.00     1.0      1.00      1.00   \n",
       "garage_ord           1.670000      1.67     0.67     2.0      1.00      1.67   \n",
       "fireplace_ord        0.000000      1.00     0.00     0.0      0.00      1.25   \n",
       "lotfrontage_imp     81.889336     43.00    68.00    73.0     82.00    137.00   \n",
       "remodel_age          6.000000     14.00     4.00     4.0     18.00      9.00   \n",
       "tot_bath             2.500000      3.50     2.00     2.5      2.00      2.50   \n",
       "deckporcharea       44.000000     74.00    52.00   100.0     59.00      0.00   \n",
       "nhood_3              0.000000      1.00     0.00     1.0      1.00      0.00   \n",
       "lotarea_sf       13517.000000  11492.00  7922.00  9802.0  14235.00  16492.00   \n",
       "grlivarea_sf      1479.000000   2122.00  1057.00  1444.0   1445.00   1888.00   \n",
       "\n",
       "                      6             7             8         9        10  \\\n",
       "overallqual         6.00      5.000000      5.000000      5.00     6.00   \n",
       "overallcond         5.00      5.000000      5.000000      5.00     5.00   \n",
       "totalbsmtsf       547.00   1188.000000    924.000000   1040.00   483.00   \n",
       "kitchenqual         1.00      1.000000      1.000000      0.00     1.00   \n",
       "paveddrive          1.00      1.000000      1.000000      1.00     1.00   \n",
       "zone_FV             0.00      0.000000      0.000000      0.00     0.00   \n",
       "zone_RL             0.00      1.000000      1.000000      1.00     0.00   \n",
       "zone_RM             1.00      0.000000      0.000000      0.00     1.00   \n",
       "lotshape_irr        0.00      1.000000      0.000000      1.00     0.00   \n",
       "near_busy_st        0.00      0.000000      1.000000      0.00     0.00   \n",
       "non_1fam            0.00      0.000000      0.000000      0.00     1.00   \n",
       "2plus_fl            0.00      0.000000      0.000000      1.00     1.00   \n",
       "hip_roof            0.00      1.000000      0.000000      0.00     0.00   \n",
       "ext_ord             2.00      0.000000      0.000000      0.00     0.00   \n",
       "has_veneer          1.00      1.000000      0.000000      1.00     1.00   \n",
       "cncrt_found         1.00      0.000000      0.000000      1.00     0.00   \n",
       "bsmt_ord            4.25      2.000000      2.000000      3.00     2.50   \n",
       "heatingqc_dum       0.00      0.000000      0.000000      0.00     0.00   \n",
       "cent_air_dum        1.00      1.000000      1.000000      1.00     1.00   \n",
       "garage_ord          1.33      1.670000      0.670000      1.33     0.67   \n",
       "fireplace_ord       0.00      0.000000      0.000000      1.25     0.00   \n",
       "lotfrontage_imp    35.00     77.712601     90.722298     70.00    21.00   \n",
       "remodel_age         5.00     52.000000     59.000000     42.00    40.00   \n",
       "tot_bath            3.00      2.000000      1.000000      2.50     1.50   \n",
       "deckporcharea      44.00      0.000000    324.000000    335.00     0.00   \n",
       "nhood_3             1.00      0.000000      0.000000      0.00     0.00   \n",
       "lotarea_sf       3675.00  12160.000000  15783.000000  11606.00  1680.00   \n",
       "grlivarea_sf     1072.00   1188.000000    924.000000   2080.00   987.00   \n",
       "\n",
       "                      11        12      13       14        15       16  \\\n",
       "overallqual         7.00      5.00     8.0     7.00      5.00     5.00   \n",
       "overallcond         5.00      7.00     5.0     5.00      5.00     5.00   \n",
       "totalbsmtsf      1208.00      0.00   960.0  1351.00   1430.00   624.00   \n",
       "kitchenqual         2.00      1.00     2.0     2.00      2.00     1.00   \n",
       "paveddrive          1.00      0.00     1.0     1.00      1.00     1.00   \n",
       "zone_FV             0.00      0.00     1.0     0.00      0.00     0.00   \n",
       "zone_RL             1.00      1.00     0.0     1.00      1.00     0.00   \n",
       "zone_RM             0.00      0.00     0.0     0.00      0.00     1.00   \n",
       "lotshape_irr        1.00      0.00     0.0     0.00      0.00     0.00   \n",
       "near_busy_st        0.00      1.00     0.0     0.00      0.00     0.00   \n",
       "non_1fam            0.00      0.00     1.0     0.00      0.00     0.00   \n",
       "2plus_fl            0.00      1.00     1.0     0.00      0.00     1.00   \n",
       "hip_roof            0.00      0.00     0.0     0.00      0.00     0.00   \n",
       "ext_ord             2.00      0.00     0.0     2.00      2.00     1.00   \n",
       "has_veneer          0.00      0.00     1.0     0.00      0.00     0.00   \n",
       "cncrt_found         1.00      1.00     1.0     1.00      1.00     0.00   \n",
       "bsmt_ord            3.75      0.00     3.0     3.75      3.00     1.75   \n",
       "heatingqc_dum       1.00      1.00     1.0     1.00      1.00     0.00   \n",
       "cent_air_dum        1.00      1.00     1.0     1.00      1.00     0.00   \n",
       "garage_ord          1.67      1.33     1.0     1.67      1.67     1.33   \n",
       "fireplace_ord       0.00      1.00     0.0     0.00      0.00     0.00   \n",
       "lotfrontage_imp    64.00    120.00    24.0    74.00     93.00    34.00   \n",
       "remodel_age         6.00      4.00    11.0     4.00      6.00    61.00   \n",
       "tot_bath            2.00      1.00     3.5     2.00      2.00     1.00   \n",
       "deckporcharea     163.00      0.00   169.0    50.00      0.00     0.00   \n",
       "nhood_3             0.00      1.00     1.0     0.00      0.00     0.00   \n",
       "lotarea_sf       7488.00  26400.00  2645.0  9627.00  10114.00  4571.00   \n",
       "grlivarea_sf     1208.00   2016.00  1607.0  1361.00   1430.00  1344.00   \n",
       "\n",
       "                     17       18       19       20       21        22  \\\n",
       "overallqual         5.0     6.00     7.00     5.00     8.00      8.00   \n",
       "overallcond         6.0     5.00     5.00     5.00     5.00      5.00   \n",
       "totalbsmtsf      1121.0   660.00   756.00   894.00  1501.00   1209.00   \n",
       "kitchenqual         1.0     1.00     2.00     1.00     3.00      3.00   \n",
       "paveddrive          1.0     1.00     1.00     1.00     1.00      1.00   \n",
       "zone_FV             0.0     0.00     1.00     0.00     0.00      0.00   \n",
       "zone_RL             1.0     1.00     0.00     1.00     1.00      1.00   \n",
       "zone_RM             0.0     0.00     0.00     0.00     0.00      0.00   \n",
       "lotshape_irr        0.0     0.00     0.00     0.00     1.00      1.00   \n",
       "near_busy_st        1.0     0.00     0.00     0.00     0.00      0.00   \n",
       "non_1fam            0.0     0.00     0.00     0.00     0.00      0.00   \n",
       "2plus_fl            0.0     0.00     1.00     0.00     0.00      1.00   \n",
       "hip_roof            0.0     0.00     0.00     0.00     0.00      0.00   \n",
       "ext_ord             2.0     0.00     2.00     2.00     2.00      2.00   \n",
       "has_veneer          0.0     1.00     0.00     0.00     0.00      0.00   \n",
       "cncrt_found         1.0     0.00     1.00     0.00     1.00      1.00   \n",
       "bsmt_ord            2.0     1.75     3.25     2.50     3.00      3.00   \n",
       "heatingqc_dum       0.0     1.00     1.00     0.00     1.00      1.00   \n",
       "cent_air_dum        1.0     1.00     1.00     1.00     1.00      1.00   \n",
       "garage_ord          1.0     1.67     1.33     1.67     1.67      1.67   \n",
       "fireplace_ord       0.0     1.00     0.00     0.50     1.75      1.25   \n",
       "lotfrontage_imp    80.0    71.00    72.00   109.00    40.00    103.00   \n",
       "remodel_age        48.0    34.00     2.00    43.00    11.00      5.00   \n",
       "tot_bath            2.0     1.50     2.50     1.00     3.00      2.50   \n",
       "deckporcharea      80.0   138.00   214.00     0.00   271.00    385.00   \n",
       "nhood_3             0.0     0.00     1.00     0.00     1.00      1.00   \n",
       "lotarea_sf       8816.0  8197.00  8640.00  8724.00  5664.00  12867.00   \n",
       "grlivarea_sf     1121.0  1285.00  1547.00   894.00  1659.00   2253.00   \n",
       "\n",
       "                         23        24        25       26            27  \\\n",
       "overallqual         6.00000      5.00      6.00     5.00      5.000000   \n",
       "overallcond         7.00000      5.00      6.00     8.00      6.000000   \n",
       "totalbsmtsf      1168.00000   1056.00   1453.00   894.00    942.000000   \n",
       "kitchenqual         1.00000      1.00      1.00     1.00      2.000000   \n",
       "paveddrive          1.00000      1.00      1.00     1.00      1.000000   \n",
       "zone_FV             0.00000      0.00      0.00     0.00      0.000000   \n",
       "zone_RL             1.00000      1.00      1.00     1.00      1.000000   \n",
       "zone_RM             0.00000      0.00      0.00     0.00      0.000000   \n",
       "lotshape_irr        1.00000      0.00      1.00     0.00      1.000000   \n",
       "near_busy_st        0.00000      0.00      0.00     0.00      0.000000   \n",
       "non_1fam            0.00000      1.00      0.00     0.00      0.000000   \n",
       "2plus_fl            0.00000      0.00      0.00     0.00      0.000000   \n",
       "hip_roof            0.00000      1.00      1.00     0.00      0.000000   \n",
       "ext_ord             0.00000      0.00      0.00     0.00      1.000000   \n",
       "has_veneer          0.00000      0.00      1.00     0.00      0.000000   \n",
       "cncrt_found         1.00000      0.00      0.00     0.00      0.000000   \n",
       "bsmt_ord            2.75000      2.25      2.00     2.75      2.250000   \n",
       "heatingqc_dum       1.00000      0.00      1.00     1.00      1.000000   \n",
       "cent_air_dum        1.00000      0.00      1.00     1.00      1.000000   \n",
       "garage_ord          1.67000      1.67      1.67     0.67      0.670000   \n",
       "fireplace_ord       0.00000      0.00      1.00     1.25      1.250000   \n",
       "lotfrontage_imp    63.11098    100.00     92.00    65.00     76.244283   \n",
       "remodel_age         4.00000     56.00     50.00     2.00     16.000000   \n",
       "tot_bath            3.00000      2.00      3.00     2.00      2.000000   \n",
       "deckporcharea     504.00000    264.00     49.00   560.00     40.000000   \n",
       "nhood_3             0.00000      0.00      0.00     0.00      0.000000   \n",
       "lotarea_sf       7980.00000  34650.00  10573.00  8450.00  11700.000000   \n",
       "grlivarea_sf     1187.00000   1056.00   1453.00   894.00   1938.000000   \n",
       "\n",
       "                      28      29       30            31       32       33  \\\n",
       "overallqual         5.00     5.0     8.00      8.000000     8.00      6.0   \n",
       "overallcond         6.00     7.0     5.00      7.000000     5.00      6.0   \n",
       "totalbsmtsf       957.00   672.0  2524.00    792.000000  1494.00    948.0   \n",
       "kitchenqual         1.00     1.0     2.00      2.000000     3.00      1.0   \n",
       "paveddrive          0.00     1.0     1.00      1.000000     1.00      0.0   \n",
       "zone_FV             0.00     0.0     0.00      0.000000     0.00      0.0   \n",
       "zone_RL             0.00     1.0     1.00      1.000000     1.00      1.0   \n",
       "zone_RM             0.00     0.0     0.00      0.000000     0.00      0.0   \n",
       "lotshape_irr        0.00     0.0     0.00      1.000000     1.00      0.0   \n",
       "near_busy_st        1.00     1.0     0.00      0.000000     0.00      0.0   \n",
       "non_1fam            1.00     0.0     0.00      0.000000     0.00      0.0   \n",
       "2plus_fl            1.00     0.0     0.00      1.000000     0.00      0.0   \n",
       "hip_roof            0.00     0.0     1.00      0.000000     1.00      1.0   \n",
       "ext_ord             2.00     0.0     1.00      1.000000     1.00      0.0   \n",
       "has_veneer          0.00     0.0     0.00      0.000000     0.00      0.0   \n",
       "cncrt_found         0.00     0.0     1.00      1.000000     1.00      0.0   \n",
       "bsmt_ord            1.75     2.0     2.75      2.000000     3.00      2.5   \n",
       "heatingqc_dum       0.00     1.0     0.00      0.000000     1.00      0.0   \n",
       "cent_air_dum        0.00     1.0     1.00      1.000000     1.00      1.0   \n",
       "garage_ord          0.00     1.0     1.67      1.000000     1.67      1.0   \n",
       "fireplace_ord       0.00     0.5     1.25      1.500000     1.25      0.0   \n",
       "lotfrontage_imp    75.00    60.0    80.00     75.385278    30.00     60.0   \n",
       "remodel_age         5.00     5.0    30.00     61.000000    15.00     59.0   \n",
       "tot_bath            2.00     1.0     3.50      1.000000     2.50      1.0   \n",
       "deckporcharea       0.00     0.0   594.00      0.000000    30.00     48.0   \n",
       "nhood_3             0.00     0.0     0.00      0.000000     1.00      0.0   \n",
       "lotarea_sf       8250.00  8064.0  9600.00  11435.000000  9549.00  10950.0   \n",
       "grlivarea_sf     1991.00   924.0  2524.00   1517.000000  1494.00    948.0   \n",
       "\n",
       "                       34       35       36        37       38       39  \n",
       "overallqual          8.00     6.00     5.00      6.00     7.00     5.00  \n",
       "overallcond          5.00     6.00     6.00      6.00     6.00     7.00  \n",
       "totalbsmtsf       1705.00   160.00   757.00   1844.00  1242.00   990.00  \n",
       "kitchenqual          2.00     1.00     1.00      1.00     1.00     1.00  \n",
       "paveddrive           1.00     1.00     1.00      1.00     1.00     1.00  \n",
       "zone_FV              0.00     0.00     0.00      0.00     0.00     0.00  \n",
       "zone_RL              1.00     1.00     0.00      1.00     1.00     1.00  \n",
       "zone_RM              0.00     0.00     1.00      0.00     0.00     0.00  \n",
       "lotshape_irr         0.00     1.00     0.00      1.00     0.00     1.00  \n",
       "near_busy_st         0.00     0.00     0.00      0.00     0.00     0.00  \n",
       "non_1fam             0.00     0.00     0.00      0.00     0.00     0.00  \n",
       "2plus_fl             0.00     0.00     1.00      0.00     0.00     0.00  \n",
       "hip_roof             1.00     0.00     0.00      1.00     1.00     0.00  \n",
       "ext_ord              2.00     0.00     2.00      0.00     0.00     2.00  \n",
       "has_veneer           1.00     1.00     0.00      1.00     1.00     0.00  \n",
       "cncrt_found          1.00     0.00     1.00      0.00     0.00     1.00  \n",
       "bsmt_ord             4.50     3.25     2.50      2.50     2.50     3.25  \n",
       "heatingqc_dum        1.00     0.00     1.00      1.00     0.00     1.00  \n",
       "cent_air_dum         1.00     1.00     1.00      1.00     1.00     1.00  \n",
       "garage_ord           2.00     1.00     1.33      1.67     1.33     0.67  \n",
       "fireplace_ord        1.25     1.25     1.00      1.00     1.00     0.00  \n",
       "lotfrontage_imp     79.00    80.00    41.00    105.00    80.00    60.00  \n",
       "remodel_age          3.00    53.00    34.00     34.00    38.00    17.00  \n",
       "tot_bath             3.00     1.00     2.00      2.00     1.50     2.00  \n",
       "deckporcharea      252.00    28.00   130.00    122.00     0.00   256.00  \n",
       "nhood_3              0.00     0.00     0.00      0.00     0.00     0.00  \n",
       "lotarea_sf       10637.00  9000.00  2665.00  11751.00  9600.00  8428.00  \n",
       "grlivarea_sf      1718.00  1142.00  1475.00   1844.00  1242.00   990.00  "
      ]
     },
     "metadata": {},
     "output_type": "display_data"
    }
   ],
   "source": [
    "display_all(X_sf)"
   ]
  },
  {
   "cell_type": "code",
   "execution_count": 108,
   "id": "19f080c1",
   "metadata": {
    "ExecuteTime": {
     "end_time": "2022-01-06T05:43:28.187250Z",
     "start_time": "2022-01-06T05:43:28.173683Z"
    }
   },
   "outputs": [
    {
     "data": {
      "text/plain": [
       "(2043, 28)"
      ]
     },
     "execution_count": 108,
     "metadata": {},
     "output_type": "execute_result"
    }
   ],
   "source": [
    "X_sf.shape"
   ]
  },
  {
   "cell_type": "code",
   "execution_count": 109,
   "id": "91a75df5",
   "metadata": {
    "ExecuteTime": {
     "end_time": "2022-01-06T05:43:28.203275Z",
     "start_time": "2022-01-06T05:43:28.189209Z"
    }
   },
   "outputs": [
    {
     "data": {
      "text/plain": [
       "0    11.779129\n",
       "1    12.301383\n",
       "2    11.599103\n",
       "3    12.066811\n",
       "4    11.838626\n",
       "Name: saleprice, dtype: float64"
      ]
     },
     "execution_count": 109,
     "metadata": {},
     "output_type": "execute_result"
    }
   ],
   "source": [
    "y_sf.head()"
   ]
  },
  {
   "cell_type": "code",
   "execution_count": 110,
   "id": "daf49350",
   "metadata": {
    "ExecuteTime": {
     "end_time": "2022-01-06T05:43:28.219052Z",
     "start_time": "2022-01-06T05:43:28.204161Z"
    }
   },
   "outputs": [],
   "source": [
    "# new train, test and split\n",
    "Xtrain_sf, Xtest_sf, ytrain_sf, ytest_sf = train_test_split(X_sf, y_sf, random_state=42)"
   ]
  },
  {
   "cell_type": "code",
   "execution_count": 111,
   "id": "70cb88a0",
   "metadata": {
    "ExecuteTime": {
     "end_time": "2022-01-06T05:43:28.249906Z",
     "start_time": "2022-01-06T05:43:28.220973Z"
    }
   },
   "outputs": [
    {
     "name": "stdout",
     "output_type": "stream",
     "text": [
      "r2 from train data 0.902\n",
      "r2 from test data 0.903\n",
      "rmse from test data 24408\n"
     ]
    }
   ],
   "source": [
    "# run Lin Reg\n",
    "project_model = LinearRegression().fit(Xtrain_sf, ytrain_sf)\n",
    "\n",
    "#predict values\n",
    "yhat_sf = project_model.predict(Xtest_sf)\n",
    "\n",
    "print('r2 from train data', round(project_model.score(Xtrain_sf, ytrain_sf), 3))\n",
    "print('r2 from test data', round(project_model.score(Xtest_sf, ytest_sf), 3))\n",
    "\n",
    "# next get rmse. to make it meaningful and interpretable, the dependent variable should \n",
    "# revert to its original form\n",
    "print('rmse from test data',round(mean_squared_error(np.exp(ytest_sf), np.exp(yhat_sf), squared=False)))"
   ]
  },
  {
   "cell_type": "code",
   "execution_count": 112,
   "id": "7221b24b",
   "metadata": {
    "ExecuteTime": {
     "end_time": "2022-01-06T05:43:28.313206Z",
     "start_time": "2022-01-06T05:43:28.251900Z"
    }
   },
   "outputs": [
    {
     "data": {
      "text/plain": [
       "0.8929943260393255"
      ]
     },
     "execution_count": 112,
     "metadata": {},
     "output_type": "execute_result"
    }
   ],
   "source": [
    "cross_val_score(project_model, Xtrain_sf, ytrain_sf).mean()"
   ]
  },
  {
   "cell_type": "markdown",
   "id": "e1aee588",
   "metadata": {},
   "source": [
    "#### the scores of this model are the best, both r2 and rmse which is surprising, since independent variables which ought to have been log transformed weren't. That was done to make the model more interpretable and we expected slightly worse, not better scores.\n",
    "#### however, upon submission to Kaggle, the model didn't  perform as well as some others. Overall we are happy with it, even if it's accuracy is slightly worse than our best model."
   ]
  },
  {
   "cell_type": "code",
   "execution_count": 113,
   "id": "0a7b5eed",
   "metadata": {
    "ExecuteTime": {
     "end_time": "2022-01-06T05:43:28.672553Z",
     "start_time": "2022-01-06T05:43:28.315198Z"
    }
   },
   "outputs": [
    {
     "data": {
      "image/png": "[encoded data removed]",
      "text/plain": [
       "<Figure size 360x360 with 1 Axes>"
      ]
     },
     "metadata": {},
     "output_type": "display_data"
    }
   ],
   "source": [
    "#check residual histogram\n",
    "resid_hgram(ytest_sf, yhat_sf) "
   ]
  },
  {
   "cell_type": "code",
   "execution_count": 114,
   "id": "aa502563",
   "metadata": {
    "ExecuteTime": {
     "end_time": "2022-01-06T05:43:28.734199Z",
     "start_time": "2022-01-06T05:43:28.673667Z"
    }
   },
   "outputs": [
    {
     "data": {
      "text/html": [
       "<table class=\"simpletable\">\n",
       "<caption>OLS Regression Results</caption>\n",
       "<tr>\n",
       "  <th>Dep. Variable:</th>        <td>saleprice</td>    <th>  R-squared:         </th> <td>   0.903</td>\n",
       "</tr>\n",
       "<tr>\n",
       "  <th>Model:</th>                   <td>OLS</td>       <th>  Adj. R-squared:    </th> <td>   0.901</td>\n",
       "</tr>\n",
       "<tr>\n",
       "  <th>Method:</th>             <td>Least Squares</td>  <th>  F-statistic:       </th> <td>   667.9</td>\n",
       "</tr>\n",
       "<tr>\n",
       "  <th>Date:</th>             <td>Thu, 06 Jan 2022</td> <th>  Prob (F-statistic):</th>  <td>  0.00</td> \n",
       "</tr>\n",
       "<tr>\n",
       "  <th>Time:</th>                 <td>13:43:28</td>     <th>  Log-Likelihood:    </th> <td>  1298.6</td>\n",
       "</tr>\n",
       "<tr>\n",
       "  <th>No. Observations:</th>      <td>  2043</td>      <th>  AIC:               </th> <td>  -2539.</td>\n",
       "</tr>\n",
       "<tr>\n",
       "  <th>Df Residuals:</th>          <td>  2014</td>      <th>  BIC:               </th> <td>  -2376.</td>\n",
       "</tr>\n",
       "<tr>\n",
       "  <th>Df Model:</th>              <td>    28</td>      <th>                     </th>     <td> </td>   \n",
       "</tr>\n",
       "<tr>\n",
       "  <th>Covariance Type:</th>      <td>nonrobust</td>    <th>                     </th>     <td> </td>   \n",
       "</tr>\n",
       "</table>\n",
       "<table class=\"simpletable\">\n",
       "<tr>\n",
       "         <td></td>            <th>coef</th>     <th>std err</th>      <th>t</th>      <th>P>|t|</th>  <th>[0.025</th>    <th>0.975]</th>  \n",
       "</tr>\n",
       "<tr>\n",
       "  <th>const</th>           <td>   10.1563</td> <td>    0.036</td> <td>  281.462</td> <td> 0.000</td> <td>   10.086</td> <td>   10.227</td>\n",
       "</tr>\n",
       "<tr>\n",
       "  <th>overallqual</th>     <td>    0.0706</td> <td>    0.004</td> <td>   18.550</td> <td> 0.000</td> <td>    0.063</td> <td>    0.078</td>\n",
       "</tr>\n",
       "<tr>\n",
       "  <th>overallcond</th>     <td>    0.0401</td> <td>    0.003</td> <td>   13.021</td> <td> 0.000</td> <td>    0.034</td> <td>    0.046</td>\n",
       "</tr>\n",
       "<tr>\n",
       "  <th>totalbsmtsf</th>     <td>    0.0001</td> <td> 1.12e-05</td> <td>    9.710</td> <td> 0.000</td> <td> 8.67e-05</td> <td>    0.000</td>\n",
       "</tr>\n",
       "<tr>\n",
       "  <th>kitchenqual</th>     <td>    0.0384</td> <td>    0.007</td> <td>    5.739</td> <td> 0.000</td> <td>    0.025</td> <td>    0.051</td>\n",
       "</tr>\n",
       "<tr>\n",
       "  <th>paveddrive</th>      <td>    0.0933</td> <td>    0.012</td> <td>    7.994</td> <td> 0.000</td> <td>    0.070</td> <td>    0.116</td>\n",
       "</tr>\n",
       "<tr>\n",
       "  <th>zone_FV</th>         <td>    0.1917</td> <td>    0.027</td> <td>    6.979</td> <td> 0.000</td> <td>    0.138</td> <td>    0.246</td>\n",
       "</tr>\n",
       "<tr>\n",
       "  <th>zone_RL</th>         <td>    0.1409</td> <td>    0.023</td> <td>    6.086</td> <td> 0.000</td> <td>    0.095</td> <td>    0.186</td>\n",
       "</tr>\n",
       "<tr>\n",
       "  <th>zone_RM</th>         <td>    0.0740</td> <td>    0.024</td> <td>    3.147</td> <td> 0.002</td> <td>    0.028</td> <td>    0.120</td>\n",
       "</tr>\n",
       "<tr>\n",
       "  <th>lotshape_irr</th>    <td>    0.0085</td> <td>    0.007</td> <td>    1.282</td> <td> 0.200</td> <td>   -0.004</td> <td>    0.021</td>\n",
       "</tr>\n",
       "<tr>\n",
       "  <th>near_busy_st</th>    <td>   -0.0390</td> <td>    0.011</td> <td>   -3.691</td> <td> 0.000</td> <td>   -0.060</td> <td>   -0.018</td>\n",
       "</tr>\n",
       "<tr>\n",
       "  <th>non_1fam</th>        <td>   -0.0265</td> <td>    0.011</td> <td>   -2.366</td> <td> 0.018</td> <td>   -0.048</td> <td>   -0.005</td>\n",
       "</tr>\n",
       "<tr>\n",
       "  <th>2plus_fl</th>        <td>   -0.0341</td> <td>    0.009</td> <td>   -3.608</td> <td> 0.000</td> <td>   -0.053</td> <td>   -0.016</td>\n",
       "</tr>\n",
       "<tr>\n",
       "  <th>hip_roof</th>        <td>    0.0216</td> <td>    0.008</td> <td>    2.762</td> <td> 0.006</td> <td>    0.006</td> <td>    0.037</td>\n",
       "</tr>\n",
       "<tr>\n",
       "  <th>ext_ord</th>         <td>    0.0048</td> <td>    0.004</td> <td>    1.227</td> <td> 0.220</td> <td>   -0.003</td> <td>    0.012</td>\n",
       "</tr>\n",
       "<tr>\n",
       "  <th>has_veneer</th>      <td>    0.0076</td> <td>    0.007</td> <td>    1.099</td> <td> 0.272</td> <td>   -0.006</td> <td>    0.021</td>\n",
       "</tr>\n",
       "<tr>\n",
       "  <th>cncrt_found</th>     <td>    0.0554</td> <td>    0.009</td> <td>    5.980</td> <td> 0.000</td> <td>    0.037</td> <td>    0.074</td>\n",
       "</tr>\n",
       "<tr>\n",
       "  <th>bsmt_ord</th>        <td>    0.0441</td> <td>    0.005</td> <td>    9.452</td> <td> 0.000</td> <td>    0.035</td> <td>    0.053</td>\n",
       "</tr>\n",
       "<tr>\n",
       "  <th>heatingqc_dum</th>   <td>    0.0156</td> <td>    0.008</td> <td>    2.076</td> <td> 0.038</td> <td>    0.001</td> <td>    0.030</td>\n",
       "</tr>\n",
       "<tr>\n",
       "  <th>cent_air_dum</th>    <td>    0.0691</td> <td>    0.013</td> <td>    5.208</td> <td> 0.000</td> <td>    0.043</td> <td>    0.095</td>\n",
       "</tr>\n",
       "<tr>\n",
       "  <th>garage_ord</th>      <td>    0.0613</td> <td>    0.009</td> <td>    6.946</td> <td> 0.000</td> <td>    0.044</td> <td>    0.079</td>\n",
       "</tr>\n",
       "<tr>\n",
       "  <th>fireplace_ord</th>   <td>    0.0342</td> <td>    0.006</td> <td>    5.717</td> <td> 0.000</td> <td>    0.022</td> <td>    0.046</td>\n",
       "</tr>\n",
       "<tr>\n",
       "  <th>lotfrontage_imp</th> <td>    0.0004</td> <td>    0.000</td> <td>    2.230</td> <td> 0.026</td> <td> 4.88e-05</td> <td>    0.001</td>\n",
       "</tr>\n",
       "<tr>\n",
       "  <th>remodel_age</th>     <td>   -0.0007</td> <td>    0.000</td> <td>   -3.363</td> <td> 0.001</td> <td>   -0.001</td> <td>   -0.000</td>\n",
       "</tr>\n",
       "<tr>\n",
       "  <th>tot_bath</th>        <td>    0.0372</td> <td>    0.006</td> <td>    6.355</td> <td> 0.000</td> <td>    0.026</td> <td>    0.049</td>\n",
       "</tr>\n",
       "<tr>\n",
       "  <th>deckporcharea</th>   <td> 1.606e-05</td> <td> 2.26e-05</td> <td>    0.712</td> <td> 0.477</td> <td>-2.82e-05</td> <td> 6.03e-05</td>\n",
       "</tr>\n",
       "<tr>\n",
       "  <th>nhood_3</th>         <td>    0.0117</td> <td>    0.008</td> <td>    1.548</td> <td> 0.122</td> <td>   -0.003</td> <td>    0.026</td>\n",
       "</tr>\n",
       "<tr>\n",
       "  <th>lotarea_sf</th>      <td> 5.667e-06</td> <td> 8.03e-07</td> <td>    7.057</td> <td> 0.000</td> <td> 4.09e-06</td> <td> 7.24e-06</td>\n",
       "</tr>\n",
       "<tr>\n",
       "  <th>grlivarea_sf</th>    <td>    0.0002</td> <td> 1.12e-05</td> <td>   21.636</td> <td> 0.000</td> <td>    0.000</td> <td>    0.000</td>\n",
       "</tr>\n",
       "</table>\n",
       "<table class=\"simpletable\">\n",
       "<tr>\n",
       "  <th>Omnibus:</th>       <td>1078.216</td> <th>  Durbin-Watson:     </th> <td>   1.963</td> \n",
       "</tr>\n",
       "<tr>\n",
       "  <th>Prob(Omnibus):</th>  <td> 0.000</td>  <th>  Jarque-Bera (JB):  </th> <td>31296.230</td>\n",
       "</tr>\n",
       "<tr>\n",
       "  <th>Skew:</th>           <td>-1.910</td>  <th>  Prob(JB):          </th> <td>    0.00</td> \n",
       "</tr>\n",
       "<tr>\n",
       "  <th>Kurtosis:</th>       <td>21.790</td>  <th>  Cond. No.          </th> <td>1.85e+05</td> \n",
       "</tr>\n",
       "</table><br/><br/>Notes:<br/>[1] Standard Errors assume that the covariance matrix of the errors is correctly specified.<br/>[2] The condition number is large, 1.85e+05. This might indicate that there are<br/>strong multicollinearity or other numerical problems."
      ],
      "text/plain": [
       "<class 'statsmodels.iolib.summary.Summary'>\n",
       "\"\"\"\n",
       "                            OLS Regression Results                            \n",
       "==============================================================================\n",
       "Dep. Variable:              saleprice   R-squared:                       0.903\n",
       "Model:                            OLS   Adj. R-squared:                  0.901\n",
       "Method:                 Least Squares   F-statistic:                     667.9\n",
       "Date:                Thu, 06 Jan 2022   Prob (F-statistic):               0.00\n",
       "Time:                        13:43:28   Log-Likelihood:                 1298.6\n",
       "No. Observations:                2043   AIC:                            -2539.\n",
       "Df Residuals:                    2014   BIC:                            -2376.\n",
       "Df Model:                          28                                         \n",
       "Covariance Type:            nonrobust                                         \n",
       "===================================================================================\n",
       "                      coef    std err          t      P>|t|      [0.025      0.975]\n",
       "-----------------------------------------------------------------------------------\n",
       "const              10.1563      0.036    281.462      0.000      10.086      10.227\n",
       "overallqual         0.0706      0.004     18.550      0.000       0.063       0.078\n",
       "overallcond         0.0401      0.003     13.021      0.000       0.034       0.046\n",
       "totalbsmtsf         0.0001   1.12e-05      9.710      0.000    8.67e-05       0.000\n",
       "kitchenqual         0.0384      0.007      5.739      0.000       0.025       0.051\n",
       "paveddrive          0.0933      0.012      7.994      0.000       0.070       0.116\n",
       "zone_FV             0.1917      0.027      6.979      0.000       0.138       0.246\n",
       "zone_RL             0.1409      0.023      6.086      0.000       0.095       0.186\n",
       "zone_RM             0.0740      0.024      3.147      0.002       0.028       0.120\n",
       "lotshape_irr        0.0085      0.007      1.282      0.200      -0.004       0.021\n",
       "near_busy_st       -0.0390      0.011     -3.691      0.000      -0.060      -0.018\n",
       "non_1fam           -0.0265      0.011     -2.366      0.018      -0.048      -0.005\n",
       "2plus_fl           -0.0341      0.009     -3.608      0.000      -0.053      -0.016\n",
       "hip_roof            0.0216      0.008      2.762      0.006       0.006       0.037\n",
       "ext_ord             0.0048      0.004      1.227      0.220      -0.003       0.012\n",
       "has_veneer          0.0076      0.007      1.099      0.272      -0.006       0.021\n",
       "cncrt_found         0.0554      0.009      5.980      0.000       0.037       0.074\n",
       "bsmt_ord            0.0441      0.005      9.452      0.000       0.035       0.053\n",
       "heatingqc_dum       0.0156      0.008      2.076      0.038       0.001       0.030\n",
       "cent_air_dum        0.0691      0.013      5.208      0.000       0.043       0.095\n",
       "garage_ord          0.0613      0.009      6.946      0.000       0.044       0.079\n",
       "fireplace_ord       0.0342      0.006      5.717      0.000       0.022       0.046\n",
       "lotfrontage_imp     0.0004      0.000      2.230      0.026    4.88e-05       0.001\n",
       "remodel_age        -0.0007      0.000     -3.363      0.001      -0.001      -0.000\n",
       "tot_bath            0.0372      0.006      6.355      0.000       0.026       0.049\n",
       "deckporcharea    1.606e-05   2.26e-05      0.712      0.477   -2.82e-05    6.03e-05\n",
       "nhood_3             0.0117      0.008      1.548      0.122      -0.003       0.026\n",
       "lotarea_sf       5.667e-06   8.03e-07      7.057      0.000    4.09e-06    7.24e-06\n",
       "grlivarea_sf        0.0002   1.12e-05     21.636      0.000       0.000       0.000\n",
       "==============================================================================\n",
       "Omnibus:                     1078.216   Durbin-Watson:                   1.963\n",
       "Prob(Omnibus):                  0.000   Jarque-Bera (JB):            31296.230\n",
       "Skew:                          -1.910   Prob(JB):                         0.00\n",
       "Kurtosis:                      21.790   Cond. No.                     1.85e+05\n",
       "==============================================================================\n",
       "\n",
       "Notes:\n",
       "[1] Standard Errors assume that the covariance matrix of the errors is correctly specified.\n",
       "[2] The condition number is large, 1.85e+05. This might indicate that there are\n",
       "strong multicollinearity or other numerical problems.\n",
       "\"\"\""
      ]
     },
     "execution_count": 114,
     "metadata": {},
     "output_type": "execute_result"
    }
   ],
   "source": [
    "X2_sf = sm.add_constant(X_sf)\n",
    "project_model_sm = sm.OLS(y_sf, X2_sf)\n",
    "res = project_model_sm.fit()\n",
    "res.summary()"
   ]
  },
  {
   "cell_type": "markdown",
   "id": "3a968231",
   "metadata": {},
   "source": [
    "#### Extra Kaggle submission. The project model should be more interpretable but  might be slightly less accurate than the previous models. Check if that's true by getting the Kaggle score."
   ]
  },
  {
   "cell_type": "code",
   "execution_count": 115,
   "id": "6ca8c512",
   "metadata": {
    "ExecuteTime": {
     "end_time": "2022-01-06T05:43:28.750255Z",
     "start_time": "2022-01-06T05:43:28.736117Z"
    }
   },
   "outputs": [],
   "source": [
    "ames2['lotarea_sf'] = np.exp(ames2['lotarea'])\n",
    "ames2['grlivarea_sf'] = np.exp(ames2['grlivarea'])\n",
    "ames2_sf = ames2.copy()\n",
    "ames2_sf.drop(['lotarea', 'grlivarea', 'nhood_1'], axis=1, inplace=True)\n",
    "ames2.drop(['lotarea_sf', 'grlivarea_sf'], axis=1, inplace=True)"
   ]
  },
  {
   "cell_type": "code",
   "execution_count": 116,
   "id": "52740a2c",
   "metadata": {
    "ExecuteTime": {
     "end_time": "2022-01-06T05:43:28.765724Z",
     "start_time": "2022-01-06T05:43:28.750754Z"
    }
   },
   "outputs": [],
   "source": [
    "\n",
    "lr_kgl2 = LinearRegression().fit(X_sf, y_sf)\n",
    "# get kaggle predictions. undo log-transformation of prices to get usable values\n",
    "ames_kgl4  = ames2_sf.drop('id', axis=1)\n",
    "yhat_kgl4 = np.exp(lr_kgl2.predict(ames_kgl4))"
   ]
  },
  {
   "cell_type": "code",
   "execution_count": 117,
   "id": "ca92eb4a",
   "metadata": {
    "ExecuteTime": {
     "end_time": "2022-01-06T05:43:28.781537Z",
     "start_time": "2022-01-06T05:43:28.766748Z"
    },
    "scrolled": true
   },
   "outputs": [
    {
     "data": {
      "text/html": [
       "<div>\n",
       "<style scoped>\n",
       "    .dataframe tbody tr th:only-of-type {\n",
       "        vertical-align: middle;\n",
       "    }\n",
       "\n",
       "    .dataframe tbody tr th {\n",
       "        vertical-align: top;\n",
       "    }\n",
       "\n",
       "    .dataframe thead th {\n",
       "        text-align: right;\n",
       "    }\n",
       "</style>\n",
       "<table border=\"1\" class=\"dataframe\">\n",
       "  <thead>\n",
       "    <tr style=\"text-align: right;\">\n",
       "      <th></th>\n",
       "      <th>SalePrice</th>\n",
       "    </tr>\n",
       "  </thead>\n",
       "  <tbody>\n",
       "    <tr>\n",
       "      <th>0</th>\n",
       "      <td>134315.177250</td>\n",
       "    </tr>\n",
       "    <tr>\n",
       "      <th>1</th>\n",
       "      <td>164277.950317</td>\n",
       "    </tr>\n",
       "    <tr>\n",
       "      <th>2</th>\n",
       "      <td>217517.829820</td>\n",
       "    </tr>\n",
       "    <tr>\n",
       "      <th>3</th>\n",
       "      <td>100275.718303</td>\n",
       "    </tr>\n",
       "    <tr>\n",
       "      <th>4</th>\n",
       "      <td>168059.472502</td>\n",
       "    </tr>\n",
       "  </tbody>\n",
       "</table>\n",
       "</div>"
      ],
      "text/plain": [
       "       SalePrice\n",
       "0  134315.177250\n",
       "1  164277.950317\n",
       "2  217517.829820\n",
       "3  100275.718303\n",
       "4  168059.472502"
      ]
     },
     "execution_count": 117,
     "metadata": {},
     "output_type": "execute_result"
    }
   ],
   "source": [
    "# convert to a dataframe again\n",
    "yhat_kgl4=pd.DataFrame(yhat_kgl4, columns=['SalePrice'])\n",
    "yhat_kgl4.head()"
   ]
  },
  {
   "cell_type": "code",
   "execution_count": 118,
   "id": "6b92d977",
   "metadata": {
    "ExecuteTime": {
     "end_time": "2022-01-06T05:43:28.797459Z",
     "start_time": "2022-01-06T05:43:28.782451Z"
    },
    "scrolled": true
   },
   "outputs": [
    {
     "data": {
      "text/html": [
       "<div>\n",
       "<style scoped>\n",
       "    .dataframe tbody tr th:only-of-type {\n",
       "        vertical-align: middle;\n",
       "    }\n",
       "\n",
       "    .dataframe tbody tr th {\n",
       "        vertical-align: top;\n",
       "    }\n",
       "\n",
       "    .dataframe thead th {\n",
       "        text-align: right;\n",
       "    }\n",
       "</style>\n",
       "<table border=\"1\" class=\"dataframe\">\n",
       "  <thead>\n",
       "    <tr style=\"text-align: right;\">\n",
       "      <th></th>\n",
       "      <th>SalePrice</th>\n",
       "    </tr>\n",
       "    <tr>\n",
       "      <th>id</th>\n",
       "      <th></th>\n",
       "    </tr>\n",
       "  </thead>\n",
       "  <tbody>\n",
       "    <tr>\n",
       "      <th>2</th>\n",
       "      <td>97228.488667</td>\n",
       "    </tr>\n",
       "    <tr>\n",
       "      <th>4</th>\n",
       "      <td>270192.888255</td>\n",
       "    </tr>\n",
       "    <tr>\n",
       "      <th>6</th>\n",
       "      <td>198136.870362</td>\n",
       "    </tr>\n",
       "    <tr>\n",
       "      <th>7</th>\n",
       "      <td>210627.281610</td>\n",
       "    </tr>\n",
       "    <tr>\n",
       "      <th>17</th>\n",
       "      <td>217459.057438</td>\n",
       "    </tr>\n",
       "  </tbody>\n",
       "</table>\n",
       "</div>"
      ],
      "text/plain": [
       "        SalePrice\n",
       "id               \n",
       "2    97228.488667\n",
       "4   270192.888255\n",
       "6   198136.870362\n",
       "7   210627.281610\n",
       "17  217459.057438"
      ]
     },
     "execution_count": 118,
     "metadata": {},
     "output_type": "execute_result"
    }
   ],
   "source": [
    "# concatinate predictions with the id column and re-order to the format required\n",
    "submit4 = pd.concat([id_column, yhat_kgl4], axis=1)\n",
    "submit4.set_index('id', drop=True, inplace=True)\n",
    "submit4.sort_values(by='id', inplace=True)\n",
    "submit4.head()"
   ]
  },
  {
   "cell_type": "code",
   "execution_count": 119,
   "id": "731a07d0",
   "metadata": {
    "ExecuteTime": {
     "end_time": "2022-01-06T05:43:28.812117Z",
     "start_time": "2022-01-06T05:43:28.799268Z"
    }
   },
   "outputs": [],
   "source": [
    "# check the score!\n",
    "submit4.to_csv('../datasets/kaggle4_project_model.csv')"
   ]
  },
  {
   "cell_type": "markdown",
   "id": "6cb36b2b",
   "metadata": {},
   "source": [
    "#### the score, as expected, wasn't as good as previous models. it was better than other models on test data, but worse on kaggle data, so overall it's about on par with them."
   ]
  },
  {
   "cell_type": "code",
   "execution_count": 120,
   "id": "7227e0f7",
   "metadata": {
    "ExecuteTime": {
     "end_time": "2022-01-06T05:43:28.828153Z",
     "start_time": "2022-01-06T05:43:28.813243Z"
    }
   },
   "outputs": [],
   "source": [
    "av_price=np.exp(ames.saleprice).mean()"
   ]
  },
  {
   "cell_type": "markdown",
   "id": "345e262f",
   "metadata": {},
   "source": [
    "### taking a log of the dependent variable, but not of indepenent variables, has mathematical implications, especially on the meaning of regression coefficients. In a nutshell, with model like this one, the coefficients denote the following: they represent how much will be the percentage increase in the dependent based on the 1 unit increase in the independent variable.\n",
    "- therefore, to get coefficients to be meaningful to business users, we will approximate their effect by multiplying them with the average house price. after doing that, we will see how much would a one unit increase in the independent variable increase the price of an average house.\n",
    "- we chose not to simplify our model even more by not taking the log transformation of the price, as the model accuracy dropped too much."
   ]
  },
  {
   "cell_type": "markdown",
   "id": "76fd5f4e",
   "metadata": {},
   "source": [
    "<a id = '8.1'><a/>\n",
    "### 8.1 Value-added per house feature\n",
    "* [Back to top](#Content)"
   ]
  },
  {
   "cell_type": "code",
   "execution_count": 121,
   "id": "fd2d6e6f",
   "metadata": {
    "ExecuteTime": {
     "end_time": "2022-01-06T05:43:28.844028Z",
     "start_time": "2022-01-06T05:43:28.829144Z"
    },
    "scrolled": true
   },
   "outputs": [],
   "source": [
    "# create a dataframe with model coefficient, and their impact on the average house value,\n",
    "# according to the data from our model\n",
    "Coef_project_model = zip(X_sf.columns, np.around(av_price*lr_kgl2.coef_,2))\n",
    "lst = list(Coef_project_model)\n",
    "pm = pd.DataFrame(lst, columns = ['feature', 'value_added'])"
   ]
  },
  {
   "cell_type": "code",
   "execution_count": 122,
   "id": "0a5f2361",
   "metadata": {
    "ExecuteTime": {
     "end_time": "2022-01-06T05:43:28.859546Z",
     "start_time": "2022-01-06T05:43:28.845030Z"
    }
   },
   "outputs": [
    {
     "data": {
      "text/html": [
       "<div>\n",
       "<style scoped>\n",
       "    .dataframe tbody tr th:only-of-type {\n",
       "        vertical-align: middle;\n",
       "    }\n",
       "\n",
       "    .dataframe tbody tr th {\n",
       "        vertical-align: top;\n",
       "    }\n",
       "\n",
       "    .dataframe thead th {\n",
       "        text-align: right;\n",
       "    }\n",
       "</style>\n",
       "<table border=\"1\" class=\"dataframe\">\n",
       "  <thead>\n",
       "    <tr style=\"text-align: right;\">\n",
       "      <th></th>\n",
       "      <th>feature</th>\n",
       "      <th>value_added</th>\n",
       "    </tr>\n",
       "  </thead>\n",
       "  <tbody>\n",
       "    <tr>\n",
       "      <th>0</th>\n",
       "      <td>overallqual</td>\n",
       "      <td>12797.99</td>\n",
       "    </tr>\n",
       "    <tr>\n",
       "      <th>1</th>\n",
       "      <td>overallcond</td>\n",
       "      <td>7273.88</td>\n",
       "    </tr>\n",
       "    <tr>\n",
       "      <th>2</th>\n",
       "      <td>totalbsmtsf</td>\n",
       "      <td>19.71</td>\n",
       "    </tr>\n",
       "    <tr>\n",
       "      <th>3</th>\n",
       "      <td>kitchenqual</td>\n",
       "      <td>6956.46</td>\n",
       "    </tr>\n",
       "    <tr>\n",
       "      <th>4</th>\n",
       "      <td>paveddrive</td>\n",
       "      <td>16922.95</td>\n",
       "    </tr>\n",
       "    <tr>\n",
       "      <th>5</th>\n",
       "      <td>zone_FV</td>\n",
       "      <td>34759.89</td>\n",
       "    </tr>\n",
       "    <tr>\n",
       "      <th>6</th>\n",
       "      <td>zone_RL</td>\n",
       "      <td>25548.49</td>\n",
       "    </tr>\n",
       "    <tr>\n",
       "      <th>7</th>\n",
       "      <td>zone_RM</td>\n",
       "      <td>13423.28</td>\n",
       "    </tr>\n",
       "    <tr>\n",
       "      <th>8</th>\n",
       "      <td>lotshape_irr</td>\n",
       "      <td>1536.75</td>\n",
       "    </tr>\n",
       "    <tr>\n",
       "      <th>9</th>\n",
       "      <td>near_busy_st</td>\n",
       "      <td>-7078.06</td>\n",
       "    </tr>\n",
       "    <tr>\n",
       "      <th>10</th>\n",
       "      <td>non_1fam</td>\n",
       "      <td>-4800.63</td>\n",
       "    </tr>\n",
       "    <tr>\n",
       "      <th>11</th>\n",
       "      <td>2plus_fl</td>\n",
       "      <td>-6176.23</td>\n",
       "    </tr>\n",
       "    <tr>\n",
       "      <th>12</th>\n",
       "      <td>hip_roof</td>\n",
       "      <td>3917.31</td>\n",
       "    </tr>\n",
       "    <tr>\n",
       "      <th>13</th>\n",
       "      <td>ext_ord</td>\n",
       "      <td>871.48</td>\n",
       "    </tr>\n",
       "    <tr>\n",
       "      <th>14</th>\n",
       "      <td>has_veneer</td>\n",
       "      <td>1370.49</td>\n",
       "    </tr>\n",
       "    <tr>\n",
       "      <th>15</th>\n",
       "      <td>cncrt_found</td>\n",
       "      <td>10040.84</td>\n",
       "    </tr>\n",
       "    <tr>\n",
       "      <th>16</th>\n",
       "      <td>bsmt_ord</td>\n",
       "      <td>8002.79</td>\n",
       "    </tr>\n",
       "    <tr>\n",
       "      <th>17</th>\n",
       "      <td>heatingqc_dum</td>\n",
       "      <td>2824.97</td>\n",
       "    </tr>\n",
       "    <tr>\n",
       "      <th>18</th>\n",
       "      <td>cent_air_dum</td>\n",
       "      <td>12536.56</td>\n",
       "    </tr>\n",
       "    <tr>\n",
       "      <th>19</th>\n",
       "      <td>garage_ord</td>\n",
       "      <td>11112.00</td>\n",
       "    </tr>\n",
       "    <tr>\n",
       "      <th>20</th>\n",
       "      <td>fireplace_ord</td>\n",
       "      <td>6209.07</td>\n",
       "    </tr>\n",
       "    <tr>\n",
       "      <th>21</th>\n",
       "      <td>lotfrontage_imp</td>\n",
       "      <td>73.40</td>\n",
       "    </tr>\n",
       "    <tr>\n",
       "      <th>22</th>\n",
       "      <td>remodel_age</td>\n",
       "      <td>-132.60</td>\n",
       "    </tr>\n",
       "    <tr>\n",
       "      <th>23</th>\n",
       "      <td>tot_bath</td>\n",
       "      <td>6747.14</td>\n",
       "    </tr>\n",
       "    <tr>\n",
       "      <th>24</th>\n",
       "      <td>deckporcharea</td>\n",
       "      <td>2.91</td>\n",
       "    </tr>\n",
       "    <tr>\n",
       "      <th>25</th>\n",
       "      <td>nhood_3</td>\n",
       "      <td>2117.96</td>\n",
       "    </tr>\n",
       "    <tr>\n",
       "      <th>26</th>\n",
       "      <td>lotarea_sf</td>\n",
       "      <td>1.03</td>\n",
       "    </tr>\n",
       "    <tr>\n",
       "      <th>27</th>\n",
       "      <td>grlivarea_sf</td>\n",
       "      <td>43.93</td>\n",
       "    </tr>\n",
       "  </tbody>\n",
       "</table>\n",
       "</div>"
      ],
      "text/plain": [
       "            feature  value_added\n",
       "0       overallqual     12797.99\n",
       "1       overallcond      7273.88\n",
       "2       totalbsmtsf        19.71\n",
       "3       kitchenqual      6956.46\n",
       "4        paveddrive     16922.95\n",
       "5           zone_FV     34759.89\n",
       "6           zone_RL     25548.49\n",
       "7           zone_RM     13423.28\n",
       "8      lotshape_irr      1536.75\n",
       "9      near_busy_st     -7078.06\n",
       "10         non_1fam     -4800.63\n",
       "11         2plus_fl     -6176.23\n",
       "12         hip_roof      3917.31\n",
       "13          ext_ord       871.48\n",
       "14       has_veneer      1370.49\n",
       "15      cncrt_found     10040.84\n",
       "16         bsmt_ord      8002.79\n",
       "17    heatingqc_dum      2824.97\n",
       "18     cent_air_dum     12536.56\n",
       "19       garage_ord     11112.00\n",
       "20    fireplace_ord      6209.07\n",
       "21  lotfrontage_imp        73.40\n",
       "22      remodel_age      -132.60\n",
       "23         tot_bath      6747.14\n",
       "24    deckporcharea         2.91\n",
       "25          nhood_3      2117.96\n",
       "26       lotarea_sf         1.03\n",
       "27     grlivarea_sf        43.93"
      ]
     },
     "execution_count": 122,
     "metadata": {},
     "output_type": "execute_result"
    }
   ],
   "source": [
    "pm"
   ]
  },
  {
   "cell_type": "code",
   "execution_count": 123,
   "id": "96e6922b",
   "metadata": {
    "ExecuteTime": {
     "end_time": "2022-01-06T05:43:28.875445Z",
     "start_time": "2022-01-06T05:43:28.861480Z"
    }
   },
   "outputs": [],
   "source": [
    "# barplot showing dollar contribution to an average house per feature would be hard to read - it\n",
    "# has too many features with vastly different dollar contribution amounts\n",
    "# create 3 groups (and 3 charts) based on similar contribution size and category\n",
    "quality_features = ['tot_bath', 'overallqual', 'overallcond', 'kitchenqual', 'ext_ord',\n",
    "           'bsmt_ord', 'garage_ord', 'fireplace_ord', 'nhood_3']\n",
    "size_features = ['totalbsmtsf', 'lotfrontage_imp', 'remodel_age', 'deckporcharea',\n",
    "           'lotarea_sf', 'grlivarea_sf']\n",
    "dummy_features = list(set(pm.feature.unique()) - set(quality_features) - set(size_features))"
   ]
  },
  {
   "cell_type": "code",
   "execution_count": 126,
   "id": "f4abeaa4",
   "metadata": {
    "ExecuteTime": {
     "end_time": "2022-01-06T05:47:05.693676Z",
     "start_time": "2022-01-06T05:47:05.154762Z"
    },
    "scrolled": false
   },
   "outputs": [
    {
     "data": {
      "image/png": "[encoded data removed]",
      "text/plain": [
       "<Figure size 576x360 with 1 Axes>"
      ]
     },
     "metadata": {},
     "output_type": "display_data"
    },
    {
     "data": {
      "image/png": "[encoded data removed]",
      "text/plain": [
       "<Figure size 576x360 with 1 Axes>"
      ]
     },
     "metadata": {},
     "output_type": "display_data"
    },
    {
     "data": {
      "image/png": "[encoded data removed]",
      "text/plain": [
       "<Figure size 576x360 with 1 Axes>"
      ]
     },
     "metadata": {},
     "output_type": "display_data"
    }
   ],
   "source": [
    "partial_hbar(quality_features, 'Quality features')\n",
    "partial_hbar(size_features, 'Size features')\n",
    "partial_hbar(dummy_features, 'Dummy features')"
   ]
  },
  {
   "cell_type": "markdown",
   "id": "e578f305",
   "metadata": {},
   "source": [
    "<a id = '9.0'><a/>\n",
    "### 9.0 Outcomes and recommendations\n",
    "* [Back to top](#Content)"
   ]
  },
  {
   "cell_type": "markdown",
   "id": "971c2d0d",
   "metadata": {},
   "source": [
    "**Outcomes**\n",
    "\n",
    "- The first goal of this project is to create a pricing model for homes in Ames, IA that has a combination of accuracy and interpretibility. As far as the accuracy is concerned, we entered a few of our models into a Kaggle competition to see how they stack up versus the competition. Our top model, a 20-feature one with Ridge Regularization scored in the top 15 out of a myriad of submission, with a test rmse error of only 20,090 dollars.\n",
    "\n",
    "- another successful outcome was that all of our models performed well, with an r2 of around 0.9, which shows that the good kaggle score was not due to the luck of stumbling into a right model with the right data, but rather, it was due to careful data selection and transformation\n",
    "\n",
    "- as far as the model that will be presented to the stakeholders, we chose a somewhat simpler model with comparable rmse (better on test, worse on kaggle data) and with fewer transformation but with much more interpretibility and intuitive sense, which can easily produce results that can be used in day-to-day operations\n",
    "\n",
    "**Recommendations:**\n",
    "\n",
    "- the last model in this notebook with 28 features and charts of how each of these features affect the house price has the best of both worlds and can be used as the go-to model. With r2 of close to 0.9, rmse of 25k and easily made sense of due to few transformations, it is dependable, simple, easy to modify and ready for everyday use\n",
    "\n",
    "- another reason why we chose this model despite the fact it doesn't have the lowest kaggle rmse  is that a pure data model of housing prices, devoid of human judgement, will never be perfect. No model on the Kaggle leaderboard was able to predict house prices to an average error of less than 15k dollars. This implies that no matter how complex and cutting-edge the model is, assessing the price will always be somewhat of an art. And since that is the case and a human input will be needed at some stage anyway, we were willing to sacrifice (potentially) a bit of accuracy for the sake of interpretibility.\n",
    "\n",
    "- still, when the Fund finally starts to invest, the recommendation would be to switch models and use our most accurate one, as maximum accuracy is needed when deciding which house to invest in or which ones are underpriced. \n",
    "\n",
    "- once the funds are deployed and the homes are bought, it'll be time to look at which house features can be improved/upgraded to enhance the property's value:\n",
    "\n",
    "a) while nothing can be done about the zoning, improvements in foundation of the house and central air can increase property value substantially (10k and 12k respectively)\n",
    "\n",
    "b) it makes sense to build-out the house and cover up as much as the lot as possible. While it might not be aesthetically pleasing to some, the market values living area much more than lotarea (even after adjusting that lotarea is many times bigger than the living area - 44 vs 1 dollar per sf2)\n",
    "\n",
    "c) investing into overall condition of the house and the garage can pay high dividents. An imporvement of 1 point on the condition scale can be worth more than 10000 dollars. Ofcourse, the cost must be assessed as well, but with such a high premium for improvement, doing it should be well worth it. "
   ]
  }
 ],
 "metadata": {
  "kernelspec": {
   "display_name": "Python 3",
   "language": "python",
   "name": "python3"
  },
  "language_info": {
   "codemirror_mode": {
    "name": "ipython",
    "version": 3
   },
   "file_extension": ".py",
   "mimetype": "text/x-python",
   "name": "python",
   "nbconvert_exporter": "python",
   "pygments_lexer": "ipython3",
   "version": "3.8.8"
  },
  "varInspector": {
   "cols": {
    "lenName": 16,
    "lenType": 16,
    "lenVar": 40
   },
   "kernels_config": {
    "python": {
     "delete_cmd_postfix": "",
     "delete_cmd_prefix": "del ",
     "library": "var_list.py",
     "varRefreshCmd": "print(var_dic_list())"
    },
    "r": {
     "delete_cmd_postfix": ") ",
     "delete_cmd_prefix": "rm(",
     "library": "var_list.r",
     "varRefreshCmd": "cat(var_dic_list()) "
    }
   },
   "types_to_exclude": [
    "module",
    "function",
    "builtin_function_or_method",
    "instance",
    "_Feature"
   ],
   "window_display": false
  }
 },
 "nbformat": 4,
 "nbformat_minor": 5
}
