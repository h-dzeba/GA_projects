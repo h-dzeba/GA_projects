{
 "cells": [
  {
   "cell_type": "markdown",
   "id": "135ee7f2",
   "metadata": {},
   "source": [
    "## Imports, functions, scraping"
   ]
  },
  {
   "cell_type": "code",
   "execution_count": 1,
   "id": "5bc99285",
   "metadata": {
    "ExecuteTime": {
     "end_time": "2022-01-19T14:45:30.259542Z",
     "start_time": "2022-01-19T14:45:20.471374Z"
    }
   },
   "outputs": [],
   "source": [
    "import requests\n",
    "import pandas as pd\n",
    "import numpy as np\n",
    "import matplotlib.pyplot as plt\n",
    "import seaborn as sns\n",
    "import regex as re\n",
    "from sklearn.feature_extraction.text import CountVectorizer\n",
    "from nltk.stem import WordNetLemmatizer\n",
    "from nltk.tokenize import word_tokenize\n",
    "from nltk.corpus import wordnet\n",
    "from nltk.tag import pos_tag\n",
    "from sklearn.feature_extraction import text \n",
    "\n",
    "plt.style.use('fivethirtyeight')\n",
    "sns.set(style='white')"
   ]
  },
  {
   "cell_type": "code",
   "execution_count": 2,
   "id": "337c5d02",
   "metadata": {
    "ExecuteTime": {
     "end_time": "2022-01-19T14:45:30.284970Z",
     "start_time": "2022-01-19T14:45:30.259542Z"
    }
   },
   "outputs": [],
   "source": [
    "# makes displaying large dateframes manageable\n",
    "def display_all(df):\n",
    "    '''temporarily increase display max and transposes the dateframe view\n",
    "    for enhanced readability\n",
    "    '''\n",
    "    with pd.option_context(\"display.max_rows\", 100, \"display.max_columns\", 100):\n",
    "        display(df.head().transpose())"
   ]
  },
  {
   "cell_type": "code",
   "execution_count": 3,
   "id": "7540a85a",
   "metadata": {
    "ExecuteTime": {
     "end_time": "2022-01-19T14:45:30.306998Z",
     "start_time": "2022-01-19T14:45:30.285735Z"
    }
   },
   "outputs": [],
   "source": [
    "def get_wordnet_pos(word):\n",
    "    \"\"\"\n",
    "    change POS tag to a tag which lemmatizer accepts\n",
    "    \"\"\"\n",
    "    # pos_tag results is a list of tuples. [0][1][0] takes first upper-caseletter of the second element of the\n",
    "    # first tuple\n",
    "    tag = pos_tag(word_tokenize(word))[0][1][0].upper()\n",
    "    tag_dict = {'J': wordnet.ADJ,\n",
    "                'N': wordnet.NOUN,\n",
    "                'V': wordnet.VERB,\n",
    "                'R': wordnet.ADV}\n",
    "\n",
    "    # return the dictionary value, noun if none\n",
    "    return tag_dict.get(tag, wordnet.NOUN)"
   ]
  },
  {
   "cell_type": "code",
   "execution_count": 4,
   "id": "8a303fff",
   "metadata": {
    "ExecuteTime": {
     "end_time": "2022-01-19T14:45:30.317024Z",
     "start_time": "2022-01-19T14:45:30.306998Z"
    }
   },
   "outputs": [],
   "source": [
    "def cleanup(text):\n",
    "    \"\"\" removes web links, words with digits, uses POS tags to lemmatize all parts of speech, makes everything lower-case,\n",
    "\n",
    "    and removes punctuation\"\"\"\n",
    "\n",
    "    # remove http:// url's\n",
    "    text = re.sub(\n",
    "        r'\\w+:\\/{2}[\\d\\w-]+(\\.[\\d\\w-]+)*(?:(?:\\/[^\\s/]*))*', '', text)\n",
    "\n",
    "    # remove words containing digits\n",
    "    text = re.sub(r'\\w*\\d\\w*', '', text).strip()\n",
    "\n",
    "    # lemmatize all part of speech, make them lower-case, remove punctuation\n",
    "    text = ' '.join([lemmatizer.lemmatize(word, get_wordnet_pos(word)).lower() for word in word_tokenize(text) if\n",
    "                    word.isalnum()])\n",
    "\n",
    "    return text"
   ]
  },
  {
   "cell_type": "code",
   "execution_count": 5,
   "id": "2053ea59",
   "metadata": {
    "ExecuteTime": {
     "end_time": "2022-01-19T14:45:30.332225Z",
     "start_time": "2022-01-19T14:45:30.318378Z"
    }
   },
   "outputs": [],
   "source": [
    "def overlap(df1, df2, top_x=100):\n",
    "    \"\"\" finds the overlap among top_x number columns of two dataframes.\n",
    "    top_x is the number of columns, ranked by sum, highest to lowest\n",
    "    \"\"\"\n",
    "    # sort columns according to their sum. take only the top_x columns with the highest sum\n",
    "    # index returns the column names ( aka tokenized words in nlp). turn into set to find intersection easily.\n",
    "    top1 = set(df1.sum().sort_values(ascending=False)[:top_x].index)\n",
    "    top2 = set(df2.sum().sort_values(ascending=False)[:top_x].index)\n",
    "    \n",
    "    return (top1 & top2, round(len(top1 & top2)/top_x,2)) # return the set of common words, and portion \n",
    "    # of common words among top_x"
   ]
  },
  {
   "cell_type": "code",
   "execution_count": 6,
   "id": "39fe04c2",
   "metadata": {
    "ExecuteTime": {
     "end_time": "2022-01-19T14:45:30.348218Z",
     "start_time": "2022-01-19T14:45:30.332225Z"
    }
   },
   "outputs": [],
   "source": [
    "def plt_bar(srs, name):\n",
    "    \"\"\" simple function that prints barplot of a pandas series \n",
    "    with words and their counts in the corpus\"\"\"\n",
    "    fig, ax = plt.subplots(figsize=(15,6))\n",
    "    sns.barplot(x=srs.index,y=srs.values)\n",
    "    ax.set_title(f'{name} (without stopwords)',\n",
    "                 fontsize=21, color='darkorchid')\n",
    "    ax.set_ylabel(srs.name, fontsize=18)\n",
    "    ax.set_xlabel('Words \\n*no stopwords',fontsize=18,\n",
    "                  color='darkgoldenrod')"
   ]
  },
  {
   "cell_type": "code",
   "execution_count": 7,
   "id": "2401de29",
   "metadata": {
    "ExecuteTime": {
     "end_time": "2022-01-19T14:45:30.365340Z",
     "start_time": "2022-01-19T14:45:30.349072Z"
    }
   },
   "outputs": [],
   "source": [
    "def update_stopwords(lst):\n",
    "    \"\"\"add extra stopwords to the sklearn's stopword list\"\"\"\n",
    "\n",
    "    stopwords = text.ENGLISH_STOP_WORDS  # reset the stopwards,\n",
    "    # so that we don't add duplicates\n",
    "    stopwords = text.ENGLISH_STOP_WORDS.union(lst)  # merge the sklearn's\n",
    "    # stopword list with the updated list of my stopwords\n",
    "\n",
    "    # update the vectorizer\n",
    "    cvec = CountVectorizer(stop_words=stopwords)\n",
    "    return(stopwords)"
   ]
  },
  {
   "cell_type": "code",
   "execution_count": 8,
   "id": "530cd21d",
   "metadata": {
    "ExecuteTime": {
     "end_time": "2022-01-19T14:45:30.378965Z",
     "start_time": "2022-01-19T14:45:30.365841Z"
    }
   },
   "outputs": [],
   "source": [
    "def get_stopwords():\n",
    "    return stopwords"
   ]
  },
  {
   "cell_type": "code",
   "execution_count": 9,
   "id": "be52b98b",
   "metadata": {
    "ExecuteTime": {
     "end_time": "2022-01-19T14:45:30.398706Z",
     "start_time": "2022-01-19T14:45:30.384178Z"
    }
   },
   "outputs": [],
   "source": [
    "lemmatizer = WordNetLemmatizer()"
   ]
  },
  {
   "cell_type": "code",
   "execution_count": 10,
   "id": "c21973af",
   "metadata": {
    "ExecuteTime": {
     "end_time": "2022-01-19T14:45:30.455045Z",
     "start_time": "2022-01-19T14:45:30.401312Z"
    }
   },
   "outputs": [],
   "source": [
    "# ensure we always work with the same, big file with 6000 subreddit posts, which, for the duration\n",
    "# of the project, won't change even if we re-run the scraping cell \n",
    "reddit2 = pd.read_csv('../datasets/ancients_for_NLP.csv')"
   ]
  },
  {
   "cell_type": "markdown",
   "id": "1dd6ef32",
   "metadata": {},
   "source": [
    "## EDA"
   ]
  },
  {
   "cell_type": "code",
   "execution_count": 11,
   "id": "aaa3d613",
   "metadata": {
    "ExecuteTime": {
     "end_time": "2022-01-19T14:45:30.478851Z",
     "start_time": "2022-01-19T14:45:30.455045Z"
    }
   },
   "outputs": [
    {
     "data": {
      "text/html": [
       "<div>\n",
       "<style scoped>\n",
       "    .dataframe tbody tr th:only-of-type {\n",
       "        vertical-align: middle;\n",
       "    }\n",
       "\n",
       "    .dataframe tbody tr th {\n",
       "        vertical-align: top;\n",
       "    }\n",
       "\n",
       "    .dataframe thead th {\n",
       "        text-align: right;\n",
       "    }\n",
       "</style>\n",
       "<table border=\"1\" class=\"dataframe\">\n",
       "  <thead>\n",
       "    <tr style=\"text-align: right;\">\n",
       "      <th></th>\n",
       "      <th>created_utc</th>\n",
       "      <th>title</th>\n",
       "      <th>selftext</th>\n",
       "      <th>subreddit</th>\n",
       "    </tr>\n",
       "  </thead>\n",
       "  <tbody>\n",
       "    <tr>\n",
       "      <th>0</th>\n",
       "      <td>1641904278</td>\n",
       "      <td>Minoan girl chilling</td>\n",
       "      <td>NaN</td>\n",
       "      <td>ancientgreece</td>\n",
       "    </tr>\n",
       "    <tr>\n",
       "      <th>1</th>\n",
       "      <td>1641859463</td>\n",
       "      <td>Book Reccs for World Civ I</td>\n",
       "      <td>I’m looking for a book to review in my World C...</td>\n",
       "      <td>ancientgreece</td>\n",
       "    </tr>\n",
       "    <tr>\n",
       "      <th>2</th>\n",
       "      <td>1641837949</td>\n",
       "      <td>I've started a supplementary twitch stream of ...</td>\n",
       "      <td>Hi all, I'm a high school teacher and I've bee...</td>\n",
       "      <td>ancientgreece</td>\n",
       "    </tr>\n",
       "    <tr>\n",
       "      <th>3</th>\n",
       "      <td>1641832030</td>\n",
       "      <td>Dark Academia:A Level Ancient History- Athens ...</td>\n",
       "      <td>NaN</td>\n",
       "      <td>ancientgreece</td>\n",
       "    </tr>\n",
       "    <tr>\n",
       "      <th>4</th>\n",
       "      <td>1641819157</td>\n",
       "      <td>The Ancient Greek Hero course</td>\n",
       "      <td>If you're interested in delving deeper into th...</td>\n",
       "      <td>ancientgreece</td>\n",
       "    </tr>\n",
       "  </tbody>\n",
       "</table>\n",
       "</div>"
      ],
      "text/plain": [
       "   created_utc                                              title  \\\n",
       "0   1641904278                               Minoan girl chilling   \n",
       "1   1641859463                         Book Reccs for World Civ I   \n",
       "2   1641837949  I've started a supplementary twitch stream of ...   \n",
       "3   1641832030  Dark Academia:A Level Ancient History- Athens ...   \n",
       "4   1641819157                      The Ancient Greek Hero course   \n",
       "\n",
       "                                            selftext      subreddit  \n",
       "0                                                NaN  ancientgreece  \n",
       "1  I’m looking for a book to review in my World C...  ancientgreece  \n",
       "2  Hi all, I'm a high school teacher and I've bee...  ancientgreece  \n",
       "3                                                NaN  ancientgreece  \n",
       "4  If you're interested in delving deeper into th...  ancientgreece  "
      ]
     },
     "execution_count": 11,
     "metadata": {},
     "output_type": "execute_result"
    }
   ],
   "source": [
    "reddit2.head()"
   ]
  },
  {
   "cell_type": "code",
   "execution_count": 12,
   "id": "0f8576ed",
   "metadata": {
    "ExecuteTime": {
     "end_time": "2022-01-19T14:45:30.489636Z",
     "start_time": "2022-01-19T14:45:30.481614Z"
    }
   },
   "outputs": [
    {
     "data": {
      "text/plain": [
       "(5992, 4)"
      ]
     },
     "execution_count": 12,
     "metadata": {},
     "output_type": "execute_result"
    }
   ],
   "source": [
    "reddit2.shape"
   ]
  },
  {
   "cell_type": "code",
   "execution_count": 13,
   "id": "c4e2e6de",
   "metadata": {
    "ExecuteTime": {
     "end_time": "2022-01-19T14:45:30.506726Z",
     "start_time": "2022-01-19T14:45:30.489636Z"
    }
   },
   "outputs": [
    {
     "data": {
      "text/plain": [
       "RangeIndex(start=0, stop=5992, step=1)"
      ]
     },
     "execution_count": 13,
     "metadata": {},
     "output_type": "execute_result"
    }
   ],
   "source": [
    "reddit2.index"
   ]
  },
  {
   "cell_type": "code",
   "execution_count": 14,
   "id": "08164715",
   "metadata": {
    "ExecuteTime": {
     "end_time": "2022-01-19T14:45:30.541296Z",
     "start_time": "2022-01-19T14:45:30.506817Z"
    }
   },
   "outputs": [
    {
     "name": "stdout",
     "output_type": "stream",
     "text": [
      "<class 'pandas.core.frame.DataFrame'>\n",
      "RangeIndex: 5992 entries, 0 to 5991\n",
      "Data columns (total 4 columns):\n",
      " #   Column       Non-Null Count  Dtype \n",
      "---  ------       --------------  ----- \n",
      " 0   created_utc  5992 non-null   int64 \n",
      " 1   title        5992 non-null   object\n",
      " 2   selftext     1656 non-null   object\n",
      " 3   subreddit    5992 non-null   object\n",
      "dtypes: int64(1), object(3)\n",
      "memory usage: 187.4+ KB\n"
     ]
    }
   ],
   "source": [
    "reddit2.info()"
   ]
  },
  {
   "cell_type": "markdown",
   "id": "2bc8753f",
   "metadata": {},
   "source": [
    "### Duplicates"
   ]
  },
  {
   "cell_type": "code",
   "execution_count": 15,
   "id": "b06c3a14",
   "metadata": {
    "ExecuteTime": {
     "end_time": "2022-01-19T14:45:30.582182Z",
     "start_time": "2022-01-19T14:45:30.543115Z"
    },
    "scrolled": true
   },
   "outputs": [
    {
     "data": {
      "text/plain": [
       "created_utc    5991\n",
       "title          5798\n",
       "selftext       1421\n",
       "subreddit         2\n",
       "dtype: int64"
      ]
     },
     "execution_count": 15,
     "metadata": {},
     "output_type": "execute_result"
    }
   ],
   "source": [
    "reddit2.nunique()"
   ]
  },
  {
   "cell_type": "code",
   "execution_count": 16,
   "id": "062581dd",
   "metadata": {
    "ExecuteTime": {
     "end_time": "2022-01-19T14:45:30.605855Z",
     "start_time": "2022-01-19T14:45:30.585336Z"
    }
   },
   "outputs": [
    {
     "data": {
      "text/html": [
       "<div>\n",
       "<style scoped>\n",
       "    .dataframe tbody tr th:only-of-type {\n",
       "        vertical-align: middle;\n",
       "    }\n",
       "\n",
       "    .dataframe tbody tr th {\n",
       "        vertical-align: top;\n",
       "    }\n",
       "\n",
       "    .dataframe thead th {\n",
       "        text-align: right;\n",
       "    }\n",
       "</style>\n",
       "<table border=\"1\" class=\"dataframe\">\n",
       "  <thead>\n",
       "    <tr style=\"text-align: right;\">\n",
       "      <th></th>\n",
       "      <th>created_utc</th>\n",
       "      <th>title</th>\n",
       "      <th>selftext</th>\n",
       "      <th>subreddit</th>\n",
       "    </tr>\n",
       "  </thead>\n",
       "  <tbody>\n",
       "    <tr>\n",
       "      <th>2031</th>\n",
       "      <td>1588853438</td>\n",
       "      <td>The Ancient History of Corinth : Complete Mini...</td>\n",
       "      <td>NaN</td>\n",
       "      <td>ancientgreece</td>\n",
       "    </tr>\n",
       "    <tr>\n",
       "      <th>2032</th>\n",
       "      <td>1588853438</td>\n",
       "      <td>The Ancient History of Corinth : Complete Mini...</td>\n",
       "      <td>NaN</td>\n",
       "      <td>ancientgreece</td>\n",
       "    </tr>\n",
       "  </tbody>\n",
       "</table>\n",
       "</div>"
      ],
      "text/plain": [
       "      created_utc                                              title selftext  \\\n",
       "2031   1588853438  The Ancient History of Corinth : Complete Mini...      NaN   \n",
       "2032   1588853438  The Ancient History of Corinth : Complete Mini...      NaN   \n",
       "\n",
       "          subreddit  \n",
       "2031  ancientgreece  \n",
       "2032  ancientgreece  "
      ]
     },
     "execution_count": 16,
     "metadata": {},
     "output_type": "execute_result"
    }
   ],
   "source": [
    "# only one duplicate in `created_utc` column\n",
    "reddit2[reddit2.duplicated(subset='created_utc', keep=False)]"
   ]
  },
  {
   "cell_type": "code",
   "execution_count": 17,
   "id": "3408eb2e",
   "metadata": {
    "ExecuteTime": {
     "end_time": "2022-01-19T14:45:30.623407Z",
     "start_time": "2022-01-19T14:45:30.608116Z"
    }
   },
   "outputs": [
    {
     "data": {
      "text/plain": [
       "NaN                                                                                                                                                                                                                                                                                                                                                                                                                                                                                                                                                                                                                                                                                                                                                                                                                                                                                                                                                                         4336\n",
       "[removed]                                                                                                                                                                                                                                                                                                                                                                                                                                                                                                                                                                                                                                                                                                                                                                                                                                                                                                                                                                    165\n",
       "[deleted]                                                                                                                                                                                                                                                                                                                                                                                                                                                                                                                                                                                                                                                                                                                                                                                                                                                                                                                                                                     56\n",
       "Title                                                                                                                                                                                                                                                                                                                                                                                                                                                                                                                                                                                                                                                                                                                                                                                                                                                                                                                                                                          4\n",
       "\\nDid the Mycenaean stick with a primitive form of justice based on vengeance, did they have laws and tribunals? How advanced were they on a juridical point of view?                                                                                                                                                                                                                                                                                                                                                                                                                                                                                                                                                                                                                                                                                                                                                                                                          3\n",
       "                                                                                                                                                                                                                                                                                                                                                                                                                                                                                                                                                                                                                                                                                                                                                                                                                                                                                                                                                                            ... \n",
       "\"Another holds in his hand a mirror like that carried by the effeminate Otho: a trophy of the Auruncan actor, in which he looks at his own reflection in full armor when he was just ready to give the order to advance----a thing notable and novel in the annals of our time, a mirror among the kit of a Civil War! \\n\\nIt needed, in truth, a strong general to kill Galba, and keep his own skin shaved; it needed a citizen of highest courage to ape the splendors of the palace on the field of Bedriacum, and plaster his face with dough! \"\\n\\nSatire 2 - *Hypocrites are intolerable*                                                                                                                                                                                                                                                                                                                                                                               1\n",
       "Sophists are normally perceived very negatively as something like intellectual mercenaries or fake philosophers. But I've been reconceptualizing them as being the predecessor to lawyers rather than philosophers. Has anyone else thought about this?                                                                                                                                                                                                                                                                                                                                                                                                                                                                                                                                                                                                                                                                                                                        1\n",
       "Hi, I’m making a board game that partly takes place in an Ancient Greek city -Crete specifically, since the game’s about Minotaur.\\nThere are four types of people that show up in the city: citizens that flee and get eaten, nobles that flee with citizens, guards that attack Minotaur, and priests that don’t flee and get eaten.\\nWhat are some old Greek terms for citizens, nobles, guards, and priests?\\nThank you!                                                                                                                                                                                                                                                                                                                                                                                                                                                                                                                                                   1\n",
       "&amp;#x200B;\\n\\nhttps://preview.redd.it/dyofx25gse471.jpg?width=320&amp;format=pjpg&amp;auto=webp&amp;s=55814640a6ccfb9e3e1cbec51ab570ba602a6e11\\n\\nhttps://preview.redd.it/ph0ai75gse471.jpg?width=640&amp;format=pjpg&amp;auto=webp&amp;s=a86fe1ffcc9f50ac891c15e3469826b912226d51\\n\\nhttps://preview.redd.it/zonnys5gse471.jpg?width=320&amp;format=pjpg&amp;auto=webp&amp;s=c13e2c592c89a260c928d858c711d0d6691147be\\n\\nhttps://preview.redd.it/ohu1845gse471.jpg?width=640&amp;format=pjpg&amp;auto=webp&amp;s=9151eda48e0ff03a3e182e326be29b4213516183\\n\\nhttps://preview.redd.it/fck2ub5gse471.jpg?width=640&amp;format=pjpg&amp;auto=webp&amp;s=97f505824ffad25a8e000c140d92ce7a8d11c83c\\n\\nhttps://preview.redd.it/un2vr55gse471.jpg?width=640&amp;format=pjpg&amp;auto=webp&amp;s=5513cd119de3c30a240a1878a14b13ea050c04e9\\n\\nhttps://preview.redd.it/hudr655gse471.jpg?width=640&amp;format=pjpg&amp;auto=webp&amp;s=48564d53aa53cb6083e0582a6144390281b01758       1\n",
       "Egypt has a reputation of being the place in the ancient world with the best gender equality but Sparta was ahead of the game also don't you think?                                                                                                                                                                                                                                                                                                                                                                                                                                                                                                                                                                                                                                                                                                                                                                                                                            1\n",
       "Name: selftext, Length: 1422, dtype: int64"
      ]
     },
     "execution_count": 17,
     "metadata": {},
     "output_type": "execute_result"
    }
   ],
   "source": [
    "# it's a real duplicate. drop it later, along with others\n",
    "reddit2['selftext'].value_counts(dropna=False)"
   ]
  },
  {
   "cell_type": "markdown",
   "id": "952de0b2",
   "metadata": {},
   "source": [
    "- lots of deleted, removed and nan values in `selftext` column. that's the main reason we scraped such a large number of posts - many posts are non-existent.\n",
    "- still, some rows with missing value in `selftext` column might still be kept, as they have `title` column with useful words"
   ]
  },
  {
   "cell_type": "code",
   "execution_count": 18,
   "id": "6b67a8fe",
   "metadata": {
    "ExecuteTime": {
     "end_time": "2022-01-19T14:45:30.651850Z",
     "start_time": "2022-01-19T14:45:30.623407Z"
    },
    "scrolled": false
   },
   "outputs": [
    {
     "data": {
      "text/html": [
       "<div>\n",
       "<style scoped>\n",
       "    .dataframe tbody tr th:only-of-type {\n",
       "        vertical-align: middle;\n",
       "    }\n",
       "\n",
       "    .dataframe tbody tr th {\n",
       "        vertical-align: top;\n",
       "    }\n",
       "\n",
       "    .dataframe thead th {\n",
       "        text-align: right;\n",
       "    }\n",
       "</style>\n",
       "<table border=\"1\" class=\"dataframe\">\n",
       "  <thead>\n",
       "    <tr style=\"text-align: right;\">\n",
       "      <th></th>\n",
       "      <th>created_utc</th>\n",
       "      <th>title</th>\n",
       "      <th>selftext</th>\n",
       "      <th>subreddit</th>\n",
       "    </tr>\n",
       "  </thead>\n",
       "  <tbody>\n",
       "    <tr>\n",
       "      <th>1980</th>\n",
       "      <td>1590100753</td>\n",
       "      <td>Reviving the sanctuary dedicated to Ares for t...</td>\n",
       "      <td>[removed]</td>\n",
       "      <td>ancientgreece</td>\n",
       "    </tr>\n",
       "    <tr>\n",
       "      <th>1984</th>\n",
       "      <td>1590072671</td>\n",
       "      <td>Is there a way to write names of noble-born Gr...</td>\n",
       "      <td>[removed]</td>\n",
       "      <td>ancientgreece</td>\n",
       "    </tr>\n",
       "    <tr>\n",
       "      <th>1989</th>\n",
       "      <td>1589974103</td>\n",
       "      <td>Can you help me find the name of any helots in...</td>\n",
       "      <td>[removed]</td>\n",
       "      <td>ancientgreece</td>\n",
       "    </tr>\n",
       "    <tr>\n",
       "      <th>2001</th>\n",
       "      <td>1589652939</td>\n",
       "      <td>Mythology Multiverse: A Non-RP Discord Communi...</td>\n",
       "      <td>[removed]</td>\n",
       "      <td>ancientgreece</td>\n",
       "    </tr>\n",
       "    <tr>\n",
       "      <th>2002</th>\n",
       "      <td>1589651899</td>\n",
       "      <td>Mythology Multiverse: A Non-RP Discord Communi...</td>\n",
       "      <td>[removed]</td>\n",
       "      <td>ancientgreece</td>\n",
       "    </tr>\n",
       "    <tr>\n",
       "      <th>2017</th>\n",
       "      <td>1589122130</td>\n",
       "      <td>What is an epikleros?</td>\n",
       "      <td>[removed]</td>\n",
       "      <td>ancientgreece</td>\n",
       "    </tr>\n",
       "    <tr>\n",
       "      <th>2023</th>\n",
       "      <td>1589010719</td>\n",
       "      <td>What type of juridical system did the Mycenaea...</td>\n",
       "      <td>[removed]</td>\n",
       "      <td>ancientgreece</td>\n",
       "    </tr>\n",
       "    <tr>\n",
       "      <th>2029</th>\n",
       "      <td>1588865538</td>\n",
       "      <td>New sub you might be interested in!</td>\n",
       "      <td>[removed]</td>\n",
       "      <td>ancientgreece</td>\n",
       "    </tr>\n",
       "    <tr>\n",
       "      <th>2033</th>\n",
       "      <td>1588849138</td>\n",
       "      <td>Should I read the Odyssey as someone who doesn...</td>\n",
       "      <td>[removed]</td>\n",
       "      <td>ancientgreece</td>\n",
       "    </tr>\n",
       "    <tr>\n",
       "      <th>2038</th>\n",
       "      <td>1588529991</td>\n",
       "      <td>Best Literature regarding Pyrrhus of Epirus or...</td>\n",
       "      <td>[removed]</td>\n",
       "      <td>ancientgreece</td>\n",
       "    </tr>\n",
       "    <tr>\n",
       "      <th>2040</th>\n",
       "      <td>1588465963</td>\n",
       "      <td>How to pronounce Kaineus</td>\n",
       "      <td>[removed]</td>\n",
       "      <td>ancientgreece</td>\n",
       "    </tr>\n",
       "    <tr>\n",
       "      <th>2041</th>\n",
       "      <td>1588464622</td>\n",
       "      <td>Question about Socrates's Opinion on Civil Dis...</td>\n",
       "      <td>[removed]</td>\n",
       "      <td>ancientgreece</td>\n",
       "    </tr>\n",
       "    <tr>\n",
       "      <th>2042</th>\n",
       "      <td>1588446966</td>\n",
       "      <td>Mythology Multiverse: A Non-RP Discord Communi...</td>\n",
       "      <td>[removed]</td>\n",
       "      <td>ancientgreece</td>\n",
       "    </tr>\n",
       "    <tr>\n",
       "      <th>2057</th>\n",
       "      <td>1587926281</td>\n",
       "      <td>Do any of you feel a pang of sadness when read...</td>\n",
       "      <td>[removed]</td>\n",
       "      <td>ancientgreece</td>\n",
       "    </tr>\n",
       "    <tr>\n",
       "      <th>2062</th>\n",
       "      <td>1587774503</td>\n",
       "      <td>Diogenes the Cynic</td>\n",
       "      <td>[removed]</td>\n",
       "      <td>ancientgreece</td>\n",
       "    </tr>\n",
       "    <tr>\n",
       "      <th>2063</th>\n",
       "      <td>1587766396</td>\n",
       "      <td>Information on post glory years-- ever dwindli...</td>\n",
       "      <td>[removed]</td>\n",
       "      <td>ancientgreece</td>\n",
       "    </tr>\n",
       "    <tr>\n",
       "      <th>2071</th>\n",
       "      <td>1587584671</td>\n",
       "      <td>Ancient Greek Writing</td>\n",
       "      <td>[removed]</td>\n",
       "      <td>ancientgreece</td>\n",
       "    </tr>\n",
       "    <tr>\n",
       "      <th>2073</th>\n",
       "      <td>1587527144</td>\n",
       "      <td>Is there any evidence or records of lesbianism...</td>\n",
       "      <td>[removed]</td>\n",
       "      <td>ancientgreece</td>\n",
       "    </tr>\n",
       "    <tr>\n",
       "      <th>2159</th>\n",
       "      <td>1583698240</td>\n",
       "      <td>What’re your favourite cool Ancient Greek quot...</td>\n",
       "      <td>[removed]</td>\n",
       "      <td>ancientgreece</td>\n",
       "    </tr>\n",
       "    <tr>\n",
       "      <th>2208</th>\n",
       "      <td>1581277522</td>\n",
       "      <td>Greek theatre or art?</td>\n",
       "      <td>[removed]</td>\n",
       "      <td>ancientgreece</td>\n",
       "    </tr>\n",
       "    <tr>\n",
       "      <th>2219</th>\n",
       "      <td>1580748110</td>\n",
       "      <td>Long War - Christian Cameron - Epic series</td>\n",
       "      <td>[removed]</td>\n",
       "      <td>ancientgreece</td>\n",
       "    </tr>\n",
       "    <tr>\n",
       "      <th>2228</th>\n",
       "      <td>1580082257</td>\n",
       "      <td>Unknown God!</td>\n",
       "      <td>[removed]</td>\n",
       "      <td>ancientgreece</td>\n",
       "    </tr>\n",
       "    <tr>\n",
       "      <th>2231</th>\n",
       "      <td>1579838445</td>\n",
       "      <td>Looking for some audiobooks (eye problems, can...</td>\n",
       "      <td>[removed]</td>\n",
       "      <td>ancientgreece</td>\n",
       "    </tr>\n",
       "    <tr>\n",
       "      <th>2234</th>\n",
       "      <td>1579508593</td>\n",
       "      <td>Any life-like face reconstructions of Alcibiades?</td>\n",
       "      <td>[removed]</td>\n",
       "      <td>ancientgreece</td>\n",
       "    </tr>\n",
       "    <tr>\n",
       "      <th>2240</th>\n",
       "      <td>1578720820</td>\n",
       "      <td>Where can i get ancient greek history book in ...</td>\n",
       "      <td>[removed]</td>\n",
       "      <td>ancientgreece</td>\n",
       "    </tr>\n",
       "    <tr>\n",
       "      <th>2264</th>\n",
       "      <td>1577009492</td>\n",
       "      <td>thought this said \"accidental greece\" am sorel...</td>\n",
       "      <td>[removed]</td>\n",
       "      <td>ancientgreece</td>\n",
       "    </tr>\n",
       "    <tr>\n",
       "      <th>2349</th>\n",
       "      <td>1571301933</td>\n",
       "      <td>Heroes of Bronze: Platea - a shot test from my...</td>\n",
       "      <td>[removed]</td>\n",
       "      <td>ancientgreece</td>\n",
       "    </tr>\n",
       "    <tr>\n",
       "      <th>2598</th>\n",
       "      <td>1554329338</td>\n",
       "      <td>The Formation of the Greek City-State</td>\n",
       "      <td>[removed]</td>\n",
       "      <td>ancientgreece</td>\n",
       "    </tr>\n",
       "    <tr>\n",
       "      <th>2689</th>\n",
       "      <td>1547613305</td>\n",
       "      <td>Just started experimenting with making 3d prin...</td>\n",
       "      <td>[removed]</td>\n",
       "      <td>ancientgreece</td>\n",
       "    </tr>\n",
       "    <tr>\n",
       "      <th>2690</th>\n",
       "      <td>1547589799</td>\n",
       "      <td>Just started experimenting with making 3d prin...</td>\n",
       "      <td>[removed]</td>\n",
       "      <td>ancientgreece</td>\n",
       "    </tr>\n",
       "    <tr>\n",
       "      <th>3368</th>\n",
       "      <td>1639588541</td>\n",
       "      <td>Roman Legionary Equipment Pixelated NFT!</td>\n",
       "      <td>[removed]</td>\n",
       "      <td>ancientrome</td>\n",
       "    </tr>\n",
       "    <tr>\n",
       "      <th>4444</th>\n",
       "      <td>1633114670</td>\n",
       "      <td>How historically accurate was the movie “Gladi...</td>\n",
       "      <td>[removed]</td>\n",
       "      <td>ancientrome</td>\n",
       "    </tr>\n",
       "    <tr>\n",
       "      <th>4563</th>\n",
       "      <td>1632368270</td>\n",
       "      <td>Ancient India ideology</td>\n",
       "      <td>[removed]</td>\n",
       "      <td>ancientrome</td>\n",
       "    </tr>\n",
       "    <tr>\n",
       "      <th>4786</th>\n",
       "      <td>1630779505</td>\n",
       "      <td>“Hold Me Or I Will Run!” Roman Slave Collars C...</td>\n",
       "      <td>[removed]</td>\n",
       "      <td>ancientrome</td>\n",
       "    </tr>\n",
       "    <tr>\n",
       "      <th>5042</th>\n",
       "      <td>1629145084</td>\n",
       "      <td>What are some good books about the life of the...</td>\n",
       "      <td>[removed]</td>\n",
       "      <td>ancientrome</td>\n",
       "    </tr>\n",
       "    <tr>\n",
       "      <th>5488</th>\n",
       "      <td>1625862019</td>\n",
       "      <td>Question! Please help!</td>\n",
       "      <td>[removed]</td>\n",
       "      <td>ancientrome</td>\n",
       "    </tr>\n",
       "    <tr>\n",
       "      <th>5553</th>\n",
       "      <td>1625478915</td>\n",
       "      <td>Half of XIX century</td>\n",
       "      <td>[removed]</td>\n",
       "      <td>ancientrome</td>\n",
       "    </tr>\n",
       "    <tr>\n",
       "      <th>5629</th>\n",
       "      <td>1625059864</td>\n",
       "      <td>https://shiningface.parotz.com/2021/06/is-ther...</td>\n",
       "      <td>[removed]</td>\n",
       "      <td>ancientrome</td>\n",
       "    </tr>\n",
       "    <tr>\n",
       "      <th>5711</th>\n",
       "      <td>1624454553</td>\n",
       "      <td>Help me identify this buste</td>\n",
       "      <td>[removed]</td>\n",
       "      <td>ancientrome</td>\n",
       "    </tr>\n",
       "    <tr>\n",
       "      <th>5729</th>\n",
       "      <td>1624344916</td>\n",
       "      <td>Roman numeral 0</td>\n",
       "      <td>[removed]</td>\n",
       "      <td>ancientrome</td>\n",
       "    </tr>\n",
       "  </tbody>\n",
       "</table>\n",
       "</div>"
      ],
      "text/plain": [
       "      created_utc                                              title  \\\n",
       "1980   1590100753  Reviving the sanctuary dedicated to Ares for t...   \n",
       "1984   1590072671  Is there a way to write names of noble-born Gr...   \n",
       "1989   1589974103  Can you help me find the name of any helots in...   \n",
       "2001   1589652939  Mythology Multiverse: A Non-RP Discord Communi...   \n",
       "2002   1589651899  Mythology Multiverse: A Non-RP Discord Communi...   \n",
       "2017   1589122130                              What is an epikleros?   \n",
       "2023   1589010719  What type of juridical system did the Mycenaea...   \n",
       "2029   1588865538                New sub you might be interested in!   \n",
       "2033   1588849138  Should I read the Odyssey as someone who doesn...   \n",
       "2038   1588529991  Best Literature regarding Pyrrhus of Epirus or...   \n",
       "2040   1588465963                           How to pronounce Kaineus   \n",
       "2041   1588464622  Question about Socrates's Opinion on Civil Dis...   \n",
       "2042   1588446966  Mythology Multiverse: A Non-RP Discord Communi...   \n",
       "2057   1587926281  Do any of you feel a pang of sadness when read...   \n",
       "2062   1587774503                                 Diogenes the Cynic   \n",
       "2063   1587766396  Information on post glory years-- ever dwindli...   \n",
       "2071   1587584671                              Ancient Greek Writing   \n",
       "2073   1587527144  Is there any evidence or records of lesbianism...   \n",
       "2159   1583698240  What’re your favourite cool Ancient Greek quot...   \n",
       "2208   1581277522                              Greek theatre or art?   \n",
       "2219   1580748110         Long War - Christian Cameron - Epic series   \n",
       "2228   1580082257                                       Unknown God!   \n",
       "2231   1579838445  Looking for some audiobooks (eye problems, can...   \n",
       "2234   1579508593  Any life-like face reconstructions of Alcibiades?   \n",
       "2240   1578720820  Where can i get ancient greek history book in ...   \n",
       "2264   1577009492  thought this said \"accidental greece\" am sorel...   \n",
       "2349   1571301933  Heroes of Bronze: Platea - a shot test from my...   \n",
       "2598   1554329338              The Formation of the Greek City-State   \n",
       "2689   1547613305  Just started experimenting with making 3d prin...   \n",
       "2690   1547589799  Just started experimenting with making 3d prin...   \n",
       "3368   1639588541           Roman Legionary Equipment Pixelated NFT!   \n",
       "4444   1633114670  How historically accurate was the movie “Gladi...   \n",
       "4563   1632368270                             Ancient India ideology   \n",
       "4786   1630779505  “Hold Me Or I Will Run!” Roman Slave Collars C...   \n",
       "5042   1629145084  What are some good books about the life of the...   \n",
       "5488   1625862019                             Question! Please help!   \n",
       "5553   1625478915                                Half of XIX century   \n",
       "5629   1625059864  https://shiningface.parotz.com/2021/06/is-ther...   \n",
       "5711   1624454553                        Help me identify this buste   \n",
       "5729   1624344916                                    Roman numeral 0   \n",
       "\n",
       "       selftext      subreddit  \n",
       "1980  [removed]  ancientgreece  \n",
       "1984  [removed]  ancientgreece  \n",
       "1989  [removed]  ancientgreece  \n",
       "2001  [removed]  ancientgreece  \n",
       "2002  [removed]  ancientgreece  \n",
       "2017  [removed]  ancientgreece  \n",
       "2023  [removed]  ancientgreece  \n",
       "2029  [removed]  ancientgreece  \n",
       "2033  [removed]  ancientgreece  \n",
       "2038  [removed]  ancientgreece  \n",
       "2040  [removed]  ancientgreece  \n",
       "2041  [removed]  ancientgreece  \n",
       "2042  [removed]  ancientgreece  \n",
       "2057  [removed]  ancientgreece  \n",
       "2062  [removed]  ancientgreece  \n",
       "2063  [removed]  ancientgreece  \n",
       "2071  [removed]  ancientgreece  \n",
       "2073  [removed]  ancientgreece  \n",
       "2159  [removed]  ancientgreece  \n",
       "2208  [removed]  ancientgreece  \n",
       "2219  [removed]  ancientgreece  \n",
       "2228  [removed]  ancientgreece  \n",
       "2231  [removed]  ancientgreece  \n",
       "2234  [removed]  ancientgreece  \n",
       "2240  [removed]  ancientgreece  \n",
       "2264  [removed]  ancientgreece  \n",
       "2349  [removed]  ancientgreece  \n",
       "2598  [removed]  ancientgreece  \n",
       "2689  [removed]  ancientgreece  \n",
       "2690  [removed]  ancientgreece  \n",
       "3368  [removed]    ancientrome  \n",
       "4444  [removed]    ancientrome  \n",
       "4563  [removed]    ancientrome  \n",
       "4786  [removed]    ancientrome  \n",
       "5042  [removed]    ancientrome  \n",
       "5488  [removed]    ancientrome  \n",
       "5553  [removed]    ancientrome  \n",
       "5629  [removed]    ancientrome  \n",
       "5711  [removed]    ancientrome  \n",
       "5729  [removed]    ancientrome  "
      ]
     },
     "execution_count": 18,
     "metadata": {},
     "output_type": "execute_result"
    }
   ],
   "source": [
    "# inspect the [removed] values\n",
    "reddit2[reddit2['selftext']=='[removed]'].tail(40)"
   ]
  },
  {
   "cell_type": "code",
   "execution_count": 19,
   "id": "e596ffd8",
   "metadata": {
    "ExecuteTime": {
     "end_time": "2022-01-19T14:45:30.684675Z",
     "start_time": "2022-01-19T14:45:30.652258Z"
    },
    "scrolled": false
   },
   "outputs": [
    {
     "data": {
      "text/html": [
       "<div>\n",
       "<style scoped>\n",
       "    .dataframe tbody tr th:only-of-type {\n",
       "        vertical-align: middle;\n",
       "    }\n",
       "\n",
       "    .dataframe tbody tr th {\n",
       "        vertical-align: top;\n",
       "    }\n",
       "\n",
       "    .dataframe thead th {\n",
       "        text-align: right;\n",
       "    }\n",
       "</style>\n",
       "<table border=\"1\" class=\"dataframe\">\n",
       "  <thead>\n",
       "    <tr style=\"text-align: right;\">\n",
       "      <th></th>\n",
       "      <th>created_utc</th>\n",
       "      <th>title</th>\n",
       "      <th>selftext</th>\n",
       "      <th>subreddit</th>\n",
       "    </tr>\n",
       "  </thead>\n",
       "  <tbody>\n",
       "    <tr>\n",
       "      <th>99</th>\n",
       "      <td>1639394260</td>\n",
       "      <td>How well do you know Ancient Greece pt.1</td>\n",
       "      <td>[removed]</td>\n",
       "      <td>ancientgreece</td>\n",
       "    </tr>\n",
       "    <tr>\n",
       "      <th>130</th>\n",
       "      <td>1638474564</td>\n",
       "      <td>Modern enthusiasts often find it strange that ...</td>\n",
       "      <td>[removed]</td>\n",
       "      <td>ancientgreece</td>\n",
       "    </tr>\n",
       "    <tr>\n",
       "      <th>194</th>\n",
       "      <td>1636704433</td>\n",
       "      <td>Homework help</td>\n",
       "      <td>[removed]</td>\n",
       "      <td>ancientgreece</td>\n",
       "    </tr>\n",
       "    <tr>\n",
       "      <th>198</th>\n",
       "      <td>1636685303</td>\n",
       "      <td>For what purpose did Diodorus Sicily’s write h...</td>\n",
       "      <td>[removed]</td>\n",
       "      <td>ancientgreece</td>\n",
       "    </tr>\n",
       "    <tr>\n",
       "      <th>199</th>\n",
       "      <td>1636674595</td>\n",
       "      <td>Can you please recommend a good book on the My...</td>\n",
       "      <td>[removed]</td>\n",
       "      <td>ancientgreece</td>\n",
       "    </tr>\n",
       "    <tr>\n",
       "      <th>206</th>\n",
       "      <td>1636523714</td>\n",
       "      <td>ancient greek question</td>\n",
       "      <td>[removed]</td>\n",
       "      <td>ancientgreece</td>\n",
       "    </tr>\n",
       "    <tr>\n",
       "      <th>207</th>\n",
       "      <td>1636523594</td>\n",
       "      <td>ancient greek question</td>\n",
       "      <td>[removed]</td>\n",
       "      <td>ancientgreece</td>\n",
       "    </tr>\n",
       "    <tr>\n",
       "      <th>212</th>\n",
       "      <td>1636449193</td>\n",
       "      <td>Eleusinian Mysteries</td>\n",
       "      <td>[removed]</td>\n",
       "      <td>ancientgreece</td>\n",
       "    </tr>\n",
       "    <tr>\n",
       "      <th>214</th>\n",
       "      <td>1636380292</td>\n",
       "      <td>What did the Greeks think about the fields of ...</td>\n",
       "      <td>[removed]</td>\n",
       "      <td>ancientgreece</td>\n",
       "    </tr>\n",
       "    <tr>\n",
       "      <th>219</th>\n",
       "      <td>1636293467</td>\n",
       "      <td>Help identifying a Greek tragedian</td>\n",
       "      <td>[removed]</td>\n",
       "      <td>ancientgreece</td>\n",
       "    </tr>\n",
       "    <tr>\n",
       "      <th>223</th>\n",
       "      <td>1636242655</td>\n",
       "      <td>How did Alexanders Pikemen fight in Sieges</td>\n",
       "      <td>[removed]</td>\n",
       "      <td>ancientgreece</td>\n",
       "    </tr>\n",
       "    <tr>\n",
       "      <th>235</th>\n",
       "      <td>1635900338</td>\n",
       "      <td>What is the best source for Philip of Macedon?</td>\n",
       "      <td>[removed]</td>\n",
       "      <td>ancientgreece</td>\n",
       "    </tr>\n",
       "    <tr>\n",
       "      <th>239</th>\n",
       "      <td>1635775546</td>\n",
       "      <td>I need help understanding</td>\n",
       "      <td>[removed]</td>\n",
       "      <td>ancientgreece</td>\n",
       "    </tr>\n",
       "    <tr>\n",
       "      <th>250</th>\n",
       "      <td>1635639914</td>\n",
       "      <td>Dionysian Chant</td>\n",
       "      <td>[removed]</td>\n",
       "      <td>ancientgreece</td>\n",
       "    </tr>\n",
       "    <tr>\n",
       "      <th>252</th>\n",
       "      <td>1635592179</td>\n",
       "      <td>Bronze Age Collapse with Prof. Eric Cline</td>\n",
       "      <td>[removed]</td>\n",
       "      <td>ancientgreece</td>\n",
       "    </tr>\n",
       "    <tr>\n",
       "      <th>265</th>\n",
       "      <td>1635386687</td>\n",
       "      <td>Mystery: Origin of \"Autolophagist\"</td>\n",
       "      <td>[removed]</td>\n",
       "      <td>ancientgreece</td>\n",
       "    </tr>\n",
       "    <tr>\n",
       "      <th>279</th>\n",
       "      <td>1635123728</td>\n",
       "      <td>Help remembering what Herodotus’ Histories boo...</td>\n",
       "      <td>[removed]</td>\n",
       "      <td>ancientgreece</td>\n",
       "    </tr>\n",
       "    <tr>\n",
       "      <th>290</th>\n",
       "      <td>1634842255</td>\n",
       "      <td>History book recommendations</td>\n",
       "      <td>[removed]</td>\n",
       "      <td>ancientgreece</td>\n",
       "    </tr>\n",
       "    <tr>\n",
       "      <th>294</th>\n",
       "      <td>1634725733</td>\n",
       "      <td>Are there any polychrome reconstructions of st...</td>\n",
       "      <td>[removed]</td>\n",
       "      <td>ancientgreece</td>\n",
       "    </tr>\n",
       "    <tr>\n",
       "      <th>302</th>\n",
       "      <td>1634514459</td>\n",
       "      <td>Why are modern Greeks (on average) dark/tan wh...</td>\n",
       "      <td>[removed]</td>\n",
       "      <td>ancientgreece</td>\n",
       "    </tr>\n",
       "    <tr>\n",
       "      <th>318</th>\n",
       "      <td>1634044170</td>\n",
       "      <td>Any good books about Sophocles and his works?</td>\n",
       "      <td>[removed]</td>\n",
       "      <td>ancientgreece</td>\n",
       "    </tr>\n",
       "    <tr>\n",
       "      <th>321</th>\n",
       "      <td>1633915793</td>\n",
       "      <td>Thought and Philosophy through the Schools</td>\n",
       "      <td>[removed]</td>\n",
       "      <td>ancientgreece</td>\n",
       "    </tr>\n",
       "    <tr>\n",
       "      <th>325</th>\n",
       "      <td>1633864021</td>\n",
       "      <td>I have a question about morrison's book about ...</td>\n",
       "      <td>[removed]</td>\n",
       "      <td>ancientgreece</td>\n",
       "    </tr>\n",
       "    <tr>\n",
       "      <th>326</th>\n",
       "      <td>1633812932</td>\n",
       "      <td>How can I learn about Ancient Greece?</td>\n",
       "      <td>[removed]</td>\n",
       "      <td>ancientgreece</td>\n",
       "    </tr>\n",
       "    <tr>\n",
       "      <th>330</th>\n",
       "      <td>1633774570</td>\n",
       "      <td>Jason of Pherae - very interesting character a...</td>\n",
       "      <td>[removed]</td>\n",
       "      <td>ancientgreece</td>\n",
       "    </tr>\n",
       "    <tr>\n",
       "      <th>333</th>\n",
       "      <td>1633714271</td>\n",
       "      <td>Hello, I have a question about Persian prince ...</td>\n",
       "      <td>[removed]</td>\n",
       "      <td>ancientgreece</td>\n",
       "    </tr>\n",
       "    <tr>\n",
       "      <th>334</th>\n",
       "      <td>1633686988</td>\n",
       "      <td>I have a question about the Persian King Xerxes</td>\n",
       "      <td>[removed]</td>\n",
       "      <td>ancientgreece</td>\n",
       "    </tr>\n",
       "    <tr>\n",
       "      <th>339</th>\n",
       "      <td>1633500995</td>\n",
       "      <td>Brazen Bull Torture- instrument of torture dur...</td>\n",
       "      <td>[removed]</td>\n",
       "      <td>ancientgreece</td>\n",
       "    </tr>\n",
       "    <tr>\n",
       "      <th>345</th>\n",
       "      <td>1633266870</td>\n",
       "      <td>The Elongated skulls ancient egypt and Indecip...</td>\n",
       "      <td>[removed]</td>\n",
       "      <td>ancientgreece</td>\n",
       "    </tr>\n",
       "    <tr>\n",
       "      <th>357</th>\n",
       "      <td>1633106844</td>\n",
       "      <td>Ancient Greek sculpture styles in Terracotta W...</td>\n",
       "      <td>[removed]</td>\n",
       "      <td>ancientgreece</td>\n",
       "    </tr>\n",
       "    <tr>\n",
       "      <th>359</th>\n",
       "      <td>1633054441</td>\n",
       "      <td>History of Greek Intellectual Thought books?</td>\n",
       "      <td>[removed]</td>\n",
       "      <td>ancientgreece</td>\n",
       "    </tr>\n",
       "    <tr>\n",
       "      <th>372</th>\n",
       "      <td>1632797210</td>\n",
       "      <td>The DeFi project Theos on NFT marketplace</td>\n",
       "      <td>[removed]</td>\n",
       "      <td>ancientgreece</td>\n",
       "    </tr>\n",
       "    <tr>\n",
       "      <th>380</th>\n",
       "      <td>1632600451</td>\n",
       "      <td>Given the fashion standards of Ancient Greece,...</td>\n",
       "      <td>[removed]</td>\n",
       "      <td>ancientgreece</td>\n",
       "    </tr>\n",
       "    <tr>\n",
       "      <th>381</th>\n",
       "      <td>1632567462</td>\n",
       "      <td>Interview: The Bronze Lie with Myke Cole</td>\n",
       "      <td>[removed]</td>\n",
       "      <td>ancientgreece</td>\n",
       "    </tr>\n",
       "    <tr>\n",
       "      <th>395</th>\n",
       "      <td>1632114907</td>\n",
       "      <td>Looking for an ancient Greek play I heard a st...</td>\n",
       "      <td>[removed]</td>\n",
       "      <td>ancientgreece</td>\n",
       "    </tr>\n",
       "    <tr>\n",
       "      <th>399</th>\n",
       "      <td>1631982698</td>\n",
       "      <td>Best book(s) on the military history of Classi...</td>\n",
       "      <td>[removed]</td>\n",
       "      <td>ancientgreece</td>\n",
       "    </tr>\n",
       "    <tr>\n",
       "      <th>406</th>\n",
       "      <td>1631789740</td>\n",
       "      <td>Movie/TV adaptations of the Illiad</td>\n",
       "      <td>[removed]</td>\n",
       "      <td>ancientgreece</td>\n",
       "    </tr>\n",
       "    <tr>\n",
       "      <th>407</th>\n",
       "      <td>1631772933</td>\n",
       "      <td>Indirect Questions Help</td>\n",
       "      <td>[removed]</td>\n",
       "      <td>ancientgreece</td>\n",
       "    </tr>\n",
       "    <tr>\n",
       "      <th>411</th>\n",
       "      <td>1631719332</td>\n",
       "      <td>Looking for a collaborator for a novel series ...</td>\n",
       "      <td>[removed]</td>\n",
       "      <td>ancientgreece</td>\n",
       "    </tr>\n",
       "    <tr>\n",
       "      <th>412</th>\n",
       "      <td>1631700475</td>\n",
       "      <td>Welcome to the Language Cafe!</td>\n",
       "      <td>[removed]</td>\n",
       "      <td>ancientgreece</td>\n",
       "    </tr>\n",
       "    <tr>\n",
       "      <th>421</th>\n",
       "      <td>1631617889</td>\n",
       "      <td>Books about culture</td>\n",
       "      <td>[removed]</td>\n",
       "      <td>ancientgreece</td>\n",
       "    </tr>\n",
       "    <tr>\n",
       "      <th>422</th>\n",
       "      <td>1631593716</td>\n",
       "      <td>Welcome to the Language Cafe!</td>\n",
       "      <td>[removed]</td>\n",
       "      <td>ancientgreece</td>\n",
       "    </tr>\n",
       "    <tr>\n",
       "      <th>428</th>\n",
       "      <td>1631356427</td>\n",
       "      <td>The Greek Periphery, Sicily</td>\n",
       "      <td>[removed]</td>\n",
       "      <td>ancientgreece</td>\n",
       "    </tr>\n",
       "    <tr>\n",
       "      <th>431</th>\n",
       "      <td>1631189863</td>\n",
       "      <td>What were the area sizes and infrastructure of...</td>\n",
       "      <td>[removed]</td>\n",
       "      <td>ancientgreece</td>\n",
       "    </tr>\n",
       "    <tr>\n",
       "      <th>440</th>\n",
       "      <td>1630870928</td>\n",
       "      <td>Help me add the ancients to this interactive map</td>\n",
       "      <td>[removed]</td>\n",
       "      <td>ancientgreece</td>\n",
       "    </tr>\n",
       "    <tr>\n",
       "      <th>442</th>\n",
       "      <td>1630861468</td>\n",
       "      <td>Best Ancient History in Kephalonia?</td>\n",
       "      <td>[removed]</td>\n",
       "      <td>ancientgreece</td>\n",
       "    </tr>\n",
       "    <tr>\n",
       "      <th>464</th>\n",
       "      <td>1630353695</td>\n",
       "      <td>Attic Greek Texts</td>\n",
       "      <td>[removed]</td>\n",
       "      <td>ancientgreece</td>\n",
       "    </tr>\n",
       "    <tr>\n",
       "      <th>486</th>\n",
       "      <td>1630057715</td>\n",
       "      <td>Herodotus, the father of history or the father...</td>\n",
       "      <td>[removed]</td>\n",
       "      <td>ancientgreece</td>\n",
       "    </tr>\n",
       "    <tr>\n",
       "      <th>507</th>\n",
       "      <td>1629604743</td>\n",
       "      <td>Test</td>\n",
       "      <td>[removed]</td>\n",
       "      <td>ancientgreece</td>\n",
       "    </tr>\n",
       "    <tr>\n",
       "      <th>514</th>\n",
       "      <td>1629417857</td>\n",
       "      <td>Was military education egalitarian in 5th cent...</td>\n",
       "      <td>[removed]</td>\n",
       "      <td>ancientgreece</td>\n",
       "    </tr>\n",
       "    <tr>\n",
       "      <th>520</th>\n",
       "      <td>1629302885</td>\n",
       "      <td>Where/How did the crew of the ancient Greek sh...</td>\n",
       "      <td>[removed]</td>\n",
       "      <td>ancientgreece</td>\n",
       "    </tr>\n",
       "    <tr>\n",
       "      <th>522</th>\n",
       "      <td>1629271061</td>\n",
       "      <td>What is a repeatable event that you would want...</td>\n",
       "      <td>[removed]</td>\n",
       "      <td>ancientgreece</td>\n",
       "    </tr>\n",
       "    <tr>\n",
       "      <th>526</th>\n",
       "      <td>1629178611</td>\n",
       "      <td>Herodotus and your experience with the father ...</td>\n",
       "      <td>[removed]</td>\n",
       "      <td>ancientgreece</td>\n",
       "    </tr>\n",
       "    <tr>\n",
       "      <th>532</th>\n",
       "      <td>1629078191</td>\n",
       "      <td>What does this quote by Thucydides mean?</td>\n",
       "      <td>[removed]</td>\n",
       "      <td>ancientgreece</td>\n",
       "    </tr>\n",
       "    <tr>\n",
       "      <th>537</th>\n",
       "      <td>1629028719</td>\n",
       "      <td>Pausanias' footsteps</td>\n",
       "      <td>[removed]</td>\n",
       "      <td>ancientgreece</td>\n",
       "    </tr>\n",
       "    <tr>\n",
       "      <th>541</th>\n",
       "      <td>1628877207</td>\n",
       "      <td>Which Gods Would've Been The Most Important to...</td>\n",
       "      <td>[removed]</td>\n",
       "      <td>ancientgreece</td>\n",
       "    </tr>\n",
       "  </tbody>\n",
       "</table>\n",
       "</div>"
      ],
      "text/plain": [
       "     created_utc                                              title  \\\n",
       "99    1639394260           How well do you know Ancient Greece pt.1   \n",
       "130   1638474564  Modern enthusiasts often find it strange that ...   \n",
       "194   1636704433                                      Homework help   \n",
       "198   1636685303  For what purpose did Diodorus Sicily’s write h...   \n",
       "199   1636674595  Can you please recommend a good book on the My...   \n",
       "206   1636523714                             ancient greek question   \n",
       "207   1636523594                             ancient greek question   \n",
       "212   1636449193                               Eleusinian Mysteries   \n",
       "214   1636380292  What did the Greeks think about the fields of ...   \n",
       "219   1636293467                 Help identifying a Greek tragedian   \n",
       "223   1636242655         How did Alexanders Pikemen fight in Sieges   \n",
       "235   1635900338     What is the best source for Philip of Macedon?   \n",
       "239   1635775546                          I need help understanding   \n",
       "250   1635639914                                    Dionysian Chant   \n",
       "252   1635592179          Bronze Age Collapse with Prof. Eric Cline   \n",
       "265   1635386687                 Mystery: Origin of \"Autolophagist\"   \n",
       "279   1635123728  Help remembering what Herodotus’ Histories boo...   \n",
       "290   1634842255                       History book recommendations   \n",
       "294   1634725733  Are there any polychrome reconstructions of st...   \n",
       "302   1634514459  Why are modern Greeks (on average) dark/tan wh...   \n",
       "318   1634044170      Any good books about Sophocles and his works?   \n",
       "321   1633915793         Thought and Philosophy through the Schools   \n",
       "325   1633864021  I have a question about morrison's book about ...   \n",
       "326   1633812932              How can I learn about Ancient Greece?   \n",
       "330   1633774570  Jason of Pherae - very interesting character a...   \n",
       "333   1633714271  Hello, I have a question about Persian prince ...   \n",
       "334   1633686988    I have a question about the Persian King Xerxes   \n",
       "339   1633500995  Brazen Bull Torture- instrument of torture dur...   \n",
       "345   1633266870  The Elongated skulls ancient egypt and Indecip...   \n",
       "357   1633106844  Ancient Greek sculpture styles in Terracotta W...   \n",
       "359   1633054441       History of Greek Intellectual Thought books?   \n",
       "372   1632797210          The DeFi project Theos on NFT marketplace   \n",
       "380   1632600451  Given the fashion standards of Ancient Greece,...   \n",
       "381   1632567462           Interview: The Bronze Lie with Myke Cole   \n",
       "395   1632114907  Looking for an ancient Greek play I heard a st...   \n",
       "399   1631982698  Best book(s) on the military history of Classi...   \n",
       "406   1631789740                 Movie/TV adaptations of the Illiad   \n",
       "407   1631772933                            Indirect Questions Help   \n",
       "411   1631719332  Looking for a collaborator for a novel series ...   \n",
       "412   1631700475                      Welcome to the Language Cafe!   \n",
       "421   1631617889                                Books about culture   \n",
       "422   1631593716                      Welcome to the Language Cafe!   \n",
       "428   1631356427                        The Greek Periphery, Sicily   \n",
       "431   1631189863  What were the area sizes and infrastructure of...   \n",
       "440   1630870928   Help me add the ancients to this interactive map   \n",
       "442   1630861468                Best Ancient History in Kephalonia?   \n",
       "464   1630353695                                  Attic Greek Texts   \n",
       "486   1630057715  Herodotus, the father of history or the father...   \n",
       "507   1629604743                                               Test   \n",
       "514   1629417857  Was military education egalitarian in 5th cent...   \n",
       "520   1629302885  Where/How did the crew of the ancient Greek sh...   \n",
       "522   1629271061  What is a repeatable event that you would want...   \n",
       "526   1629178611  Herodotus and your experience with the father ...   \n",
       "532   1629078191           What does this quote by Thucydides mean?   \n",
       "537   1629028719                               Pausanias' footsteps   \n",
       "541   1628877207  Which Gods Would've Been The Most Important to...   \n",
       "\n",
       "      selftext      subreddit  \n",
       "99   [removed]  ancientgreece  \n",
       "130  [removed]  ancientgreece  \n",
       "194  [removed]  ancientgreece  \n",
       "198  [removed]  ancientgreece  \n",
       "199  [removed]  ancientgreece  \n",
       "206  [removed]  ancientgreece  \n",
       "207  [removed]  ancientgreece  \n",
       "212  [removed]  ancientgreece  \n",
       "214  [removed]  ancientgreece  \n",
       "219  [removed]  ancientgreece  \n",
       "223  [removed]  ancientgreece  \n",
       "235  [removed]  ancientgreece  \n",
       "239  [removed]  ancientgreece  \n",
       "250  [removed]  ancientgreece  \n",
       "252  [removed]  ancientgreece  \n",
       "265  [removed]  ancientgreece  \n",
       "279  [removed]  ancientgreece  \n",
       "290  [removed]  ancientgreece  \n",
       "294  [removed]  ancientgreece  \n",
       "302  [removed]  ancientgreece  \n",
       "318  [removed]  ancientgreece  \n",
       "321  [removed]  ancientgreece  \n",
       "325  [removed]  ancientgreece  \n",
       "326  [removed]  ancientgreece  \n",
       "330  [removed]  ancientgreece  \n",
       "333  [removed]  ancientgreece  \n",
       "334  [removed]  ancientgreece  \n",
       "339  [removed]  ancientgreece  \n",
       "345  [removed]  ancientgreece  \n",
       "357  [removed]  ancientgreece  \n",
       "359  [removed]  ancientgreece  \n",
       "372  [removed]  ancientgreece  \n",
       "380  [removed]  ancientgreece  \n",
       "381  [removed]  ancientgreece  \n",
       "395  [removed]  ancientgreece  \n",
       "399  [removed]  ancientgreece  \n",
       "406  [removed]  ancientgreece  \n",
       "407  [removed]  ancientgreece  \n",
       "411  [removed]  ancientgreece  \n",
       "412  [removed]  ancientgreece  \n",
       "421  [removed]  ancientgreece  \n",
       "422  [removed]  ancientgreece  \n",
       "428  [removed]  ancientgreece  \n",
       "431  [removed]  ancientgreece  \n",
       "440  [removed]  ancientgreece  \n",
       "442  [removed]  ancientgreece  \n",
       "464  [removed]  ancientgreece  \n",
       "486  [removed]  ancientgreece  \n",
       "507  [removed]  ancientgreece  \n",
       "514  [removed]  ancientgreece  \n",
       "520  [removed]  ancientgreece  \n",
       "522  [removed]  ancientgreece  \n",
       "526  [removed]  ancientgreece  \n",
       "532  [removed]  ancientgreece  \n",
       "537  [removed]  ancientgreece  \n",
       "541  [removed]  ancientgreece  "
      ]
     },
     "execution_count": 19,
     "metadata": {},
     "output_type": "execute_result"
    }
   ],
   "source": [
    "# [removed] rows might still be kept, since many of them have informative text\n",
    "# in the `title` column\n",
    "\n",
    "#inspect [deleted] values\n",
    "reddit2[reddit2['selftext']=='[removed]'].head(56)"
   ]
  },
  {
   "cell_type": "code",
   "execution_count": 20,
   "id": "a6ad1460",
   "metadata": {
    "ExecuteTime": {
     "end_time": "2022-01-19T14:45:30.700872Z",
     "start_time": "2022-01-19T14:45:30.684788Z"
    },
    "scrolled": false
   },
   "outputs": [
    {
     "data": {
      "text/plain": [
       "created_utc       0\n",
       "title             0\n",
       "selftext       4336\n",
       "subreddit         0\n",
       "dtype: int64"
      ]
     },
     "execution_count": 20,
     "metadata": {},
     "output_type": "execute_result"
    }
   ],
   "source": [
    "# same as [removed], [deleted] can be kept due to useful titles\n",
    "reddit2.isnull().sum()"
   ]
  },
  {
   "cell_type": "code",
   "execution_count": 21,
   "id": "dd3ab37a",
   "metadata": {
    "ExecuteTime": {
     "end_time": "2022-01-19T14:45:30.735144Z",
     "start_time": "2022-01-19T14:45:30.700872Z"
    },
    "scrolled": false
   },
   "outputs": [
    {
     "data": {
      "text/html": [
       "<div>\n",
       "<style scoped>\n",
       "    .dataframe tbody tr th:only-of-type {\n",
       "        vertical-align: middle;\n",
       "    }\n",
       "\n",
       "    .dataframe tbody tr th {\n",
       "        vertical-align: top;\n",
       "    }\n",
       "\n",
       "    .dataframe thead th {\n",
       "        text-align: right;\n",
       "    }\n",
       "</style>\n",
       "<table border=\"1\" class=\"dataframe\">\n",
       "  <thead>\n",
       "    <tr style=\"text-align: right;\">\n",
       "      <th></th>\n",
       "      <th>created_utc</th>\n",
       "      <th>title</th>\n",
       "      <th>selftext</th>\n",
       "      <th>subreddit</th>\n",
       "    </tr>\n",
       "  </thead>\n",
       "  <tbody>\n",
       "    <tr>\n",
       "      <th>0</th>\n",
       "      <td>1641904278</td>\n",
       "      <td>Minoan girl chilling</td>\n",
       "      <td>NaN</td>\n",
       "      <td>ancientgreece</td>\n",
       "    </tr>\n",
       "    <tr>\n",
       "      <th>1</th>\n",
       "      <td>1641859463</td>\n",
       "      <td>Book Reccs for World Civ I</td>\n",
       "      <td>I’m looking for a book to review in my World C...</td>\n",
       "      <td>ancientgreece</td>\n",
       "    </tr>\n",
       "    <tr>\n",
       "      <th>3</th>\n",
       "      <td>1641832030</td>\n",
       "      <td>Dark Academia:A Level Ancient History- Athens ...</td>\n",
       "      <td>NaN</td>\n",
       "      <td>ancientgreece</td>\n",
       "    </tr>\n",
       "    <tr>\n",
       "      <th>5</th>\n",
       "      <td>1641767171</td>\n",
       "      <td>Samos: Greece's First Thalassocracy (2020) Tha...</td>\n",
       "      <td>NaN</td>\n",
       "      <td>ancientgreece</td>\n",
       "    </tr>\n",
       "    <tr>\n",
       "      <th>6</th>\n",
       "      <td>1641746350</td>\n",
       "      <td>Panel of the Ludovisi Throne depicting a woman...</td>\n",
       "      <td>NaN</td>\n",
       "      <td>ancientgreece</td>\n",
       "    </tr>\n",
       "    <tr>\n",
       "      <th>...</th>\n",
       "      <td>...</td>\n",
       "      <td>...</td>\n",
       "      <td>...</td>\n",
       "      <td>...</td>\n",
       "    </tr>\n",
       "    <tr>\n",
       "      <th>5987</th>\n",
       "      <td>1622749403</td>\n",
       "      <td>Books on the Crisis of the third century?</td>\n",
       "      <td>[deleted]</td>\n",
       "      <td>ancientrome</td>\n",
       "    </tr>\n",
       "    <tr>\n",
       "      <th>5988</th>\n",
       "      <td>1622748264</td>\n",
       "      <td>Roman Emperors Portrayed in Memes - Part 2</td>\n",
       "      <td>NaN</td>\n",
       "      <td>ancientrome</td>\n",
       "    </tr>\n",
       "    <tr>\n",
       "      <th>5989</th>\n",
       "      <td>1622747341</td>\n",
       "      <td>Well-preserved Roman theater In Guelma, Algeria</td>\n",
       "      <td>NaN</td>\n",
       "      <td>ancientrome</td>\n",
       "    </tr>\n",
       "    <tr>\n",
       "      <th>5990</th>\n",
       "      <td>1622747122</td>\n",
       "      <td>Roman Emperors Portrayed in Memes - Part 1</td>\n",
       "      <td>NaN</td>\n",
       "      <td>ancientrome</td>\n",
       "    </tr>\n",
       "    <tr>\n",
       "      <th>5991</th>\n",
       "      <td>1622745997</td>\n",
       "      <td>5 Weird Yet Glorious Ancient Roman Myths</td>\n",
       "      <td>NaN</td>\n",
       "      <td>ancientrome</td>\n",
       "    </tr>\n",
       "  </tbody>\n",
       "</table>\n",
       "<p>4585 rows × 4 columns</p>\n",
       "</div>"
      ],
      "text/plain": [
       "      created_utc                                              title  \\\n",
       "0      1641904278                               Minoan girl chilling   \n",
       "1      1641859463                         Book Reccs for World Civ I   \n",
       "3      1641832030  Dark Academia:A Level Ancient History- Athens ...   \n",
       "5      1641767171  Samos: Greece's First Thalassocracy (2020) Tha...   \n",
       "6      1641746350  Panel of the Ludovisi Throne depicting a woman...   \n",
       "...           ...                                                ...   \n",
       "5987   1622749403          Books on the Crisis of the third century?   \n",
       "5988   1622748264         Roman Emperors Portrayed in Memes - Part 2   \n",
       "5989   1622747341    Well-preserved Roman theater In Guelma, Algeria   \n",
       "5990   1622747122         Roman Emperors Portrayed in Memes - Part 1   \n",
       "5991   1622745997           5 Weird Yet Glorious Ancient Roman Myths   \n",
       "\n",
       "                                               selftext      subreddit  \n",
       "0                                                   NaN  ancientgreece  \n",
       "1     I’m looking for a book to review in my World C...  ancientgreece  \n",
       "3                                                   NaN  ancientgreece  \n",
       "5                                                   NaN  ancientgreece  \n",
       "6                                                   NaN  ancientgreece  \n",
       "...                                                 ...            ...  \n",
       "5987                                          [deleted]    ancientrome  \n",
       "5988                                                NaN    ancientrome  \n",
       "5989                                                NaN    ancientrome  \n",
       "5990                                                NaN    ancientrome  \n",
       "5991                                                NaN    ancientrome  \n",
       "\n",
       "[4585 rows x 4 columns]"
      ]
     },
     "execution_count": 21,
     "metadata": {},
     "output_type": "execute_result"
    }
   ],
   "source": [
    "# next check the duplicates, in the `selftext` column first\n",
    "reddit2[reddit2.duplicated(subset='selftext', keep=False)]"
   ]
  },
  {
   "cell_type": "code",
   "execution_count": 22,
   "id": "417cddfc",
   "metadata": {
    "ExecuteTime": {
     "end_time": "2022-01-19T14:45:30.771554Z",
     "start_time": "2022-01-19T14:45:30.735144Z"
    }
   },
   "outputs": [
    {
     "data": {
      "text/html": [
       "<div>\n",
       "<style scoped>\n",
       "    .dataframe tbody tr th:only-of-type {\n",
       "        vertical-align: middle;\n",
       "    }\n",
       "\n",
       "    .dataframe tbody tr th {\n",
       "        vertical-align: top;\n",
       "    }\n",
       "\n",
       "    .dataframe thead th {\n",
       "        text-align: right;\n",
       "    }\n",
       "</style>\n",
       "<table border=\"1\" class=\"dataframe\">\n",
       "  <thead>\n",
       "    <tr style=\"text-align: right;\">\n",
       "      <th></th>\n",
       "      <th>created_utc</th>\n",
       "      <th>title</th>\n",
       "      <th>selftext</th>\n",
       "      <th>subreddit</th>\n",
       "    </tr>\n",
       "  </thead>\n",
       "  <tbody>\n",
       "    <tr>\n",
       "      <th>1</th>\n",
       "      <td>1641859463</td>\n",
       "      <td>Book Reccs for World Civ I</td>\n",
       "      <td>I’m looking for a book to review in my World C...</td>\n",
       "      <td>ancientgreece</td>\n",
       "    </tr>\n",
       "    <tr>\n",
       "      <th>458</th>\n",
       "      <td>1630495670</td>\n",
       "      <td>Maybe Miss quoted By Author about Empedocles?</td>\n",
       "      <td>According to the book, Flora Unveiled: The Di...</td>\n",
       "      <td>ancientgreece</td>\n",
       "    </tr>\n",
       "    <tr>\n",
       "      <th>593</th>\n",
       "      <td>1627499196</td>\n",
       "      <td>Minecraft classical Olympics</td>\n",
       "      <td>Hello all! Just posting here to do a shameless...</td>\n",
       "      <td>ancientgreece</td>\n",
       "    </tr>\n",
       "    <tr>\n",
       "      <th>1230</th>\n",
       "      <td>1611993422</td>\n",
       "      <td>What did the Statue Of Zeus at Olympia look like?</td>\n",
       "      <td>Title</td>\n",
       "      <td>ancientgreece</td>\n",
       "    </tr>\n",
       "    <tr>\n",
       "      <th>1336</th>\n",
       "      <td>1609904477</td>\n",
       "      <td>Were red-colored foods taboo in Ancient Greece?</td>\n",
       "      <td>I was reading a book that referenced ‘The Whit...</td>\n",
       "      <td>ancientgreece</td>\n",
       "    </tr>\n",
       "    <tr>\n",
       "      <th>1337</th>\n",
       "      <td>1609904314</td>\n",
       "      <td>We’re red-colored foods taboo in Ancient Greece?</td>\n",
       "      <td>I was reading a book that referenced ‘The Whit...</td>\n",
       "      <td>ancientgreece</td>\n",
       "    </tr>\n",
       "    <tr>\n",
       "      <th>1474</th>\n",
       "      <td>1606676111</td>\n",
       "      <td>Does anyone know if Ancient Greece had tongue ...</td>\n",
       "      <td>If they did do you know what they are?</td>\n",
       "      <td>ancientgreece</td>\n",
       "    </tr>\n",
       "    <tr>\n",
       "      <th>1475</th>\n",
       "      <td>1606675961</td>\n",
       "      <td>Does anyone know if Ancient Greece had tongue ...</td>\n",
       "      <td>If they did do you know what they are?</td>\n",
       "      <td>ancientgreece</td>\n",
       "    </tr>\n",
       "    <tr>\n",
       "      <th>2024</th>\n",
       "      <td>1588924283</td>\n",
       "      <td>What type of juridical system did the Mycenaea...</td>\n",
       "      <td>\\nDid the Mycenaean stick with a primitive for...</td>\n",
       "      <td>ancientgreece</td>\n",
       "    </tr>\n",
       "    <tr>\n",
       "      <th>2025</th>\n",
       "      <td>1588924281</td>\n",
       "      <td>What type of juridical system did the Mycenaea...</td>\n",
       "      <td>\\nDid the Mycenaean stick with a primitive for...</td>\n",
       "      <td>ancientgreece</td>\n",
       "    </tr>\n",
       "    <tr>\n",
       "      <th>2026</th>\n",
       "      <td>1588924271</td>\n",
       "      <td>What type of juridical system did the Mycenaea...</td>\n",
       "      <td>\\nDid the Mycenaean stick with a primitive for...</td>\n",
       "      <td>ancientgreece</td>\n",
       "    </tr>\n",
       "    <tr>\n",
       "      <th>2266</th>\n",
       "      <td>1576776284</td>\n",
       "      <td>New SubReddit: r/HistoryScripts</td>\n",
       "      <td>In r/HistoryScripts, you write a tv show scrip...</td>\n",
       "      <td>ancientgreece</td>\n",
       "    </tr>\n",
       "    <tr>\n",
       "      <th>2267</th>\n",
       "      <td>1576714289</td>\n",
       "      <td>New SubReddit: r/HistoryScripts</td>\n",
       "      <td>In r/HistoryScripts, you write a tv show scrip...</td>\n",
       "      <td>ancientgreece</td>\n",
       "    </tr>\n",
       "    <tr>\n",
       "      <th>2290</th>\n",
       "      <td>1575426691</td>\n",
       "      <td>What was Xenophon's theory of leadership?</td>\n",
       "      <td>Title</td>\n",
       "      <td>ancientgreece</td>\n",
       "    </tr>\n",
       "    <tr>\n",
       "      <th>2997</th>\n",
       "      <td>1641859421</td>\n",
       "      <td>Book Reccs for World Civ I</td>\n",
       "      <td>I’m looking for a book to review in my World C...</td>\n",
       "      <td>ancientrome</td>\n",
       "    </tr>\n",
       "    <tr>\n",
       "      <th>3332</th>\n",
       "      <td>1639765589</td>\n",
       "      <td>Story of Spartacus (Final) Part 5</td>\n",
       "      <td>The victors’ reprisals against the captured re...</td>\n",
       "      <td>ancientrome</td>\n",
       "    </tr>\n",
       "    <tr>\n",
       "      <th>3333</th>\n",
       "      <td>1639765528</td>\n",
       "      <td>Story of Spartacus (Final) Part 5</td>\n",
       "      <td>The victors’ reprisals against the captured re...</td>\n",
       "      <td>ancientrome</td>\n",
       "    </tr>\n",
       "    <tr>\n",
       "      <th>3334</th>\n",
       "      <td>1639765512</td>\n",
       "      <td>Story of Spartacus (Final) Part 5</td>\n",
       "      <td>The victors’ reprisals against the captured re...</td>\n",
       "      <td>ancientrome</td>\n",
       "    </tr>\n",
       "    <tr>\n",
       "      <th>3442</th>\n",
       "      <td>1639129194</td>\n",
       "      <td>Any recommended chapters from Gibbon's the Dec...</td>\n",
       "      <td>Hi guys, first I want to apologize if I should...</td>\n",
       "      <td>ancientrome</td>\n",
       "    </tr>\n",
       "    <tr>\n",
       "      <th>3443</th>\n",
       "      <td>1639129131</td>\n",
       "      <td>Any recommended chapters from Gibbon's The Dec...</td>\n",
       "      <td>Hi guys, first I want to apologize if I should...</td>\n",
       "      <td>ancientrome</td>\n",
       "    </tr>\n",
       "    <tr>\n",
       "      <th>3551</th>\n",
       "      <td>1638592434</td>\n",
       "      <td>Question: So a Centurion led a 100 nan unit. D...</td>\n",
       "      <td>Title</td>\n",
       "      <td>ancientrome</td>\n",
       "    </tr>\n",
       "    <tr>\n",
       "      <th>4830</th>\n",
       "      <td>1630495769</td>\n",
       "      <td>Maybe Miss quoted By Author about Empedocles?</td>\n",
       "      <td>According to the book, Flora Unveiled: The Di...</td>\n",
       "      <td>ancientrome</td>\n",
       "    </tr>\n",
       "    <tr>\n",
       "      <th>4992</th>\n",
       "      <td>1629396984</td>\n",
       "      <td>Active canadian re enactment groups</td>\n",
       "      <td>So I'm on the east coast of Canada and I have ...</td>\n",
       "      <td>ancientrome</td>\n",
       "    </tr>\n",
       "    <tr>\n",
       "      <th>4993</th>\n",
       "      <td>1629396972</td>\n",
       "      <td>Active canadian re enactment groups</td>\n",
       "      <td>So I'm on the east coast of Canada and I have ...</td>\n",
       "      <td>ancientrome</td>\n",
       "    </tr>\n",
       "    <tr>\n",
       "      <th>5267</th>\n",
       "      <td>1627499120</td>\n",
       "      <td>Minecraft classical gladiatoral/olympic games</td>\n",
       "      <td>Hello all! Just posting here to do a shameless...</td>\n",
       "      <td>ancientrome</td>\n",
       "    </tr>\n",
       "    <tr>\n",
       "      <th>5555</th>\n",
       "      <td>1625475730</td>\n",
       "      <td>In Meditations by Marcus Aurelius, why doesn’t...</td>\n",
       "      <td>He quotes from several of Plato’s works, as we...</td>\n",
       "      <td>ancientrome</td>\n",
       "    </tr>\n",
       "    <tr>\n",
       "      <th>5556</th>\n",
       "      <td>1625475718</td>\n",
       "      <td>[Question] In Meditations by Marcus Aurelius, ...</td>\n",
       "      <td>He quotes from several of Plato’s works, as we...</td>\n",
       "      <td>ancientrome</td>\n",
       "    </tr>\n",
       "    <tr>\n",
       "      <th>5862</th>\n",
       "      <td>1623583863</td>\n",
       "      <td>Is it possible to get Julius / Augustus era co...</td>\n",
       "      <td>Title</td>\n",
       "      <td>ancientrome</td>\n",
       "    </tr>\n",
       "  </tbody>\n",
       "</table>\n",
       "</div>"
      ],
      "text/plain": [
       "      created_utc                                              title  \\\n",
       "1      1641859463                         Book Reccs for World Civ I   \n",
       "458    1630495670      Maybe Miss quoted By Author about Empedocles?   \n",
       "593    1627499196                       Minecraft classical Olympics   \n",
       "1230   1611993422  What did the Statue Of Zeus at Olympia look like?   \n",
       "1336   1609904477    Were red-colored foods taboo in Ancient Greece?   \n",
       "1337   1609904314   We’re red-colored foods taboo in Ancient Greece?   \n",
       "1474   1606676111  Does anyone know if Ancient Greece had tongue ...   \n",
       "1475   1606675961  Does anyone know if Ancient Greece had tongue ...   \n",
       "2024   1588924283  What type of juridical system did the Mycenaea...   \n",
       "2025   1588924281  What type of juridical system did the Mycenaea...   \n",
       "2026   1588924271  What type of juridical system did the Mycenaea...   \n",
       "2266   1576776284                    New SubReddit: r/HistoryScripts   \n",
       "2267   1576714289                    New SubReddit: r/HistoryScripts   \n",
       "2290   1575426691          What was Xenophon's theory of leadership?   \n",
       "2997   1641859421                         Book Reccs for World Civ I   \n",
       "3332   1639765589                  Story of Spartacus (Final) Part 5   \n",
       "3333   1639765528                  Story of Spartacus (Final) Part 5   \n",
       "3334   1639765512                  Story of Spartacus (Final) Part 5   \n",
       "3442   1639129194  Any recommended chapters from Gibbon's the Dec...   \n",
       "3443   1639129131  Any recommended chapters from Gibbon's The Dec...   \n",
       "3551   1638592434  Question: So a Centurion led a 100 nan unit. D...   \n",
       "4830   1630495769      Maybe Miss quoted By Author about Empedocles?   \n",
       "4992   1629396984                Active canadian re enactment groups   \n",
       "4993   1629396972                Active canadian re enactment groups   \n",
       "5267   1627499120      Minecraft classical gladiatoral/olympic games   \n",
       "5555   1625475730  In Meditations by Marcus Aurelius, why doesn’t...   \n",
       "5556   1625475718  [Question] In Meditations by Marcus Aurelius, ...   \n",
       "5862   1623583863  Is it possible to get Julius / Augustus era co...   \n",
       "\n",
       "                                               selftext      subreddit  \n",
       "1     I’m looking for a book to review in my World C...  ancientgreece  \n",
       "458    According to the book, Flora Unveiled: The Di...  ancientgreece  \n",
       "593   Hello all! Just posting here to do a shameless...  ancientgreece  \n",
       "1230                                              Title  ancientgreece  \n",
       "1336  I was reading a book that referenced ‘The Whit...  ancientgreece  \n",
       "1337  I was reading a book that referenced ‘The Whit...  ancientgreece  \n",
       "1474             If they did do you know what they are?  ancientgreece  \n",
       "1475             If they did do you know what they are?  ancientgreece  \n",
       "2024  \\nDid the Mycenaean stick with a primitive for...  ancientgreece  \n",
       "2025  \\nDid the Mycenaean stick with a primitive for...  ancientgreece  \n",
       "2026  \\nDid the Mycenaean stick with a primitive for...  ancientgreece  \n",
       "2266  In r/HistoryScripts, you write a tv show scrip...  ancientgreece  \n",
       "2267  In r/HistoryScripts, you write a tv show scrip...  ancientgreece  \n",
       "2290                                              Title  ancientgreece  \n",
       "2997  I’m looking for a book to review in my World C...    ancientrome  \n",
       "3332  The victors’ reprisals against the captured re...    ancientrome  \n",
       "3333  The victors’ reprisals against the captured re...    ancientrome  \n",
       "3334  The victors’ reprisals against the captured re...    ancientrome  \n",
       "3442  Hi guys, first I want to apologize if I should...    ancientrome  \n",
       "3443  Hi guys, first I want to apologize if I should...    ancientrome  \n",
       "3551                                              Title    ancientrome  \n",
       "4830   According to the book, Flora Unveiled: The Di...    ancientrome  \n",
       "4992  So I'm on the east coast of Canada and I have ...    ancientrome  \n",
       "4993  So I'm on the east coast of Canada and I have ...    ancientrome  \n",
       "5267  Hello all! Just posting here to do a shameless...    ancientrome  \n",
       "5555  He quotes from several of Plato’s works, as we...    ancientrome  \n",
       "5556  He quotes from several of Plato’s works, as we...    ancientrome  \n",
       "5862                                              Title    ancientrome  "
      ]
     },
     "execution_count": 22,
     "metadata": {},
     "output_type": "execute_result"
    }
   ],
   "source": [
    "# lots of missing values as duplicates. narrow down to text duplicates\n",
    "reddit2[(reddit2.duplicated(subset='selftext', keep=False)) &\n",
    "       (reddit2['selftext'].notna()) &\n",
    "       (reddit2['selftext']!='[removed]') &\n",
    "       (reddit2['selftext']!='[deleted]')]"
   ]
  },
  {
   "cell_type": "code",
   "execution_count": 23,
   "id": "19d3a41e",
   "metadata": {
    "ExecuteTime": {
     "end_time": "2022-01-19T14:45:30.806136Z",
     "start_time": "2022-01-19T14:45:30.771554Z"
    },
    "scrolled": false
   },
   "outputs": [
    {
     "data": {
      "text/html": [
       "<div>\n",
       "<style scoped>\n",
       "    .dataframe tbody tr th:only-of-type {\n",
       "        vertical-align: middle;\n",
       "    }\n",
       "\n",
       "    .dataframe tbody tr th {\n",
       "        vertical-align: top;\n",
       "    }\n",
       "\n",
       "    .dataframe thead th {\n",
       "        text-align: right;\n",
       "    }\n",
       "</style>\n",
       "<table border=\"1\" class=\"dataframe\">\n",
       "  <thead>\n",
       "    <tr style=\"text-align: right;\">\n",
       "      <th></th>\n",
       "      <th>created_utc</th>\n",
       "      <th>title</th>\n",
       "      <th>selftext</th>\n",
       "      <th>subreddit</th>\n",
       "    </tr>\n",
       "  </thead>\n",
       "  <tbody>\n",
       "    <tr>\n",
       "      <th>1</th>\n",
       "      <td>1641859463</td>\n",
       "      <td>Book Reccs for World Civ I</td>\n",
       "      <td>I’m looking for a book to review in my World C...</td>\n",
       "      <td>ancientgreece</td>\n",
       "    </tr>\n",
       "    <tr>\n",
       "      <th>98</th>\n",
       "      <td>1639394407</td>\n",
       "      <td>How well do you know Ancient Greece pt.1</td>\n",
       "      <td>Hello,heres  a quiz about Ancient Greece i ma...</td>\n",
       "      <td>ancientgreece</td>\n",
       "    </tr>\n",
       "    <tr>\n",
       "      <th>417</th>\n",
       "      <td>1631652527</td>\n",
       "      <td>Fight over Miletus</td>\n",
       "      <td>Hi everyone. I just had a quick question about...</td>\n",
       "      <td>ancientgreece</td>\n",
       "    </tr>\n",
       "    <tr>\n",
       "      <th>458</th>\n",
       "      <td>1630495670</td>\n",
       "      <td>Maybe Miss quoted By Author about Empedocles?</td>\n",
       "      <td>According to the book, Flora Unveiled: The Di...</td>\n",
       "      <td>ancientgreece</td>\n",
       "    </tr>\n",
       "    <tr>\n",
       "      <th>459</th>\n",
       "      <td>1630491829</td>\n",
       "      <td>Maybe Misscourted By Author about Empedocles?</td>\n",
       "      <td>According to the book, [Flora Unveiled](https...</td>\n",
       "      <td>ancientgreece</td>\n",
       "    </tr>\n",
       "    <tr>\n",
       "      <th>516</th>\n",
       "      <td>1629365112</td>\n",
       "      <td>Hi</td>\n",
       "      <td>Looking for information on ancient Greece and ...</td>\n",
       "      <td>ancientgreece</td>\n",
       "    </tr>\n",
       "    <tr>\n",
       "      <th>608</th>\n",
       "      <td>1627148326</td>\n",
       "      <td>YouTube Ancient History Day 2021 – Happening Now!</td>\n",
       "      <td>&amp;amp;#x200B;\\n\\nhttps://preview.redd.it/r8n0c4...</td>\n",
       "      <td>ancientgreece</td>\n",
       "    </tr>\n",
       "    <tr>\n",
       "      <th>717</th>\n",
       "      <td>1624771555</td>\n",
       "      <td>Which translation of \"History of the Peloponne...</td>\n",
       "      <td>I need it for a unit in my Stage 2 Ancient Hi...</td>\n",
       "      <td>ancientgreece</td>\n",
       "    </tr>\n",
       "    <tr>\n",
       "      <th>726</th>\n",
       "      <td>1624713907</td>\n",
       "      <td>Which translation of \"History of the Peloponne...</td>\n",
       "      <td>I need it for a unit in my Stage 2 Ancient His...</td>\n",
       "      <td>ancientgreece</td>\n",
       "    </tr>\n",
       "    <tr>\n",
       "      <th>842</th>\n",
       "      <td>1621832574</td>\n",
       "      <td>\"Night Journey\" Interpretation of Sophocles' O...</td>\n",
       "      <td>[https://www.youtube.com/watch?v=y9fHayWO9bo](...</td>\n",
       "      <td>ancientgreece</td>\n",
       "    </tr>\n",
       "    <tr>\n",
       "      <th>1072</th>\n",
       "      <td>1617311375</td>\n",
       "      <td>Need help with finding info about the layout o...</td>\n",
       "      <td>&amp;amp;#x200B;\\n\\nhttps://preview.redd.it/2g93cr...</td>\n",
       "      <td>ancientgreece</td>\n",
       "    </tr>\n",
       "    <tr>\n",
       "      <th>1073</th>\n",
       "      <td>1617311189</td>\n",
       "      <td>Need help with finding info about the layout o...</td>\n",
       "      <td>&amp;amp;#x200B;\\n\\n*Processing img vjhmjqzlkmq61...*</td>\n",
       "      <td>ancientgreece</td>\n",
       "    </tr>\n",
       "    <tr>\n",
       "      <th>1183</th>\n",
       "      <td>1613231821</td>\n",
       "      <td>Did the mythical city of Troy really exist?</td>\n",
       "      <td>Some 3000 years ago, the ancient Greek poet Ho...</td>\n",
       "      <td>ancientgreece</td>\n",
       "    </tr>\n",
       "    <tr>\n",
       "      <th>1222</th>\n",
       "      <td>1612202834</td>\n",
       "      <td>Pheidias – The Great Ancient Greek Sculptor</td>\n",
       "      <td>\\n\\nPhidias/Pheidias, (c. 490–430 BCE), was ...</td>\n",
       "      <td>ancientgreece</td>\n",
       "    </tr>\n",
       "    <tr>\n",
       "      <th>1474</th>\n",
       "      <td>1606676111</td>\n",
       "      <td>Does anyone know if Ancient Greece had tongue ...</td>\n",
       "      <td>If they did do you know what they are?</td>\n",
       "      <td>ancientgreece</td>\n",
       "    </tr>\n",
       "    <tr>\n",
       "      <th>1475</th>\n",
       "      <td>1606675961</td>\n",
       "      <td>Does anyone know if Ancient Greece had tongue ...</td>\n",
       "      <td>If they did do you know what they are?</td>\n",
       "      <td>ancientgreece</td>\n",
       "    </tr>\n",
       "    <tr>\n",
       "      <th>1510</th>\n",
       "      <td>1606013788</td>\n",
       "      <td>Does any one know these poems by the classical...</td>\n",
       "      <td>Does any one know these poems by the classical...</td>\n",
       "      <td>ancientgreece</td>\n",
       "    </tr>\n",
       "    <tr>\n",
       "      <th>1554</th>\n",
       "      <td>1604890675</td>\n",
       "      <td>Does any one know these poems by the classical...</td>\n",
       "      <td>Does any one know these poems by  the classica...</td>\n",
       "      <td>ancientgreece</td>\n",
       "    </tr>\n",
       "    <tr>\n",
       "      <th>2024</th>\n",
       "      <td>1588924283</td>\n",
       "      <td>What type of juridical system did the Mycenaea...</td>\n",
       "      <td>\\nDid the Mycenaean stick with a primitive for...</td>\n",
       "      <td>ancientgreece</td>\n",
       "    </tr>\n",
       "    <tr>\n",
       "      <th>2025</th>\n",
       "      <td>1588924281</td>\n",
       "      <td>What type of juridical system did the Mycenaea...</td>\n",
       "      <td>\\nDid the Mycenaean stick with a primitive for...</td>\n",
       "      <td>ancientgreece</td>\n",
       "    </tr>\n",
       "    <tr>\n",
       "      <th>2026</th>\n",
       "      <td>1588924271</td>\n",
       "      <td>What type of juridical system did the Mycenaea...</td>\n",
       "      <td>\\nDid the Mycenaean stick with a primitive for...</td>\n",
       "      <td>ancientgreece</td>\n",
       "    </tr>\n",
       "    <tr>\n",
       "      <th>2266</th>\n",
       "      <td>1576776284</td>\n",
       "      <td>New SubReddit: r/HistoryScripts</td>\n",
       "      <td>In r/HistoryScripts, you write a tv show scrip...</td>\n",
       "      <td>ancientgreece</td>\n",
       "    </tr>\n",
       "    <tr>\n",
       "      <th>2267</th>\n",
       "      <td>1576714289</td>\n",
       "      <td>New SubReddit: r/HistoryScripts</td>\n",
       "      <td>In r/HistoryScripts, you write a tv show scrip...</td>\n",
       "      <td>ancientgreece</td>\n",
       "    </tr>\n",
       "    <tr>\n",
       "      <th>2363</th>\n",
       "      <td>1570396577</td>\n",
       "      <td>Second Temple of Hera, Poseidonia, Magna Graec...</td>\n",
       "      <td>Otherwise known as Paestum, southern Italy, in...</td>\n",
       "      <td>ancientgreece</td>\n",
       "    </tr>\n",
       "    <tr>\n",
       "      <th>2762</th>\n",
       "      <td>1543230158</td>\n",
       "      <td>Landing at Lade</td>\n",
       "      <td>&amp;amp;#x200B;\\n\\n[ \\\\\"In desperation, they watc...</td>\n",
       "      <td>ancientgreece</td>\n",
       "    </tr>\n",
       "    <tr>\n",
       "      <th>2799</th>\n",
       "      <td>1540987773</td>\n",
       "      <td>Distinguishing between different Homeric oral ...</td>\n",
       "      <td>I have developed a theory about the Iliad and ...</td>\n",
       "      <td>ancientgreece</td>\n",
       "    </tr>\n",
       "    <tr>\n",
       "      <th>2801</th>\n",
       "      <td>1540969926</td>\n",
       "      <td>Distinguishing between different Homeric oral ...</td>\n",
       "      <td>I have developed a theory about the Iliad and ...</td>\n",
       "      <td>ancientgreece</td>\n",
       "    </tr>\n",
       "    <tr>\n",
       "      <th>2846</th>\n",
       "      <td>1536736181</td>\n",
       "      <td>Charges against Socrates</td>\n",
       "      <td>According to '*The Hemlock Cup*', when Meletus...</td>\n",
       "      <td>ancientgreece</td>\n",
       "    </tr>\n",
       "    <tr>\n",
       "      <th>2890</th>\n",
       "      <td>1533825330</td>\n",
       "      <td>Book recommendations?</td>\n",
       "      <td>Can anyone recommend a book that covers the ti...</td>\n",
       "      <td>ancientgreece</td>\n",
       "    </tr>\n",
       "    <tr>\n",
       "      <th>2997</th>\n",
       "      <td>1641859421</td>\n",
       "      <td>Book Reccs for World Civ I</td>\n",
       "      <td>I’m looking for a book to review in my World C...</td>\n",
       "      <td>ancientrome</td>\n",
       "    </tr>\n",
       "    <tr>\n",
       "      <th>3137</th>\n",
       "      <td>1640967136</td>\n",
       "      <td>In memory of the \"Roman Hercules\", that is the...</td>\n",
       "      <td>https://youtu.be/HfutmFsb-iw</td>\n",
       "      <td>ancientrome</td>\n",
       "    </tr>\n",
       "    <tr>\n",
       "      <th>3332</th>\n",
       "      <td>1639765589</td>\n",
       "      <td>Story of Spartacus (Final) Part 5</td>\n",
       "      <td>The victors’ reprisals against the captured re...</td>\n",
       "      <td>ancientrome</td>\n",
       "    </tr>\n",
       "    <tr>\n",
       "      <th>3333</th>\n",
       "      <td>1639765528</td>\n",
       "      <td>Story of Spartacus (Final) Part 5</td>\n",
       "      <td>The victors’ reprisals against the captured re...</td>\n",
       "      <td>ancientrome</td>\n",
       "    </tr>\n",
       "    <tr>\n",
       "      <th>3334</th>\n",
       "      <td>1639765512</td>\n",
       "      <td>Story of Spartacus (Final) Part 5</td>\n",
       "      <td>The victors’ reprisals against the captured re...</td>\n",
       "      <td>ancientrome</td>\n",
       "    </tr>\n",
       "    <tr>\n",
       "      <th>3582</th>\n",
       "      <td>1638407275</td>\n",
       "      <td>Who wrote the best translation of The Aeneid?</td>\n",
       "      <td>I want to purchase a copy of Virgil's Aeneid b...</td>\n",
       "      <td>ancientrome</td>\n",
       "    </tr>\n",
       "    <tr>\n",
       "      <th>3924</th>\n",
       "      <td>1636082361</td>\n",
       "      <td>Artbreeder Reconstruction of \"Bust of Youth At...</td>\n",
       "      <td>Artbreeder Reconstruction of \"Bust of Youth At...</td>\n",
       "      <td>ancientrome</td>\n",
       "    </tr>\n",
       "    <tr>\n",
       "      <th>4024</th>\n",
       "      <td>1635501664</td>\n",
       "      <td>Ancient city of Djemila, Setif, Algeria,Founde...</td>\n",
       "      <td>&amp;amp;#x200B;\\n\\nhttps://preview.redd.it/u1vpdj...</td>\n",
       "      <td>ancientrome</td>\n",
       "    </tr>\n",
       "    <tr>\n",
       "      <th>4507</th>\n",
       "      <td>1632674749</td>\n",
       "      <td>Religious Tolerance and the Twilight of the An...</td>\n",
       "      <td>This upcoming [lecture](https://www.ascsa.edu....</td>\n",
       "      <td>ancientrome</td>\n",
       "    </tr>\n",
       "    <tr>\n",
       "      <th>4774</th>\n",
       "      <td>1630879002</td>\n",
       "      <td>Book recommendations?</td>\n",
       "      <td>I was about to buy Mary beards latest to go ov...</td>\n",
       "      <td>ancientrome</td>\n",
       "    </tr>\n",
       "    <tr>\n",
       "      <th>4830</th>\n",
       "      <td>1630495769</td>\n",
       "      <td>Maybe Miss quoted By Author about Empedocles?</td>\n",
       "      <td>According to the book, Flora Unveiled: The Di...</td>\n",
       "      <td>ancientrome</td>\n",
       "    </tr>\n",
       "    <tr>\n",
       "      <th>4831</th>\n",
       "      <td>1630494233</td>\n",
       "      <td>Maybe Misscourted By Author about Empedocles?</td>\n",
       "      <td>\\n\\nAccording to the book, [Flora Unveiled](h...</td>\n",
       "      <td>ancientrome</td>\n",
       "    </tr>\n",
       "    <tr>\n",
       "      <th>4884</th>\n",
       "      <td>1630101818</td>\n",
       "      <td>Who wrote the best translation of The Aeneid?</td>\n",
       "      <td>Fitzgerald or Fagles? \\n\\nI want to purchase a...</td>\n",
       "      <td>ancientrome</td>\n",
       "    </tr>\n",
       "    <tr>\n",
       "      <th>4944</th>\n",
       "      <td>1629714319</td>\n",
       "      <td>Which Roman era would make a good show/movie?</td>\n",
       "      <td>I removed the Imperatorial &amp;amp; Julio-Claudia...</td>\n",
       "      <td>ancientrome</td>\n",
       "    </tr>\n",
       "    <tr>\n",
       "      <th>4945</th>\n",
       "      <td>1629714103</td>\n",
       "      <td>Which Roman era would make a good show/movie?</td>\n",
       "      <td>I removed the Imperatorial &amp;amp; Julio-Claudia...</td>\n",
       "      <td>ancientrome</td>\n",
       "    </tr>\n",
       "    <tr>\n",
       "      <th>4992</th>\n",
       "      <td>1629396984</td>\n",
       "      <td>Active canadian re enactment groups</td>\n",
       "      <td>So I'm on the east coast of Canada and I have ...</td>\n",
       "      <td>ancientrome</td>\n",
       "    </tr>\n",
       "    <tr>\n",
       "      <th>4993</th>\n",
       "      <td>1629396972</td>\n",
       "      <td>Active canadian re enactment groups</td>\n",
       "      <td>So I'm on the east coast of Canada and I have ...</td>\n",
       "      <td>ancientrome</td>\n",
       "    </tr>\n",
       "    <tr>\n",
       "      <th>4997</th>\n",
       "      <td>1629366965</td>\n",
       "      <td>Hi</td>\n",
       "      <td>I am looking to learn more about the Imperial ...</td>\n",
       "      <td>ancientrome</td>\n",
       "    </tr>\n",
       "    <tr>\n",
       "      <th>5065</th>\n",
       "      <td>1629046233</td>\n",
       "      <td>Ancient forgery imitating Hadrian's HISPANIA d...</td>\n",
       "      <td>&amp;amp;#x200B;\\n\\nhttps://preview.redd.it/5fcn04...</td>\n",
       "      <td>ancientrome</td>\n",
       "    </tr>\n",
       "    <tr>\n",
       "      <th>5066</th>\n",
       "      <td>1629045223</td>\n",
       "      <td>Ancient forgery imitating Hadrian's HISPANIA d...</td>\n",
       "      <td>&amp;amp;#x200B;\\n\\nhttps://preview.redd.it/wk9gjw...</td>\n",
       "      <td>ancientrome</td>\n",
       "    </tr>\n",
       "    <tr>\n",
       "      <th>5069</th>\n",
       "      <td>1629034238</td>\n",
       "      <td>Ancient city of Djemila, Sétif, Algeria.</td>\n",
       "      <td>&amp;amp;#x200B;\\n\\nhttps://preview.redd.it/frzfud...</td>\n",
       "      <td>ancientrome</td>\n",
       "    </tr>\n",
       "    <tr>\n",
       "      <th>5110</th>\n",
       "      <td>1628754026</td>\n",
       "      <td>One for Scipio and Hannibal fans...</td>\n",
       "      <td>Hi Roman history fans, \\n\\nIt's time for Carth...</td>\n",
       "      <td>ancientrome</td>\n",
       "    </tr>\n",
       "    <tr>\n",
       "      <th>5304</th>\n",
       "      <td>1627148141</td>\n",
       "      <td>YouTube Ancient History Day 2021 – Happening Now!</td>\n",
       "      <td>&amp;amp;#x200B;\\n\\nIf you are into ancient histor...</td>\n",
       "      <td>ancientrome</td>\n",
       "    </tr>\n",
       "    <tr>\n",
       "      <th>5362</th>\n",
       "      <td>1626783318</td>\n",
       "      <td>TABULA TRAIANA, an ancient plaque commemoratin...</td>\n",
       "      <td>Is it really ancient, or a modern recreation o...</td>\n",
       "      <td>ancientrome</td>\n",
       "    </tr>\n",
       "    <tr>\n",
       "      <th>5511</th>\n",
       "      <td>1625726572</td>\n",
       "      <td>The 'Gladius' of Tiberius</td>\n",
       "      <td>The so-called Sword of Tiberius It perfectly e...</td>\n",
       "      <td>ancientrome</td>\n",
       "    </tr>\n",
       "    <tr>\n",
       "      <th>5555</th>\n",
       "      <td>1625475730</td>\n",
       "      <td>In Meditations by Marcus Aurelius, why doesn’t...</td>\n",
       "      <td>He quotes from several of Plato’s works, as we...</td>\n",
       "      <td>ancientrome</td>\n",
       "    </tr>\n",
       "  </tbody>\n",
       "</table>\n",
       "</div>"
      ],
      "text/plain": [
       "      created_utc                                              title  \\\n",
       "1      1641859463                         Book Reccs for World Civ I   \n",
       "98     1639394407           How well do you know Ancient Greece pt.1   \n",
       "417    1631652527                                 Fight over Miletus   \n",
       "458    1630495670      Maybe Miss quoted By Author about Empedocles?   \n",
       "459    1630491829      Maybe Misscourted By Author about Empedocles?   \n",
       "516    1629365112                                                 Hi   \n",
       "608    1627148326  YouTube Ancient History Day 2021 – Happening Now!   \n",
       "717    1624771555  Which translation of \"History of the Peloponne...   \n",
       "726    1624713907  Which translation of \"History of the Peloponne...   \n",
       "842    1621832574  \"Night Journey\" Interpretation of Sophocles' O...   \n",
       "1072   1617311375  Need help with finding info about the layout o...   \n",
       "1073   1617311189  Need help with finding info about the layout o...   \n",
       "1183   1613231821        Did the mythical city of Troy really exist?   \n",
       "1222   1612202834        Pheidias – The Great Ancient Greek Sculptor   \n",
       "1474   1606676111  Does anyone know if Ancient Greece had tongue ...   \n",
       "1475   1606675961  Does anyone know if Ancient Greece had tongue ...   \n",
       "1510   1606013788  Does any one know these poems by the classical...   \n",
       "1554   1604890675  Does any one know these poems by the classical...   \n",
       "2024   1588924283  What type of juridical system did the Mycenaea...   \n",
       "2025   1588924281  What type of juridical system did the Mycenaea...   \n",
       "2026   1588924271  What type of juridical system did the Mycenaea...   \n",
       "2266   1576776284                    New SubReddit: r/HistoryScripts   \n",
       "2267   1576714289                    New SubReddit: r/HistoryScripts   \n",
       "2363   1570396577  Second Temple of Hera, Poseidonia, Magna Graec...   \n",
       "2762   1543230158                                    Landing at Lade   \n",
       "2799   1540987773  Distinguishing between different Homeric oral ...   \n",
       "2801   1540969926  Distinguishing between different Homeric oral ...   \n",
       "2846   1536736181                           Charges against Socrates   \n",
       "2890   1533825330                              Book recommendations?   \n",
       "2997   1641859421                         Book Reccs for World Civ I   \n",
       "3137   1640967136  In memory of the \"Roman Hercules\", that is the...   \n",
       "3332   1639765589                  Story of Spartacus (Final) Part 5   \n",
       "3333   1639765528                  Story of Spartacus (Final) Part 5   \n",
       "3334   1639765512                  Story of Spartacus (Final) Part 5   \n",
       "3582   1638407275      Who wrote the best translation of The Aeneid?   \n",
       "3924   1636082361  Artbreeder Reconstruction of \"Bust of Youth At...   \n",
       "4024   1635501664  Ancient city of Djemila, Setif, Algeria,Founde...   \n",
       "4507   1632674749  Religious Tolerance and the Twilight of the An...   \n",
       "4774   1630879002                              Book recommendations?   \n",
       "4830   1630495769      Maybe Miss quoted By Author about Empedocles?   \n",
       "4831   1630494233      Maybe Misscourted By Author about Empedocles?   \n",
       "4884   1630101818      Who wrote the best translation of The Aeneid?   \n",
       "4944   1629714319      Which Roman era would make a good show/movie?   \n",
       "4945   1629714103      Which Roman era would make a good show/movie?   \n",
       "4992   1629396984                Active canadian re enactment groups   \n",
       "4993   1629396972                Active canadian re enactment groups   \n",
       "4997   1629366965                                                 Hi   \n",
       "5065   1629046233  Ancient forgery imitating Hadrian's HISPANIA d...   \n",
       "5066   1629045223  Ancient forgery imitating Hadrian's HISPANIA d...   \n",
       "5069   1629034238           Ancient city of Djemila, Sétif, Algeria.   \n",
       "5110   1628754026                One for Scipio and Hannibal fans...   \n",
       "5304   1627148141  YouTube Ancient History Day 2021 – Happening Now!   \n",
       "5362   1626783318  TABULA TRAIANA, an ancient plaque commemoratin...   \n",
       "5511   1625726572                          The 'Gladius' of Tiberius   \n",
       "5555   1625475730  In Meditations by Marcus Aurelius, why doesn’t...   \n",
       "\n",
       "                                               selftext      subreddit  \n",
       "1     I’m looking for a book to review in my World C...  ancientgreece  \n",
       "98     Hello,heres  a quiz about Ancient Greece i ma...  ancientgreece  \n",
       "417   Hi everyone. I just had a quick question about...  ancientgreece  \n",
       "458    According to the book, Flora Unveiled: The Di...  ancientgreece  \n",
       "459    According to the book, [Flora Unveiled](https...  ancientgreece  \n",
       "516   Looking for information on ancient Greece and ...  ancientgreece  \n",
       "608   &amp;#x200B;\\n\\nhttps://preview.redd.it/r8n0c4...  ancientgreece  \n",
       "717    I need it for a unit in my Stage 2 Ancient Hi...  ancientgreece  \n",
       "726   I need it for a unit in my Stage 2 Ancient His...  ancientgreece  \n",
       "842   [https://www.youtube.com/watch?v=y9fHayWO9bo](...  ancientgreece  \n",
       "1072  &amp;#x200B;\\n\\nhttps://preview.redd.it/2g93cr...  ancientgreece  \n",
       "1073  &amp;#x200B;\\n\\n*Processing img vjhmjqzlkmq61...*  ancientgreece  \n",
       "1183  Some 3000 years ago, the ancient Greek poet Ho...  ancientgreece  \n",
       "1222    \\n\\nPhidias/Pheidias, (c. 490–430 BCE), was ...  ancientgreece  \n",
       "1474             If they did do you know what they are?  ancientgreece  \n",
       "1475             If they did do you know what they are?  ancientgreece  \n",
       "1510  Does any one know these poems by the classical...  ancientgreece  \n",
       "1554  Does any one know these poems by  the classica...  ancientgreece  \n",
       "2024  \\nDid the Mycenaean stick with a primitive for...  ancientgreece  \n",
       "2025  \\nDid the Mycenaean stick with a primitive for...  ancientgreece  \n",
       "2026  \\nDid the Mycenaean stick with a primitive for...  ancientgreece  \n",
       "2266  In r/HistoryScripts, you write a tv show scrip...  ancientgreece  \n",
       "2267  In r/HistoryScripts, you write a tv show scrip...  ancientgreece  \n",
       "2363  Otherwise known as Paestum, southern Italy, in...  ancientgreece  \n",
       "2762  &amp;#x200B;\\n\\n[ \\\\\"In desperation, they watc...  ancientgreece  \n",
       "2799  I have developed a theory about the Iliad and ...  ancientgreece  \n",
       "2801  I have developed a theory about the Iliad and ...  ancientgreece  \n",
       "2846  According to '*The Hemlock Cup*', when Meletus...  ancientgreece  \n",
       "2890  Can anyone recommend a book that covers the ti...  ancientgreece  \n",
       "2997  I’m looking for a book to review in my World C...    ancientrome  \n",
       "3137                       https://youtu.be/HfutmFsb-iw    ancientrome  \n",
       "3332  The victors’ reprisals against the captured re...    ancientrome  \n",
       "3333  The victors’ reprisals against the captured re...    ancientrome  \n",
       "3334  The victors’ reprisals against the captured re...    ancientrome  \n",
       "3582  I want to purchase a copy of Virgil's Aeneid b...    ancientrome  \n",
       "3924  Artbreeder Reconstruction of \"Bust of Youth At...    ancientrome  \n",
       "4024  &amp;#x200B;\\n\\nhttps://preview.redd.it/u1vpdj...    ancientrome  \n",
       "4507  This upcoming [lecture](https://www.ascsa.edu....    ancientrome  \n",
       "4774  I was about to buy Mary beards latest to go ov...    ancientrome  \n",
       "4830   According to the book, Flora Unveiled: The Di...    ancientrome  \n",
       "4831   \\n\\nAccording to the book, [Flora Unveiled](h...    ancientrome  \n",
       "4884  Fitzgerald or Fagles? \\n\\nI want to purchase a...    ancientrome  \n",
       "4944  I removed the Imperatorial &amp; Julio-Claudia...    ancientrome  \n",
       "4945  I removed the Imperatorial &amp; Julio-Claudia...    ancientrome  \n",
       "4992  So I'm on the east coast of Canada and I have ...    ancientrome  \n",
       "4993  So I'm on the east coast of Canada and I have ...    ancientrome  \n",
       "4997  I am looking to learn more about the Imperial ...    ancientrome  \n",
       "5065  &amp;#x200B;\\n\\nhttps://preview.redd.it/5fcn04...    ancientrome  \n",
       "5066  &amp;#x200B;\\n\\nhttps://preview.redd.it/wk9gjw...    ancientrome  \n",
       "5069  &amp;#x200B;\\n\\nhttps://preview.redd.it/frzfud...    ancientrome  \n",
       "5110  Hi Roman history fans, \\n\\nIt's time for Carth...    ancientrome  \n",
       "5304  &amp;#x200B;\\n\\nIf you are into ancient histor...    ancientrome  \n",
       "5362  Is it really ancient, or a modern recreation o...    ancientrome  \n",
       "5511  The so-called Sword of Tiberius It perfectly e...    ancientrome  \n",
       "5555  He quotes from several of Plato’s works, as we...    ancientrome  "
      ]
     },
     "execution_count": 23,
     "metadata": {},
     "output_type": "execute_result"
    }
   ],
   "source": [
    "#after a thorough inspection, most of the duplicates are word-for-word, and \n",
    "# one copy can be dropped\n",
    "\n",
    "# check 'title' column duplicates\n",
    "reddit2[(reddit2.duplicated(subset='title', keep=False)) &\n",
    "       (reddit2['selftext'].notna()) &\n",
    "       (reddit2['selftext']!='[removed]') &\n",
    "       (reddit2['selftext']!='[deleted]')]"
   ]
  },
  {
   "cell_type": "code",
   "execution_count": 24,
   "id": "6761ec33",
   "metadata": {
    "ExecuteTime": {
     "end_time": "2022-01-19T14:45:30.824144Z",
     "start_time": "2022-01-19T14:45:30.808696Z"
    }
   },
   "outputs": [
    {
     "name": "stdout",
     "output_type": "stream",
     "text": [
      "title duplicates 194\n"
     ]
    }
   ],
   "source": [
    "# same as the 'selftext' - the duplicates can be dropped\n",
    "\n",
    "# check the numbers\n",
    "print('title duplicates',reddit2.duplicated(subset=[\n",
    "     'title']).sum())"
   ]
  },
  {
   "cell_type": "code",
   "execution_count": 25,
   "id": "dc4a89ed",
   "metadata": {
    "ExecuteTime": {
     "end_time": "2022-01-19T14:45:30.844910Z",
     "start_time": "2022-01-19T14:45:30.824144Z"
    }
   },
   "outputs": [
    {
     "data": {
      "text/plain": [
       "created_utc       0\n",
       "title             0\n",
       "selftext       4336\n",
       "subreddit         0\n",
       "dtype: int64"
      ]
     },
     "execution_count": 25,
     "metadata": {},
     "output_type": "execute_result"
    }
   ],
   "source": [
    "reddit2.isnull().sum()"
   ]
  },
  {
   "cell_type": "code",
   "execution_count": 26,
   "id": "c0912b45",
   "metadata": {
    "ExecuteTime": {
     "end_time": "2022-01-19T14:45:30.854013Z",
     "start_time": "2022-01-19T14:45:30.844910Z"
    }
   },
   "outputs": [
    {
     "data": {
      "text/plain": [
       "(5992, 4)"
      ]
     },
     "execution_count": 26,
     "metadata": {},
     "output_type": "execute_result"
    }
   ],
   "source": [
    "#check the numbers\n",
    "reddit2.shape"
   ]
  },
  {
   "cell_type": "code",
   "execution_count": 27,
   "id": "344153c4",
   "metadata": {
    "ExecuteTime": {
     "end_time": "2022-01-19T14:45:30.881512Z",
     "start_time": "2022-01-19T14:45:30.862070Z"
    }
   },
   "outputs": [],
   "source": [
    "# drop the title duplicates (this will also drop the 1 'time created' duplicate)\n",
    "reddit2.drop_duplicates(subset=['title'], inplace=True,\n",
    "                       ignore_index=True)\n",
    "\n",
    "# drop the selftext duplicates, but not nan duplicates\n",
    "reddit2 = reddit2[(~reddit2['selftext'].duplicated()) |\n",
    "                  reddit2['selftext'].isna()]"
   ]
  },
  {
   "cell_type": "code",
   "execution_count": 28,
   "id": "b8e9d3a5",
   "metadata": {
    "ExecuteTime": {
     "end_time": "2022-01-19T14:45:30.904856Z",
     "start_time": "2022-01-19T14:45:30.881512Z"
    }
   },
   "outputs": [
    {
     "data": {
      "text/html": [
       "<div>\n",
       "<style scoped>\n",
       "    .dataframe tbody tr th:only-of-type {\n",
       "        vertical-align: middle;\n",
       "    }\n",
       "\n",
       "    .dataframe tbody tr th {\n",
       "        vertical-align: top;\n",
       "    }\n",
       "\n",
       "    .dataframe thead th {\n",
       "        text-align: right;\n",
       "    }\n",
       "</style>\n",
       "<table border=\"1\" class=\"dataframe\">\n",
       "  <thead>\n",
       "    <tr style=\"text-align: right;\">\n",
       "      <th></th>\n",
       "      <th>subreddit</th>\n",
       "      <th>txt_count_notna</th>\n",
       "    </tr>\n",
       "  </thead>\n",
       "  <tbody>\n",
       "    <tr>\n",
       "      <th>0</th>\n",
       "      <td>ancientgreece</td>\n",
       "      <td>651</td>\n",
       "    </tr>\n",
       "    <tr>\n",
       "      <th>1</th>\n",
       "      <td>ancientrome</td>\n",
       "      <td>748</td>\n",
       "    </tr>\n",
       "  </tbody>\n",
       "</table>\n",
       "</div>"
      ],
      "text/plain": [
       "       subreddit  txt_count_notna\n",
       "0  ancientgreece              651\n",
       "1    ancientrome              748"
      ]
     },
     "execution_count": 28,
     "metadata": {},
     "output_type": "execute_result"
    }
   ],
   "source": [
    "# after all the work, how many non-nan self-text values do we have\n",
    "# for each subreddit\n",
    "reddit2[reddit2['selftext'].notna()].groupby('subreddit')['created_utc'\n",
    "        ].count().reset_index().rename(columns={'created_utc':'txt_count_notna'})"
   ]
  },
  {
   "cell_type": "code",
   "execution_count": 29,
   "id": "c77462e5",
   "metadata": {
    "ExecuteTime": {
     "end_time": "2022-01-19T14:45:30.920653Z",
     "start_time": "2022-01-19T14:45:30.904856Z"
    }
   },
   "outputs": [
    {
     "data": {
      "text/html": [
       "<div>\n",
       "<style scoped>\n",
       "    .dataframe tbody tr th:only-of-type {\n",
       "        vertical-align: middle;\n",
       "    }\n",
       "\n",
       "    .dataframe tbody tr th {\n",
       "        vertical-align: top;\n",
       "    }\n",
       "\n",
       "    .dataframe thead th {\n",
       "        text-align: right;\n",
       "    }\n",
       "</style>\n",
       "<table border=\"1\" class=\"dataframe\">\n",
       "  <thead>\n",
       "    <tr style=\"text-align: right;\">\n",
       "      <th></th>\n",
       "      <th>created_utc</th>\n",
       "      <th>title</th>\n",
       "      <th>selftext</th>\n",
       "      <th>subreddit</th>\n",
       "    </tr>\n",
       "  </thead>\n",
       "  <tbody>\n",
       "    <tr>\n",
       "      <th>0</th>\n",
       "      <td>1641904278</td>\n",
       "      <td>Minoan girl chilling</td>\n",
       "      <td>NaN</td>\n",
       "      <td>ancientgreece</td>\n",
       "    </tr>\n",
       "    <tr>\n",
       "      <th>1</th>\n",
       "      <td>1641859463</td>\n",
       "      <td>Book Reccs for World Civ I</td>\n",
       "      <td>I’m looking for a book to review in my World C...</td>\n",
       "      <td>ancientgreece</td>\n",
       "    </tr>\n",
       "    <tr>\n",
       "      <th>2</th>\n",
       "      <td>1641837949</td>\n",
       "      <td>I've started a supplementary twitch stream of ...</td>\n",
       "      <td>Hi all, I'm a high school teacher and I've bee...</td>\n",
       "      <td>ancientgreece</td>\n",
       "    </tr>\n",
       "    <tr>\n",
       "      <th>3</th>\n",
       "      <td>1641832030</td>\n",
       "      <td>Dark Academia:A Level Ancient History- Athens ...</td>\n",
       "      <td>NaN</td>\n",
       "      <td>ancientgreece</td>\n",
       "    </tr>\n",
       "    <tr>\n",
       "      <th>4</th>\n",
       "      <td>1641819157</td>\n",
       "      <td>The Ancient Greek Hero course</td>\n",
       "      <td>If you're interested in delving deeper into th...</td>\n",
       "      <td>ancientgreece</td>\n",
       "    </tr>\n",
       "  </tbody>\n",
       "</table>\n",
       "</div>"
      ],
      "text/plain": [
       "   created_utc                                              title  \\\n",
       "0   1641904278                               Minoan girl chilling   \n",
       "1   1641859463                         Book Reccs for World Civ I   \n",
       "2   1641837949  I've started a supplementary twitch stream of ...   \n",
       "3   1641832030  Dark Academia:A Level Ancient History- Athens ...   \n",
       "4   1641819157                      The Ancient Greek Hero course   \n",
       "\n",
       "                                            selftext      subreddit  \n",
       "0                                                NaN  ancientgreece  \n",
       "1  I’m looking for a book to review in my World C...  ancientgreece  \n",
       "2  Hi all, I'm a high school teacher and I've bee...  ancientgreece  \n",
       "3                                                NaN  ancientgreece  \n",
       "4  If you're interested in delving deeper into th...  ancientgreece  "
      ]
     },
     "execution_count": 29,
     "metadata": {},
     "output_type": "execute_result"
    }
   ],
   "source": [
    "reddit2.head()"
   ]
  },
  {
   "cell_type": "code",
   "execution_count": 30,
   "id": "f2f539ad",
   "metadata": {
    "ExecuteTime": {
     "end_time": "2022-01-19T14:45:30.941847Z",
     "start_time": "2022-01-19T14:45:30.920653Z"
    },
    "scrolled": true
   },
   "outputs": [
    {
     "data": {
      "text/plain": [
       "created_utc       0\n",
       "title             0\n",
       "selftext       4191\n",
       "subreddit         0\n",
       "dtype: int64"
      ]
     },
     "execution_count": 30,
     "metadata": {},
     "output_type": "execute_result"
    }
   ],
   "source": [
    "reddit2.isnull().sum()"
   ]
  },
  {
   "cell_type": "code",
   "execution_count": 31,
   "id": "67834ec1",
   "metadata": {
    "ExecuteTime": {
     "end_time": "2022-01-19T14:45:30.966943Z",
     "start_time": "2022-01-19T14:45:30.941847Z"
    }
   },
   "outputs": [
    {
     "data": {
      "text/plain": [
       "0"
      ]
     },
     "execution_count": 31,
     "metadata": {},
     "output_type": "execute_result"
    }
   ],
   "source": [
    "reddit2[reddit2['selftext'].notna()].duplicated().sum()"
   ]
  },
  {
   "cell_type": "code",
   "execution_count": 32,
   "id": "0e9b3b17",
   "metadata": {
    "ExecuteTime": {
     "end_time": "2022-01-19T14:45:30.983044Z",
     "start_time": "2022-01-19T14:45:30.966943Z"
    }
   },
   "outputs": [
    {
     "data": {
      "text/plain": [
       "0"
      ]
     },
     "execution_count": 32,
     "metadata": {},
     "output_type": "execute_result"
    }
   ],
   "source": [
    "reddit2['title'].duplicated().sum()"
   ]
  },
  {
   "cell_type": "code",
   "execution_count": 33,
   "id": "2935bb81",
   "metadata": {
    "ExecuteTime": {
     "end_time": "2022-01-19T14:45:31.019332Z",
     "start_time": "2022-01-19T14:45:30.983266Z"
    }
   },
   "outputs": [
    {
     "data": {
      "text/plain": [
       "ancientrome      0.507871\n",
       "ancientgreece    0.492129\n",
       "Name: subreddit, dtype: float64"
      ]
     },
     "execution_count": 33,
     "metadata": {},
     "output_type": "execute_result"
    }
   ],
   "source": [
    "reddit2['subreddit'].value_counts(normalize=True)"
   ]
  },
  {
   "cell_type": "code",
   "execution_count": 34,
   "id": "f93f417d",
   "metadata": {
    "ExecuteTime": {
     "end_time": "2022-01-19T14:45:31.051737Z",
     "start_time": "2022-01-19T14:45:31.022563Z"
    }
   },
   "outputs": [
    {
     "name": "stdout",
     "output_type": "stream",
     "text": [
      "created_utc columns uniques:  5590\n",
      "title columns uniques:  5590\n",
      "selftext columns uniques:  1399\n",
      "subreddit columns uniques:  2\n"
     ]
    }
   ],
   "source": [
    "for name, col in reddit2.items():\n",
    "    print(name, 'columns uniques: ',reddit2[name].nunique())"
   ]
  },
  {
   "cell_type": "code",
   "execution_count": 35,
   "id": "ad2b8de3",
   "metadata": {
    "ExecuteTime": {
     "end_time": "2022-01-19T14:45:31.064323Z",
     "start_time": "2022-01-19T14:45:31.051737Z"
    }
   },
   "outputs": [
    {
     "data": {
      "text/plain": [
       "(5590, 4)"
      ]
     },
     "execution_count": 35,
     "metadata": {},
     "output_type": "execute_result"
    }
   ],
   "source": [
    "reddit2.shape"
   ]
  },
  {
   "cell_type": "markdown",
   "id": "7f7cdcf2",
   "metadata": {},
   "source": [
    "### Merge, clean, lemmatize"
   ]
  },
  {
   "cell_type": "code",
   "execution_count": 36,
   "id": "8395806b",
   "metadata": {
    "ExecuteTime": {
     "end_time": "2022-01-19T14:45:31.080562Z",
     "start_time": "2022-01-19T14:45:31.064323Z"
    }
   },
   "outputs": [],
   "source": [
    "# fill nan values\n",
    "reddit2.fillna('', inplace=True)"
   ]
  },
  {
   "cell_type": "code",
   "execution_count": 37,
   "id": "db56eb45",
   "metadata": {
    "ExecuteTime": {
     "end_time": "2022-01-19T14:45:31.100818Z",
     "start_time": "2022-01-19T14:45:31.080656Z"
    }
   },
   "outputs": [],
   "source": [
    "# ... so the columns can be added\n",
    "reddit2['posts'] = reddit2['title'] + ' ' + reddit2['selftext']"
   ]
  },
  {
   "cell_type": "code",
   "execution_count": 38,
   "id": "95cab15a",
   "metadata": {
    "ExecuteTime": {
     "end_time": "2022-01-19T14:45:31.123347Z",
     "start_time": "2022-01-19T14:45:31.100818Z"
    },
    "scrolled": false
   },
   "outputs": [
    {
     "data": {
      "text/html": [
       "<div>\n",
       "<style scoped>\n",
       "    .dataframe tbody tr th:only-of-type {\n",
       "        vertical-align: middle;\n",
       "    }\n",
       "\n",
       "    .dataframe tbody tr th {\n",
       "        vertical-align: top;\n",
       "    }\n",
       "\n",
       "    .dataframe thead th {\n",
       "        text-align: right;\n",
       "    }\n",
       "</style>\n",
       "<table border=\"1\" class=\"dataframe\">\n",
       "  <thead>\n",
       "    <tr style=\"text-align: right;\">\n",
       "      <th></th>\n",
       "      <th>created_utc</th>\n",
       "      <th>title</th>\n",
       "      <th>selftext</th>\n",
       "      <th>subreddit</th>\n",
       "      <th>posts</th>\n",
       "    </tr>\n",
       "  </thead>\n",
       "  <tbody>\n",
       "    <tr>\n",
       "      <th>0</th>\n",
       "      <td>1641904278</td>\n",
       "      <td>Minoan girl chilling</td>\n",
       "      <td></td>\n",
       "      <td>ancientgreece</td>\n",
       "      <td>Minoan girl chilling</td>\n",
       "    </tr>\n",
       "    <tr>\n",
       "      <th>1</th>\n",
       "      <td>1641859463</td>\n",
       "      <td>Book Reccs for World Civ I</td>\n",
       "      <td>I’m looking for a book to review in my World C...</td>\n",
       "      <td>ancientgreece</td>\n",
       "      <td>Book Reccs for World Civ I I’m looking for a b...</td>\n",
       "    </tr>\n",
       "    <tr>\n",
       "      <th>2</th>\n",
       "      <td>1641837949</td>\n",
       "      <td>I've started a supplementary twitch stream of ...</td>\n",
       "      <td>Hi all, I'm a high school teacher and I've bee...</td>\n",
       "      <td>ancientgreece</td>\n",
       "      <td>I've started a supplementary twitch stream of ...</td>\n",
       "    </tr>\n",
       "    <tr>\n",
       "      <th>3</th>\n",
       "      <td>1641832030</td>\n",
       "      <td>Dark Academia:A Level Ancient History- Athens ...</td>\n",
       "      <td></td>\n",
       "      <td>ancientgreece</td>\n",
       "      <td>Dark Academia:A Level Ancient History- Athens ...</td>\n",
       "    </tr>\n",
       "    <tr>\n",
       "      <th>4</th>\n",
       "      <td>1641819157</td>\n",
       "      <td>The Ancient Greek Hero course</td>\n",
       "      <td>If you're interested in delving deeper into th...</td>\n",
       "      <td>ancientgreece</td>\n",
       "      <td>The Ancient Greek Hero course If you're intere...</td>\n",
       "    </tr>\n",
       "  </tbody>\n",
       "</table>\n",
       "</div>"
      ],
      "text/plain": [
       "   created_utc                                              title  \\\n",
       "0   1641904278                               Minoan girl chilling   \n",
       "1   1641859463                         Book Reccs for World Civ I   \n",
       "2   1641837949  I've started a supplementary twitch stream of ...   \n",
       "3   1641832030  Dark Academia:A Level Ancient History- Athens ...   \n",
       "4   1641819157                      The Ancient Greek Hero course   \n",
       "\n",
       "                                            selftext      subreddit  \\\n",
       "0                                                     ancientgreece   \n",
       "1  I’m looking for a book to review in my World C...  ancientgreece   \n",
       "2  Hi all, I'm a high school teacher and I've bee...  ancientgreece   \n",
       "3                                                     ancientgreece   \n",
       "4  If you're interested in delving deeper into th...  ancientgreece   \n",
       "\n",
       "                                               posts  \n",
       "0                              Minoan girl chilling   \n",
       "1  Book Reccs for World Civ I I’m looking for a b...  \n",
       "2  I've started a supplementary twitch stream of ...  \n",
       "3  Dark Academia:A Level Ancient History- Athens ...  \n",
       "4  The Ancient Greek Hero course If you're intere...  "
      ]
     },
     "execution_count": 38,
     "metadata": {},
     "output_type": "execute_result"
    }
   ],
   "source": [
    "reddit2.head()"
   ]
  },
  {
   "cell_type": "code",
   "execution_count": 39,
   "id": "50fcb84c",
   "metadata": {
    "ExecuteTime": {
     "end_time": "2022-01-19T14:48:01.820587Z",
     "start_time": "2022-01-19T14:45:31.127303Z"
    }
   },
   "outputs": [
    {
     "data": {
      "text/html": [
       "<div>\n",
       "<style scoped>\n",
       "    .dataframe tbody tr th:only-of-type {\n",
       "        vertical-align: middle;\n",
       "    }\n",
       "\n",
       "    .dataframe tbody tr th {\n",
       "        vertical-align: top;\n",
       "    }\n",
       "\n",
       "    .dataframe thead th {\n",
       "        text-align: right;\n",
       "    }\n",
       "</style>\n",
       "<table border=\"1\" class=\"dataframe\">\n",
       "  <thead>\n",
       "    <tr style=\"text-align: right;\">\n",
       "      <th></th>\n",
       "      <th>created_utc</th>\n",
       "      <th>title</th>\n",
       "      <th>selftext</th>\n",
       "      <th>subreddit</th>\n",
       "      <th>posts</th>\n",
       "    </tr>\n",
       "  </thead>\n",
       "  <tbody>\n",
       "    <tr>\n",
       "      <th>0</th>\n",
       "      <td>1641904278</td>\n",
       "      <td>Minoan girl chilling</td>\n",
       "      <td></td>\n",
       "      <td>ancientgreece</td>\n",
       "      <td>minoan girl chill</td>\n",
       "    </tr>\n",
       "    <tr>\n",
       "      <th>1</th>\n",
       "      <td>1641859463</td>\n",
       "      <td>Book Reccs for World Civ I</td>\n",
       "      <td>I’m looking for a book to review in my World C...</td>\n",
       "      <td>ancientgreece</td>\n",
       "      <td>book reccs for world civ i i m look for a book...</td>\n",
       "    </tr>\n",
       "    <tr>\n",
       "      <th>2</th>\n",
       "      <td>1641837949</td>\n",
       "      <td>I've started a supplementary twitch stream of ...</td>\n",
       "      <td>Hi all, I'm a high school teacher and I've bee...</td>\n",
       "      <td>ancientgreece</td>\n",
       "      <td>i start a supplementary twitch stream of assas...</td>\n",
       "    </tr>\n",
       "    <tr>\n",
       "      <th>3</th>\n",
       "      <td>1641832030</td>\n",
       "      <td>Dark Academia:A Level Ancient History- Athens ...</td>\n",
       "      <td></td>\n",
       "      <td>ancientgreece</td>\n",
       "      <td>dark academia a level ancient athens and spart...</td>\n",
       "    </tr>\n",
       "    <tr>\n",
       "      <th>4</th>\n",
       "      <td>1641819157</td>\n",
       "      <td>The Ancient Greek Hero course</td>\n",
       "      <td>If you're interested in delving deeper into th...</td>\n",
       "      <td>ancientgreece</td>\n",
       "      <td>the ancient greek hero course if you intereste...</td>\n",
       "    </tr>\n",
       "  </tbody>\n",
       "</table>\n",
       "</div>"
      ],
      "text/plain": [
       "   created_utc                                              title  \\\n",
       "0   1641904278                               Minoan girl chilling   \n",
       "1   1641859463                         Book Reccs for World Civ I   \n",
       "2   1641837949  I've started a supplementary twitch stream of ...   \n",
       "3   1641832030  Dark Academia:A Level Ancient History- Athens ...   \n",
       "4   1641819157                      The Ancient Greek Hero course   \n",
       "\n",
       "                                            selftext      subreddit  \\\n",
       "0                                                     ancientgreece   \n",
       "1  I’m looking for a book to review in my World C...  ancientgreece   \n",
       "2  Hi all, I'm a high school teacher and I've bee...  ancientgreece   \n",
       "3                                                     ancientgreece   \n",
       "4  If you're interested in delving deeper into th...  ancientgreece   \n",
       "\n",
       "                                               posts  \n",
       "0                                  minoan girl chill  \n",
       "1  book reccs for world civ i i m look for a book...  \n",
       "2  i start a supplementary twitch stream of assas...  \n",
       "3  dark academia a level ancient athens and spart...  \n",
       "4  the ancient greek hero course if you intereste...  "
      ]
     },
     "execution_count": 39,
     "metadata": {},
     "output_type": "execute_result"
    }
   ],
   "source": [
    "# the new column looks good\n",
    "# run the cleanup function from above\n",
    "reddit2['posts'] = reddit2['posts'].apply(cleanup)\n",
    "reddit2.head()"
   ]
  },
  {
   "cell_type": "code",
   "execution_count": 40,
   "id": "bc619bea",
   "metadata": {
    "ExecuteTime": {
     "end_time": "2022-01-19T14:48:01.852950Z",
     "start_time": "2022-01-19T14:48:01.823433Z"
    }
   },
   "outputs": [],
   "source": [
    "# check if the function functioned properly\n",
    "for i in reddit2['posts']:\n",
    "    if ('https' in i) or ('[removed]' in i):\n",
    "        print(i)"
   ]
  },
  {
   "cell_type": "code",
   "execution_count": 41,
   "id": "dc7295e5",
   "metadata": {
    "ExecuteTime": {
     "end_time": "2022-01-19T14:48:01.878192Z",
     "start_time": "2022-01-19T14:48:01.852950Z"
    }
   },
   "outputs": [
    {
     "data": {
      "text/html": [
       "<div>\n",
       "<style scoped>\n",
       "    .dataframe tbody tr th:only-of-type {\n",
       "        vertical-align: middle;\n",
       "    }\n",
       "\n",
       "    .dataframe tbody tr th {\n",
       "        vertical-align: top;\n",
       "    }\n",
       "\n",
       "    .dataframe thead th {\n",
       "        text-align: right;\n",
       "    }\n",
       "</style>\n",
       "<table border=\"1\" class=\"dataframe\">\n",
       "  <thead>\n",
       "    <tr style=\"text-align: right;\">\n",
       "      <th></th>\n",
       "      <th>created_utc</th>\n",
       "      <th>title</th>\n",
       "      <th>selftext</th>\n",
       "      <th>subreddit</th>\n",
       "      <th>posts</th>\n",
       "    </tr>\n",
       "  </thead>\n",
       "  <tbody>\n",
       "    <tr>\n",
       "      <th>0</th>\n",
       "      <td>1641904278</td>\n",
       "      <td>Minoan girl chilling</td>\n",
       "      <td></td>\n",
       "      <td>ancientgreece</td>\n",
       "      <td>minoan girl chill</td>\n",
       "    </tr>\n",
       "    <tr>\n",
       "      <th>1</th>\n",
       "      <td>1641859463</td>\n",
       "      <td>Book Reccs for World Civ I</td>\n",
       "      <td>I’m looking for a book to review in my World C...</td>\n",
       "      <td>ancientgreece</td>\n",
       "      <td>book reccs for world civ i i m look for a book...</td>\n",
       "    </tr>\n",
       "    <tr>\n",
       "      <th>2</th>\n",
       "      <td>1641837949</td>\n",
       "      <td>I've started a supplementary twitch stream of ...</td>\n",
       "      <td>Hi all, I'm a high school teacher and I've bee...</td>\n",
       "      <td>ancientgreece</td>\n",
       "      <td>i start a supplementary twitch stream of assas...</td>\n",
       "    </tr>\n",
       "    <tr>\n",
       "      <th>3</th>\n",
       "      <td>1641832030</td>\n",
       "      <td>Dark Academia:A Level Ancient History- Athens ...</td>\n",
       "      <td></td>\n",
       "      <td>ancientgreece</td>\n",
       "      <td>dark academia a level ancient athens and spart...</td>\n",
       "    </tr>\n",
       "    <tr>\n",
       "      <th>4</th>\n",
       "      <td>1641819157</td>\n",
       "      <td>The Ancient Greek Hero course</td>\n",
       "      <td>If you're interested in delving deeper into th...</td>\n",
       "      <td>ancientgreece</td>\n",
       "      <td>the ancient greek hero course if you intereste...</td>\n",
       "    </tr>\n",
       "  </tbody>\n",
       "</table>\n",
       "</div>"
      ],
      "text/plain": [
       "   created_utc                                              title  \\\n",
       "0   1641904278                               Minoan girl chilling   \n",
       "1   1641859463                         Book Reccs for World Civ I   \n",
       "2   1641837949  I've started a supplementary twitch stream of ...   \n",
       "3   1641832030  Dark Academia:A Level Ancient History- Athens ...   \n",
       "4   1641819157                      The Ancient Greek Hero course   \n",
       "\n",
       "                                            selftext      subreddit  \\\n",
       "0                                                     ancientgreece   \n",
       "1  I’m looking for a book to review in my World C...  ancientgreece   \n",
       "2  Hi all, I'm a high school teacher and I've bee...  ancientgreece   \n",
       "3                                                     ancientgreece   \n",
       "4  If you're interested in delving deeper into th...  ancientgreece   \n",
       "\n",
       "                                               posts  \n",
       "0                                  minoan girl chill  \n",
       "1  book reccs for world civ i i m look for a book...  \n",
       "2  i start a supplementary twitch stream of assas...  \n",
       "3  dark academia a level ancient athens and spart...  \n",
       "4  the ancient greek hero course if you intereste...  "
      ]
     },
     "execution_count": 41,
     "metadata": {},
     "output_type": "execute_result"
    }
   ],
   "source": [
    "# yes it did\n",
    "reddit2.head()"
   ]
  },
  {
   "cell_type": "markdown",
   "id": "388fa843",
   "metadata": {},
   "source": [
    "- the post column looks properly cleaned when compared to the pre-cleaned version from two cells above\n",
    "- next use the vectorizer with stopwords to quickly analyze word distribution in each subreddit a well as overall\n",
    "- there are easier and more effiecient way to analyze all the words in our `posts` column than vectorization, but we chose it in order to seamlessly use and update the built-in stopword list"
   ]
  },
  {
   "cell_type": "code",
   "execution_count": 42,
   "id": "87b2420c",
   "metadata": {
    "ExecuteTime": {
     "end_time": "2022-01-19T14:48:01.902980Z",
     "start_time": "2022-01-19T14:48:01.878192Z"
    }
   },
   "outputs": [
    {
     "data": {
      "text/html": [
       "<div>\n",
       "<style scoped>\n",
       "    .dataframe tbody tr th:only-of-type {\n",
       "        vertical-align: middle;\n",
       "    }\n",
       "\n",
       "    .dataframe tbody tr th {\n",
       "        vertical-align: top;\n",
       "    }\n",
       "\n",
       "    .dataframe thead th {\n",
       "        text-align: right;\n",
       "    }\n",
       "</style>\n",
       "<table border=\"1\" class=\"dataframe\">\n",
       "  <thead>\n",
       "    <tr style=\"text-align: right;\">\n",
       "      <th></th>\n",
       "      <th>created_utc</th>\n",
       "      <th>title</th>\n",
       "      <th>selftext</th>\n",
       "      <th>subreddit</th>\n",
       "      <th>posts</th>\n",
       "    </tr>\n",
       "  </thead>\n",
       "  <tbody>\n",
       "  </tbody>\n",
       "</table>\n",
       "</div>"
      ],
      "text/plain": [
       "Empty DataFrame\n",
       "Columns: [created_utc, title, selftext, subreddit, posts]\n",
       "Index: []"
      ]
     },
     "execution_count": 42,
     "metadata": {},
     "output_type": "execute_result"
    }
   ],
   "source": [
    "reddit2[reddit2['posts'].isna()]"
   ]
  },
  {
   "cell_type": "markdown",
   "id": "2051e6eb",
   "metadata": {
    "ExecuteTime": {
     "end_time": "2022-01-15T09:39:12.475679Z",
     "start_time": "2022-01-15T09:39:12.462487Z"
    }
   },
   "source": [
    "## In-depth word analysis"
   ]
  },
  {
   "cell_type": "code",
   "execution_count": 43,
   "id": "8718d7d8",
   "metadata": {
    "ExecuteTime": {
     "end_time": "2022-01-19T14:48:01.919044Z",
     "start_time": "2022-01-19T14:48:01.902980Z"
    }
   },
   "outputs": [],
   "source": [
    "my_stopwords = []"
   ]
  },
  {
   "cell_type": "code",
   "execution_count": 44,
   "id": "3afdacfc",
   "metadata": {
    "ExecuteTime": {
     "end_time": "2022-01-19T14:48:01.928455Z",
     "start_time": "2022-01-19T14:48:01.921743Z"
    }
   },
   "outputs": [
    {
     "data": {
      "text/plain": [
       "318"
      ]
     },
     "execution_count": 44,
     "metadata": {},
     "output_type": "execute_result"
    }
   ],
   "source": [
    "# start with an initial stopwords list from sklearn\n",
    "stopwords = text.ENGLISH_STOP_WORDS\n",
    "stopwords = text.ENGLISH_STOP_WORDS.union(my_stopwords)\n",
    "len(stopwords)"
   ]
  },
  {
   "cell_type": "code",
   "execution_count": 45,
   "id": "e8565cc5",
   "metadata": {
    "ExecuteTime": {
     "end_time": "2022-01-19T14:48:01.943921Z",
     "start_time": "2022-01-19T14:48:01.931079Z"
    }
   },
   "outputs": [],
   "source": [
    "cvec = CountVectorizer(stop_words=stopwords)"
   ]
  },
  {
   "cell_type": "code",
   "execution_count": 46,
   "id": "4029f66e",
   "metadata": {
    "ExecuteTime": {
     "end_time": "2022-01-19T14:48:06.150845Z",
     "start_time": "2022-01-19T14:48:01.943921Z"
    },
    "scrolled": false
   },
   "outputs": [
    {
     "data": {
      "image/png": "[encoded data removed]",
      "text/plain": [
       "<Figure size 720x1296 with 1 Axes>"
      ]
     },
     "metadata": {},
     "output_type": "display_data"
    }
   ],
   "source": [
    "# vectorize the post column and turn into a dataframe\n",
    "X = reddit2['posts']\n",
    "X_vec = cvec.fit_transform(X)\n",
    "X_df = pd.DataFrame(X_vec.todense(), \n",
    "                          columns=cvec.get_feature_names())\n",
    "\n",
    "# plot top occuring words\n",
    "fig, ax = plt.subplots(figsize = (10,18))\n",
    "X_df.sum().sort_values(ascending=True)[-100:].plot(kind = 'barh')\n",
    "plt.yticks(fontsize=11)\n",
    "plt.title(\"Top words, both subreddits\\n*without default stopwords\"\n",
    "         , color='darkorchid', fontsize=18)\n",
    "plt.show()"
   ]
  },
  {
   "cell_type": "markdown",
   "id": "70c2d34f",
   "metadata": {
    "ExecuteTime": {
     "end_time": "2022-01-13T13:23:53.150055Z",
     "start_time": "2022-01-13T13:23:53.142758Z"
    }
   },
   "source": [
    "- the next cell's coding simplicity belies its importance in this project. expending the list of stop-words is crucial to make the model a true 'machine-learning' model rather than a 'word-searching' one.\n",
    "- error can be made on both sides - by discarding too many as well as too few. The former leaves too tough a task for the machine to learn to distinguish between two very similar periods of classical history, while the latter turns it into a 'word-search' problem, as just mentioned\n",
    "- another dimension to this problem is that many words will be discarded later on during vectorization with parameters such as 'max_features' and 'min_df'\n",
    "- due to that reason, we will start cautiously by removing only the most blatantly biased words such as rome, greece, etc."
   ]
  },
  {
   "cell_type": "code",
   "execution_count": 47,
   "id": "df04bba2",
   "metadata": {
    "ExecuteTime": {
     "end_time": "2022-01-19T14:48:06.176410Z",
     "start_time": "2022-01-19T14:48:06.150845Z"
    },
    "scrolled": true
   },
   "outputs": [
    {
     "data": {
      "text/plain": [
       "326"
      ]
     },
     "execution_count": 47,
     "metadata": {},
     "output_type": "execute_result"
    }
   ],
   "source": [
    "# updated list of my_stopwords\n",
    "my_stopwords = ['ancient', 'roman', 'rome', 'romans', 'greek', 'greece',\n",
    "                'greeks', 'amp' ] # obvious words + 'amp'\n",
    "\n",
    "stopwords = update_stopwords(my_stopwords)\n",
    "len(stopwords)"
   ]
  },
  {
   "cell_type": "markdown",
   "id": "911890c8",
   "metadata": {},
   "source": [
    "### Analyze words by each subreddit separately "
   ]
  },
  {
   "cell_type": "code",
   "execution_count": 48,
   "id": "59e033d3",
   "metadata": {
    "ExecuteTime": {
     "end_time": "2022-01-19T14:48:06.194925Z",
     "start_time": "2022-01-19T14:48:06.177664Z"
    }
   },
   "outputs": [
    {
     "data": {
      "text/plain": [
       "(2839,)"
      ]
     },
     "execution_count": 48,
     "metadata": {},
     "output_type": "execute_result"
    }
   ],
   "source": [
    "X_greek = reddit2[reddit2['subreddit']=='ancientgreece']['posts']\n",
    "X_roman = reddit2[reddit2['subreddit']=='ancientrome']['posts']\n",
    "X_greek.shape\n",
    "X_roman.shape"
   ]
  },
  {
   "cell_type": "code",
   "execution_count": 49,
   "id": "4cc8b381",
   "metadata": {
    "ExecuteTime": {
     "end_time": "2022-01-19T14:48:06.617488Z",
     "start_time": "2022-01-19T14:48:06.194925Z"
    }
   },
   "outputs": [],
   "source": [
    "# vectorize both, to do a detailed analysis of top words in each subreddit\n",
    "X_greek_vec = cvec.fit_transform(X_greek)\n",
    "X_greek_df = pd.DataFrame(X_greek_vec.todense(), \n",
    "                          columns=cvec.get_feature_names())\n",
    "X_roman_vec = cvec.fit_transform(X_roman)\n",
    "X_roman_df = pd.DataFrame(X_roman_vec.todense(), \n",
    "                          columns=cvec.get_feature_names())"
   ]
  },
  {
   "cell_type": "code",
   "execution_count": 50,
   "id": "4ea703a1",
   "metadata": {
    "ExecuteTime": {
     "end_time": "2022-01-19T14:48:06.894632Z",
     "start_time": "2022-01-19T14:48:06.617488Z"
    }
   },
   "outputs": [
    {
     "name": "stdout",
     "output_type": "stream",
     "text": [
      "0.62\n"
     ]
    }
   ],
   "source": [
    "# check our overlap function for 1000 most popular words in each subreddit\n",
    "print(overlap(X_greek_df, X_roman_df,1000)[1])"
   ]
  },
  {
   "cell_type": "markdown",
   "id": "70ce3b19",
   "metadata": {},
   "source": [
    "0.62 means that 620 out of the 1000 most common words from each subreddit are the same"
   ]
  },
  {
   "cell_type": "code",
   "execution_count": 51,
   "id": "f139d2f7",
   "metadata": {
    "ExecuteTime": {
     "end_time": "2022-01-19T14:48:07.830839Z",
     "start_time": "2022-01-19T14:48:06.894632Z"
    }
   },
   "outputs": [
    {
     "data": {
      "image/png": "[encoded data removed]",
      "text/plain": [
       "<Figure size 432x288 with 1 Axes>"
      ]
     },
     "metadata": {},
     "output_type": "display_data"
    }
   ],
   "source": [
    "\n",
    "lst = [10, 25, 50, 100, 500] # list for top10 to top500\n",
    "\n",
    "#create a list of common words among top i words in each subredding using the function overlap \n",
    "#from the top of the notebook\n",
    "common_words = {f'top{i}': overlap(X_greek_df, X_roman_df, i)[1] for i in lst}\n",
    "\n",
    "sns.barplot(x=list(common_words.keys()), y=list(common_words.values()))   \n",
    "plt.ylim(0.2,0.7)\n",
    "plt.title('Portion of common words among 2 subreddits', fontsize=14, color='darkorchid')\n",
    "plt.ylabel('Portion in common', fontsize=14, color='darkgoldenrod')\n",
    "plt.xlabel('*stopwords not included', fontsize=14, color='darkgoldenrod')\n",
    "plt.show()"
   ]
  },
  {
   "cell_type": "markdown",
   "id": "bed58585",
   "metadata": {
    "ExecuteTime": {
     "end_time": "2022-01-14T09:06:40.841269Z",
     "start_time": "2022-01-14T09:06:40.830017Z"
    }
   },
   "source": [
    "- the percentage of common, highly-occurring words is quite high between the greek and the roman subreddits, between 50% and 60%, depending on how many most frequent words are used for comparison. \n",
    "- we will need to develop a sharp model to be able to distinguish among the subreddits, which is not unexpected, since the topics are quite similar.\n",
    "- next check which words are among the most frequent in both"
   ]
  },
  {
   "cell_type": "code",
   "execution_count": 52,
   "id": "b77d9e62",
   "metadata": {
    "ExecuteTime": {
     "end_time": "2022-01-19T14:48:08.247858Z",
     "start_time": "2022-01-19T14:48:07.832786Z"
    }
   },
   "outputs": [
    {
     "name": "stdout",
     "output_type": "stream",
     "text": [
      "Common words among the top 10 most frequent in each subreddit are  {'history', 'like', 'know', 'ancient'}\n",
      "Common words among the next 15 in the top 25 are  {'look', 'just', 'war', 'use', 'book', 'century', 'great', 'make', 'time', 'people'}\n"
     ]
    }
   ],
   "source": [
    "# common words among top 10\n",
    "print('Common words among the top 10 most frequent in each subreddit are ',overlap(X_greek_df, X_roman_df,10)[0])\n",
    "print('Common words among the next 15 in the top 25 are ',overlap(X_greek_df, X_roman_df,25)[0] -\n",
    "      overlap(X_greek_df, X_roman_df,10)[0])"
   ]
  },
  {
   "cell_type": "markdown",
   "id": "8aa1d5f5",
   "metadata": {
    "ExecuteTime": {
     "end_time": "2022-01-14T09:41:01.959875Z",
     "start_time": "2022-01-14T09:41:01.833925Z"
    }
   },
   "source": [
    "- we will add some of this words (such as 'like', 'make' etc) to the list of stopwords, while other like 'war' we will keep as they might acquire more meaning as a bigram (eg Punic War, Peloponnesian War, City States etc)"
   ]
  },
  {
   "cell_type": "code",
   "execution_count": 53,
   "id": "bfe736b2",
   "metadata": {
    "ExecuteTime": {
     "end_time": "2022-01-19T14:48:08.271881Z",
     "start_time": "2022-01-19T14:48:08.247858Z"
    }
   },
   "outputs": [
    {
     "data": {
      "text/plain": [
       "332"
      ]
     },
     "execution_count": 53,
     "metadata": {},
     "output_type": "execute_result"
    }
   ],
   "source": [
    "# updated list of my_stopwords\n",
    "my_stopwords = ['ancient', 'roman', 'rome', 'romans', 'greek', 'greece',\n",
    "                'greeks', 'amp','know', 'like', 'make', 'look', 'just', 'use'] \n",
    "\n",
    "stopwords = update_stopwords(my_stopwords)\n",
    "len(stopwords)"
   ]
  },
  {
   "cell_type": "markdown",
   "id": "98df8962",
   "metadata": {
    "ExecuteTime": {
     "end_time": "2022-01-14T13:55:32.891119Z",
     "start_time": "2022-01-14T13:55:32.876241Z"
    }
   },
   "source": [
    "### Check the final top 25 words"
   ]
  },
  {
   "cell_type": "code",
   "execution_count": 54,
   "id": "be551658",
   "metadata": {
    "ExecuteTime": {
     "end_time": "2022-01-19T14:48:10.164271Z",
     "start_time": "2022-01-19T14:48:08.274058Z"
    }
   },
   "outputs": [
    {
     "data": {
      "image/png": "[encoded data removed]",
      "text/plain": [
       "<Figure size 1080x432 with 1 Axes>"
      ]
     },
     "metadata": {},
     "output_type": "display_data"
    },
    {
     "data": {
      "image/png": "[encoded data removed]",
      "text/plain": [
       "<Figure size 1080x432 with 1 Axes>"
      ]
     },
     "metadata": {},
     "output_type": "display_data"
    },
    {
     "data": {
      "image/png": "[encoded data removed]",
      "text/plain": [
       "<Figure size 1080x432 with 1 Axes>"
      ]
     },
     "metadata": {},
     "output_type": "display_data"
    }
   ],
   "source": [
    "xrome = X_roman_df.sum().sort_values(ascending=False).head(20).rename('Count')\n",
    "xgreece = X_greek_df.sum().sort_values(ascending=False).head(20).rename('Count')\n",
    "xboth = X_df.sum().sort_values(ascending=False).head(20).rename('Count')\n",
    "plt_bar(xboth, 'Top 20 words - both subreddits')\n",
    "plt_bar(xgreece, 'Top 20 r/ancientgreece words')\n",
    "plt_bar(xrome, 'Top 20 r/ancientrome words')"
   ]
  },
  {
   "cell_type": "markdown",
   "id": "43ed6792",
   "metadata": {},
   "source": [
    "- upon closer inspection, only the word 'really' should be further added to the stopword list . some words don't seem useful now but might be useful later as a part of an n-gram, while others seem downright useful\n",
    "- we are especially encouraged by the tiny words of 'bc' and 'ad' on the list. Originally the word 'ad' caught our eye as yet another potential intrusion of the omni-present advertisement industry which engulfs the entire internet these days, but here it stands for 'anno domini' and, together with 'bc', looks encouraging as 'ad' appears in roman reddit while 'bc' in the greek one. That makes sense since the majority of ancient greek history took place in bc (before christ), while the big events of the roman civilization unfolded in 'ad'"
   ]
  },
  {
   "cell_type": "code",
   "execution_count": 55,
   "id": "44eaa0cc",
   "metadata": {
    "ExecuteTime": {
     "end_time": "2022-01-19T14:48:10.179347Z",
     "start_time": "2022-01-19T14:48:10.164794Z"
    }
   },
   "outputs": [
    {
     "data": {
      "text/plain": [
       "333"
      ]
     },
     "execution_count": 55,
     "metadata": {},
     "output_type": "execute_result"
    }
   ],
   "source": [
    "my_stopwords.append('really')\n",
    "stopwords = update_stopwords(my_stopwords)\n",
    "len(stopwords)\n"
   ]
  },
  {
   "cell_type": "markdown",
   "id": "e0222ba6",
   "metadata": {},
   "source": [
    "### Update stopwords"
   ]
  },
  {
   "cell_type": "code",
   "execution_count": 56,
   "id": "97cb7226",
   "metadata": {
    "ExecuteTime": {
     "end_time": "2022-01-19T14:48:15.024654Z",
     "start_time": "2022-01-19T14:48:10.183230Z"
    },
    "scrolled": true
   },
   "outputs": [
    {
     "name": "stdout",
     "output_type": "stream",
     "text": [
      "There are 7175 words that appear at least twice. The first 10 and the last 100 are: \n",
      "\n",
      "['ab', 'abandon', 'abandoned', 'abdalonymus', 'abdashtart', 'abdera', 'abdicate', 'abduct', 'ability', 'able'] \n",
      " ['zeugma', 'zeus', 'zoroastrianism', 'zosimus', 'ádám', 'ένα', 'αν', 'από', 'αρχαία', 'αἰδοῖον', 'γε', 'για', 'δεν', 'είναι', 'ζωή', 'θα', 'και', 'καὶ', 'κύβος', 'λοιμοῦ', 'με', 'μου', 'νέο', 'να', 'νεφέλην', 'οι', 'που', 'σε', 'στο', 'στον', 'τα', 'τη', 'την', 'της', 'τι', 'το', 'τον', 'του', 'τους', 'των', 'τῇ', 'τῶν', 'φωτογραφίες', 'χαίρετε', 'χωρίς', 'аnd', 'оf', 'раssed', 'עברתי', 'ἀθήναζε', 'ἀνερρίφθω', '𝗔𝘄𝗮𝗿𝗱', '𝗕𝗲𝗹𝗳𝗮𝘀𝘁', '𝗗𝗼𝗰', '𝗗𝘂𝗯𝗹𝗶𝗻', '𝗙𝗲𝘀𝘁𝗶𝘃𝗮𝗹', '𝗙𝗶𝗹𝗺', '𝗚𝗿𝗲𝗲𝗸', '𝗜𝗻𝗱𝗶𝗲𝗖𝗼𝗿𝗸', '𝗜𝗻𝘁𝗲𝗿𝗻𝗮𝘁𝗶𝗼𝗻𝗮𝗹', '𝗢𝗙𝗙𝗜𝗖𝗜𝗔𝗟', '𝗥𝗼𝘁𝘁𝗲𝗿𝗱𝗮𝗺', '𝗦𝗘𝗟𝗘𝗖𝗧𝗜𝗢𝗡', '𝗦𝗽𝗶𝗿𝗶𝘁', '𝗧𝗵𝗲𝘀𝘀𝗮𝗹𝗼𝗻𝗶𝗸𝗶', '𝗪𝗜𝗡𝗡𝗘𝗥', '𝗼𝗳', '𝘁𝗵𝗲', '𝘋𝘪𝘳𝘦𝘤𝘵𝘰𝘳', '𝘋𝘰𝘺𝘭𝘦', '𝘋𝘶𝘣𝘭𝘪𝘯', '𝘎𝘳á𝘪𝘯𝘯𝘦', '𝘏𝘶𝘮𝘱𝘩𝘳𝘦𝘺𝘴', '𝘐𝘍𝘍', '𝘙𝘰𝘯𝘢𝘯', '𝘚𝘤𝘢𝘯𝘯𝘢𝘪𝘯', '𝘽𝙐𝙍𝙉𝙄𝙉𝙂', '𝙎𝙏𝙍𝙀𝘼𝙈𝙎', '𝙖𝙣𝙙', '𝙖𝙧𝙚', '𝙙𝙚𝙨𝙘𝙧𝙞𝙗𝙚', '𝙙𝙞𝙛𝙛𝙞𝙘𝙪𝙡𝙩', '𝙙𝙧𝙖𝙬𝙣', '𝙚𝙢𝙗𝙧𝙖𝙘𝙚', '𝙝𝙖𝙧𝙙', '𝙝𝙖𝙧𝙙𝙚𝙧', '𝙞𝙛', '𝙠𝙣𝙚𝙬', '𝙤𝙗𝙨𝙘𝙪𝙧𝙚', '𝙤𝙣𝙚𝙨', '𝙤𝙣𝙡𝙮', '𝙦𝙪𝙖𝙣𝙩𝙞𝙛𝙮', '𝙨𝙖𝙬', '𝙨𝙪𝙗𝙟𝙚𝙘𝙩𝙨', '𝙩𝙝𝙖𝙩', '𝙩𝙝𝙚', '𝙩𝙝𝙚𝙮', '𝙩𝙤', '𝙬𝙤𝙧𝙡𝙙', '𝙬𝙤𝙪𝙡𝙙']\n"
     ]
    }
   ],
   "source": [
    "# check the start and end of our word list (X_df.columns) since they are the most likely to include non-standard words\n",
    "# only check those words that appear at least twice, since we will have df_min of at least 2 when we run our models. \n",
    "# (if we included the words that appear only once, the list would be uncomfortably long)\n",
    "\n",
    "lst = [col for col in X_df.columns if (X_df[col].sum()>=2)] # list comprehension for all the words with 2+ appearances\n",
    " # since we'll be using min_df=2 or more, there's no need wasting time removing words that appear just once\n",
    "print(f'There are {len(lst)} words that appear at least twice. The first 10 and the last 100 are: \\n')\n",
    "print(lst[:10], '\\n', lst[-100:])"
   ]
  },
  {
   "cell_type": "markdown",
   "id": "f035aef2",
   "metadata": {},
   "source": [
    "- many words escaped lemmatization and cleaning as they are written in non-standard characters. investigate."
   ]
  },
  {
   "cell_type": "markdown",
   "id": "4df0270d",
   "metadata": {
    "ExecuteTime": {
     "end_time": "2022-01-17T05:37:38.364024Z",
     "start_time": "2022-01-17T05:37:38.350026Z"
    }
   },
   "source": [
    "- we have a motley crew of words after our last word on a-z alphabet (zosimus). ancient greek words are obvious, but there are some other words that appear regular, yet they didn't get sorted so they are obviously not.\n",
    "- check them out"
   ]
  },
  {
   "cell_type": "code",
   "execution_count": 57,
   "id": "9a949b69",
   "metadata": {
    "ExecuteTime": {
     "end_time": "2022-01-19T14:48:15.039905Z",
     "start_time": "2022-01-19T14:48:15.027447Z"
    }
   },
   "outputs": [
    {
     "data": {
      "text/plain": [
       "False"
      ]
     },
     "execution_count": 57,
     "metadata": {},
     "output_type": "execute_result"
    }
   ],
   "source": [
    "('оf' == 'of') or ('Award' == '𝗔𝘄𝗮𝗿𝗱')"
   ]
  },
  {
   "cell_type": "code",
   "execution_count": 58,
   "id": "4ea61dd1",
   "metadata": {
    "ExecuteTime": {
     "end_time": "2022-01-19T14:48:15.058589Z",
     "start_time": "2022-01-19T14:48:15.043228Z"
    }
   },
   "outputs": [
    {
     "data": {
      "text/plain": [
       "'𝙚'"
      ]
     },
     "execution_count": 58,
     "metadata": {},
     "output_type": "execute_result"
    }
   ],
   "source": [
    "# investigate further\n",
    "# sample char from the list\n",
    "lst[-20][-1] "
   ]
  },
  {
   "cell_type": "code",
   "execution_count": 59,
   "id": "0926034c",
   "metadata": {
    "ExecuteTime": {
     "end_time": "2022-01-19T14:48:15.074583Z",
     "start_time": "2022-01-19T14:48:15.058589Z"
    }
   },
   "outputs": [
    {
     "data": {
      "text/plain": [
       "120409"
      ]
     },
     "execution_count": 59,
     "metadata": {},
     "output_type": "execute_result"
    }
   ],
   "source": [
    "# its unicode\n",
    "ord(lst[-1][-1])"
   ]
  },
  {
   "cell_type": "code",
   "execution_count": 60,
   "id": "89663b1e",
   "metadata": {
    "ExecuteTime": {
     "end_time": "2022-01-19T14:48:15.085458Z",
     "start_time": "2022-01-19T14:48:15.077450Z"
    }
   },
   "outputs": [
    {
     "data": {
      "text/plain": [
       "120334"
      ]
     },
     "execution_count": 60,
     "metadata": {},
     "output_type": "execute_result"
    }
   ],
   "source": [
    "#another one\n",
    "ord('𝘎')"
   ]
  },
  {
   "cell_type": "code",
   "execution_count": 61,
   "id": "abe70d4e",
   "metadata": {
    "ExecuteTime": {
     "end_time": "2022-01-19T14:48:15.102384Z",
     "start_time": "2022-01-19T14:48:15.086302Z"
    }
   },
   "outputs": [
    {
     "data": {
      "text/plain": [
       "71"
      ]
     },
     "execution_count": 61,
     "metadata": {},
     "output_type": "execute_result"
    }
   ],
   "source": [
    "#unicode of a regular char\n",
    "ord('G')"
   ]
  },
  {
   "cell_type": "markdown",
   "id": "372bf50a",
   "metadata": {},
   "source": [
    "- there are a many words that appear at the end that are written in what look like words, but are actually more like symbols, using fonts such as \"Mathematical Sans-Serif\", both bold and italic. they are spam, which escaped our cleaning function since, while technically alphanumeric, is so far up the Unicode that our function didn't really recognize it.\n",
    "- since they are more like symbols, there is no easy (or any?) way to convert them to regular chars. the easiest way to proceed is to copy and paste them into our stopwords"
   ]
  },
  {
   "cell_type": "code",
   "execution_count": 62,
   "id": "b17f7bd2",
   "metadata": {
    "ExecuteTime": {
     "end_time": "2022-01-19T14:48:15.118646Z",
     "start_time": "2022-01-19T14:48:15.102410Z"
    }
   },
   "outputs": [
    {
     "name": "stdout",
     "output_type": "stream",
     "text": [
      "True\n",
      "False\n"
     ]
    }
   ],
   "source": [
    "print('if' in stopwords)\n",
    "print('𝙞𝙛' in stopwords)"
   ]
  },
  {
   "cell_type": "code",
   "execution_count": 63,
   "id": "fb46aff6",
   "metadata": {
    "ExecuteTime": {
     "end_time": "2022-01-19T14:48:15.139390Z",
     "start_time": "2022-01-19T14:48:15.118646Z"
    }
   },
   "outputs": [],
   "source": [
    "# as our df_min will be at least two, these words will be added to our stopword list\n",
    "# this iteration contain no greeks written in ancient greek\n",
    "\n",
    "temp_list = ['𝗔𝘄𝗮𝗿𝗱', '𝗕𝗲𝗹𝗳𝗮𝘀𝘁', '𝗗𝗼𝗰', '𝗗𝘂𝗯𝗹𝗶𝗻', '𝗙𝗲𝘀𝘁𝗶𝘃𝗮𝗹',\n",
    " '𝗙𝗶𝗹𝗺', '𝗚𝗿𝗲𝗲𝗸', '𝗜𝗻𝗱𝗶𝗲𝗖𝗼𝗿𝗸', '𝗜𝗻𝘁𝗲𝗿𝗻𝗮𝘁𝗶𝗼𝗻𝗮𝗹', '𝗢𝗙𝗙𝗜𝗖𝗜𝗔𝗟', '𝗥𝗼𝘁𝘁𝗲𝗿𝗱𝗮𝗺',\n",
    " '𝗦𝗘𝗟𝗘𝗖𝗧𝗜𝗢𝗡', '𝗦𝗽𝗶𝗿𝗶𝘁', '𝗧𝗵𝗲𝘀𝘀𝗮𝗹𝗼𝗻𝗶𝗸𝗶', '𝗪𝗜𝗡𝗡𝗘𝗥', '𝗼𝗳', '𝘁𝗵𝗲', '𝘋𝘪𝘳𝘦𝘤𝘵𝘰𝘳',\n",
    " '𝘋𝘰𝘺𝘭𝘦', '𝘋𝘶𝘣𝘭𝘪𝘯', '𝘎𝘳á𝘪𝘯𝘯𝘦', '𝘏𝘶𝘮𝘱𝘩𝘳𝘦𝘺𝘴', '𝘐𝘍𝘍', '𝘙𝘰𝘯𝘢𝘯', '𝘚𝘤𝘢𝘯𝘯𝘢𝘪𝘯',\n",
    " '𝘽𝙐𝙍𝙉𝙄𝙉𝙂', '𝙎𝙏𝙍𝙀𝘼𝙈𝙎', '𝙖𝙣𝙙', '𝙖𝙧𝙚', '𝙙𝙚𝙨𝙘𝙧𝙞𝙗𝙚', '𝙙𝙞𝙛𝙛𝙞𝙘𝙪𝙡𝙩', '𝙙𝙧𝙖𝙬𝙣',\n",
    " '𝙚𝙢𝙗𝙧𝙖𝙘𝙚', '𝙝𝙖𝙧𝙙', '𝙝𝙖𝙧𝙙𝙚𝙧', '𝙞𝙛', '𝙠𝙣𝙚𝙬', '𝙤𝙗𝙨𝙘𝙪𝙧𝙚', '𝙤𝙣𝙚𝙨', '𝙤𝙣𝙡𝙮',\n",
    " '𝙦𝙪𝙖𝙣𝙩𝙞𝙛𝙮', '𝙨𝙖𝙬', '𝙨𝙪𝙗𝙟𝙚𝙘𝙩𝙨', '𝙩𝙝𝙖𝙩', '𝙩𝙝𝙚', '𝙩𝙝𝙚𝙮', '𝙩𝙤', '𝙬𝙤𝙧𝙡𝙙', '𝙬𝙤𝙪𝙡𝙙']"
   ]
  },
  {
   "cell_type": "code",
   "execution_count": 64,
   "id": "5b6b9ae0",
   "metadata": {
    "ExecuteTime": {
     "end_time": "2022-01-19T14:48:15.155338Z",
     "start_time": "2022-01-19T14:48:15.139390Z"
    }
   },
   "outputs": [],
   "source": [
    "# ...and this one includes ancient greek words\n",
    "\n",
    "temp_list_greek =  ['ádám', 'ένα', 'αν', 'από', 'αρχαία', 'αἰδοῖον', 'γε', 'για', 'δεν', 'είναι', 'ζωή', 'θα', 'και', 'καὶ',\n",
    "               'κύβος', 'λοιμοῦ', 'με', 'μου', 'νέο', 'να', 'νεφέλην', 'οι', 'που', 'σε', 'στο', 'στον', 'τα', 'τη',\n",
    "               'την', 'της', 'τι', 'το', 'τον', 'του', 'τους', 'των', 'τῇ', 'τῶν', 'φωτογραφίες', 'χαίρετε', 'χωρίς',\n",
    "               'аnd', 'оf', 'раssed', 'עברתי', 'ἀθήναζε', 'ἀνερρίφθω', '𝗔𝘄𝗮𝗿𝗱', '𝗕𝗲𝗹𝗳𝗮𝘀𝘁', '𝗗𝗼𝗰', '𝗗𝘂𝗯𝗹𝗶𝗻', '𝗙𝗲𝘀𝘁𝗶𝘃𝗮𝗹',\n",
    "               '𝗙𝗶𝗹𝗺', '𝗚𝗿𝗲𝗲𝗸', '𝗜𝗻𝗱𝗶𝗲𝗖𝗼𝗿𝗸', '𝗜𝗻𝘁𝗲𝗿𝗻𝗮𝘁𝗶𝗼𝗻𝗮𝗹', '𝗢𝗙𝗙𝗜𝗖𝗜𝗔𝗟', '𝗥𝗼𝘁𝘁𝗲𝗿𝗱𝗮𝗺', '𝗦𝗘𝗟𝗘𝗖𝗧𝗜𝗢𝗡', '𝗦𝗽𝗶𝗿𝗶𝘁', '𝗧𝗵𝗲𝘀𝘀𝗮𝗹𝗼𝗻𝗶𝗸𝗶',\n",
    "               '𝗪𝗜𝗡𝗡𝗘𝗥', '𝗼𝗳', '𝘁𝗵𝗲', '𝘋𝘪𝘳𝘦𝘤𝘵𝘰𝘳', '𝘋𝘰𝘺𝘭𝘦', '𝘋𝘶𝘣𝘭𝘪𝘯', '𝘎𝘳á𝘪𝘯𝘯𝘦', '𝘏𝘶𝘮𝘱𝘩𝘳𝘦𝘺𝘴', '𝘐𝘍𝘍', '𝘙𝘰𝘯𝘢𝘯', '𝘚𝘤𝘢𝘯𝘯𝘢𝘪𝘯',\n",
    "               '𝘽𝙐𝙍𝙉𝙄𝙉𝙂', '𝙎𝙏𝙍𝙀𝘼𝙈𝙎', '𝙖𝙣𝙙', '𝙖𝙧𝙚', '𝙙𝙚𝙨𝙘𝙧𝙞𝙗𝙚', '𝙙𝙞𝙛𝙛𝙞𝙘𝙪𝙡𝙩', '𝙙𝙧𝙖𝙬𝙣', '𝙚𝙢𝙗𝙧𝙖𝙘𝙚', '𝙝𝙖𝙧𝙙', '𝙝𝙖𝙧𝙙𝙚𝙧',\n",
    "               '𝙞𝙛', '𝙠𝙣𝙚𝙬', '𝙤𝙗𝙨𝙘𝙪𝙧𝙚', '𝙤𝙣𝙚𝙨', '𝙤𝙣𝙡𝙮', '𝙦𝙪𝙖𝙣𝙩𝙞𝙛𝙮', '𝙨𝙖𝙬', '𝙨𝙪𝙗𝙟𝙚𝙘𝙩𝙨', '𝙩𝙝𝙖𝙩', '𝙩𝙝𝙚', '𝙩𝙝𝙚𝙮', '𝙩𝙤',\n",
    "               '𝙬𝙤𝙧𝙡𝙙', '𝙬𝙤𝙪𝙡𝙙']"
   ]
  },
  {
   "cell_type": "code",
   "execution_count": 65,
   "id": "69a5fb90",
   "metadata": {
    "ExecuteTime": {
     "end_time": "2022-01-19T14:48:15.164056Z",
     "start_time": "2022-01-19T14:48:15.158194Z"
    }
   },
   "outputs": [
    {
     "data": {
      "text/plain": [
       "15"
      ]
     },
     "execution_count": 65,
     "metadata": {},
     "output_type": "execute_result"
    }
   ],
   "source": [
    "len(my_stopwords)"
   ]
  },
  {
   "cell_type": "code",
   "execution_count": 66,
   "id": "ae9f6115",
   "metadata": {
    "ExecuteTime": {
     "end_time": "2022-01-19T14:48:15.174349Z",
     "start_time": "2022-01-19T14:48:15.165637Z"
    }
   },
   "outputs": [
    {
     "data": {
      "text/plain": [
       "49"
      ]
     },
     "execution_count": 66,
     "metadata": {},
     "output_type": "execute_result"
    }
   ],
   "source": [
    "len(temp_list)"
   ]
  },
  {
   "cell_type": "code",
   "execution_count": 67,
   "id": "22776c06",
   "metadata": {
    "ExecuteTime": {
     "end_time": "2022-01-19T14:48:15.184079Z",
     "start_time": "2022-01-19T14:48:15.177083Z"
    }
   },
   "outputs": [
    {
     "data": {
      "text/plain": [
       "96"
      ]
     },
     "execution_count": 67,
     "metadata": {},
     "output_type": "execute_result"
    }
   ],
   "source": [
    "len(temp_list_greek)"
   ]
  },
  {
   "cell_type": "code",
   "execution_count": 68,
   "id": "4bf808e9",
   "metadata": {
    "ExecuteTime": {
     "end_time": "2022-01-19T14:48:15.192950Z",
     "start_time": "2022-01-19T14:48:15.185799Z"
    }
   },
   "outputs": [
    {
     "data": {
      "text/plain": [
       "64"
      ]
     },
     "execution_count": 68,
     "metadata": {},
     "output_type": "execute_result"
    }
   ],
   "source": [
    "# add non-greek words to stopwords\n",
    "# use list.extend this time to get individual elements\n",
    "my_stopwords.extend(temp_list)\n",
    "len(my_stopwords)"
   ]
  },
  {
   "cell_type": "code",
   "execution_count": 69,
   "id": "e93abaa9",
   "metadata": {
    "ExecuteTime": {
     "end_time": "2022-01-19T14:48:15.209632Z",
     "start_time": "2022-01-19T14:48:15.195338Z"
    }
   },
   "outputs": [
    {
     "name": "stdout",
     "output_type": "stream",
     "text": [
      "non greek:\n",
      "\n",
      " ['ancient', 'roman', 'rome', 'romans', 'greek', 'greece', 'greeks', 'amp', 'know', 'like', 'make', 'look', 'just', 'use', 'really', '𝗔𝘄𝗮𝗿𝗱', '𝗕𝗲𝗹𝗳𝗮𝘀𝘁', '𝗗𝗼𝗰', '𝗗𝘂𝗯𝗹𝗶𝗻', '𝗙𝗲𝘀𝘁𝗶𝘃𝗮𝗹', '𝗙𝗶𝗹𝗺', '𝗚𝗿𝗲𝗲𝗸', '𝗜𝗻𝗱𝗶𝗲𝗖𝗼𝗿𝗸', '𝗜𝗻𝘁𝗲𝗿𝗻𝗮𝘁𝗶𝗼𝗻𝗮𝗹', '𝗢𝗙𝗙𝗜𝗖𝗜𝗔𝗟', '𝗥𝗼𝘁𝘁𝗲𝗿𝗱𝗮𝗺', '𝗦𝗘𝗟𝗘𝗖𝗧𝗜𝗢𝗡', '𝗦𝗽𝗶𝗿𝗶𝘁', '𝗧𝗵𝗲𝘀𝘀𝗮𝗹𝗼𝗻𝗶𝗸𝗶', '𝗪𝗜𝗡𝗡𝗘𝗥', '𝗼𝗳', '𝘁𝗵𝗲', '𝘋𝘪𝘳𝘦𝘤𝘵𝘰𝘳', '𝘋𝘰𝘺𝘭𝘦', '𝘋𝘶𝘣𝘭𝘪𝘯', '𝘎𝘳á𝘪𝘯𝘯𝘦', '𝘏𝘶𝘮𝘱𝘩𝘳𝘦𝘺𝘴', '𝘐𝘍𝘍', '𝘙𝘰𝘯𝘢𝘯', '𝘚𝘤𝘢𝘯𝘯𝘢𝘪𝘯', '𝘽𝙐𝙍𝙉𝙄𝙉𝙂', '𝙎𝙏𝙍𝙀𝘼𝙈𝙎', '𝙖𝙣𝙙', '𝙖𝙧𝙚', '𝙙𝙚𝙨𝙘𝙧𝙞𝙗𝙚', '𝙙𝙞𝙛𝙛𝙞𝙘𝙪𝙡𝙩', '𝙙𝙧𝙖𝙬𝙣', '𝙚𝙢𝙗𝙧𝙖𝙘𝙚', '𝙝𝙖𝙧𝙙', '𝙝𝙖𝙧𝙙𝙚𝙧', '𝙞𝙛', '𝙠𝙣𝙚𝙬', '𝙤𝙗𝙨𝙘𝙪𝙧𝙚', '𝙤𝙣𝙚𝙨', '𝙤𝙣𝙡𝙮', '𝙦𝙪𝙖𝙣𝙩𝙞𝙛𝙮', '𝙨𝙖𝙬', '𝙨𝙪𝙗𝙟𝙚𝙘𝙩𝙨', '𝙩𝙝𝙖𝙩', '𝙩𝙝𝙚', '𝙩𝙝𝙚𝙮', '𝙩𝙤', '𝙬𝙤𝙧𝙡𝙙', '𝙬𝙤𝙪𝙡𝙙']\n"
     ]
    }
   ],
   "source": [
    "# print and copy&paste non-greek stopwords, for modeling in the next notebook\n",
    "print(\"non greek:\\n\\n\",my_stopwords)"
   ]
  },
  {
   "cell_type": "code",
   "execution_count": 70,
   "id": "b6eb2287",
   "metadata": {
    "ExecuteTime": {
     "end_time": "2022-01-19T14:48:15.225001Z",
     "start_time": "2022-01-19T14:48:15.210400Z"
    }
   },
   "outputs": [
    {
     "data": {
      "text/plain": [
       "111"
      ]
     },
     "execution_count": 70,
     "metadata": {},
     "output_type": "execute_result"
    }
   ],
   "source": [
    "# create another list, with greep alphabet words. first we should remove the recently added temp_list, so \n",
    "# there are no duplicates\n",
    "for item in temp_list:\n",
    "    my_stopwords.remove(item)\n",
    "my_stopwords.extend(temp_list_greek)    \n",
    "len(my_stopwords) # to check of it's 15+96"
   ]
  },
  {
   "cell_type": "code",
   "execution_count": 71,
   "id": "8838e17a",
   "metadata": {
    "ExecuteTime": {
     "end_time": "2022-01-19T14:48:15.235788Z",
     "start_time": "2022-01-19T14:48:15.227617Z"
    },
    "scrolled": true
   },
   "outputs": [
    {
     "name": "stdout",
     "output_type": "stream",
     "text": [
      "greek:\n",
      "\n",
      " ['ancient', 'roman', 'rome', 'romans', 'greek', 'greece', 'greeks', 'amp', 'know', 'like', 'make', 'look', 'just', 'use', 'really', 'ádám', 'ένα', 'αν', 'από', 'αρχαία', 'αἰδοῖον', 'γε', 'για', 'δεν', 'είναι', 'ζωή', 'θα', 'και', 'καὶ', 'κύβος', 'λοιμοῦ', 'με', 'μου', 'νέο', 'να', 'νεφέλην', 'οι', 'που', 'σε', 'στο', 'στον', 'τα', 'τη', 'την', 'της', 'τι', 'το', 'τον', 'του', 'τους', 'των', 'τῇ', 'τῶν', 'φωτογραφίες', 'χαίρετε', 'χωρίς', 'аnd', 'оf', 'раssed', 'עברתי', 'ἀθήναζε', 'ἀνερρίφθω', '𝗔𝘄𝗮𝗿𝗱', '𝗕𝗲𝗹𝗳𝗮𝘀𝘁', '𝗗𝗼𝗰', '𝗗𝘂𝗯𝗹𝗶𝗻', '𝗙𝗲𝘀𝘁𝗶𝘃𝗮𝗹', '𝗙𝗶𝗹𝗺', '𝗚𝗿𝗲𝗲𝗸', '𝗜𝗻𝗱𝗶𝗲𝗖𝗼𝗿𝗸', '𝗜𝗻𝘁𝗲𝗿𝗻𝗮𝘁𝗶𝗼𝗻𝗮𝗹', '𝗢𝗙𝗙𝗜𝗖𝗜𝗔𝗟', '𝗥𝗼𝘁𝘁𝗲𝗿𝗱𝗮𝗺', '𝗦𝗘𝗟𝗘𝗖𝗧𝗜𝗢𝗡', '𝗦𝗽𝗶𝗿𝗶𝘁', '𝗧𝗵𝗲𝘀𝘀𝗮𝗹𝗼𝗻𝗶𝗸𝗶', '𝗪𝗜𝗡𝗡𝗘𝗥', '𝗼𝗳', '𝘁𝗵𝗲', '𝘋𝘪𝘳𝘦𝘤𝘵𝘰𝘳', '𝘋𝘰𝘺𝘭𝘦', '𝘋𝘶𝘣𝘭𝘪𝘯', '𝘎𝘳á𝘪𝘯𝘯𝘦', '𝘏𝘶𝘮𝘱𝘩𝘳𝘦𝘺𝘴', '𝘐𝘍𝘍', '𝘙𝘰𝘯𝘢𝘯', '𝘚𝘤𝘢𝘯𝘯𝘢𝘪𝘯', '𝘽𝙐𝙍𝙉𝙄𝙉𝙂', '𝙎𝙏𝙍𝙀𝘼𝙈𝙎', '𝙖𝙣𝙙', '𝙖𝙧𝙚', '𝙙𝙚𝙨𝙘𝙧𝙞𝙗𝙚', '𝙙𝙞𝙛𝙛𝙞𝙘𝙪𝙡𝙩', '𝙙𝙧𝙖𝙬𝙣', '𝙚𝙢𝙗𝙧𝙖𝙘𝙚', '𝙝𝙖𝙧𝙙', '𝙝𝙖𝙧𝙙𝙚𝙧', '𝙞𝙛', '𝙠𝙣𝙚𝙬', '𝙤𝙗𝙨𝙘𝙪𝙧𝙚', '𝙤𝙣𝙚𝙨', '𝙤𝙣𝙡𝙮', '𝙦𝙪𝙖𝙣𝙩𝙞𝙛𝙮', '𝙨𝙖𝙬', '𝙨𝙪𝙗𝙟𝙚𝙘𝙩𝙨', '𝙩𝙝𝙖𝙩', '𝙩𝙝𝙚', '𝙩𝙝𝙚𝙮', '𝙩𝙤', '𝙬𝙤𝙧𝙡𝙙', '𝙬𝙤𝙪𝙡𝙙']\n"
     ]
    }
   ],
   "source": [
    "# print and copy&paste all stopwords, for modeling in the next notebook\n",
    "print(\"greek:\\n\\n\",my_stopwords)"
   ]
  },
  {
   "cell_type": "code",
   "execution_count": 72,
   "id": "50d32a51",
   "metadata": {
    "ExecuteTime": {
     "end_time": "2022-01-19T14:48:15.271771Z",
     "start_time": "2022-01-19T14:48:15.235788Z"
    },
    "scrolled": false
   },
   "outputs": [
    {
     "data": {
      "text/html": [
       "<div>\n",
       "<style scoped>\n",
       "    .dataframe tbody tr th:only-of-type {\n",
       "        vertical-align: middle;\n",
       "    }\n",
       "\n",
       "    .dataframe tbody tr th {\n",
       "        vertical-align: top;\n",
       "    }\n",
       "\n",
       "    .dataframe thead th {\n",
       "        text-align: right;\n",
       "    }\n",
       "</style>\n",
       "<table border=\"1\" class=\"dataframe\">\n",
       "  <thead>\n",
       "    <tr style=\"text-align: right;\">\n",
       "      <th></th>\n",
       "      <th>created_utc</th>\n",
       "      <th>title</th>\n",
       "      <th>selftext</th>\n",
       "      <th>subreddit</th>\n",
       "      <th>posts</th>\n",
       "    </tr>\n",
       "  </thead>\n",
       "  <tbody>\n",
       "    <tr>\n",
       "      <th>129</th>\n",
       "      <td>1638460297</td>\n",
       "      <td>Greek funerary helmet, 560-550 BC, Archaeologi...</td>\n",
       "      <td></td>\n",
       "      <td>ancientgreece</td>\n",
       "      <td>greek funerary helmet bc archaeological museum...</td>\n",
       "    </tr>\n",
       "    <tr>\n",
       "      <th>144</th>\n",
       "      <td>1638178725</td>\n",
       "      <td>Greek funerary helmet, 560-550 BC, Archaeologi...</td>\n",
       "      <td></td>\n",
       "      <td>ancientgreece</td>\n",
       "      <td>greek funerary helmet bc archaeological museum...</td>\n",
       "    </tr>\n",
       "    <tr>\n",
       "      <th>230</th>\n",
       "      <td>1635925127</td>\n",
       "      <td>#THE_SEPTERNITY_OF_LIBERAL_ARTS</td>\n",
       "      <td></td>\n",
       "      <td>ancientgreece</td>\n",
       "      <td></td>\n",
       "    </tr>\n",
       "    <tr>\n",
       "      <th>245</th>\n",
       "      <td>1635661918</td>\n",
       "      <td>#THE_QUINTERNITY_OF_CLASSICAL_ELEMENTS</td>\n",
       "      <td></td>\n",
       "      <td>ancientgreece</td>\n",
       "      <td></td>\n",
       "    </tr>\n",
       "    <tr>\n",
       "      <th>439</th>\n",
       "      <td>1630741734</td>\n",
       "      <td>Massalia 300 BC A map from a new \"nation/RP/st...</td>\n",
       "      <td></td>\n",
       "      <td>ancientgreece</td>\n",
       "      <td>massalia bc a map from a new discord game lore...</td>\n",
       "    </tr>\n",
       "    <tr>\n",
       "      <th>...</th>\n",
       "      <td>...</td>\n",
       "      <td>...</td>\n",
       "      <td>...</td>\n",
       "      <td>...</td>\n",
       "      <td>...</td>\n",
       "    </tr>\n",
       "    <tr>\n",
       "      <th>5598</th>\n",
       "      <td>1624091503</td>\n",
       "      <td>Nude Server Invite 💜🤍🥰</td>\n",
       "      <td></td>\n",
       "      <td>ancientrome</td>\n",
       "      <td>nude server invite</td>\n",
       "    </tr>\n",
       "    <tr>\n",
       "      <th>5629</th>\n",
       "      <td>1623878717</td>\n",
       "      <td>https://www.artichaeology.com/paintings-depict...</td>\n",
       "      <td>[https://www.artichaeology.com/paintings-depic...</td>\n",
       "      <td>ancientrome</td>\n",
       "      <td></td>\n",
       "    </tr>\n",
       "    <tr>\n",
       "      <th>5638</th>\n",
       "      <td>1623836471</td>\n",
       "      <td>/r/ancientrome hit 80k subscribers yesterday</td>\n",
       "      <td></td>\n",
       "      <td>ancientrome</td>\n",
       "      <td>hit subscriber yesterday</td>\n",
       "    </tr>\n",
       "    <tr>\n",
       "      <th>5794</th>\n",
       "      <td>1622748264</td>\n",
       "      <td>Roman Emperors Portrayed in Memes - Part 2</td>\n",
       "      <td></td>\n",
       "      <td>ancientrome</td>\n",
       "      <td>roman emperors portrayed in memes part</td>\n",
       "    </tr>\n",
       "    <tr>\n",
       "      <th>5796</th>\n",
       "      <td>1622747122</td>\n",
       "      <td>Roman Emperors Portrayed in Memes - Part 1</td>\n",
       "      <td></td>\n",
       "      <td>ancientrome</td>\n",
       "      <td>roman emperors portrayed in memes part</td>\n",
       "    </tr>\n",
       "  </tbody>\n",
       "</table>\n",
       "<p>78 rows × 5 columns</p>\n",
       "</div>"
      ],
      "text/plain": [
       "      created_utc                                              title  \\\n",
       "129    1638460297  Greek funerary helmet, 560-550 BC, Archaeologi...   \n",
       "144    1638178725  Greek funerary helmet, 560-550 BC, Archaeologi...   \n",
       "230    1635925127                    #THE_SEPTERNITY_OF_LIBERAL_ARTS   \n",
       "245    1635661918             #THE_QUINTERNITY_OF_CLASSICAL_ELEMENTS   \n",
       "439    1630741734  Massalia 300 BC A map from a new \"nation/RP/st...   \n",
       "...           ...                                                ...   \n",
       "5598   1624091503                             Nude Server Invite 💜🤍🥰   \n",
       "5629   1623878717  https://www.artichaeology.com/paintings-depict...   \n",
       "5638   1623836471       /r/ancientrome hit 80k subscribers yesterday   \n",
       "5794   1622748264         Roman Emperors Portrayed in Memes - Part 2   \n",
       "5796   1622747122         Roman Emperors Portrayed in Memes - Part 1   \n",
       "\n",
       "                                               selftext      subreddit  \\\n",
       "129                                                      ancientgreece   \n",
       "144                                                      ancientgreece   \n",
       "230                                                      ancientgreece   \n",
       "245                                                      ancientgreece   \n",
       "439                                                      ancientgreece   \n",
       "...                                                 ...            ...   \n",
       "5598                                                       ancientrome   \n",
       "5629  [https://www.artichaeology.com/paintings-depic...    ancientrome   \n",
       "5638                                                       ancientrome   \n",
       "5794                                                       ancientrome   \n",
       "5796                                                       ancientrome   \n",
       "\n",
       "                                                  posts  \n",
       "129   greek funerary helmet bc archaeological museum...  \n",
       "144   greek funerary helmet bc archaeological museum...  \n",
       "230                                                      \n",
       "245                                                      \n",
       "439   massalia bc a map from a new discord game lore...  \n",
       "...                                                 ...  \n",
       "5598                                 nude server invite  \n",
       "5629                                                     \n",
       "5638                           hit subscriber yesterday  \n",
       "5794             roman emperors portrayed in memes part  \n",
       "5796             roman emperors portrayed in memes part  \n",
       "\n",
       "[78 rows x 5 columns]"
      ]
     },
     "execution_count": 72,
     "metadata": {},
     "output_type": "execute_result"
    }
   ],
   "source": [
    "reddit2[reddit2['posts'].duplicated(keep=False)].head(100)"
   ]
  },
  {
   "cell_type": "markdown",
   "id": "7ac9422b",
   "metadata": {},
   "source": [
    "## Final cleanup and save"
   ]
  },
  {
   "cell_type": "code",
   "execution_count": 73,
   "id": "19351c5e",
   "metadata": {
    "ExecuteTime": {
     "end_time": "2022-01-19T14:48:15.287733Z",
     "start_time": "2022-01-19T14:48:15.271771Z"
    }
   },
   "outputs": [
    {
     "data": {
      "text/plain": [
       "created_utc    0\n",
       "title          0\n",
       "selftext       0\n",
       "subreddit      0\n",
       "posts          0\n",
       "dtype: int64"
      ]
     },
     "execution_count": 73,
     "metadata": {},
     "output_type": "execute_result"
    }
   ],
   "source": [
    "# last check before running models\n",
    "reddit2.isnull().sum()"
   ]
  },
  {
   "cell_type": "code",
   "execution_count": 74,
   "id": "6b0620ee",
   "metadata": {
    "ExecuteTime": {
     "end_time": "2022-01-19T14:48:15.317668Z",
     "start_time": "2022-01-19T14:48:15.288380Z"
    },
    "scrolled": true
   },
   "outputs": [
    {
     "data": {
      "text/html": [
       "<div>\n",
       "<style scoped>\n",
       "    .dataframe tbody tr th:only-of-type {\n",
       "        vertical-align: middle;\n",
       "    }\n",
       "\n",
       "    .dataframe tbody tr th {\n",
       "        vertical-align: top;\n",
       "    }\n",
       "\n",
       "    .dataframe thead th {\n",
       "        text-align: right;\n",
       "    }\n",
       "</style>\n",
       "<table border=\"1\" class=\"dataframe\">\n",
       "  <thead>\n",
       "    <tr style=\"text-align: right;\">\n",
       "      <th></th>\n",
       "      <th>created_utc</th>\n",
       "      <th>title</th>\n",
       "      <th>selftext</th>\n",
       "      <th>subreddit</th>\n",
       "      <th>posts</th>\n",
       "    </tr>\n",
       "  </thead>\n",
       "  <tbody>\n",
       "    <tr>\n",
       "      <th>230</th>\n",
       "      <td>1635925127</td>\n",
       "      <td>#THE_SEPTERNITY_OF_LIBERAL_ARTS</td>\n",
       "      <td></td>\n",
       "      <td>ancientgreece</td>\n",
       "      <td></td>\n",
       "    </tr>\n",
       "    <tr>\n",
       "      <th>245</th>\n",
       "      <td>1635661918</td>\n",
       "      <td>#THE_QUINTERNITY_OF_CLASSICAL_ELEMENTS</td>\n",
       "      <td></td>\n",
       "      <td>ancientgreece</td>\n",
       "      <td></td>\n",
       "    </tr>\n",
       "    <tr>\n",
       "      <th>974</th>\n",
       "      <td>1619009251</td>\n",
       "      <td>⚜️⚜️⚜️⚜️⚜️</td>\n",
       "      <td></td>\n",
       "      <td>ancientgreece</td>\n",
       "      <td></td>\n",
       "    </tr>\n",
       "    <tr>\n",
       "      <th>1987</th>\n",
       "      <td>1588248413</td>\n",
       "      <td>https://youtu.be/7izujEa5QLA</td>\n",
       "      <td></td>\n",
       "      <td>ancientgreece</td>\n",
       "      <td></td>\n",
       "    </tr>\n",
       "    <tr>\n",
       "      <th>2166</th>\n",
       "      <td>1580341334</td>\n",
       "      <td>...</td>\n",
       "      <td></td>\n",
       "      <td>ancientgreece</td>\n",
       "      <td></td>\n",
       "    </tr>\n",
       "    <tr>\n",
       "      <th>2310</th>\n",
       "      <td>1569498285</td>\n",
       "      <td>being-spartan-the-practice-behind-the-legend-i...</td>\n",
       "      <td></td>\n",
       "      <td>ancientgreece</td>\n",
       "      <td></td>\n",
       "    </tr>\n",
       "    <tr>\n",
       "      <th>2325</th>\n",
       "      <td>1568890215</td>\n",
       "      <td>being-spartan-the-practice-behind-the-legend-g...</td>\n",
       "      <td></td>\n",
       "      <td>ancientgreece</td>\n",
       "      <td></td>\n",
       "    </tr>\n",
       "    <tr>\n",
       "      <th>2450</th>\n",
       "      <td>1558805865</td>\n",
       "      <td>R.I.P</td>\n",
       "      <td></td>\n",
       "      <td>ancientgreece</td>\n",
       "      <td></td>\n",
       "    </tr>\n",
       "    <tr>\n",
       "      <th>4240</th>\n",
       "      <td>1633668330</td>\n",
       "      <td>MEGABET333 คาสิโนออนไลน์ เครดิตฟรี เงื่อนไขดีท...</td>\n",
       "      <td></td>\n",
       "      <td>ancientrome</td>\n",
       "      <td></td>\n",
       "    </tr>\n",
       "    <tr>\n",
       "      <th>4562</th>\n",
       "      <td>1631484442</td>\n",
       "      <td>MY-HISTORICAL-DISCOVERIES</td>\n",
       "      <td></td>\n",
       "      <td>ancientrome</td>\n",
       "      <td></td>\n",
       "    </tr>\n",
       "    <tr>\n",
       "      <th>5001</th>\n",
       "      <td>1628338238</td>\n",
       "      <td>Cursed_anime</td>\n",
       "      <td></td>\n",
       "      <td>ancientrome</td>\n",
       "      <td></td>\n",
       "    </tr>\n",
       "    <tr>\n",
       "      <th>5230</th>\n",
       "      <td>1626590900</td>\n",
       "      <td>Looks…familiar…</td>\n",
       "      <td></td>\n",
       "      <td>ancientrome</td>\n",
       "      <td></td>\n",
       "    </tr>\n",
       "    <tr>\n",
       "      <th>5520</th>\n",
       "      <td>1624492495</td>\n",
       "      <td>https://www.artichaeology.com/aeneas-the-last-...</td>\n",
       "      <td>[https://www.artichaeology.com/aeneas-the-last...</td>\n",
       "      <td>ancientrome</td>\n",
       "      <td></td>\n",
       "    </tr>\n",
       "    <tr>\n",
       "      <th>5580</th>\n",
       "      <td>1624169207</td>\n",
       "      <td>💗Nude🥰Groupchat</td>\n",
       "      <td></td>\n",
       "      <td>ancientrome</td>\n",
       "      <td></td>\n",
       "    </tr>\n",
       "    <tr>\n",
       "      <th>5629</th>\n",
       "      <td>1623878717</td>\n",
       "      <td>https://www.artichaeology.com/paintings-depict...</td>\n",
       "      <td>[https://www.artichaeology.com/paintings-depic...</td>\n",
       "      <td>ancientrome</td>\n",
       "      <td></td>\n",
       "    </tr>\n",
       "  </tbody>\n",
       "</table>\n",
       "</div>"
      ],
      "text/plain": [
       "      created_utc                                              title  \\\n",
       "230    1635925127                    #THE_SEPTERNITY_OF_LIBERAL_ARTS   \n",
       "245    1635661918             #THE_QUINTERNITY_OF_CLASSICAL_ELEMENTS   \n",
       "974    1619009251                                         ⚜️⚜️⚜️⚜️⚜️   \n",
       "1987   1588248413                       https://youtu.be/7izujEa5QLA   \n",
       "2166   1580341334                                                ...   \n",
       "2310   1569498285  being-spartan-the-practice-behind-the-legend-i...   \n",
       "2325   1568890215  being-spartan-the-practice-behind-the-legend-g...   \n",
       "2450   1558805865                                              R.I.P   \n",
       "4240   1633668330  MEGABET333 คาสิโนออนไลน์ เครดิตฟรี เงื่อนไขดีท...   \n",
       "4562   1631484442                          MY-HISTORICAL-DISCOVERIES   \n",
       "5001   1628338238                                       Cursed_anime   \n",
       "5230   1626590900                                    Looks…familiar…   \n",
       "5520   1624492495  https://www.artichaeology.com/aeneas-the-last-...   \n",
       "5580   1624169207                                    💗Nude🥰Groupchat   \n",
       "5629   1623878717  https://www.artichaeology.com/paintings-depict...   \n",
       "\n",
       "                                               selftext      subreddit posts  \n",
       "230                                                      ancientgreece        \n",
       "245                                                      ancientgreece        \n",
       "974                                                      ancientgreece        \n",
       "1987                                                     ancientgreece        \n",
       "2166                                                     ancientgreece        \n",
       "2310                                                     ancientgreece        \n",
       "2325                                                     ancientgreece        \n",
       "2450                                                     ancientgreece        \n",
       "4240                                                       ancientrome        \n",
       "4562                                                       ancientrome        \n",
       "5001                                                       ancientrome        \n",
       "5230                                                       ancientrome        \n",
       "5520  [https://www.artichaeology.com/aeneas-the-last...    ancientrome        \n",
       "5580                                                       ancientrome        \n",
       "5629  [https://www.artichaeology.com/paintings-depic...    ancientrome        "
      ]
     },
     "execution_count": 74,
     "metadata": {},
     "output_type": "execute_result"
    }
   ],
   "source": [
    "# while there might not be nan values, there might be empty strings due to the \n",
    "# nature of our cleanup function\n",
    "reddit2.loc[reddit2['posts']=='']"
   ]
  },
  {
   "cell_type": "code",
   "execution_count": 75,
   "id": "3a9b6c88",
   "metadata": {
    "ExecuteTime": {
     "end_time": "2022-01-19T14:48:15.336214Z",
     "start_time": "2022-01-19T14:48:15.318616Z"
    }
   },
   "outputs": [],
   "source": [
    "# easy decision - drop them\n",
    "reddit2.drop(reddit2.loc[reddit2['posts']==''].index, inplace=True)"
   ]
  },
  {
   "cell_type": "code",
   "execution_count": 76,
   "id": "a62bf7e1",
   "metadata": {
    "ExecuteTime": {
     "end_time": "2022-01-19T14:48:15.365078Z",
     "start_time": "2022-01-19T14:48:15.336214Z"
    }
   },
   "outputs": [
    {
     "data": {
      "text/plain": [
       "ancientrome      2832\n",
       "ancientgreece    2743\n",
       "Name: subreddit, dtype: int64"
      ]
     },
     "execution_count": 76,
     "metadata": {},
     "output_type": "execute_result"
    }
   ],
   "source": [
    "reddit2['subreddit'].value_counts()"
   ]
  },
  {
   "cell_type": "code",
   "execution_count": 77,
   "id": "a3f6b57c",
   "metadata": {
    "ExecuteTime": {
     "end_time": "2022-01-19T14:48:15.381028Z",
     "start_time": "2022-01-19T14:48:15.365078Z"
    }
   },
   "outputs": [],
   "source": [
    "# dummify `subreddit` column\n",
    "reddit2['subreddit'] = np.where(reddit2['subreddit']=='ancientrome', 0, 1)"
   ]
  },
  {
   "cell_type": "markdown",
   "id": "88af62a2",
   "metadata": {},
   "source": [
    "- one last check - we had already removed all duplicates from the `post` column, but after having cleaned it, we might have created more duplicates. for example, the strings '555hercules is god' and 'hercules is god' (not a real example, just an illustration) would end up being duplicates after digits are removed by our customized cleaning function \"cleanup\""
   ]
  },
  {
   "cell_type": "code",
   "execution_count": 78,
   "id": "5631d318",
   "metadata": {
    "ExecuteTime": {
     "end_time": "2022-01-19T14:48:15.400577Z",
     "start_time": "2022-01-19T14:48:15.381524Z"
    }
   },
   "outputs": [
    {
     "data": {
      "text/plain": [
       "36"
      ]
     },
     "execution_count": 78,
     "metadata": {},
     "output_type": "execute_result"
    }
   ],
   "source": [
    "#re-check for duplicates\n",
    "reddit2['posts'].duplicated().sum()"
   ]
  },
  {
   "cell_type": "code",
   "execution_count": 79,
   "id": "6d82f81f",
   "metadata": {
    "ExecuteTime": {
     "end_time": "2022-01-19T14:48:15.428926Z",
     "start_time": "2022-01-19T14:48:15.402404Z"
    }
   },
   "outputs": [],
   "source": [
    "# good we checked one more time. remove them\n",
    "reddit2.drop_duplicates(subset=['posts'], inplace=True, ignore_index=True)"
   ]
  },
  {
   "cell_type": "code",
   "execution_count": 80,
   "id": "b3e90285",
   "metadata": {
    "ExecuteTime": {
     "end_time": "2022-01-19T14:48:15.552726Z",
     "start_time": "2022-01-19T14:48:15.428926Z"
    }
   },
   "outputs": [],
   "source": [
    "# save the file\n",
    "reddit2.to_csv('../datasets/ancients_testing.csv', index=False)"
   ]
  }
 ],
 "metadata": {
  "kernelspec": {
   "display_name": "Python 3",
   "language": "python",
   "name": "python3"
  },
  "language_info": {
   "codemirror_mode": {
    "name": "ipython",
    "version": 3
   },
   "file_extension": ".py",
   "mimetype": "text/x-python",
   "name": "python",
   "nbconvert_exporter": "python",
   "pygments_lexer": "ipython3",
   "version": "3.8.8"
  },
  "toc": {
   "base_numbering": 1,
   "nav_menu": {},
   "number_sections": true,
   "sideBar": true,
   "skip_h1_title": false,
   "title_cell": "Table of Contents",
   "title_sidebar": "Contents",
   "toc_cell": false,
   "toc_position": {
    "height": "calc(100% - 180px)",
    "left": "10px",
    "top": "150px",
    "width": "205.998px"
   },
   "toc_section_display": true,
   "toc_window_display": true
  },
  "varInspector": {
   "cols": {
    "lenName": 16,
    "lenType": 16,
    "lenVar": 40
   },
   "kernels_config": {
    "python": {
     "delete_cmd_postfix": "",
     "delete_cmd_prefix": "del ",
     "library": "var_list.py",
     "varRefreshCmd": "print(var_dic_list())"
    },
    "r": {
     "delete_cmd_postfix": ") ",
     "delete_cmd_prefix": "rm(",
     "library": "var_list.r",
     "varRefreshCmd": "cat(var_dic_list()) "
    }
   },
   "types_to_exclude": [
    "module",
    "function",
    "builtin_function_or_method",
    "instance",
    "_Feature"
   ],
   "window_display": false
  }
 },
 "nbformat": 4,
 "nbformat_minor": 5
}
