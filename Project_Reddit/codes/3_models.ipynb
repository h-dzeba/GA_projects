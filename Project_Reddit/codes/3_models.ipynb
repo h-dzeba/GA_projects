{
 "cells": [
  {
   "cell_type": "markdown",
   "id": "5218ab62",
   "metadata": {},
   "source": [
    "## Imports, function and data"
   ]
  },
  {
   "cell_type": "code",
   "execution_count": 1,
   "id": "a21ad2f5",
   "metadata": {
    "ExecuteTime": {
     "end_time": "2022-01-19T17:00:18.286930Z",
     "start_time": "2022-01-19T17:00:16.187022Z"
    }
   },
   "outputs": [],
   "source": [
    "import pandas as pd\n",
    "import numpy as np\n",
    "\n",
    "import matplotlib.pyplot as plt\n",
    "import seaborn as sns\n",
    "\n",
    "from sklearn.model_selection import GridSearchCV, train_test_split, cross_val_score\n",
    "from sklearn.pipeline import Pipeline\n",
    "from sklearn.naive_bayes import MultinomialNB\n",
    "from sklearn.metrics import confusion_matrix, plot_confusion_matrix, classification_report, plot_roc_curve, roc_auc_score\n",
    "from sklearn.feature_extraction.text import CountVectorizer, TfidfVectorizer\n",
    "from sklearn.feature_extraction import text\n",
    "from sklearn.ensemble import RandomForestClassifier\n",
    "from sklearn.svm import SVC\n",
    "from sklearn.preprocessing import StandardScaler"
   ]
  },
  {
   "cell_type": "code",
   "execution_count": 2,
   "id": "3c3fa2da",
   "metadata": {
    "ExecuteTime": {
     "end_time": "2022-01-19T17:00:18.304490Z",
     "start_time": "2022-01-19T17:00:18.289307Z"
    }
   },
   "outputs": [],
   "source": [
    "def display_scores(name, gsearch, xtrain, xtest, ytrain, ytest):\n",
    "    \"\"\" the function takes a fitted gridsearchcv as the arguement and\n",
    "    displays scores\n",
    "    \"\"\"\n",
    "    print('='*30)\n",
    "    print(f\"\\033[1m {name} \\033[0m\".center(38, \"=\"))\n",
    "    print('='*30)\n",
    "    print('\\nScores:')\n",
    "    print('-'*30, '\\n')\n",
    "    print('train score:', round(gsearch.score(xtrain, ytrain),2))\n",
    "    print('test score:', round(gsearch.score(xtest, ytest),2))\n",
    "    print('cross-validated score:', round(gsearch.best_score_,2))\n",
    "    print('')\n",
    "    print(\" Best Parameters:\")\n",
    "    print('-'*30, '\\n')\n",
    "    for key, value in gsearch.best_params_.items():\n",
    "        print(key,':', value)"
   ]
  },
  {
   "cell_type": "code",
   "execution_count": 3,
   "id": "aeecb79e",
   "metadata": {
    "ExecuteTime": {
     "end_time": "2022-01-19T17:00:18.319374Z",
     "start_time": "2022-01-19T17:00:18.304989Z"
    }
   },
   "outputs": [],
   "source": [
    "def plot_cmatrix(ytest, predict):\n",
    "    \"\"\" plot rome/greece confusion matrix and recall/accuracy stats,\n",
    "    renamed, as there are no real 'positive' or 'negative' outcome\n",
    "    \"\"\"\n",
    "    cm = pd.DataFrame(confusion_matrix(ytest, predict),\n",
    "                 index=[' Actual Rome', 'Actual Greece'],\n",
    "                 columns=['Predicted Rome', 'Predicted Greece'])\n",
    "    tn, fp, fn, tp = confusion_matrix(ytest, predict).ravel()\n",
    "    \n",
    "    print('\\n\\n***Confusion Matrix***\\n')\n",
    "    display(cm)\n",
    "    print('\\nScores:')\n",
    "    print('-'*30, '\\n')\n",
    "    print('Rome recall:    ', round(tn/(tn+fp),2))\n",
    "    print('Rome precision:  ', round(tn/(tn+fn),2))\n",
    "    print('Greece recall:  ', round(tp/(tp+fn),2))\n",
    "    print('Greece precision:', round(tp/(tp+fp),2))"
   ]
  },
  {
   "cell_type": "code",
   "execution_count": 4,
   "id": "d177461c",
   "metadata": {
    "ExecuteTime": {
     "end_time": "2022-01-19T17:00:18.332103Z",
     "start_time": "2022-01-19T17:00:18.321856Z"
    }
   },
   "outputs": [],
   "source": [
    "def topwords_bar(x, y, xlabel, model):\n",
    "    fig, ax = plt.subplots(figsize=(6,6))\n",
    "    sns.barplot(x = x, y = y)\n",
    "    plt.title(f'Top 30 Predictive Words - {model}', fontsize=14, \n",
    "             color='Darkorchid')\n",
    "    plt.xlabel(xlabel, fontsize=12, color='darkgoldenrod')\n",
    "    plt.ylabel('')\n",
    "    plt.show()"
   ]
  },
  {
   "cell_type": "code",
   "execution_count": 5,
   "id": "92d4e894",
   "metadata": {
    "ExecuteTime": {
     "end_time": "2022-01-19T17:00:18.353483Z",
     "start_time": "2022-01-19T17:00:18.335122Z"
    }
   },
   "outputs": [],
   "source": [
    "# pasted over from the previous file\n",
    "my_stopwords = ['ancient', 'roman', 'rome', 'romans', 'greek', 'greece',\n",
    "                'greeks', 'amp', 'know', 'like', 'make', 'look', 'just',\n",
    "                'use', 'really', '𝗔𝘄𝗮𝗿𝗱', '𝗕𝗲𝗹𝗳𝗮𝘀𝘁', '𝗗𝗼𝗰', '𝗗𝘂𝗯𝗹𝗶𝗻',\n",
    "                '𝗙𝗲𝘀𝘁𝗶𝘃𝗮𝗹', '𝗙𝗶𝗹𝗺', '𝗚𝗿𝗲𝗲𝗸', '𝗜𝗻𝗱𝗶𝗲𝗖𝗼𝗿𝗸', '𝗜𝗻𝘁𝗲𝗿𝗻𝗮𝘁𝗶𝗼𝗻𝗮𝗹',\n",
    "                '𝗢𝗙𝗙𝗜𝗖𝗜𝗔𝗟', '𝗥𝗼𝘁𝘁𝗲𝗿𝗱𝗮𝗺', '𝗦𝗘𝗟𝗘𝗖𝗧𝗜𝗢𝗡', '𝗦𝗽𝗶𝗿𝗶𝘁',\n",
    "                '𝗧𝗵𝗲𝘀𝘀𝗮𝗹𝗼𝗻𝗶𝗸𝗶', '𝗪𝗜𝗡𝗡𝗘𝗥', '𝗼𝗳', '𝘁𝗵𝗲', '𝘋𝘪𝘳𝘦𝘤𝘵𝘰𝘳',\n",
    "                '𝘋𝘰𝘺𝘭𝘦', '𝘋𝘶𝘣𝘭𝘪𝘯', '𝘎𝘳á𝘪𝘯𝘯𝘦', '𝘏𝘶𝘮𝘱𝘩𝘳𝘦𝘺𝘴', '𝘐𝘍𝘍',\n",
    "                '𝘙𝘰𝘯𝘢𝘯', '𝘚𝘤𝘢𝘯𝘯𝘢𝘪𝘯', '𝘽𝙐𝙍𝙉𝙄𝙉𝙂', '𝙎𝙏𝙍𝙀𝘼𝙈𝙎', '𝙖𝙣𝙙',\n",
    "                '𝙖𝙧𝙚', '𝙙𝙚𝙨𝙘𝙧𝙞𝙗𝙚', '𝙙𝙞𝙛𝙛𝙞𝙘𝙪𝙡𝙩', '𝙙𝙧𝙖𝙬𝙣', '𝙚𝙢𝙗𝙧𝙖𝙘𝙚',\n",
    "                '𝙝𝙖𝙧𝙙', '𝙝𝙖𝙧𝙙𝙚𝙧', '𝙞𝙛', '𝙠𝙣𝙚𝙬', '𝙤𝙗𝙨𝙘𝙪𝙧𝙚', '𝙤𝙣𝙚𝙨',\n",
    "                '𝙤𝙣𝙡𝙮', '𝙦𝙪𝙖𝙣𝙩𝙞𝙛𝙮', '𝙨𝙖𝙬', '𝙨𝙪𝙗𝙟𝙚𝙘𝙩𝙨', '𝙩𝙝𝙖𝙩', '𝙩𝙝𝙚',\n",
    "                '𝙩𝙝𝙚𝙮', '𝙩𝙤', '𝙬𝙤𝙧𝙡𝙙', '𝙬𝙤𝙪𝙡𝙙']\n",
    "\n",
    "# my_stopwords2 =  ['ádám', 'ένα', 'αν', 'από', 'αρχαία', 'αἰδοῖον', 'γε', 'για', 'δεν', 'είναι', 'ζωή', 'θα', 'και', 'καὶ',\n",
    "#                'κύβος', 'λοιμοῦ', 'με', 'μου', 'νέο', 'να', 'νεφέλην', 'οι', 'που', 'σε', 'στο', 'στον', 'τα', 'τη',\n",
    "#                'την', 'της', 'τι', 'το', 'τον', 'του', 'τους', 'των', 'τῇ', 'τῶν', 'φωτογραφίες', 'χαίρετε', 'χωρίς',\n",
    "#                'аnd', 'оf', 'раssed', 'עברתי', 'ἀθήναζε', 'ἀνερρίφθω', '𝗔𝘄𝗮𝗿𝗱', '𝗕𝗲𝗹𝗳𝗮𝘀𝘁', '𝗗𝗼𝗰', '𝗗𝘂𝗯𝗹𝗶𝗻', '𝗙𝗲𝘀𝘁𝗶𝘃𝗮𝗹',\n",
    "#                '𝗙𝗶𝗹𝗺', '𝗚𝗿𝗲𝗲𝗸', '𝗜𝗻𝗱𝗶𝗲𝗖𝗼𝗿𝗸', '𝗜𝗻𝘁𝗲𝗿𝗻𝗮𝘁𝗶𝗼𝗻𝗮𝗹', '𝗢𝗙𝗙𝗜𝗖𝗜𝗔𝗟', '𝗥𝗼𝘁𝘁𝗲𝗿𝗱𝗮𝗺', '𝗦𝗘𝗟𝗘𝗖𝗧𝗜𝗢𝗡', '𝗦𝗽𝗶𝗿𝗶𝘁', '𝗧𝗵𝗲𝘀𝘀𝗮𝗹𝗼𝗻𝗶𝗸𝗶',\n",
    "#                '𝗪𝗜𝗡𝗡𝗘𝗥', '𝗼𝗳', '𝘁𝗵𝗲', '𝘋𝘪𝘳𝘦𝘤𝘵𝘰𝘳', '𝘋𝘰𝘺𝘭𝘦', '𝘋𝘶𝘣𝘭𝘪𝘯', '𝘎𝘳á𝘪𝘯𝘯𝘦', '𝘏𝘶𝘮𝘱𝘩𝘳𝘦𝘺𝘴', '𝘐𝘍𝘍', '𝘙𝘰𝘯𝘢𝘯', '𝘚𝘤𝘢𝘯𝘯𝘢𝘪𝘯',\n",
    "#                '𝘽𝙐𝙍𝙉𝙄𝙉𝙂', '𝙎𝙏𝙍𝙀𝘼𝙈𝙎', '𝙖𝙣𝙙', '𝙖𝙧𝙚', '𝙙𝙚𝙨𝙘𝙧𝙞𝙗𝙚', '𝙙𝙞𝙛𝙛𝙞𝙘𝙪𝙡𝙩', '𝙙𝙧𝙖𝙬𝙣', '𝙚𝙢𝙗𝙧𝙖𝙘𝙚', '𝙝𝙖𝙧𝙙', '𝙝𝙖𝙧𝙙𝙚𝙧',\n",
    "#                '𝙞𝙛', '𝙠𝙣𝙚𝙬', '𝙤𝙗𝙨𝙘𝙪𝙧𝙚', '𝙤𝙣𝙚𝙨', '𝙤𝙣𝙡𝙮', '𝙦𝙪𝙖𝙣𝙩𝙞𝙛𝙮', '𝙨𝙖𝙬', '𝙨𝙪𝙗𝙟𝙚𝙘𝙩𝙨', '𝙩𝙝𝙖𝙩', '𝙩𝙝𝙚', '𝙩𝙝𝙚𝙮', '𝙩𝙤',\n",
    "#                '𝙬𝙤𝙧𝙡𝙙', '𝙬𝙤𝙪𝙡𝙙']\n",
    "\n",
    "my_stopwords_greek = ['ancient', 'roman', 'rome', 'romans', 'greek', 'greece', 'greeks', 'amp', 'know', 'like', 'make', \n",
    "                      'look', 'just', 'use', 'really', 'ádám', 'ένα', 'αν', 'από', 'αρχαία', 'αἰδοῖον', 'γε', 'για',\n",
    "                      'δεν', 'είναι', 'ζωή', 'θα', 'και', 'καὶ', 'κύβος', 'λοιμοῦ', 'με', 'μου', 'νέο', 'να', 'νεφέλην',\n",
    "                      'οι', 'που', 'σε', 'στο', 'στον', 'τα', 'τη', 'την', 'της', 'τι', 'το', 'τον', 'του', 'τους', 'των',\n",
    "                      'τῇ', 'τῶν', 'φωτογραφίες', 'χαίρετε', 'χωρίς', 'аnd', 'оf', 'раssed', 'עברתי', 'ἀθήναζε',\n",
    "                      'ἀνερρίφθω', '𝗔𝘄𝗮𝗿𝗱', '𝗕𝗲𝗹𝗳𝗮𝘀𝘁', '𝗗𝗼𝗰', '𝗗𝘂𝗯𝗹𝗶𝗻', '𝗙𝗲𝘀𝘁𝗶𝘃𝗮𝗹', '𝗙𝗶𝗹𝗺', '𝗚𝗿𝗲𝗲𝗸', '𝗜𝗻𝗱𝗶𝗲𝗖𝗼𝗿𝗸',\n",
    "                      '𝗜𝗻𝘁𝗲𝗿𝗻𝗮𝘁𝗶𝗼𝗻𝗮𝗹', '𝗢𝗙𝗙𝗜𝗖𝗜𝗔𝗟', '𝗥𝗼𝘁𝘁𝗲𝗿𝗱𝗮𝗺', '𝗦𝗘𝗟𝗘𝗖𝗧𝗜𝗢𝗡', '𝗦𝗽𝗶𝗿𝗶𝘁', '𝗧𝗵𝗲𝘀𝘀𝗮𝗹𝗼𝗻𝗶𝗸𝗶', '𝗪𝗜𝗡𝗡𝗘𝗥','𝗼𝗳', '𝘁𝗵𝗲',\n",
    "                      '𝘋𝘪𝘳𝘦𝘤𝘵𝘰𝘳', '𝘋𝘰𝘺𝘭𝘦', '𝘋𝘶𝘣𝘭𝘪𝘯', '𝘎𝘳á𝘪𝘯𝘯𝘦', '𝘏𝘶𝘮𝘱𝘩𝘳𝘦𝘺𝘴', '𝘐𝘍𝘍', '𝘙𝘰𝘯𝘢𝘯', '𝘚𝘤𝘢𝘯𝘯𝘢𝘪𝘯', '𝘽𝙐𝙍𝙉𝙄𝙉𝙂',\n",
    "                      '𝙎𝙏𝙍𝙀𝘼𝙈𝙎', '𝙖𝙣𝙙', '𝙖𝙧𝙚', '𝙙𝙚𝙨𝙘𝙧𝙞𝙗𝙚', '𝙙𝙞𝙛𝙛𝙞𝙘𝙪𝙡𝙩', '𝙙𝙧𝙖𝙬𝙣', '𝙚𝙢𝙗𝙧𝙖𝙘𝙚', '𝙝𝙖𝙧𝙙', '𝙝𝙖𝙧𝙙𝙚𝙧', '𝙞𝙛',\n",
    "                      '𝙠𝙣𝙚𝙬', '𝙤𝙗𝙨𝙘𝙪𝙧𝙚', '𝙤𝙣𝙚𝙨', '𝙤𝙣𝙡𝙮', '𝙦𝙪𝙖𝙣𝙩𝙞𝙛𝙮', '𝙨𝙖𝙬', '𝙨𝙪𝙗𝙟𝙚𝙘𝙩𝙨', '𝙩𝙝𝙖𝙩', '𝙩𝙝𝙚', '𝙩𝙝𝙚𝙮', '𝙩𝙤',\n",
    "                      '𝙬𝙤𝙧𝙡𝙙', '𝙬𝙤𝙪𝙡𝙙']"
   ]
  },
  {
   "cell_type": "code",
   "execution_count": 6,
   "id": "5298a120",
   "metadata": {
    "ExecuteTime": {
     "end_time": "2022-01-19T17:00:18.418311Z",
     "start_time": "2022-01-19T17:00:18.353483Z"
    }
   },
   "outputs": [],
   "source": [
    "reddit = pd.read_csv('../datasets/ancients_testing.csv')"
   ]
  },
  {
   "cell_type": "code",
   "execution_count": 7,
   "id": "9a3b4dd2",
   "metadata": {
    "ExecuteTime": {
     "end_time": "2022-01-19T17:00:18.439528Z",
     "start_time": "2022-01-19T17:00:18.420181Z"
    },
    "scrolled": true
   },
   "outputs": [
    {
     "data": {
      "text/html": [
       "<div>\n",
       "<style scoped>\n",
       "    .dataframe tbody tr th:only-of-type {\n",
       "        vertical-align: middle;\n",
       "    }\n",
       "\n",
       "    .dataframe tbody tr th {\n",
       "        vertical-align: top;\n",
       "    }\n",
       "\n",
       "    .dataframe thead th {\n",
       "        text-align: right;\n",
       "    }\n",
       "</style>\n",
       "<table border=\"1\" class=\"dataframe\">\n",
       "  <thead>\n",
       "    <tr style=\"text-align: right;\">\n",
       "      <th></th>\n",
       "      <th>created_utc</th>\n",
       "      <th>title</th>\n",
       "      <th>selftext</th>\n",
       "      <th>subreddit</th>\n",
       "      <th>posts</th>\n",
       "    </tr>\n",
       "  </thead>\n",
       "  <tbody>\n",
       "    <tr>\n",
       "      <th>0</th>\n",
       "      <td>1641904278</td>\n",
       "      <td>Minoan girl chilling</td>\n",
       "      <td>NaN</td>\n",
       "      <td>1</td>\n",
       "      <td>minoan girl chill</td>\n",
       "    </tr>\n",
       "    <tr>\n",
       "      <th>1</th>\n",
       "      <td>1641859463</td>\n",
       "      <td>Book Reccs for World Civ I</td>\n",
       "      <td>I’m looking for a book to review in my World C...</td>\n",
       "      <td>1</td>\n",
       "      <td>book reccs for world civ i i m look for a book...</td>\n",
       "    </tr>\n",
       "    <tr>\n",
       "      <th>2</th>\n",
       "      <td>1641837949</td>\n",
       "      <td>I've started a supplementary twitch stream of ...</td>\n",
       "      <td>Hi all, I'm a high school teacher and I've bee...</td>\n",
       "      <td>1</td>\n",
       "      <td>i start a supplementary twitch stream of assas...</td>\n",
       "    </tr>\n",
       "    <tr>\n",
       "      <th>3</th>\n",
       "      <td>1641832030</td>\n",
       "      <td>Dark Academia:A Level Ancient History- Athens ...</td>\n",
       "      <td>NaN</td>\n",
       "      <td>1</td>\n",
       "      <td>dark academia a level ancient athens and spart...</td>\n",
       "    </tr>\n",
       "    <tr>\n",
       "      <th>4</th>\n",
       "      <td>1641819157</td>\n",
       "      <td>The Ancient Greek Hero course</td>\n",
       "      <td>If you're interested in delving deeper into th...</td>\n",
       "      <td>1</td>\n",
       "      <td>the ancient greek hero course if you intereste...</td>\n",
       "    </tr>\n",
       "  </tbody>\n",
       "</table>\n",
       "</div>"
      ],
      "text/plain": [
       "   created_utc                                              title  \\\n",
       "0   1641904278                               Minoan girl chilling   \n",
       "1   1641859463                         Book Reccs for World Civ I   \n",
       "2   1641837949  I've started a supplementary twitch stream of ...   \n",
       "3   1641832030  Dark Academia:A Level Ancient History- Athens ...   \n",
       "4   1641819157                      The Ancient Greek Hero course   \n",
       "\n",
       "                                            selftext  subreddit  \\\n",
       "0                                                NaN          1   \n",
       "1  I’m looking for a book to review in my World C...          1   \n",
       "2  Hi all, I'm a high school teacher and I've bee...          1   \n",
       "3                                                NaN          1   \n",
       "4  If you're interested in delving deeper into th...          1   \n",
       "\n",
       "                                               posts  \n",
       "0                                  minoan girl chill  \n",
       "1  book reccs for world civ i i m look for a book...  \n",
       "2  i start a supplementary twitch stream of assas...  \n",
       "3  dark academia a level ancient athens and spart...  \n",
       "4  the ancient greek hero course if you intereste...  "
      ]
     },
     "execution_count": 7,
     "metadata": {},
     "output_type": "execute_result"
    }
   ],
   "source": [
    "reddit.head()"
   ]
  },
  {
   "cell_type": "markdown",
   "id": "9af24ce2",
   "metadata": {
    "ExecuteTime": {
     "end_time": "2022-01-19T00:22:52.142323Z",
     "start_time": "2022-01-19T00:22:52.136756Z"
    }
   },
   "source": [
    "## Naive Bayes Models"
   ]
  },
  {
   "cell_type": "code",
   "execution_count": 8,
   "id": "fbdaa096",
   "metadata": {
    "ExecuteTime": {
     "end_time": "2022-01-19T17:00:18.458728Z",
     "start_time": "2022-01-19T17:00:18.441796Z"
    }
   },
   "outputs": [],
   "source": [
    "# split the dataset. this train-test split will be used throughout the notebook\n",
    "X_train, X_test, y_train, y_test = train_test_split(reddit['posts'],\n",
    "    reddit['subreddit'], stratify = reddit['subreddit'], random_state=42)"
   ]
  },
  {
   "cell_type": "markdown",
   "id": "a2d3a35d",
   "metadata": {
    "ExecuteTime": {
     "end_time": "2022-01-19T00:22:57.530798Z",
     "start_time": "2022-01-19T00:22:57.525568Z"
    }
   },
   "source": [
    "### Baseline Model"
   ]
  },
  {
   "cell_type": "code",
   "execution_count": 9,
   "id": "db0ab233",
   "metadata": {
    "ExecuteTime": {
     "end_time": "2022-01-19T17:00:18.491556Z",
     "start_time": "2022-01-19T17:00:18.461338Z"
    },
    "scrolled": true
   },
   "outputs": [
    {
     "data": {
      "text/plain": [
       "'train'"
      ]
     },
     "metadata": {},
     "output_type": "display_data"
    },
    {
     "data": {
      "text/plain": [
       "0    0.506\n",
       "1    0.494\n",
       "Name: subreddit, dtype: float64"
      ]
     },
     "metadata": {},
     "output_type": "display_data"
    },
    {
     "data": {
      "text/plain": [
       "'test'"
      ]
     },
     "metadata": {},
     "output_type": "display_data"
    },
    {
     "data": {
      "text/plain": [
       "0    0.506\n",
       "1    0.494\n",
       "Name: subreddit, dtype: float64"
      ]
     },
     "metadata": {},
     "output_type": "display_data"
    }
   ],
   "source": [
    "display('train', round(y_train.value_counts(normalize=True),3), 'test', round(y_test.value_counts(normalize=True),3))"
   ]
  },
  {
   "cell_type": "markdown",
   "id": "c0b515f0",
   "metadata": {
    "ExecuteTime": {
     "end_time": "2022-01-17T01:20:55.215012Z",
     "start_time": "2022-01-17T01:20:55.191755Z"
    }
   },
   "source": [
    "- guessing all 0 (ancientrome) would give us an accuracy score of 0.51 (with a catastrophic recall of 0 for ancientgreece)"
   ]
  },
  {
   "cell_type": "code",
   "execution_count": 10,
   "id": "74c68620",
   "metadata": {
    "ExecuteTime": {
     "end_time": "2022-01-19T17:00:18.503466Z",
     "start_time": "2022-01-19T17:00:18.494286Z"
    }
   },
   "outputs": [
    {
     "data": {
      "text/plain": [
       "382"
      ]
     },
     "execution_count": 10,
     "metadata": {},
     "output_type": "execute_result"
    }
   ],
   "source": [
    "# stopwords = text.ENGLISH_STOP_WORDS plus the shorter list of stopwords imported from the previous notebook\n",
    "stopwords = text.ENGLISH_STOP_WORDS.union(my_stopwords)\n",
    "len(stopwords)"
   ]
  },
  {
   "cell_type": "code",
   "execution_count": 11,
   "id": "2c43cbb1",
   "metadata": {
    "ExecuteTime": {
     "end_time": "2022-01-19T17:00:18.517603Z",
     "start_time": "2022-01-19T17:00:18.505252Z"
    }
   },
   "outputs": [
    {
     "name": "stdout",
     "output_type": "stream",
     "text": [
      "429\n"
     ]
    }
   ],
   "source": [
    "# stopwords_greek = text.ENGLISH_STOP_WORDS.union(my_stopwords2)\n",
    "# print(len(stopwords_greek))\n",
    "stopwords2_greek = text.ENGLISH_STOP_WORDS.union(my_stopwords_greek)\n",
    "print(len(stopwords2_greek))"
   ]
  },
  {
   "cell_type": "markdown",
   "id": "1e426381",
   "metadata": {},
   "source": [
    "### NB w/cvec"
   ]
  },
  {
   "cell_type": "code",
   "execution_count": 12,
   "id": "591f4cf1",
   "metadata": {
    "ExecuteTime": {
     "end_time": "2022-01-19T17:00:18.533597Z",
     "start_time": "2022-01-19T17:00:18.517603Z"
    }
   },
   "outputs": [],
   "source": [
    "# pipeline with countvectorizer and NB\n",
    "pipe = Pipeline([\n",
    "    ('cvec', CountVectorizer(stop_words=stopwords)),\n",
    "    ('nb', MultinomialNB())\n",
    "    ])"
   ]
  },
  {
   "cell_type": "code",
   "execution_count": 13,
   "id": "74ea73be",
   "metadata": {
    "ExecuteTime": {
     "end_time": "2022-01-19T17:00:18.550414Z",
     "start_time": "2022-01-19T17:00:18.533597Z"
    }
   },
   "outputs": [],
   "source": [
    "# parameters for gridsearch\n",
    "pipe_params = {\n",
    "    'cvec__max_features': [3000, 4000, 6000,],\n",
    "    'cvec__min_df':[3, 4],\n",
    "    'cvec__ngram_range':[(1,2), (1,3)],\n",
    "    'nb__alpha':[0.1, 0.5, 1, 2]}"
   ]
  },
  {
   "cell_type": "code",
   "execution_count": 14,
   "id": "2f414869",
   "metadata": {
    "ExecuteTime": {
     "end_time": "2022-01-19T17:00:18.559411Z",
     "start_time": "2022-01-19T17:00:18.551318Z"
    }
   },
   "outputs": [],
   "source": [
    "gs = GridSearchCV(pipe, pipe_params, cv=6)"
   ]
  },
  {
   "cell_type": "code",
   "execution_count": 15,
   "id": "9b70fe35",
   "metadata": {
    "ExecuteTime": {
     "end_time": "2022-01-19T17:02:23.048089Z",
     "start_time": "2022-01-19T17:00:18.561599Z"
    },
    "scrolled": true
   },
   "outputs": [],
   "source": [
    "gs.fit(X_train, y_train);"
   ]
  },
  {
   "cell_type": "code",
   "execution_count": 16,
   "id": "c70bb243",
   "metadata": {
    "ExecuteTime": {
     "end_time": "2022-01-19T17:02:23.437615Z",
     "start_time": "2022-01-19T17:02:23.048089Z"
    },
    "scrolled": true
   },
   "outputs": [
    {
     "name": "stdout",
     "output_type": "stream",
     "text": [
      "best params:  {'cvec__max_features': 4000, 'cvec__min_df': 3, 'cvec__ngram_range': (1, 2), 'nb__alpha': 0.5}\n",
      "train score:  0.8750601829561868\n",
      "test score:  0.8101083032490974\n",
      "crossval score: 0.7922474121896087\n"
     ]
    }
   ],
   "source": [
    "print('best params: ', gs.best_params_)\n",
    "print('train score: ', gs.score(X_train, y_train))\n",
    "print('test score: ', gs.score(X_test, y_test))\n",
    "print('crossval score:', gs.best_score_)\n",
    "pred = gs.predict(X_test)"
   ]
  },
  {
   "cell_type": "markdown",
   "id": "ceca6451",
   "metadata": {},
   "source": [
    "**Initial assessment**\n",
    "- it would initially appear that the scores on test and train data are satisfactory at close to 0.9 and 0.8.\n",
    "- there is a substantial drop in accuracy between train and test, which needs to be investigated\n",
    "\n",
    "**Way forward**\n",
    "- rather than just blindly trying more hyper-parameters and more models, which would actually be quite quick and easy as it would only require slight modification to our pipeline, we think it'd be more prudent to pause and thoroughly investigate the results of the above model. That way we may glean what it is that the model actually does, which words does it use, and how and where does it go wrong. Diving under the hood, we believe, will yield more benefits than just experimenting with random parameters and models"
   ]
  },
  {
   "cell_type": "markdown",
   "id": "d29f34c6",
   "metadata": {},
   "source": [
    "#### Wrong predictions"
   ]
  },
  {
   "cell_type": "code",
   "execution_count": 17,
   "id": "603f900e",
   "metadata": {
    "ExecuteTime": {
     "end_time": "2022-01-19T17:02:23.529929Z",
     "start_time": "2022-01-19T17:02:23.438373Z"
    },
    "scrolled": true
   },
   "outputs": [
    {
     "name": "stdout",
     "output_type": "stream",
     "text": [
      "\n",
      "\n",
      "***Confusion Matrix***\n",
      "\n"
     ]
    },
    {
     "data": {
      "text/html": [
       "<div>\n",
       "<style scoped>\n",
       "    .dataframe tbody tr th:only-of-type {\n",
       "        vertical-align: middle;\n",
       "    }\n",
       "\n",
       "    .dataframe tbody tr th {\n",
       "        vertical-align: top;\n",
       "    }\n",
       "\n",
       "    .dataframe thead th {\n",
       "        text-align: right;\n",
       "    }\n",
       "</style>\n",
       "<table border=\"1\" class=\"dataframe\">\n",
       "  <thead>\n",
       "    <tr style=\"text-align: right;\">\n",
       "      <th></th>\n",
       "      <th>Predicted Rome</th>\n",
       "      <th>Predicted Greece</th>\n",
       "    </tr>\n",
       "  </thead>\n",
       "  <tbody>\n",
       "    <tr>\n",
       "      <th>Actual Rome</th>\n",
       "      <td>561</td>\n",
       "      <td>140</td>\n",
       "    </tr>\n",
       "    <tr>\n",
       "      <th>Actual Greece</th>\n",
       "      <td>123</td>\n",
       "      <td>561</td>\n",
       "    </tr>\n",
       "  </tbody>\n",
       "</table>\n",
       "</div>"
      ],
      "text/plain": [
       "               Predicted Rome  Predicted Greece\n",
       " Actual Rome              561               140\n",
       "Actual Greece             123               561"
      ]
     },
     "metadata": {},
     "output_type": "display_data"
    },
    {
     "name": "stdout",
     "output_type": "stream",
     "text": [
      "\n",
      "Scores:\n",
      "------------------------------ \n",
      "\n",
      "Rome recall:     0.8\n",
      "Rome precision:   0.82\n",
      "Greece recall:   0.82\n",
      "Greece precision: 0.8\n"
     ]
    }
   ],
   "source": [
    "# get predictions and use our cm plotting function\n",
    "pred = gs.predict(X_test)\n",
    "plot_cmatrix(y_test, pred)"
   ]
  },
  {
   "cell_type": "code",
   "execution_count": 18,
   "id": "9966dfc1",
   "metadata": {
    "ExecuteTime": {
     "end_time": "2022-01-19T17:02:23.561395Z",
     "start_time": "2022-01-19T17:02:23.531848Z"
    },
    "scrolled": false
   },
   "outputs": [
    {
     "data": {
      "text/html": [
       "<div>\n",
       "<style scoped>\n",
       "    .dataframe tbody tr th:only-of-type {\n",
       "        vertical-align: middle;\n",
       "    }\n",
       "\n",
       "    .dataframe tbody tr th {\n",
       "        vertical-align: top;\n",
       "    }\n",
       "\n",
       "    .dataframe thead th {\n",
       "        text-align: right;\n",
       "    }\n",
       "</style>\n",
       "<table border=\"1\" class=\"dataframe\">\n",
       "  <thead>\n",
       "    <tr style=\"text-align: right;\">\n",
       "      <th></th>\n",
       "      <th>text</th>\n",
       "      <th>predicted</th>\n",
       "      <th>actual</th>\n",
       "    </tr>\n",
       "  </thead>\n",
       "  <tbody>\n",
       "    <tr>\n",
       "      <th>0</th>\n",
       "      <td>byzantines greeks romans or greeks cosplaying a romans so this be a controversial topic especially among roman history enthusiast less among roman history scholar but i want the opinion of some of...</td>\n",
       "      <td>Rome</td>\n",
       "      <td>Greece</td>\n",
       "    </tr>\n",
       "    <tr>\n",
       "      <th>1</th>\n",
       "      <td>bettany hughes documentary about the roman god bacchus</td>\n",
       "      <td>Greece</td>\n",
       "      <td>Rome</td>\n",
       "    </tr>\n",
       "    <tr>\n",
       "      <th>2</th>\n",
       "      <td>worst omens in ancient history</td>\n",
       "      <td>Rome</td>\n",
       "      <td>Greece</td>\n",
       "    </tr>\n",
       "    <tr>\n",
       "      <th>3</th>\n",
       "      <td>saw this today on too good not to post</td>\n",
       "      <td>Greece</td>\n",
       "      <td>Rome</td>\n",
       "    </tr>\n",
       "    <tr>\n",
       "      <th>4</th>\n",
       "      <td>hope you recognise a couple of these mince pie design</td>\n",
       "      <td>Rome</td>\n",
       "      <td>Greece</td>\n",
       "    </tr>\n",
       "    <tr>\n",
       "      <th>5</th>\n",
       "      <td>saw the kylix of theseus at the british museum a couple day ago</td>\n",
       "      <td>Rome</td>\n",
       "      <td>Greece</td>\n",
       "    </tr>\n",
       "    <tr>\n",
       "      <th>6</th>\n",
       "      <td>question about a suppose quote by velleius paterculus hi fellow fan of the ancient times i get a question for the expert in truth about velleius paterculus prologomena write by summer on page he s...</td>\n",
       "      <td>Greece</td>\n",
       "      <td>Rome</td>\n",
       "    </tr>\n",
       "    <tr>\n",
       "      <th>7</th>\n",
       "      <td>any map of greece drawn durring the time of the ancient greeks i look for a map of greece date anywhere from ce to ce</td>\n",
       "      <td>Rome</td>\n",
       "      <td>Greece</td>\n",
       "    </tr>\n",
       "    <tr>\n",
       "      <th>8</th>\n",
       "      <td>oops</td>\n",
       "      <td>Rome</td>\n",
       "      <td>Greece</td>\n",
       "    </tr>\n",
       "    <tr>\n",
       "      <th>9</th>\n",
       "      <td>the great allegory of the west jacob berman history valley the meaning of revelation amp mysteries</td>\n",
       "      <td>Greece</td>\n",
       "      <td>Rome</td>\n",
       "    </tr>\n",
       "    <tr>\n",
       "      <th>10</th>\n",
       "      <td>what be your top similarity and most surprising difference between roman sensibility and modern time history in high school be tame down quite a bit reading up on my own i find the humor and vulga...</td>\n",
       "      <td>Greece</td>\n",
       "      <td>Rome</td>\n",
       "    </tr>\n",
       "    <tr>\n",
       "      <th>11</th>\n",
       "      <td>romans the greeks wannabes as ancient roman mythology have it romans be an offshoot of greece but can this be trust i be not sure the greeks really saw romans a such most strike of all their langu...</td>\n",
       "      <td>Greece</td>\n",
       "      <td>Rome</td>\n",
       "    </tr>\n",
       "    <tr>\n",
       "      <th>12</th>\n",
       "      <td>city beneath the waves pavlopetri bbc documentary</td>\n",
       "      <td>Rome</td>\n",
       "      <td>Greece</td>\n",
       "    </tr>\n",
       "    <tr>\n",
       "      <th>13</th>\n",
       "      <td>bbc news alfred the great southwark statue be partly roman goddess</td>\n",
       "      <td>Greece</td>\n",
       "      <td>Rome</td>\n",
       "    </tr>\n",
       "    <tr>\n",
       "      <th>14</th>\n",
       "      <td>ordered this neapolis gorgon ring what do you guy think</td>\n",
       "      <td>Rome</td>\n",
       "      <td>Greece</td>\n",
       "    </tr>\n",
       "    <tr>\n",
       "      <th>15</th>\n",
       "      <td>prohibition a success</td>\n",
       "      <td>Rome</td>\n",
       "      <td>Greece</td>\n",
       "    </tr>\n",
       "    <tr>\n",
       "      <th>16</th>\n",
       "      <td>lawmakers in ancient greece lycurgus draco solon for kids</td>\n",
       "      <td>Rome</td>\n",
       "      <td>Greece</td>\n",
       "    </tr>\n",
       "    <tr>\n",
       "      <th>17</th>\n",
       "      <td>used bookstore be a success</td>\n",
       "      <td>Greece</td>\n",
       "      <td>Rome</td>\n",
       "    </tr>\n",
       "    <tr>\n",
       "      <th>18</th>\n",
       "      <td>a bit of ancient sacrifice a oppose army prepare for battle</td>\n",
       "      <td>Rome</td>\n",
       "      <td>Greece</td>\n",
       "    </tr>\n",
       "    <tr>\n",
       "      <th>19</th>\n",
       "      <td>gladiator fight provocatores acta autun</td>\n",
       "      <td>Rome</td>\n",
       "      <td>Greece</td>\n",
       "    </tr>\n",
       "    <tr>\n",
       "      <th>20</th>\n",
       "      <td>roman coin hello all be there any good book or resource on roman or other ancient currency i think about revisit coin collect many year after i stop so it basically from scratch and certainly a ne...</td>\n",
       "      <td>Greece</td>\n",
       "      <td>Rome</td>\n",
       "    </tr>\n",
       "    <tr>\n",
       "      <th>21</th>\n",
       "      <td>sistrum roman period ritual instrument used in isis cult during this period originated from the hathor cult cat on top duck ends</td>\n",
       "      <td>Greece</td>\n",
       "      <td>Rome</td>\n",
       "    </tr>\n",
       "    <tr>\n",
       "      <th>22</th>\n",
       "      <td>this measurement be more than year old and it accuracy be remarkable</td>\n",
       "      <td>Rome</td>\n",
       "      <td>Greece</td>\n",
       "    </tr>\n",
       "    <tr>\n",
       "      <th>23</th>\n",
       "      <td>in what way be life in ancient rome well than modern standard of living</td>\n",
       "      <td>Greece</td>\n",
       "      <td>Rome</td>\n",
       "    </tr>\n",
       "    <tr>\n",
       "      <th>24</th>\n",
       "      <td>the ancient history of tarentum</td>\n",
       "      <td>Rome</td>\n",
       "      <td>Greece</td>\n",
       "    </tr>\n",
       "  </tbody>\n",
       "</table>\n",
       "</div>"
      ],
      "text/plain": [
       "                                                                                                                                                                                                       text  \\\n",
       "0   byzantines greeks romans or greeks cosplaying a romans so this be a controversial topic especially among roman history enthusiast less among roman history scholar but i want the opinion of some of...   \n",
       "1                                                                                                                                                    bettany hughes documentary about the roman god bacchus   \n",
       "2                                                                                                                                                                            worst omens in ancient history   \n",
       "3                                                                                                                                                                    saw this today on too good not to post   \n",
       "4                                                                                                                                                     hope you recognise a couple of these mince pie design   \n",
       "5                                                                                                                                           saw the kylix of theseus at the british museum a couple day ago   \n",
       "6   question about a suppose quote by velleius paterculus hi fellow fan of the ancient times i get a question for the expert in truth about velleius paterculus prologomena write by summer on page he s...   \n",
       "7                                                                                     any map of greece drawn durring the time of the ancient greeks i look for a map of greece date anywhere from ce to ce   \n",
       "8                                                                                                                                                                                                      oops   \n",
       "9                                                                                                        the great allegory of the west jacob berman history valley the meaning of revelation amp mysteries   \n",
       "10  what be your top similarity and most surprising difference between roman sensibility and modern time history in high school be tame down quite a bit reading up on my own i find the humor and vulga...   \n",
       "11  romans the greeks wannabes as ancient roman mythology have it romans be an offshoot of greece but can this be trust i be not sure the greeks really saw romans a such most strike of all their langu...   \n",
       "12                                                                                                                                                        city beneath the waves pavlopetri bbc documentary   \n",
       "13                                                                                                                                       bbc news alfred the great southwark statue be partly roman goddess   \n",
       "14                                                                                                                                                  ordered this neapolis gorgon ring what do you guy think   \n",
       "15                                                                                                                                                                                    prohibition a success   \n",
       "16                                                                                                                                                lawmakers in ancient greece lycurgus draco solon for kids   \n",
       "17                                                                                                                                                                              used bookstore be a success   \n",
       "18                                                                                                                                              a bit of ancient sacrifice a oppose army prepare for battle   \n",
       "19                                                                                                                                                                  gladiator fight provocatores acta autun   \n",
       "20  roman coin hello all be there any good book or resource on roman or other ancient currency i think about revisit coin collect many year after i stop so it basically from scratch and certainly a ne...   \n",
       "21                                                                         sistrum roman period ritual instrument used in isis cult during this period originated from the hathor cult cat on top duck ends   \n",
       "22                                                                                                                                     this measurement be more than year old and it accuracy be remarkable   \n",
       "23                                                                                                                                  in what way be life in ancient rome well than modern standard of living   \n",
       "24                                                                                                                                                                          the ancient history of tarentum   \n",
       "\n",
       "   predicted  actual  \n",
       "0       Rome  Greece  \n",
       "1     Greece    Rome  \n",
       "2       Rome  Greece  \n",
       "3     Greece    Rome  \n",
       "4       Rome  Greece  \n",
       "5       Rome  Greece  \n",
       "6     Greece    Rome  \n",
       "7       Rome  Greece  \n",
       "8       Rome  Greece  \n",
       "9     Greece    Rome  \n",
       "10    Greece    Rome  \n",
       "11    Greece    Rome  \n",
       "12      Rome  Greece  \n",
       "13    Greece    Rome  \n",
       "14      Rome  Greece  \n",
       "15      Rome  Greece  \n",
       "16      Rome  Greece  \n",
       "17    Greece    Rome  \n",
       "18      Rome  Greece  \n",
       "19      Rome  Greece  \n",
       "20    Greece    Rome  \n",
       "21    Greece    Rome  \n",
       "22      Rome  Greece  \n",
       "23    Greece    Rome  \n",
       "24      Rome  Greece  "
      ]
     },
     "execution_count": 18,
     "metadata": {},
     "output_type": "execute_result"
    }
   ],
   "source": [
    "# no big insights from the confusion matrix. \n",
    "#cut down the X_test dataframe to wrong predictions only next\n",
    "\n",
    "mydict = {0:'Rome', 1:'Greece'}\n",
    "\n",
    "# add X_test, pred, and y_test for every wrong prediction to the new 'wrongs' list\n",
    "wrongs = [list(i) for i in zip(X_test, pred, y_test) if i[1]!=i[2]]\n",
    "\n",
    "# change 0 and 1 to Rome and Greece for easier reading\n",
    "for i in wrongs:\n",
    "    i[1]=mydict[i[1]]\n",
    "    i[2]=mydict[i[2]]\n",
    "\n",
    "pd.set_option(\"max_colwidth\", 200) # expend columns to be able to see more text\n",
    "wrong_df = pd.DataFrame(wrongs, columns = ['text', 'predicted',\n",
    "                                                'actual'])\n",
    "\n",
    "wrong_df.head(25) # print 25 wrong predictions to study"
   ]
  },
  {
   "cell_type": "code",
   "execution_count": 19,
   "id": "26eef498",
   "metadata": {
    "ExecuteTime": {
     "end_time": "2022-01-19T17:02:23.624952Z",
     "start_time": "2022-01-19T17:02:23.562390Z"
    },
    "scrolled": false
   },
   "outputs": [
    {
     "data": {
      "text/html": [
       "<div>\n",
       "<style scoped>\n",
       "    .dataframe tbody tr th:only-of-type {\n",
       "        vertical-align: middle;\n",
       "    }\n",
       "\n",
       "    .dataframe tbody tr th {\n",
       "        vertical-align: top;\n",
       "    }\n",
       "\n",
       "    .dataframe thead th {\n",
       "        text-align: right;\n",
       "    }\n",
       "</style>\n",
       "<table border=\"1\" class=\"dataframe\">\n",
       "  <thead>\n",
       "    <tr style=\"text-align: right;\">\n",
       "      <th></th>\n",
       "      <th>text</th>\n",
       "      <th>predicted</th>\n",
       "      <th>actual</th>\n",
       "      <th>wordcount</th>\n",
       "    </tr>\n",
       "  </thead>\n",
       "  <tbody>\n",
       "    <tr>\n",
       "      <th>0</th>\n",
       "      <td>byzantines greeks romans or greeks cosplaying a romans so this be a controversial topic especially among roman history enthusiast less among roman history scholar but i want the opinion of some of...</td>\n",
       "      <td>Rome</td>\n",
       "      <td>Greece</td>\n",
       "      <td>374</td>\n",
       "    </tr>\n",
       "    <tr>\n",
       "      <th>1</th>\n",
       "      <td>bettany hughes documentary about the roman god bacchus</td>\n",
       "      <td>Greece</td>\n",
       "      <td>Rome</td>\n",
       "      <td>8</td>\n",
       "    </tr>\n",
       "    <tr>\n",
       "      <th>2</th>\n",
       "      <td>worst omens in ancient history</td>\n",
       "      <td>Rome</td>\n",
       "      <td>Greece</td>\n",
       "      <td>5</td>\n",
       "    </tr>\n",
       "    <tr>\n",
       "      <th>3</th>\n",
       "      <td>saw this today on too good not to post</td>\n",
       "      <td>Greece</td>\n",
       "      <td>Rome</td>\n",
       "      <td>9</td>\n",
       "    </tr>\n",
       "    <tr>\n",
       "      <th>4</th>\n",
       "      <td>hope you recognise a couple of these mince pie design</td>\n",
       "      <td>Rome</td>\n",
       "      <td>Greece</td>\n",
       "      <td>10</td>\n",
       "    </tr>\n",
       "  </tbody>\n",
       "</table>\n",
       "</div>"
      ],
      "text/plain": [
       "                                                                                                                                                                                                      text  \\\n",
       "0  byzantines greeks romans or greeks cosplaying a romans so this be a controversial topic especially among roman history enthusiast less among roman history scholar but i want the opinion of some of...   \n",
       "1                                                                                                                                                   bettany hughes documentary about the roman god bacchus   \n",
       "2                                                                                                                                                                           worst omens in ancient history   \n",
       "3                                                                                                                                                                   saw this today on too good not to post   \n",
       "4                                                                                                                                                    hope you recognise a couple of these mince pie design   \n",
       "\n",
       "  predicted  actual  wordcount  \n",
       "0      Rome  Greece        374  \n",
       "1    Greece    Rome          8  \n",
       "2      Rome  Greece          5  \n",
       "3    Greece    Rome          9  \n",
       "4      Rome  Greece         10  "
      ]
     },
     "execution_count": 19,
     "metadata": {},
     "output_type": "execute_result"
    }
   ],
   "source": [
    "# after a cursory glance at 25 posts that lead to wrong predictions,\n",
    "# there seems to be many short posts there\n",
    "\n",
    "#investigate. create a wordcount column in both wrong_df and reddit df\n",
    "wrong_df['wordcount'] = wrong_df['text'].str.split().str.len()\n",
    "reddit['wordcount'] = reddit['posts'].str.split().str.len()\n",
    "wrong_df.head()"
   ]
  },
  {
   "cell_type": "code",
   "execution_count": 20,
   "id": "6b775a7a",
   "metadata": {
    "ExecuteTime": {
     "end_time": "2022-01-19T17:02:23.639832Z",
     "start_time": "2022-01-19T17:02:23.625880Z"
    }
   },
   "outputs": [
    {
     "name": "stdout",
     "output_type": "stream",
     "text": [
      "wrong prediction - median words/post:  12.0\n",
      "all predictions - median words/post:  14.0\n"
     ]
    }
   ],
   "source": [
    "# check the medians\n",
    "print('wrong prediction - median words/post: ', wrong_df[\n",
    "    'wordcount'].median())\n",
    "print('all predictions - median words/post: ', reddit[\n",
    "    'wordcount'].median())"
   ]
  },
  {
   "cell_type": "code",
   "execution_count": 87,
   "id": "4b520e9e",
   "metadata": {
    "ExecuteTime": {
     "end_time": "2022-01-20T07:57:56.829918Z",
     "start_time": "2022-01-20T07:57:53.048322Z"
    }
   },
   "outputs": [
    {
     "data": {
      "image/png": "[encoded data removed]",
      "text/plain": [
       "<Figure size 720x360 with 2 Axes>"
      ]
     },
     "metadata": {
      "needs_background": "light"
     },
     "output_type": "display_data"
    }
   ],
   "source": [
    "# the medians confirm our suspicions. we should drop shorter posts, but\n",
    "# where to draw the line?\n",
    "# let's check the histograms\n",
    "fig, ax = plt.subplots(2,1,figsize=(10,5))\n",
    "ax=ax.ravel()\n",
    "sns.histplot(wrong_df['wordcount'], bins=400, ax=ax[0])\n",
    "ax[0].set_xlim(0,35)\n",
    "ax[0].set_xlabel('')\n",
    "ax[0].set_title('Post length (words) - wrong predictions', fontsize=16, \n",
    "               color='darkorchid')\n",
    "ax[0].axvline(x=8.5, color = 'orangered', linestyle='-.')\n",
    "\n",
    "sns.histplot(reddit['wordcount'], bins=1400, ax=ax[1])\n",
    "ax[1].set_title('Post length (words) total', fontsize=16, \n",
    "               color='darkorchid', x=0.5, y=-0.28)\n",
    "ax[1].set_xlim(0,35)\n",
    "ax[1].set_xlabel('')\n",
    "ax[1].axvline(x=8.5, color = 'orangered', linestyle='-.')\n",
    "plt.show()"
   ]
  },
  {
   "cell_type": "markdown",
   "id": "fc16a421",
   "metadata": {},
   "source": [
    "- it appears that cutting the word length to around 8 could improve results\n",
    "- this is not just an arbitrary cut undertaken to improve our scores - shorter posts are often spam-y, off-topic, or are just a brief answer to another post, and as such, seldom add value when it comes to the task of training the machine to learn to recognize language used in different ancient history forums"
   ]
  },
  {
   "cell_type": "code",
   "execution_count": 22,
   "id": "b2148de3",
   "metadata": {
    "ExecuteTime": {
     "end_time": "2022-01-19T17:02:26.390637Z",
     "start_time": "2022-01-19T17:02:26.375563Z"
    }
   },
   "outputs": [],
   "source": [
    "# create a new dataframe with post wordlenght of less than 9.\n",
    "reddit2 = reddit.drop(reddit.loc[reddit['wordcount']<9].index)"
   ]
  },
  {
   "cell_type": "markdown",
   "id": "ff735327",
   "metadata": {},
   "source": [
    "### NB w/cvec & 8+ words"
   ]
  },
  {
   "cell_type": "code",
   "execution_count": 23,
   "id": "80c5198c",
   "metadata": {
    "ExecuteTime": {
     "end_time": "2022-01-19T17:02:26.406100Z",
     "start_time": "2022-01-19T17:02:26.392317Z"
    }
   },
   "outputs": [],
   "source": [
    "# parameters for gridsearch\n",
    "pipe_params1 = {\n",
    "    'cvec__max_features': [2500, 4000, 6000],\n",
    "    'cvec__min_df':[3, 4],\n",
    "    'cvec__ngram_range':[(1,2), (1,3)],\n",
    "    'nb__alpha':[0.1, 0.5, 1, 2]}"
   ]
  },
  {
   "cell_type": "code",
   "execution_count": 24,
   "id": "9844f7d2",
   "metadata": {
    "ExecuteTime": {
     "end_time": "2022-01-19T17:02:26.421632Z",
     "start_time": "2022-01-19T17:02:26.407582Z"
    }
   },
   "outputs": [],
   "source": [
    "# create a new train and test sets from reddit2 data with longer posts. \n",
    "# this one will also be used through the remainder of the notebook\n",
    "X_train1, X_test1, y_train1, y_test1 = train_test_split(reddit2['posts'],\n",
    "    reddit2['subreddit'], stratify = reddit2['subreddit'], random_state=42)"
   ]
  },
  {
   "cell_type": "code",
   "execution_count": 25,
   "id": "15488ca1",
   "metadata": {
    "ExecuteTime": {
     "end_time": "2022-01-19T17:04:10.193996Z",
     "start_time": "2022-01-19T17:02:26.423271Z"
    },
    "scrolled": true
   },
   "outputs": [
    {
     "name": "stdout",
     "output_type": "stream",
     "text": [
      "best params:  {'cvec__max_features': 4000, 'cvec__min_df': 3, 'cvec__ngram_range': (1, 3), 'nb__alpha': 2}\n",
      "train score:  0.8993923024983119\n",
      "test score:  0.8370445344129555\n",
      "crossval score: 0.8106035098668812\n"
     ]
    }
   ],
   "source": [
    "# pipeline and gridsearch will be the same, the difference will be the training on X_train1, y_train1    \n",
    "pipe1 = Pipeline([\n",
    "        ('cvec', CountVectorizer(stop_words=stopwords)),\n",
    "        ('nb', MultinomialNB())\n",
    "        ])\n",
    " \n",
    "# same gridsearch, same pipe_params but trained on the new train set  \n",
    "gs1 = GridSearchCV(pipe1, pipe_params1, cv=6)\n",
    "gs1.fit(X_train1, y_train1);\n",
    "\n",
    "\n",
    "print('best params: ', gs1.best_params_)\n",
    "print('train score: ', gs1.score(X_train1, y_train1))\n",
    "print('test score: ', gs1.score(X_test1, y_test1))\n",
    "print('crossval score:', gs1.best_score_)\n",
    "\n",
    "pred1 = gs1.predict(X_test1)"
   ]
  },
  {
   "cell_type": "code",
   "execution_count": 26,
   "id": "2e9cfbf8",
   "metadata": {
    "ExecuteTime": {
     "end_time": "2022-01-19T17:04:10.812981Z",
     "start_time": "2022-01-19T17:04:10.194554Z"
    },
    "scrolled": false
   },
   "outputs": [
    {
     "name": "stdout",
     "output_type": "stream",
     "text": [
      "==============================\n",
      "======\u001b[1m NaiveBayes/cvec \u001b[0m=======\n",
      "==============================\n",
      "\n",
      "Scores:\n",
      "------------------------------ \n",
      "\n",
      "train score: 0.88\n",
      "test score: 0.81\n",
      "cross-validated score: 0.79\n",
      "\n",
      " Best Parameters:\n",
      "------------------------------ \n",
      "\n",
      "cvec__max_features : 4000\n",
      "cvec__min_df : 3\n",
      "cvec__ngram_range : (1, 2)\n",
      "nb__alpha : 0.5\n",
      "\n",
      "\n",
      "***Confusion Matrix***\n",
      "\n"
     ]
    },
    {
     "data": {
      "text/html": [
       "<div>\n",
       "<style scoped>\n",
       "    .dataframe tbody tr th:only-of-type {\n",
       "        vertical-align: middle;\n",
       "    }\n",
       "\n",
       "    .dataframe tbody tr th {\n",
       "        vertical-align: top;\n",
       "    }\n",
       "\n",
       "    .dataframe thead th {\n",
       "        text-align: right;\n",
       "    }\n",
       "</style>\n",
       "<table border=\"1\" class=\"dataframe\">\n",
       "  <thead>\n",
       "    <tr style=\"text-align: right;\">\n",
       "      <th></th>\n",
       "      <th>Predicted Rome</th>\n",
       "      <th>Predicted Greece</th>\n",
       "    </tr>\n",
       "  </thead>\n",
       "  <tbody>\n",
       "    <tr>\n",
       "      <th>Actual Rome</th>\n",
       "      <td>561</td>\n",
       "      <td>140</td>\n",
       "    </tr>\n",
       "    <tr>\n",
       "      <th>Actual Greece</th>\n",
       "      <td>123</td>\n",
       "      <td>561</td>\n",
       "    </tr>\n",
       "  </tbody>\n",
       "</table>\n",
       "</div>"
      ],
      "text/plain": [
       "               Predicted Rome  Predicted Greece\n",
       " Actual Rome              561               140\n",
       "Actual Greece             123               561"
      ]
     },
     "metadata": {},
     "output_type": "display_data"
    },
    {
     "name": "stdout",
     "output_type": "stream",
     "text": [
      "\n",
      "Scores:\n",
      "------------------------------ \n",
      "\n",
      "Rome recall:     0.8\n",
      "Rome precision:   0.82\n",
      "Greece recall:   0.82\n",
      "Greece precision: 0.8\n",
      "\n",
      "\n",
      "\n",
      "\n",
      "==============================\n",
      "==\u001b[1m NaiveBayes/cvec&8+words \u001b[0m===\n",
      "==============================\n",
      "\n",
      "Scores:\n",
      "------------------------------ \n",
      "\n",
      "train score: 0.9\n",
      "test score: 0.84\n",
      "cross-validated score: 0.81\n",
      "\n",
      " Best Parameters:\n",
      "------------------------------ \n",
      "\n",
      "cvec__max_features : 4000\n",
      "cvec__min_df : 3\n",
      "cvec__ngram_range : (1, 3)\n",
      "nb__alpha : 2\n",
      "\n",
      "\n",
      "***Confusion Matrix***\n",
      "\n"
     ]
    },
    {
     "data": {
      "text/html": [
       "<div>\n",
       "<style scoped>\n",
       "    .dataframe tbody tr th:only-of-type {\n",
       "        vertical-align: middle;\n",
       "    }\n",
       "\n",
       "    .dataframe tbody tr th {\n",
       "        vertical-align: top;\n",
       "    }\n",
       "\n",
       "    .dataframe thead th {\n",
       "        text-align: right;\n",
       "    }\n",
       "</style>\n",
       "<table border=\"1\" class=\"dataframe\">\n",
       "  <thead>\n",
       "    <tr style=\"text-align: right;\">\n",
       "      <th></th>\n",
       "      <th>Predicted Rome</th>\n",
       "      <th>Predicted Greece</th>\n",
       "    </tr>\n",
       "  </thead>\n",
       "  <tbody>\n",
       "    <tr>\n",
       "      <th>Actual Rome</th>\n",
       "      <td>419</td>\n",
       "      <td>98</td>\n",
       "    </tr>\n",
       "    <tr>\n",
       "      <th>Actual Greece</th>\n",
       "      <td>63</td>\n",
       "      <td>408</td>\n",
       "    </tr>\n",
       "  </tbody>\n",
       "</table>\n",
       "</div>"
      ],
      "text/plain": [
       "               Predicted Rome  Predicted Greece\n",
       " Actual Rome              419                98\n",
       "Actual Greece              63               408"
      ]
     },
     "metadata": {},
     "output_type": "display_data"
    },
    {
     "name": "stdout",
     "output_type": "stream",
     "text": [
      "\n",
      "Scores:\n",
      "------------------------------ \n",
      "\n",
      "Rome recall:     0.81\n",
      "Rome precision:   0.87\n",
      "Greece recall:   0.87\n",
      "Greece precision: 0.81\n"
     ]
    }
   ],
   "source": [
    "# the model based on posts longer than 9 words performs better\n",
    "# we will keep calling the function display_scores after every two models, to take a look at how \n",
    "# scores are developing\n",
    "display_scores('NaiveBayes/cvec',\n",
    "               gs, X_train, X_test, y_train, y_test)\n",
    "plot_cmatrix(y_test, pred)\n",
    "print('\\n\\n\\n')\n",
    "display_scores('NaiveBayes/cvec&8+words',\n",
    "               gs1, X_train1, X_test1, y_train1, y_test1)\n",
    "plot_cmatrix(y_test1, pred1)"
   ]
  },
  {
   "cell_type": "markdown",
   "id": "ae33d0e4",
   "metadata": {},
   "source": [
    "- as we expected and hoped, there is an improvement in accuracy (0.81 to 0.83 for the test set) after dropping the posts with fewer than 9 words"
   ]
  },
  {
   "cell_type": "markdown",
   "id": "156f1049",
   "metadata": {},
   "source": [
    "### NB w/tfidf"
   ]
  },
  {
   "cell_type": "code",
   "execution_count": 27,
   "id": "6b8707e1",
   "metadata": {
    "ExecuteTime": {
     "end_time": "2022-01-19T17:04:10.828103Z",
     "start_time": "2022-01-19T17:04:10.817996Z"
    }
   },
   "outputs": [],
   "source": [
    "pipe_params2 = {\n",
    "    'tfvec__max_features': [2000, 4000, 6000],\n",
    "    'tfvec__min_df':[3,4],\n",
    "    'tfvec__ngram_range':[(1,1), (1,3)],\n",
    "#     'tfvec__norm':['l2', 'l1'], # it always ends up being l2, so we took this out\n",
    "    'nb__alpha':[0.1, 0.5, 1, 10]\n",
    "    }"
   ]
  },
  {
   "cell_type": "code",
   "execution_count": 28,
   "id": "9a4e2ea2",
   "metadata": {
    "ExecuteTime": {
     "end_time": "2022-01-19T17:05:36.278728Z",
     "start_time": "2022-01-19T17:04:10.829145Z"
    },
    "scrolled": true
   },
   "outputs": [
    {
     "name": "stdout",
     "output_type": "stream",
     "text": [
      "best params:  {'nb__alpha': 0.5, 'tfvec__max_features': 4000, 'tfvec__min_df': 3, 'tfvec__ngram_range': (1, 3)}\n",
      "train score:  0.9058738565238325\n",
      "test score:  0.8137184115523466\n",
      "cross-val score:  0.79321010823901\n"
     ]
    }
   ],
   "source": [
    "# TfidfVectorizer()\n",
    "pipe2 = Pipeline([\n",
    "        ('tfvec', TfidfVectorizer(stop_words=stopwords)),\n",
    "        ('nb', MultinomialNB())\n",
    "        ])\n",
    "\n",
    "# new gridsearch with the new pipe and parameters \n",
    "# use X_train as that one does not have word limit\n",
    "gs2 = GridSearchCV(pipe2, pipe_params2, cv=6)\n",
    "gs2.fit(X_train, y_train);\n",
    "print('best params: ', gs2.best_params_)\n",
    "print('train score: ', gs2.score(X_train, y_train))\n",
    "print('test score: ', gs2.score(X_test, y_test))\n",
    "print('cross-val score: ', gs2.best_score_)\n",
    "\n",
    "pred2 = gs2.predict(X_test)"
   ]
  },
  {
   "cell_type": "markdown",
   "id": "5407b715",
   "metadata": {
    "ExecuteTime": {
     "end_time": "2022-01-17T04:14:30.761499Z",
     "start_time": "2022-01-17T04:14:30.556321Z"
    }
   },
   "source": [
    "### NB w/tfidf & 8+ words"
   ]
  },
  {
   "cell_type": "code",
   "execution_count": 29,
   "id": "35d738d9",
   "metadata": {
    "ExecuteTime": {
     "end_time": "2022-01-19T17:05:36.294516Z",
     "start_time": "2022-01-19T17:05:36.279873Z"
    },
    "scrolled": true
   },
   "outputs": [],
   "source": [
    "pipe_params3 = {\n",
    "    'tfvec__max_features': [3000, 4000, 5500],\n",
    "    'tfvec__min_df':[3,4],\n",
    "    'tfvec__ngram_range':[(1,1), (1,3)],\n",
    "#     'tfvec__norm':['l2', 'l1'], # it always ends up being l2, so we took this out\n",
    "    'nb__alpha':[0.1, 0.5, 1, 2]  \n",
    "    }"
   ]
  },
  {
   "cell_type": "code",
   "execution_count": 30,
   "id": "301bf76b",
   "metadata": {
    "ExecuteTime": {
     "end_time": "2022-01-19T17:06:58.762908Z",
     "start_time": "2022-01-19T17:05:36.296020Z"
    }
   },
   "outputs": [
    {
     "name": "stdout",
     "output_type": "stream",
     "text": [
      "best params:  {'nb__alpha': 0.5, 'tfvec__max_features': 4000, 'tfvec__min_df': 3, 'tfvec__ngram_range': (1, 3)}\n",
      "train score:  0.9341661039837947\n",
      "test score:  0.847165991902834\n",
      "cross-val score:  0.8126291700541727\n"
     ]
    }
   ],
   "source": [
    "pipe3 = Pipeline([\n",
    "        ('tfvec', TfidfVectorizer(stop_words=stopwords)),\n",
    "        ('nb', MultinomialNB())\n",
    "        ])\n",
    "\n",
    "# new gridsearch with the new pipe and parameters \n",
    "gs3 = GridSearchCV(pipe3, pipe_params3, cv=6)\n",
    "gs3.fit(X_train1, y_train1);\n",
    "print('best params: ', gs3.best_params_)\n",
    "print('train score: ', gs3.score(X_train1, y_train1))\n",
    "print('test score: ', gs3.score(X_test1, y_test1))\n",
    "print('cross-val score: ', gs3.best_score_)\n",
    "\n",
    "pred3 = gs3.predict(X_test1)"
   ]
  },
  {
   "cell_type": "code",
   "execution_count": 31,
   "id": "0e34cf29",
   "metadata": {
    "ExecuteTime": {
     "end_time": "2022-01-19T17:06:59.517663Z",
     "start_time": "2022-01-19T17:06:58.763967Z"
    }
   },
   "outputs": [
    {
     "name": "stdout",
     "output_type": "stream",
     "text": [
      "==============================\n",
      "======\u001b[1m NaiveBayes/tfdif \u001b[0m======\n",
      "==============================\n",
      "\n",
      "Scores:\n",
      "------------------------------ \n",
      "\n",
      "train score: 0.91\n",
      "test score: 0.81\n",
      "cross-validated score: 0.79\n",
      "\n",
      " Best Parameters:\n",
      "------------------------------ \n",
      "\n",
      "nb__alpha : 0.5\n",
      "tfvec__max_features : 4000\n",
      "tfvec__min_df : 3\n",
      "tfvec__ngram_range : (1, 3)\n",
      "\n",
      "\n",
      "***Confusion Matrix***\n",
      "\n"
     ]
    },
    {
     "data": {
      "text/html": [
       "<div>\n",
       "<style scoped>\n",
       "    .dataframe tbody tr th:only-of-type {\n",
       "        vertical-align: middle;\n",
       "    }\n",
       "\n",
       "    .dataframe tbody tr th {\n",
       "        vertical-align: top;\n",
       "    }\n",
       "\n",
       "    .dataframe thead th {\n",
       "        text-align: right;\n",
       "    }\n",
       "</style>\n",
       "<table border=\"1\" class=\"dataframe\">\n",
       "  <thead>\n",
       "    <tr style=\"text-align: right;\">\n",
       "      <th></th>\n",
       "      <th>Predicted Rome</th>\n",
       "      <th>Predicted Greece</th>\n",
       "    </tr>\n",
       "  </thead>\n",
       "  <tbody>\n",
       "    <tr>\n",
       "      <th>Actual Rome</th>\n",
       "      <td>570</td>\n",
       "      <td>131</td>\n",
       "    </tr>\n",
       "    <tr>\n",
       "      <th>Actual Greece</th>\n",
       "      <td>127</td>\n",
       "      <td>557</td>\n",
       "    </tr>\n",
       "  </tbody>\n",
       "</table>\n",
       "</div>"
      ],
      "text/plain": [
       "               Predicted Rome  Predicted Greece\n",
       " Actual Rome              570               131\n",
       "Actual Greece             127               557"
      ]
     },
     "metadata": {},
     "output_type": "display_data"
    },
    {
     "name": "stdout",
     "output_type": "stream",
     "text": [
      "\n",
      "Scores:\n",
      "------------------------------ \n",
      "\n",
      "Rome recall:     0.81\n",
      "Rome precision:   0.82\n",
      "Greece recall:   0.81\n",
      "Greece precision: 0.81\n",
      "\n",
      "\n",
      "\n",
      "\n",
      "==============================\n",
      "==\u001b[1m NaiveBayes/tfidf&8+words \u001b[0m==\n",
      "==============================\n",
      "\n",
      "Scores:\n",
      "------------------------------ \n",
      "\n",
      "train score: 0.93\n",
      "test score: 0.85\n",
      "cross-validated score: 0.81\n",
      "\n",
      " Best Parameters:\n",
      "------------------------------ \n",
      "\n",
      "nb__alpha : 0.5\n",
      "tfvec__max_features : 4000\n",
      "tfvec__min_df : 3\n",
      "tfvec__ngram_range : (1, 3)\n",
      "\n",
      "\n",
      "***Confusion Matrix***\n",
      "\n"
     ]
    },
    {
     "data": {
      "text/html": [
       "<div>\n",
       "<style scoped>\n",
       "    .dataframe tbody tr th:only-of-type {\n",
       "        vertical-align: middle;\n",
       "    }\n",
       "\n",
       "    .dataframe tbody tr th {\n",
       "        vertical-align: top;\n",
       "    }\n",
       "\n",
       "    .dataframe thead th {\n",
       "        text-align: right;\n",
       "    }\n",
       "</style>\n",
       "<table border=\"1\" class=\"dataframe\">\n",
       "  <thead>\n",
       "    <tr style=\"text-align: right;\">\n",
       "      <th></th>\n",
       "      <th>Predicted Rome</th>\n",
       "      <th>Predicted Greece</th>\n",
       "    </tr>\n",
       "  </thead>\n",
       "  <tbody>\n",
       "    <tr>\n",
       "      <th>Actual Rome</th>\n",
       "      <td>434</td>\n",
       "      <td>83</td>\n",
       "    </tr>\n",
       "    <tr>\n",
       "      <th>Actual Greece</th>\n",
       "      <td>68</td>\n",
       "      <td>403</td>\n",
       "    </tr>\n",
       "  </tbody>\n",
       "</table>\n",
       "</div>"
      ],
      "text/plain": [
       "               Predicted Rome  Predicted Greece\n",
       " Actual Rome              434                83\n",
       "Actual Greece              68               403"
      ]
     },
     "metadata": {},
     "output_type": "display_data"
    },
    {
     "name": "stdout",
     "output_type": "stream",
     "text": [
      "\n",
      "Scores:\n",
      "------------------------------ \n",
      "\n",
      "Rome recall:     0.84\n",
      "Rome precision:   0.86\n",
      "Greece recall:   0.86\n",
      "Greece precision: 0.83\n"
     ]
    }
   ],
   "source": [
    "display_scores('NaiveBayes/tfdif',\n",
    "               gs2, X_train, X_test, y_train, y_test)\n",
    "plot_cmatrix(y_test, pred2)\n",
    "print('\\n\\n\\n')\n",
    "display_scores('NaiveBayes/tfidf&8+words',\n",
    "               gs3, X_train1, X_test1, y_train1, y_test1)\n",
    "plot_cmatrix(y_test1, pred3)"
   ]
  },
  {
   "cell_type": "markdown",
   "id": "22c2fde6",
   "metadata": {},
   "source": [
    " - brief conclusion: tfidf vecorization had a very limited positive effect on the scores (increase in test accuracy of 0.01-0.02. \n",
    " - a more meaningful improvement, in addition to a thorough parameter tuning, is limiting the post size to 8 words or more, as that increses accuracy by 0.03-0.04.\n",
    " - next we will try to change the stopwords. we imported two sets of stopwords from our EDA file - so far we've worked with the set that doesn't include ancient greek words. Now we will test models with stopwords that include those words\n",
    " - to save time we will not run all 4 models (with and without 8 word limit, and with cvec/tfidf vectorizer. Instead we will run 2 but we'll try to cover all bases by trying CVEC with 8+ words, and TFIDF with all words\n",
    " - confusion matrices are still not very interesting - the prediction and mistakes are evenly split among greece and rome"
   ]
  },
  {
   "cell_type": "markdown",
   "id": "4896ff84",
   "metadata": {},
   "source": [
    "### NB w/cvec, extra stopwords"
   ]
  },
  {
   "cell_type": "code",
   "execution_count": 32,
   "id": "ef40a6fa",
   "metadata": {
    "ExecuteTime": {
     "end_time": "2022-01-19T17:06:59.532701Z",
     "start_time": "2022-01-19T17:06:59.518670Z"
    }
   },
   "outputs": [],
   "source": [
    "# parameters for gridsearch, initially copied over from the most similar model, NB cvec 8+ words. finetune it later\n",
    "pipe_params4 = {\n",
    "    'cvec__max_features': [2500, 4000, 6000],\n",
    "    'cvec__min_df':[3, 4],\n",
    "    'cvec__ngram_range':[(1,2), (1,3)],\n",
    "    'nb__alpha':[0.1, 0.5, 1, 2]}"
   ]
  },
  {
   "cell_type": "code",
   "execution_count": 34,
   "id": "fe2c1017",
   "metadata": {
    "ExecuteTime": {
     "end_time": "2022-01-19T23:52:55.195184Z",
     "start_time": "2022-01-19T23:50:03.492360Z"
    },
    "scrolled": true
   },
   "outputs": [
    {
     "name": "stdout",
     "output_type": "stream",
     "text": [
      "best params:  {'cvec__max_features': 4000, 'cvec__min_df': 3, 'cvec__ngram_range': (1, 2), 'nb__alpha': 0.5}\n",
      "train score:  0.8736157920077035\n",
      "test score:  0.8072202166064982\n",
      "cross-val score:  0.7903223676345063\n"
     ]
    }
   ],
   "source": [
    "# run the new pipeline and gridsearch\n",
    "pipe4 = Pipeline([\n",
    "        ('cvec', CountVectorizer(stop_words=stopwords2_greek)), # this is the changed bit, stopwords2_greek\n",
    "        ('nb', MultinomialNB())\n",
    "        ])\n",
    "\n",
    "\n",
    " \n",
    "# new gridsearch with the new pipe\n",
    "gs4 = GridSearchCV(pipe4, pipe_params4, cv=6)\n",
    "gs4.fit(X_train, y_train)\n",
    "print('best params: ', gs4.best_params_)\n",
    "print('train score: ', gs4.score(X_train, y_train))\n",
    "print('test score: ', gs4.score(X_test, y_test))\n",
    "print('cross-val score: ', gs4.best_score_)\n",
    "\n",
    "pred4 = gs4.predict(X_test)"
   ]
  },
  {
   "cell_type": "markdown",
   "id": "2231e9e6",
   "metadata": {},
   "source": [
    "### NB w/tfidf, 8+ words, extra stopwords"
   ]
  },
  {
   "cell_type": "code",
   "execution_count": 35,
   "id": "e1fa00e9",
   "metadata": {
    "ExecuteTime": {
     "end_time": "2022-01-19T23:53:25.522362Z",
     "start_time": "2022-01-19T23:53:25.513601Z"
    }
   },
   "outputs": [],
   "source": [
    "#start with same parameters as our previous model NB tfidf \n",
    "\n",
    "pipe_params5 = {\n",
    "    'tfvec__max_features': [2000, 4000, 6000],\n",
    "    'tfvec__min_df':[3,4],\n",
    "    'tfvec__ngram_range':[(1,1), (1,3)],\n",
    "#     'tfvec__norm':['l2', 'l1'], # it always ends up being l2, so we took this out\n",
    "    'nb__alpha':[0.1, 0.5, 1, 10]\n",
    "    }"
   ]
  },
  {
   "cell_type": "code",
   "execution_count": 36,
   "id": "052f838d",
   "metadata": {
    "ExecuteTime": {
     "end_time": "2022-01-19T23:55:35.629165Z",
     "start_time": "2022-01-19T23:53:26.151136Z"
    },
    "scrolled": true
   },
   "outputs": [
    {
     "name": "stdout",
     "output_type": "stream",
     "text": [
      "best params:  {'nb__alpha': 0.5, 'tfvec__max_features': 4000, 'tfvec__min_df': 3, 'tfvec__ngram_range': (1, 3)}\n",
      "train score:  0.9318028359216746\n",
      "test score:  0.8421052631578947\n",
      "cross-val score:  0.81127827369954\n"
     ]
    }
   ],
   "source": [
    "# TfidfVectorizer pipeline and gridsearch\n",
    "pipe5 = Pipeline([\n",
    "        ('tfvec', TfidfVectorizer(stop_words=stopwords2_greek)), # change stopwords to the greek ones\n",
    "        ('nb', MultinomialNB())\n",
    "        ])\n",
    "\n",
    "\n",
    " \n",
    "# new gridsearch with the new pipe and parameters \n",
    "# use X_train1 as that one has word limit\n",
    "gs5 = GridSearchCV(pipe5, pipe_params5, cv=6)\n",
    "gs5.fit(X_train1, y_train1);\n",
    "print('best params: ', gs5.best_params_)\n",
    "print('train score: ', gs5.score(X_train1, y_train1))\n",
    "print('test score: ', gs5.score(X_test1, y_test1))\n",
    "print('cross-val score: ', gs5.best_score_)\n",
    "\n",
    "pred5 = gs5.predict(X_test1)"
   ]
  },
  {
   "cell_type": "code",
   "execution_count": 37,
   "id": "6ac25ffa",
   "metadata": {
    "ExecuteTime": {
     "end_time": "2022-01-19T23:55:42.669611Z",
     "start_time": "2022-01-19T23:55:41.829310Z"
    },
    "scrolled": false
   },
   "outputs": [
    {
     "name": "stdout",
     "output_type": "stream",
     "text": [
      "==============================\n",
      "======\u001b[1m NaiveBayes/tfdif \u001b[0m======\n",
      "==============================\n",
      "\n",
      "Scores:\n",
      "------------------------------ \n",
      "\n",
      "train score: 0.87\n",
      "test score: 0.81\n",
      "cross-validated score: 0.79\n",
      "\n",
      " Best Parameters:\n",
      "------------------------------ \n",
      "\n",
      "cvec__max_features : 4000\n",
      "cvec__min_df : 3\n",
      "cvec__ngram_range : (1, 2)\n",
      "nb__alpha : 0.5\n",
      "\n",
      "\n",
      "***Confusion Matrix***\n",
      "\n"
     ]
    },
    {
     "data": {
      "text/html": [
       "<div>\n",
       "<style scoped>\n",
       "    .dataframe tbody tr th:only-of-type {\n",
       "        vertical-align: middle;\n",
       "    }\n",
       "\n",
       "    .dataframe tbody tr th {\n",
       "        vertical-align: top;\n",
       "    }\n",
       "\n",
       "    .dataframe thead th {\n",
       "        text-align: right;\n",
       "    }\n",
       "</style>\n",
       "<table border=\"1\" class=\"dataframe\">\n",
       "  <thead>\n",
       "    <tr style=\"text-align: right;\">\n",
       "      <th></th>\n",
       "      <th>Predicted Rome</th>\n",
       "      <th>Predicted Greece</th>\n",
       "    </tr>\n",
       "  </thead>\n",
       "  <tbody>\n",
       "    <tr>\n",
       "      <th>Actual Rome</th>\n",
       "      <td>560</td>\n",
       "      <td>141</td>\n",
       "    </tr>\n",
       "    <tr>\n",
       "      <th>Actual Greece</th>\n",
       "      <td>126</td>\n",
       "      <td>558</td>\n",
       "    </tr>\n",
       "  </tbody>\n",
       "</table>\n",
       "</div>"
      ],
      "text/plain": [
       "               Predicted Rome  Predicted Greece\n",
       " Actual Rome              560               141\n",
       "Actual Greece             126               558"
      ]
     },
     "metadata": {},
     "output_type": "display_data"
    },
    {
     "name": "stdout",
     "output_type": "stream",
     "text": [
      "\n",
      "Scores:\n",
      "------------------------------ \n",
      "\n",
      "Rome recall:     0.8\n",
      "Rome precision:   0.82\n",
      "Greece recall:   0.82\n",
      "Greece precision: 0.8\n",
      "\n",
      "\n",
      "\n",
      "\n",
      "==============================\n",
      "==\u001b[1m NaiveBayes/tfidf&8+words \u001b[0m==\n",
      "==============================\n",
      "\n",
      "Scores:\n",
      "------------------------------ \n",
      "\n",
      "train score: 0.93\n",
      "test score: 0.84\n",
      "cross-validated score: 0.81\n",
      "\n",
      " Best Parameters:\n",
      "------------------------------ \n",
      "\n",
      "nb__alpha : 0.5\n",
      "tfvec__max_features : 4000\n",
      "tfvec__min_df : 3\n",
      "tfvec__ngram_range : (1, 3)\n",
      "\n",
      "\n",
      "***Confusion Matrix***\n",
      "\n"
     ]
    },
    {
     "data": {
      "text/html": [
       "<div>\n",
       "<style scoped>\n",
       "    .dataframe tbody tr th:only-of-type {\n",
       "        vertical-align: middle;\n",
       "    }\n",
       "\n",
       "    .dataframe tbody tr th {\n",
       "        vertical-align: top;\n",
       "    }\n",
       "\n",
       "    .dataframe thead th {\n",
       "        text-align: right;\n",
       "    }\n",
       "</style>\n",
       "<table border=\"1\" class=\"dataframe\">\n",
       "  <thead>\n",
       "    <tr style=\"text-align: right;\">\n",
       "      <th></th>\n",
       "      <th>Predicted Rome</th>\n",
       "      <th>Predicted Greece</th>\n",
       "    </tr>\n",
       "  </thead>\n",
       "  <tbody>\n",
       "    <tr>\n",
       "      <th>Actual Rome</th>\n",
       "      <td>431</td>\n",
       "      <td>86</td>\n",
       "    </tr>\n",
       "    <tr>\n",
       "      <th>Actual Greece</th>\n",
       "      <td>70</td>\n",
       "      <td>401</td>\n",
       "    </tr>\n",
       "  </tbody>\n",
       "</table>\n",
       "</div>"
      ],
      "text/plain": [
       "               Predicted Rome  Predicted Greece\n",
       " Actual Rome              431                86\n",
       "Actual Greece              70               401"
      ]
     },
     "metadata": {},
     "output_type": "display_data"
    },
    {
     "name": "stdout",
     "output_type": "stream",
     "text": [
      "\n",
      "Scores:\n",
      "------------------------------ \n",
      "\n",
      "Rome recall:     0.83\n",
      "Rome precision:   0.86\n",
      "Greece recall:   0.85\n",
      "Greece precision: 0.82\n"
     ]
    }
   ],
   "source": [
    "display_scores('NaiveBayes/tfdif',\n",
    "               gs4, X_train, X_test, y_train, y_test)\n",
    "plot_cmatrix(y_test, pred4)\n",
    "print('\\n\\n\\n')\n",
    "display_scores('NaiveBayes/tfidf&8+words',\n",
    "               gs5, X_train1, X_test1, y_train1, y_test1)\n",
    "plot_cmatrix(y_test1, pred5)"
   ]
  },
  {
   "cell_type": "markdown",
   "id": "0876f577",
   "metadata": {},
   "source": [
    "### NB models summary\n",
    "- in general, we are pretty happy with all the models. Train accuracy ranged from 0.87 to 0.94 while the test one was in the 0.80 to 0.85 range\n",
    "- since many models have similar scores, we will chose our top model based on other factors, such as simplicity and intuitiveness.\n",
    "- model 2.6, NB w/tfidf, 8+ words and extra stopwords is that model\n",
    "- it has one of the highest scores 0.93/0.84, uses only longer posts with 8 or more words (which are more like real documents rather than short meme), and it does its learning on smallest set of words as it has the largest list of stop words in its vectorizer, making it very far removed from a 'search machine' which just looks for keywords\n",
    "- it not as sensitive to tuning, so there's less chance of \"hyper-parameter overfitting\"\n",
    "- next we will look at which words this model used to come with its predictions"
   ]
  },
  {
   "cell_type": "markdown",
   "id": "26a030cb",
   "metadata": {},
   "source": [
    "### NB word importance"
   ]
  },
  {
   "cell_type": "code",
   "execution_count": 38,
   "id": "e8764b51",
   "metadata": {
    "ExecuteTime": {
     "end_time": "2022-01-19T23:55:59.646548Z",
     "start_time": "2022-01-19T23:55:59.621229Z"
    }
   },
   "outputs": [],
   "source": [
    "# Naive Bayes, in addition to getting good scores, is a great model as it can give us top predictive\n",
    "# words for both subgroups\n",
    "\n",
    "# use gs5 (the model from section 2.7) as the model in section 2.9\n",
    "\n",
    "#subtract log probability of words given class 1 minus class 0\n",
    "feat_imp = gs5.best_estimator_['nb'].feature_log_prob_[1] - gs5.best_estimator_['nb'].feature_log_prob_[0]\n",
    "\n",
    "#get word list\n",
    "feat_names = np.array(gs5.best_estimator_['tfvec'].get_feature_names())\n",
    "\n",
    "#put the probabilites and words in a dataframe\n",
    "top_words = pd.DataFrame({'feat_names': feat_names, 'coef': feat_imp})"
   ]
  },
  {
   "cell_type": "code",
   "execution_count": 39,
   "id": "6b623be6",
   "metadata": {
    "ExecuteTime": {
     "end_time": "2022-01-19T23:56:03.591533Z",
     "start_time": "2022-01-19T23:56:03.570334Z"
    },
    "scrolled": false
   },
   "outputs": [
    {
     "data": {
      "text/html": [
       "<div>\n",
       "<style scoped>\n",
       "    .dataframe tbody tr th:only-of-type {\n",
       "        vertical-align: middle;\n",
       "    }\n",
       "\n",
       "    .dataframe tbody tr th {\n",
       "        vertical-align: top;\n",
       "    }\n",
       "\n",
       "    .dataframe thead th {\n",
       "        text-align: right;\n",
       "    }\n",
       "</style>\n",
       "<table border=\"1\" class=\"dataframe\">\n",
       "  <thead>\n",
       "    <tr style=\"text-align: right;\">\n",
       "      <th></th>\n",
       "      <th>topwords_rome</th>\n",
       "      <th>coef</th>\n",
       "    </tr>\n",
       "  </thead>\n",
       "  <tbody>\n",
       "    <tr>\n",
       "      <th>1166</th>\n",
       "      <td>emperor</td>\n",
       "      <td>-3.851595</td>\n",
       "    </tr>\n",
       "    <tr>\n",
       "      <th>2429</th>\n",
       "      <td>nero</td>\n",
       "      <td>-2.972516</td>\n",
       "    </tr>\n",
       "    <tr>\n",
       "      <th>1798</th>\n",
       "      <td>imperial</td>\n",
       "      <td>-2.852546</td>\n",
       "    </tr>\n",
       "    <tr>\n",
       "      <th>2743</th>\n",
       "      <td>pompeii</td>\n",
       "      <td>-2.761415</td>\n",
       "    </tr>\n",
       "    <tr>\n",
       "      <th>558</th>\n",
       "      <td>caesar</td>\n",
       "      <td>-2.679190</td>\n",
       "    </tr>\n",
       "    <tr>\n",
       "      <th>1606</th>\n",
       "      <td>hadrian</td>\n",
       "      <td>-2.635532</td>\n",
       "    </tr>\n",
       "    <tr>\n",
       "      <th>3633</th>\n",
       "      <td>trajan</td>\n",
       "      <td>-2.577665</td>\n",
       "    </tr>\n",
       "    <tr>\n",
       "      <th>789</th>\n",
       "      <td>constantine</td>\n",
       "      <td>-2.565150</td>\n",
       "    </tr>\n",
       "    <tr>\n",
       "      <th>946</th>\n",
       "      <td>denarius</td>\n",
       "      <td>-2.527914</td>\n",
       "    </tr>\n",
       "    <tr>\n",
       "      <th>2188</th>\n",
       "      <td>marcus</td>\n",
       "      <td>-2.474117</td>\n",
       "    </tr>\n",
       "    <tr>\n",
       "      <th>320</th>\n",
       "      <td>augustus</td>\n",
       "      <td>-2.436407</td>\n",
       "    </tr>\n",
       "    <tr>\n",
       "      <th>45</th>\n",
       "      <td>ad</td>\n",
       "      <td>-2.435401</td>\n",
       "    </tr>\n",
       "    <tr>\n",
       "      <th>1490</th>\n",
       "      <td>gaul</td>\n",
       "      <td>-2.430271</td>\n",
       "    </tr>\n",
       "    <tr>\n",
       "      <th>1518</th>\n",
       "      <td>gladiator</td>\n",
       "      <td>-2.429457</td>\n",
       "    </tr>\n",
       "    <tr>\n",
       "      <th>1183</th>\n",
       "      <td>emperors</td>\n",
       "      <td>-2.428441</td>\n",
       "    </tr>\n",
       "    <tr>\n",
       "      <th>3171</th>\n",
       "      <td>senate</td>\n",
       "      <td>-2.418151</td>\n",
       "    </tr>\n",
       "    <tr>\n",
       "      <th>707</th>\n",
       "      <td>claudius</td>\n",
       "      <td>-2.414329</td>\n",
       "    </tr>\n",
       "    <tr>\n",
       "      <th>365</th>\n",
       "      <td>bath</td>\n",
       "      <td>-2.383818</td>\n",
       "    </tr>\n",
       "    <tr>\n",
       "      <th>1617</th>\n",
       "      <td>hannibal</td>\n",
       "      <td>-2.312481</td>\n",
       "    </tr>\n",
       "    <tr>\n",
       "      <th>2029</th>\n",
       "      <td>legion</td>\n",
       "      <td>-2.303368</td>\n",
       "    </tr>\n",
       "    <tr>\n",
       "      <th>797</th>\n",
       "      <td>consul</td>\n",
       "      <td>-2.279423</td>\n",
       "    </tr>\n",
       "    <tr>\n",
       "      <th>1933</th>\n",
       "      <td>julius caesar</td>\n",
       "      <td>-2.225301</td>\n",
       "    </tr>\n",
       "    <tr>\n",
       "      <th>2189</th>\n",
       "      <td>marcus aurelius</td>\n",
       "      <td>-2.210422</td>\n",
       "    </tr>\n",
       "    <tr>\n",
       "      <th>2752</th>\n",
       "      <td>portrait</td>\n",
       "      <td>-2.199871</td>\n",
       "    </tr>\n",
       "    <tr>\n",
       "      <th>177</th>\n",
       "      <td>antony</td>\n",
       "      <td>-2.160140</td>\n",
       "    </tr>\n",
       "    <tr>\n",
       "      <th>2300</th>\n",
       "      <td>mint</td>\n",
       "      <td>-2.158787</td>\n",
       "    </tr>\n",
       "    <tr>\n",
       "      <th>3753</th>\n",
       "      <td>usurper</td>\n",
       "      <td>-2.147978</td>\n",
       "    </tr>\n",
       "    <tr>\n",
       "      <th>1210</th>\n",
       "      <td>england</td>\n",
       "      <td>-2.116548</td>\n",
       "    </tr>\n",
       "    <tr>\n",
       "      <th>321</th>\n",
       "      <td>aurelian</td>\n",
       "      <td>-2.108266</td>\n",
       "    </tr>\n",
       "    <tr>\n",
       "      <th>567</th>\n",
       "      <td>caligula</td>\n",
       "      <td>-2.104965</td>\n",
       "    </tr>\n",
       "  </tbody>\n",
       "</table>\n",
       "</div>"
      ],
      "text/plain": [
       "        topwords_rome      coef\n",
       "1166          emperor -3.851595\n",
       "2429             nero -2.972516\n",
       "1798         imperial -2.852546\n",
       "2743          pompeii -2.761415\n",
       "558            caesar -2.679190\n",
       "1606          hadrian -2.635532\n",
       "3633           trajan -2.577665\n",
       "789       constantine -2.565150\n",
       "946          denarius -2.527914\n",
       "2188           marcus -2.474117\n",
       "320          augustus -2.436407\n",
       "45                 ad -2.435401\n",
       "1490             gaul -2.430271\n",
       "1518        gladiator -2.429457\n",
       "1183         emperors -2.428441\n",
       "3171           senate -2.418151\n",
       "707          claudius -2.414329\n",
       "365              bath -2.383818\n",
       "1617         hannibal -2.312481\n",
       "2029           legion -2.303368\n",
       "797            consul -2.279423\n",
       "1933    julius caesar -2.225301\n",
       "2189  marcus aurelius -2.210422\n",
       "2752         portrait -2.199871\n",
       "177            antony -2.160140\n",
       "2300             mint -2.158787\n",
       "3753          usurper -2.147978\n",
       "1210          england -2.116548\n",
       "321          aurelian -2.108266\n",
       "567          caligula -2.104965"
      ]
     },
     "execution_count": 39,
     "metadata": {},
     "output_type": "execute_result"
    }
   ],
   "source": [
    "#print top 30 words for rome\n",
    "temp_dfr = top_words.sort_values('coef').head(30).rename(\n",
    "    {'feat_names':'topwords_rome'}, axis=1)\n",
    "temp_dfr"
   ]
  },
  {
   "cell_type": "code",
   "execution_count": 40,
   "id": "7694de77",
   "metadata": {
    "ExecuteTime": {
     "end_time": "2022-01-19T23:56:08.454031Z",
     "start_time": "2022-01-19T23:56:07.807842Z"
    }
   },
   "outputs": [
    {
     "data": {
      "image/png": "[encoded data removed]",
      "text/plain": [
       "<Figure size 432x432 with 1 Axes>"
      ]
     },
     "metadata": {
      "needs_background": "light"
     },
     "output_type": "display_data"
    }
   ],
   "source": [
    "# in the chart form\n",
    "topwords_bar(np.abs(temp_dfr['coef']), temp_dfr['topwords_rome'],\n",
    "            'Coefficients', ' Rome NB')"
   ]
  },
  {
   "cell_type": "code",
   "execution_count": 41,
   "id": "14d446a7",
   "metadata": {
    "ExecuteTime": {
     "end_time": "2022-01-19T23:56:11.399877Z",
     "start_time": "2022-01-19T23:56:11.375788Z"
    },
    "scrolled": false
   },
   "outputs": [
    {
     "data": {
      "text/html": [
       "<div>\n",
       "<style scoped>\n",
       "    .dataframe tbody tr th:only-of-type {\n",
       "        vertical-align: middle;\n",
       "    }\n",
       "\n",
       "    .dataframe tbody tr th {\n",
       "        vertical-align: top;\n",
       "    }\n",
       "\n",
       "    .dataframe thead th {\n",
       "        text-align: right;\n",
       "    }\n",
       "</style>\n",
       "<table border=\"1\" class=\"dataframe\">\n",
       "  <thead>\n",
       "    <tr style=\"text-align: right;\">\n",
       "      <th></th>\n",
       "      <th>topwords_greece</th>\n",
       "      <th>coef</th>\n",
       "    </tr>\n",
       "  </thead>\n",
       "  <tbody>\n",
       "    <tr>\n",
       "      <th>2600</th>\n",
       "      <td>pdf</td>\n",
       "      <td>3.326145</td>\n",
       "    </tr>\n",
       "    <tr>\n",
       "      <th>3271</th>\n",
       "      <td>socrates</td>\n",
       "      <td>3.031362</td>\n",
       "    </tr>\n",
       "    <tr>\n",
       "      <th>3666</th>\n",
       "      <td>trojan</td>\n",
       "      <td>3.000851</td>\n",
       "    </tr>\n",
       "    <tr>\n",
       "      <th>3302</th>\n",
       "      <td>sparta</td>\n",
       "      <td>2.891653</td>\n",
       "    </tr>\n",
       "    <tr>\n",
       "      <th>2372</th>\n",
       "      <td>mycenaean</td>\n",
       "      <td>2.834476</td>\n",
       "    </tr>\n",
       "    <tr>\n",
       "      <th>2498</th>\n",
       "      <td>odyssey</td>\n",
       "      <td>2.828539</td>\n",
       "    </tr>\n",
       "    <tr>\n",
       "      <th>3304</th>\n",
       "      <td>spartan</td>\n",
       "      <td>2.755675</td>\n",
       "    </tr>\n",
       "    <tr>\n",
       "      <th>3667</th>\n",
       "      <td>trojan war</td>\n",
       "      <td>2.747196</td>\n",
       "    </tr>\n",
       "    <tr>\n",
       "      <th>1449</th>\n",
       "      <td>free pdf</td>\n",
       "      <td>2.654005</td>\n",
       "    </tr>\n",
       "    <tr>\n",
       "      <th>2578</th>\n",
       "      <td>parthenon</td>\n",
       "      <td>2.633468</td>\n",
       "    </tr>\n",
       "    <tr>\n",
       "      <th>2297</th>\n",
       "      <td>minoan</td>\n",
       "      <td>2.622614</td>\n",
       "    </tr>\n",
       "    <tr>\n",
       "      <th>107</th>\n",
       "      <td>alexander great</td>\n",
       "      <td>2.580414</td>\n",
       "    </tr>\n",
       "    <tr>\n",
       "      <th>1121</th>\n",
       "      <td>ebooks</td>\n",
       "      <td>2.572900</td>\n",
       "    </tr>\n",
       "    <tr>\n",
       "      <th>1672</th>\n",
       "      <td>herodotus</td>\n",
       "      <td>2.566800</td>\n",
       "    </tr>\n",
       "    <tr>\n",
       "      <th>299</th>\n",
       "      <td>athens</td>\n",
       "      <td>2.556707</td>\n",
       "    </tr>\n",
       "    <tr>\n",
       "      <th>3307</th>\n",
       "      <td>spartans</td>\n",
       "      <td>2.490954</td>\n",
       "    </tr>\n",
       "    <tr>\n",
       "      <th>295</th>\n",
       "      <td>athenian</td>\n",
       "      <td>2.438908</td>\n",
       "    </tr>\n",
       "    <tr>\n",
       "      <th>3926</th>\n",
       "      <td>women</td>\n",
       "      <td>2.392577</td>\n",
       "    </tr>\n",
       "    <tr>\n",
       "      <th>1737</th>\n",
       "      <td>hoplite</td>\n",
       "      <td>2.371598</td>\n",
       "    </tr>\n",
       "    <tr>\n",
       "      <th>2601</th>\n",
       "      <td>pdf book</td>\n",
       "      <td>2.371213</td>\n",
       "    </tr>\n",
       "    <tr>\n",
       "      <th>1451</th>\n",
       "      <td>free pdf books</td>\n",
       "      <td>2.366401</td>\n",
       "    </tr>\n",
       "    <tr>\n",
       "      <th>2602</th>\n",
       "      <td>pdf books</td>\n",
       "      <td>2.366401</td>\n",
       "    </tr>\n",
       "    <tr>\n",
       "      <th>2181</th>\n",
       "      <td>marathon</td>\n",
       "      <td>2.355019</td>\n",
       "    </tr>\n",
       "    <tr>\n",
       "      <th>2612</th>\n",
       "      <td>peloponnesian war</td>\n",
       "      <td>2.298188</td>\n",
       "    </tr>\n",
       "    <tr>\n",
       "      <th>3560</th>\n",
       "      <td>thucydides</td>\n",
       "      <td>2.274614</td>\n",
       "    </tr>\n",
       "    <tr>\n",
       "      <th>1055</th>\n",
       "      <td>download free</td>\n",
       "      <td>2.266109</td>\n",
       "    </tr>\n",
       "    <tr>\n",
       "      <th>1056</th>\n",
       "      <td>download free pdf</td>\n",
       "      <td>2.266109</td>\n",
       "    </tr>\n",
       "    <tr>\n",
       "      <th>3527</th>\n",
       "      <td>thermopylae</td>\n",
       "      <td>2.228995</td>\n",
       "    </tr>\n",
       "    <tr>\n",
       "      <th>2665</th>\n",
       "      <td>phoenician</td>\n",
       "      <td>2.225117</td>\n",
       "    </tr>\n",
       "  </tbody>\n",
       "</table>\n",
       "</div>"
      ],
      "text/plain": [
       "        topwords_greece      coef\n",
       "2600                pdf  3.326145\n",
       "3271           socrates  3.031362\n",
       "3666             trojan  3.000851\n",
       "3302             sparta  2.891653\n",
       "2372          mycenaean  2.834476\n",
       "2498            odyssey  2.828539\n",
       "3304            spartan  2.755675\n",
       "3667         trojan war  2.747196\n",
       "1449           free pdf  2.654005\n",
       "2578          parthenon  2.633468\n",
       "2297             minoan  2.622614\n",
       "107     alexander great  2.580414\n",
       "1121             ebooks  2.572900\n",
       "1672          herodotus  2.566800\n",
       "299              athens  2.556707\n",
       "3307           spartans  2.490954\n",
       "295            athenian  2.438908\n",
       "3926              women  2.392577\n",
       "1737            hoplite  2.371598\n",
       "2601           pdf book  2.371213\n",
       "1451     free pdf books  2.366401\n",
       "2602          pdf books  2.366401\n",
       "2181           marathon  2.355019\n",
       "2612  peloponnesian war  2.298188\n",
       "3560         thucydides  2.274614\n",
       "1055      download free  2.266109\n",
       "1056  download free pdf  2.266109\n",
       "3527        thermopylae  2.228995\n",
       "2665         phoenician  2.225117"
      ]
     },
     "execution_count": 41,
     "metadata": {},
     "output_type": "execute_result"
    }
   ],
   "source": [
    "# print top 30 words for greece\n",
    "top_words.sort_values('coef')[-1:-30:-1].rename({'feat_names':'topwords_greece'}, axis=1)"
   ]
  },
  {
   "cell_type": "markdown",
   "id": "daa96703",
   "metadata": {
    "ExecuteTime": {
     "end_time": "2022-01-19T00:37:57.777068Z",
     "start_time": "2022-01-19T00:37:57.760921Z"
    }
   },
   "source": [
    "- overall good results, except for the fact that a spam in the form of 'download free pdf books and ebooks' snuck its way into our greek posts. \n",
    "- we'll add those to stopwords, and re-run the model a few times until it's clean of spam. hopefully the score doesn't suffer too much\n",
    " - but first, we have to check how did all these \"download free books\" make past our duplicate drops and other cleaning functions"
   ]
  },
  {
   "cell_type": "code",
   "execution_count": 42,
   "id": "f9d81dda",
   "metadata": {
    "ExecuteTime": {
     "end_time": "2022-01-19T23:56:20.549872Z",
     "start_time": "2022-01-19T23:56:19.971522Z"
    }
   },
   "outputs": [
    {
     "data": {
      "image/png": "[encoded data removed]",
      "text/plain": [
       "<Figure size 432x432 with 1 Axes>"
      ]
     },
     "metadata": {
      "needs_background": "light"
     },
     "output_type": "display_data"
    }
   ],
   "source": [
    "# same table, but in the chart form\n",
    "topwords_bar(top_words.sort_values('coef')[-1:-30:-1].rename(\n",
    "    {'feat_names':'topwords_greece'}, axis=1)['coef'], top_words.sort_values(\n",
    "    'coef')[-1:-30:-1].rename({'feat_names':'topwords_greece'}, axis=1)['topwords_greece'],\n",
    "            'Coefficients', ' Greece NB')"
   ]
  },
  {
   "cell_type": "code",
   "execution_count": 43,
   "id": "57b193c7",
   "metadata": {
    "ExecuteTime": {
     "end_time": "2022-01-19T23:57:05.414192Z",
     "start_time": "2022-01-19T23:57:05.398207Z"
    },
    "scrolled": false
   },
   "outputs": [
    {
     "name": "stdout",
     "output_type": "stream",
     "text": [
      "bettilt download app para android apk amp ios\n",
      "a student history of greece free pdf by j b bury study ebooks download free pdf ebooks\n",
      "free giveaway myths and legends of ancient greece book be free for download in the next day and it be a comprehensive introduction into the world of greek myth include detailed retell of the iliad and the odyssey please help yourselves\n",
      "stoic and epicurean by robert drew hicks free pdf book study ebooks download free pdf ebooks\n",
      "greek modern with phonetic pronunciation thimm system by nicolaos anastassiou study ebooks download free pdf ebooks\n",
      "the development of greek philosophy pdf book by robert adamson study ebooks download free pdf ebooks\n",
      "sculpture egyptian assyrian greek roman with numerous illustration by george redford sharing ebook download free pdf books legally\n",
      "free giveaway myths and legends of ancient greece book be free for download in the next day it be a comprehensive introduction into the world of greek mythology include detailed retellings of the argonautica the iliad and the odyssey please help yourselves\n",
      "the twelve olympians free pdf book by charles seltman god of the greeks with illustrations sharing ebook download free pdf books legally\n",
      "history of greek philosophy by b fuller pdf book sharing ebook download free pdf books legally\n",
      "the greek orator pdf book by f dobson sharing ebook download free pdf books legally\n",
      "the meditations of marcus aurelius pdf book translated by meric casaubon sharing ebook download free pdf books legally\n",
      "social thought among the early greeks by joseph bertram gittler pdf book sharing ebook download free pdf books legally\n",
      "alexander the great free pdf book by ada russell sharing ebook download free pdf books legally\n",
      "the education of cyrus translated from the greek of xenophon pdf book sharingebook download free pdf books legally\n",
      "ancient athens free pdf book by ernest arthur gardner with illustrations sharingebook download free pdf books legally\n",
      "the golden verse of pythagoras pdf book by fabre sharingebook download free pdf books legally\n",
      "melody loops royalty free music background download\n",
      "the greek orator pdf book by f dobson sharingebook download free pdf books legally\n",
      "the legend of perseus pdf book a study of tradition in story custom and belief sharingebook download free pdf books legally\n",
      "how stoicism can help you in the time of corona with best free stoicism books included sharingebook download free pdf books legally\n",
      "the twelve olympians free pdf book by charles seltman god of the greeks with illustrations sharingebook download free pdf books legally\n",
      "greek wit a collection of smart saying and anecdote funny saying pdf book sharingebook download free pdf books legally\n",
      "zeus a study in ancient religion pdf book by arthur bernard cook sharingebook download free pdf books legally\n",
      "greek hero cult and idea of immortality pdf book by richard farnell sharingebook download free pdf books legally\n",
      "the fragment of zeno and cleanthes free pdf book sharingebook download free pdf books legally\n",
      "the rhesus of euripides greek short play translated by gilbert murray sharingebook download free pdf books legally\n",
      "greek leader free pdf book by leslie white hopkinson sharingebook download free pdf books legally\n",
      "a handbook of greek sculpture free pdf book by ernest arthur gardner with illustrations sharingebook download free pdf books legally\n",
      "myths of old greece free pdf book by mara pratt with illustrations sharingebook download free pdf books legally\n",
      "republic of rome board game and tabletop simulator i be wonder if anyone out there would be interested in play republic of rome on tabletop simulator i be presently surprised to learn that r of r have a mod for tts so i of course have to download both i have always want to try the game and now it look like i might just have the opportunity\n"
     ]
    }
   ],
   "source": [
    "# what happened? how did 'download free books now' make it past our duplicate drops?\n",
    "for row in reddit['posts']: # check each for the spam word 'downlaod'\n",
    "    if 'download' in row:\n",
    "        print(row)"
   ]
  },
  {
   "cell_type": "markdown",
   "id": "e28f84eb",
   "metadata": {},
   "source": [
    " - words 'sharingebook download free pdf books legally' had been added to different posts, so it made it past our drop duplicate function\n",
    " - remove it"
   ]
  },
  {
   "cell_type": "code",
   "execution_count": 81,
   "id": "d2c67a81",
   "metadata": {
    "ExecuteTime": {
     "end_time": "2022-01-20T01:58:41.354353Z",
     "start_time": "2022-01-20T01:58:41.346305Z"
    }
   },
   "outputs": [
    {
     "data": {
      "text/plain": [
       "438"
      ]
     },
     "execution_count": 81,
     "metadata": {},
     "output_type": "execute_result"
    }
   ],
   "source": [
    "#extend the stopword list\n",
    "my_stopwords_greek.extend(['pdf', 'ebooks', 'ebook', 'book', 'books', 'download', 'legally', 'free', 'sharingebook'])\n",
    "stopwords3_greek = text.ENGLISH_STOP_WORDS.union(my_stopwords_greek) \n",
    "len(stopwords3_greek)"
   ]
  },
  {
   "cell_type": "code",
   "execution_count": 82,
   "id": "75e320b6",
   "metadata": {
    "ExecuteTime": {
     "end_time": "2022-01-20T02:00:29.844938Z",
     "start_time": "2022-01-20T01:59:00.802484Z"
    }
   },
   "outputs": [
    {
     "name": "stdout",
     "output_type": "stream",
     "text": [
      "best params:  {'nb__alpha': 0.5, 'tfvec__max_features': 4000, 'tfvec__min_df': 3, 'tfvec__ngram_range': (1, 3)}\n",
      "train score:  0.9338284942606347\n",
      "test score:  0.840080971659919\n",
      "cross-val score:  0.8082411521079185\n"
     ]
    }
   ],
   "source": [
    "#rerun the model 2.7 with the new list of stopwords\n",
    "#everthing is exactly the same except for one line (line 4)\n",
    "pipe6 = Pipeline([\n",
    "        ('tfvec', TfidfVectorizer(stop_words=stopwords3_greek)), # change stopwords2 to stopwords3 \n",
    "        ('nb', MultinomialNB())\n",
    "        ])\n",
    "\n",
    "\n",
    "gs6 = GridSearchCV(pipe6, pipe_params5, cv=6)\n",
    "gs6.fit(X_train1, y_train1);\n",
    "print('best params: ', gs6.best_params_)\n",
    "print('train score: ', gs6.score(X_train1, y_train1))\n",
    "print('test score: ', gs6.score(X_test1, y_test1))\n",
    "print('cross-val score: ', gs6.best_score_)\n",
    "\n",
    "pred6 = gs6.predict(X_test1)"
   ]
  },
  {
   "cell_type": "code",
   "execution_count": 83,
   "id": "9a264aee",
   "metadata": {
    "ExecuteTime": {
     "end_time": "2022-01-20T02:00:31.048137Z",
     "start_time": "2022-01-20T02:00:31.019390Z"
    }
   },
   "outputs": [],
   "source": [
    "# train and test score is virtually identical to the previous version without the spam words.\n",
    "# let's see top words again, with the spam removed\n",
    "\n",
    "feat_imp = gs6.best_estimator_['nb'].feature_log_prob_[1] - gs6.best_estimator_['nb'].feature_log_prob_[0]\n",
    "feat_names = np.array(gs6.best_estimator_['tfvec'].get_feature_names())\n",
    "top_words = pd.DataFrame({'feat_names': feat_names, 'coef': feat_imp})"
   ]
  },
  {
   "cell_type": "code",
   "execution_count": 84,
   "id": "17433b58",
   "metadata": {
    "ExecuteTime": {
     "end_time": "2022-01-20T02:00:32.123469Z",
     "start_time": "2022-01-20T02:00:32.093344Z"
    },
    "scrolled": true
   },
   "outputs": [
    {
     "data": {
      "text/html": [
       "<div>\n",
       "<style scoped>\n",
       "    .dataframe tbody tr th:only-of-type {\n",
       "        vertical-align: middle;\n",
       "    }\n",
       "\n",
       "    .dataframe tbody tr th {\n",
       "        vertical-align: top;\n",
       "    }\n",
       "\n",
       "    .dataframe thead th {\n",
       "        text-align: right;\n",
       "    }\n",
       "</style>\n",
       "<table border=\"1\" class=\"dataframe\">\n",
       "  <thead>\n",
       "    <tr style=\"text-align: right;\">\n",
       "      <th></th>\n",
       "      <th>topwords_greece</th>\n",
       "      <th>coef</th>\n",
       "    </tr>\n",
       "  </thead>\n",
       "  <tbody>\n",
       "    <tr>\n",
       "      <th>3272</th>\n",
       "      <td>socrates</td>\n",
       "      <td>3.056291</td>\n",
       "    </tr>\n",
       "    <tr>\n",
       "      <th>3667</th>\n",
       "      <td>trojan</td>\n",
       "      <td>3.011335</td>\n",
       "    </tr>\n",
       "    <tr>\n",
       "      <th>3303</th>\n",
       "      <td>sparta</td>\n",
       "      <td>2.899177</td>\n",
       "    </tr>\n",
       "    <tr>\n",
       "      <th>2331</th>\n",
       "      <td>mycenaean</td>\n",
       "      <td>2.844530</td>\n",
       "    </tr>\n",
       "    <tr>\n",
       "      <th>2446</th>\n",
       "      <td>odyssey</td>\n",
       "      <td>2.822706</td>\n",
       "    </tr>\n",
       "    <tr>\n",
       "      <th>3668</th>\n",
       "      <td>trojan war</td>\n",
       "      <td>2.765404</td>\n",
       "    </tr>\n",
       "    <tr>\n",
       "      <th>3305</th>\n",
       "      <td>spartan</td>\n",
       "      <td>2.761344</td>\n",
       "    </tr>\n",
       "    <tr>\n",
       "      <th>2256</th>\n",
       "      <td>minoan</td>\n",
       "      <td>2.659583</td>\n",
       "    </tr>\n",
       "    <tr>\n",
       "      <th>2552</th>\n",
       "      <td>parthenon</td>\n",
       "      <td>2.659107</td>\n",
       "    </tr>\n",
       "    <tr>\n",
       "      <th>107</th>\n",
       "      <td>alexander great</td>\n",
       "      <td>2.601184</td>\n",
       "    </tr>\n",
       "    <tr>\n",
       "      <th>299</th>\n",
       "      <td>athens</td>\n",
       "      <td>2.582859</td>\n",
       "    </tr>\n",
       "    <tr>\n",
       "      <th>1652</th>\n",
       "      <td>herodotus</td>\n",
       "      <td>2.570988</td>\n",
       "    </tr>\n",
       "    <tr>\n",
       "      <th>3308</th>\n",
       "      <td>spartans</td>\n",
       "      <td>2.498361</td>\n",
       "    </tr>\n",
       "    <tr>\n",
       "      <th>295</th>\n",
       "      <td>athenian</td>\n",
       "      <td>2.455729</td>\n",
       "    </tr>\n",
       "    <tr>\n",
       "      <th>3927</th>\n",
       "      <td>women</td>\n",
       "      <td>2.408054</td>\n",
       "    </tr>\n",
       "    <tr>\n",
       "      <th>1718</th>\n",
       "      <td>hoplite</td>\n",
       "      <td>2.384754</td>\n",
       "    </tr>\n",
       "    <tr>\n",
       "      <th>2139</th>\n",
       "      <td>marathon</td>\n",
       "      <td>2.366067</td>\n",
       "    </tr>\n",
       "    <tr>\n",
       "      <th>2591</th>\n",
       "      <td>peloponnesian war</td>\n",
       "      <td>2.297706</td>\n",
       "    </tr>\n",
       "    <tr>\n",
       "      <th>3562</th>\n",
       "      <td>thucydides</td>\n",
       "      <td>2.286170</td>\n",
       "    </tr>\n",
       "    <tr>\n",
       "      <th>3998</th>\n",
       "      <td>zeus</td>\n",
       "      <td>2.260478</td>\n",
       "    </tr>\n",
       "    <tr>\n",
       "      <th>3529</th>\n",
       "      <td>thermopylae</td>\n",
       "      <td>2.243148</td>\n",
       "    </tr>\n",
       "    <tr>\n",
       "      <th>2661</th>\n",
       "      <td>phoenician</td>\n",
       "      <td>2.233021</td>\n",
       "    </tr>\n",
       "    <tr>\n",
       "      <th>2689</th>\n",
       "      <td>plato</td>\n",
       "      <td>2.221524</td>\n",
       "    </tr>\n",
       "    <tr>\n",
       "      <th>2590</th>\n",
       "      <td>peloponnesian</td>\n",
       "      <td>2.213495</td>\n",
       "    </tr>\n",
       "    <tr>\n",
       "      <th>1751</th>\n",
       "      <td>iliad</td>\n",
       "      <td>2.197377</td>\n",
       "    </tr>\n",
       "    <tr>\n",
       "      <th>1066</th>\n",
       "      <td>diogenes</td>\n",
       "      <td>2.180723</td>\n",
       "    </tr>\n",
       "    <tr>\n",
       "      <th>3386</th>\n",
       "      <td>study best</td>\n",
       "      <td>2.178304</td>\n",
       "    </tr>\n",
       "    <tr>\n",
       "      <th>838</th>\n",
       "      <td>corinthian</td>\n",
       "      <td>2.153915</td>\n",
       "    </tr>\n",
       "    <tr>\n",
       "      <th>370</th>\n",
       "      <td>battle marathon</td>\n",
       "      <td>2.143786</td>\n",
       "    </tr>\n",
       "  </tbody>\n",
       "</table>\n",
       "</div>"
      ],
      "text/plain": [
       "        topwords_greece      coef\n",
       "3272           socrates  3.056291\n",
       "3667             trojan  3.011335\n",
       "3303             sparta  2.899177\n",
       "2331          mycenaean  2.844530\n",
       "2446            odyssey  2.822706\n",
       "3668         trojan war  2.765404\n",
       "3305            spartan  2.761344\n",
       "2256             minoan  2.659583\n",
       "2552          parthenon  2.659107\n",
       "107     alexander great  2.601184\n",
       "299              athens  2.582859\n",
       "1652          herodotus  2.570988\n",
       "3308           spartans  2.498361\n",
       "295            athenian  2.455729\n",
       "3927              women  2.408054\n",
       "1718            hoplite  2.384754\n",
       "2139           marathon  2.366067\n",
       "2591  peloponnesian war  2.297706\n",
       "3562         thucydides  2.286170\n",
       "3998               zeus  2.260478\n",
       "3529        thermopylae  2.243148\n",
       "2661         phoenician  2.233021\n",
       "2689              plato  2.221524\n",
       "2590      peloponnesian  2.213495\n",
       "1751              iliad  2.197377\n",
       "1066           diogenes  2.180723\n",
       "3386         study best  2.178304\n",
       "838          corinthian  2.153915\n",
       "370     battle marathon  2.143786"
      ]
     },
     "execution_count": 84,
     "metadata": {},
     "output_type": "execute_result"
    }
   ],
   "source": [
    "temp_dfg = top_words.sort_values('coef')[-1:-30:-1].rename(\n",
    "    {'feat_names':'topwords_greece'}, axis=1)\n",
    "temp_dfg"
   ]
  },
  {
   "cell_type": "code",
   "execution_count": 85,
   "id": "e9fc2f78",
   "metadata": {
    "ExecuteTime": {
     "end_time": "2022-01-20T02:00:33.540630Z",
     "start_time": "2022-01-20T02:00:33.201983Z"
    }
   },
   "outputs": [
    {
     "data": {
      "image/png": "[encoded data removed]",
      "text/plain": [
       "<Figure size 432x432 with 1 Axes>"
      ]
     },
     "metadata": {
      "needs_background": "light"
     },
     "output_type": "display_data"
    }
   ],
   "source": [
    "topwords_bar(np.abs(temp_dfg['coef']), temp_dfg['topwords_greece'],\n",
    "            'Coefficients', 'Greece NB')"
   ]
  },
  {
   "cell_type": "markdown",
   "id": "40f70263",
   "metadata": {},
   "source": [
    " - the new top list now looks relevant to both ancient rome and greece\n",
    " - not only did we optimize our NB model, but now we also have more in-depth understanding to bring to bear as we run a Random Forest model next"
   ]
  },
  {
   "cell_type": "markdown",
   "id": "b21bbef4",
   "metadata": {},
   "source": [
    "## Random Forest"
   ]
  },
  {
   "cell_type": "markdown",
   "id": "38c40320",
   "metadata": {},
   "source": [
    " A few thing we will bring over from our NB models are: \n",
    "   - X_train, y_train (split with all posts), and X_train1 and y_train1 (with posts with 8 or more words)\n",
    "   - the most exhaustive stopword list (stopwords3_greek)  \n",
    "   - as Naive Bayes was the first model we ran in this project, we spent a lot of time optimizing it. Due to that, we are starting the new model with cleaned-up data and stopwords, which should make running the forthcoming models more faster."
   ]
  },
  {
   "cell_type": "markdown",
   "id": "6423c9ae",
   "metadata": {},
   "source": [
    "### RF w/cvec"
   ]
  },
  {
   "cell_type": "code",
   "execution_count": 49,
   "id": "f5824984",
   "metadata": {
    "ExecuteTime": {
     "end_time": "2022-01-20T00:01:30.836270Z",
     "start_time": "2022-01-20T00:01:30.811228Z"
    }
   },
   "outputs": [],
   "source": [
    "pipe_paramsrf1 = {\n",
    "    'cvec__max_features': [3000, 4000, 5000],\n",
    "    'rf__n_estimators':[300, 400, 500],\n",
    "    'rf__max_depth':[4,5],\n",
    "    'rf__min_samples_leaf': [1,2,3],\n",
    "    #'rf__ccp_alpha':[0, 0.01], always stays at zero\n",
    "    'rf__criterion': ['gini', 'entropy']\n",
    "}"
   ]
  },
  {
   "cell_type": "code",
   "execution_count": 50,
   "id": "06f8630c",
   "metadata": {
    "ExecuteTime": {
     "end_time": "2022-01-20T00:07:57.577886Z",
     "start_time": "2022-01-20T00:01:51.646994Z"
    }
   },
   "outputs": [],
   "source": [
    "# CountVectorizer pipeline and gridsearch\n",
    "pipe_rf1 = Pipeline([('cvec', CountVectorizer(ngram_range=(1,3),\n",
    "        min_df=2, stop_words=stopwords3_greek)), \n",
    "        ('rf', RandomForestClassifier(random_state=42))\n",
    "        ])\n",
    "\n",
    "\n",
    " \n",
    "# new gridsearch with the new pipe and parameters \n",
    "# use X_train as that one does not have word limit per post\n",
    "gs_rf1 = GridSearchCV(pipe_rf1, pipe_paramsrf1, cv=4, n_jobs=4)\n",
    "gs_rf1.fit(X_train, y_train);\n"
   ]
  },
  {
   "cell_type": "code",
   "execution_count": 51,
   "id": "80636b23",
   "metadata": {
    "ExecuteTime": {
     "end_time": "2022-01-20T00:07:59.557939Z",
     "start_time": "2022-01-20T00:07:58.530432Z"
    }
   },
   "outputs": [
    {
     "name": "stdout",
     "output_type": "stream",
     "text": [
      "best params:  {'cvec__max_features': 4000, 'rf__criterion': 'entropy', 'rf__max_depth': 5, 'rf__min_samples_leaf': 2, 'rf__n_estimators': 300}\n",
      "train score:  0.807655272026962\n",
      "test score:  0.7805054151624549\n",
      "cross-val score:  0.7717884953110019\n"
     ]
    }
   ],
   "source": [
    "print('best params: ', gs_rf1.best_params_)\n",
    "print('train score: ', gs_rf1.score(X_train, y_train))\n",
    "print('test score: ', gs_rf1.score(X_test, y_test))\n",
    "print('cross-val score: ', gs_rf1.best_score_)\n",
    "\n",
    "pred_rf1 = gs_rf1.predict(X_test)"
   ]
  },
  {
   "cell_type": "markdown",
   "id": "34bfd4ce",
   "metadata": {},
   "source": [
    "- after many tries with various hyper-parameter combinations, the above cells produces the best results as far Random Forest is concerned\n",
    "- results are both good and bad - while the overall scores are lower, there is less overfitting as evidenced by the small dropoff in accuracy from train to test data, from 0.80 to 0.78.\n",
    "- next try with posts longer than 8 words"
   ]
  },
  {
   "cell_type": "markdown",
   "id": "36634388",
   "metadata": {},
   "source": [
    "### RF w/tfidf & 8+words"
   ]
  },
  {
   "cell_type": "code",
   "execution_count": 52,
   "id": "a6ad6c4f",
   "metadata": {
    "ExecuteTime": {
     "end_time": "2022-01-20T00:08:00.549551Z",
     "start_time": "2022-01-20T00:08:00.530347Z"
    }
   },
   "outputs": [],
   "source": [
    "pipe_paramsrf2 = {\n",
    "    'tfidf__max_features': [4000, 6000],\n",
    "    'rf__n_estimators':[300, 400],\n",
    "    'rf__max_depth':[6, 12],\n",
    "    'rf__min_samples_leaf': [1,2,3],\n",
    "#     'rf__ccp_alpha':[0, 0.01], always stays at zero\n",
    "    'rf__criterion': ['gini', 'entropy']\n",
    "}"
   ]
  },
  {
   "cell_type": "code",
   "execution_count": 53,
   "id": "ba728557",
   "metadata": {
    "ExecuteTime": {
     "end_time": "2022-01-20T00:10:03.946285Z",
     "start_time": "2022-01-20T00:08:01.556090Z"
    }
   },
   "outputs": [],
   "source": [
    "# CountVectorizer pipeline and gridsearch\n",
    "pipe_rf2 = Pipeline([\n",
    "        ('tfidf', TfidfVectorizer(ngram_range=(1,3), min_df =2, stop_words=stopwords3_greek)), \n",
    "        ('rf', RandomForestClassifier(random_state=42))\n",
    "        ])\n",
    "\n",
    "# new gridsearch with the new pipe and parameters \n",
    "# use X_train1 as that one does not have word limit per post\n",
    "gs_rf2 = GridSearchCV(pipe_rf2, pipe_paramsrf2, cv=4, n_jobs=4)\n",
    "gs_rf2.fit(X_train1, y_train1);"
   ]
  },
  {
   "cell_type": "code",
   "execution_count": 54,
   "id": "9a75b6b9",
   "metadata": {
    "ExecuteTime": {
     "end_time": "2022-01-20T00:10:06.045844Z",
     "start_time": "2022-01-20T00:10:05.022224Z"
    }
   },
   "outputs": [
    {
     "name": "stdout",
     "output_type": "stream",
     "text": [
      "best params:  {'rf__criterion': 'entropy', 'rf__max_depth': 12, 'rf__min_samples_leaf': 1, 'rf__n_estimators': 300, 'tfidf__max_features': 4000}\n",
      "train score:  0.8139770425388251\n",
      "test score:  0.7611336032388664\n",
      "cross-val score:  0.7586082540029908\n"
     ]
    }
   ],
   "source": [
    "print('best params: ', gs_rf2.best_params_)\n",
    "print('train score: ', gs_rf2.score(X_train1, y_train1))\n",
    "print('test score: ', gs_rf2.score(X_test1, y_test1))\n",
    "print('cross-val score: ', gs_rf2.best_score_)\n",
    "\n",
    "pred_rf2 = gs_rf2.predict(X_test1)"
   ]
  },
  {
   "cell_type": "code",
   "execution_count": 55,
   "id": "9e9da84c",
   "metadata": {
    "ExecuteTime": {
     "end_time": "2022-01-20T00:10:08.706038Z",
     "start_time": "2022-01-20T00:10:07.121620Z"
    }
   },
   "outputs": [
    {
     "name": "stdout",
     "output_type": "stream",
     "text": [
      "==============================\n",
      "========\u001b[1m RForest/cvec \u001b[0m========\n",
      "==============================\n",
      "\n",
      "Scores:\n",
      "------------------------------ \n",
      "\n",
      "train score: 0.81\n",
      "test score: 0.78\n",
      "cross-validated score: 0.77\n",
      "\n",
      " Best Parameters:\n",
      "------------------------------ \n",
      "\n",
      "cvec__max_features : 4000\n",
      "rf__criterion : entropy\n",
      "rf__max_depth : 5\n",
      "rf__min_samples_leaf : 2\n",
      "rf__n_estimators : 300\n",
      "\n",
      "\n",
      "***Confusion Matrix***\n",
      "\n"
     ]
    },
    {
     "data": {
      "text/html": [
       "<div>\n",
       "<style scoped>\n",
       "    .dataframe tbody tr th:only-of-type {\n",
       "        vertical-align: middle;\n",
       "    }\n",
       "\n",
       "    .dataframe tbody tr th {\n",
       "        vertical-align: top;\n",
       "    }\n",
       "\n",
       "    .dataframe thead th {\n",
       "        text-align: right;\n",
       "    }\n",
       "</style>\n",
       "<table border=\"1\" class=\"dataframe\">\n",
       "  <thead>\n",
       "    <tr style=\"text-align: right;\">\n",
       "      <th></th>\n",
       "      <th>Predicted Rome</th>\n",
       "      <th>Predicted Greece</th>\n",
       "    </tr>\n",
       "  </thead>\n",
       "  <tbody>\n",
       "    <tr>\n",
       "      <th>Actual Rome</th>\n",
       "      <td>476</td>\n",
       "      <td>225</td>\n",
       "    </tr>\n",
       "    <tr>\n",
       "      <th>Actual Greece</th>\n",
       "      <td>79</td>\n",
       "      <td>605</td>\n",
       "    </tr>\n",
       "  </tbody>\n",
       "</table>\n",
       "</div>"
      ],
      "text/plain": [
       "               Predicted Rome  Predicted Greece\n",
       " Actual Rome              476               225\n",
       "Actual Greece              79               605"
      ]
     },
     "metadata": {},
     "output_type": "display_data"
    },
    {
     "name": "stdout",
     "output_type": "stream",
     "text": [
      "\n",
      "Scores:\n",
      "------------------------------ \n",
      "\n",
      "Rome recall:     0.68\n",
      "Rome precision:   0.86\n",
      "Greece recall:   0.88\n",
      "Greece precision: 0.73\n",
      "\n",
      "\n",
      "\n",
      "\n",
      "==============================\n",
      "===\u001b[1m RForest/tfidf&8+words \u001b[0m====\n",
      "==============================\n",
      "\n",
      "Scores:\n",
      "------------------------------ \n",
      "\n",
      "train score: 0.81\n",
      "test score: 0.76\n",
      "cross-validated score: 0.76\n",
      "\n",
      " Best Parameters:\n",
      "------------------------------ \n",
      "\n",
      "rf__criterion : entropy\n",
      "rf__max_depth : 12\n",
      "rf__min_samples_leaf : 1\n",
      "rf__n_estimators : 300\n",
      "tfidf__max_features : 4000\n",
      "\n",
      "\n",
      "***Confusion Matrix***\n",
      "\n"
     ]
    },
    {
     "data": {
      "text/html": [
       "<div>\n",
       "<style scoped>\n",
       "    .dataframe tbody tr th:only-of-type {\n",
       "        vertical-align: middle;\n",
       "    }\n",
       "\n",
       "    .dataframe tbody tr th {\n",
       "        vertical-align: top;\n",
       "    }\n",
       "\n",
       "    .dataframe thead th {\n",
       "        text-align: right;\n",
       "    }\n",
       "</style>\n",
       "<table border=\"1\" class=\"dataframe\">\n",
       "  <thead>\n",
       "    <tr style=\"text-align: right;\">\n",
       "      <th></th>\n",
       "      <th>Predicted Rome</th>\n",
       "      <th>Predicted Greece</th>\n",
       "    </tr>\n",
       "  </thead>\n",
       "  <tbody>\n",
       "    <tr>\n",
       "      <th>Actual Rome</th>\n",
       "      <td>476</td>\n",
       "      <td>41</td>\n",
       "    </tr>\n",
       "    <tr>\n",
       "      <th>Actual Greece</th>\n",
       "      <td>195</td>\n",
       "      <td>276</td>\n",
       "    </tr>\n",
       "  </tbody>\n",
       "</table>\n",
       "</div>"
      ],
      "text/plain": [
       "               Predicted Rome  Predicted Greece\n",
       " Actual Rome              476                41\n",
       "Actual Greece             195               276"
      ]
     },
     "metadata": {},
     "output_type": "display_data"
    },
    {
     "name": "stdout",
     "output_type": "stream",
     "text": [
      "\n",
      "Scores:\n",
      "------------------------------ \n",
      "\n",
      "Rome recall:     0.92\n",
      "Rome precision:   0.71\n",
      "Greece recall:   0.59\n",
      "Greece precision: 0.87\n"
     ]
    }
   ],
   "source": [
    "display_scores('RForest/cvec',\n",
    "               gs_rf1, X_train, X_test, y_train, y_test)\n",
    "plot_cmatrix(y_test, pred_rf1)\n",
    "print('\\n\\n\\n')\n",
    "display_scores('RForest/tfidf&8+words',\n",
    "               gs_rf2, X_train1, X_test1, y_train1, y_test1)\n",
    "plot_cmatrix(y_test1, pred_rf2)"
   ]
  },
  {
   "cell_type": "markdown",
   "id": "db62f3e4",
   "metadata": {},
   "source": [
    "- very interesting results. while NB results did't have much variety in terms of confusion matrix and recall, Random Forest is all over the place.\n",
    "- with greek-alphabet words kept amongst the features, the first RF model, (3.1) made a bulk of its predictions Greece. Consequently its Greece recall was 20 points higher at 0.88 vs 0.68 for the Rome one. That model also didn't require big depth of tree, which was topping out around 4 to 5.\n",
    "- once the greek words were removed, the second RF model 3.2 (with tfidf) initially showed much worse results than the first one, but after increasing its depth of trees to 12(!) we managed to get its accuracy up to par with the first one. With higer max_depth there would normally be more overfitting, but that was tolerable at only 0.02 bigger difference between train and test than the first RF model\n",
    "- also, once the second model (with greek words still removed) started to guess Rome majority of the time. It went from predicted Rome 40% of the time to predicted Rome a whopping 67% of the time.\n",
    "- we would love to dwell longer on this aspect of the model and why it behaved this way, but we will leave that for later and move on to Support Vector Machines"
   ]
  },
  {
   "cell_type": "markdown",
   "id": "8a8e05ed",
   "metadata": {},
   "source": [
    "### RF word importance"
   ]
  },
  {
   "cell_type": "code",
   "execution_count": 56,
   "id": "2b76e1d0",
   "metadata": {
    "ExecuteTime": {
     "end_time": "2022-01-20T00:10:37.651949Z",
     "start_time": "2022-01-20T00:10:37.596586Z"
    }
   },
   "outputs": [],
   "source": [
    "# random forest calculates its features importances differently than NB, so we will just\n",
    "# get a list of top words for the entire dataset, not split by subreddit\n",
    "\n",
    "# RF has feature_importances_ method that makes it straightforward to use\n",
    "feat_imprf = gs_rf1.best_estimator_['rf'].feature_importances_"
   ]
  },
  {
   "cell_type": "code",
   "execution_count": 57,
   "id": "220efc5b",
   "metadata": {
    "ExecuteTime": {
     "end_time": "2022-01-20T00:10:38.744471Z",
     "start_time": "2022-01-20T00:10:38.717188Z"
    }
   },
   "outputs": [],
   "source": [
    "# get the list of features, aka words\n",
    "feat_namesrf = np.array(gs_rf1.best_estimator_['cvec'].get_feature_names())\n",
    "\n",
    "#put the probabilites and words in a dataframe\n",
    "top_wordsrf = pd.DataFrame({'top_words': feat_namesrf, 'coef': feat_imprf})"
   ]
  },
  {
   "cell_type": "code",
   "execution_count": 58,
   "id": "5977988f",
   "metadata": {
    "ExecuteTime": {
     "end_time": "2022-01-20T00:10:40.179849Z",
     "start_time": "2022-01-20T00:10:40.145110Z"
    }
   },
   "outputs": [
    {
     "data": {
      "text/html": [
       "<div>\n",
       "<style scoped>\n",
       "    .dataframe tbody tr th:only-of-type {\n",
       "        vertical-align: middle;\n",
       "    }\n",
       "\n",
       "    .dataframe tbody tr th {\n",
       "        vertical-align: top;\n",
       "    }\n",
       "\n",
       "    .dataframe thead th {\n",
       "        text-align: right;\n",
       "    }\n",
       "</style>\n",
       "<table border=\"1\" class=\"dataframe\">\n",
       "  <thead>\n",
       "    <tr style=\"text-align: right;\">\n",
       "      <th></th>\n",
       "      <th>top_words</th>\n",
       "      <th>coef</th>\n",
       "    </tr>\n",
       "  </thead>\n",
       "  <tbody>\n",
       "    <tr>\n",
       "      <th>1159</th>\n",
       "      <td>emperor</td>\n",
       "      <td>0.044802</td>\n",
       "    </tr>\n",
       "    <tr>\n",
       "      <th>1174</th>\n",
       "      <td>empire</td>\n",
       "      <td>0.038230</td>\n",
       "    </tr>\n",
       "    <tr>\n",
       "      <th>36</th>\n",
       "      <td>ad</td>\n",
       "      <td>0.031507</td>\n",
       "    </tr>\n",
       "    <tr>\n",
       "      <th>279</th>\n",
       "      <td>athens</td>\n",
       "      <td>0.031410</td>\n",
       "    </tr>\n",
       "    <tr>\n",
       "      <th>543</th>\n",
       "      <td>caesar</td>\n",
       "      <td>0.030727</td>\n",
       "    </tr>\n",
       "    <tr>\n",
       "      <th>304</th>\n",
       "      <td>augustus</td>\n",
       "      <td>0.023066</td>\n",
       "    </tr>\n",
       "    <tr>\n",
       "      <th>748</th>\n",
       "      <td>coin</td>\n",
       "      <td>0.022077</td>\n",
       "    </tr>\n",
       "    <tr>\n",
       "      <th>3358</th>\n",
       "      <td>sparta</td>\n",
       "      <td>0.021058</td>\n",
       "    </tr>\n",
       "    <tr>\n",
       "      <th>3324</th>\n",
       "      <td>socrates</td>\n",
       "      <td>0.019058</td>\n",
       "    </tr>\n",
       "    <tr>\n",
       "      <th>2422</th>\n",
       "      <td>nero</td>\n",
       "      <td>0.018431</td>\n",
       "    </tr>\n",
       "    <tr>\n",
       "      <th>2503</th>\n",
       "      <td>odyssey</td>\n",
       "      <td>0.017677</td>\n",
       "    </tr>\n",
       "    <tr>\n",
       "      <th>86</th>\n",
       "      <td>alexander</td>\n",
       "      <td>0.017142</td>\n",
       "    </tr>\n",
       "    <tr>\n",
       "      <th>2748</th>\n",
       "      <td>pompeii</td>\n",
       "      <td>0.016309</td>\n",
       "    </tr>\n",
       "    <tr>\n",
       "      <th>2374</th>\n",
       "      <td>mythology</td>\n",
       "      <td>0.014923</td>\n",
       "    </tr>\n",
       "    <tr>\n",
       "      <th>611</th>\n",
       "      <td>century ad</td>\n",
       "      <td>0.014039</td>\n",
       "    </tr>\n",
       "    <tr>\n",
       "      <th>1724</th>\n",
       "      <td>imperial</td>\n",
       "      <td>0.013738</td>\n",
       "    </tr>\n",
       "    <tr>\n",
       "      <th>2166</th>\n",
       "      <td>marcus</td>\n",
       "      <td>0.013695</td>\n",
       "    </tr>\n",
       "    <tr>\n",
       "      <th>3640</th>\n",
       "      <td>trajan</td>\n",
       "      <td>0.011516</td>\n",
       "    </tr>\n",
       "    <tr>\n",
       "      <th>3677</th>\n",
       "      <td>trojan</td>\n",
       "      <td>0.011501</td>\n",
       "    </tr>\n",
       "    <tr>\n",
       "      <th>2265</th>\n",
       "      <td>military</td>\n",
       "      <td>0.011434</td>\n",
       "    </tr>\n",
       "    <tr>\n",
       "      <th>1172</th>\n",
       "      <td>emperors</td>\n",
       "      <td>0.011275</td>\n",
       "    </tr>\n",
       "    <tr>\n",
       "      <th>1660</th>\n",
       "      <td>homer</td>\n",
       "      <td>0.011134</td>\n",
       "    </tr>\n",
       "    <tr>\n",
       "      <th>1466</th>\n",
       "      <td>gladiator</td>\n",
       "      <td>0.010482</td>\n",
       "    </tr>\n",
       "    <tr>\n",
       "      <th>273</th>\n",
       "      <td>athenian</td>\n",
       "      <td>0.010433</td>\n",
       "    </tr>\n",
       "    <tr>\n",
       "      <th>1707</th>\n",
       "      <td>iliad</td>\n",
       "      <td>0.010311</td>\n",
       "    </tr>\n",
       "    <tr>\n",
       "      <th>2362</th>\n",
       "      <td>mycenaean</td>\n",
       "      <td>0.009659</td>\n",
       "    </tr>\n",
       "    <tr>\n",
       "      <th>1535</th>\n",
       "      <td>hadrian</td>\n",
       "      <td>0.009432</td>\n",
       "    </tr>\n",
       "    <tr>\n",
       "      <th>975</th>\n",
       "      <td>denarius</td>\n",
       "      <td>0.009416</td>\n",
       "    </tr>\n",
       "    <tr>\n",
       "      <th>1890</th>\n",
       "      <td>julius</td>\n",
       "      <td>0.009235</td>\n",
       "    </tr>\n",
       "  </tbody>\n",
       "</table>\n",
       "</div>"
      ],
      "text/plain": [
       "       top_words      coef\n",
       "1159     emperor  0.044802\n",
       "1174      empire  0.038230\n",
       "36            ad  0.031507\n",
       "279       athens  0.031410\n",
       "543       caesar  0.030727\n",
       "304     augustus  0.023066\n",
       "748         coin  0.022077\n",
       "3358      sparta  0.021058\n",
       "3324    socrates  0.019058\n",
       "2422        nero  0.018431\n",
       "2503     odyssey  0.017677\n",
       "86     alexander  0.017142\n",
       "2748     pompeii  0.016309\n",
       "2374   mythology  0.014923\n",
       "611   century ad  0.014039\n",
       "1724    imperial  0.013738\n",
       "2166      marcus  0.013695\n",
       "3640      trajan  0.011516\n",
       "3677      trojan  0.011501\n",
       "2265    military  0.011434\n",
       "1172    emperors  0.011275\n",
       "1660       homer  0.011134\n",
       "1466   gladiator  0.010482\n",
       "273     athenian  0.010433\n",
       "1707       iliad  0.010311\n",
       "2362   mycenaean  0.009659\n",
       "1535     hadrian  0.009432\n",
       "975     denarius  0.009416\n",
       "1890      julius  0.009235"
      ]
     },
     "execution_count": 58,
     "metadata": {},
     "output_type": "execute_result"
    }
   ],
   "source": [
    "#print top 30 words for rome\n",
    "temp_df = top_wordsrf.sort_values('coef')[-1:-30:-1]\n",
    "temp_df   "
   ]
  },
  {
   "cell_type": "code",
   "execution_count": 59,
   "id": "144f4206",
   "metadata": {
    "ExecuteTime": {
     "end_time": "2022-01-20T00:10:48.759075Z",
     "start_time": "2022-01-20T00:10:48.195007Z"
    }
   },
   "outputs": [
    {
     "data": {
      "image/png": "[encoded data removed]",
      "text/plain": [
       "<Figure size 432x432 with 1 Axes>"
      ]
     },
     "metadata": {
      "needs_background": "light"
     },
     "output_type": "display_data"
    }
   ],
   "source": [
    "# call the function to print the bar chart\n",
    "topwords_bar(temp_df['coef'], temp_df['top_words'],\n",
    "            'Mean impurity decrease', 'RF')"
   ]
  },
  {
   "cell_type": "markdown",
   "id": "35ee9f49",
   "metadata": {},
   "source": [
    "Interpretation of RF word importance\n",
    "\n",
    "- we are happy with the results of the word importance. after clean up the posts, updating stopwords and modifying the model, we have only the relevant, pertinent terms on the list of top 30 most predictive words\n",
    "- there is a nice mix of terms associated with both ancient greece and rome among the top 30\n",
    "- 22/30 are proper nouns"
   ]
  },
  {
   "cell_type": "markdown",
   "id": "8884fdf7",
   "metadata": {
    "ExecuteTime": {
     "end_time": "2022-01-19T02:18:50.221127Z",
     "start_time": "2022-01-19T02:18:50.207303Z"
    }
   },
   "source": [
    "**Final word on word importance across different models**\n",
    "- we will run word importance analysis only on our NB and RF models. SVM model (below) can calculate coefficients (importances) for individual features only with linear kernel, and our kernel will be polynomial. Polynomial kernel transforms data to another dimension, so the inputs are no longer interpretable. \n",
    "- NB gave us a much more informative look at the top words - broken down by the dependent variable category (greece and rome) - due to the way it is calculated. The feature_log_prob attribute in NB gives us the log probability of a word appearing given the fact the output is either rome or greece. Using the probability when the outcome is rome minus when the outcome is greece, singles out only those words that strongly contribute to only 1 category\n",
    "- for that reason we were able to produce two tables/charts, ranking the important words for each subreddit\n",
    "- RF as model is based on reducing impurity, so consequently, the feature_importance attribute ranks features according to how much they contributed to that decrease (of entropy in our case). As such, the feature_importance is not tied to the individual subreddit, so we were able to produce only one list - the list of top 30 most predictive words in our RF model\n",
    "- nevertheless, the most predictive words lists for both RF and NB have a high number of common elements, which is encouraging, especially since the way the word importance is calculated is very different between the models"
   ]
  },
  {
   "cell_type": "markdown",
   "id": "d095b2be",
   "metadata": {
    "ExecuteTime": {
     "end_time": "2022-01-18T12:41:06.877872Z",
     "start_time": "2022-01-18T12:41:06.863626Z"
    }
   },
   "source": [
    "## SVM"
   ]
  },
  {
   "cell_type": "markdown",
   "id": "5be0512d",
   "metadata": {},
   "source": [
    "### SVM w/cvec"
   ]
  },
  {
   "cell_type": "code",
   "execution_count": 60,
   "id": "6f3e7ef2",
   "metadata": {
    "ExecuteTime": {
     "end_time": "2022-01-20T00:11:41.958077Z",
     "start_time": "2022-01-20T00:11:41.948895Z"
    }
   },
   "outputs": [],
   "source": [
    "param_svm1 = {'cvec__max_features': [4500, 7500],\n",
    "#               'cvec__min_df':[2],\n",
    "#               'cvec__ngram_range':[(1,2), (1,3)] # move it inside the vectorizer to save time\n",
    "              'svm__C':np.logspace(-1,2,4, base=3),\n",
    "    #           'svm__kernel':['poly', 'rbf','linear'],\n",
    "#               'svm__gamma':['scale', 'auto'],\n",
    "              'svm__coef0':[2,5]\n",
    "             }"
   ]
  },
  {
   "cell_type": "code",
   "execution_count": 61,
   "id": "ea1eaca9",
   "metadata": {
    "ExecuteTime": {
     "end_time": "2022-01-20T00:12:31.054698Z",
     "start_time": "2022-01-20T00:11:43.225346Z"
    }
   },
   "outputs": [],
   "source": [
    "pipe_svm1 = Pipeline([\n",
    "        ('cvec', CountVectorizer(stop_words=stopwords3_greek, min_df=2, ngram_range=(1,3))),\n",
    "        ('svm', SVC(random_state=42, kernel='poly', degree=2))])\n",
    "\n",
    "gs_svm1 = GridSearchCV(pipe_svm1, param_grid=param_svm1, cv=4, n_jobs=4)\n",
    "gs_svm1.fit(X_train, y_train);"
   ]
  },
  {
   "cell_type": "code",
   "execution_count": 62,
   "id": "5a528f95",
   "metadata": {
    "ExecuteTime": {
     "end_time": "2022-01-20T00:12:35.637599Z",
     "start_time": "2022-01-20T00:12:32.307423Z"
    }
   },
   "outputs": [
    {
     "name": "stdout",
     "output_type": "stream",
     "text": [
      "best params:  {'cvec__max_features': 7500, 'svm__C': 1.0, 'svm__coef0': 2}\n",
      "train score:  0.9436687530091478\n",
      "test score:  0.7971119133574007\n",
      "cross-val score:  0.7811755319050295\n"
     ]
    }
   ],
   "source": [
    "print('best params: ', gs_svm1.best_params_)\n",
    "print('train score: ', gs_svm1.score(X_train, y_train))\n",
    "print('test score: ', gs_svm1.score(X_test, y_test))\n",
    "print('cross-val score: ', gs_svm1.best_score_)\n",
    "\n",
    "pred_svm1 = gs_svm1.predict(X_test)"
   ]
  },
  {
   "cell_type": "markdown",
   "id": "26005412",
   "metadata": {},
   "source": [
    "### SVM w/tfidf & 8+ words"
   ]
  },
  {
   "cell_type": "code",
   "execution_count": 63,
   "id": "fee88bb5",
   "metadata": {
    "ExecuteTime": {
     "end_time": "2022-01-20T00:13:01.238016Z",
     "start_time": "2022-01-20T00:13:01.222414Z"
    }
   },
   "outputs": [],
   "source": [
    "param_svm2 = {'tfidf__max_features': [3000, 5000],\n",
    "#               'tfidf__min_df':[2],\n",
    "#               'tfidf__ngram_range':[(1,2), (1,10)]\n",
    "              'svm__C':np.logspace(-2,0,3, base=2),\n",
    "    #           'svm__kernel':['poly', 'rbf','linear'],\n",
    "#               'svm__gamma':['scale', 'auto'],\n",
    "              'svm__coef0':[ 0.1, 0.5, 0.7]\n",
    "             }"
   ]
  },
  {
   "cell_type": "code",
   "execution_count": 64,
   "id": "583a4edb",
   "metadata": {
    "ExecuteTime": {
     "end_time": "2022-01-20T00:14:12.054244Z",
     "start_time": "2022-01-20T00:13:02.506099Z"
    }
   },
   "outputs": [],
   "source": [
    "pipe_svm2 = Pipeline([\n",
    "        ('tfidf', TfidfVectorizer(stop_words=stopwords3_greek, min_df=2, ngram_range=(1,3))),\n",
    "        ('svm', SVC(random_state=42, kernel='poly', degree=2))])\n",
    "\n",
    "gs_svm2 = GridSearchCV(pipe_svm2, param_grid=param_svm2, cv=5, n_jobs=4)\n",
    "gs_svm2.fit(X_train1, y_train1);"
   ]
  },
  {
   "cell_type": "code",
   "execution_count": 65,
   "id": "f665ac93",
   "metadata": {
    "ExecuteTime": {
     "end_time": "2022-01-20T00:14:16.893351Z",
     "start_time": "2022-01-20T00:14:13.418720Z"
    }
   },
   "outputs": [
    {
     "name": "stdout",
     "output_type": "stream",
     "text": [
      "best params:  {'svm__C': 0.5, 'svm__coef0': 0.5, 'tfidf__max_features': 5000}\n",
      "train score:  0.987846049966239\n",
      "test score:  0.832995951417004\n",
      "cross-val score:  0.803515678410282\n"
     ]
    }
   ],
   "source": [
    "print('best params: ', gs_svm2.best_params_)\n",
    "print('train score: ', gs_svm2.score(X_train1, y_train1))\n",
    "print('test score: ', gs_svm2.score(X_test1, y_test1))\n",
    "print('cross-val score: ', gs_svm2.best_score_)\n",
    "\n",
    "pred_svm2 = gs_svm2.predict(X_test1)"
   ]
  },
  {
   "cell_type": "markdown",
   "id": "f36c6540",
   "metadata": {},
   "source": [
    "- the results on these models are far from perfect, but at this stage, after many attempts, we will cease to tune them. In machine learning, in addition to overfitting the models, there is another trap called hyper-parameter overfitting. Just because our 100th combination of parameters leads to the best results, does not mean anything, except that, out of many combination, one of them will be the best on our particular combination of train and test data\n",
    "- we will accept that there are limitations to these models and that improving accuracy while reducing the overfitting might be a fool's errand in some of these instances.\n",
    "- a few, purpuseful stabs at parameter tuning in order to improve the model and cure a particular ill (such as overfitting by tuning a parameter such as C), are called for, but that should be enough."
   ]
  },
  {
   "cell_type": "code",
   "execution_count": 66,
   "id": "2f382bd2",
   "metadata": {
    "ExecuteTime": {
     "end_time": "2022-01-20T00:14:23.772116Z",
     "start_time": "2022-01-20T00:14:18.263991Z"
    }
   },
   "outputs": [
    {
     "name": "stdout",
     "output_type": "stream",
     "text": [
      "==============================\n",
      "==========\u001b[1m SVM/cvec \u001b[0m==========\n",
      "==============================\n",
      "\n",
      "Scores:\n",
      "------------------------------ \n",
      "\n",
      "train score: 0.94\n",
      "test score: 0.8\n",
      "cross-validated score: 0.78\n",
      "\n",
      " Best Parameters:\n",
      "------------------------------ \n",
      "\n",
      "cvec__max_features : 7500\n",
      "svm__C : 1.0\n",
      "svm__coef0 : 2\n",
      "\n",
      "\n",
      "***Confusion Matrix***\n",
      "\n"
     ]
    },
    {
     "data": {
      "text/html": [
       "<div>\n",
       "<style scoped>\n",
       "    .dataframe tbody tr th:only-of-type {\n",
       "        vertical-align: middle;\n",
       "    }\n",
       "\n",
       "    .dataframe tbody tr th {\n",
       "        vertical-align: top;\n",
       "    }\n",
       "\n",
       "    .dataframe thead th {\n",
       "        text-align: right;\n",
       "    }\n",
       "</style>\n",
       "<table border=\"1\" class=\"dataframe\">\n",
       "  <thead>\n",
       "    <tr style=\"text-align: right;\">\n",
       "      <th></th>\n",
       "      <th>Predicted Rome</th>\n",
       "      <th>Predicted Greece</th>\n",
       "    </tr>\n",
       "  </thead>\n",
       "  <tbody>\n",
       "    <tr>\n",
       "      <th>Actual Rome</th>\n",
       "      <td>506</td>\n",
       "      <td>195</td>\n",
       "    </tr>\n",
       "    <tr>\n",
       "      <th>Actual Greece</th>\n",
       "      <td>86</td>\n",
       "      <td>598</td>\n",
       "    </tr>\n",
       "  </tbody>\n",
       "</table>\n",
       "</div>"
      ],
      "text/plain": [
       "               Predicted Rome  Predicted Greece\n",
       " Actual Rome              506               195\n",
       "Actual Greece              86               598"
      ]
     },
     "metadata": {},
     "output_type": "display_data"
    },
    {
     "name": "stdout",
     "output_type": "stream",
     "text": [
      "\n",
      "Scores:\n",
      "------------------------------ \n",
      "\n",
      "Rome recall:     0.72\n",
      "Rome precision:   0.85\n",
      "Greece recall:   0.87\n",
      "Greece precision: 0.75\n",
      "\n",
      "\n",
      "\n",
      "\n",
      "==============================\n",
      "====\u001b[1m SVM/tfidf & 8+words \u001b[0m=====\n",
      "==============================\n",
      "\n",
      "Scores:\n",
      "------------------------------ \n",
      "\n",
      "train score: 0.99\n",
      "test score: 0.83\n",
      "cross-validated score: 0.8\n",
      "\n",
      " Best Parameters:\n",
      "------------------------------ \n",
      "\n",
      "svm__C : 0.5\n",
      "svm__coef0 : 0.5\n",
      "tfidf__max_features : 5000\n",
      "\n",
      "\n",
      "***Confusion Matrix***\n",
      "\n"
     ]
    },
    {
     "data": {
      "text/html": [
       "<div>\n",
       "<style scoped>\n",
       "    .dataframe tbody tr th:only-of-type {\n",
       "        vertical-align: middle;\n",
       "    }\n",
       "\n",
       "    .dataframe tbody tr th {\n",
       "        vertical-align: top;\n",
       "    }\n",
       "\n",
       "    .dataframe thead th {\n",
       "        text-align: right;\n",
       "    }\n",
       "</style>\n",
       "<table border=\"1\" class=\"dataframe\">\n",
       "  <thead>\n",
       "    <tr style=\"text-align: right;\">\n",
       "      <th></th>\n",
       "      <th>Predicted Rome</th>\n",
       "      <th>Predicted Greece</th>\n",
       "    </tr>\n",
       "  </thead>\n",
       "  <tbody>\n",
       "    <tr>\n",
       "      <th>Actual Rome</th>\n",
       "      <td>424</td>\n",
       "      <td>93</td>\n",
       "    </tr>\n",
       "    <tr>\n",
       "      <th>Actual Greece</th>\n",
       "      <td>72</td>\n",
       "      <td>399</td>\n",
       "    </tr>\n",
       "  </tbody>\n",
       "</table>\n",
       "</div>"
      ],
      "text/plain": [
       "               Predicted Rome  Predicted Greece\n",
       " Actual Rome              424                93\n",
       "Actual Greece              72               399"
      ]
     },
     "metadata": {},
     "output_type": "display_data"
    },
    {
     "name": "stdout",
     "output_type": "stream",
     "text": [
      "\n",
      "Scores:\n",
      "------------------------------ \n",
      "\n",
      "Rome recall:     0.82\n",
      "Rome precision:   0.85\n",
      "Greece recall:   0.85\n",
      "Greece precision: 0.81\n"
     ]
    }
   ],
   "source": [
    "display_scores('SVM/cvec',\n",
    "               gs_svm1, X_train, X_test, y_train, y_test)\n",
    "plot_cmatrix(y_test, pred_svm1)\n",
    "print('\\n\\n\\n')\n",
    "display_scores('SVM/tfidf & 8+words',\n",
    "               gs_svm2, X_train1, X_test1, y_train1, y_test1)\n",
    "plot_cmatrix(y_test1, pred_svm2)"
   ]
  },
  {
   "cell_type": "markdown",
   "id": "daf17666",
   "metadata": {},
   "source": [
    "- the last two models we ran in this project, the two SVMs, have one aspect that stands out ahead of all the others: they overfit a lot\n",
    "- regularization efforts (keeping coefficients like C low) did not pay off, as the only way they succeeded to cure the overfitting  was at the expense of accuracy, which came down to 0.50 - the baseline effort\n",
    "- another interesting aspect of these two models was in their confusion matrix. The cvec model which included greek-alphabet words in its features behaved similar to RF models - it predicted 'Greece' 57%. But unlike the RF models, once those words were removed (added to stopwords), the confusion matrix become normal in the sense that both recall and precision for both Rome and Greece was virtually the same.\n",
    "- in terms of the overall accuracy scores, we like SVM the least as far as this project is concerned. Their test accuracy is at the low end at around 0.80, but the main drawback is extremely high overfitting with train scores as high as 0.99. Unless there were some crushing regularization parameters brought to bear on them (which brought them down to baseline accuracy) the overfitting was persistent and the train scores were in the high .90s\n",
    "- due to that, we wouldn't have confidence in these models to conduct research for the University."
   ]
  },
  {
   "cell_type": "markdown",
   "id": "54dbddfb",
   "metadata": {},
   "source": [
    "## Wrong predictions (ii)"
   ]
  },
  {
   "cell_type": "markdown",
   "id": "1dae45f3",
   "metadata": {},
   "source": [
    "- now that our modeling is done, it is always good to see if there is anything to be learned from wrong prediction. we already have wrong_df from model 1, which contains all the misclassification. (model 1 is not our production model, but it is close enough)\n",
    "- the goal of this section will be to get top10 words by frequency in posts that were classified as rome instead of greece and vice versa"
   ]
  },
  {
   "cell_type": "code",
   "execution_count": 67,
   "id": "3f6be174",
   "metadata": {
    "ExecuteTime": {
     "end_time": "2022-01-20T00:20:19.773935Z",
     "start_time": "2022-01-20T00:20:19.751117Z"
    },
    "scrolled": true
   },
   "outputs": [
    {
     "data": {
      "text/html": [
       "<div>\n",
       "<style scoped>\n",
       "    .dataframe tbody tr th:only-of-type {\n",
       "        vertical-align: middle;\n",
       "    }\n",
       "\n",
       "    .dataframe tbody tr th {\n",
       "        vertical-align: top;\n",
       "    }\n",
       "\n",
       "    .dataframe thead th {\n",
       "        text-align: right;\n",
       "    }\n",
       "</style>\n",
       "<table border=\"1\" class=\"dataframe\">\n",
       "  <thead>\n",
       "    <tr style=\"text-align: right;\">\n",
       "      <th></th>\n",
       "      <th>text</th>\n",
       "      <th>predicted</th>\n",
       "      <th>actual</th>\n",
       "      <th>wordcount</th>\n",
       "    </tr>\n",
       "  </thead>\n",
       "  <tbody>\n",
       "    <tr>\n",
       "      <th>0</th>\n",
       "      <td>byzantines greeks romans or greeks cosplaying a romans so this be a controversial topic especially among roman history enthusiast less among roman history scholar but i want the opinion of some of...</td>\n",
       "      <td>Rome</td>\n",
       "      <td>Greece</td>\n",
       "      <td>374</td>\n",
       "    </tr>\n",
       "    <tr>\n",
       "      <th>1</th>\n",
       "      <td>bettany hughes documentary about the roman god bacchus</td>\n",
       "      <td>Greece</td>\n",
       "      <td>Rome</td>\n",
       "      <td>8</td>\n",
       "    </tr>\n",
       "    <tr>\n",
       "      <th>2</th>\n",
       "      <td>worst omens in ancient history</td>\n",
       "      <td>Rome</td>\n",
       "      <td>Greece</td>\n",
       "      <td>5</td>\n",
       "    </tr>\n",
       "    <tr>\n",
       "      <th>3</th>\n",
       "      <td>saw this today on too good not to post</td>\n",
       "      <td>Greece</td>\n",
       "      <td>Rome</td>\n",
       "      <td>9</td>\n",
       "    </tr>\n",
       "    <tr>\n",
       "      <th>4</th>\n",
       "      <td>hope you recognise a couple of these mince pie design</td>\n",
       "      <td>Rome</td>\n",
       "      <td>Greece</td>\n",
       "      <td>10</td>\n",
       "    </tr>\n",
       "  </tbody>\n",
       "</table>\n",
       "</div>"
      ],
      "text/plain": [
       "                                                                                                                                                                                                      text  \\\n",
       "0  byzantines greeks romans or greeks cosplaying a romans so this be a controversial topic especially among roman history enthusiast less among roman history scholar but i want the opinion of some of...   \n",
       "1                                                                                                                                                   bettany hughes documentary about the roman god bacchus   \n",
       "2                                                                                                                                                                           worst omens in ancient history   \n",
       "3                                                                                                                                                                   saw this today on too good not to post   \n",
       "4                                                                                                                                                    hope you recognise a couple of these mince pie design   \n",
       "\n",
       "  predicted  actual  wordcount  \n",
       "0      Rome  Greece        374  \n",
       "1    Greece    Rome          8  \n",
       "2      Rome  Greece          5  \n",
       "3    Greece    Rome          9  \n",
       "4      Rome  Greece         10  "
      ]
     },
     "execution_count": 67,
     "metadata": {},
     "output_type": "execute_result"
    }
   ],
   "source": [
    "wrong_df.head()"
   ]
  },
  {
   "cell_type": "code",
   "execution_count": 68,
   "id": "e4214083",
   "metadata": {
    "ExecuteTime": {
     "end_time": "2022-01-20T00:20:21.123865Z",
     "start_time": "2022-01-20T00:20:21.112042Z"
    }
   },
   "outputs": [],
   "source": [
    "#vectorize with the most updated stopword list\n",
    "cvec_w = CountVectorizer(stop_words=stopwords3_greek)"
   ]
  },
  {
   "cell_type": "code",
   "execution_count": 69,
   "id": "40b79cf8",
   "metadata": {
    "ExecuteTime": {
     "end_time": "2022-01-20T00:20:22.563075Z",
     "start_time": "2022-01-20T00:20:22.516811Z"
    }
   },
   "outputs": [],
   "source": [
    "# get individual words through vectorization\n",
    "wrong_rome = pd.DataFrame(cvec_w.fit_transform(wrong_df[wrong_df['actual']=='Greece']['text']).todense(),\n",
    "                           columns=cvec_w.get_feature_names())\n",
    "wrong_greece = pd.DataFrame(cvec_w.fit_transform(wrong_df[wrong_df['actual']=='Rome']['text']).todense(),\n",
    "                           columns=cvec_w.get_feature_names())"
   ]
  },
  {
   "cell_type": "code",
   "execution_count": 70,
   "id": "054299d3",
   "metadata": {
    "ExecuteTime": {
     "end_time": "2022-01-20T00:20:25.518928Z",
     "start_time": "2022-01-20T00:20:25.493899Z"
    },
    "scrolled": true
   },
   "outputs": [],
   "source": [
    "# creat two panda series for easy charting\n",
    "wrong_Rome = wrong_rome.sum().sort_values(ascending=False)[0:10]\n",
    "wrong_Greece = wrong_greece.sum().sort_values(ascending=False)[0:10]"
   ]
  },
  {
   "cell_type": "code",
   "execution_count": 71,
   "id": "4dcc0104",
   "metadata": {
    "ExecuteTime": {
     "end_time": "2022-01-20T00:20:27.656779Z",
     "start_time": "2022-01-20T00:20:27.067512Z"
    },
    "scrolled": false
   },
   "outputs": [
    {
     "data": {
      "image/png": "[encoded data removed]",
      "text/plain": [
       "<Figure size 1080x432 with 2 Axes>"
      ]
     },
     "metadata": {
      "needs_background": "light"
     },
     "output_type": "display_data"
    }
   ],
   "source": [
    "#unfortunately we can't use our topwords_bar function since it caters to different sorts of data\n",
    "fig, ax = plt.subplots(1,2, figsize=(15,6))\n",
    "\n",
    "pair = ['Rome', 'Greece']\n",
    "\n",
    "for i in [(0, wrong_Rome), (1, wrong_Greece)]:\n",
    "    sns.barplot(x = i[1], y=i[1].index, ax=ax[i[0]])\n",
    "    ax[i[0]].set_title(f'Top 10 words -> {pair[1-i[0]]} predicted as {pair[i[0]]}', fontsize=14, \n",
    "                 color='Darkorchid') # a bit convoluted, but it saves us doing it twice\n",
    "    \n",
    "    ax[i[0]].set_xlabel('Count', fontsize=12, color='darkgoldenrod')\n",
    "\n",
    "plt.show()"
   ]
  },
  {
   "cell_type": "markdown",
   "id": "fd64dad4",
   "metadata": {},
   "source": [
    "- no major revelation here except that the word 'empire',  which was listed as the number one most predictive word for Rome, also found its way as a word that causes Greek posts to be mistaken for roman, which makes it a bit of a double-edged sword\n",
    "- while these two lists will not currently cause us to adjust our model/stopwords, it is useful to check them periodically to see if any new words are creeping in that cause our model's performance to sour.\n",
    "- in the future, try to automate a process whereby these most common words from 'wrong_df' get added to the stopwords list. words like empire are on both 'most wrong' and 'most predictive' lists, we would have to check both lists to see if the word gets added."
   ]
  },
  {
   "cell_type": "markdown",
   "id": "b56e6de6",
   "metadata": {},
   "source": [
    "## Final model visualizations"
   ]
  },
  {
   "cell_type": "markdown",
   "id": "c9e205c2",
   "metadata": {},
   "source": [
    "| No |          MODEL (vector)         | train<br>accuracy | test<br>accuracy |                                                                         parameters |                                     other features |                                                                                                  comments                                                                                                  |\n",
    "|----|:-------------------------------:|------------------:|------------------|-----------------------------------------------------------------------------------:|---------------------------------------------------:|:----------------------------------------------------------------------------------------------------------------------------------------------------------------------------------------------------------:|\n",
    "| 1  |    Naive Bayes<br>(countvec)    |              0.88 | 0.81             |                                             max_feat:4000<br>min_df:3<br>alpha:0.5 |                    nothing extra<br>- simple model |                                                                        first model after baseline, already<br>shown good improvement                                                                       |\n",
    "| 2  |    Naive Bayes<br>(countvec)    |              0.90 | 0.84             |                                             max_feat:2500<br>min_df:4<br>alpha:0.1 |                       only posts <br>with 8+ words |                                                after testing the wrong predictions<br>from model 1, only longer posts were<br>taken. immediate improvement.                                                |\n",
    "| 3  |      Naive Bayes<br>(tfidf)     |              0.91 | 0.81             |                                             max_feat:4000<br>min_df:3<br>alpha:0.5 |                                               none |                                                                         tfidf vectorization didn't bring<br>about much improvement                                                                         |\n",
    "| 4  |      Naive Bayes<br>(tfidf)     |              0.93 | 0.85             |                                             max_feat:4000<br>min_df:3<br>alpha:0.5 |                       only posts <br>with 8+ words |                                                             - best score so far<br>- minimal tuning required, so very<br>easy and quick to run                                                             |\n",
    "| 5  |    Naive Bayes<br>(countvec)    |              0.87 | 0.80             |                                             max_feat:4000<br>min_df:3<br>alpha:0.5 |                                    extra stopwords |                                                          - similar results to model 1 but with<br>more stopwords, therefore considered<br>a succes                                                         |\n",
    "| <span style=\"color:red\">6</span> |  <span style=\"color:red\">    Naive Bayes<br>(tfidf)   </span>  |    <span style=\"color:red\">          0.93</span> | <span style=\"color:red\">0.84</span>             |                                             <span style=\"color:red\">max_feat:4000<br>min_df:3<br>alpha:0.5 |<span style=\"color:red\"> only post with<br>8+ words, and<br>extra stopwords</span> |        <span style=\"color:red\">                                                       - simple model with best scores<br>- production model<br>- simple to tune</span>                                                              |\n",
    "| 7  |   Random Forest<br>(countvec)   |              0.81 | 0.78             |  max_feat:4000<br>criterion:entropy<br>max_depth:5<br>min_leaf:2<br>estimators:300 |                                    extra stopwords |                                                         -random forest did not show as high<br>accuracy as NB<br>- predicted Greece 60% of the time                                                        |\n",
    "| 8  |     Random Forest<br>(tfidf)    |              0.81 | 0.76             | max_feat:4000<br>criterion:entropy<br>max_depth:12<br>min_leaf:1<br>estimators:300 | only post with<br>8+ words, and<br>extra stopwords | -hard to tune. started with params for<br>model 7, but it wasn't even close<br>- accuracy was initially awful, but <br>with very high max_depth got close to<br>model 7<br>-predicted Rome 67% of the time |\n",
    "| 9  | 2nd deg Poly SVM,<br>(countvec) |              0.94 | 0.80             |                                                    max_feat:7500<br>C:1<br>coef0:2 |                                    extra stopwords |                   -big difference between train and test<br>- indicative of overfitting<br>- no amount of parameter tuning could <br>reduce overfitting<br>-predicted greece 57% outcomes                  |\n",
    "| 10 |   2nd deg Poly SVM,<br>(tfidf)  |              0.99 | 0.83             |                                                                              0.901 | only post with<br>8+ words, and<br>extra stopwords |                                            -even worse overfitting than model 9<br>- adding greek stopwords made the model<br>balanced in its prediction (50:50)                                           |"
   ]
  },
  {
   "cell_type": "markdown",
   "id": "f7da4f57",
   "metadata": {},
   "source": [
    "*production model in red"
   ]
  },
  {
   "cell_type": "code",
   "execution_count": 86,
   "id": "633a9e95",
   "metadata": {
    "ExecuteTime": {
     "end_time": "2022-01-20T02:15:36.881142Z",
     "start_time": "2022-01-20T02:15:35.958299Z"
    },
    "scrolled": false
   },
   "outputs": [
    {
     "data": {
      "image/png": "[encoded data removed]",
      "text/plain": [
       "<Figure size 504x432 with 1 Axes>"
      ]
     },
     "metadata": {
      "needs_background": "light"
     },
     "output_type": "display_data"
    }
   ],
   "source": [
    "fig, ax = plt.subplots(figsize=(7,6))\n",
    "plot_roc_curve(gs_rf1, X_test, y_test, name='RF w/cvec', ax=ax)\n",
    "plot_roc_curve(gs5, X_test, y_test, name='NB w/tfidf& 8+words', ax=ax)\n",
    "plot_roc_curve(gs_svm1, X_test, y_test, name='SVM w/cvec', ax=ax)\n",
    "plt.plot([0,1], [0,1], linestyle='-.')\n",
    "plt.title('AUC - ROC Curve')\n",
    "plt.show()"
   ]
  },
  {
   "cell_type": "markdown",
   "id": "12dd48c0",
   "metadata": {},
   "source": [
    " - our NB model (yellow) clearly outperforms the best RF and SVM models, as it is closest to the top left corner of the chart\n",
    " - other NB models (not shown for clarity) actually have pretty similar plots to the yellow line here, but our was chosen due to other advantages such as overcoming more stopwords and discounting spam"
   ]
  },
  {
   "cell_type": "markdown",
   "id": "1dfd826b",
   "metadata": {},
   "source": [
    "## Conclusions\n",
    "\n",
    "- our production model, among others, proves that distinguishing among historical topics is possible for a machine, and that reddit can be harnessed for that purpose. we got high accuracy scores despite the fact that, as described in the beginning of the project, around 60% of top words in both subreddits are the same\n",
    "- rather than using reddit, it might be possible to train the model on proper nouns only (countries, kings, named war) from the relevant historical period. we noticed that some 75% of the top 30 predictors are proper nouns\n",
    "- while the topics were simililar, we were lucky that the political orientation of ancient rome and greece was different - one was an empire and the other was not. words 'empire' and 'emperor' score very high on our predictor strenght lists. in the future, when comparing two empires (or two kindomns), the model might face a more uphill battle\n",
    "- just because a word is a strong predictor, does not mean that we should not be careful in how we treat it. We saw the word 'emperor', the most important word for predicting the roman subreddit, was also one of the top words among misclassified posts. every time that word ended up in a greek reddit, the post automatically got wrongly classified as roman\n",
    "- choice of models and stopwords is the key to success. models can be left to data scientists, but the choice of stopwords can be tricky and we should seek input from the experts in the academic field\n",
    "- in a long run, having a model that is simple, reliable, interpretable and low-maintenance is paramount to ensure University's commitment to the project. That is why we chose NB model from section 2.7. It required very little paramenter tuning (changing the parameters didn't affect the scores much), it excluded many posts and words making it less susceptible to spam, it had great accuracy scores and it wasn't biased towards choosing either subreddit.\n",
    "- with more resources, building a language library would provide most benefits when it comes to international history. Basing decision on foreign alpahbets rather than excluding them through stopwords would definitely benefit the scores\n",
    "- as University's goal is not to make money, but rather, to promote academic research, our projects wasn't as focused on uncovering the inclinations and propensities of the people who write the posts in order to target them with adds. Still, while we don't have to worry about who writes the posts that our model reads, we do have to worry about academics who will use our model to get their weekly or monthly rundown of what was published in their field. Testing the wrong predictions and lists of important words regularly can therefore serve as an early warning system of intrusion of spam into our dataset, and thus ensure quality product for professors, researches and students for years to come"
   ]
  },
  {
   "cell_type": "markdown",
   "id": "7887f0c8",
   "metadata": {},
   "source": [
    "## Issues with our model\n",
    "- ancient rome/greece is the first model developed as part of our effort to develop a machine-learning product that can search the internet for content from various academic disciplines. future models to distinguish different pairs of topics will be much faster and easier to implement\n",
    "- there will however be some stumbling blocks. one that sticks out in particular is the issue of stopwords. we relied a lot on them to train the model properly and it took us a few iterations until we settled on the set of stopwords that works well. Each new topic would require a completely new set of stopwords added to the default ones.\n",
    "- as individual models are concerned, we chose a particular Naive Bayes one for its simplicity, accuracy and interpretability. SVM shows a lot of promise by being able to predict training data with almost 100% accuracy. if we can invest more time and training into it, maybe it could increase its test scores as well, and become our go-to model \n",
    "- another advantage of our chosen model is that it didn't use any greek words to aid it in prediction. however, if more foreign alphabets get scraped into our future data (chinese, arabic), removing them might not be the proper course of action. Using only latin letters will prove to be a huge drawback, especially in the history deparment that deals in many different cultures, letters and languages, some of them extinct\n",
    "- one of the unusual aspects of our model is how random forest and SVM vacillated between overpredicting greece to overpredicting rome based upon the stopwords given,  while Naive Bayes did not. We would love to subject this oddity to greater scrutiny when time allows.\n",
    "- we did a study of the most common words found in wrongly classified posts. later on, we should follow up on it, and add some of those words to the list of stopwords to see if there's an improvement in performance. if yes, automate the procedure."
   ]
  },
  {
   "cell_type": "markdown",
   "id": "76a354d1",
   "metadata": {},
   "source": [
    "## Next steps\n",
    "\n",
    "As stated in the background section of this project, we envision this entire project to be just the first step in unfettered internet search for any material that relates to any of the University's academic departments. No person can keep up with the amount of materials that get published daily, and intelligent machines doing the search work for us is the only way to go. The next steps will be, in order:\n",
    "- get feedback from the University on the current model, make improvements based on it.\n",
    "- expand the model to be able to recognize more historical topics, and not just two, but 3, 4,...n at a time\n",
    "- configure the model to be able to categorize text as 'other' when it does not meet the threshold required to be put in any of the proposed categories\n",
    "- once historical topics are exhausted, repeat the process in other academic fields"
   ]
  }
 ],
 "metadata": {
  "kernelspec": {
   "display_name": "Python 3",
   "language": "python",
   "name": "python3"
  },
  "language_info": {
   "codemirror_mode": {
    "name": "ipython",
    "version": 3
   },
   "file_extension": ".py",
   "mimetype": "text/x-python",
   "name": "python",
   "nbconvert_exporter": "python",
   "pygments_lexer": "ipython3",
   "version": "3.8.8"
  },
  "toc": {
   "base_numbering": "1",
   "nav_menu": {},
   "number_sections": true,
   "sideBar": true,
   "skip_h1_title": true,
   "title_cell": "Table of Contents",
   "title_sidebar": "Contents",
   "toc_cell": false,
   "toc_position": {
    "height": "calc(100% - 180px)",
    "left": "10px",
    "top": "150px",
    "width": "247.471px"
   },
   "toc_section_display": true,
   "toc_window_display": true
  },
  "varInspector": {
   "cols": {
    "lenName": 16,
    "lenType": 16,
    "lenVar": 40
   },
   "kernels_config": {
    "python": {
     "delete_cmd_postfix": "",
     "delete_cmd_prefix": "del ",
     "library": "var_list.py",
     "varRefreshCmd": "print(var_dic_list())"
    },
    "r": {
     "delete_cmd_postfix": ") ",
     "delete_cmd_prefix": "rm(",
     "library": "var_list.r",
     "varRefreshCmd": "cat(var_dic_list()) "
    }
   },
   "types_to_exclude": [
    "module",
    "function",
    "builtin_function_or_method",
    "instance",
    "_Feature"
   ],
   "window_display": false
  }
 },
 "nbformat": 4,
 "nbformat_minor": 5
}
