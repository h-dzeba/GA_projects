{
 "cells": [
  {
   "cell_type": "markdown",
   "id": "4c58b1d8",
   "metadata": {},
   "source": [
    "# Part two: LGBM, Random Forest and Neural Network - after dummy and hash-encoding\n"
   ]
  },
  {
   "cell_type": "markdown",
   "id": "4b1a2d74",
   "metadata": {},
   "source": [
    "- after LGBM from the previous notebook, the new models will require us to get rid of the null values and to encode all the categorical features\n",
    "- in this notebook we will do that, re-run the LGBM to see if encoding changes results, and then we will proceed to run Random Forest and deep learning models"
   ]
  },
  {
   "cell_type": "markdown",
   "id": "69a73f4a",
   "metadata": {},
   "source": [
    "<a id = 'Content'><a/>\n",
    "### Contents:\n",
    "- [1.0 Functions](#1.0)\n",
    "- [2.0 Null values](#2.0)\n",
    "- [3.0 Encoding](#3.0)   \n",
    "- [4.0 Light GBM with dummy- and hash-encoding](#4.0)\n",
    "    - [4.1 light gbm 2 (encoded version)](#4.1)\n",
    "    - [4.2 light gbm w pos weights (encoded version)](#4.2)\n",
    "    - [4.3 same as 4.1 with pos weights](#4.3)\n",
    "- [5.0 Random Forest](#5.0)\n",
    "- [6.0 Neural network](#6.0)\n",
    "    - [6.1 preprocessing](#6.1)\n",
    "    - [6.2 neural network model 1](#6.2)\n",
    "    - [6.3 neural network model 2](#6.3)    \n",
    "- [7.0 Conclusions](#7.0)"
   ]
  },
  {
   "cell_type": "code",
   "execution_count": 1,
   "id": "ec7eda53",
   "metadata": {
    "ExecuteTime": {
     "end_time": "2022-02-24T05:10:39.975014Z",
     "start_time": "2022-02-24T05:10:39.965900Z"
    }
   },
   "outputs": [],
   "source": [
    "# !pip install category_encoders"
   ]
  },
  {
   "cell_type": "code",
   "execution_count": 281,
   "id": "90e031fd",
   "metadata": {
    "ExecuteTime": {
     "end_time": "2022-02-27T10:42:29.998748Z",
     "start_time": "2022-02-27T10:42:29.981218Z"
    }
   },
   "outputs": [],
   "source": [
    "import warnings\n",
    "warnings.filterwarnings(\"ignore\")\n",
    "\n",
    "\n",
    "import numpy as np \n",
    "import pandas as pd \n",
    "\n",
    "import matplotlib.pyplot as plt\n",
    "import seaborn as sns\n",
    "import datetime\n",
    "\n",
    "import re\n",
    "\n",
    "\n",
    "import gc\n",
    "import random\n",
    "import datetime\n",
    "import decimal\n",
    "import time\n",
    "import joblib as jb\n",
    "\n",
    "import lightgbm as lgb\n",
    "from category_encoders import HashingEncoder\n",
    "from sklearn.preprocessing import MinMaxScaler, LabelEncoder\n",
    "from sklearn.decomposition import PCA\n",
    "from sklearn.metrics import roc_auc_score, confusion_matrix, classification_report, precision_recall_curve\n",
    "from sklearn.metrics import  plot_confusion_matrix, precision_score, PrecisionRecallDisplay, recall_score\n",
    "from sklearn.ensemble import RandomForestClassifier\n",
    "from sklearn.ensemble import RandomForestClassifier\n",
    "from sklearn.model_selection import KFold, train_test_split, cross_val_score, GridSearchCV\n",
    "\n",
    "import tensorflow as tf\n",
    "from tensorflow import keras\n",
    "from keras import Sequential\n",
    "from keras.layers import Dense\n",
    "from tensorflow.keras.callbacks import EarlyStopping, ReduceLROnPlateau\n",
    "from tensorflow.keras.optimizers import Adam\n",
    "from tensorflow.keras.initializers import Constant\n",
    "from tensorflow.keras.metrics import Precision, Recall, AUC\n",
    "\n",
    "%matplotlib inline\n",
    "\n",
    "pd.options.display.max_rows = 10000\n",
    "pd.options.display.max_columns = 10000\n",
    "pd.options.display.max_colwidth = 1000\n",
    "\n",
    "plt.style.use('fivethirtyeight')"
   ]
  },
  {
   "cell_type": "markdown",
   "id": "174115fd",
   "metadata": {
    "ExecuteTime": {
     "end_time": "2022-02-22T06:58:44.415845Z",
     "start_time": "2022-02-22T06:58:44.396421Z"
    }
   },
   "source": [
    "<a id = '1.0'><a/>\n",
    "### 1.0 Functions\n",
    "* [Back To Top](#Content)"
   ]
  },
  {
   "cell_type": "code",
   "execution_count": 3,
   "id": "49f2945c",
   "metadata": {
    "ExecuteTime": {
     "end_time": "2022-02-24T05:10:43.239512Z",
     "start_time": "2022-02-24T05:10:43.223798Z"
    }
   },
   "outputs": [],
   "source": [
    "def display_scores(name, gsearch, xtrain, xtest, ytrain, ytest):\n",
    "    \"\"\" the function takes a fitted gridsearchcv as the arguement and\n",
    "    displays scores\n",
    "    \"\"\"\n",
    "    print('='*30)\n",
    "    print(f\"\\033[1m {name} \\033[0m\".center(38, \"=\"))\n",
    "    print('='*30)\n",
    "    print('\\nScores:')\n",
    "    print('-'*30, '\\n')\n",
    "    print('train score:', round(gsearch.score(xtrain, ytrain),2))\n",
    "    print('test score:', round(gsearch.score(xtest, ytest),2))\n",
    "    print('cross-validated score:', round(gsearch.best_score_,2))\n",
    "    print('')\n",
    "    print(\" Best Parameters:\")\n",
    "    print('-'*30, '\\n')\n",
    "    for key, value in gsearch.best_params_.items():\n",
    "        print(key,':', value)"
   ]
  },
  {
   "cell_type": "code",
   "execution_count": 4,
   "id": "88961dea",
   "metadata": {
    "ExecuteTime": {
     "end_time": "2022-02-24T05:10:43.255601Z",
     "start_time": "2022-02-24T05:10:43.241584Z"
    }
   },
   "outputs": [],
   "source": [
    "def plot_cmatrix(ytest, predict):\n",
    "    \"\"\" plot notFraud/isFraud confusion matrix and recall/accuracy stats,\n",
    "    renamed, as there are no real 'positive' or 'negative' outcome\n",
    "    \"\"\"\n",
    "    cm = pd.DataFrame(confusion_matrix(ytest, predict),\n",
    "                 index=['notFraud', 'isFraud'],\n",
    "                 columns=['Predicted notFraud', 'Predicted isFraud'])\n",
    "    tn, fp, fn, tp = confusion_matrix(ytest, predict).ravel()\n",
    "    \n",
    "    print('\\n\\n***Confusion Matrix***\\n')\n",
    "    display(cm)\n",
    "    print('\\nScores:')\n",
    "    print('-'*30, '\\n')\n",
    "    print('Fraud recall:  ', round(tp/(tp+fn),2))\n",
    "    print('Fraud precision:', round(tp/(tp+fp),2))"
   ]
  },
  {
   "cell_type": "code",
   "execution_count": 5,
   "id": "6c54330f",
   "metadata": {
    "ExecuteTime": {
     "end_time": "2022-02-24T05:10:43.271479Z",
     "start_time": "2022-02-24T05:10:43.257417Z"
    }
   },
   "outputs": [],
   "source": [
    "def reduce_mem_usage(df):\n",
    "    \"\"\" downcast column data types to reduce memory usage      \n",
    "    \"\"\"\n",
    "    start_mem = df.memory_usage().sum() / 1024**2\n",
    "    print('Memory usage of dataframe is {:.2f} MB'.format(start_mem))\n",
    "    \n",
    "    temp = df.columns.to_list()\n",
    "    temp.remove('TransactionAmt')\n",
    "    for col in temp:\n",
    "        col_type = df[col].dtype\n",
    "#         if col = ''\n",
    "        if col_type != object:\n",
    "            c_min = df[col].min()\n",
    "            c_max = df[col].max()\n",
    "            if str(col_type)[:3] == 'int':\n",
    "                if c_min > np.iinfo(np.int8).min and c_max < np.iinfo(np.int8).max:\n",
    "                    df[col] = df[col].astype(np.int8)\n",
    "                elif c_min > np.iinfo(np.int16).min and c_max < np.iinfo(np.int16).max:\n",
    "                    df[col] = df[col].astype(np.int16)\n",
    "                elif c_min > np.iinfo(np.int32).min and c_max < np.iinfo(np.int32).max:\n",
    "                    df[col] = df[col].astype(np.int32)\n",
    "                elif c_min > np.iinfo(np.int64).min and c_max < np.iinfo(np.int64).max:\n",
    "                    df[col] = df[col].astype(np.int64)  \n",
    "            else:\n",
    "                if c_min > np.finfo(np.float16).min and c_max < np.finfo(np.float16).max:\n",
    "                    df[col] = df[col].astype(np.float16)\n",
    "                elif c_min > np.finfo(np.float32).min and c_max < np.finfo(np.float32).max:\n",
    "                    df[col] = df[col].astype(np.float32)\n",
    "                else:\n",
    "                    df[col] = df[col].astype(np.float64)\n",
    "        else:\n",
    "            df[col] = df[col].astype('category')\n",
    "        \n",
    "\n",
    "    end_mem = df.memory_usage().sum() / 1024**2\n",
    "#     print('Memory usage after optimization is: {:.2f} MB'.format(end_mem))\n",
    "#     print('Decreased by {:.1f}%'.format(100 * (start_mem - end_mem) / start_mem))\n",
    "    \n",
    "    print(f'Memory usage of dataframe is {start_mem:.2f} MB --> {end_mem:.2f} MB (Decreased by {100*(start_mem-end_mem)/start_mem:.1f}%)')\n",
    "    \n",
    "    del temp\n",
    "    gc.collect()\n",
    "    return df"
   ]
  },
  {
   "cell_type": "code",
   "execution_count": 6,
   "id": "3b14efab",
   "metadata": {
    "ExecuteTime": {
     "end_time": "2022-02-24T05:10:43.286882Z",
     "start_time": "2022-02-24T05:10:43.272920Z"
    }
   },
   "outputs": [],
   "source": [
    "def fast_auc(y_true, y_prob):\n",
    "    \"\"\"\n",
    "    fast roc_auc computation: https://www.kaggle.com/c/microsoft-malware-prediction/discussion/76013\n",
    "    \"\"\"\n",
    "    y_true = np.asarray(y_true)\n",
    "    y_true = y_true[np.argsort(y_prob)]\n",
    "    nfalse = 0\n",
    "    auc = 0\n",
    "    n = len(y_true)\n",
    "    for i in range(n):\n",
    "        y_i = y_true[i]\n",
    "        nfalse += (1 - y_i)\n",
    "        auc += y_i * nfalse\n",
    "    auc /= (nfalse * (n - nfalse))\n",
    "    return auc\n",
    "\n",
    "\n",
    "def eval_auc(y_true, y_pred):\n",
    "    \"\"\"\n",
    "    Fast auc eval function for lgb.\n",
    "    \"\"\"\n",
    "    return 'auc', fast_auc(y_true, y_pred), True"
   ]
  },
  {
   "cell_type": "code",
   "execution_count": 7,
   "id": "0a204d70",
   "metadata": {
    "ExecuteTime": {
     "end_time": "2022-02-24T05:10:49.349512Z",
     "start_time": "2022-02-24T05:10:43.287870Z"
    }
   },
   "outputs": [],
   "source": [
    "train = pd.read_csv('../datasets/train_4lgb_cdr.csv', parse_dates=['DT'])\n",
    "test = pd.read_csv('../datasets/test_4lgb_cdr.csv', parse_dates=['DT'])"
   ]
  },
  {
   "cell_type": "code",
   "execution_count": 11,
   "id": "749918df",
   "metadata": {
    "ExecuteTime": {
     "end_time": "2022-02-24T05:10:49.411103Z",
     "start_time": "2022-02-24T05:10:49.397069Z"
    }
   },
   "outputs": [],
   "source": [
    "# copy and past from notebook1 output cell\n",
    "cat_col = ['ProductCD','card1','card2','card3','card4','card5','card6','addr1','addr2','P_emaildomain',\n",
    " 'R_emaildomain','M4','id_13','id_14','id_15','id_16','id_17','id_19','id_20','id_28','id_29','id_30','id_31','id_32',\n",
    " 'id_33','id_34','id_35','id_37','id_38','DeviceType','DeviceInfo','DT_M','DT_W','hour','dow',\n",
    " 'day','addr1_card1','weekday_hour','id_12','M2','M3','M5','M6','M7','M8','M9']"
   ]
  },
  {
   "cell_type": "code",
   "execution_count": 12,
   "id": "31c1344a",
   "metadata": {
    "ExecuteTime": {
     "end_time": "2022-02-24T05:10:49.781801Z",
     "start_time": "2022-02-24T05:10:49.412276Z"
    }
   },
   "outputs": [],
   "source": [
    "train.drop('DT', axis=1, inplace=True)\n",
    "test.drop('DT', axis=1, inplace=True)"
   ]
  },
  {
   "cell_type": "code",
   "execution_count": 13,
   "id": "e0a6de8a",
   "metadata": {
    "ExecuteTime": {
     "end_time": "2022-02-24T05:10:54.095298Z",
     "start_time": "2022-02-24T05:10:49.782371Z"
    }
   },
   "outputs": [],
   "source": [
    "for col in train.columns:\n",
    "    if col in cat_col:\n",
    "        train[col] = train[col].fillna('unknown')\n",
    "        test[col] = test[col].fillna('unknown')"
   ]
  },
  {
   "cell_type": "code",
   "execution_count": 14,
   "id": "4a15caeb",
   "metadata": {
    "ExecuteTime": {
     "end_time": "2022-02-24T05:10:59.597731Z",
     "start_time": "2022-02-24T05:10:54.095298Z"
    }
   },
   "outputs": [
    {
     "name": "stdout",
     "output_type": "stream",
     "text": [
      "Memory usage of dataframe is 419.01 MB\n",
      "Memory usage of dataframe is 419.01 MB --> 94.44 MB (Decreased by 77.5%)\n",
      "Memory usage of dataframe is 355.65 MB\n",
      "Memory usage of dataframe is 355.65 MB --> 81.71 MB (Decreased by 77.0%)\n"
     ]
    }
   ],
   "source": [
    "train = reduce_mem_usage(train)\n",
    "test = reduce_mem_usage(test)"
   ]
  },
  {
   "cell_type": "markdown",
   "id": "44b08635",
   "metadata": {},
   "source": [
    "<a id = '2.0'><a/>\n",
    "### 2.0 Null values\n",
    "* [Back To Top](#Content)"
   ]
  },
  {
   "cell_type": "code",
   "execution_count": null,
   "id": "48616193",
   "metadata": {
    "ExecuteTime": {
     "end_time": "2022-02-24T05:10:59.721568Z",
     "start_time": "2022-02-24T05:10:59.598904Z"
    },
    "scrolled": false
   },
   "outputs": [],
   "source": [
    "train.isnull().sum()"
   ]
  },
  {
   "cell_type": "code",
   "execution_count": 16,
   "id": "a2ab2e47",
   "metadata": {
    "ExecuteTime": {
     "end_time": "2022-02-24T05:10:59.925433Z",
     "start_time": "2022-02-24T05:10:59.722683Z"
    }
   },
   "outputs": [],
   "source": [
    "# impute D columns (not DT or Device) with their mean\n",
    "for col in train.columns:\n",
    "    if col[0]=='D' and col[1] not in['T', 'e']:\n",
    "        train[col].fillna(train[col].astype(np.float32).mean(), inplace=True)\n",
    "        test[col].fillna(test[col].astype(np.float32).mean(), inplace=True)\n"
   ]
  },
  {
   "cell_type": "code",
   "execution_count": 18,
   "id": "546525c8",
   "metadata": {
    "ExecuteTime": {
     "end_time": "2022-02-24T05:10:59.957307Z",
     "start_time": "2022-02-24T05:10:59.940996Z"
    }
   },
   "outputs": [
    {
     "data": {
      "text/plain": [
       "dtype('float16')"
      ]
     },
     "execution_count": 18,
     "metadata": {},
     "output_type": "execute_result"
    }
   ],
   "source": [
    "train['dist1'].dtype"
   ]
  },
  {
   "cell_type": "code",
   "execution_count": 19,
   "id": "f348526a",
   "metadata": {
    "ExecuteTime": {
     "end_time": "2022-02-24T05:10:59.987399Z",
     "start_time": "2022-02-24T05:10:59.959049Z"
    }
   },
   "outputs": [],
   "source": [
    "# impute numberical dist1 column with its mean\n",
    "train['dist1'].fillna(train['dist1'].astype(np.float32).mean(), inplace=True)\n",
    "test['dist1'].fillna(test['dist1'].astype(np.float32).mean(), inplace=True)"
   ]
  },
  {
   "cell_type": "code",
   "execution_count": 20,
   "id": "ffacd288",
   "metadata": {
    "ExecuteTime": {
     "end_time": "2022-02-24T05:11:00.142503Z",
     "start_time": "2022-02-24T05:10:59.988896Z"
    }
   },
   "outputs": [],
   "source": [
    "# columns id1,2,5 and 6 have many nulls. drop them.\n",
    "train.drop(columns=['id_01', 'id_02', 'id_05', 'id_06'], inplace=True)\n",
    "test.drop(columns=['id_01', 'id_02', 'id_05', 'id_06'], inplace=True)"
   ]
  },
  {
   "cell_type": "code",
   "execution_count": 21,
   "id": "b6e11473",
   "metadata": {
    "ExecuteTime": {
     "end_time": "2022-02-24T05:11:00.249174Z",
     "start_time": "2022-02-24T05:11:00.143658Z"
    }
   },
   "outputs": [
    {
     "data": {
      "text/plain": [
       "0"
      ]
     },
     "execution_count": 21,
     "metadata": {},
     "output_type": "execute_result"
    }
   ],
   "source": [
    "train.isnull().sum().sum()"
   ]
  },
  {
   "cell_type": "code",
   "execution_count": 28,
   "id": "cc37e01e",
   "metadata": {
    "ExecuteTime": {
     "end_time": "2022-02-24T05:12:10.085454Z",
     "start_time": "2022-02-24T05:12:10.002958Z"
    }
   },
   "outputs": [
    {
     "data": {
      "text/plain": [
       "0"
      ]
     },
     "execution_count": 28,
     "metadata": {},
     "output_type": "execute_result"
    }
   ],
   "source": [
    "test.isnull().sum().sum()"
   ]
  },
  {
   "cell_type": "code",
   "execution_count": 24,
   "id": "eed6c091",
   "metadata": {
    "ExecuteTime": {
     "end_time": "2022-02-24T05:11:00.482616Z",
     "start_time": "2022-02-24T05:11:00.407610Z"
    }
   },
   "outputs": [],
   "source": [
    "lst = [f'C{i}' for i in range(1,15)]\n",
    "lst.remove('C3')\n",
    "for col in lst:\n",
    "    test[col].fillna(test[col].astype(np.float32).mean(), inplace=True)    "
   ]
  },
  {
   "cell_type": "code",
   "execution_count": 33,
   "id": "0c059246",
   "metadata": {
    "ExecuteTime": {
     "end_time": "2022-02-24T05:14:48.461972Z",
     "start_time": "2022-02-24T05:14:48.379584Z"
    }
   },
   "outputs": [],
   "source": [
    "test.drop(['DT_M'], axis=1, inplace=True)\n",
    "train.drop(['DT_M'], axis=1, inplace=True)\n",
    "\n",
    "cat_col.remove('DT_M')"
   ]
  },
  {
   "cell_type": "markdown",
   "id": "0bb6f86b",
   "metadata": {
    "ExecuteTime": {
     "end_time": "2022-02-18T14:07:22.579404Z",
     "start_time": "2022-02-18T14:07:22.563654Z"
    }
   },
   "source": [
    "<a id = '3.0'><a/>\n",
    "### 3.0 Encoding\n",
    "* [Back To Top](#Content)"
   ]
  },
  {
   "cell_type": "code",
   "execution_count": 36,
   "id": "25e04ca3",
   "metadata": {
    "ExecuteTime": {
     "end_time": "2022-02-24T05:16:19.139846Z",
     "start_time": "2022-02-24T05:16:18.775319Z"
    }
   },
   "outputs": [],
   "source": [
    "encode = []\n",
    "dummy = []\n",
    "for col in cat_col:\n",
    "    if train[col].nunique()>7:\n",
    "        encode.append(col)\n",
    "    else:\n",
    "        dummy.append(col)"
   ]
  },
  {
   "cell_type": "code",
   "execution_count": 37,
   "id": "cbcb30ed",
   "metadata": {
    "ExecuteTime": {
     "end_time": "2022-02-24T05:16:22.157528Z",
     "start_time": "2022-02-24T05:16:22.152508Z"
    }
   },
   "outputs": [
    {
     "data": {
      "text/plain": [
       "['ProductCD',\n",
       " 'card4',\n",
       " 'card6',\n",
       " 'M4',\n",
       " 'id_15',\n",
       " 'id_16',\n",
       " 'id_28',\n",
       " 'id_29',\n",
       " 'id_32',\n",
       " 'id_34',\n",
       " 'id_35',\n",
       " 'id_37',\n",
       " 'id_38',\n",
       " 'DeviceType',\n",
       " 'dow',\n",
       " 'id_12',\n",
       " 'M2',\n",
       " 'M3',\n",
       " 'M5',\n",
       " 'M6',\n",
       " 'M7',\n",
       " 'M8',\n",
       " 'M9']"
      ]
     },
     "execution_count": 37,
     "metadata": {},
     "output_type": "execute_result"
    }
   ],
   "source": [
    "dummy"
   ]
  },
  {
   "cell_type": "code",
   "execution_count": 38,
   "id": "cfbdbea2",
   "metadata": {
    "ExecuteTime": {
     "end_time": "2022-02-24T05:16:34.374367Z",
     "start_time": "2022-02-24T05:16:34.031053Z"
    }
   },
   "outputs": [],
   "source": [
    "train = pd.get_dummies(train, columns=dummy, drop_first=True)\n",
    "test = pd.get_dummies(test, columns=dummy, drop_first=True)"
   ]
  },
  {
   "cell_type": "code",
   "execution_count": 50,
   "id": "59e10806",
   "metadata": {
    "ExecuteTime": {
     "end_time": "2022-02-24T05:22:18.972016Z",
     "start_time": "2022-02-24T05:22:18.955019Z"
    }
   },
   "outputs": [
    {
     "data": {
      "text/plain": [
       "((590540, 128), (506691, 127))"
      ]
     },
     "execution_count": 50,
     "metadata": {},
     "output_type": "execute_result"
    }
   ],
   "source": [
    "train.shape, test.shape"
   ]
  },
  {
   "cell_type": "code",
   "execution_count": 49,
   "id": "f435a88e",
   "metadata": {
    "ExecuteTime": {
     "end_time": "2022-02-24T05:22:14.384999Z",
     "start_time": "2022-02-24T05:22:14.375768Z"
    }
   },
   "outputs": [
    {
     "data": {
      "text/plain": [
       "({'isFraud'}, set())"
      ]
     },
     "execution_count": 49,
     "metadata": {},
     "output_type": "execute_result"
    }
   ],
   "source": [
    "set(train.columns)-set(test.columns),set(test.columns)-set(train.columns)"
   ]
  },
  {
   "cell_type": "code",
   "execution_count": 48,
   "id": "d182dacf",
   "metadata": {
    "ExecuteTime": {
     "end_time": "2022-02-24T05:22:03.819769Z",
     "start_time": "2022-02-24T05:22:03.802327Z"
    }
   },
   "outputs": [],
   "source": [
    "test['card6_debit or credit'] = 0\n",
    "test['id_34_match_status:0'] = 0\n",
    "test['id_34_match_status:1'] = 0\n",
    "\n",
    "train['id_32_48.0'] = 0"
   ]
  },
  {
   "cell_type": "code",
   "execution_count": 51,
   "id": "1c1b63cb",
   "metadata": {
    "ExecuteTime": {
     "end_time": "2022-02-24T05:22:35.592503Z",
     "start_time": "2022-02-24T05:22:35.583242Z"
    }
   },
   "outputs": [
    {
     "data": {
      "text/plain": [
       "['card1',\n",
       " 'card2',\n",
       " 'card3',\n",
       " 'card5',\n",
       " 'addr1',\n",
       " 'addr2',\n",
       " 'P_emaildomain',\n",
       " 'R_emaildomain',\n",
       " 'id_13',\n",
       " 'id_14',\n",
       " 'id_17',\n",
       " 'id_19',\n",
       " 'id_20',\n",
       " 'id_30',\n",
       " 'id_31',\n",
       " 'id_33',\n",
       " 'DeviceInfo',\n",
       " 'DT_W',\n",
       " 'hour',\n",
       " 'day',\n",
       " 'addr1_card1',\n",
       " 'weekday_hour']"
      ]
     },
     "execution_count": 51,
     "metadata": {},
     "output_type": "execute_result"
    }
   ],
   "source": [
    "encode"
   ]
  },
  {
   "cell_type": "code",
   "execution_count": null,
   "id": "486b5e93",
   "metadata": {
    "ExecuteTime": {
     "end_time": "2022-02-24T03:47:03.325205Z",
     "start_time": "2022-02-24T03:46:31.875545Z"
    }
   },
   "outputs": [],
   "source": [
    "# train.to_csv('../datasets/train_enc2.csv', index=False)\n",
    "# test.to_csv('../datasets/test_enc2.csv', index=False)"
   ]
  },
  {
   "cell_type": "code",
   "execution_count": 52,
   "id": "0faecb48",
   "metadata": {
    "ExecuteTime": {
     "end_time": "2022-02-24T05:22:55.827201Z",
     "start_time": "2022-02-24T05:22:55.042764Z"
    }
   },
   "outputs": [],
   "source": [
    "X = train.sort_values('TransactionDT').drop(\n",
    "    ['isFraud', 'DT_D', 'TransactionDT', 'TransactionID'], axis=1)\n",
    "X_kaggletest = test.sort_values('TransactionDT').drop(\n",
    "    ['DT_D', 'TransactionDT', 'TransactionID'], axis=1)\n",
    "y = train.sort_values('TransactionDT')['isFraud']"
   ]
  },
  {
   "cell_type": "code",
   "execution_count": 53,
   "id": "7350ea05",
   "metadata": {
    "ExecuteTime": {
     "end_time": "2022-02-24T05:24:03.278747Z",
     "start_time": "2022-02-24T05:22:59.717703Z"
    }
   },
   "outputs": [],
   "source": [
    "he = HashingEncoder(cols=encode).fit(X, y)"
   ]
  },
  {
   "cell_type": "code",
   "execution_count": 54,
   "id": "3fcede48",
   "metadata": {
    "ExecuteTime": {
     "end_time": "2022-02-24T05:26:34.148998Z",
     "start_time": "2022-02-24T05:24:19.276040Z"
    }
   },
   "outputs": [],
   "source": [
    "X = he.transform(X)\n",
    "test_enc = he.transform(X_kaggletest)"
   ]
  },
  {
   "cell_type": "code",
   "execution_count": 60,
   "id": "2d635c17",
   "metadata": {
    "ExecuteTime": {
     "end_time": "2022-02-24T05:30:04.390917Z",
     "start_time": "2022-02-24T05:30:04.316996Z"
    }
   },
   "outputs": [],
   "source": [
    "X = X.rename(columns = lambda x:re.sub('[^A-Za-z0-9_]+', '', x))\n",
    "test_enc = test_enc.rename(columns = lambda x:re.sub('[^A-Za-z0-9_]+', '', x))"
   ]
  },
  {
   "cell_type": "code",
   "execution_count": 61,
   "id": "c0b4c78c",
   "metadata": {
    "ExecuteTime": {
     "end_time": "2022-02-24T06:15:47.206728Z",
     "start_time": "2022-02-24T06:15:47.191013Z"
    }
   },
   "outputs": [],
   "source": [
    "scoring_table=[]\n",
    "scoring_table_load=[]\n",
    "result_dict={}"
   ]
  },
  {
   "cell_type": "markdown",
   "id": "e86c69a4",
   "metadata": {},
   "source": [
    "<a id = '4.0'><a/>\n",
    "### 4.0 light gbm w dummy- and hash-encoding\n",
    "* [Back To Top](#Content)"
   ]
  },
  {
   "cell_type": "markdown",
   "id": "3e2fca4f",
   "metadata": {},
   "source": [
    "<a id = '4.1'><a/>\n",
    "#### 4.1 light gbm 2 (encoded version)\n",
    "* [Back To Top](#Content)"
   ]
  },
  {
   "cell_type": "code",
   "execution_count": 62,
   "id": "fcb985c9",
   "metadata": {
    "ExecuteTime": {
     "end_time": "2022-02-24T06:37:21.966854Z",
     "start_time": "2022-02-24T06:37:21.957807Z"
    }
   },
   "outputs": [],
   "source": [
    "n_fold = 5\n",
    "folds = KFold(n_splits=n_fold)\n",
    "\n",
    "params = {'num_leaves': 128, \n",
    "          'min_child_samples': 79,\n",
    "          'objective': 'binary',\n",
    "          'max_depth': 13,\n",
    "          'learning_rate': 0.02, #0.03\n",
    "          \"boosting_type\": \"gbdt\",\n",
    "          \"subsample_freq\": 2, #3\n",
    "          \"subsample\": 0.8, #0.9\n",
    "          \"bagging_seed\": 11,\n",
    "          \"metric\": 'auc',\n",
    "          \"verbosity\": -1,\n",
    "          'reg_alpha': 0.3,\n",
    "          'reg_lambda': 0.2, #0.3\n",
    "          'colsample_bytree': 0.8, #0.9\n",
    "          #'categorical_feature': cat_cols\n",
    "         }"
   ]
  },
  {
   "cell_type": "code",
   "execution_count": 63,
   "id": "17c8f16c",
   "metadata": {
    "ExecuteTime": {
     "end_time": "2022-02-24T06:37:25.960743Z",
     "start_time": "2022-02-24T06:37:25.678668Z"
    }
   },
   "outputs": [],
   "source": [
    "X_train, X_test, y_train, y_test = train_test_split(X, y, test_size=0.5,\n",
    "                                                    shuffle=False,  random_state=42)"
   ]
  },
  {
   "cell_type": "code",
   "execution_count": null,
   "id": "8b5bb302",
   "metadata": {
    "ExecuteTime": {
     "end_time": "2022-02-24T10:25:56.346196Z",
     "start_time": "2022-02-24T09:55:17.711683Z"
    },
    "scrolled": false
   },
   "outputs": [],
   "source": [
    "columns = X.columns \n",
    "n_splits = folds.n_splits \n",
    "X_test = X_test[columns]\n",
    "    \n",
    "\n",
    "    \n",
    "# out-of-fold predictions on train data\n",
    "oof = np.zeros((len(X), 1))\n",
    "\n",
    "# averaged predictions on test data\n",
    "prediction = np.zeros((len(X_test), 1))\n",
    "        \n",
    "   # list of scores on folds\n",
    "scores = []\n",
    "feature_importance = pd.DataFrame()\n",
    "    \n",
    "# split and train on folds\n",
    "for fold_n, (foldtrain_index, valid_index) in enumerate(folds.split(X_train)):\n",
    "    print(f'Fold {fold_n + 1} started at {time.ctime()}')\n",
    "        \n",
    "    X_foldtrain, X_valid = X[columns].iloc[foldtrain_index], X[columns].iloc[valid_index]\n",
    "    y_foldtrain, y_valid = y.iloc[foldtrain_index], y.iloc[valid_index]\n",
    "            \n",
    "    model_lgb_enc = lgb.LGBMClassifier(**params, n_estimators=300, n_jobs = -1)\n",
    "    model_lgb_enc.fit(X_foldtrain, y_foldtrain, \n",
    "            eval_set=[(X_foldtrain, y_foldtrain), (X_valid,\n",
    "                                                   y_valid)], eval_metric=eval_auc,\n",
    "            early_stopping_rounds=200)\n",
    "            \n",
    "    y_pred_valid = model_lgb_enc.predict_proba(X_valid)[:, 1]\n",
    "    y_pred = model_lgb_enc.predict_proba(X_test,\n",
    "                                         num_iteration=model_lgb_enc.best_iteration_)[:, 1]\n",
    "            \n",
    "             \n",
    "    oof[valid_index] = y_pred_valid.reshape(-1, 1)\n",
    "    scores.append(roc_auc_score(y_valid, y_pred_valid))\n",
    "            \n",
    "    prediction += y_pred.reshape(-1, 1)\n",
    "\n",
    "              \n",
    "        \n",
    "        \n",
    "    # feature importance\n",
    "    fold_importance = pd.DataFrame()\n",
    "    fold_importance[\"feature\"] = columns\n",
    "    fold_importance[\"importance\"] = model_lgb_enc.feature_importances_\n",
    "    fold_importance[\"fold\"] = fold_n + 1\n",
    "    feature_importance = pd.concat([feature_importance, fold_importance], axis=0)\n",
    "       "
   ]
  },
  {
   "cell_type": "code",
   "execution_count": 69,
   "id": "fcff59b1",
   "metadata": {
    "ExecuteTime": {
     "end_time": "2022-02-24T07:23:37.054557Z",
     "start_time": "2022-02-24T07:23:36.298571Z"
    }
   },
   "outputs": [
    {
     "name": "stdout",
     "output_type": "stream",
     "text": [
      "CV mean score: 0.9243, std: 0.0108.\n"
     ]
    },
    {
     "data": {
      "image/png": "[encoded data removed]",
      "text/plain": [
       "<Figure size 1152x864 with 1 Axes>"
      ]
     },
     "metadata": {},
     "output_type": "display_data"
    }
   ],
   "source": [
    "prediction /= n_splits\n",
    "    \n",
    "print(f'CV mean score: {np.mean(scores):.4f}, std: {np.std(scores):.4f}.')\n",
    "    \n",
    "result_dict['oof_e1'] = oof\n",
    "result_dict['prediction_e1'] = prediction\n",
    "result_dict['scores_e1'] = scores\n",
    "    \n",
    "\n",
    "\n",
    "feature_importance[\"importance\"] /= n_splits\n",
    "cols = feature_importance[[\"feature\", \"importance\"]].groupby(\"feature\").mean().sort_values(\n",
    "                                               by=\"importance\", ascending=False)[:30].index\n",
    "\n",
    "best_features = feature_importance.loc[feature_importance.feature.isin(cols)]\n",
    "\n",
    "plt.figure(figsize=(16, 12));\n",
    "sns.barplot(x=\"importance\", y=\"feature\", data=best_features.sort_values(\n",
    "                                                            by=\"importance\", ascending=False));\n",
    "plt.title('LGB Features (avg over folds)');\n",
    "            \n",
    "result_dict['feature_importance_e1'] = feature_importance\n",
    "result_dict['top_columns_e1'] = cols"
   ]
  },
  {
   "cell_type": "code",
   "execution_count": 70,
   "id": "d669b935",
   "metadata": {
    "ExecuteTime": {
     "end_time": "2022-02-24T07:23:51.395488Z",
     "start_time": "2022-02-24T07:23:51.027816Z"
    }
   },
   "outputs": [
    {
     "name": "stdout",
     "output_type": "stream",
     "text": [
      "\n",
      "              precision    recall  f1-score   support\n",
      "\n",
      "           0       0.97      1.00      0.99    284501\n",
      "           1       0.81      0.32      0.46     10769\n",
      "\n",
      "    accuracy                           0.97    295270\n",
      "   macro avg       0.89      0.66      0.72    295270\n",
      "weighted avg       0.97      0.97      0.97    295270\n",
      "\n"
     ]
    }
   ],
   "source": [
    "prediction_label = prediction.round()\n",
    "print()\n",
    "print(classification_report(y_test, prediction_label))"
   ]
  },
  {
   "cell_type": "code",
   "execution_count": 72,
   "id": "866af427",
   "metadata": {
    "ExecuteTime": {
     "end_time": "2022-02-24T07:24:13.860502Z",
     "start_time": "2022-02-24T07:24:09.006409Z"
    },
    "scrolled": true
   },
   "outputs": [
    {
     "data": {
      "image/png": "[encoded data removed]",
      "text/plain": [
       "<Figure size 432x288 with 2 Axes>"
      ]
     },
     "metadata": {},
     "output_type": "display_data"
    }
   ],
   "source": [
    "plot_confusion_matrix(model_lgb_enc, X_test, y_test);"
   ]
  },
  {
   "cell_type": "code",
   "execution_count": 73,
   "id": "d9d0ff1d",
   "metadata": {
    "ExecuteTime": {
     "end_time": "2022-02-24T07:24:47.589258Z",
     "start_time": "2022-02-24T07:24:47.573831Z"
    },
    "scrolled": true
   },
   "outputs": [
    {
     "data": {
      "text/plain": [
       "<bound method LGBMModel.get_params of LGBMClassifier(bagging_seed=11, colsample_bytree=0.8, learning_rate=0.02,\n",
       "               max_depth=13, metric='auc', min_child_samples=79,\n",
       "               n_estimators=300, num_leaves=128, objective='binary',\n",
       "               reg_alpha=0.3, reg_lambda=0.2, subsample=0.8, subsample_freq=2,\n",
       "               verbosity=-1)>"
      ]
     },
     "execution_count": 73,
     "metadata": {},
     "output_type": "execute_result"
    }
   ],
   "source": [
    "model_lgb_enc.get_params"
   ]
  },
  {
   "cell_type": "code",
   "execution_count": 74,
   "id": "42aeb3bb",
   "metadata": {
    "ExecuteTime": {
     "end_time": "2022-02-24T07:24:52.848592Z",
     "start_time": "2022-02-24T07:24:52.833098Z"
    }
   },
   "outputs": [],
   "source": [
    "# filename_model_lgb_enc = '../Models/model_ljg_enc.sav'\n",
    "# test_loading1 = jb.load(filename_model_lgb_enc)"
   ]
  },
  {
   "cell_type": "code",
   "execution_count": 80,
   "id": "0768a8f0",
   "metadata": {
    "ExecuteTime": {
     "end_time": "2022-02-24T09:42:54.845301Z",
     "start_time": "2022-02-24T09:42:54.537199Z"
    }
   },
   "outputs": [],
   "source": [
    "table = {'Model': 'LGBM_enc1'}\n",
    "table['CV mean ROC-AUC'] = np.mean(scores)\n",
    "table['ROC-AUC-train'] = roc_auc_score(y_train, oof[:len(X_train)])\n",
    "table['ROC-AUC-test'] = roc_auc_score(y_test, prediction)\n",
    "table['Precision'] = precision_score(y_test, prediction_label)\n",
    "table['Recall'] = recall_score(y_test, prediction_label)\n",
    "\n",
    "scoring_table.append(table)"
   ]
  },
  {
   "cell_type": "code",
   "execution_count": null,
   "id": "051e54da",
   "metadata": {},
   "outputs": [],
   "source": [
    "# table_load = {'Model': 'LGBM1'}\n",
    "# table_load['ROC-AUC-train'] = roc_auc_score(y_train, test_loading.predict_proba(X_train)[:,1])\n",
    "# table_load['ROC-AUC-test'] = roc_auc_score(y_test, test_loading.predict_proba(X_test)[:,1])\n",
    "# table_load['Precision'] = precision_score(y_test, test_loading.predict(X_test))\n",
    "# table_load['Recall'] = recall_score(y_test, test_loading.predict(X_test))\n",
    "\n",
    "# scoring_table_load.append(table_load)"
   ]
  },
  {
   "cell_type": "code",
   "execution_count": 81,
   "id": "2e4f87f9",
   "metadata": {
    "ExecuteTime": {
     "end_time": "2022-02-24T09:43:01.606224Z",
     "start_time": "2022-02-24T09:43:01.601192Z"
    },
    "scrolled": true
   },
   "outputs": [
    {
     "data": {
      "text/plain": [
       "{'Model': 'LGBM_enc1',\n",
       " 'CV mean ROC-AUC': 0.9242801082771159,\n",
       " 'ROC-AUC-train': 0.9254746112929142,\n",
       " 'ROC-AUC-test': 0.8988196375723794,\n",
       " 'Precision': 0.8115737473535639,\n",
       " 'Recall': 0.32036400780016716}"
      ]
     },
     "execution_count": 81,
     "metadata": {},
     "output_type": "execute_result"
    }
   ],
   "source": [
    "table"
   ]
  },
  {
   "cell_type": "code",
   "execution_count": null,
   "id": "c6419b95",
   "metadata": {
    "ExecuteTime": {
     "end_time": "2022-02-19T06:26:07.361864Z",
     "start_time": "2022-02-19T06:26:07.289324Z"
    }
   },
   "outputs": [],
   "source": [
    "# print('ROC-AUC on test data:', round(roc_auc_score(y_test, prediction),4))"
   ]
  },
  {
   "cell_type": "code",
   "execution_count": null,
   "id": "d9d926b6",
   "metadata": {
    "ExecuteTime": {
     "end_time": "2022-02-19T05:46:18.907853Z",
     "start_time": "2022-02-19T05:46:18.706485Z"
    }
   },
   "outputs": [],
   "source": [
    "# filename_model_lgb_enc = '../Models/model_lgb_enc.sav'\n",
    "# jb.dump(model_lgb_enc, filename_model_lgb_enc)"
   ]
  },
  {
   "cell_type": "code",
   "execution_count": null,
   "id": "4826224b",
   "metadata": {
    "ExecuteTime": {
     "end_time": "2022-02-19T06:17:34.744309Z",
     "start_time": "2022-02-19T06:17:34.725948Z"
    }
   },
   "outputs": [],
   "source": [
    "# prediction_lgb_enc=prediction"
   ]
  },
  {
   "cell_type": "markdown",
   "id": "37a0bfd6",
   "metadata": {},
   "source": [
    "<a id = '4.2'><a/>\n",
    "#### 4.2 same as 4.1 w pos weights\n",
    "* [Back To Top](#Content)"
   ]
  },
  {
   "cell_type": "code",
   "execution_count": 82,
   "id": "7d8392c7",
   "metadata": {
    "ExecuteTime": {
     "end_time": "2022-02-24T09:44:08.230075Z",
     "start_time": "2022-02-24T09:44:08.002358Z"
    }
   },
   "outputs": [],
   "source": [
    "X_train, X_test, y_train, y_test = train_test_split(X, y, test_size=0.75,\n",
    "                                                    shuffle=False,  random_state=42)"
   ]
  },
  {
   "cell_type": "code",
   "execution_count": 83,
   "id": "a176d5bb",
   "metadata": {
    "ExecuteTime": {
     "end_time": "2022-02-24T09:44:14.611877Z",
     "start_time": "2022-02-24T09:44:14.591152Z"
    }
   },
   "outputs": [],
   "source": [
    "params = {'num_leaves': 126,#256\n",
    "          'min_child_samples': 79,\n",
    "          'objective': 'binary',\n",
    "          'max_depth': 15, #13\n",
    "          'learning_rate': 0.02, #0.03\n",
    "          \"boosting_type\": \"gbdt\",\n",
    "          \"subsample_freq\": 2, #3\n",
    "          \"subsample\": 0.8, #0.9\n",
    "          \"bagging_seed\": 15, #11\n",
    "          \"metric\": 'auc',\n",
    "          \"verbosity\": -1,\n",
    "          'reg_alpha': 0.2, #0.3\n",
    "#           'reg_lambda': 0.2, #0.3\n",
    "          'colsample_bytree': 0.8, #0.9,\n",
    "          'scale_pos_weight': 60 # THIS IS THE KEY ADDITION\n",
    "         }"
   ]
  },
  {
   "cell_type": "code",
   "execution_count": null,
   "id": "9dd588eb",
   "metadata": {
    "ExecuteTime": {
     "end_time": "2022-02-24T10:25:56.346196Z",
     "start_time": "2022-02-24T09:55:17.711683Z"
    },
    "scrolled": false
   },
   "outputs": [],
   "source": [
    "columns = X.columns \n",
    "n_splits = folds.n_splits \n",
    "X_test = X_test[columns]\n",
    "    \n",
    "\n",
    "    \n",
    "# out-of-fold predictions on train data\n",
    "oof = np.zeros((len(X), 1))\n",
    "\n",
    "# averaged predictions on test data\n",
    "prediction = np.zeros((len(X_test), 1))\n",
    "        \n",
    "   # list of scores on folds\n",
    "scores = []\n",
    "feature_importance = pd.DataFrame()\n",
    "    \n",
    "# split and train on folds\n",
    "for fold_n, (foldtrain_index, valid_index) in enumerate(folds.split(X_train)):\n",
    "    print(f'Fold {fold_n + 1} started at {time.ctime()}')\n",
    "        \n",
    "    X_foldtrain, X_valid = X[columns].iloc[foldtrain_index], X[columns].iloc[valid_index]\n",
    "    y_foldtrain, y_valid = y.iloc[foldtrain_index], y.iloc[valid_index]\n",
    "            \n",
    "    model_lgb_enc_W = lgb.LGBMClassifier(**params, n_estimators=400, n_jobs = -1)\n",
    "    model_lgb_enc_W.fit(X_foldtrain, y_foldtrain, \n",
    "            eval_set=[(X_foldtrain, y_foldtrain), (X_valid, y_valid)], eval_metric=eval_auc,\n",
    "            early_stopping_rounds=200)\n",
    "            \n",
    "    y_pred_valid = model_lgb_enc_W.predict_proba(X_valid)[:, 1]\n",
    "    y_pred = model_lgb_enc_W.predict_proba(X_test, num_iteration=model_lgb_enc_W.best_iteration_)[:, 1]\n",
    "            \n",
    "             \n",
    "    oof[valid_index] = y_pred_valid.reshape(-1, 1)\n",
    "    scores.append(roc_auc_score(y_valid, y_pred_valid))\n",
    "            \n",
    "    prediction += y_pred.reshape(-1, 1)\n",
    "\n",
    "              \n",
    "        \n",
    "        \n",
    "    # feature importance\n",
    "    fold_importance = pd.DataFrame()\n",
    "    fold_importance[\"feature\"] = columns\n",
    "    fold_importance[\"importance\"] = model_lgb_enc_W.feature_importances_\n",
    "    fold_importance[\"fold\"] = fold_n + 1\n",
    "    feature_importance = pd.concat([feature_importance, fold_importance], axis=0)\n"
   ]
  },
  {
   "cell_type": "code",
   "execution_count": 89,
   "id": "dd1482a1",
   "metadata": {
    "ExecuteTime": {
     "end_time": "2022-02-24T10:34:10.722875Z",
     "start_time": "2022-02-24T10:34:09.611472Z"
    }
   },
   "outputs": [
    {
     "name": "stdout",
     "output_type": "stream",
     "text": [
      "CV mean score: 0.9065, std: 0.0046.\n"
     ]
    },
    {
     "data": {
      "image/png": "[encoded data removed]",
      "text/plain": [
       "<Figure size 1152x864 with 1 Axes>"
      ]
     },
     "metadata": {},
     "output_type": "display_data"
    }
   ],
   "source": [
    "prediction /= n_splits\n",
    "    \n",
    "print(f'CV mean score: {np.mean(scores):.4f}, std: {np.std(scores):.4f}.')\n",
    "    \n",
    "result_dict['oof_e2'] = oof\n",
    "result_dict['prediction_e2'] = prediction\n",
    "result_dict['scores_e2'] = scores\n",
    "    \n",
    "\n",
    "\n",
    "feature_importance[\"importance\"] /= n_splits\n",
    "cols = feature_importance[[\"feature\", \"importance\"]].groupby(\"feature\").mean().sort_values(\n",
    "                                               by=\"importance\", ascending=False)[:50].index\n",
    "\n",
    "best_features = feature_importance.loc[feature_importance.feature.isin(cols)]\n",
    "\n",
    "plt.figure(figsize=(16, 12));\n",
    "sns.barplot(x=\"importance\", y=\"feature\", data=best_features.sort_values(\n",
    "                                                            by=\"importance\", ascending=False));\n",
    "plt.title('LGB Features (avg over folds)');\n",
    "            \n",
    "result_dict['feature_importance_e2'] = feature_importance\n",
    "result_dict['top_columns_e2'] = cols\n",
    "        \n",
    "# return result_dict"
   ]
  },
  {
   "cell_type": "code",
   "execution_count": 90,
   "id": "63c489df",
   "metadata": {
    "ExecuteTime": {
     "end_time": "2022-02-24T10:34:20.258450Z",
     "start_time": "2022-02-24T10:34:19.702010Z"
    }
   },
   "outputs": [
    {
     "name": "stdout",
     "output_type": "stream",
     "text": [
      "\n",
      "              precision    recall  f1-score   support\n",
      "\n",
      "           0       0.98      0.97      0.97    426130\n",
      "           1       0.37      0.51      0.43     16775\n",
      "\n",
      "    accuracy                           0.95    442905\n",
      "   macro avg       0.67      0.74      0.70    442905\n",
      "weighted avg       0.96      0.95      0.95    442905\n",
      "\n"
     ]
    }
   ],
   "source": [
    "prediction_label = prediction.round()\n",
    "print()\n",
    "print(classification_report(y_test, prediction_label))"
   ]
  },
  {
   "cell_type": "code",
   "execution_count": 91,
   "id": "2f00e2d8",
   "metadata": {
    "ExecuteTime": {
     "end_time": "2022-02-24T10:34:31.496108Z",
     "start_time": "2022-02-24T10:34:25.756942Z"
    },
    "scrolled": false
   },
   "outputs": [
    {
     "data": {
      "image/png": "[encoded data removed]",
      "text/plain": [
       "<Figure size 432x288 with 2 Axes>"
      ]
     },
     "metadata": {},
     "output_type": "display_data"
    }
   ],
   "source": [
    "plot_confusion_matrix(model_lgb_enc_W, X_test, y_test);"
   ]
  },
  {
   "cell_type": "code",
   "execution_count": 92,
   "id": "42eb1512",
   "metadata": {
    "ExecuteTime": {
     "end_time": "2022-02-24T10:34:37.231356Z",
     "start_time": "2022-02-24T10:34:37.204979Z"
    },
    "scrolled": false
   },
   "outputs": [
    {
     "data": {
      "text/plain": [
       "<bound method LGBMModel.get_params of LGBMClassifier(bagging_seed=15, colsample_bytree=0.8, learning_rate=0.02,\n",
       "               max_depth=15, metric='auc', min_child_samples=79,\n",
       "               n_estimators=400, num_leaves=126, objective='binary',\n",
       "               reg_alpha=0.2, scale_pos_weight=60, subsample=0.8,\n",
       "               subsample_freq=2, verbosity=-1)>"
      ]
     },
     "execution_count": 92,
     "metadata": {},
     "output_type": "execute_result"
    }
   ],
   "source": [
    "model_lgb_enc_W.get_params"
   ]
  },
  {
   "cell_type": "code",
   "execution_count": 93,
   "id": "a8f1d294",
   "metadata": {
    "ExecuteTime": {
     "end_time": "2022-02-24T10:34:45.339105Z",
     "start_time": "2022-02-24T10:34:45.333830Z"
    }
   },
   "outputs": [],
   "source": [
    "# filename_model_lgb_enc_W = '../Models/model_lgb_enc_W.sav'\n",
    "# test_loading2 = jb.load(filename_model_lgb_enc_W)"
   ]
  },
  {
   "cell_type": "code",
   "execution_count": 94,
   "id": "1a974979",
   "metadata": {
    "ExecuteTime": {
     "end_time": "2022-02-24T10:34:51.428104Z",
     "start_time": "2022-02-24T10:34:51.033389Z"
    }
   },
   "outputs": [],
   "source": [
    "table = {'Model': 'LGBM_enc2_W'}\n",
    "table['CV mean ROC-AUC'] = np.mean(scores)\n",
    "table['ROC-AUC-train'] = roc_auc_score(y_train, oof[:len(X_train)])\n",
    "table['ROC-AUC-test'] = roc_auc_score(y_test, prediction)\n",
    "table['Precision'] = precision_score(y_test, prediction_label)\n",
    "table['Recall'] = recall_score(y_test, prediction_label)\n",
    "\n",
    "scoring_table.append(table)"
   ]
  },
  {
   "cell_type": "code",
   "execution_count": null,
   "id": "acee32ae",
   "metadata": {},
   "outputs": [],
   "source": [
    "# table_load = {'Model': 'LGBM1'}\n",
    "# table_load['ROC-AUC-train'] = roc_auc_score(y_train, test_loading.predict_proba(X_train)[:,1])\n",
    "# table_load['ROC-AUC-test'] = roc_auc_score(y_test, test_loading.predict_proba(X_test)[:,1])\n",
    "# table_load['Precision'] = precision_score(y_test, test_loading.predict(X_test))\n",
    "# table_load['Recall'] = recall_score(y_test, test_loading.predict(X_test))\n",
    "\n",
    "# scoring_table_load.append(table_load)"
   ]
  },
  {
   "cell_type": "code",
   "execution_count": null,
   "id": "4d7e1448",
   "metadata": {
    "ExecuteTime": {
     "end_time": "2022-02-19T05:46:18.907853Z",
     "start_time": "2022-02-19T05:46:18.706485Z"
    }
   },
   "outputs": [],
   "source": [
    "# filename_model_lgb_enc_W = '../Models/model_lgb_enc_W.sav'\n",
    "# jb.dump(model_lgb_enc_W, filename_model_lgb_enc_W)"
   ]
  },
  {
   "cell_type": "markdown",
   "id": "714aec1a",
   "metadata": {},
   "source": [
    "<a id = '4.3'><a/>\n",
    "#### 4.3 same as 4.1 w 32-bit hash-encoding\n",
    "* [Back To Top](#Content)"
   ]
  },
  {
   "cell_type": "code",
   "execution_count": 97,
   "id": "ff86466f",
   "metadata": {
    "ExecuteTime": {
     "end_time": "2022-02-24T14:10:43.175954Z",
     "start_time": "2022-02-24T14:10:42.766083Z"
    }
   },
   "outputs": [],
   "source": [
    "XXX = train.sort_values('TransactionDT').drop(\n",
    "    ['isFraud', 'DT_D', 'TransactionDT', 'TransactionID'], axis=1)\n",
    "# X_kaggletest = test.sort_values('TransactionDT').drop(\n",
    "#     ['DT_D', 'TransactionDT', 'TransactionID'], axis=1)\n",
    "# y = train.sort_values('TransactionDT')['isFraud']"
   ]
  },
  {
   "cell_type": "code",
   "execution_count": 98,
   "id": "132e26ab",
   "metadata": {
    "ExecuteTime": {
     "end_time": "2022-02-24T14:11:56.173535Z",
     "start_time": "2022-02-24T14:10:49.268280Z"
    }
   },
   "outputs": [],
   "source": [
    "he = HashingEncoder(cols=encode, n_components=32).fit(XXX, y)"
   ]
  },
  {
   "cell_type": "code",
   "execution_count": 99,
   "id": "4ee502db",
   "metadata": {
    "ExecuteTime": {
     "end_time": "2022-02-24T14:13:18.317572Z",
     "start_time": "2022-02-24T14:12:03.544149Z"
    }
   },
   "outputs": [],
   "source": [
    "XXX = he.transform(XXX)"
   ]
  },
  {
   "cell_type": "code",
   "execution_count": 100,
   "id": "d45bcc6c",
   "metadata": {
    "ExecuteTime": {
     "end_time": "2022-02-24T14:13:25.196484Z",
     "start_time": "2022-02-24T14:13:25.130701Z"
    }
   },
   "outputs": [],
   "source": [
    "XXX = XXX.rename(columns = lambda x:re.sub('[^A-Za-z0-9_]+', '', x))"
   ]
  },
  {
   "cell_type": "code",
   "execution_count": 101,
   "id": "a63b6c49",
   "metadata": {
    "ExecuteTime": {
     "end_time": "2022-02-24T14:13:31.826487Z",
     "start_time": "2022-02-24T14:13:31.797973Z"
    }
   },
   "outputs": [],
   "source": [
    "n_fold = 5\n",
    "folds = KFold(n_splits=n_fold)\n",
    "\n",
    "params = {'num_leaves': 128, \n",
    "          'min_child_samples': 79,\n",
    "          'objective': 'binary',\n",
    "          'max_depth': 13,\n",
    "          'learning_rate': 0.02, #0.03\n",
    "          \"boosting_type\": \"gbdt\",\n",
    "          \"subsample_freq\": 2, #3\n",
    "          \"subsample\": 0.8, #0.9\n",
    "          \"bagging_seed\": 11,\n",
    "          \"metric\": 'auc',\n",
    "          \"verbosity\": -1,\n",
    "          'reg_alpha': 0.3,\n",
    "          'reg_lambda': 0.2, #0.3\n",
    "          'colsample_bytree': 0.8, #0.9\n",
    "          #'categorical_feature': cat_cols\n",
    "         }"
   ]
  },
  {
   "cell_type": "code",
   "execution_count": 102,
   "id": "fb99641c",
   "metadata": {
    "ExecuteTime": {
     "end_time": "2022-02-24T14:13:39.213987Z",
     "start_time": "2022-02-24T14:13:38.373678Z"
    }
   },
   "outputs": [],
   "source": [
    "X_train, X_test, y_train, y_test = train_test_split(XXX, y, test_size=0.5,\n",
    "                                                    shuffle=False,  random_state=42)"
   ]
  },
  {
   "cell_type": "code",
   "execution_count": null,
   "id": "5dc2b733",
   "metadata": {
    "ExecuteTime": {
     "end_time": "2022-02-24T14:57:11.754434Z",
     "start_time": "2022-02-24T14:13:45.946988Z"
    },
    "scrolled": false
   },
   "outputs": [],
   "source": [
    "columns = XXX.columns \n",
    "n_splits = folds.n_splits \n",
    "X_test = X_test[columns]\n",
    "    \n",
    "\n",
    "    \n",
    "# out-of-fold predictions on train data\n",
    "oof = np.zeros((len(XXX), 1))\n",
    "\n",
    "# averaged predictions on test data\n",
    "prediction = np.zeros((len(X_test), 1))\n",
    "        \n",
    "   # list of scores on folds\n",
    "scores = []\n",
    "feature_importance = pd.DataFrame()\n",
    "    \n",
    "# split and train on folds\n",
    "for fold_n, (foldtrain_index, valid_index) in enumerate(folds.split(X_train)):\n",
    "    print(f'Fold {fold_n + 1} started at {time.ctime()}')\n",
    "        \n",
    "    X_foldtrain, X_valid = XXX[columns].iloc[foldtrain_index], XXX[columns].iloc[valid_index]\n",
    "    y_foldtrain, y_valid = y.iloc[foldtrain_index], y.iloc[valid_index]\n",
    "            \n",
    "    model_lgb_enc32 = lgb.LGBMClassifier(**params, n_estimators=300, n_jobs = -1)\n",
    "    model_lgb_enc32.fit(X_foldtrain, y_foldtrain, \n",
    "            eval_set=[(X_foldtrain, y_foldtrain), (X_valid, y_valid)], eval_metric=eval_auc,\n",
    "            early_stopping_rounds=200)\n",
    "            \n",
    "    y_pred_valid = model_lgb_enc32.predict_proba(X_valid)[:, 1]\n",
    "    y_pred = model_lgb_enc32.predict_proba(X_test, num_iteration=model_lgb_enc32.best_iteration_)[:, 1]\n",
    "            \n",
    "             \n",
    "    oof[valid_index] = y_pred_valid.reshape(-1, 1)\n",
    "    scores.append(roc_auc_score(y_valid, y_pred_valid))\n",
    "            \n",
    "    prediction += y_pred.reshape(-1, 1)\n",
    "\n",
    "              \n",
    "        \n",
    "        \n",
    "    # feature importance\n",
    "    fold_importance = pd.DataFrame()\n",
    "    fold_importance[\"feature\"] = columns\n",
    "    fold_importance[\"importance\"] = model_lgb_enc32.feature_importances_\n",
    "    fold_importance[\"fold\"] = fold_n + 1\n",
    "    feature_importance = pd.concat([feature_importance, fold_importance], axis=0)\n",
    "\n"
   ]
  },
  {
   "cell_type": "code",
   "execution_count": 104,
   "id": "2841ca68",
   "metadata": {
    "ExecuteTime": {
     "end_time": "2022-02-24T14:57:22.930308Z",
     "start_time": "2022-02-24T14:57:21.219317Z"
    },
    "scrolled": true
   },
   "outputs": [
    {
     "name": "stdout",
     "output_type": "stream",
     "text": [
      "CV mean score: 0.9239, std: 0.0110.\n"
     ]
    },
    {
     "data": {
      "image/png": "[encoded data removed]",
      "text/plain": [
       "<Figure size 1152x864 with 1 Axes>"
      ]
     },
     "metadata": {},
     "output_type": "display_data"
    }
   ],
   "source": [
    "prediction /= n_splits\n",
    "    \n",
    "print(f'CV mean score: {np.mean(scores):.4f}, std: {np.std(scores):.4f}.')\n",
    "    \n",
    "result_dict['oof_e3'] = oof\n",
    "result_dict['prediction_e3'] = prediction\n",
    "result_dict['scores_e3'] = scores\n",
    "    \n",
    "\n",
    "\n",
    "feature_importance[\"importance\"] /= n_splits\n",
    "cols = feature_importance[[\"feature\", \"importance\"]].groupby(\"feature\").mean().sort_values(\n",
    "                                               by=\"importance\", ascending=False)[:50].index\n",
    "\n",
    "best_features = feature_importance.loc[feature_importance.feature.isin(cols)]\n",
    "\n",
    "plt.figure(figsize=(16, 12));\n",
    "sns.barplot(x=\"importance\", y=\"feature\", data=best_features.sort_values(\n",
    "                                                            by=\"importance\", ascending=False));\n",
    "plt.title('LGB Features (avg over folds)');\n",
    "            \n",
    "result_dict['feature_importance_e3'] = feature_importance\n",
    "result_dict['top_columns_e3'] = cols"
   ]
  },
  {
   "cell_type": "code",
   "execution_count": 105,
   "id": "f3017f03",
   "metadata": {
    "ExecuteTime": {
     "end_time": "2022-02-24T14:57:33.493469Z",
     "start_time": "2022-02-24T14:57:32.645224Z"
    }
   },
   "outputs": [
    {
     "name": "stdout",
     "output_type": "stream",
     "text": [
      "\n",
      "              precision    recall  f1-score   support\n",
      "\n",
      "           0       0.97      1.00      0.99    284501\n",
      "           1       0.82      0.32      0.46     10769\n",
      "\n",
      "    accuracy                           0.97    295270\n",
      "   macro avg       0.90      0.66      0.72    295270\n",
      "weighted avg       0.97      0.97      0.97    295270\n",
      "\n"
     ]
    }
   ],
   "source": [
    "prediction_label = prediction.round()\n",
    "print()\n",
    "print(classification_report(y_test, prediction_label))\n"
   ]
  },
  {
   "cell_type": "code",
   "execution_count": 106,
   "id": "fbe9ad5c",
   "metadata": {
    "ExecuteTime": {
     "end_time": "2022-02-24T14:57:49.661823Z",
     "start_time": "2022-02-24T14:57:43.402793Z"
    },
    "scrolled": true
   },
   "outputs": [
    {
     "data": {
      "text/plain": [
       "<sklearn.metrics._plot.confusion_matrix.ConfusionMatrixDisplay at 0x2814107f9a0>"
      ]
     },
     "execution_count": 106,
     "metadata": {},
     "output_type": "execute_result"
    },
    {
     "data": {
      "image/png": "[encoded data removed]",
      "text/plain": [
       "<Figure size 432x288 with 2 Axes>"
      ]
     },
     "metadata": {},
     "output_type": "display_data"
    }
   ],
   "source": [
    "plot_confusion_matrix(model_lgb_enc32, X_test, y_test)"
   ]
  },
  {
   "cell_type": "code",
   "execution_count": 107,
   "id": "a5611c2a",
   "metadata": {
    "ExecuteTime": {
     "end_time": "2022-02-24T14:57:58.922833Z",
     "start_time": "2022-02-24T14:57:58.908198Z"
    },
    "scrolled": false
   },
   "outputs": [
    {
     "data": {
      "text/plain": [
       "<bound method LGBMModel.get_params of LGBMClassifier(bagging_seed=11, colsample_bytree=0.8, learning_rate=0.02,\n",
       "               max_depth=13, metric='auc', min_child_samples=79,\n",
       "               n_estimators=300, num_leaves=128, objective='binary',\n",
       "               reg_alpha=0.3, reg_lambda=0.2, subsample=0.8, subsample_freq=2,\n",
       "               verbosity=-1)>"
      ]
     },
     "execution_count": 107,
     "metadata": {},
     "output_type": "execute_result"
    }
   ],
   "source": [
    "model_lgb_enc32.get_params"
   ]
  },
  {
   "cell_type": "code",
   "execution_count": 108,
   "id": "5114f17d",
   "metadata": {
    "ExecuteTime": {
     "end_time": "2022-02-24T14:58:08.034497Z",
     "start_time": "2022-02-24T14:58:08.020583Z"
    }
   },
   "outputs": [],
   "source": [
    "# filename_model_lgb_enc32 = '../Models/model_lgb_enc32.sav'\n",
    "# test_loading3 = jb.load(filename_model_lgb_enc32)"
   ]
  },
  {
   "cell_type": "code",
   "execution_count": 109,
   "id": "6ce19562",
   "metadata": {
    "ExecuteTime": {
     "end_time": "2022-02-24T14:58:17.400442Z",
     "start_time": "2022-02-24T14:58:17.011125Z"
    }
   },
   "outputs": [],
   "source": [
    "table = {'Model': 'LGBM_enc32'}\n",
    "table['CV mean ROC-AUC'] = np.mean(scores)\n",
    "table['ROC-AUC-train'] = roc_auc_score(y_train, oof[:len(X_train)])\n",
    "table['ROC-AUC-test'] = roc_auc_score(y_test, prediction)\n",
    "table['Precision'] = precision_score(y_test, prediction_label)\n",
    "table['Recall'] = recall_score(y_test, prediction_label)\n",
    "\n",
    "scoring_table.append(table)"
   ]
  },
  {
   "cell_type": "code",
   "execution_count": 115,
   "id": "a9436671",
   "metadata": {
    "ExecuteTime": {
     "end_time": "2022-02-24T14:59:25.673061Z",
     "start_time": "2022-02-24T14:59:25.662101Z"
    }
   },
   "outputs": [
    {
     "data": {
      "text/plain": [
       "{'Model': 'LGBM_enc32',\n",
       " 'CV mean ROC-AUC': 0.9239109462254117,\n",
       " 'ROC-AUC-train': 0.925275221536445,\n",
       " 'ROC-AUC-test': 0.9001890538059367,\n",
       " 'Precision': 0.8185053380782918,\n",
       " 'Recall': 0.32036400780016716}"
      ]
     },
     "execution_count": 115,
     "metadata": {},
     "output_type": "execute_result"
    }
   ],
   "source": [
    "table"
   ]
  },
  {
   "cell_type": "code",
   "execution_count": 110,
   "id": "f1a9a5cd",
   "metadata": {
    "ExecuteTime": {
     "end_time": "2022-02-24T14:58:25.746140Z",
     "start_time": "2022-02-24T14:58:25.731194Z"
    }
   },
   "outputs": [],
   "source": [
    "# table_load = {'Model': 'LGBM1'}\n",
    "# table_load['ROC-AUC-train'] = roc_auc_score(y_train, test_loading.predict_proba(X_train)[:,1])\n",
    "# table_load['ROC-AUC-test'] = roc_auc_score(y_test, test_loading.predict_proba(X_test)[:,1])\n",
    "# table_load['Precision'] = precision_score(y_test, test_loading.predict(X_test))\n",
    "# table_load['Recall'] = recall_score(y_test, test_loading.predict(X_test))\n",
    "\n",
    "# scoring_table_load.append(table_load)"
   ]
  },
  {
   "cell_type": "code",
   "execution_count": 111,
   "id": "34024d6f",
   "metadata": {
    "ExecuteTime": {
     "end_time": "2022-02-24T14:58:34.186031Z",
     "start_time": "2022-02-24T14:58:34.170602Z"
    }
   },
   "outputs": [],
   "source": [
    "# print('ROC-AUC on test data:', round(roc_auc_score(y_test, prediction),4))"
   ]
  },
  {
   "cell_type": "code",
   "execution_count": 112,
   "id": "08918b14",
   "metadata": {
    "ExecuteTime": {
     "end_time": "2022-02-24T14:58:43.734365Z",
     "start_time": "2022-02-24T14:58:43.705123Z"
    }
   },
   "outputs": [],
   "source": [
    "# filename_model_lgb_enc32 = '../Models/model_lgb_enc32.sav'\n",
    "# jb.dump(model_lgb_enc32, filename_model_lgb_enc32)"
   ]
  },
  {
   "cell_type": "code",
   "execution_count": 113,
   "id": "0b12f959",
   "metadata": {
    "ExecuteTime": {
     "end_time": "2022-02-24T14:58:54.009633Z",
     "start_time": "2022-02-24T14:58:53.994223Z"
    }
   },
   "outputs": [],
   "source": [
    "# prediction_lgb_enc32=prediction"
   ]
  },
  {
   "cell_type": "code",
   "execution_count": 114,
   "id": "33df7a2c",
   "metadata": {
    "ExecuteTime": {
     "end_time": "2022-02-24T14:59:03.185556Z",
     "start_time": "2022-02-24T14:59:03.181919Z"
    }
   },
   "outputs": [],
   "source": [
    "# display_scores('Light GBM 32bit_encode', model_lgb_enc32, X_train, X_test, y_train, y_test)"
   ]
  },
  {
   "cell_type": "markdown",
   "id": "331d968c",
   "metadata": {},
   "source": [
    "<a id = '5.0'><a/>\n",
    "### 5.0 Random Forest\n",
    "* [Back To Top](#Content)"
   ]
  },
  {
   "cell_type": "code",
   "execution_count": 116,
   "id": "56c622be",
   "metadata": {
    "ExecuteTime": {
     "end_time": "2022-02-24T15:00:05.210286Z",
     "start_time": "2022-02-24T15:00:05.193330Z"
    }
   },
   "outputs": [
    {
     "data": {
      "text/plain": [
       "(590540, 110)"
      ]
     },
     "execution_count": 116,
     "metadata": {},
     "output_type": "execute_result"
    }
   ],
   "source": [
    "X.shape"
   ]
  },
  {
   "cell_type": "code",
   "execution_count": 158,
   "id": "2a69ecc3",
   "metadata": {
    "ExecuteTime": {
     "end_time": "2022-02-25T06:33:21.926981Z",
     "start_time": "2022-02-25T06:33:21.690430Z"
    }
   },
   "outputs": [],
   "source": [
    "X_train, X_test, y_train, y_test = train_test_split(X, y, test_size=0.3,\n",
    "                                                    shuffle=False,  random_state=42)"
   ]
  },
  {
   "cell_type": "code",
   "execution_count": 159,
   "id": "0c876440",
   "metadata": {
    "ExecuteTime": {
     "end_time": "2022-02-25T06:33:28.275951Z",
     "start_time": "2022-02-25T06:33:28.263248Z"
    }
   },
   "outputs": [],
   "source": [
    "param_rf1 = {\n",
    "    'criterion': ['gini'],\n",
    "    'ccp_alpha':[0],\n",
    "    'max_depth': [25],\n",
    "    'max_features': [8,12],\n",
    "    'min_samples_split': [100],\n",
    "    'n_estimators': [300]\n",
    "}"
   ]
  },
  {
   "cell_type": "code",
   "execution_count": 160,
   "id": "616f77e5",
   "metadata": {
    "ExecuteTime": {
     "end_time": "2022-02-25T06:33:38.757520Z",
     "start_time": "2022-02-25T06:33:38.751648Z"
    }
   },
   "outputs": [],
   "source": [
    "# rf1 = RandomForestClassifier(random_state=42)"
   ]
  },
  {
   "cell_type": "code",
   "execution_count": 161,
   "id": "9662fd46",
   "metadata": {
    "ExecuteTime": {
     "end_time": "2022-02-25T06:52:57.013980Z",
     "start_time": "2022-02-25T06:33:58.348164Z"
    }
   },
   "outputs": [
    {
     "name": "stdout",
     "output_type": "stream",
     "text": [
      "Fitting 5 folds for each of 2 candidates, totalling 10 fits\n"
     ]
    },
    {
     "data": {
      "text/plain": [
       "GridSearchCV(cv=5, estimator=RandomForestClassifier(random_state=42), n_jobs=-1,\n",
       "             param_grid={'ccp_alpha': [0], 'criterion': ['gini'],\n",
       "                         'max_depth': [25], 'max_features': [8, 12],\n",
       "                         'min_samples_split': [100], 'n_estimators': [300]},\n",
       "             scoring='roc_auc', verbose=1000)"
      ]
     },
     "execution_count": 161,
     "metadata": {},
     "output_type": "execute_result"
    }
   ],
   "source": [
    "# gs_rf1 = GridSearchCV(estimator = rf1, param_grid = param_rf1, scoring='roc_auc',\n",
    "#                           cv = 5, n_jobs = -1, verbose = 1000)\n",
    "# gs_rf1.fit(X_train, y_train)"
   ]
  },
  {
   "cell_type": "code",
   "execution_count": null,
   "id": "004ed2ad",
   "metadata": {
    "ExecuteTime": {
     "end_time": "2022-02-25T06:26:45.585294Z",
     "start_time": "2022-02-25T06:26:45.558857Z"
    },
    "scrolled": true
   },
   "outputs": [],
   "source": [
    "# gs_rf1.best_params_"
   ]
  },
  {
   "cell_type": "code",
   "execution_count": 154,
   "id": "19dd4e5a",
   "metadata": {
    "ExecuteTime": {
     "end_time": "2022-02-25T06:28:55.267829Z",
     "start_time": "2022-02-25T06:28:54.998905Z"
    }
   },
   "outputs": [],
   "source": [
    "filename_gs_rf1_be = '../Models/gs_rf1_be.sav'\n",
    "gs_rf1 = jb.load(filename_gs_rf1_be)\n",
    "\n",
    "# filename_gs_rf1 = '../Models/gs_rf1.sav'\n",
    "# jb.dump(gs_rf1.best_estimator_, filename_gs_rf1)"
   ]
  },
  {
   "cell_type": "code",
   "execution_count": 156,
   "id": "b975f33e",
   "metadata": {
    "ExecuteTime": {
     "end_time": "2022-02-25T06:30:04.498584Z",
     "start_time": "2022-02-25T06:30:04.491432Z"
    }
   },
   "outputs": [
    {
     "data": {
      "text/plain": [
       "RandomForestClassifier(ccp_alpha=0, max_depth=25, max_features=10,\n",
       "                       min_samples_split=50, n_estimators=450, random_state=42)"
      ]
     },
     "execution_count": 156,
     "metadata": {},
     "output_type": "execute_result"
    }
   ],
   "source": [
    "gs_rf1"
   ]
  },
  {
   "cell_type": "code",
   "execution_count": 162,
   "id": "5641a8a2",
   "metadata": {
    "ExecuteTime": {
     "end_time": "2022-02-25T06:53:27.377280Z",
     "start_time": "2022-02-25T06:53:19.621777Z"
    }
   },
   "outputs": [
    {
     "name": "stdout",
     "output_type": "stream",
     "text": [
      "              precision    recall  f1-score   support\n",
      "\n",
      "           0       0.97      1.00      0.99    171037\n",
      "           1       0.84      0.26      0.40      6125\n",
      "\n",
      "    accuracy                           0.97    177162\n",
      "   macro avg       0.91      0.63      0.69    177162\n",
      "weighted avg       0.97      0.97      0.97    177162\n",
      " /n\n",
      "best params:  GridSearchCV(cv=5, estimator=RandomForestClassifier(random_state=42), n_jobs=-1,\n",
      "             param_grid={'ccp_alpha': [0], 'criterion': ['gini'],\n",
      "                         'max_depth': [25], 'max_features': [8, 12],\n",
      "                         'min_samples_split': [100], 'n_estimators': [300]},\n",
      "             scoring='roc_auc', verbose=1000)\n"
     ]
    }
   ],
   "source": [
    "print(classification_report(y_test, gs_rf1.predict(X_test)),'/n')\n",
    "print('best params: ', gs_rf1)"
   ]
  },
  {
   "cell_type": "code",
   "execution_count": 163,
   "id": "b6c43dab",
   "metadata": {
    "ExecuteTime": {
     "end_time": "2022-02-25T06:54:07.935171Z",
     "start_time": "2022-02-25T06:53:59.956758Z"
    }
   },
   "outputs": [
    {
     "data": {
      "text/plain": [
       "<sklearn.metrics._plot.confusion_matrix.ConfusionMatrixDisplay at 0x2813fee3490>"
      ]
     },
     "execution_count": 163,
     "metadata": {},
     "output_type": "execute_result"
    },
    {
     "data": {
      "image/png": "[encoded data removed]",
      "text/plain": [
       "<Figure size 432x288 with 2 Axes>"
      ]
     },
     "metadata": {},
     "output_type": "display_data"
    }
   ],
   "source": [
    "plot_confusion_matrix(gs_rf1, X_test, y_test)"
   ]
  },
  {
   "cell_type": "code",
   "execution_count": 164,
   "id": "6423e473",
   "metadata": {
    "ExecuteTime": {
     "end_time": "2022-02-25T06:54:17.109124Z",
     "start_time": "2022-02-25T06:54:17.081907Z"
    }
   },
   "outputs": [],
   "source": [
    "feat_imp = gs_rf1.best_estimator_.feature_importances_"
   ]
  },
  {
   "cell_type": "code",
   "execution_count": 165,
   "id": "2ff98d3e",
   "metadata": {
    "ExecuteTime": {
     "end_time": "2022-02-25T06:54:23.806227Z",
     "start_time": "2022-02-25T06:54:23.792620Z"
    }
   },
   "outputs": [],
   "source": [
    "top_features = pd.DataFrame({'feature': X.columns , 'importance': feat_imp}).sort_values(\n",
    "    ['importance'], ascending=False).iloc[:30,:]"
   ]
  },
  {
   "cell_type": "code",
   "execution_count": 166,
   "id": "d43c23fb",
   "metadata": {
    "ExecuteTime": {
     "end_time": "2022-02-25T06:54:30.727700Z",
     "start_time": "2022-02-25T06:54:30.498530Z"
    }
   },
   "outputs": [
    {
     "data": {
      "image/png": "[encoded data removed]",
      "text/plain": [
       "<Figure size 576x576 with 1 Axes>"
      ]
     },
     "metadata": {},
     "output_type": "display_data"
    }
   ],
   "source": [
    "fig, ax = plt.subplots(figsize=(8,8))\n",
    "sns.barplot(x=top_features['importance'] , y = top_features['feature'])\n",
    "plt.title('RF feature importance', fontsize=14, \n",
    "            color='Darkorchid')\n",
    "plt.xlabel(None)\n",
    "plt.ylabel(None)\n",
    "plt.show()"
   ]
  },
  {
   "cell_type": "code",
   "execution_count": 167,
   "id": "75e9c004",
   "metadata": {
    "ExecuteTime": {
     "end_time": "2022-02-25T06:55:26.197234Z",
     "start_time": "2022-02-25T06:54:40.993997Z"
    }
   },
   "outputs": [
    {
     "data": {
      "text/plain": [
       "{'Model': 'RF1',\n",
       " 'CV mean ROC-AUC': 0.8965494117221681,\n",
       " 'ROC-AUC-train': 0.9763664284217599,\n",
       " 'ROC-AUC-test': 0.8866158364349617,\n",
       " 'Precision': 0.8433351035581519,\n",
       " 'Recall': 0.25926530612244897}"
      ]
     },
     "execution_count": 167,
     "metadata": {},
     "output_type": "execute_result"
    }
   ],
   "source": [
    "table = {'Model': 'RF1'}\n",
    "table['CV mean ROC-AUC'] = gs_rf1.best_score_\n",
    "table['ROC-AUC-train'] = gs_rf1.score(X_train, y_train)\n",
    "table['ROC-AUC-test'] = gs_rf1.score(X_test, y_test)\n",
    "table['Precision'] = precision_score(y_test, gs_rf1.predict(X_test))\n",
    "table['Recall'] = recall_score(y_test, gs_rf1.predict(X_test))\n",
    "table"
   ]
  },
  {
   "cell_type": "code",
   "execution_count": 171,
   "id": "7a4a2526",
   "metadata": {
    "ExecuteTime": {
     "end_time": "2022-02-25T06:56:06.488164Z",
     "start_time": "2022-02-25T06:56:06.460001Z"
    }
   },
   "outputs": [],
   "source": [
    "scoring_table.append(table)"
   ]
  },
  {
   "cell_type": "code",
   "execution_count": null,
   "id": "ab6585f9",
   "metadata": {
    "ExecuteTime": {
     "end_time": "2022-02-19T15:55:11.235551Z",
     "start_time": "2022-02-19T15:54:29.071004Z"
    }
   },
   "outputs": [],
   "source": [
    "# print('best params: ', gs_rf1.best_params_)\n",
    "# print('train score: ', gs_rf1.score(X_train, y_train))\n",
    "# print('test score: ', gs_rf1.score(X_test, y_test))\n",
    "# print('cross-val score: ', gs_rf1.best_score_)"
   ]
  },
  {
   "cell_type": "code",
   "execution_count": 174,
   "id": "f6c66661",
   "metadata": {
    "ExecuteTime": {
     "end_time": "2022-02-25T06:58:35.655702Z",
     "start_time": "2022-02-25T06:58:35.360193Z"
    }
   },
   "outputs": [
    {
     "data": {
      "text/plain": [
       "['../Models/gs_rf1.sav']"
      ]
     },
     "execution_count": 174,
     "metadata": {},
     "output_type": "execute_result"
    }
   ],
   "source": [
    "# filename_gs_rf1 = '../Models/gs_rf1.sav'\n",
    "# filename_gs_rf1_be = '../Models/gs_rf1_be.sav'\n",
    "# jb.dump(gs_rf1.best_estimator_, filename_gs_rf1_be)\n",
    "# jb.dump(gs_rf1, filename_gs_rf1)"
   ]
  },
  {
   "cell_type": "markdown",
   "id": "6b048bdc",
   "metadata": {},
   "source": [
    "<a id = '6.0'><a/>\n",
    "### 6.0 Neural nework\n",
    "* [Back To Top](#Content)"
   ]
  },
  {
   "cell_type": "markdown",
   "id": "23669910",
   "metadata": {},
   "source": [
    "<a id = '6.1'><a/>\n",
    "#### 6.1 Preprocessing\n",
    "* [Back To Top](#Content)"
   ]
  },
  {
   "cell_type": "code",
   "execution_count": 175,
   "id": "0b441015",
   "metadata": {
    "ExecuteTime": {
     "end_time": "2022-02-25T06:59:58.407976Z",
     "start_time": "2022-02-25T06:59:58.155007Z"
    }
   },
   "outputs": [],
   "source": [
    "X_train, X_test, y_train, y_test = train_test_split(X, y, test_size=0.5,\n",
    "                                                    shuffle=False,  random_state=42)"
   ]
  },
  {
   "cell_type": "code",
   "execution_count": 184,
   "id": "9d7931cd",
   "metadata": {
    "ExecuteTime": {
     "end_time": "2022-02-25T07:04:43.275028Z",
     "start_time": "2022-02-25T07:04:43.261863Z"
    }
   },
   "outputs": [],
   "source": [
    "non_cat = list( set(X_train.columns)-set(cat_col))"
   ]
  },
  {
   "cell_type": "code",
   "execution_count": null,
   "id": "e6854b78",
   "metadata": {
    "ExecuteTime": {
     "end_time": "2022-02-25T07:04:01.577217Z",
     "start_time": "2022-02-25T07:04:01.570083Z"
    },
    "scrolled": true
   },
   "outputs": [],
   "source": [
    "cat_col"
   ]
  },
  {
   "cell_type": "code",
   "execution_count": 185,
   "id": "1fa6c555",
   "metadata": {
    "ExecuteTime": {
     "end_time": "2022-02-25T07:04:49.840073Z",
     "start_time": "2022-02-25T07:04:49.827652Z"
    }
   },
   "outputs": [],
   "source": [
    "non_cat = [col for col in non_cat if col not in ['is_december', 'vcol_pca0', 'vcol_pca1',\n",
    "                                                'TransactionDT', 'TransactionID', 'DT_D']]"
   ]
  },
  {
   "cell_type": "code",
   "execution_count": 186,
   "id": "b43d4a6b",
   "metadata": {
    "ExecuteTime": {
     "end_time": "2022-02-25T07:05:03.496912Z",
     "start_time": "2022-02-25T07:04:56.469523Z"
    }
   },
   "outputs": [],
   "source": [
    "mms = MinMaxScaler()\n",
    "\n",
    "X_train[non_cat] = mms.fit_transform(X_train[non_cat])\n",
    "X_test[non_cat] = mms.transform(X_test[non_cat])"
   ]
  },
  {
   "cell_type": "code",
   "execution_count": 187,
   "id": "7c1442a4",
   "metadata": {
    "ExecuteTime": {
     "end_time": "2022-02-25T07:05:18.489391Z",
     "start_time": "2022-02-25T07:05:18.462854Z"
    }
   },
   "outputs": [
    {
     "data": {
      "text/plain": [
       "0.03499000914417313"
      ]
     },
     "execution_count": 187,
     "metadata": {},
     "output_type": "execute_result"
    }
   ],
   "source": [
    "pos=y.value_counts(normalize=True)[1]\n",
    "pos"
   ]
  },
  {
   "cell_type": "code",
   "execution_count": 190,
   "id": "569508dc",
   "metadata": {
    "ExecuteTime": {
     "end_time": "2022-02-25T07:07:42.233337Z",
     "start_time": "2022-02-25T07:07:42.223029Z"
    }
   },
   "outputs": [],
   "source": [
    "n_input = X_train.shape [1]\n",
    "\n",
    "pos = y.value_counts(normalize=True)[1]\n",
    "initial_bias = np.log([pos/(1-pos)])\n",
    "output_bias = Constant(initial_bias)\n"
   ]
  },
  {
   "cell_type": "markdown",
   "id": "e0f3ec79",
   "metadata": {},
   "source": [
    "<a id = '6.2'><a/>\n",
    "### 6.2 Neural network models 1\n",
    "* [Back To Top](#Content)"
   ]
  },
  {
   "cell_type": "code",
   "execution_count": 194,
   "id": "12a45d8b",
   "metadata": {
    "ExecuteTime": {
     "end_time": "2022-02-25T07:18:38.126298Z",
     "start_time": "2022-02-25T07:18:38.000595Z"
    }
   },
   "outputs": [],
   "source": [
    "n_input = X_train.shape [1]\n",
    "\n",
    "early_stop = EarlyStopping(monitor='val_prc', patience=10, verbose=1, mode='max')\n",
    "\n",
    "\n",
    "pos = y.value_counts(normalize=True)[1]\n",
    "initial_bias = np.log([pos/(1-pos)])\n",
    "output_bias = Constant(initial_bias)\n",
    "Metrics = [\n",
    "    Precision(name='precision'),\n",
    "    Recall(name='recall'),\n",
    "    AUC(name='auc'),\n",
    "    AUC(name='prc', curve='PR')\n",
    "]"
   ]
  },
  {
   "cell_type": "code",
   "execution_count": 195,
   "id": "f2891cc5",
   "metadata": {
    "ExecuteTime": {
     "end_time": "2022-02-25T07:18:45.146191Z",
     "start_time": "2022-02-25T07:18:44.940772Z"
    }
   },
   "outputs": [],
   "source": [
    "\n",
    "model_nn = Sequential()\n",
    "model_nn.add(Dense(70, input_dim=n_input, activation='relu'))\n",
    "model_nn.add(Dense(40, activation='relu'))\n",
    "model_nn.add(Dense(20, activation='relu'))\n",
    "model_nn.add(Dense(1, activation='sigmoid', bias_initializer=output_bias))\n",
    "\n",
    "\n",
    "model_nn.compile(loss='bce', optimizer='adam', metrics=Metrics)\n",
    "\n"
   ]
  },
  {
   "cell_type": "code",
   "execution_count": null,
   "id": "ecf7372a",
   "metadata": {
    "ExecuteTime": {
     "end_time": "2022-02-25T07:38:06.287189Z",
     "start_time": "2022-02-25T07:33:04.146400Z"
    },
    "scrolled": true
   },
   "outputs": [],
   "source": [
    "history = model_nn.fit(X_train, y_train, validation_data=(X_test, y_test),\n",
    "                      epochs=20, batch_size=None, class_weight={0:2, 1:98}, callbacks=[early_stop], verbose=2)"
   ]
  },
  {
   "cell_type": "code",
   "execution_count": 199,
   "id": "ccf010c7",
   "metadata": {
    "ExecuteTime": {
     "end_time": "2022-02-25T08:09:03.789670Z",
     "start_time": "2022-02-25T08:09:03.784476Z"
    }
   },
   "outputs": [
    {
     "name": "stdout",
     "output_type": "stream",
     "text": [
      "Model: \"sequential\"\n",
      "_________________________________________________________________\n",
      " Layer (type)                Output Shape              Param #   \n",
      "=================================================================\n",
      " dense (Dense)               (None, 70)                7770      \n",
      "                                                                 \n",
      " dense_1 (Dense)             (None, 40)                2840      \n",
      "                                                                 \n",
      " dense_2 (Dense)             (None, 20)                820       \n",
      "                                                                 \n",
      " dense_3 (Dense)             (None, 1)                 21        \n",
      "                                                                 \n",
      "=================================================================\n",
      "Total params: 11,451\n",
      "Trainable params: 11,451\n",
      "Non-trainable params: 0\n",
      "_________________________________________________________________\n"
     ]
    }
   ],
   "source": [
    "model_nn.summary()"
   ]
  },
  {
   "cell_type": "code",
   "execution_count": 200,
   "id": "7fa3a79a",
   "metadata": {
    "ExecuteTime": {
     "end_time": "2022-02-25T08:09:14.650150Z",
     "start_time": "2022-02-25T08:09:10.049824Z"
    }
   },
   "outputs": [
    {
     "name": "stdout",
     "output_type": "stream",
     "text": [
      "Loss: 0.5347\n"
     ]
    }
   ],
   "source": [
    "results = model_nn.evaluate(X_test, y_test,  verbose=0)\n",
    "print(\"Loss: {:0.4f}\".format(results[0]))"
   ]
  },
  {
   "cell_type": "code",
   "execution_count": 204,
   "id": "48f2c650",
   "metadata": {
    "ExecuteTime": {
     "end_time": "2022-02-25T08:10:28.553101Z",
     "start_time": "2022-02-25T08:10:28.469735Z"
    }
   },
   "outputs": [
    {
     "data": {
      "image/png": "[encoded data removed]",
      "text/plain": [
       "<Figure size 432x288 with 1 Axes>"
      ]
     },
     "metadata": {},
     "output_type": "display_data"
    }
   ],
   "source": [
    "plt.plot(history.epoch, history.history['loss'], c='g');      # green - training loss\n",
    "plt.plot(history.epoch, history.history['val_loss'], c='b');  # blue - test loss"
   ]
  },
  {
   "cell_type": "code",
   "execution_count": 205,
   "id": "61acc4d8",
   "metadata": {
    "ExecuteTime": {
     "end_time": "2022-02-25T08:11:10.916985Z",
     "start_time": "2022-02-25T08:11:08.242691Z"
    }
   },
   "outputs": [],
   "source": [
    "pred_model_nn = model_nn.predict(X_test)"
   ]
  },
  {
   "cell_type": "code",
   "execution_count": 206,
   "id": "6ba77c9c",
   "metadata": {
    "ExecuteTime": {
     "end_time": "2022-02-25T08:11:17.572099Z",
     "start_time": "2022-02-25T08:11:17.547981Z"
    }
   },
   "outputs": [
    {
     "data": {
      "text/plain": [
       "0.2521556541470519"
      ]
     },
     "execution_count": 206,
     "metadata": {},
     "output_type": "execute_result"
    }
   ],
   "source": [
    "np.round(pred_model_nn).sum()/len(pred_model_nn)"
   ]
  },
  {
   "cell_type": "code",
   "execution_count": 207,
   "id": "a8598499",
   "metadata": {
    "ExecuteTime": {
     "end_time": "2022-02-25T08:11:25.504923Z",
     "start_time": "2022-02-25T08:11:24.278780Z"
    },
    "scrolled": true
   },
   "outputs": [
    {
     "name": "stdout",
     "output_type": "stream",
     "text": [
      "\n",
      "\n",
      "***Confusion Matrix***\n",
      "\n"
     ]
    },
    {
     "data": {
      "text/html": [
       "<div>\n",
       "<style scoped>\n",
       "    .dataframe tbody tr th:only-of-type {\n",
       "        vertical-align: middle;\n",
       "    }\n",
       "\n",
       "    .dataframe tbody tr th {\n",
       "        vertical-align: top;\n",
       "    }\n",
       "\n",
       "    .dataframe thead th {\n",
       "        text-align: right;\n",
       "    }\n",
       "</style>\n",
       "<table border=\"1\" class=\"dataframe\">\n",
       "  <thead>\n",
       "    <tr style=\"text-align: right;\">\n",
       "      <th></th>\n",
       "      <th>Predicted notFraud</th>\n",
       "      <th>Predicted isFraud</th>\n",
       "    </tr>\n",
       "  </thead>\n",
       "  <tbody>\n",
       "    <tr>\n",
       "      <th>notFraud</th>\n",
       "      <td>217891</td>\n",
       "      <td>66610</td>\n",
       "    </tr>\n",
       "    <tr>\n",
       "      <th>isFraud</th>\n",
       "      <td>2925</td>\n",
       "      <td>7844</td>\n",
       "    </tr>\n",
       "  </tbody>\n",
       "</table>\n",
       "</div>"
      ],
      "text/plain": [
       "          Predicted notFraud  Predicted isFraud\n",
       "notFraud              217891              66610\n",
       "isFraud                 2925               7844"
      ]
     },
     "metadata": {},
     "output_type": "display_data"
    },
    {
     "name": "stdout",
     "output_type": "stream",
     "text": [
      "\n",
      "Scores:\n",
      "------------------------------ \n",
      "\n",
      "Fraud recall:   0.73\n",
      "Fraud precision: 0.11\n"
     ]
    }
   ],
   "source": [
    "plot_cmatrix(y_test, np.round(pred_model_nn))"
   ]
  },
  {
   "cell_type": "code",
   "execution_count": 211,
   "id": "a7e44375",
   "metadata": {
    "ExecuteTime": {
     "end_time": "2022-02-25T08:17:44.296178Z",
     "start_time": "2022-02-25T08:17:41.421411Z"
    }
   },
   "outputs": [
    {
     "data": {
      "text/plain": [
       "0.8288812292646751"
      ]
     },
     "execution_count": 211,
     "metadata": {},
     "output_type": "execute_result"
    }
   ],
   "source": [
    "roc_auc_score(y_train, model_nn.predict(X_train))"
   ]
  },
  {
   "cell_type": "code",
   "execution_count": 212,
   "id": "060a1fcc",
   "metadata": {
    "ExecuteTime": {
     "end_time": "2022-02-25T08:20:35.930692Z",
     "start_time": "2022-02-25T08:20:30.425437Z"
    }
   },
   "outputs": [
    {
     "data": {
      "text/plain": [
       "{'Model': 'CNN1',\n",
       " 'CV mean ROC-AUC': 'N/A',\n",
       " 'ROC-AUC-train': 0.9156116515089099,\n",
       " 'ROC-AUC-test': 0.8217454628760483,\n",
       " 'Precision': 0.10535364117441642,\n",
       " 'Recall': 0.7283870368650757}"
      ]
     },
     "execution_count": 212,
     "metadata": {},
     "output_type": "execute_result"
    }
   ],
   "source": [
    "table = {'Model': 'CNN1'}\n",
    "\n",
    "table['CV mean ROC-AUC'] = 'N/A'\n",
    "table['ROC-AUC-train'] = roc_auc_score(y_train, model_nn.predict(X_train))\n",
    "table['ROC-AUC-test'] = roc_auc_score(y_test, model_nn.predict(X_test))\n",
    "table['Precision'] = precision_score(y_test, np.round(pred_model_nn))\n",
    "table['Recall'] = recall_score(y_test,np.round(pred_model_nn))\n",
    "table"
   ]
  },
  {
   "cell_type": "code",
   "execution_count": null,
   "id": "2f0f974d",
   "metadata": {
    "ExecuteTime": {
     "end_time": "2022-02-21T05:20:43.653258Z",
     "start_time": "2022-02-21T05:20:43.104402Z"
    }
   },
   "outputs": [],
   "source": [
    "# model_nn.save('../Models/model_nn.sav')\n",
    "# model_nn_loaded = keras.models.load_model('../Models/model_nn.sav')"
   ]
  },
  {
   "cell_type": "code",
   "execution_count": 217,
   "id": "9db1a872",
   "metadata": {
    "ExecuteTime": {
     "end_time": "2022-02-25T08:37:29.051649Z",
     "start_time": "2022-02-25T08:37:29.025814Z"
    }
   },
   "outputs": [],
   "source": [
    "scoring_table.append(table)"
   ]
  },
  {
   "cell_type": "markdown",
   "id": "882e0a59",
   "metadata": {},
   "source": [
    "<a id = '6.3'><a/>\n",
    "### 6.3 Neural network model 3\n",
    "* [Back To Top](#Content)"
   ]
  },
  {
   "cell_type": "markdown",
   "id": "7e4a99b6",
   "metadata": {},
   "source": [
    "- add learning rate of 0.01 and in tandem, ReduceLROnPlateau callback to reduce the said learning rate by a factor of 0.3 on each 3 epochs with no improvement in validation auc-roc."
   ]
  },
  {
   "cell_type": "code",
   "execution_count": 218,
   "id": "e649c89e",
   "metadata": {
    "ExecuteTime": {
     "end_time": "2022-02-25T08:38:11.247416Z",
     "start_time": "2022-02-25T08:38:11.216051Z"
    }
   },
   "outputs": [],
   "source": [
    "#callbacks\n",
    "early_stop = EarlyStopping(monitor='val_auc', patience=15, verbose=1, mode='max')\n",
    "reduce_lr = ReduceLROnPlateau(monitor='val_auc', factor=0.3,\n",
    "                              patience=3, min_lr=0.001)\n",
    "\n",
    "\n",
    "Metrics = [\n",
    "    Precision(name='precision'),\n",
    "    Recall(name='recall'),\n",
    "    AUC(name='auc'),\n",
    "    AUC(name='prc', curve='PR')\n",
    "]"
   ]
  },
  {
   "cell_type": "code",
   "execution_count": 219,
   "id": "c166b2bc",
   "metadata": {
    "ExecuteTime": {
     "end_time": "2022-02-25T08:38:17.904391Z",
     "start_time": "2022-02-25T08:38:17.873737Z"
    }
   },
   "outputs": [],
   "source": [
    "model_nn2 = Sequential()\n",
    "model_nn2.add(Dense(100, input_dim=n_input, activation='relu'))\n",
    "model_nn2.add(Dense(50, activation='relu'))\n",
    "model_nn2.add(Dense(25, activation='relu'))\n",
    "model_nn2.add(Dense(1, activation='sigmoid', bias_initializer=output_bias))\n",
    "\n",
    "\n",
    "opt = keras.optimizers.Adam(learning_rate=0.01)\n",
    "model_nn2.compile(loss='bce', optimizer=opt, metrics=Metrics)"
   ]
  },
  {
   "cell_type": "code",
   "execution_count": null,
   "id": "4b949598",
   "metadata": {
    "ExecuteTime": {
     "end_time": "2022-02-25T08:51:05.885394Z",
     "start_time": "2022-02-25T08:38:24.681292Z"
    },
    "scrolled": false
   },
   "outputs": [],
   "source": [
    "history_new = model_nn2.fit(X_train, y_train, validation_data=(X_test, y_test),\n",
    "                      epochs=50, batch_size=None, class_weight={0:3, 1:97}, callbacks=[early_stop, reduce_lr], verbose=2)"
   ]
  },
  {
   "cell_type": "code",
   "execution_count": 221,
   "id": "4d2070da",
   "metadata": {
    "ExecuteTime": {
     "end_time": "2022-02-25T09:14:05.194227Z",
     "start_time": "2022-02-25T09:14:05.098811Z"
    }
   },
   "outputs": [
    {
     "data": {
      "image/png": "[encoded data removed]",
      "text/plain": [
       "<Figure size 432x288 with 1 Axes>"
      ]
     },
     "metadata": {},
     "output_type": "display_data"
    }
   ],
   "source": [
    "plt.plot(history_new.epoch, history_new.history['loss'], c='g');      # green - training loss\n",
    "plt.plot(history_new.epoch, history_new.history['val_loss'], c='b');  # blue - test loss"
   ]
  },
  {
   "cell_type": "code",
   "execution_count": null,
   "id": "5c9c391d",
   "metadata": {},
   "outputs": [],
   "source": []
  },
  {
   "cell_type": "code",
   "execution_count": 222,
   "id": "386af760",
   "metadata": {
    "ExecuteTime": {
     "end_time": "2022-02-25T09:14:14.277561Z",
     "start_time": "2022-02-25T09:14:11.475500Z"
    }
   },
   "outputs": [],
   "source": [
    "pred_model_nn2 = model_nn2.predict(X_test)"
   ]
  },
  {
   "cell_type": "code",
   "execution_count": 223,
   "id": "1a324b3a",
   "metadata": {
    "ExecuteTime": {
     "end_time": "2022-02-25T09:14:20.679656Z",
     "start_time": "2022-02-25T09:14:20.656569Z"
    }
   },
   "outputs": [
    {
     "data": {
      "text/plain": [
       "0.20365089579029363"
      ]
     },
     "execution_count": 223,
     "metadata": {},
     "output_type": "execute_result"
    }
   ],
   "source": [
    "np.round(pred_model_nn2).sum()/len(pred_model_nn)"
   ]
  },
  {
   "cell_type": "code",
   "execution_count": 224,
   "id": "2b115367",
   "metadata": {
    "ExecuteTime": {
     "end_time": "2022-02-25T09:14:28.427263Z",
     "start_time": "2022-02-25T09:14:27.230783Z"
    },
    "scrolled": true
   },
   "outputs": [
    {
     "name": "stdout",
     "output_type": "stream",
     "text": [
      "\n",
      "\n",
      "***Confusion Matrix***\n",
      "\n"
     ]
    },
    {
     "data": {
      "text/html": [
       "<div>\n",
       "<style scoped>\n",
       "    .dataframe tbody tr th:only-of-type {\n",
       "        vertical-align: middle;\n",
       "    }\n",
       "\n",
       "    .dataframe tbody tr th {\n",
       "        vertical-align: top;\n",
       "    }\n",
       "\n",
       "    .dataframe thead th {\n",
       "        text-align: right;\n",
       "    }\n",
       "</style>\n",
       "<table border=\"1\" class=\"dataframe\">\n",
       "  <thead>\n",
       "    <tr style=\"text-align: right;\">\n",
       "      <th></th>\n",
       "      <th>Predicted notFraud</th>\n",
       "      <th>Predicted isFraud</th>\n",
       "    </tr>\n",
       "  </thead>\n",
       "  <tbody>\n",
       "    <tr>\n",
       "      <th>notFraud</th>\n",
       "      <td>231653</td>\n",
       "      <td>52848</td>\n",
       "    </tr>\n",
       "    <tr>\n",
       "      <th>isFraud</th>\n",
       "      <td>3485</td>\n",
       "      <td>7284</td>\n",
       "    </tr>\n",
       "  </tbody>\n",
       "</table>\n",
       "</div>"
      ],
      "text/plain": [
       "          Predicted notFraud  Predicted isFraud\n",
       "notFraud              231653              52848\n",
       "isFraud                 3485               7284"
      ]
     },
     "metadata": {},
     "output_type": "display_data"
    },
    {
     "name": "stdout",
     "output_type": "stream",
     "text": [
      "\n",
      "Scores:\n",
      "------------------------------ \n",
      "\n",
      "Fraud recall:   0.68\n",
      "Fraud precision: 0.12\n"
     ]
    }
   ],
   "source": [
    "plot_cmatrix(y_test, np.round(pred_model_nn2))"
   ]
  },
  {
   "cell_type": "code",
   "execution_count": 225,
   "id": "96e871cc",
   "metadata": {
    "ExecuteTime": {
     "end_time": "2022-02-25T09:14:41.299685Z",
     "start_time": "2022-02-25T09:14:35.109557Z"
    }
   },
   "outputs": [
    {
     "data": {
      "text/plain": [
       "{'Model': 'CNN2-rlr',\n",
       " 'CV mean ROC-AUC': 'N/A',\n",
       " 'ROC-AUC-train': 0.8773237798574737,\n",
       " 'ROC-AUC-test': 0.8202745229182257,\n",
       " 'Precision': 0.12113350628617042,\n",
       " 'Recall': 0.6763859225554834}"
      ]
     },
     "execution_count": 225,
     "metadata": {},
     "output_type": "execute_result"
    }
   ],
   "source": [
    "table = {'Model': 'CNN2-rlr'}\n",
    "\n",
    "table['CV mean ROC-AUC'] = 'N/A'\n",
    "table['ROC-AUC-train'] = roc_auc_score(y_train, model_nn2.predict(X_train))\n",
    "table['ROC-AUC-test'] = roc_auc_score(y_test, model_nn2.predict(X_test))\n",
    "table['Precision'] = precision_score(y_test, np.round(pred_model_nn2))\n",
    "table['Recall'] = recall_score(y_test,np.round(pred_model_nn2))\n",
    "table"
   ]
  },
  {
   "cell_type": "code",
   "execution_count": 229,
   "id": "e7468c2b",
   "metadata": {
    "ExecuteTime": {
     "end_time": "2022-02-25T13:30:29.604377Z",
     "start_time": "2022-02-25T13:30:29.580612Z"
    }
   },
   "outputs": [
    {
     "data": {
      "text/plain": [
       "[{'Model': 'LGBM_enc1',\n",
       "  'CV mean ROC-AUC': 0.9242801082771159,\n",
       "  'ROC-AUC-train': 0.9254746112929142,\n",
       "  'ROC-AUC-test': 0.8988196375723794,\n",
       "  'Precision': 0.8115737473535639,\n",
       "  'Recall': 0.32036400780016716},\n",
       " {'Model': 'LGBM_enc2_W',\n",
       "  'CV mean ROC-AUC': 0.9064810343220386,\n",
       "  'ROC-AUC-train': 0.9041648974402643,\n",
       "  'ROC-AUC-test': 0.8738520789626306,\n",
       "  'Precision': 0.36795556505020294,\n",
       "  'Recall': 0.5133830104321908},\n",
       " {'Model': 'LGBM_enc32',\n",
       "  'CV mean ROC-AUC': 0.9239109462254117,\n",
       "  'ROC-AUC-train': 0.925275221536445,\n",
       "  'ROC-AUC-test': 0.9001890538059367,\n",
       "  'Precision': 0.8185053380782918,\n",
       "  'Recall': 0.32036400780016716},\n",
       " {'Model': 'RF1',\n",
       "  'CV mean ROC-AUC': 0.8965494117221681,\n",
       "  'ROC-AUC-train': 0.9763664284217599,\n",
       "  'ROC-AUC-test': 0.8866158364349617,\n",
       "  'Precision': 0.8433351035581519,\n",
       "  'Recall': 0.25926530612244897},\n",
       " {'Model': 'CNN2-rlr',\n",
       "  'CV mean ROC-AUC': 'N/A',\n",
       "  'ROC-AUC-train': 0.8773237798574737,\n",
       "  'ROC-AUC-test': 0.8202745229182257,\n",
       "  'Precision': 0.12113350628617042,\n",
       "  'Recall': 0.6763859225554834}]"
      ]
     },
     "execution_count": 229,
     "metadata": {},
     "output_type": "execute_result"
    }
   ],
   "source": [
    "scoring_table.append(table)\n",
    "scoring_table"
   ]
  },
  {
   "cell_type": "code",
   "execution_count": 228,
   "id": "4a458485",
   "metadata": {
    "ExecuteTime": {
     "end_time": "2022-02-25T13:29:51.802724Z",
     "start_time": "2022-02-25T13:29:51.778564Z"
    }
   },
   "outputs": [
    {
     "data": {
      "text/plain": [
       "{'Model': 'CNN1',\n",
       " 'CV mean ROC-AUC': 'N/A',\n",
       " 'ROC-AUC-train': 0.9156116515089099,\n",
       " 'ROC-AUC-test': 0.8217454628760483,\n",
       " 'Precision': 0.10535364117441642,\n",
       " 'Recall': 0.7283870368650757}"
      ]
     },
     "execution_count": 228,
     "metadata": {},
     "output_type": "execute_result"
    }
   ],
   "source": [
    "# table1"
   ]
  },
  {
   "cell_type": "code",
   "execution_count": null,
   "id": "a7d7e3b7",
   "metadata": {
    "ExecuteTime": {
     "end_time": "2022-02-21T07:11:47.418805Z",
     "start_time": "2022-02-21T07:11:47.212075Z"
    }
   },
   "outputs": [],
   "source": [
    "# model_nn2.save('../Models/model_nn2.sav')\n",
    "# model_nn2_loaded = keras.models.load_model('../Models/model_nn2.sav')"
   ]
  },
  {
   "cell_type": "code",
   "execution_count": 230,
   "id": "a9d5afab",
   "metadata": {
    "ExecuteTime": {
     "end_time": "2022-02-25T13:31:28.574940Z",
     "start_time": "2022-02-25T13:31:28.567499Z"
    }
   },
   "outputs": [
    {
     "data": {
      "text/plain": [
       "[9, 1, 4, 5]"
      ]
     },
     "execution_count": 230,
     "metadata": {},
     "output_type": "execute_result"
    }
   ],
   "source": [
    "[9,1]+[4,5]"
   ]
  },
  {
   "cell_type": "code",
   "execution_count": 232,
   "id": "3083d94b",
   "metadata": {
    "ExecuteTime": {
     "end_time": "2022-02-25T13:34:12.379697Z",
     "start_time": "2022-02-25T13:34:12.366200Z"
    }
   },
   "outputs": [],
   "source": [
    "#copy paste the scoring table from the previous notebook and add it to this one\n",
    "new_table = [{'Model': 'LGBM1',\n",
    "  'CV mean ROC-AUC': 0.9237209868128602,\n",
    "  'ROC-AUC-train': 0.9249212975379344,\n",
    "  'ROC-AUC-test': 0.8878715164195475,\n",
    "  'Precision': 0.8689538807649044,\n",
    "  'Recall': 0.28693472002971493},\n",
    " {'Model': 'LGBM2',\n",
    "  'CV mean ROC-AUC': 0.9138002901461071,\n",
    "  'ROC-AUC-train': 0.911785761942706,\n",
    "  'ROC-AUC-test': 0.8718071234245038,\n",
    "  'Precision': 0.8643410852713178,\n",
    "  'Recall': 0.2691986256848361},\n",
    " {'Model': 'LGBM3-wght',\n",
    "  'CV mean ROC-AUC': 0.9006955440640529,\n",
    "  'ROC-AUC-train': 0.8946079476688565,\n",
    "  'ROC-AUC-test': 0.8962648396644237,\n",
    "  'Precision': 0.4997057092407298,\n",
    "  'Recall': 0.49941176470588233}] + scoring_table"
   ]
  },
  {
   "cell_type": "code",
   "execution_count": 261,
   "id": "fee6b126",
   "metadata": {
    "ExecuteTime": {
     "end_time": "2022-02-26T05:47:47.106396Z",
     "start_time": "2022-02-26T05:47:47.094349Z"
    }
   },
   "outputs": [
    {
     "data": {
      "text/html": [
       "<div>\n",
       "<style scoped>\n",
       "    .dataframe tbody tr th:only-of-type {\n",
       "        vertical-align: middle;\n",
       "    }\n",
       "\n",
       "    .dataframe tbody tr th {\n",
       "        vertical-align: top;\n",
       "    }\n",
       "\n",
       "    .dataframe thead th {\n",
       "        text-align: right;\n",
       "    }\n",
       "</style>\n",
       "<table border=\"1\" class=\"dataframe\">\n",
       "  <thead>\n",
       "    <tr style=\"text-align: right;\">\n",
       "      <th></th>\n",
       "      <th>Model</th>\n",
       "      <th>CV mean ROC-AUC</th>\n",
       "      <th>ROC-AUC-train</th>\n",
       "      <th>ROC-AUC-test</th>\n",
       "      <th>Precision</th>\n",
       "      <th>Recall</th>\n",
       "    </tr>\n",
       "  </thead>\n",
       "  <tbody>\n",
       "    <tr>\n",
       "      <th>0</th>\n",
       "      <td>LGBM1</td>\n",
       "      <td>0.924</td>\n",
       "      <td>0.925</td>\n",
       "      <td>0.888</td>\n",
       "      <td>0.869</td>\n",
       "      <td>0.287</td>\n",
       "    </tr>\n",
       "    <tr>\n",
       "      <th>1</th>\n",
       "      <td>LGBM2</td>\n",
       "      <td>0.914</td>\n",
       "      <td>0.912</td>\n",
       "      <td>0.872</td>\n",
       "      <td>0.864</td>\n",
       "      <td>0.269</td>\n",
       "    </tr>\n",
       "    <tr>\n",
       "      <th>2</th>\n",
       "      <td>LGBM3-wght</td>\n",
       "      <td>0.901</td>\n",
       "      <td>0.895</td>\n",
       "      <td>0.896</td>\n",
       "      <td>0.500</td>\n",
       "      <td>0.499</td>\n",
       "    </tr>\n",
       "    <tr>\n",
       "      <th>3</th>\n",
       "      <td>LGBM_enc1</td>\n",
       "      <td>0.924</td>\n",
       "      <td>0.925</td>\n",
       "      <td>0.899</td>\n",
       "      <td>0.812</td>\n",
       "      <td>0.320</td>\n",
       "    </tr>\n",
       "    <tr>\n",
       "      <th>4</th>\n",
       "      <td>LGBM_enc2_W</td>\n",
       "      <td>0.906</td>\n",
       "      <td>0.904</td>\n",
       "      <td>0.874</td>\n",
       "      <td>0.368</td>\n",
       "      <td>0.513</td>\n",
       "    </tr>\n",
       "    <tr>\n",
       "      <th>5</th>\n",
       "      <td>LGBM_enc32</td>\n",
       "      <td>0.924</td>\n",
       "      <td>0.925</td>\n",
       "      <td>0.900</td>\n",
       "      <td>0.819</td>\n",
       "      <td>0.320</td>\n",
       "    </tr>\n",
       "    <tr>\n",
       "      <th>6</th>\n",
       "      <td>RF1</td>\n",
       "      <td>0.897</td>\n",
       "      <td>0.976</td>\n",
       "      <td>0.887</td>\n",
       "      <td>0.843</td>\n",
       "      <td>0.259</td>\n",
       "    </tr>\n",
       "    <tr>\n",
       "      <th>7</th>\n",
       "      <td>CNN2-rlr</td>\n",
       "      <td>NaN</td>\n",
       "      <td>0.877</td>\n",
       "      <td>0.820</td>\n",
       "      <td>0.121</td>\n",
       "      <td>0.676</td>\n",
       "    </tr>\n",
       "  </tbody>\n",
       "</table>\n",
       "</div>"
      ],
      "text/plain": [
       "         Model  CV mean ROC-AUC  ROC-AUC-train  ROC-AUC-test  Precision  \\\n",
       "0        LGBM1            0.924          0.925         0.888      0.869   \n",
       "1        LGBM2            0.914          0.912         0.872      0.864   \n",
       "2   LGBM3-wght            0.901          0.895         0.896      0.500   \n",
       "3    LGBM_enc1            0.924          0.925         0.899      0.812   \n",
       "4  LGBM_enc2_W            0.906          0.904         0.874      0.368   \n",
       "5   LGBM_enc32            0.924          0.925         0.900      0.819   \n",
       "6          RF1            0.897          0.976         0.887      0.843   \n",
       "7     CNN2-rlr              NaN          0.877         0.820      0.121   \n",
       "\n",
       "   Recall  \n",
       "0   0.287  \n",
       "1   0.269  \n",
       "2   0.499  \n",
       "3   0.320  \n",
       "4   0.513  \n",
       "5   0.320  \n",
       "6   0.259  \n",
       "7   0.676  "
      ]
     },
     "execution_count": 261,
     "metadata": {},
     "output_type": "execute_result"
    }
   ],
   "source": [
    "models = pd.DataFrame(new_table).replace('N/A', np.nan).round(3)\n",
    "models"
   ]
  },
  {
   "cell_type": "code",
   "execution_count": 262,
   "id": "cb39a91b",
   "metadata": {
    "ExecuteTime": {
     "end_time": "2022-02-26T05:50:00.955027Z",
     "start_time": "2022-02-26T05:50:00.922958Z"
    }
   },
   "outputs": [],
   "source": [
    "models.to_csv('../datasets/models_tablefinal.csv', index=False)"
   ]
  },
  {
   "cell_type": "code",
   "execution_count": 301,
   "id": "2133c412",
   "metadata": {
    "ExecuteTime": {
     "end_time": "2022-02-27T13:33:01.045876Z",
     "start_time": "2022-02-27T13:33:01.014103Z"
    }
   },
   "outputs": [],
   "source": [
    "def highlight(s, value, column):\n",
    "    \"\"\" the function takes a df, a value and a column and highlights \n",
    "    rows in the df where the column cell equals the value\n",
    "    \"\"\"\n",
    "    is_max = pd.Series(data=False, index=s.index)\n",
    "    is_max[column] = (s.loc[column] == value)\n",
    "    return ['background-color: lightsalmon' if is_max.any() else '' for v in is_max]"
   ]
  },
  {
   "cell_type": "code",
   "execution_count": null,
   "id": "040eb098",
   "metadata": {
    "ExecuteTime": {
     "end_time": "2022-03-01T14:23:26.591259Z",
     "start_time": "2022-03-01T14:23:26.470390Z"
    },
    "scrolled": true
   },
   "outputs": [],
   "source": [
    "models.style.apply(highlight, value=0.899, column=['ROC-AUC-test'], axis=1)"
   ]
  },
  {
   "cell_type": "markdown",
   "id": "32cd6291",
   "metadata": {},
   "source": [
    "<a id = '7.0'><a/>\n",
    "### 7.0 Conclusions\n",
    "* [Back To Top](#Content)"
   ]
  },
  {
   "cell_type": "markdown",
   "id": "d46c9f3f",
   "metadata": {},
   "source": [
    "- As we can see in the table above, many of the models we ran have a similar ROC-AUC score in the range of 0.88-0.90. Of course, when it comes to issues as important at credit card fraud, every percentage point matters, and in a dataset as unbalanced as this one, where only 3.5% of rows are fraud, every little improvement is hard to come by.\n",
    "\n",
    "- The first 3 models (0, 1, and 2) are run on a dataset without encoded categorical features and without filled-in null values. That was done because the model used was Light GBM which handles nulls and categorical columns internally better than if it had been undertaken by us\n",
    "\n",
    "- the results of the model 2 (LGBM3-wght) are a fluke. Firstly, it test score is higher than its train score which doesn't make any sense. Secondly, we added weights to counter the unbalanced data which should result in higher recall and lower ROC-AUC, as focusing on positive (fraud) outcome uncovers more of them at the expense of overall test metrics. Instead the ROC-AUC went up, counter-intuitively. Normally we would reshuffle the train and test data to double-check such results, but since chronological data does not get shuffled, we couldn't do that.\n",
    "\n",
    "- After encoding (models 3 and up) we could run different classifiers (RF, NN) in addition to re-running the LGBM. The results of LGBM are generally better after encoding (dummy and hash) than before. The conclusions we can draw from that are that: splitting key features with low cardinality increased the predictive power of our model, as expected. Moreover, we can conclude that hash encoding,  by 'compacting' many high-cardinality features into only 8 columns managed to preserve predictive power of the model. That is a laudable achievement for our hash-encoder as it gives us a way to model categorical data without exploding the size of our dataset.\n",
    "\n",
    "- model 5 - LGBM with a 32-bit hash encoding (rather than previously used 8-bit one) did not result in any improvement, despite the additional 24 columns of hashing space. Hence, the model 3 is preferred as it's exactly the same as model 5, but it takes up 24 fewer columns\n",
    "\n",
    "- model 7, the Keras Neural Network Classifier, while not ideally suited for unbalanced classification, managed to produce a model with the highest recall score of 0.676 - catching more than 2/3 of fraudulent transaction. Industry standard is 50%, so that's quite good. The downside is that the precision is quite low, so many legitimate transactions will get delayed or declined.\n",
    "\n",
    "\n",
    "**WAY FORWARD**\n",
    "\n",
    "- these models took an average of less than an hour to run on a laptop with only 4 cores. That is amazing when you consider we started out with a dataset with 500k rows and 400+ columns. It would be interesting to compare the results of our model number 3 to a model run on the entire dataset (which would end up having more than a 1000 columns once categorical variable are encoded). Would there be a noticeable jump in performance? By how much?\n",
    "\n",
    "-  use behavioral analytics to identify bad actors across a range of online misconducts including counterfeit products, fake reviews, malware and illegal content. By casting a wider net, we can learn more about patterns common to fraud. This would result in a diversified new set of features for machines to train on."
   ]
  }
 ],
 "metadata": {
  "kernelspec": {
   "display_name": "Python 3",
   "language": "python",
   "name": "python3"
  },
  "language_info": {
   "codemirror_mode": {
    "name": "ipython",
    "version": 3
   },
   "file_extension": ".py",
   "mimetype": "text/x-python",
   "name": "python",
   "nbconvert_exporter": "python",
   "pygments_lexer": "ipython3",
   "version": "3.8.8"
  },
  "toc": {
   "base_numbering": 1,
   "nav_menu": {},
   "number_sections": false,
   "sideBar": true,
   "skip_h1_title": false,
   "title_cell": "Table of Contents",
   "title_sidebar": "Contents",
   "toc_cell": false,
   "toc_position": {
    "height": "calc(100% - 180px)",
    "left": "10px",
    "top": "150px",
    "width": "386.545px"
   },
   "toc_section_display": true,
   "toc_window_display": true
  },
  "varInspector": {
   "cols": {
    "lenName": 16,
    "lenType": 16,
    "lenVar": 40
   },
   "kernels_config": {
    "python": {
     "delete_cmd_postfix": "",
     "delete_cmd_prefix": "del ",
     "library": "var_list.py",
     "varRefreshCmd": "print(var_dic_list())"
    },
    "r": {
     "delete_cmd_postfix": ") ",
     "delete_cmd_prefix": "rm(",
     "library": "var_list.r",
     "varRefreshCmd": "cat(var_dic_list()) "
    }
   },
   "types_to_exclude": [
    "module",
    "function",
    "builtin_function_or_method",
    "instance",
    "_Feature"
   ],
   "window_display": false
  }
 },
 "nbformat": 4,
 "nbformat_minor": 5
}
